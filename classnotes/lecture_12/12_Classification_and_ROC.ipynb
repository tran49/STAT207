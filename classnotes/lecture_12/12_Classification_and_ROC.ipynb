{
 "cells": [
  {
   "cell_type": "markdown",
   "metadata": {},
   "source": [
    "<script>\n",
    "    document.querySelector('head').innerHTML += '<style>.slides { zoom: 1.0 !important; }</style>';\n",
    "</script>\n",
    "<!--# STAT 207: Data Science Exploration-->"
   ]
  },
  {
   "cell_type": "markdown",
   "metadata": {},
   "source": [
    "<h1 style=\"color:blue;\">Unit 12: Classification and ROC Analysis</h1>\n",
    "\n",
    "The previous section explored logistic regression as a tool for modeling the dependence of a binary response variable on other exogenous variables. Once a the model is built, it is possible to use it for prediction purposes, by viewing the logistic regression model as a **classification algorithm**. In this usage, the estimated probabilities (fitted values) from the logistic regression model provide scores that can be thresholded to create a 0/1 classfier.\n",
    "\n",
    "For example, suppose we have a model that provides a probability of rain each day. We might view a fitted probability greater than or equal to 50% as a prediction of rain, and a fitted probability less than 50% as a prediction of no rain. \n",
    "\n",
    "How good is the classifer? The confusion matrix provides a way to keep track of the performance by cross classifying the true and predicted classes. From the confusion matrix we can compute:\n",
    "\n",
    "+ **Sensitivity:** fraction of true positives that are called positive by the algorithm for a given threshold;\n",
    "\n",
    "+ **Specificity:** fraction of true negatives that are called negative by the algorithm for a given threshold.\n",
    "\n",
    "The **ROC curve** provides an overall summary of how good a scoring system across all possible thresholds, by graphing sensitivity versus 1 - specificity. This can also be used to find the optimal threshold.\n",
    "\n",
    "\n",
    "**New package: scikit-learn - machine learning package**\n",
    "\n",
    "To install this on your computer enter the following command from a terminal or anaconda window:\n",
    "\n",
    "    conda install scikit-learn\n",
    " \n"
   ]
  },
  {
   "cell_type": "markdown",
   "metadata": {},
   "source": [
    "<h1 style=\"color:blue;\"><u>Topic 1</u>: Classification with Logistic Regression (with Simulated Data)</h1>"
   ]
  },
  {
   "cell_type": "markdown",
   "metadata": {},
   "source": [
    "## First let's generate 100 data points $(x_1,y_1),...,(x_{100},y_{100})$.\n",
    "* $y_i$ = Categorical Response Variable Value (1 or 0)\n",
    "* $x_i$ = Numerical Explanatory Variable ($x_i$ are observations drawn from the standard normal distribution).\n",
    "* Furthermore, let's create a relationship between $x_i$ and $y_i$ as follows:\n",
    "    - $log-odds_i=log(p_i/(1-p_i))=-0.7+2.1x_i$,\n",
    "    - $odds_i=p_i/(1-p_i)=exp(-0.7+2.1x_i)$,    \n",
    "    - $y_i\\sim Bernoulli(p_i)$\n",
    "    \n",
    "<br/>\n",
    "<br/>\n",
    "<br/>\n",
    "<br/>\n",
    "<br/>\n",
    "<br/>\n",
    "<br/>\n",
    "<br/>\n",
    "<br/>\n",
    "<br/>\n",
    "<br/>\n",
    "<br/>"
   ]
  },
  {
   "cell_type": "code",
   "execution_count": 1,
   "metadata": {},
   "outputs": [],
   "source": [
    "import numpy as np\n",
    "import pandas as pd\n",
    "import zipfile as zp"
   ]
  },
  {
   "cell_type": "code",
   "execution_count": 2,
   "metadata": {},
   "outputs": [],
   "source": [
    "from scipy.stats import norm, bernoulli"
   ]
  },
  {
   "cell_type": "code",
   "execution_count": 3,
   "metadata": {},
   "outputs": [
    {
     "name": "stdout",
     "output_type": "stream",
     "text": [
      "\n",
      "Simulated Explanatory Variable Values\n",
      "[ 3.43686856e-01  1.84840043e+00  2.24359353e-01 -1.63366001e+00\n",
      "  1.24553764e+00  1.71281180e+00 -6.87918329e-01 -1.18623852e+00\n",
      " -4.00249494e-01 -3.03626185e-01 -1.83256545e+00  1.74946221e+00\n",
      "  1.42782655e-01  1.23757615e+00  1.53648398e+00  1.20246058e+00\n",
      " -4.03077542e-01  1.47360612e+00 -1.37076419e+00  3.41535013e-01\n",
      "  3.33221347e-01 -6.07517496e-01 -1.69986595e+00  1.53454538e+00\n",
      "  1.40225648e+00 -1.12625332e-01  1.16304827e+00 -8.78694596e-01\n",
      " -3.20791229e-01  2.55685889e-01  1.07326071e+00 -1.48523861e-01\n",
      "  8.11851470e-02 -1.91191247e+00  8.56759066e-01 -4.51892464e-01\n",
      "  4.76712331e-01  1.16111637e+00  2.04491326e+00 -7.58926671e-01\n",
      "  5.79516051e-01  9.69182863e-01  7.10046985e-01  1.10390116e-02\n",
      "  5.47076489e-01 -6.88079368e-01 -1.78661786e-01  8.02021891e-01\n",
      "  4.29862250e-01  1.51651818e+00 -7.93327375e-01  6.73740653e-01\n",
      "  1.52595028e+00  6.96695737e-01  1.41802423e+00 -2.25458753e-01\n",
      "  3.59542591e-01  1.68028205e-01 -3.14180863e+00  2.64335071e-01\n",
      "  2.75880372e-01 -2.26135949e+00  1.04048864e+00  1.67862105e-01\n",
      " -5.90468085e-01 -2.17562648e-03  1.34273589e+00 -1.36517281e+00\n",
      " -3.61178435e-01 -9.30398417e-01 -1.58673585e+00  6.56937274e-02\n",
      " -3.00638810e-01  9.26401586e-01  8.33788612e-01 -1.32009183e+00\n",
      " -6.75361967e-02 -1.24408261e-01  1.89410149e-01 -7.06132732e-01\n",
      " -1.91851061e+00 -4.62411156e-01  9.61616777e-01 -1.85034522e-01\n",
      " -1.63128816e+00  4.30338583e-01 -9.24596753e-01  8.00132265e-01\n",
      "  1.07029507e-01 -1.15224568e+00 -2.33536473e+00 -8.35873539e-01\n",
      " -3.27614542e-01  2.91775470e-01  1.43076788e+00  2.27007007e+00\n",
      "  1.59071424e+00 -1.06840685e+00 -2.82712742e+00 -8.08333385e-01]\n",
      "\n",
      "Predicted Odds Values (given these explanatory variable values)\n",
      "[1.02198049e+00 2.40862442e+01 7.95451534e-01 1.60718495e-02\n",
      " 6.79120948e+00 1.81179795e+01 1.17111537e-01 4.11265703e-02\n",
      " 2.14268809e-01 2.62470919e-01 1.05842583e-02 1.95675120e+01\n",
      " 6.70215200e-01 6.67861020e+00 1.25111013e+01 6.20383234e+00\n",
      " 2.13000059e-01 1.09635141e+01 2.79146176e-02 1.01737271e+00\n",
      " 9.99764856e-01 1.38652186e-01 1.39857198e-02 1.24602715e+01\n",
      " 9.43794814e+00 3.91992255e-01 5.71104132e+00 7.84527574e-02\n",
      " 2.53178228e-01 8.49540526e-01 4.72963244e+00 3.63527581e-01\n",
      " 5.88892755e-01 8.95972109e-03 3.00174576e+00 1.92247019e-01\n",
      " 1.35133892e+00 5.68791862e+00 3.63908672e+01 1.00887826e-01\n",
      " 1.67696180e+00 3.80107534e+00 2.20581856e+00 5.08231577e-01\n",
      " 1.56652631e+00 1.17071939e-01 3.41233000e-01 2.67579350e+00\n",
      " 1.22471814e+00 1.19973787e+01 9.38565724e-02 2.04389106e+00\n",
      " 1.22373847e+01 2.14483162e+00 9.75569170e+00 3.09293882e-01\n",
      " 1.05658229e+00 7.06705839e-01 6.77027861e-04 8.65111957e-01\n",
      " 8.86343045e-01 4.30122708e-03 4.41508082e+00 7.06459375e-01\n",
      " 1.43706396e-01 4.94321672e-01 8.32901633e+00 2.82443201e-02\n",
      " 2.32590772e-01 7.03806665e-02 1.77362396e-02 5.70043177e-01\n",
      " 2.64122702e-01 3.47447480e+00 2.86038459e+00 3.10488707e-02\n",
      " 4.30922934e-01 3.82411759e-01 7.39161616e-01 1.12716582e-01\n",
      " 8.83643051e-03 1.88046985e-01 3.74115816e+00 3.36696787e-01\n",
      " 1.61521012e-02 1.22594384e+00 7.12433939e-02 2.66519641e+00\n",
      " 6.21737043e-01 4.41697141e-02 3.68212246e-03 8.58344848e-02\n",
      " 2.49576315e-01 9.16428239e-01 1.00202951e+01 5.83901465e+01\n",
      " 1.40202107e+01 5.26728895e-02 1.31099671e-03 9.09450221e-02]\n",
      "\n",
      "Predicted Probabilties (given these explanatory variable values)\n",
      "[5.05435385e-01 9.60137516e-01 4.43037040e-01 1.58176309e-02\n",
      " 8.71650223e-01 9.47693217e-01 1.04834238e-01 3.95019890e-02\n",
      " 1.76459123e-01 2.07902547e-01 1.04734051e-02 9.51379632e-01\n",
      " 4.01274758e-01 8.69768099e-01 9.25986789e-01 8.61184998e-01\n",
      " 1.75597732e-01 9.16412519e-01 2.71565528e-02 5.04305775e-01\n",
      " 4.99941207e-01 1.21768691e-01 1.37928173e-02 9.25707294e-01\n",
      " 9.04195730e-01 2.81605198e-01 8.50991828e-01 7.27456598e-02\n",
      " 2.02028907e-01 4.59325175e-01 8.25468735e-01 2.66608161e-01\n",
      " 3.70630902e-01 8.88015736e-03 7.50109062e-01 1.61247641e-01\n",
      " 5.74710396e-01 8.50476649e-01 9.73255501e-01 9.16422400e-02\n",
      " 6.26442186e-01 7.91713329e-01 6.88067187e-01 3.36971845e-01\n",
      " 6.10368304e-01 1.04802506e-01 2.54417391e-01 7.27949897e-01\n",
      " 5.50504856e-01 9.23061409e-01 8.58033629e-02 6.71473130e-01\n",
      " 9.24456377e-01 6.82017951e-01 9.07025970e-01 2.36229533e-01\n",
      " 5.13756388e-01 4.14075948e-01 6.76569804e-04 4.63839157e-01\n",
      " 4.69873731e-01 4.28280576e-03 8.15330549e-01 4.13991324e-01\n",
      " 1.25649726e-01 3.30800042e-01 8.92807562e-01 2.74684912e-02\n",
      " 1.88700725e-01 6.57529314e-02 1.74271476e-02 3.63074841e-01\n",
      " 2.08937552e-01 7.76510083e-01 7.40958452e-01 3.01138690e-02\n",
      " 3.01150344e-01 2.76626523e-01 4.25010309e-01 1.01298555e-01\n",
      " 8.75903193e-03 1.58282448e-01 7.89081071e-01 2.51887182e-01\n",
      " 1.58953578e-02 5.50752367e-01 6.65053286e-02 7.27163326e-01\n",
      " 3.83377222e-01 4.23012787e-02 3.66861418e-03 7.90493266e-02\n",
      " 1.99728750e-01 4.78195959e-01 9.09258329e-01 9.83162190e-01\n",
      " 9.33423038e-01 5.00372813e-02 1.30928025e-03 8.33635245e-02]\n",
      "\n",
      "Randomly Generated 0/1 Response Variable Value (given the predicted probabilities)\n",
      "[1 1 0 0 1 1 0 0 0 0 0 1 0 0 1 1 0 1 0 1 1 1 0 1 1 1 1 0 0 1 1 0 1 0 1 0 0\n",
      " 1 1 0 0 1 1 1 1 0 1 1 1 1 0 0 1 1 1 0 0 0 0 1 0 0 1 0 0 0 1 0 1 0 0 0 0 0\n",
      " 1 0 1 0 1 0 0 0 1 0 0 0 0 0 1 0 0 1 0 1 1 1 1 0 0 0]\n",
      "Simulated Explanatory and Response Variables Data\n",
      "          x  y\n",
      "0  0.343687  1\n",
      "1  1.848400  1\n",
      "2  0.224359  0\n",
      "3 -1.633660  0\n",
      "4  1.245538  1\n",
      "5  1.712812  1\n",
      "6 -0.687918  0\n",
      "7 -1.186239  0\n",
      "8 -0.400249  0\n",
      "9 -0.303626  0\n"
     ]
    }
   ],
   "source": [
    "# set the coefficient values\n",
    "b0, b1 = -0.7, 2.1  \n",
    "#\n",
    "# generate exogenous variable\n",
    "x = norm.rvs(size=100, random_state=12347)\n",
    "print()\n",
    "print('Simulated Explanatory Variable Values')\n",
    "print(x)\n",
    "#\n",
    "# odds depend on x\n",
    "print()\n",
    "print('Predicted Odds Values (given these explanatory variable values)')\n",
    "odds = np.exp(b0 + b1*x)\n",
    "print(odds)\n",
    "#\n",
    "print()\n",
    "print('Predicted Probabilties (given these explanatory variable values)')\n",
    "print(odds/(1+odds))\n",
    "# convert odds to probabilities, generate response y\n",
    "print()\n",
    "print('Randomly Generated 0/1 Response Variable Value (given the predicted probabilities)')\n",
    "y = bernoulli.rvs(p=odds/(1+odds), size=100, random_state=1)\n",
    "print(y)\n",
    "dat = pd.DataFrame({'x':x, 'y':y})\n",
    "print('Simulated Explanatory and Response Variables Data')\n",
    "print(dat.head(10))"
   ]
  },
  {
   "cell_type": "markdown",
   "metadata": {},
   "source": [
    "## Next, let's fit the simulated data with a model."
   ]
  },
  {
   "cell_type": "code",
   "execution_count": 4,
   "metadata": {},
   "outputs": [],
   "source": [
    "import statsmodels.api as sm\n",
    "import statsmodels.formula.api as smf"
   ]
  },
  {
   "cell_type": "code",
   "execution_count": 5,
   "metadata": {},
   "outputs": [
    {
     "name": "stdout",
     "output_type": "stream",
     "text": [
      "Optimization terminated successfully.\n",
      "         Current function value: 0.403715\n",
      "         Iterations 7\n"
     ]
    },
    {
     "data": {
      "text/html": [
       "<table class=\"simpletable\">\n",
       "<caption>Logit Regression Results</caption>\n",
       "<tr>\n",
       "  <th>Dep. Variable:</th>           <td>y</td>        <th>  No. Observations:  </th>  <td>   100</td>  \n",
       "</tr>\n",
       "<tr>\n",
       "  <th>Model:</th>                 <td>Logit</td>      <th>  Df Residuals:      </th>  <td>    98</td>  \n",
       "</tr>\n",
       "<tr>\n",
       "  <th>Method:</th>                 <td>MLE</td>       <th>  Df Model:          </th>  <td>     1</td>  \n",
       "</tr>\n",
       "<tr>\n",
       "  <th>Date:</th>            <td>Wed, 04 Nov 2020</td> <th>  Pseudo R-squ.:     </th>  <td>0.4149</td>  \n",
       "</tr>\n",
       "<tr>\n",
       "  <th>Time:</th>                <td>19:08:31</td>     <th>  Log-Likelihood:    </th> <td> -40.371</td> \n",
       "</tr>\n",
       "<tr>\n",
       "  <th>converged:</th>             <td>True</td>       <th>  LL-Null:           </th> <td> -68.994</td> \n",
       "</tr>\n",
       "<tr>\n",
       "  <th>Covariance Type:</th>     <td>nonrobust</td>    <th>  LLR p-value:       </th> <td>3.846e-14</td>\n",
       "</tr>\n",
       "</table>\n",
       "<table class=\"simpletable\">\n",
       "<tr>\n",
       "      <td></td>         <th>coef</th>     <th>std err</th>      <th>z</th>      <th>P>|z|</th>  <th>[0.025</th>    <th>0.975]</th>  \n",
       "</tr>\n",
       "<tr>\n",
       "  <th>Intercept</th> <td>   -0.4938</td> <td>    0.291</td> <td>   -1.697</td> <td> 0.090</td> <td>   -1.064</td> <td>    0.076</td>\n",
       "</tr>\n",
       "<tr>\n",
       "  <th>x</th>         <td>    2.2133</td> <td>    0.440</td> <td>    5.028</td> <td> 0.000</td> <td>    1.350</td> <td>    3.076</td>\n",
       "</tr>\n",
       "</table>"
      ],
      "text/plain": [
       "<class 'statsmodels.iolib.summary.Summary'>\n",
       "\"\"\"\n",
       "                           Logit Regression Results                           \n",
       "==============================================================================\n",
       "Dep. Variable:                      y   No. Observations:                  100\n",
       "Model:                          Logit   Df Residuals:                       98\n",
       "Method:                           MLE   Df Model:                            1\n",
       "Date:                Wed, 04 Nov 2020   Pseudo R-squ.:                  0.4149\n",
       "Time:                        19:08:31   Log-Likelihood:                -40.371\n",
       "converged:                       True   LL-Null:                       -68.994\n",
       "Covariance Type:            nonrobust   LLR p-value:                 3.846e-14\n",
       "==============================================================================\n",
       "                 coef    std err          z      P>|z|      [0.025      0.975]\n",
       "------------------------------------------------------------------------------\n",
       "Intercept     -0.4938      0.291     -1.697      0.090      -1.064       0.076\n",
       "x              2.2133      0.440      5.028      0.000       1.350       3.076\n",
       "==============================================================================\n",
       "\"\"\""
      ]
     },
     "execution_count": 5,
     "metadata": {},
     "output_type": "execute_result"
    }
   ],
   "source": [
    "simmod = smf.logit('y ~ x', data=dat).fit()\n",
    "simmod.summary()"
   ]
  },
  {
   "cell_type": "markdown",
   "metadata": {},
   "source": [
    "## Then, let's make predictions for the $p_i$'s based on the model and some *new* $x_i$ values. These are the predictive probabilities.\n",
    "<br/>\n",
    "<br/>\n",
    "<br/>\n",
    "<br/>\n",
    "<br/>\n",
    "<br/>\n",
    "<br/>\n",
    "<br/>\n",
    "<br/>\n",
    "<br/>\n",
    "<br/>\n",
    "<br/>\n",
    "<br/>\n",
    "<br/>\n",
    "<br/>\n",
    "<br/>\n",
    "<br/>\n",
    "<br/>"
   ]
  },
  {
   "cell_type": "code",
   "execution_count": 6,
   "metadata": {},
   "outputs": [
    {
     "data": {
      "text/plain": [
       "0    0.007243\n",
       "1    0.062554\n",
       "2    0.378988\n",
       "3    0.848056\n",
       "4    0.980786\n",
       "dtype: float64"
      ]
     },
     "execution_count": 6,
     "metadata": {},
     "output_type": "execute_result"
    }
   ],
   "source": [
    "# example predictive probabilities\n",
    "simmod.predict(exog=dict(x=[-2,-1,0,1,2])) "
   ]
  },
  {
   "cell_type": "markdown",
   "metadata": {},
   "source": [
    "## Then, let's plot:\n",
    "### * 100 simulated $(x_1,y_1),...,(x_{100},y_{100})$ points and \n",
    "### * the curve that represents the model's predicted probability $p$ for any given value of x."
   ]
  },
  {
   "cell_type": "code",
   "execution_count": 7,
   "metadata": {},
   "outputs": [
    {
     "name": "stderr",
     "output_type": "stream",
     "text": [
      "\n",
      "Bad key \"text.kerning_factor\" on line 4 in\n",
      "C:\\Users\\vme3\\AppData\\Local\\Continuum\\anaconda3\\lib\\site-packages\\matplotlib\\mpl-data\\stylelib\\_classic_test_patch.mplstyle.\n",
      "You probably need to get an updated matplotlibrc file from\n",
      "https://github.com/matplotlib/matplotlib/blob/v3.1.3/matplotlibrc.template\n",
      "or from the matplotlib source distribution\n"
     ]
    }
   ],
   "source": [
    "import matplotlib.pyplot as plt\n",
    "import seaborn as sns; sns.set()"
   ]
  },
  {
   "cell_type": "code",
   "execution_count": 8,
   "metadata": {},
   "outputs": [
    {
     "data": {
      "image/png": "[encoded data removed]",
      "text/plain": [
       "<Figure size 432x288 with 1 Axes>"
      ]
     },
     "metadata": {},
     "output_type": "display_data"
    }
   ],
   "source": [
    "# scatter plot of raw 0/1 data\n",
    "sns.scatterplot(x='x', y='y', data=dat, label='Data (x_i,y_i) Generated with \\n y_i~Bern(p_i=exp(-0.7+2.1x)/[1+exp(-0.7+2.1x)])')\n",
    "#\n",
    "# make a grid of x values for the probability curve\n",
    "xgrid = np.linspace(dat['x'].min(), dat['x'].max(), 100)\n",
    "#\n",
    "# get predictive probabilities for the grid\n",
    "pgrid = simmod.predict(exog=dict(x=xgrid))\n",
    "#\n",
    "# add the curve to the plot\n",
    "plt.plot(xgrid, pgrid, color='r', label='p=exp(-0.49+2.21x)/[1+exp(-0.49+2.21x)]') \n",
    "plt.legend(bbox_to_anchor=(1,1))\n",
    "plt.show()"
   ]
  },
  {
   "cell_type": "markdown",
   "metadata": {},
   "source": [
    "### Interpret this relationship between the curve and the data:\n",
    "\n",
    "<br/>\n",
    "<br/>\n",
    "<br/>\n",
    "<br/>\n",
    "<br/>\n",
    "<br/>\n",
    "<br/>\n",
    "<br/>\n",
    "<br/>\n",
    "<br/>\n",
    "<br/>\n",
    "<br/>\n",
    "<br/>\n",
    "<br/>\n",
    "<br/>\n",
    "\n",
    "### What does this model $p=exp(-0.49+2.21x)/[1+exp(-0.49+2.21x)]$ actually predict for a given value of $x$?\n",
    "\n",
    "<br/>\n",
    "<br/>\n",
    "<br/>\n",
    "<br/>\n",
    "<br/>\n",
    "<br/>\n",
    "<br/>\n",
    "<br/>\n",
    "<br/>\n",
    "<br/>\n",
    "<br/>\n",
    "<br/>\n",
    "\n",
    "### How can we use this model $p=exp(-0.49+2.21x)/[1+exp(-0.49+2.21x)]$ to CLASSIFY a value of $x$ as having either a y=0 or y=1 response variable value?\n",
    "\n",
    "<br/>\n",
    "<br/>\n",
    "<br/>\n",
    "<br/>\n",
    "<br/>\n",
    "<br/>\n",
    "<br/>\n",
    "<br/>\n",
    "<br/>\n",
    "<br/>\n",
    "\n",
    "### What happens is this threshold is $p_0=0.5$?\n",
    "\n",
    "<br/>\n",
    "<br/>\n",
    "<br/>\n",
    "<br/>\n",
    "<br/>\n",
    "<br/>\n",
    "<br/>\n",
    "<br/>\n",
    "<br/>\n",
    "<br/>\n",
    "<br/>"
   ]
  },
  {
   "cell_type": "code",
   "execution_count": 9,
   "metadata": {},
   "outputs": [
    {
     "data": {
      "text/html": [
       "<div>\n",
       "<style scoped>\n",
       "    .dataframe tbody tr th:only-of-type {\n",
       "        vertical-align: middle;\n",
       "    }\n",
       "\n",
       "    .dataframe tbody tr th {\n",
       "        vertical-align: top;\n",
       "    }\n",
       "\n",
       "    .dataframe thead th {\n",
       "        text-align: right;\n",
       "    }\n",
       "</style>\n",
       "<table border=\"1\" class=\"dataframe\">\n",
       "  <thead>\n",
       "    <tr style=\"text-align: right;\">\n",
       "      <th></th>\n",
       "      <th>x</th>\n",
       "      <th>y</th>\n",
       "      <th>pred</th>\n",
       "    </tr>\n",
       "  </thead>\n",
       "  <tbody>\n",
       "    <tr>\n",
       "      <th>0</th>\n",
       "      <td>0.343687</td>\n",
       "      <td>1</td>\n",
       "      <td>0.566315</td>\n",
       "    </tr>\n",
       "    <tr>\n",
       "      <th>1</th>\n",
       "      <td>1.848400</td>\n",
       "      <td>1</td>\n",
       "      <td>0.973330</td>\n",
       "    </tr>\n",
       "    <tr>\n",
       "      <th>2</th>\n",
       "      <td>0.224359</td>\n",
       "      <td>0</td>\n",
       "      <td>0.500681</td>\n",
       "    </tr>\n",
       "    <tr>\n",
       "      <th>3</th>\n",
       "      <td>-1.633660</td>\n",
       "      <td>0</td>\n",
       "      <td>0.016149</td>\n",
       "    </tr>\n",
       "    <tr>\n",
       "      <th>4</th>\n",
       "      <td>1.245538</td>\n",
       "      <td>1</td>\n",
       "      <td>0.905756</td>\n",
       "    </tr>\n",
       "    <tr>\n",
       "      <th>...</th>\n",
       "      <td>...</td>\n",
       "      <td>...</td>\n",
       "      <td>...</td>\n",
       "    </tr>\n",
       "    <tr>\n",
       "      <th>95</th>\n",
       "      <td>2.270070</td>\n",
       "      <td>1</td>\n",
       "      <td>0.989339</td>\n",
       "    </tr>\n",
       "    <tr>\n",
       "      <th>96</th>\n",
       "      <td>1.590714</td>\n",
       "      <td>1</td>\n",
       "      <td>0.953773</td>\n",
       "    </tr>\n",
       "    <tr>\n",
       "      <th>97</th>\n",
       "      <td>-1.068407</td>\n",
       "      <td>0</td>\n",
       "      <td>0.054242</td>\n",
       "    </tr>\n",
       "    <tr>\n",
       "      <th>98</th>\n",
       "      <td>-2.827127</td>\n",
       "      <td>0</td>\n",
       "      <td>0.001168</td>\n",
       "    </tr>\n",
       "    <tr>\n",
       "      <th>99</th>\n",
       "      <td>-0.808333</td>\n",
       "      <td>0</td>\n",
       "      <td>0.092548</td>\n",
       "    </tr>\n",
       "  </tbody>\n",
       "</table>\n",
       "<p>100 rows × 3 columns</p>\n",
       "</div>"
      ],
      "text/plain": [
       "           x  y      pred\n",
       "0   0.343687  1  0.566315\n",
       "1   1.848400  1  0.973330\n",
       "2   0.224359  0  0.500681\n",
       "3  -1.633660  0  0.016149\n",
       "4   1.245538  1  0.905756\n",
       "..       ... ..       ...\n",
       "95  2.270070  1  0.989339\n",
       "96  1.590714  1  0.953773\n",
       "97 -1.068407  0  0.054242\n",
       "98 -2.827127  0  0.001168\n",
       "99 -0.808333  0  0.092548\n",
       "\n",
       "[100 rows x 3 columns]"
      ]
     },
     "execution_count": 9,
     "metadata": {},
     "output_type": "execute_result"
    }
   ],
   "source": [
    "pred_probabilities=simmod.predict(exog=dict(x=dat.x)) \n",
    "dat['pred']=pred_probabilities\n",
    "dat"
   ]
  },
  {
   "cell_type": "markdown",
   "metadata": {},
   "source": [
    "### Will there exist a threshold value of $p_0$ that will create no misclassifications of the given data?\n",
    "<br/>\n",
    "<br/>\n",
    "<br/>\n",
    "<br/>\n",
    "<br/>\n",
    "<br/>\n",
    "<br/>\n",
    "<br/>\n",
    "<br/>\n",
    "<br/>\n",
    "<br/>\n",
    "<br/>\n",
    "\n",
    "### Sketch an example of a dataset and predictive probability curve in which there *would* exist a threshold that would create no misclassifications of the given data.\n",
    "<br/>\n",
    "<br/>\n",
    "<br/>\n",
    "<br/>\n",
    "<br/>\n",
    "<br/>\n",
    "<br/>\n",
    "<br/>\n",
    "<br/>\n",
    "<br/>\n",
    "<br/>\n",
    "<br/>\n",
    "<br/>\n",
    "<br/>\n",
    "<br/>\n",
    "<br/>\n",
    "<br/>\n",
    "<br/>\n"
   ]
  },
  {
   "cell_type": "markdown",
   "metadata": {},
   "source": [
    "<h1 style=\"color:blue;\"><u>Topic 2</u>: Choosing classification thresholds (for logistic regression)?</h1>"
   ]
  },
  {
   "cell_type": "markdown",
   "metadata": {},
   "source": [
    "## <u>One way</u>: Classification threshold derived from predictive probability p (for a given x that has been plugged into the model)"
   ]
  },
  {
   "cell_type": "markdown",
   "metadata": {},
   "source": [
    "How accurate is this model as a classifier? It depends in part on where we set the **threshold $p_0$**. \n",
    "<br/>\n",
    "<br/>\n",
    "<br/>\n",
    "<br/>\n",
    "\n",
    "\n",
    "Let $\\hat{p}(x)$ denote the estimated probability as a function of $x$. Suppose our classification rule is  $I(\\hat{p} > p_0)$ where $I(True)=1$ and $I(False)=0$. \n",
    "<br/>\n",
    "<br/>\n",
    "<br/>\n",
    "<br/>\n",
    "<br/>\n",
    "<br/>\n",
    "<br/>\n",
    "<br/>\n",
    "<br/>\n",
    "<br/>\n",
    "<br/>\n",
    "<br/>\n",
    "<br/>\n",
    "\n",
    "\n",
    "\n",
    "## <u>Another way (for simple logistic regression)</u>: Classification threshold in terms of $x$ that has been *derived* from predictive probability\n",
    "Because the fitted probability function is increasing as a function of x, the probability threshold is equivalent to a threshold for $x$.\n",
    "\n",
    "First, the **logit of the threshold $p_0$** is \n",
    "\n",
    "$\n",
    "\\log\\left({p_0 \\over 1-p_0}\\right).\n",
    "$\n",
    "<br/>\n",
    "<br/>\n",
    "<br/>\n",
    "<br/>\n",
    "<br/>\n",
    "<br/>\n",
    "<br/>\n",
    "Furthermore, the **fitted model** has the form\n",
    "\n",
    "$\n",
    "\\log\\left({\\hat{p} \\over 1 - \\hat{p}}\\right) = \\hat{\\beta}_0 + \\hat{\\beta}_1 x\n",
    "$\n",
    "<br/>\n",
    "<br/>\n",
    "<br/>\n",
    "<br/>\n",
    "<br/>\n",
    "<br/>\n",
    "<br/>\n",
    "<br/>\n",
    "<br/>\n",
    "### Classifier Threshold (in terms of $x$)\n",
    "Setting this equal to the threshold logit and solving for $x$ gives the classifier threshold:\n",
    "\n",
    "$\n",
    "x_{0} = {\\mbox{logit}(p_0) -\\hat{\\beta}_0 \\over \\hat{\\beta}_1}\n",
    "$\n",
    "<br/>\n",
    "<br/>\n",
    "<br/>"
   ]
  },
  {
   "cell_type": "markdown",
   "metadata": {},
   "source": [
    "## Theory/Relationship for a Common Threshold $p_0=0.5$\n",
    "\n",
    "<br/>\n",
    "<br/>\n",
    "<br/>\n",
    "<br/>\n",
    "<br/>\n",
    "<br/>\n",
    "<br/>\n",
    "<br/>\n",
    "<br/>\n",
    "<br/>\n",
    "<br/>\n",
    "<br/>\n",
    "<br/>\n",
    "If we set $p_0=0.5$, a common default, then $\\mbox{logit}(p_0)=0$ and the threshold is simply\n",
    "$\n",
    "x_0 = - { \\hat{\\beta}_0 \\over \\hat{\\beta}_1 }.\n",
    "$"
   ]
  },
  {
   "cell_type": "markdown",
   "metadata": {},
   "source": [
    "<h1 style=\"color:blue;\"><u>Topic 3</u>: Exploring Different Classification Thresholds</h1>\n"
   ]
  },
  {
   "cell_type": "code",
   "execution_count": 10,
   "metadata": {},
   "outputs": [
    {
     "data": {
      "text/plain": [
       "Intercept   -0.493845\n",
       "x            2.213281\n",
       "dtype: float64"
      ]
     },
     "execution_count": 10,
     "metadata": {},
     "output_type": "execute_result"
    }
   ],
   "source": [
    "simmod.params"
   ]
  },
  {
   "cell_type": "markdown",
   "metadata": {},
   "source": [
    "## Let's first use $p_0=0.5$"
   ]
  },
  {
   "cell_type": "code",
   "execution_count": 11,
   "metadata": {},
   "outputs": [],
   "source": [
    "#### Set probability threshold\n",
    "pthresh = 0.50"
   ]
  },
  {
   "cell_type": "markdown",
   "metadata": {},
   "source": [
    "## Thus the corresponding $x_0$ threshold is:\n",
    "<br/>\n",
    "<br/>\n",
    "<br/>\n",
    "<br/>\n",
    "<br/>\n",
    "<br/>\n",
    "<br/>\n",
    "<br/>\n",
    "<br/>"
   ]
  },
  {
   "cell_type": "code",
   "execution_count": 12,
   "metadata": {},
   "outputs": [
    {
     "data": {
      "text/plain": [
       "0.22312813097265544"
      ]
     },
     "execution_count": 12,
     "metadata": {},
     "output_type": "execute_result"
    }
   ],
   "source": [
    "#### Compute corresponding x threshold\n",
    "xthresh = (np.log(pthresh/(1-pthresh)) \\\n",
    "           -simmod.params[0])/simmod.params[1]\n",
    "xthresh"
   ]
  },
  {
   "cell_type": "markdown",
   "metadata": {},
   "source": [
    "## Let's make our y predictions using this threshold."
   ]
  },
  {
   "cell_type": "code",
   "execution_count": 13,
   "metadata": {},
   "outputs": [
    {
     "data": {
      "text/html": [
       "<div>\n",
       "<style scoped>\n",
       "    .dataframe tbody tr th:only-of-type {\n",
       "        vertical-align: middle;\n",
       "    }\n",
       "\n",
       "    .dataframe tbody tr th {\n",
       "        vertical-align: top;\n",
       "    }\n",
       "\n",
       "    .dataframe thead th {\n",
       "        text-align: right;\n",
       "    }\n",
       "</style>\n",
       "<table border=\"1\" class=\"dataframe\">\n",
       "  <thead>\n",
       "    <tr style=\"text-align: right;\">\n",
       "      <th></th>\n",
       "      <th>x</th>\n",
       "      <th>y</th>\n",
       "      <th>pred</th>\n",
       "      <th>yhat</th>\n",
       "    </tr>\n",
       "  </thead>\n",
       "  <tbody>\n",
       "    <tr>\n",
       "      <th>0</th>\n",
       "      <td>0.343687</td>\n",
       "      <td>1</td>\n",
       "      <td>0.566315</td>\n",
       "      <td>1</td>\n",
       "    </tr>\n",
       "    <tr>\n",
       "      <th>1</th>\n",
       "      <td>1.848400</td>\n",
       "      <td>1</td>\n",
       "      <td>0.973330</td>\n",
       "      <td>1</td>\n",
       "    </tr>\n",
       "    <tr>\n",
       "      <th>2</th>\n",
       "      <td>0.224359</td>\n",
       "      <td>0</td>\n",
       "      <td>0.500681</td>\n",
       "      <td>1</td>\n",
       "    </tr>\n",
       "    <tr>\n",
       "      <th>3</th>\n",
       "      <td>-1.633660</td>\n",
       "      <td>0</td>\n",
       "      <td>0.016149</td>\n",
       "      <td>0</td>\n",
       "    </tr>\n",
       "    <tr>\n",
       "      <th>4</th>\n",
       "      <td>1.245538</td>\n",
       "      <td>1</td>\n",
       "      <td>0.905756</td>\n",
       "      <td>1</td>\n",
       "    </tr>\n",
       "  </tbody>\n",
       "</table>\n",
       "</div>"
      ],
      "text/plain": [
       "          x  y      pred  yhat\n",
       "0  0.343687  1  0.566315     1\n",
       "1  1.848400  1  0.973330     1\n",
       "2  0.224359  0  0.500681     1\n",
       "3 -1.633660  0  0.016149     0\n",
       "4  1.245538  1  0.905756     1"
      ]
     },
     "execution_count": 13,
     "metadata": {},
     "output_type": "execute_result"
    }
   ],
   "source": [
    "#### Predicted y based on threshold\n",
    "dat['yhat'] = 1*(dat['x'] >= xthresh)\n",
    "dat.head()"
   ]
  },
  {
   "cell_type": "code",
   "execution_count": 14,
   "metadata": {
    "scrolled": true
   },
   "outputs": [
    {
     "data": {
      "image/png": "[encoded data removed]",
      "text/plain": [
       "<Figure size 432x288 with 1 Axes>"
      ]
     },
     "metadata": {},
     "output_type": "display_data"
    }
   ],
   "source": [
    "# scatter plot of raw 0/1 data\n",
    "sns.scatterplot(x='x', y='y', hue='yhat', data=dat)\n",
    "#\n",
    "# make a grid of x values for probability curve\n",
    "xgrid = np.linspace(dat['x'].min(), dat['x'].max(), 100)\n",
    "#\n",
    "# get predictive probabilities for the grid\n",
    "pgrid = simmod.predict(exog=dict(x=xgrid))\n",
    "#\n",
    "# add probability curve to the graph\n",
    "plt.plot(xgrid, pgrid, color='r', linestyle='dashed',label='p=exp(-0.49+2.21x)/[1+exp(-0.49+2.21x)]')\n",
    "#\n",
    "# add x threshold line for 0/1 classification\n",
    "plt.vlines(x=xthresh, ymin=0, ymax=1)\n",
    "plt.legend(bbox_to_anchor=(1,1))\n",
    "plt.title('Data (x_i,y_i) Generated with \\n y_i~Bern(p_i=exp(-0.7+2.1x)/[1+exp(-0.7+2.1x)])')\n",
    "plt.show()"
   ]
  },
  {
   "cell_type": "markdown",
   "metadata": {},
   "source": [
    "<h1 style=\"color:blue;\"><u>Topic 4</u>: How well did our classifer do with a given threshold $p_0$ (or equivalently $x_0$)?</h1>"
   ]
  },
  {
   "cell_type": "markdown",
   "metadata": {},
   "source": [
    "How is the performance of the classifier on the training data? Because the 0's and 1's have overlapping $x$ values, no classifier based on $x$ only can perfectly classify them.\n",
    "\n",
    "## Definitions\n",
    "\n",
    "### Orange = Predicted Positive (predicted to be 1)\n",
    "#### True Positive:\n",
    "<br/>\n",
    "<br/>\n",
    "<br/>\n",
    "<br/>\n",
    "<br/>\n",
    "<br/>\n",
    "\n",
    "#### False Positive:\n",
    "<br/>\n",
    "<br/>\n",
    "<br/>\n",
    "<br/>\n",
    "<br/>\n",
    "<br/>\n",
    "\n",
    "### Blue = Predicted Negative (predicted to be 0)\n",
    "#### True Negative:\n",
    "<br/>\n",
    "<br/>\n",
    "<br/>\n",
    "<br/>\n",
    "<br/>\n",
    "<br/>\n",
    "\n",
    "#### False Negative:\n",
    "<br/>\n",
    "<br/>\n",
    "<br/>\n",
    "<br/>\n",
    "<br/>\n",
    "<br/>\n",
    "\n",
    "+ The orange colored observations with $y=1$ are correctly classified because they are above the $x$ threshold and therefore have $\\hat{y}=1=y$.\n",
    "+ The blue colored observations with $y=0$ are correctly classified because they are below the $x$ threshold and therefore $\\hat{y}=0=y$.\n",
    "\n",
    "\n",
    "+ The blue colored observations with $y=1$ and the orange colored observations with $y=0$ are incorrectly classified because $\\hat{y} \\ne y$.\n",
    "\n"
   ]
  },
  {
   "cell_type": "markdown",
   "metadata": {},
   "source": [
    "## Confusion matrix for a given threshold.\n",
    "#### Calculated with:\n",
    "1. the *true* values (positive = 1 and negative = 0)\n",
    "2. the *predicted* values (positive = 1 and negative = 0) using a given threshold ($p_0$ or $x_0$)\n",
    "\n",
    "We can summarize the classification performance for a given classifier by comparing the predicted classes to the true classes. The we cross classify the results.\n"
   ]
  },
  {
   "cell_type": "markdown",
   "metadata": {},
   "source": [
    "\n",
    "| Classification  | Actual Negative (0) | Actual Positive (1) |\n",
    "| --- | --- | --- |\n",
    "| Predicted Negative (0) | TN = True Neg | FN = False Neg |\n",
    "| Predicted Positive (1) | FP = False Pos | TP = True Pos |"
   ]
  },
  {
   "cell_type": "code",
   "execution_count": 15,
   "metadata": {},
   "outputs": [],
   "source": [
    "# This import requires that you already \n",
    "# installed the scikit-learn library \n",
    "# as described in the introduction to this chapter.\n",
    "#\n",
    "from sklearn.metrics import confusion_matrix, roc_curve, roc_auc_score"
   ]
  },
  {
   "cell_type": "code",
   "execution_count": 16,
   "metadata": {},
   "outputs": [
    {
     "data": {
      "text/plain": [
       "array([[44, 10],\n",
       "       [10, 36]], dtype=int64)"
      ]
     },
     "execution_count": 16,
     "metadata": {},
     "output_type": "execute_result"
    }
   ],
   "source": [
    "confusion_matrix(y_true=dat['y'], y_pred=dat['yhat'])"
   ]
  },
  {
   "cell_type": "markdown",
   "metadata": {},
   "source": [
    "#### For the given threshold of $p_0=0.5$ (or equivalently $x_0=0.223) what is the number of:\n",
    "* true negatives?\n",
    "<br/>\n",
    "<br/>\n",
    "<br/>\n",
    "<br/>\n",
    "<br/>\n",
    "* false positives?\n",
    "<br/>\n",
    "<br/>\n",
    "<br/>\n",
    "<br/>\n",
    "<br/>\n",
    "* false negatives?\n",
    "<br/>\n",
    "<br/>\n",
    "<br/>\n",
    "<br/>\n",
    "<br/>\n",
    "* true positives?\n",
    "<br/>\n",
    "<br/>\n",
    "<br/>\n",
    "<br/>\n",
    "<br/>"
   ]
  },
  {
   "cell_type": "code",
   "execution_count": 17,
   "metadata": {},
   "outputs": [
    {
     "data": {
      "text/plain": [
       "(44, 10, 10, 36)"
      ]
     },
     "execution_count": 17,
     "metadata": {},
     "output_type": "execute_result"
    }
   ],
   "source": [
    "tn, fp, fn, tp = confusion_matrix(y_true=dat['y'], \n",
    "                                  y_pred=dat['yhat']).ravel()\n",
    "(tn, fp, fn, tp)"
   ]
  },
  {
   "cell_type": "markdown",
   "metadata": {},
   "source": [
    "## Sensitivity Rate = True Positive Rate\n",
    "<br/>\n",
    "<br/>\n",
    "<br/>\n",
    "<br/>\n",
    "<br/>\n",
    "<br/>\n",
    "<br/>\n",
    "<br/>\n",
    "<br/>"
   ]
  },
  {
   "cell_type": "code",
   "execution_count": 18,
   "metadata": {},
   "outputs": [
    {
     "data": {
      "text/plain": [
       "0.782608695652174"
      ]
     },
     "execution_count": 18,
     "metadata": {},
     "output_type": "execute_result"
    }
   ],
   "source": [
    "# Sensitivity = true positive rate\n",
    "tp / (fn + tp)"
   ]
  },
  {
   "cell_type": "markdown",
   "metadata": {},
   "source": [
    "## Specificity Rate\n",
    "<br/>\n",
    "<br/>\n",
    "<br/>\n",
    "<br/>\n",
    "<br/>\n",
    "<br/>\n",
    "<br/>\n",
    "<br/>\n",
    "<br/>"
   ]
  },
  {
   "cell_type": "code",
   "execution_count": 19,
   "metadata": {},
   "outputs": [
    {
     "data": {
      "text/plain": [
       "0.8148148148148148"
      ]
     },
     "execution_count": 19,
     "metadata": {},
     "output_type": "execute_result"
    }
   ],
   "source": [
    "# Specificity = true negative rate\n",
    "tn / (fp + tn)"
   ]
  },
  {
   "cell_type": "markdown",
   "metadata": {},
   "source": [
    "## False Positive Rate = 1-Specificity Rate\n",
    "<br/>\n",
    "<br/>\n",
    "<br/>\n",
    "<br/>\n",
    "<br/>\n",
    "<br/>\n",
    "<br/>\n",
    "<br/>\n",
    "<br/>\n",
    "<br/>\n",
    "<br/>\n"
   ]
  },
  {
   "cell_type": "code",
   "execution_count": 20,
   "metadata": {},
   "outputs": [
    {
     "data": {
      "text/plain": [
       "0.18518518518518517"
      ]
     },
     "execution_count": 20,
     "metadata": {},
     "output_type": "execute_result"
    }
   ],
   "source": [
    "# False positive rate\n",
    "fp / (fp + tn)"
   ]
  },
  {
   "cell_type": "markdown",
   "metadata": {},
   "source": [
    "### Relationship between Sensitivity and Specificity\n",
    "#### What will happen to sensitivity and specificity if we move $p_0$ up (or equivalently move $x_0$ right)?\n",
    "<br/>\n",
    "<br/>\n",
    "<br/>\n",
    "<br/>\n",
    "<br/>\n",
    "<br/>\n",
    "<br/>\n",
    "<br/>\n",
    "<br/>\n",
    "<br/>\n",
    "<br/>\n",
    "\n",
    "#### What will happen to sensitivity and specificity if we move $p_0$ down (or equivalently move $x_0$ left)?\n",
    "\n",
    "<br/>\n",
    "<br/>\n",
    "<br/>\n",
    "<br/>\n",
    "<br/>\n",
    "<br/>\n",
    "<br/>\n",
    "<br/>\n",
    "<br/>\n",
    "<br/>\n",
    "<br/>\n"
   ]
  },
  {
   "cell_type": "code",
   "execution_count": 21,
   "metadata": {},
   "outputs": [
    {
     "data": {
      "image/png": "[encoded data removed]",
      "text/plain": [
       "<Figure size 432x288 with 1 Axes>"
      ]
     },
     "metadata": {},
     "output_type": "display_data"
    }
   ],
   "source": [
    "# scatter plot of raw 0/1 data\n",
    "sns.scatterplot(x='x', y='y', data=dat, label='Data (x_i,y_i) Generated with \\n y_i~Bern(p_i=exp(-0.7+2.1x)/[1+exp(-0.7+2.1x)])')\n",
    "#\n",
    "# make a grid of x values for the probability curve\n",
    "xgrid = np.linspace(dat['x'].min(), dat['x'].max(), 100)\n",
    "#\n",
    "# get predictive probabilities for the grid\n",
    "pgrid = simmod.predict(exog=dict(x=xgrid))\n",
    "#\n",
    "# add the curve to the plot\n",
    "plt.plot(xgrid, pgrid, color='r', label='p=exp(-0.49+2.21x)/[1+exp(-0.49+2.21x)]') \n",
    "plt.legend(bbox_to_anchor=(1,1))\n",
    "plt.show()"
   ]
  },
  {
   "cell_type": "markdown",
   "metadata": {},
   "source": [
    "### In general\n",
    "<br/>\n",
    "<br/>\n",
    "<br/>\n",
    "<br/>\n",
    "<br/>\n",
    "<br/>\n",
    "<br/>\n",
    "<br/>\n",
    "<br/>\n",
    "Sensitivity and specificity are commonly used measures of classification performance. They play against each other in that we can increase one or the other of them by changing the classfiication threshold, but it will be at the cost of decreasing the other."
   ]
  },
  {
   "cell_type": "markdown",
   "metadata": {},
   "source": [
    "<h1 style=\"color:blue;\"><u>Topic 5</u>: Taking into account all possible thresholds you could use, how do you assess how well your classifier model fit the data?</h1>"
   ]
  },
  {
   "cell_type": "markdown",
   "metadata": {},
   "source": [
    "## ROC Curve, plotting sensitivity and specificity across all thresholds.\n",
    "\n",
    "### How it's built:\n",
    "<br/>\n",
    "<br/>\n",
    "<br/>\n",
    "<br/>\n",
    "<br/>\n",
    "<br/>\n",
    "<br/>\n",
    "<br/>\n",
    "<br/>\n",
    "<br/>\n",
    "<br/>\n",
    "<br/>\n",
    "<br/>\n",
    "<br/>\n",
    "<br/>\n",
    "<br/>\n",
    "<br/>\n",
    "<br/>\n",
    "<br/>\n",
    "\n",
    "\n",
    "The ROC curve provides a look at the inherent classification ability of a given scoring system, independently of where one sets the threshold on the scores. There will then be an optimal threshold based on the desired tradeoff, which may be deduced from the ROC curve."
   ]
  },
  {
   "cell_type": "markdown",
   "metadata": {},
   "source": [
    "### Generating false positive rates and true positive rates for a list of $p_0$ thresholds"
   ]
  },
  {
   "cell_type": "code",
   "execution_count": 22,
   "metadata": {},
   "outputs": [
    {
     "name": "stdout",
     "output_type": "stream",
     "text": [
      "False Positive Rates\n",
      "[0.         0.         0.         0.01851852 0.01851852 0.03703704\n",
      " 0.03703704 0.05555556 0.05555556 0.09259259 0.09259259 0.12962963\n",
      " 0.12962963 0.14814815 0.14814815 0.16666667 0.16666667 0.18518519\n",
      " 0.18518519 0.24074074 0.24074074 0.25925926 0.25925926 0.27777778\n",
      " 0.27777778 0.31481481 0.31481481 0.42592593 0.42592593 0.51851852\n",
      " 0.51851852 0.62962963 0.62962963 1.        ]\n",
      "True Positive Rates\n",
      "[0.         0.02173913 0.34782609 0.34782609 0.5        0.5\n",
      " 0.56521739 0.56521739 0.60869565 0.60869565 0.63043478 0.63043478\n",
      " 0.65217391 0.65217391 0.73913043 0.73913043 0.7826087  0.7826087\n",
      " 0.80434783 0.80434783 0.84782609 0.84782609 0.86956522 0.86956522\n",
      " 0.91304348 0.91304348 0.93478261 0.93478261 0.95652174 0.95652174\n",
      " 0.97826087 0.97826087 1.         1.        ]\n",
      "p_0 Thresholds\n",
      "[1.   0.99 0.91 0.9  0.84 0.83 0.78 0.78 0.74 0.69 0.67 0.61 0.61 0.57\n",
      " 0.54 0.53 0.52 0.5  0.48 0.46 0.42 0.41 0.38 0.38 0.32 0.31 0.29 0.23\n",
      " 0.22 0.14 0.14 0.09 0.09 0.  ]\n"
     ]
    }
   ],
   "source": [
    "fprs, tprs, thresholds = roc_curve(y_true=dat['y'], \n",
    "                            y_score=simmod.fittedvalues)\n",
    "auc = roc_auc_score(y_true=dat['y'], \n",
    "                    y_score=simmod.fittedvalues)\n",
    "print('False Positive Rates')\n",
    "print(fprs)\n",
    "print('True Positive Rates')\n",
    "print(tprs)\n",
    "print('p_0 Thresholds')\n",
    "#The 'thresholds' output is a log_odds threshold. We want to convert each log_odds threshold to a p threshold.\n",
    "# Remember odds= exp(log_odds)\n",
    "# Also remember p = odds/(1+odds)\n",
    "p_thresholds=np.exp(thresholds)/(1+np.exp(thresholds))\n",
    "print(np.round(p_thresholds,2))"
   ]
  },
  {
   "cell_type": "markdown",
   "metadata": {},
   "source": [
    "#### Interpret the first elements in the three lists above\n",
    "<br/>\n",
    "<br/>\n",
    "<br/>\n",
    "<br/>\n",
    "<br/>\n",
    "<br/>\n",
    "<br/>\n",
    "<br/>\n",
    "<br/>\n",
    "<br/>\n",
    "<br/>\n",
    "<br/>\n",
    "<br/>\n",
    "<br/>\n",
    "\n",
    "#### Interpret the last elements in the three lists above\n",
    "<br/>\n",
    "<br/>\n",
    "<br/>\n",
    "<br/>\n",
    "<br/>\n",
    "<br/>\n",
    "<br/>\n",
    "<br/>\n",
    "<br/>\n",
    "<br/>\n",
    "<br/>\n",
    "<br/>\n",
    "<br/>\n",
    "<br/>"
   ]
  },
  {
   "cell_type": "code",
   "execution_count": 23,
   "metadata": {},
   "outputs": [
    {
     "data": {
      "image/png": "[encoded data removed]",
      "text/plain": [
       "<Figure size 432x288 with 1 Axes>"
      ]
     },
     "metadata": {},
     "output_type": "display_data"
    }
   ],
   "source": [
    "# scatter plot of raw 0/1 data\n",
    "sns.scatterplot(x='x', y='y', data=dat, label='Data (x_i,y_i) Generated with \\n y_i~Bern(p_i=exp(-0.7+2.1x)/[1+exp(-0.7+2.1x)])')\n",
    "#\n",
    "# make a grid of x values for the probability curve\n",
    "xgrid = np.linspace(dat['x'].min(), dat['x'].max(), 100)\n",
    "#\n",
    "# get predictive probabilities for the grid\n",
    "pgrid = simmod.predict(exog=dict(x=xgrid))\n",
    "#\n",
    "# add the curve to the plot\n",
    "plt.plot(xgrid, pgrid, color='r', label='p=exp(-0.49+2.21x)/[1+exp(-0.49+2.21x)]') \n",
    "plt.legend(bbox_to_anchor=(1,1))\n",
    "plt.show()"
   ]
  },
  {
   "cell_type": "markdown",
   "metadata": {},
   "source": [
    "### ROC CURVE: Plot the false positive rates and the true positive rates in a line plot\n",
    "\n",
    "Let's define a function for plotting the ROC curve taking the arrays of false postive rates and true positive rates as arguments. (Modified from: https://stackabuse.com/understanding-roc-curves-with-python/)"
   ]
  },
  {
   "cell_type": "code",
   "execution_count": 24,
   "metadata": {},
   "outputs": [],
   "source": [
    "def plot_roc(fpr, tpr, auc, lw=2):\n",
    "    plt.plot(fpr, tpr, color='darkorange', lw=lw,\n",
    "             label='ROC curve (area = '+str(round(auc,3))+')')\n",
    "    plt.plot([0, 1], [0, 1], color='navy', lw=lw, linestyle='--')\n",
    "    plt.xlabel('False Positive Rate')\n",
    "    plt.ylabel('True Positive Rate')\n",
    "    plt.title('ROC Curve')\n",
    "    plt.legend(loc=\"lower right\")\n",
    "    plt.show()"
   ]
  },
  {
   "cell_type": "code",
   "execution_count": 25,
   "metadata": {},
   "outputs": [
    {
     "data": {
      "image/png": "[encoded data removed]",
      "text/plain": [
       "<Figure size 432x288 with 1 Axes>"
      ]
     },
     "metadata": {},
     "output_type": "display_data"
    }
   ],
   "source": [
    "plot_roc(fprs, tprs, auc)"
   ]
  },
  {
   "cell_type": "markdown",
   "metadata": {},
   "source": [
    "### For a given threshold for a model, what would be the BEST scenario for a (true positive rate, false positive rate) pair?\n",
    "<br/>\n",
    "<br/>\n",
    "<br/>\n",
    "<br/>\n",
    "<br/>\n",
    "<br/>\n",
    "<br/>\n",
    "<br/>\n",
    "<br/>\n",
    "<br/>\n",
    "<br/>\n",
    "<br/>\n",
    "\n",
    "### If our model *did* in fact have a threshold which produced the best possible scenario for a (true positive rate, false positive rate) pair, what would be the area under the whole ROC curve?\n",
    "<br/>\n",
    "<br/>\n",
    "<br/>\n",
    "<br/>\n",
    "<br/>\n",
    "<br/>\n",
    "<br/>\n",
    "<br/>\n",
    "<br/>\n",
    "<br/>\n",
    "<br/>\n",
    "<br/>\n",
    "\n",
    "### What is the \"area under curve\" (AUC) of the ROC curve that we have for this data?\n",
    "<br/>\n",
    "<br/>\n",
    "<br/>\n",
    "<br/>\n",
    "<br/>\n",
    "<br/>"
   ]
  },
  {
   "cell_type": "code",
   "execution_count": 26,
   "metadata": {},
   "outputs": [
    {
     "data": {
      "text/plain": [
       "0.8941223832528181"
      ]
     },
     "execution_count": 26,
     "metadata": {},
     "output_type": "execute_result"
    }
   ],
   "source": [
    "auc = roc_auc_score(y_true=dat['y'], \n",
    "                    y_score=simmod.fittedvalues)\n",
    "auc"
   ]
  },
  {
   "cell_type": "markdown",
   "metadata": {},
   "source": [
    "### What is the WORST ROC curve that we could get (given any dataset and classification model trained on this dataset)?\n",
    "<br/>\n",
    "<br/>\n",
    "<br/>\n",
    "<br/>\n",
    "<br/>\n",
    "<br/>\n",
    "<br/>\n",
    "<br/>\n",
    "<br/>\n",
    "\n",
    "### Thus, what is the \"area under curve\" (AUC) of the WORST ROC curve that we could get (given any dataset and classification model trained on this dataset)?\n",
    "<br/>\n",
    "<br/>\n",
    "<br/>\n",
    "<br/>\n",
    "<br/>\n",
    "<br/>\n",
    "<br/>\n",
    "<br/>\n",
    "<br/>\n",
    "\n",
    "### Use the ROC Curve and AUC to assess how effective our overall classifier model is at predicting our response variable y.\n",
    "<br/>\n",
    "<br/>\n",
    "<br/>\n",
    "<br/>\n",
    "<br/>\n",
    "<br/>\n",
    "<br/>\n",
    "<br/>\n",
    "<br/>\n",
    "\n",
    "### Use the ROC Curve to pick out an \"ideal\" threshold for $x_0$.\n",
    "<br/>\n",
    "<br/>\n",
    "<br/>\n",
    "<br/>\n",
    "<br/>\n",
    "<br/>\n",
    "<br/>\n",
    "<br/>\n",
    "<br/>"
   ]
  },
  {
   "cell_type": "markdown",
   "metadata": {},
   "source": [
    "### ROC/AUC summary\n",
    "\n",
    "The area under the curve (AUC) is one metric of the amount of information in a classification scoring system. It shows how the true positive and false positive rates track as we change the threshold in the scoring system from a maximum to a minimum possible threshold. \n",
    "\n",
    "The curve captures the trade-off between **sensitivity (TP rate)** and **1 - specificity (1 - TN rate)** as the threshold changes.\n",
    "\n",
    "The baselines for comparison are:\n",
    "\n",
    "+ Random guessing: its ROC curve is represented by the diagonal dashed line, and its AUC = 0.50.\n",
    "\n",
    "\n",
    "+ Perfect classification: Its ROC curve would jump up to a true positive rate of 1 at a false positive rate of 0; its ASUC = 1\n",
    "\n",
    "\n",
    "+ In our example, AUC = 0.89, which is pretty high depending on the context.\n",
    "\n",
    "\n"
   ]
  },
  {
   "cell_type": "markdown",
   "metadata": {},
   "source": [
    "<h1 style=\"color:blue;\"><u>Example</u>: Let's build a classifier to predict support for the border wall (given sex, age, and political party).</h1>"
   ]
  },
  {
   "cell_type": "code",
   "execution_count": 27,
   "metadata": {},
   "outputs": [],
   "source": [
    "zf = zp.ZipFile('Feb17-public.zip')\n",
    "missing_values = [\"NaN\", \"nan\", \"Don't know/Refused (VOL.)\"]\n",
    "df = pd.read_csv(zf.open('Feb17public.csv'),\n",
    "                 na_values=missing_values)[['age', 'sex', \\\n",
    "                                            'q52', 'party']]"
   ]
  },
  {
   "cell_type": "markdown",
   "metadata": {},
   "source": [
    "### Don't forget to translate your categorical response variable in 1's and 0's.\n",
    "Remember...\n",
    "* 1 = success = level you're interested in = favor border wall\n",
    "* 0 = failure = level you're not interested in = not favor border wall\n"
   ]
  },
  {
   "cell_type": "code",
   "execution_count": 28,
   "metadata": {},
   "outputs": [
    {
     "data": {
      "text/html": [
       "<div>\n",
       "<style scoped>\n",
       "    .dataframe tbody tr th:only-of-type {\n",
       "        vertical-align: middle;\n",
       "    }\n",
       "\n",
       "    .dataframe tbody tr th {\n",
       "        vertical-align: top;\n",
       "    }\n",
       "\n",
       "    .dataframe thead th {\n",
       "        text-align: right;\n",
       "    }\n",
       "</style>\n",
       "<table border=\"1\" class=\"dataframe\">\n",
       "  <thead>\n",
       "    <tr style=\"text-align: right;\">\n",
       "      <th></th>\n",
       "      <th>age</th>\n",
       "      <th>sex</th>\n",
       "      <th>q52</th>\n",
       "      <th>party</th>\n",
       "      <th>y</th>\n",
       "    </tr>\n",
       "  </thead>\n",
       "  <tbody>\n",
       "    <tr>\n",
       "      <th>0</th>\n",
       "      <td>80.0</td>\n",
       "      <td>Female</td>\n",
       "      <td>Not_favor</td>\n",
       "      <td>Independent</td>\n",
       "      <td>0</td>\n",
       "    </tr>\n",
       "    <tr>\n",
       "      <th>1</th>\n",
       "      <td>70.0</td>\n",
       "      <td>Female</td>\n",
       "      <td>Not_favor</td>\n",
       "      <td>Democrat</td>\n",
       "      <td>0</td>\n",
       "    </tr>\n",
       "    <tr>\n",
       "      <th>2</th>\n",
       "      <td>69.0</td>\n",
       "      <td>Female</td>\n",
       "      <td>Not_favor</td>\n",
       "      <td>Independent</td>\n",
       "      <td>0</td>\n",
       "    </tr>\n",
       "    <tr>\n",
       "      <th>3</th>\n",
       "      <td>50.0</td>\n",
       "      <td>Male</td>\n",
       "      <td>Favor</td>\n",
       "      <td>Republican</td>\n",
       "      <td>1</td>\n",
       "    </tr>\n",
       "    <tr>\n",
       "      <th>4</th>\n",
       "      <td>70.0</td>\n",
       "      <td>Female</td>\n",
       "      <td>Not_favor</td>\n",
       "      <td>Democrat</td>\n",
       "      <td>0</td>\n",
       "    </tr>\n",
       "    <tr>\n",
       "      <th>5</th>\n",
       "      <td>78.0</td>\n",
       "      <td>Male</td>\n",
       "      <td>Not_favor</td>\n",
       "      <td>Democrat</td>\n",
       "      <td>0</td>\n",
       "    </tr>\n",
       "    <tr>\n",
       "      <th>6</th>\n",
       "      <td>89.0</td>\n",
       "      <td>Female</td>\n",
       "      <td>Not_favor</td>\n",
       "      <td>Independent</td>\n",
       "      <td>0</td>\n",
       "    </tr>\n",
       "    <tr>\n",
       "      <th>7</th>\n",
       "      <td>92.0</td>\n",
       "      <td>Female</td>\n",
       "      <td>Not_favor</td>\n",
       "      <td>Republican</td>\n",
       "      <td>0</td>\n",
       "    </tr>\n",
       "    <tr>\n",
       "      <th>8</th>\n",
       "      <td>54.0</td>\n",
       "      <td>Female</td>\n",
       "      <td>Favor</td>\n",
       "      <td>Independent</td>\n",
       "      <td>1</td>\n",
       "    </tr>\n",
       "    <tr>\n",
       "      <th>9</th>\n",
       "      <td>58.0</td>\n",
       "      <td>Female</td>\n",
       "      <td>Not_favor</td>\n",
       "      <td>Independent</td>\n",
       "      <td>0</td>\n",
       "    </tr>\n",
       "  </tbody>\n",
       "</table>\n",
       "</div>"
      ],
      "text/plain": [
       "    age     sex        q52        party  y\n",
       "0  80.0  Female  Not_favor  Independent  0\n",
       "1  70.0  Female  Not_favor     Democrat  0\n",
       "2  69.0  Female  Not_favor  Independent  0\n",
       "3  50.0    Male      Favor   Republican  1\n",
       "4  70.0  Female  Not_favor     Democrat  0\n",
       "5  78.0    Male  Not_favor     Democrat  0\n",
       "6  89.0  Female  Not_favor  Independent  0\n",
       "7  92.0  Female  Not_favor   Republican  0\n",
       "8  54.0  Female      Favor  Independent  1\n",
       "9  58.0  Female  Not_favor  Independent  0"
      ]
     },
     "execution_count": 28,
     "metadata": {},
     "output_type": "execute_result"
    }
   ],
   "source": [
    "# reduce q52 responses to two categories and \n",
    "# create binary reponse variable\n",
    "df['q52'][df['q52']!='Favor'] = 'Not_favor'\n",
    "df['y'] = df['q52'].map({'Not_favor':0,'Favor':1})\n",
    "#\n",
    "# use cleaned data without records that have missing values\n",
    "dfclean = df.dropna()\n",
    "dfclean.head(10)"
   ]
  },
  {
   "cell_type": "markdown",
   "metadata": {},
   "source": [
    "### MODEL 1: Let's first model favor/not favor of border wall with just age and sex as explanatory variables."
   ]
  },
  {
   "cell_type": "code",
   "execution_count": 29,
   "metadata": {},
   "outputs": [
    {
     "name": "stdout",
     "output_type": "stream",
     "text": [
      "Optimization terminated successfully.\n",
      "         Current function value: 0.619057\n",
      "         Iterations 5\n"
     ]
    },
    {
     "data": {
      "text/html": [
       "<table class=\"simpletable\">\n",
       "<caption>Logit Regression Results</caption>\n",
       "<tr>\n",
       "  <th>Dep. Variable:</th>           <td>y</td>        <th>  No. Observations:  </th>  <td>  1465</td>  \n",
       "</tr>\n",
       "<tr>\n",
       "  <th>Model:</th>                 <td>Logit</td>      <th>  Df Residuals:      </th>  <td>  1462</td>  \n",
       "</tr>\n",
       "<tr>\n",
       "  <th>Method:</th>                 <td>MLE</td>       <th>  Df Model:          </th>  <td>     2</td>  \n",
       "</tr>\n",
       "<tr>\n",
       "  <th>Date:</th>            <td>Wed, 04 Nov 2020</td> <th>  Pseudo R-squ.:     </th>  <td>0.03557</td> \n",
       "</tr>\n",
       "<tr>\n",
       "  <th>Time:</th>                <td>19:08:34</td>     <th>  Log-Likelihood:    </th> <td> -906.92</td> \n",
       "</tr>\n",
       "<tr>\n",
       "  <th>converged:</th>             <td>True</td>       <th>  LL-Null:           </th> <td> -940.37</td> \n",
       "</tr>\n",
       "<tr>\n",
       "  <th>Covariance Type:</th>     <td>nonrobust</td>    <th>  LLR p-value:       </th> <td>2.960e-15</td>\n",
       "</tr>\n",
       "</table>\n",
       "<table class=\"simpletable\">\n",
       "<tr>\n",
       "       <td></td>          <th>coef</th>     <th>std err</th>      <th>z</th>      <th>P>|z|</th>  <th>[0.025</th>    <th>0.975]</th>  \n",
       "</tr>\n",
       "<tr>\n",
       "  <th>Intercept</th>   <td>   -2.0818</td> <td>    0.196</td> <td>  -10.637</td> <td> 0.000</td> <td>   -2.465</td> <td>   -1.698</td>\n",
       "</tr>\n",
       "<tr>\n",
       "  <th>sex[T.Male]</th> <td>    0.5415</td> <td>    0.114</td> <td>    4.750</td> <td> 0.000</td> <td>    0.318</td> <td>    0.765</td>\n",
       "</tr>\n",
       "<tr>\n",
       "  <th>age</th>         <td>    0.0220</td> <td>    0.003</td> <td>    6.770</td> <td> 0.000</td> <td>    0.016</td> <td>    0.028</td>\n",
       "</tr>\n",
       "</table>"
      ],
      "text/plain": [
       "<class 'statsmodels.iolib.summary.Summary'>\n",
       "\"\"\"\n",
       "                           Logit Regression Results                           \n",
       "==============================================================================\n",
       "Dep. Variable:                      y   No. Observations:                 1465\n",
       "Model:                          Logit   Df Residuals:                     1462\n",
       "Method:                           MLE   Df Model:                            2\n",
       "Date:                Wed, 04 Nov 2020   Pseudo R-squ.:                 0.03557\n",
       "Time:                        19:08:34   Log-Likelihood:                -906.92\n",
       "converged:                       True   LL-Null:                       -940.37\n",
       "Covariance Type:            nonrobust   LLR p-value:                 2.960e-15\n",
       "===============================================================================\n",
       "                  coef    std err          z      P>|z|      [0.025      0.975]\n",
       "-------------------------------------------------------------------------------\n",
       "Intercept      -2.0818      0.196    -10.637      0.000      -2.465      -1.698\n",
       "sex[T.Male]     0.5415      0.114      4.750      0.000       0.318       0.765\n",
       "age             0.0220      0.003      6.770      0.000       0.016       0.028\n",
       "===============================================================================\n",
       "\"\"\""
      ]
     },
     "execution_count": 29,
     "metadata": {},
     "output_type": "execute_result"
    }
   ],
   "source": [
    "mod1 = smf.logit('y ~ age + sex', data=dfclean).fit()\n",
    "mod1.summary()"
   ]
  },
  {
   "cell_type": "code",
   "execution_count": 30,
   "metadata": {},
   "outputs": [
    {
     "name": "stdout",
     "output_type": "stream",
     "text": [
      "0.6265544041450778\n"
     ]
    }
   ],
   "source": [
    "fprs, tprs, thresholds = roc_curve(y_true=dfclean['y'], \n",
    "                            y_score=mod1.fittedvalues)\n",
    "auc = roc_auc_score(y_true=dfclean['y'], \n",
    "                    y_score=mod1.fittedvalues)\n",
    "print(auc)"
   ]
  },
  {
   "cell_type": "code",
   "execution_count": 31,
   "metadata": {},
   "outputs": [
    {
     "data": {
      "image/png": "[encoded data removed]",
      "text/plain": [
       "<Figure size 432x288 with 1 Axes>"
      ]
     },
     "metadata": {},
     "output_type": "display_data"
    }
   ],
   "source": [
    "plot_roc(fprs, tprs, auc)"
   ]
  },
  {
   "cell_type": "markdown",
   "metadata": {},
   "source": [
    "### Assessing Effectiveness of Classifier Model 1\n",
    "<br/>\n",
    "<br/>\n",
    "<br/>\n",
    "<br/>\n",
    "<br/>\n",
    "<br/>\n",
    "We see that although 'age' and 'sex' are statistically signficant variables in the model, using only these variables to predict 'y' is not much better than random guessing. There is too much variation beyond that explained by age and gender to rely on them for accurate classfication."
   ]
  },
  {
   "cell_type": "markdown",
   "metadata": {},
   "source": [
    "### MODEL 2: Let's next see if we can make our model for predicting favor/not favor of border wall better if we NOW use the following explanatory variables:\n",
    "* age\n",
    "* sex\n",
    "* political party\n",
    "\n",
    "Let's see what happens if we add 'party' to the model as an additional explanatory variable."
   ]
  },
  {
   "cell_type": "code",
   "execution_count": 32,
   "metadata": {},
   "outputs": [
    {
     "name": "stdout",
     "output_type": "stream",
     "text": [
      "Optimization terminated successfully.\n",
      "         Current function value: 0.466129\n",
      "         Iterations 6\n"
     ]
    },
    {
     "data": {
      "text/html": [
       "<table class=\"simpletable\">\n",
       "<caption>Logit Regression Results</caption>\n",
       "<tr>\n",
       "  <th>Dep. Variable:</th>           <td>y</td>        <th>  No. Observations:  </th>   <td>  1465</td>  \n",
       "</tr>\n",
       "<tr>\n",
       "  <th>Model:</th>                 <td>Logit</td>      <th>  Df Residuals:      </th>   <td>  1458</td>  \n",
       "</tr>\n",
       "<tr>\n",
       "  <th>Method:</th>                 <td>MLE</td>       <th>  Df Model:          </th>   <td>     6</td>  \n",
       "</tr>\n",
       "<tr>\n",
       "  <th>Date:</th>            <td>Wed, 04 Nov 2020</td> <th>  Pseudo R-squ.:     </th>   <td>0.2738</td>  \n",
       "</tr>\n",
       "<tr>\n",
       "  <th>Time:</th>                <td>19:08:35</td>     <th>  Log-Likelihood:    </th>  <td> -682.88</td> \n",
       "</tr>\n",
       "<tr>\n",
       "  <th>converged:</th>             <td>True</td>       <th>  LL-Null:           </th>  <td> -940.37</td> \n",
       "</tr>\n",
       "<tr>\n",
       "  <th>Covariance Type:</th>     <td>nonrobust</td>    <th>  LLR p-value:       </th> <td>4.971e-108</td>\n",
       "</tr>\n",
       "</table>\n",
       "<table class=\"simpletable\">\n",
       "<tr>\n",
       "                <td></td>                   <th>coef</th>     <th>std err</th>      <th>z</th>      <th>P>|z|</th>  <th>[0.025</th>    <th>0.975]</th>  \n",
       "</tr>\n",
       "<tr>\n",
       "  <th>Intercept</th>                     <td>   -3.5261</td> <td>    0.281</td> <td>  -12.536</td> <td> 0.000</td> <td>   -4.077</td> <td>   -2.975</td>\n",
       "</tr>\n",
       "<tr>\n",
       "  <th>party[T.Independent]</th>          <td>    1.6843</td> <td>    0.191</td> <td>    8.796</td> <td> 0.000</td> <td>    1.309</td> <td>    2.060</td>\n",
       "</tr>\n",
       "<tr>\n",
       "  <th>party[T.No preference (VOL.)]</th> <td>    1.8226</td> <td>    0.379</td> <td>    4.807</td> <td> 0.000</td> <td>    1.079</td> <td>    2.566</td>\n",
       "</tr>\n",
       "<tr>\n",
       "  <th>party[T.Other party (VOL.)]</th>   <td>    2.8930</td> <td>    0.938</td> <td>    3.083</td> <td> 0.002</td> <td>    1.054</td> <td>    4.732</td>\n",
       "</tr>\n",
       "<tr>\n",
       "  <th>party[T.Republican]</th>           <td>    3.5862</td> <td>    0.206</td> <td>   17.435</td> <td> 0.000</td> <td>    3.183</td> <td>    3.989</td>\n",
       "</tr>\n",
       "<tr>\n",
       "  <th>sex[T.Male]</th>                   <td>    0.3721</td> <td>    0.137</td> <td>    2.712</td> <td> 0.007</td> <td>    0.103</td> <td>    0.641</td>\n",
       "</tr>\n",
       "<tr>\n",
       "  <th>age</th>                           <td>    0.0168</td> <td>    0.004</td> <td>    4.305</td> <td> 0.000</td> <td>    0.009</td> <td>    0.024</td>\n",
       "</tr>\n",
       "</table>"
      ],
      "text/plain": [
       "<class 'statsmodels.iolib.summary.Summary'>\n",
       "\"\"\"\n",
       "                           Logit Regression Results                           \n",
       "==============================================================================\n",
       "Dep. Variable:                      y   No. Observations:                 1465\n",
       "Model:                          Logit   Df Residuals:                     1458\n",
       "Method:                           MLE   Df Model:                            6\n",
       "Date:                Wed, 04 Nov 2020   Pseudo R-squ.:                  0.2738\n",
       "Time:                        19:08:35   Log-Likelihood:                -682.88\n",
       "converged:                       True   LL-Null:                       -940.37\n",
       "Covariance Type:            nonrobust   LLR p-value:                4.971e-108\n",
       "=================================================================================================\n",
       "                                    coef    std err          z      P>|z|      [0.025      0.975]\n",
       "-------------------------------------------------------------------------------------------------\n",
       "Intercept                        -3.5261      0.281    -12.536      0.000      -4.077      -2.975\n",
       "party[T.Independent]              1.6843      0.191      8.796      0.000       1.309       2.060\n",
       "party[T.No preference (VOL.)]     1.8226      0.379      4.807      0.000       1.079       2.566\n",
       "party[T.Other party (VOL.)]       2.8930      0.938      3.083      0.002       1.054       4.732\n",
       "party[T.Republican]               3.5862      0.206     17.435      0.000       3.183       3.989\n",
       "sex[T.Male]                       0.3721      0.137      2.712      0.007       0.103       0.641\n",
       "age                               0.0168      0.004      4.305      0.000       0.009       0.024\n",
       "=================================================================================================\n",
       "\"\"\""
      ]
     },
     "execution_count": 32,
     "metadata": {},
     "output_type": "execute_result"
    }
   ],
   "source": [
    "mod2 = smf.logit('y ~ party + age + sex', data=dfclean).fit()\n",
    "mod2.summary()"
   ]
  },
  {
   "cell_type": "markdown",
   "metadata": {},
   "source": [
    "Note that including 'party' entails that a few more of the rows have missing information than when we only included 'age' and 'sex'. "
   ]
  },
  {
   "cell_type": "code",
   "execution_count": 33,
   "metadata": {},
   "outputs": [
    {
     "name": "stdout",
     "output_type": "stream",
     "text": [
      "0.8329699481865286\n"
     ]
    }
   ],
   "source": [
    "fprs, tprs, thresholds = roc_curve(y_true=dfclean['y'], \n",
    "                            y_score=mod2.fittedvalues)\n",
    "auc = roc_auc_score(y_true=dfclean['y'], \n",
    "                    y_score=mod2.fittedvalues)\n",
    "print(auc)"
   ]
  },
  {
   "cell_type": "code",
   "execution_count": 34,
   "metadata": {},
   "outputs": [
    {
     "data": {
      "image/png": "[encoded data removed]",
      "text/plain": [
       "<Figure size 432x288 with 1 Axes>"
      ]
     },
     "metadata": {},
     "output_type": "display_data"
    }
   ],
   "source": [
    "plot_roc(fprs, tprs, auc)"
   ]
  },
  {
   "cell_type": "markdown",
   "metadata": {},
   "source": [
    "### Assessing the Effectiveness of Classifier Model 2\n",
    "<br/>\n",
    "<br/>\n",
    "<br/>\n",
    "<br/>\n",
    "<br/>\n",
    "<br/>\n",
    "<br/>\n",
    "<br/>\n",
    "<br/>\n",
    "It appears that including party affiliation in the model gives a big improvement in the ability of the model to predict the answer to 'q52', increasing the area under the curve from 0.63 to 0.83. There is still substantial variation remaining. \n",
    "\n"
   ]
  },
  {
   "cell_type": "markdown",
   "metadata": {},
   "source": [
    "### What threshold should we choose and how effective is our classifier with that threshold? What does that threshold mean?\n",
    "<br/>\n",
    "<br/>\n",
    "<br/>\n",
    "<br/>\n",
    "<br/>\n",
    "<br/>\n",
    "<br/>\n",
    "<br/>\n",
    "<br/>\n",
    "<br/>\n",
    "<br/>\n",
    "<br/>\n",
    "<br/>\n",
    "<br/>\n",
    "<br/>\n",
    "<br/>\n",
    "We can see that the ROC curve starts to level off around a false positive rate around 0.42. This corresponds to a true positive rate of around 0.93. These rates were generated by using a $p_0$ threshold of 0.22.\n",
    "\n",
    "We see that peoples' opinions are more than just the sum of their age, gender and party affiliation."
   ]
  },
  {
   "cell_type": "code",
   "execution_count": 35,
   "metadata": {
    "scrolled": false
   },
   "outputs": [
    {
     "name": "stdout",
     "output_type": "stream",
     "text": [
      "False Positive Rates\n",
      "[0.         0.         0.         0.00103627 0.00103627 0.00207254\n",
      " 0.00207254 0.00310881 0.00310881 0.00310881 0.00414508 0.00518135\n",
      " 0.00621762 0.00725389 0.00725389 0.00725389 0.00829016 0.00829016\n",
      " 0.00932642 0.01139896 0.01139896 0.01139896 0.01243523 0.01243523\n",
      " 0.01243523 0.0134715  0.01450777 0.01450777 0.01865285 0.01865285\n",
      " 0.01865285 0.01865285 0.01968912 0.02279793 0.0238342  0.0238342\n",
      " 0.0238342  0.02487047 0.02487047 0.02694301 0.02797927 0.02901554\n",
      " 0.02901554 0.02901554 0.03108808 0.03212435 0.03212435 0.03419689\n",
      " 0.03419689 0.03419689 0.03419689 0.03419689 0.03419689 0.03419689\n",
      " 0.03419689 0.0373057  0.03834197 0.04145078 0.04145078 0.04248705\n",
      " 0.04248705 0.04455959 0.04455959 0.04663212 0.04766839 0.04870466\n",
      " 0.04974093 0.05284974 0.05284974 0.05284974 0.05388601 0.05492228\n",
      " 0.05492228 0.05699482 0.05803109 0.05803109 0.05803109 0.05906736\n",
      " 0.05906736 0.05906736 0.05906736 0.0611399  0.0611399  0.06217617\n",
      " 0.0642487  0.0642487  0.06632124 0.06735751 0.06735751 0.06839378\n",
      " 0.06943005 0.07046632 0.07046632 0.07150259 0.07150259 0.07253886\n",
      " 0.07357513 0.07357513 0.07357513 0.07357513 0.0746114  0.07564767\n",
      " 0.07564767 0.07564767 0.07564767 0.07564767 0.07772021 0.07979275\n",
      " 0.08082902 0.08290155 0.08290155 0.08290155 0.08290155 0.08393782\n",
      " 0.08601036 0.08704663 0.0880829  0.0880829  0.08911917 0.08911917\n",
      " 0.09119171 0.09222798 0.09430052 0.09533679 0.09637306 0.09637306\n",
      " 0.10051813 0.10362694 0.10569948 0.10880829 0.10984456 0.1119171\n",
      " 0.11502591 0.11502591 0.11606218 0.11606218 0.11917098 0.12020725\n",
      " 0.12227979 0.12849741 0.13264249 0.13264249 0.13471503 0.14093264\n",
      " 0.14404145 0.14507772 0.14611399 0.15025907 0.15129534 0.15129534\n",
      " 0.15336788 0.15440415 0.15544041 0.15647668 0.15647668 0.15854922\n",
      " 0.15854922 0.16165803 0.16165803 0.16580311 0.16683938 0.16787565\n",
      " 0.16891192 0.16891192 0.17098446 0.17098446 0.17202073 0.18031088\n",
      " 0.18238342 0.18445596 0.18549223 0.18549223 0.18756477 0.18963731\n",
      " 0.19067358 0.19378238 0.19481865 0.19481865 0.20518135 0.20725389\n",
      " 0.2134715  0.21761658 0.21761658 0.22072539 0.2238342  0.22487047\n",
      " 0.22797927 0.23316062 0.23316062 0.23523316 0.23834197 0.24248705\n",
      " 0.24352332 0.2507772  0.25595855 0.26217617 0.26217617 0.26321244\n",
      " 0.26632124 0.26943005 0.27046632 0.27772021 0.28082902 0.28601036\n",
      " 0.28911917 0.29119171 0.29222798 0.29326425 0.29533679 0.30259067\n",
      " 0.30777202 0.31088083 0.31295337 0.31398964 0.31606218 0.31709845\n",
      " 0.31813472 0.3253886  0.32642487 0.32849741 0.33160622 0.33264249\n",
      " 0.34093264 0.34715026 0.34818653 0.35233161 0.35336788 0.35958549\n",
      " 0.36165803 0.36787565 0.37202073 0.37305699 0.38134715 0.38341969\n",
      " 0.38756477 0.38860104 0.39378238 0.39585492 0.39792746 0.4\n",
      " 0.40207254 0.40518135 0.40725389 0.40932642 0.41243523 0.41658031\n",
      " 0.41968912 0.42590674 0.43108808 0.43316062 0.4373057  0.44248705\n",
      " 0.44766839 0.44870466 0.45284974 0.45388601 0.46010363 0.4611399\n",
      " 0.46632124 0.47150259 0.4746114  0.47875648 0.48186528 0.48393782\n",
      " 0.48497409 0.49119171 0.49430052 0.49533679 0.49637306 0.50259067\n",
      " 0.50466321 0.50569948 0.51088083 0.51295337 0.51398964 0.51606218\n",
      " 0.51813472 0.52020725 0.52331606 0.52746114 0.52953368 0.53678756\n",
      " 0.54093264 0.5492228  0.55647668 0.55854922 0.5626943  0.56373057\n",
      " 0.56580311 0.56683938 0.56994819 0.57202073 0.57823834 0.57927461\n",
      " 0.58238342 0.58341969 0.5865285  0.58860104 0.59481865 0.59585492\n",
      " 0.60207254 0.60310881 0.60829016 0.60932642 0.6134715  0.61450777\n",
      " 0.61761658 0.62176166 0.62694301 0.63005181 0.63626943 0.63834197\n",
      " 0.64145078 0.64559585 0.64870466 0.65803109 0.65906736 0.6642487\n",
      " 0.67046632 0.68497409 0.69430052 0.69637306 0.70466321 0.70984456\n",
      " 0.71088083 0.72124352 0.72642487 0.72746114 0.72953368 0.73678756\n",
      " 0.74404145 0.74507772 0.75544041 0.76580311 0.77202073 0.77512953\n",
      " 0.78134715 0.78756477 0.79067358 0.79792746 0.79896373 0.80310881\n",
      " 0.80725389 0.81450777 0.81554404 0.81865285 0.82279793 0.83005181\n",
      " 0.83108808 0.83834197 0.84248705 0.84559585 0.84663212 0.8507772\n",
      " 0.85388601 0.85595855 0.85906736 0.8611399  0.86528497 0.87046632\n",
      " 0.87357513 0.87875648 0.88186528 0.88290155 0.88393782 0.88911917\n",
      " 0.89119171 0.89533679 0.89637306 0.90051813 0.90569948 0.91295337\n",
      " 0.91398964 0.91606218 0.92020725 0.92331606 0.92849741 0.93264249\n",
      " 0.93782383 0.94196891 0.94507772 0.95336788 0.95854922 0.96476684\n",
      " 0.97202073 0.97720207 0.97927461 0.98238342 0.98756477 0.99170984\n",
      " 0.99274611 0.99585492 1.        ]\n",
      "True Positive Rates\n",
      "[0.    0.002 0.006 0.006 0.012 0.02  0.026 0.028 0.03  0.034 0.04  0.042\n",
      " 0.042 0.05  0.052 0.056 0.06  0.072 0.074 0.078 0.086 0.088 0.094 0.1\n",
      " 0.102 0.116 0.122 0.132 0.14  0.146 0.15  0.152 0.16  0.166 0.168 0.178\n",
      " 0.182 0.19  0.192 0.204 0.216 0.22  0.236 0.244 0.248 0.254 0.256 0.26\n",
      " 0.266 0.27  0.284 0.29  0.298 0.314 0.318 0.32  0.322 0.332 0.34  0.346\n",
      " 0.35  0.352 0.354 0.36  0.36  0.372 0.372 0.376 0.388 0.396 0.4   0.412\n",
      " 0.416 0.422 0.424 0.436 0.44  0.44  0.442 0.446 0.448 0.454 0.458 0.466\n",
      " 0.468 0.47  0.474 0.474 0.48  0.484 0.486 0.49  0.494 0.5   0.502 0.504\n",
      " 0.504 0.508 0.512 0.514 0.514 0.518 0.522 0.53  0.532 0.536 0.542 0.544\n",
      " 0.548 0.548 0.554 0.558 0.56  0.562 0.562 0.564 0.568 0.57  0.57  0.574\n",
      " 0.574 0.576 0.578 0.58  0.58  0.588 0.594 0.598 0.602 0.606 0.608 0.61\n",
      " 0.612 0.614 0.618 0.62  0.624 0.624 0.624 0.626 0.632 0.638 0.638 0.646\n",
      " 0.646 0.65  0.65  0.654 0.654 0.658 0.666 0.666 0.67  0.67  0.672 0.676\n",
      " 0.678 0.68  0.684 0.69  0.69  0.692 0.692 0.696 0.696 0.7   0.7   0.702\n",
      " 0.702 0.706 0.708 0.712 0.712 0.72  0.72  0.722 0.722 0.724 0.726 0.734\n",
      " 0.738 0.74  0.742 0.75  0.752 0.752 0.752 0.752 0.754 0.76  0.76  0.76\n",
      " 0.766 0.772 0.776 0.778 0.78  0.78  0.788 0.788 0.788 0.792 0.792 0.794\n",
      " 0.8   0.8   0.8   0.804 0.804 0.808 0.812 0.818 0.82  0.82  0.822 0.828\n",
      " 0.828 0.828 0.828 0.828 0.836 0.838 0.84  0.842 0.842 0.842 0.844 0.848\n",
      " 0.848 0.85  0.86  0.86  0.864 0.864 0.868 0.87  0.874 0.874 0.876 0.88\n",
      " 0.88  0.882 0.884 0.888 0.888 0.89  0.89  0.892 0.894 0.898 0.902 0.902\n",
      " 0.904 0.906 0.906 0.906 0.91  0.91  0.914 0.914 0.914 0.914 0.914 0.916\n",
      " 0.916 0.916 0.916 0.916 0.918 0.918 0.918 0.918 0.918 0.918 0.92  0.92\n",
      " 0.922 0.922 0.922 0.922 0.922 0.922 0.922 0.922 0.924 0.924 0.924 0.924\n",
      " 0.924 0.926 0.928 0.928 0.932 0.932 0.934 0.934 0.934 0.936 0.936 0.936\n",
      " 0.936 0.936 0.936 0.936 0.936 0.938 0.938 0.938 0.938 0.938 0.938 0.938\n",
      " 0.938 0.938 0.938 0.94  0.942 0.942 0.944 0.944 0.948 0.948 0.952 0.952\n",
      " 0.952 0.952 0.952 0.952 0.952 0.958 0.958 0.958 0.962 0.962 0.962 0.962\n",
      " 0.962 0.964 0.966 0.968 0.968 0.968 0.97  0.972 0.972 0.972 0.972 0.972\n",
      " 0.974 0.974 0.976 0.978 0.978 0.978 0.978 0.986 0.986 0.986 0.986 0.986\n",
      " 0.986 0.986 0.986 0.988 0.988 0.988 0.988 0.988 0.988 0.988 0.99  0.992\n",
      " 0.994 0.994 0.994 0.994 0.994 0.994 0.994 0.994 0.994 0.994 0.994 0.994\n",
      " 0.996 0.996 0.996 0.996 0.996 0.998 0.998 0.998 1.   ]\n",
      "p_0 Thresholds\n",
      "[0.95 0.87 0.87 0.87 0.86 0.86 0.86 0.86 0.85 0.85 0.85 0.84 0.84 0.84\n",
      " 0.84 0.84 0.84 0.83 0.83 0.83 0.83 0.83 0.83 0.82 0.82 0.82 0.82 0.82\n",
      " 0.81 0.81 0.81 0.81 0.81 0.81 0.81 0.8  0.8  0.8  0.8  0.8  0.8  0.79\n",
      " 0.79 0.79 0.79 0.79 0.79 0.78 0.78 0.78 0.78 0.78 0.78 0.77 0.77 0.77\n",
      " 0.77 0.77 0.77 0.77 0.76 0.76 0.76 0.76 0.76 0.76 0.75 0.75 0.75 0.75\n",
      " 0.74 0.74 0.74 0.74 0.74 0.74 0.74 0.73 0.73 0.73 0.73 0.73 0.73 0.72\n",
      " 0.72 0.72 0.72 0.71 0.71 0.71 0.71 0.71 0.71 0.7  0.7  0.7  0.7  0.69\n",
      " 0.69 0.69 0.69 0.68 0.68 0.68 0.68 0.68 0.68 0.67 0.66 0.66 0.65 0.65\n",
      " 0.64 0.64 0.61 0.6  0.59 0.59 0.57 0.49 0.48 0.47 0.46 0.46 0.45 0.45\n",
      " 0.45 0.44 0.44 0.44 0.43 0.43 0.43 0.42 0.42 0.42 0.41 0.41 0.41 0.41\n",
      " 0.41 0.4  0.4  0.39 0.39 0.39 0.39 0.39 0.39 0.38 0.38 0.38 0.37 0.37\n",
      " 0.37 0.37 0.37 0.37 0.37 0.36 0.36 0.36 0.36 0.36 0.35 0.35 0.35 0.35\n",
      " 0.34 0.34 0.34 0.34 0.34 0.34 0.34 0.34 0.33 0.33 0.33 0.33 0.33 0.33\n",
      " 0.33 0.33 0.32 0.32 0.32 0.32 0.32 0.32 0.32 0.31 0.31 0.31 0.31 0.31\n",
      " 0.31 0.3  0.3  0.3  0.3  0.3  0.3  0.3  0.29 0.29 0.29 0.29 0.29 0.29\n",
      " 0.29 0.28 0.28 0.28 0.28 0.28 0.28 0.28 0.27 0.27 0.27 0.27 0.27 0.27\n",
      " 0.27 0.27 0.27 0.26 0.26 0.26 0.26 0.26 0.26 0.26 0.25 0.25 0.25 0.25\n",
      " 0.25 0.25 0.24 0.24 0.24 0.24 0.24 0.24 0.23 0.23 0.23 0.23 0.22 0.22\n",
      " 0.22 0.21 0.21 0.21 0.21 0.2  0.2  0.2  0.2  0.19 0.19 0.19 0.19 0.18\n",
      " 0.18 0.18 0.18 0.14 0.14 0.14 0.14 0.13 0.13 0.13 0.13 0.12 0.12 0.12\n",
      " 0.12 0.12 0.11 0.11 0.11 0.11 0.11 0.11 0.11 0.11 0.11 0.11 0.1  0.1\n",
      " 0.1  0.1  0.1  0.1  0.1  0.1  0.1  0.1  0.1  0.1  0.1  0.09 0.09 0.09\n",
      " 0.09 0.09 0.09 0.09 0.09 0.09 0.09 0.09 0.09 0.09 0.08 0.08 0.08 0.08\n",
      " 0.08 0.08 0.08 0.08 0.08 0.08 0.08 0.08 0.08 0.07 0.07 0.07 0.07 0.07\n",
      " 0.07 0.07 0.07 0.07 0.07 0.07 0.07 0.07 0.07 0.07 0.07 0.07 0.06 0.06\n",
      " 0.06 0.06 0.06 0.06 0.06 0.06 0.06 0.06 0.06 0.06 0.06 0.06 0.06 0.06\n",
      " 0.06 0.06 0.06 0.06 0.06 0.05 0.05 0.05 0.05 0.05 0.05 0.05 0.05 0.05\n",
      " 0.05 0.05 0.05 0.05 0.04 0.04 0.04 0.04 0.04 0.04 0.04 0.04 0.04 0.04\n",
      " 0.04]\n"
     ]
    }
   ],
   "source": [
    "print('False Positive Rates')\n",
    "print(fprs)\n",
    "print('True Positive Rates')\n",
    "print(tprs)\n",
    "print('p_0 Thresholds')\n",
    "#The 'thresholds' output is a log_odds threshold. We want to convert each log_odds threshold to a p threshold.\n",
    "# Remember odds= exp(log_odds)\n",
    "# Also remember p = odds/(1+odds)\n",
    "p_thresholds=np.exp(thresholds)/(1+np.exp(thresholds))\n",
    "print(np.round(p_thresholds,2))"
   ]
  },
  {
   "cell_type": "markdown",
   "metadata": {},
   "source": [
    "### What index(s) in the fprs list is equal to around 0.42?"
   ]
  },
  {
   "cell_type": "code",
   "execution_count": 36,
   "metadata": {},
   "outputs": [
    {
     "data": {
      "text/plain": [
       "(array([240, 241, 242, 243, 244, 245, 246, 247, 248, 249, 250], dtype=int64),)"
      ]
     },
     "execution_count": 36,
     "metadata": {},
     "output_type": "execute_result"
    }
   ],
   "source": [
    "np.where((fprs>.40) & (fprs<.44))"
   ]
  },
  {
   "cell_type": "markdown",
   "metadata": {},
   "source": [
    "### What is the corresponding true positive rate and $p_0$ threshold (for a false positive rate of 0.4)?"
   ]
  },
  {
   "cell_type": "code",
   "execution_count": 37,
   "metadata": {},
   "outputs": [
    {
     "name": "stdout",
     "output_type": "stream",
     "text": [
      "True positive rate\n",
      "0.132\n",
      "p_0 threshold\n",
      "0.8162119939653578\n"
     ]
    }
   ],
   "source": [
    "print('True positive rate')\n",
    "print(tprs[27])\n",
    "print('p_0 threshold')\n",
    "print(p_thresholds[27])"
   ]
  },
  {
   "cell_type": "markdown",
   "metadata": {},
   "source": [
    "#### Thus, using this threshold, how would our model classify a 20-year old, female, Democrat?\n",
    "<br/>\n",
    "<br/>\n",
    "<br/>\n",
    "<br/>\n",
    "<br/>\n",
    "<br/>\n",
    "<br/>\n",
    "<br/>\n",
    "<br/>\n",
    "<br/>\n",
    "<br/>"
   ]
  },
  {
   "cell_type": "code",
   "execution_count": 38,
   "metadata": {},
   "outputs": [
    {
     "data": {
      "text/plain": [
       "0    0.039545\n",
       "dtype: float64"
      ]
     },
     "execution_count": 38,
     "metadata": {},
     "output_type": "execute_result"
    }
   ],
   "source": [
    "mod2.predict(exog=dict(age=20, sex='Female', party='Democrat'))"
   ]
  },
  {
   "cell_type": "markdown",
   "metadata": {},
   "source": [
    "---\n",
    "STAT 207, Douglas Simpson, University of Illinois at Urbana-Champaign"
   ]
  }
 ],
 "metadata": {
  "kernelspec": {
   "display_name": "Python 3",
   "language": "python",
   "name": "python3"
  },
  "language_info": {
   "codemirror_mode": {
    "name": "ipython",
    "version": 3
   },
   "file_extension": ".py",
   "mimetype": "text/x-python",
   "name": "python",
   "nbconvert_exporter": "python",
   "pygments_lexer": "ipython3",
   "version": "3.8.5"
  }
 },
 "nbformat": 4,
 "nbformat_minor": 2
}
