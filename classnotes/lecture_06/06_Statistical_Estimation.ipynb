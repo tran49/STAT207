{
 "cells": [
  {
   "cell_type": "markdown",
   "metadata": {},
   "source": [
    "<!--# STAT 207: Data Science Exploration-->\n",
    "## Statistics, Parameters and Random Variables\n",
    "\n",
    "The Pew Research Center survey data illustrate a general challenge in statistical design and analysis of studies: we are interested in certain population parameters such as the proportion of adults in the population who hold a favorable few of a certain policy, but practical and financial considerations dictate that we can only query a sample of individuals. Two key questions are:\n",
    "\n",
    "\n",
    "+ How should the sample be selected? A general principle is to select individuals using a random sampling mechanism. This will ensure that the results obtained from the sample will be **representative** of the population frame from which the study sample was drawn. \n",
    "\n",
    "\n",
    "+ Even if ideal random sampling is achieved, how far from the population results are the results that we see in the sample? \n",
    "\n",
    "In the previous section we saw that sample statistics such as the mean, median and proportion have inherent sampling variation that depends on which individuals are sampled. The good news is that this variation is predictable from probability models, and it can be estimated. \n",
    "\n",
    "For example, our Monte Carlo simulation experiments demonstrated that the sample proportion gets closer and closer, on average, to the population proportion as the sample size increases. In particular, its standard deviation, decreases in proportion to the square root of the sample size. \n",
    "\n",
    "In the next section we will discuss how we can get more precise uncertainty estimates, and use these to construct confidence intervals for population parameters.\n",
    "\n",
    "First, we need some terminology:\n",
    "\n",
    "**Definition:** A **parameter** is a quantitative measure or feature of a population or theoretical model. It can be a single number, an array of numbers combining multiple measures, or an entire function such as a age-adjusted mortality curve. \n",
    "\n",
    "**Definition:** a **statistic** is a quantitative measure or feature of an observed sample or an empirically estimated model. It can also be a single number, and array of numbers or even a function, as long as it can be completely determined by the observed sample.\n",
    "\n",
    "In a wide range of applications we obtain sample statistics in order to gain information and draw conclusions about the population parameters. \n",
    "\n",
    "Before developing those methods, we explore the concept of a random variables, and study how random variables allow us to formulate models for variation in data more precisely.\n",
    "\n",
    "\n"
   ]
  },
  {
   "cell_type": "markdown",
   "metadata": {},
   "source": [
    "\n",
    "This section explores several examples of random variables and their probability distributions including\n",
    "\n",
    "+ **Bernoulli** - discrete 0/1 valued random variable\n",
    "\n",
    "+ **Geometric** (special case of negative binomial) - discrete random variable with possible values {0, 1, 2, 3, ...}\n",
    "\n",
    "+ **Normal** - continuous symmetric distribution on $(-\\infty, \\infty)$\n",
    "\n",
    "+ **Truncated normal** - restriction of the normal distribution to a specific interval $[a, b]$\n",
    "\n",
    "+ **Exponential** - a waiting time distribution on $[0, \\infty)$"
   ]
  },
  {
   "cell_type": "markdown",
   "metadata": {},
   "source": [
    "The **probability** of an event involving random variables follows basic rules. Furthermore, understanding when different events are **mutually exclusive** or **independent** is important in determining the probabilities of compound events. At the end of this section we provide a quick review along with illustrations of how certain probability principles apply to events involving random variables."
   ]
  },
  {
   "cell_type": "code",
   "execution_count": 1,
   "metadata": {},
   "outputs": [],
   "source": [
    "import pandas as pd\n",
    "import numpy as np\n",
    "import matplotlib.pyplot as plt\n",
    "import seaborn as sns; sns.set()"
   ]
  },
  {
   "cell_type": "code",
   "execution_count": 3,
   "metadata": {},
   "outputs": [],
   "source": [
    "from scipy.stats import binom"
   ]
  },
  {
   "cell_type": "code",
   "execution_count": 4,
   "metadata": {},
   "outputs": [
    {
     "ename": "NameError",
     "evalue": "name 'binomcdf' is not defined",
     "output_type": "error",
     "traceback": [
      "\u001b[1;31m---------------------------------------------------------------------------\u001b[0m",
      "\u001b[1;31mNameError\u001b[0m                                 Traceback (most recent call last)",
      "\u001b[1;32m<ipython-input-4-4d76ab9d52d6>\u001b[0m in \u001b[0;36m<module>\u001b[1;34m\u001b[0m\n\u001b[1;32m----> 1\u001b[1;33m \u001b[0mbinomcdf\u001b[0m\u001b[1;33m(\u001b[0m\u001b[1;36m6\u001b[0m\u001b[1;33m,\u001b[0m\u001b[1;36m0.9\u001b[0m\u001b[1;33m,\u001b[0m\u001b[1;36m1\u001b[0m\u001b[1;33m)\u001b[0m\u001b[1;33m\u001b[0m\u001b[1;33m\u001b[0m\u001b[0m\n\u001b[0m",
      "\u001b[1;31mNameError\u001b[0m: name 'binomcdf' is not defined"
     ]
    }
   ],
   "source": [
    "binomcdf(6,0.9,1)"
   ]
  },
  {
   "cell_type": "markdown",
   "metadata": {},
   "source": [
    "### Some background on random variables and distributions\n",
    "\n",
    "#### Discrete random variables\n",
    "\n",
    "In many cases, the model or random variable can only take on a finite or \"countable\" set of values. As an example, let's consider an experiment where we toss a coin until the first time we get \"heads.\" This is like sampling repeatedly from the following data frame until we get an \"H\". We count how many we have to sample before \"H\" shows up."
   ]
  },
  {
   "cell_type": "code",
   "execution_count": 2,
   "metadata": {},
   "outputs": [
    {
     "data": {
      "text/html": [
       "<div>\n",
       "<style scoped>\n",
       "    .dataframe tbody tr th:only-of-type {\n",
       "        vertical-align: middle;\n",
       "    }\n",
       "\n",
       "    .dataframe tbody tr th {\n",
       "        vertical-align: top;\n",
       "    }\n",
       "\n",
       "    .dataframe thead th {\n",
       "        text-align: right;\n",
       "    }\n",
       "</style>\n",
       "<table border=\"1\" class=\"dataframe\">\n",
       "  <thead>\n",
       "    <tr style=\"text-align: right;\">\n",
       "      <th></th>\n",
       "      <th>side</th>\n",
       "    </tr>\n",
       "  </thead>\n",
       "  <tbody>\n",
       "    <tr>\n",
       "      <th>0</th>\n",
       "      <td>T</td>\n",
       "    </tr>\n",
       "    <tr>\n",
       "      <th>1</th>\n",
       "      <td>H</td>\n",
       "    </tr>\n",
       "  </tbody>\n",
       "</table>\n",
       "</div>"
      ],
      "text/plain": [
       "  side\n",
       "0    T\n",
       "1    H"
      ]
     },
     "execution_count": 2,
     "metadata": {},
     "output_type": "execute_result"
    }
   ],
   "source": [
    "coin = pd.DataFrame({'side': ['T', 'H']}, index=[0,1])\n",
    "coin"
   ]
  },
  {
   "cell_type": "markdown",
   "metadata": {},
   "source": [
    "Here is some code using a \"while\" loop to keep flipping our simulated coin until we get 'heads'. Rerun the cell to see how the the count 'X' varies randomly. The .item() function pulls the value from the generated 1 item Series, so we can check if it equals 'H' or not. "
   ]
  },
  {
   "cell_type": "code",
   "execution_count": 3,
   "metadata": {},
   "outputs": [
    {
     "name": "stdout",
     "output_type": "stream",
     "text": [
      "T\n",
      "T\n",
      "T\n",
      "T\n",
      "H\n"
     ]
    },
    {
     "data": {
      "text/plain": [
       "5"
      ]
     },
     "execution_count": 3,
     "metadata": {},
     "output_type": "execute_result"
    }
   ],
   "source": [
    "X = 0\n",
    "flip='T'\n",
    "while flip != 'H':\n",
    "    flip = coin.sample(1)['side'].item()\n",
    "    print(flip)\n",
    "    X = X + 1\n",
    "X"
   ]
  },
  {
   "cell_type": "markdown",
   "metadata": {},
   "source": [
    "Here we take $X$ to be the random number of times we have to toss the coin. We'll assume for now that \"heads\" and \"tails\" are equally likely, and that all tosses are independent. \n",
    "\n",
    "The possible values of $X$ are: 1, 2, 3, ...\n",
    "\n",
    "What are the probabilities of the different values?"
   ]
  },
  {
   "cell_type": "markdown",
   "metadata": {},
   "source": [
    "Let's work out the first few probablities: \n",
    "\n",
    "$$\n",
    "P(X=1) = P(H\\, \\text{first toss}) = {1\\over 2} = 0.50\n",
    "$$\n",
    "\n",
    "$$\n",
    "P(X=2) = P(T\\, \\text{first}, H\\, \\text{next}) = {(1)(1)\\over (2)(2)} = {1\\over 4} = 0.25\n",
    "$$\n",
    "\n",
    "$$\n",
    "P(X=3) = P(T\\, \\text{first}, T\\, \\text{second}, H\\, \\text{third}) = {(1)(1)(1)\\over (2)(2)(2)} = {1\\over 8} = 0.0125\n",
    "$$\n"
   ]
  },
  {
   "cell_type": "markdown",
   "metadata": {},
   "source": [
    "A pattern is emerging. Let's consider a generic possible value $k > 1$. In order to get $X=k$ we need to get $k-1$ tails and then a head. There are $2^k$ possible outcomes for the first $k$ tosses. But there is only one sequence of $k$ heads and tails of the form TTT...TTH. Because all possible sequences are equally likely it follows that\n",
    "\n",
    "$$\n",
    "p(k) = P(X = k) = {1\\over 2^k} = {\\left({1\\over 2}\\right)^k}, \\quad k=1,2,3,\\ldots\n",
    "$$"
   ]
  },
  {
   "cell_type": "markdown",
   "metadata": {},
   "source": [
    "Values in between the *discrete* integer counts are not possible in this example, so we refer to $X$ and its distribution as being **discrete**. For discrete random variables we can describe their distribution by the **probability mass function (pmf)** instead of the probability density function. The pmf gives the probabilities of all the dsicrete possible values of the random variable.\n",
    "\n",
    "The SciPy library includes the distribution above, except for the random variable $Y = X-1$ instead of $X$ as defined above. We can think of $Y$ as the number of \"Tails\" before the first \"Heads\" toss.\n",
    "\n",
    "What is the pmf for $Y$?\n",
    "\n",
    "$$\n",
    "p_Y(k) = P(Y=k) = P(X=k+1) = p_X(k+1) = \\left({1\\over 2}\\right)^{k+1}, \\quad k=0, 1, 2, \\ldots\n",
    "$$"
   ]
  },
  {
   "cell_type": "markdown",
   "metadata": {},
   "source": [
    "Next we import a from a new library, scipy.stats, which includes many different probablity models for random variables and their distributions. In this case we import the negative binomial model package, 'nbinom'."
   ]
  },
  {
   "cell_type": "code",
   "execution_count": 4,
   "metadata": {},
   "outputs": [],
   "source": [
    "from scipy.stats import nbinom"
   ]
  },
  {
   "cell_type": "code",
   "execution_count": 5,
   "metadata": {},
   "outputs": [
    {
     "data": {
      "image/png": "[encoded data removed]",
      "text/plain": [
       "<Figure size 432x288 with 1 Axes>"
      ]
     },
     "metadata": {
      "needs_background": "light"
     },
     "output_type": "display_data"
    }
   ],
   "source": [
    "x = np.arange(0,10)\n",
    "plt.plot(x, nbinom.pmf(x, n=1, p=0.5), 'bo')\n",
    "plt.title(\"Probability Mass Function\")\n",
    "plt.vlines(x, 0, nbinom.pmf(x, n=1, p=0.5), lw=2, colors='blue')\n",
    "plt.xlabel(\"x\")\n",
    "plt.ylabel(\"p(x)\")\n",
    "plt.show()"
   ]
  },
  {
   "cell_type": "markdown",
   "metadata": {},
   "source": [
    "For an arbitrary discrete distribution, let's denote the possible values in the population as\n",
    "\n",
    "$$\n",
    "x_1, x_2, x_3, \\ldots\n",
    "$$\n",
    "\n",
    "These might be integers, or they could be some other discrete set such as a grid of numbers between 0 and 1. \n",
    "\n",
    "The **probability mass function (pmf)** is then given by\n",
    "\n",
    "$$\n",
    "p(x) = P(X=x) \\quad x=x_1, x_2, x_3, \\ldots\n",
    "$$\n",
    "\n",
    "and $p(x)=0$ if $x$ is not in the discrete set $\\{x_1, x_2, x_3, \\ldots\\}$.\n",
    "\n",
    "For discrete random variables we can define the **cumulative distribution function** in the same way as we do later for continuous random variables:\n",
    "\n",
    "$$\n",
    "F(x) = P(X\\le x)\\quad \\text{for any value of } x\n",
    "$$\n",
    "\n",
    "**Example:** For the coin tossing example, what is the probability of at most 2.7 tails before the first heads? This is\n",
    "\n",
    "$$\n",
    "\\begin{align}\n",
    "F(2.7) &= P(Y \\le 2.7) \\\\\n",
    "&= P(Y \\le 2.0) = p(0) + p(1) + p(2) = {1\\over 2} + {1\\over 4} + {1\\over 8} = 0.875\\\\\n",
    "\\end{align}\n",
    "$$"
   ]
  },
  {
   "cell_type": "markdown",
   "metadata": {},
   "source": [
    "\n",
    "#### Continuous random variables\n",
    "\n",
    "For a different kind of random variable, suppose we have a large population and for each member we have a quantitative feature, $X$ (e.g., hours watching of YouTube in a given week). If we knew $X$ for every member of the population we could summarize how it is distributed with a density histogram. Maybe it would look like the figure below, using one of the many families of distributions available in the SciPy library."
   ]
  },
  {
   "cell_type": "code",
   "execution_count": 1,
   "metadata": {},
   "outputs": [],
   "source": [
    "from scipy.stats import truncnorm"
   ]
  },
  {
   "cell_type": "code",
   "execution_count": 7,
   "metadata": {},
   "outputs": [
    {
     "data": {
      "image/png": "[encoded data removed]",
      "text/plain": [
       "<Figure size 432x288 with 1 Axes>"
      ]
     },
     "metadata": {
      "needs_background": "light"
     },
     "output_type": "display_data"
    }
   ],
   "source": [
    "a, b, loc, scale = 0.0, 20, 0, 2\n",
    "x = np.linspace(truncnorm.ppf(0.0, a=a, b=b, loc=loc, scale=scale), \n",
    "                truncnorm.ppf(0.99, a=a, b=b, loc=loc, scale=scale), 100)\n",
    "plt.plot(x, truncnorm.pdf(x, a=a, b=b, loc=loc, scale=scale))\n",
    "plt.xlabel('x (hrs)')\n",
    "plt.ylabel('f(x)')\n",
    "plt.title('Probability Density Function')\n",
    "plt.show()"
   ]
  },
  {
   "cell_type": "markdown",
   "metadata": {},
   "source": [
    "In the figure, $f(x)$ denotes the **probability density function (pdf)** for the random variable $X$, which represents the number of hours for one random draw from this population. Like the density histogram, the pdf represents probabilities by areas under the curve. Specifically,\n",
    "\n",
    "$$\n",
    "P(a \\lt X \\le b) = \\int_a^b f(x) dx = \\text{ area under the curve between a and b}.\n",
    "$$\n",
    "\n",
    "At this point, it is also useful to define the **cumulative distribution function (cdf)**, which gives the probability that $X$ is less than or equal to $x$ each any specific value x. In general we have\n",
    "\n",
    "$$\n",
    "F(x) = P(X \\le x) \\quad \\text{ for any value of x}.\n",
    "$$\n",
    "\n",
    "With this definition it follows that\n",
    "\n",
    "$$\n",
    "P(a \\lt X \\le b) = F(b) - F(a).\n",
    "$$\n",
    "\n",
    "For many parametric families of distributions, including the distribution above, the cdf will be available via accurate numerical computing algorithms. \n",
    "\n",
    "Here is what the cdf looks like for the \"YouTube watching\" distribution:\n"
   ]
  },
  {
   "cell_type": "code",
   "execution_count": 8,
   "metadata": {},
   "outputs": [
    {
     "data": {
      "image/png": "[encoded data removed]",
      "text/plain": [
       "<Figure size 432x288 with 1 Axes>"
      ]
     },
     "metadata": {
      "needs_background": "light"
     },
     "output_type": "display_data"
    }
   ],
   "source": [
    "plt.plot(x, truncnorm.cdf(x, a=a, b=b, loc=loc, scale=scale))\n",
    "plt.xlabel('x (hrs)')\n",
    "plt.ylabel('F(x)')\n",
    "plt.title('Cumulative Distribution Function')\n",
    "plt.show()"
   ]
  },
  {
   "cell_type": "markdown",
   "metadata": {},
   "source": [
    "Because the cdf is *continuous* with no jumps in the function, we say that the random variable $X$ is a *continuous* random variable, and the distribution is a *continuous* distribution.\n",
    "\n",
    "The cdf increases as a function of the potential value $x$. Why? For any numbers $a$ and $b$ with $a < b$ the event\n",
    "$\\{X \\le a\\}$ implies the event $\\{X \\le b\\}$ (why?). Therefore, for any such numbers we have: \n",
    "\n",
    "$$\n",
    "a \\lt b\\quad \\text{implies}\\quad F(a) = P(X \\le a)  \\le P(X \\le b) = F(b).\n",
    "$$\n",
    "\n",
    "The cdf curve is handy because the height of the curve at any point $x$ gives the probability that $X$ is less than or equal to that value $x$. "
   ]
  },
  {
   "cell_type": "markdown",
   "metadata": {},
   "source": [
    "### Population parameters"
   ]
  },
  {
   "cell_type": "markdown",
   "metadata": {},
   "source": [
    "We next consider various types of parameters that could be used to describe the distribution or probability model for a random variable $X$. In each case we show the generic form of a scipy.stats function call to compute the parameter. Substitute the actual distribution for 'dist' in each expression. In each cases additional distribution arguments may be supplied.\n",
    "\n",
    "**Examples:**\n",
    "\n",
    "\n",
    "+ The **proportion less than or equal to 2** is  $p=P(X \\le 2) = F(2)$.\n",
    "\n",
    "        dist.cdf(2)\n",
    "\n",
    "\n",
    "+ The **median** splits the probability distribution in half. For a continuous distribution the median solves $F(m)= {1\\over 2}$. For a discrete distribution the median could be at a jump point of the cdf so we require $P(X \\le m)\\ge {1\\over 2}$ and $P(X \\ge m)\\ge {1\\over 2}$.\n",
    "\n",
    "        dist.median()\n",
    "\n",
    "\n",
    "\n",
    "+ The **first quartile** (25th percentile) $Q_1$ solves $F(Q_1) = 0.25$.\n",
    "\n",
    "        dist.ppf(0.25)\n",
    "\n",
    "\n",
    "+ The **mean** or **expectation** $\\mu=E(X)$ is the center of mass of the distribution, which weights all the possible values by either their probablity density or their probability mass:\n",
    "\n",
    "    - Continuous distributions:  $\\mu=E(X)=\\int x f(x) dx$\n",
    "\n",
    "    - Discrete distributions: $\\mu=E(X)=\\sum_{i} x_i p(x_i)$\n",
    "\n",
    "\n",
    "         dist.mean()\n",
    "        \n",
    "\n",
    "\n",
    "+ The **variance** is the mean squared deviation from the mean, $\\sigma^2=Var(X)=E((X-\\mu)^2)$.\n",
    "\n",
    "        dist.var()\n",
    "\n",
    "\n",
    "+ The **standard deviation** is the square root of the variance, \n",
    "\n",
    "$$\n",
    "\\sigma = SD(X) = \\sqrt{Var(X)} = \\text{root mean square of deviations from } \\mu.\n",
    "$$\n",
    "\n",
    "        dist.std()\n",
    "        "
   ]
  },
  {
   "cell_type": "markdown",
   "metadata": {},
   "source": [
    "**Example: Bernoulli random variables.** Suppose $X$ can only be 0 or 1, and the probability of 1 is 0.90. The pmf is given by $p(0)=0.1$ and $p(1)=0.9$. The cdf has values:\n",
    "\n",
    "$$\n",
    "F(x) = \n",
    "\\begin{cases}\n",
    "0,\\quad\\quad x\\lt 0\\\\ \n",
    "0.1,\\quad 0\\le x \\lt 1\\\\\n",
    "1, \\quad\\quad x\\ge 1\\\\\\end{cases}\n",
    "$$\n",
    "\n",
    "We see that 1 is the \"median\" of this distribution because $P(X \\le 1)=0.9 \\ge 0.5$ and $P(X \\ge 1) = 0.9 \\ge 0.5$. Basically, the cdf \"jumps past 0.5\" at 1, so that's where the median is. \n",
    "\n",
    "A harder case is if $p(0)=p(1)=0.5$. In this case, both $0$ and $1$ are medians, along with every value in between! The convention is then to define the median to be the middle of the median values, namely, 0.5.\n",
    "\n",
    "The mean and variance of a Bernoulli random variable have simple forms. As an exercise, try to show that if $P(X=1)=p$, then $E(X)=p$ and $Var(X) = p(1-p)$.\n"
   ]
  },
  {
   "cell_type": "markdown",
   "metadata": {},
   "source": [
    "**Example: Youtube viewing population with truncated normal distribution.**\n",
    "\n",
    "Using ScyPy functions, we compute the mean, the median, the standard deviation, and the proportion less than 2 hours for this population."
   ]
  },
  {
   "cell_type": "code",
   "execution_count": 9,
   "metadata": {},
   "outputs": [
    {
     "data": {
      "text/html": [
       "<div>\n",
       "<style scoped>\n",
       "    .dataframe tbody tr th:only-of-type {\n",
       "        vertical-align: middle;\n",
       "    }\n",
       "\n",
       "    .dataframe tbody tr th {\n",
       "        vertical-align: top;\n",
       "    }\n",
       "\n",
       "    .dataframe thead th {\n",
       "        text-align: right;\n",
       "    }\n",
       "</style>\n",
       "<table border=\"1\" class=\"dataframe\">\n",
       "  <thead>\n",
       "    <tr style=\"text-align: right;\">\n",
       "      <th></th>\n",
       "      <th>population</th>\n",
       "    </tr>\n",
       "  </thead>\n",
       "  <tbody>\n",
       "    <tr>\n",
       "      <th>mean</th>\n",
       "      <td>1.595769</td>\n",
       "    </tr>\n",
       "    <tr>\n",
       "      <th>median</th>\n",
       "      <td>1.348980</td>\n",
       "    </tr>\n",
       "    <tr>\n",
       "      <th>std</th>\n",
       "      <td>1.205621</td>\n",
       "    </tr>\n",
       "    <tr>\n",
       "      <th>prop</th>\n",
       "      <td>0.682689</td>\n",
       "    </tr>\n",
       "  </tbody>\n",
       "</table>\n",
       "</div>"
      ],
      "text/plain": [
       "        population\n",
       "mean      1.595769\n",
       "median    1.348980\n",
       "std       1.205621\n",
       "prop      0.682689"
      ]
     },
     "execution_count": 9,
     "metadata": {},
     "output_type": "execute_result"
    }
   ],
   "source": [
    "params = ['mean', 'median', 'std', 'prop']\n",
    "pop = [truncnorm.mean(a=a, b=b, loc=loc, scale=scale),\n",
    "      truncnorm.median(a=a, b=b, loc=loc, scale=scale),\n",
    "      truncnorm.std(a=a, b=b, loc=loc, scale=scale),\n",
    "      truncnorm.cdf(2, a=a, b=b, loc=loc, scale=scale)]\n",
    "pd.DataFrame({'population': pop}, index=params)"
   ]
  },
  {
   "cell_type": "markdown",
   "metadata": {},
   "source": [
    "Note: to get quick information about a function query it as in the following example:\n",
    "?np.linspace"
   ]
  },
  {
   "cell_type": "markdown",
   "metadata": {},
   "source": [
    "### Sample Statistics\n",
    "\n",
    "**Mathematicatical notation using random variables**\n",
    "\n",
    "Remembering that $X$ is a random variable representing one draw from the population distribution, we represent the sample data as a collection of $n$ *independent* random draws from the population:\n",
    "\n",
    "$$\n",
    "\\text{Sample:}\\quad X_1, X_2, X_3, \\ldots, X_n.\n",
    "$$\n",
    "\n",
    "Using this notation the sample statistics analogous to the population parameters above can be described mathematically and operationally as follows. In each case the generic form of a pandas function call is given. Substitute the name of data frame for 'df' and the name of target variable for 'x'.\n",
    "\n",
    "\n",
    "+ **Sample mean:** \n",
    "\n",
    "        df['x'].mean()\n",
    "\n",
    "$$\n",
    "\\bar{X} = {1\\over n} \\sum_{i=1}^n X_i = {X_1+X_2+X_3+\\cdots+X_n\\over n}\n",
    "$$\n",
    "\n",
    "\n",
    "+ **Sample variance:**\n",
    "\n",
    "        df['x'].var()\n",
    "\n",
    "$$\n",
    "S^2 = {1\\over n-1} \\sum_{i=1}^n (X_i - \\bar{X})^2\n",
    "$$\n",
    "\n",
    "+ **Standard deviation:**  \n",
    "\n",
    "        df['x'].std()\n",
    "\n",
    "$$\n",
    "S = \\sqrt{S^2}\n",
    "$$\n",
    "\n",
    "+ **Proportion $\\le$ 2:**\n",
    "\n",
    "        (df['x'] <= 2).mean()\n",
    "\n",
    "$$\n",
    "\\hat{p} = {1\\over n} \\sum_{i=1}^n 1\\{X_i \\le 2\\} = {\\# \\{X_i \\le 2\\}\\over n}\n",
    "$$\n",
    "\n",
    "+ **Median:** Split the sorted data in half\n",
    "\n",
    "        df['x'].median()\n",
    "\n",
    "    1. Represent sorted data as  $X_{(1)}\\le X_{(2)}\\le\\cdots\\le X_{(n)}$\n",
    "    \n",
    "    2. Middle value if $n$ is odd: \n",
    "    \n",
    "    $$\n",
    "    M=X_{({n+1\\over 2})}\n",
    "    $$\n",
    "    \n",
    "    3. Average of two middle values if $n$ is even: \n",
    "    \n",
    "    $$\n",
    "    M={X_{({n\\over 2})}+X_{({n\\over 2}+1)} \\over 2}\n",
    "    $$ \n",
    "\n",
    "+ **First quartile (25th percentile):** Quick way for hand calculation is median of sorted observations below the median. \n",
    "\n",
    "        df['x'].quantile(q=0.25)\n",
    "        "
   ]
  },
  {
   "cell_type": "markdown",
   "metadata": {},
   "source": [
    "**Two important observations:**\n",
    "\n",
    "1. All of these sample statistics are themselves random variables. Getting their observed values amuonts to collecting the data and computing the statistics of interest.\n",
    "\n",
    "2. Because the sample statistics are random varaibles they have distributions, means, standard deviations etc. that can aid us in determining their accuracy as population parameter estimates."
   ]
  },
  {
   "cell_type": "markdown",
   "metadata": {},
   "source": [
    "####  Example: Youtube viewing population with truncated normal distribution."
   ]
  },
  {
   "cell_type": "markdown",
   "metadata": {},
   "source": [
    "Let's draw a sample of 25 individuals (Sim people!) from the YouTube watching population described previously and see how their sample statistics compare to the population parameters."
   ]
  },
  {
   "cell_type": "code",
   "execution_count": 10,
   "metadata": {},
   "outputs": [
    {
     "data": {
      "text/plain": [
       "array([4.60161215, 0.67213215, 0.41712546, 1.20797127, 2.28589186,\n",
       "       0.51452676, 0.4779413 , 0.54765574, 2.54610388, 1.61507153,\n",
       "       1.21020062, 1.80816067, 0.72037364, 0.58751592, 0.92542878,\n",
       "       0.16130054, 2.22666616, 4.19188996, 2.53128566, 0.34640544,\n",
       "       0.13278954, 0.71911358, 2.07008103, 2.43529263, 3.51014469])"
      ]
     },
     "execution_count": 10,
     "metadata": {},
     "output_type": "execute_result"
    }
   ],
   "source": [
    "a, b, loc, scale = 0.0, 20, 0, 2\n",
    "sample = truncnorm.rvs(a=a, b=b, loc=loc, scale=scale, size=25)\n",
    "sample"
   ]
  },
  {
   "cell_type": "code",
   "execution_count": 11,
   "metadata": {},
   "outputs": [
    {
     "data": {
      "text/plain": [
       "0    4.601612\n",
       "1    0.672132\n",
       "2    0.417125\n",
       "3    1.207971\n",
       "4    2.285892\n",
       "dtype: float64"
      ]
     },
     "execution_count": 11,
     "metadata": {},
     "output_type": "execute_result"
    }
   ],
   "source": [
    "# convert the numpy array into a pandas series\n",
    "sample = pd.Series(sample)\n",
    "sample.head()"
   ]
  },
  {
   "cell_type": "code",
   "execution_count": 12,
   "metadata": {},
   "outputs": [
    {
     "data": {
      "text/plain": [
       "25"
      ]
     },
     "execution_count": 12,
     "metadata": {},
     "output_type": "execute_result"
    }
   ],
   "source": [
    "len(sample)"
   ]
  },
  {
   "cell_type": "code",
   "execution_count": 13,
   "metadata": {
    "scrolled": true
   },
   "outputs": [
    {
     "data": {
      "image/png": "[encoded data removed]",
      "text/plain": [
       "<Figure size 432x288 with 1 Axes>"
      ]
     },
     "metadata": {
      "needs_background": "light"
     },
     "output_type": "display_data"
    }
   ],
   "source": [
    "sample.hist(density=True)\n",
    "plt.show()"
   ]
  },
  {
   "cell_type": "markdown",
   "metadata": {},
   "source": [
    "How do the sample statistics compare to the population parameters?"
   ]
  },
  {
   "cell_type": "code",
   "execution_count": 14,
   "metadata": {},
   "outputs": [
    {
     "data": {
      "text/html": [
       "<div>\n",
       "<style scoped>\n",
       "    .dataframe tbody tr th:only-of-type {\n",
       "        vertical-align: middle;\n",
       "    }\n",
       "\n",
       "    .dataframe tbody tr th {\n",
       "        vertical-align: top;\n",
       "    }\n",
       "\n",
       "    .dataframe thead th {\n",
       "        text-align: right;\n",
       "    }\n",
       "</style>\n",
       "<table border=\"1\" class=\"dataframe\">\n",
       "  <thead>\n",
       "    <tr style=\"text-align: right;\">\n",
       "      <th></th>\n",
       "      <th>population</th>\n",
       "      <th>sample</th>\n",
       "    </tr>\n",
       "  </thead>\n",
       "  <tbody>\n",
       "    <tr>\n",
       "      <th>mean</th>\n",
       "      <td>1.595769</td>\n",
       "      <td>1.538507</td>\n",
       "    </tr>\n",
       "    <tr>\n",
       "      <th>median</th>\n",
       "      <td>1.348980</td>\n",
       "      <td>1.207971</td>\n",
       "    </tr>\n",
       "    <tr>\n",
       "      <th>std</th>\n",
       "      <td>1.205621</td>\n",
       "      <td>1.255055</td>\n",
       "    </tr>\n",
       "    <tr>\n",
       "      <th>prop</th>\n",
       "      <td>0.682689</td>\n",
       "      <td>0.640000</td>\n",
       "    </tr>\n",
       "  </tbody>\n",
       "</table>\n",
       "</div>"
      ],
      "text/plain": [
       "        population    sample\n",
       "mean      1.595769  1.538507\n",
       "median    1.348980  1.207971\n",
       "std       1.205621  1.255055\n",
       "prop      0.682689  0.640000"
      ]
     },
     "execution_count": 14,
     "metadata": {},
     "output_type": "execute_result"
    }
   ],
   "source": [
    "# params = ['mean', 'median', 'std', 'prop <= 2'] # -- for reference, already defined\n",
    "samp = [sample.mean(), \n",
    "        sample.median(), \n",
    "        sample.std(), \n",
    "        (sample<=2).mean()]\n",
    "pd.DataFrame({'population': pop, 'sample': samp}, index=params)"
   ]
  },
  {
   "cell_type": "markdown",
   "metadata": {},
   "source": [
    "The sample yields statistics that do not exactly equal the population parameters, due to sampling variation, but are reasonably close. \n",
    "\n"
   ]
  },
  {
   "cell_type": "markdown",
   "metadata": {},
   "source": [
    "### Normal Model Family: computing interval and tail probabilities, and percentiles\n",
    "\n",
    "The normal model comprises a family of distributions with \"bell-shaped\" symmetric probability density functions. All normal density functions have the same basic shape, illustrated below. Different members of the normal family are distinguished by their by their means (centers) and standard deviations (spreads). \n",
    "\n",
    "Within the normal family of distributions we frequently need to compute probabilities such as\n",
    "\n",
    "$$\n",
    "P(X > c)\n",
    "$$\n",
    "\n",
    "or\n",
    "\n",
    "$$\n",
    "P(\\vert X - \\mu \\vert \\le c)\n",
    "$$\n",
    "\n",
    "where $X$ is a sample statistic whose distribution is known or well approximated by a normal distribution. How to compute these? For a given value of $c$ we need to know the distribution of $X$ and be able to compute the cdf for that distribution.\n",
    "\n",
    "**Example:** Unbeknownst to Ted, when he goes to the clinic for a blood pressure measurement, the measurement can vary depending on various random factors, with a mean systolic blood pressure value of 120 mmHg, and a standard deviation of 8 mmHg. A measurement over 130 mmHg is considered borderline high blood pressure. Assume Ted's blood pressure measurements follow a **normal** distribution. What is the probability that Ted is measured to have borderline high blood pressure during a visit to the clinic?\n",
    "\n",
    "**Answer:** First, let's have a look at the distribution of Ted's BP measurements. Vertical dashed lines show the locations of $\\mu$, $\\mu\\pm \\sigma$, and $\\mu\\pm 2 \\sigma$, where $\\mu=120$ represents the mean, and $\\sigma=8$ represents the standard deviation."
   ]
  },
  {
   "cell_type": "code",
   "execution_count": 15,
   "metadata": {},
   "outputs": [],
   "source": [
    "from scipy.stats import norm"
   ]
  },
  {
   "cell_type": "code",
   "execution_count": 16,
   "metadata": {},
   "outputs": [
    {
     "data": {
      "image/png": "[encoded data removed]",
      "text/plain": [
       "<Figure size 432x288 with 1 Axes>"
      ]
     },
     "metadata": {
      "needs_background": "light"
     },
     "output_type": "display_data"
    }
   ],
   "source": [
    "mu, sd = 120, 8\n",
    "x = np.linspace(norm.ppf(0.001, loc=mu, scale=sd),\n",
    "               norm.ppf(0.999, loc=mu, scale=sd), 100)\n",
    "plt.plot(x, norm.pdf(x, loc=mu, scale=sd))\n",
    "plt.xlabel('Systolic BP (mmHg)')\n",
    "plt.ylabel('f(x)')\n",
    "plt.title('Probability Density Function: N(120, 8)')\n",
    "# add shaded areas whose probability we need\n",
    "x130 = np.linspace(130, norm.ppf(0.999, loc=mu, scale=sd), 100)\n",
    "plt.fill_between(x130, 0, norm.pdf(x130, loc=mu, scale=sd))\n",
    "# add sd lines\n",
    "xsd = np.array([mu-2*sd, mu-sd, mu, mu+sd, mu+2*sd])\n",
    "plt.vlines(xsd, 0, norm.pdf(xsd, loc=mu, scale=sd), colors='blue', linestyle='--')\n",
    "plt.show()"
   ]
  },
  {
   "cell_type": "markdown",
   "metadata": {},
   "source": [
    "Let $X$ denote Ted's systolic blood pressure measurement. We need\n",
    "\n",
    "$$\n",
    "P(X > 130) = 1 - P(X \\le 130) = 1 - F_X(130)\n",
    "$$\n",
    "\n",
    "We compute this probability using the 'norm.cdf' function in SciPy:"
   ]
  },
  {
   "cell_type": "code",
   "execution_count": 17,
   "metadata": {},
   "outputs": [
    {
     "data": {
      "text/plain": [
       "0.10564977366685535"
      ]
     },
     "execution_count": 17,
     "metadata": {},
     "output_type": "execute_result"
    }
   ],
   "source": [
    "1-norm.cdf(130, loc=120, scale=8)"
   ]
  },
  {
   "cell_type": "code",
   "execution_count": 18,
   "metadata": {},
   "outputs": [
    {
     "data": {
      "text/plain": [
       "0.8943502263331446"
      ]
     },
     "execution_count": 18,
     "metadata": {},
     "output_type": "execute_result"
    }
   ],
   "source": [
    "norm.cdf(1.25)"
   ]
  },
  {
   "cell_type": "markdown",
   "metadata": {},
   "source": [
    "We see there is just over a 10% chance of a borderline high blood pressure measurement.\n",
    "\n",
    "**Example:** The aforementioned Ted does not know his current blood pressure. In the past his measurements tended to jump around, with a standard deviation of 8 mmHg. When he gets a new measurement, what is the probability that it is within 4 mmHg of his true mean systolic blood pressure? Assume his blood pressure measurements are like random draws from a normal distribution with unknown mean $\\mu$.\n",
    "\n",
    "**Answer:**\n",
    "\n",
    "How can we do this if we don't know the mean? The key is that we can deduce the distribution of the **difference** between the measurement and the mean, and that is sufficient to answer the question. If $X$ is normally distributed with mean $\\mu$, then $Y=X-\\mu$ is normally distributed with mean 0 and the same standard deviation as $X$. Here is what the pdf looks like now:"
   ]
  },
  {
   "cell_type": "code",
   "execution_count": 19,
   "metadata": {},
   "outputs": [
    {
     "data": {
      "image/png": "[encoded data removed]",
      "text/plain": [
       "<Figure size 432x288 with 1 Axes>"
      ]
     },
     "metadata": {
      "needs_background": "light"
     },
     "output_type": "display_data"
    }
   ],
   "source": [
    "x0 = np.linspace(norm.ppf(0.001, loc=0, scale=sd),\n",
    "               norm.ppf(0.999, loc=0, scale=sd), 100)\n",
    "plt.plot(x0, norm.pdf(x0, loc=0, scale=sd))\n",
    "plt.xlabel('y = x - mu')\n",
    "plt.ylabel('f(y)')\n",
    "plt.title('Probability Density Function: N(0, 8)')\n",
    "# add shaded areas whose probability we need\n",
    "xshade = np.arange(-4,4,0.01)\n",
    "plt.fill_between(xshade, 0, norm.pdf(xshade, loc=0, scale=sd))\n",
    "# add sd lines\n",
    "xsd0 = np.array([0-2*sd, 0-sd, 0, 0+sd, 0+2*sd])\n",
    "plt.vlines(xsd0, 0, norm.pdf(xsd0, loc=0, scale=sd), colors='blue', linestyle='--')\n",
    "plt.show()"
   ]
  },
  {
   "cell_type": "markdown",
   "metadata": {},
   "source": [
    "We need to compute\n",
    "\n",
    "$$\n",
    "P(\\vert X - \\mu \\vert \\le 4) = P(\\vert Y \\vert \\le 4)\n",
    "=P(-4 \\le Y \\le 4) = F_Y(4) - F_Y(-4).\n",
    "$$\n",
    "\n",
    "Using norm.cdf() we compute:"
   ]
  },
  {
   "cell_type": "code",
   "execution_count": 20,
   "metadata": {},
   "outputs": [
    {
     "data": {
      "text/plain": [
       "0.38292492254802624"
      ]
     },
     "execution_count": 20,
     "metadata": {},
     "output_type": "execute_result"
    }
   ],
   "source": [
    "norm.cdf(4, loc=0, scale=8) - norm.cdf(-4, loc=0, scale=8)"
   ]
  },
  {
   "cell_type": "markdown",
   "metadata": {},
   "source": [
    "Only 38%. Apparently $\\pm 4$ mmHg is too much precision to expect from one measurement of Ted's blood pressure!\n",
    "\n",
    "**Example:** We're not done with Ted yet. Let's find a value $c$ such that there is a 95% chance that Ted's blood pressure measurement is within $c$ standard deviations of his true mean blood pressure. In this case we are assuming the standard deviation of the measurement is $8$ mmHg, though it turns out the answer does not require that information. Thus, we want to find $c$ so that\n",
    "\n",
    "$$\n",
    "P(\\vert X - \\mu \\vert \\le 8 c) = 0.95.\n",
    "$$\n",
    "\n",
    "This is the same as\n",
    "\n",
    "$$\n",
    "P\\left(\\left\\vert {X - \\mu\\over 8} \\right\\vert \\le c   \\right) = \n",
    "P(\\vert Z \\vert \\le c) = 0.95\n",
    "$$\n",
    "\n",
    "where $Z$ is normal with mean 0 and standard deviation 1. This is the **standard normal distribution**. Its pdf looks like this:"
   ]
  },
  {
   "cell_type": "code",
   "execution_count": 21,
   "metadata": {},
   "outputs": [
    {
     "data": {
      "image/png": "[encoded data removed]",
      "text/plain": [
       "<Figure size 432x288 with 1 Axes>"
      ]
     },
     "metadata": {
      "needs_background": "light"
     },
     "output_type": "display_data"
    }
   ],
   "source": [
    "x01 = np.linspace(norm.ppf(0.001),\n",
    "               norm.ppf(0.999), 100)\n",
    "plt.plot(x01, norm.pdf(x01))\n",
    "plt.xlabel('z = (x - mu)/sd')\n",
    "plt.ylabel('f(z)')\n",
    "plt.title('Probability Density Function: N(0, 1)')\n",
    "# add sd lines\n",
    "xsd0 = np.array([-2, -1, 0, 1, 2])\n",
    "plt.vlines(xsd0, 0, norm.pdf(xsd0), colors='blue', linestyle='--')\n",
    "plt.show()"
   ]
  },
  {
   "cell_type": "markdown",
   "metadata": {},
   "source": [
    "So we see the same value of $c$ works for any standard deviation. OK, so what is $c$? Solve\n",
    "\n",
    "$$\n",
    "0.95 = P(Z \\le c) - P(Z \\le -c) = P(Z \\le c) - (1 - P(Z \\le c))\n",
    "= 2 P(Z \\le c) - 1\n",
    "$$\n",
    "\n",
    "because a normal distribution with mean zero is **symmetric**. This is the same as\n",
    "\n",
    "$$\n",
    "P(Z \\le c) = {1 + 0.95 \\over 2} = 0.975.\n",
    "$$\n",
    "\n",
    "Therefore we need the 97.5th percentile of the **standard normal distribution** (loc=0, scale=1, the default values). This is given by the function norm.ppf (normal ppoint percentile function):"
   ]
  },
  {
   "cell_type": "code",
   "execution_count": 22,
   "metadata": {},
   "outputs": [
    {
     "name": "stdout",
     "output_type": "stream",
     "text": [
      "c= 1.959963984540054\n"
     ]
    }
   ],
   "source": [
    "print('c=', norm.ppf(0.975))"
   ]
  },
  {
   "cell_type": "markdown",
   "metadata": {},
   "source": [
    "We conclude that there is a 95% probability that a normally distributed random variable (such as Ted's blood pressure measurement) is within 1.96 standard devaitions of it's mean, whatever the mean and standard deviation might be!"
   ]
  },
  {
   "cell_type": "code",
   "execution_count": 23,
   "metadata": {},
   "outputs": [
    {
     "data": {
      "image/png": "[encoded data removed]",
      "text/plain": [
       "<Figure size 432x288 with 1 Axes>"
      ]
     },
     "metadata": {
      "needs_background": "light"
     },
     "output_type": "display_data"
    }
   ],
   "source": [
    "plt.plot(x01, norm.pdf(x01))\n",
    "plt.xlabel('z = (x - mu)/sd')\n",
    "plt.ylabel('f(z)')\n",
    "plt.title('Probability Density Function: N(0, 1)')\n",
    "# add shaded areas whose probability we need\n",
    "xshade = np.arange(norm.ppf(0.025), norm.ppf(0.975), 0.01)\n",
    "plt.fill_between(xshade, 0, norm.pdf(xshade))\n",
    "# add sd lines\n",
    "xsd0 = np.array([-2, -1, 0, 1, 2])\n",
    "plt.vlines(xsd0, 0, norm.pdf(xsd0), colors='blue', linestyle='--')\n",
    "plt.show()"
   ]
  },
  {
   "cell_type": "markdown",
   "metadata": {},
   "source": [
    "How does $c$ change if we need only 90% or 80% probability of being within $c$ standard deviations of the true mean?"
   ]
  },
  {
   "cell_type": "code",
   "execution_count": 24,
   "metadata": {},
   "outputs": [],
   "source": [
    "# Work here\n",
    "\n",
    "\n"
   ]
  },
  {
   "cell_type": "markdown",
   "metadata": {},
   "source": [
    "### Exponential model family\n",
    "\n",
    "The normal distribution is often used as a model for measurement errors and as an approximation to the distribution of sample averages and similar statistics. The normal distribution is symmetric about its mean, so it is equally likely to generate values above and below the mean. \n",
    "\n",
    "In contrast, the **exponential** family of models is often used for waiting times between random events, product lifetimes and other random phenomena. It has the distinctive feature that the probability of a value larger than $x$, say, decreases exponmentially. Thus, for an exponential random variable\n",
    "\n",
    "$$\n",
    "P(X > x) = \\exp(-\\lambda x), \\quad x\\ge 0,\n",
    "$$\n",
    "\n",
    "where $\\lambda >0$ is a parameter determining the rate at which events occur per unit time interval, and therefore $\\lambda$ determines the expected waiting time until the next event. In particular, if $X$ is exponentially distributed with rate parameter $\\lambda$, then \n",
    "\n",
    "$$\n",
    "E(X)={1\\over \\lambda}.\n",
    "$$\n",
    "\n",
    "Intuitively, this inverse relationship makes sense given the shorter waiting time betwee events that occur at a higher rate.\n",
    "\n",
    "It follows that the cdf has the form\n",
    "\n",
    "$$\n",
    "F(x) = P(X \\le x) = 1 - e^{-\\lambda x},\\quad x\\ge 0,\n",
    "$$\n",
    "\n",
    "and it can be shown (by differentiation) that the pdf is given by\n",
    "\n",
    "$$\n",
    "f(x) = \\lambda e^{-\\lambda x}, \\quad x\\ge 0,\n",
    "$$\n",
    "\n",
    "and $f(x)=0$ for $x<0$.\n",
    "\n",
    "Currently, the exponential family of modeling functions is implemented in the SciPy.org library as SciPy.stats.expon.\n",
    "\n",
    "**Example:** An LED light is reported to have a life expectancy of 50,000 hours. Let's suppose that the randomness in its lifetime is well-modeled by en exponential distribution. What is the probability that the light lasts longer than 100,000 hours?\n",
    "\n",
    "**Answer:**\n",
    "\n",
    "First, let's express everything in k-hrs (thousands of hours). If the expected lifetime is 50 k-hrs, then the rate parameter $\\lambda = 1/50 = 0.02$. The way the expon function is parametrized, we spoecify that the \"location\" is zero, and the \"scale\" is ${1\\over\\lambda} = 50$ in k-hrs. \n",
    "\n",
    "Here's what the pdf looks like, along with the probability area that we need to compute."
   ]
  },
  {
   "cell_type": "code",
   "execution_count": 25,
   "metadata": {},
   "outputs": [],
   "source": [
    "from scipy.stats import expon"
   ]
  },
  {
   "cell_type": "code",
   "execution_count": 26,
   "metadata": {},
   "outputs": [
    {
     "data": {
      "image/png": "[encoded data removed]",
      "text/plain": [
       "<Figure size 432x288 with 1 Axes>"
      ]
     },
     "metadata": {
      "needs_background": "light"
     },
     "output_type": "display_data"
    }
   ],
   "source": [
    "scale = 50\n",
    "x = np.linspace(0,\n",
    "               expon.ppf(0.999, loc=0, scale=scale), 100)\n",
    "plt.plot(x, expon.pdf(x, loc=0, scale=scale))\n",
    "plt.xlabel('Lifetime (k-hrs)')\n",
    "plt.ylabel('f(x)')\n",
    "plt.title('Probability Density Function: Expon(50)')\n",
    "# add shaded areas whose probability we need\n",
    "x100 = np.linspace(100, expon.ppf(0.999, loc=0, scale=scale), 100)\n",
    "plt.fill_between(x100, 0, expon.pdf(x100, loc=0, scale=scale))\n",
    "# add mean value\n",
    "plt.vlines(50, 0, expon.pdf(50, loc=0, scale=scale), colors='blue', linestyle='--')\n",
    "plt.show()"
   ]
  },
  {
   "cell_type": "markdown",
   "metadata": {},
   "source": [
    "We need to compute the area of the shaded region. In this case, it is possible to do this directly using the formula. We can also do it using the expon.cdf() function. Try it!"
   ]
  },
  {
   "cell_type": "code",
   "execution_count": null,
   "metadata": {},
   "outputs": [],
   "source": [
    "\n"
   ]
  },
  {
   "cell_type": "markdown",
   "metadata": {},
   "source": [
    "It is interesting to compare the mean lifetime (50 k-hrs) and the median. How can we compute the median lifetime for this distribution?"
   ]
  },
  {
   "cell_type": "code",
   "execution_count": null,
   "metadata": {},
   "outputs": [],
   "source": [
    "\n"
   ]
  },
  {
   "cell_type": "markdown",
   "metadata": {},
   "source": [
    "### Review of rules for computing and combining probabilities\n",
    "\n",
    "In an earlier section we saw that if the basic descrete outcomes of a random activity are equally likely, then we can frequenclty determine the prabablities of compound events (eg. a full house in poker) using cmbinatorial methods to count up how many of the possible outcomes are in the target set. \n",
    "\n",
    "To handle more general problems we will need additional principles concerning probabilities of events.\n",
    "\n",
    "The basic rules follow from the long run relative frequency interpretation of probability. We denote the probability of an event $A$ using the notation $P(A)$.\n",
    "\n",
    "\n",
    "+ For any event $A$, $0 \\le P(A) \\le 1$\n",
    "\n",
    "\n",
    "+ If $\\Omega$ is the set of all possible outcomes of a random experiement, then $P(\\Omega)=1$.\n",
    "\n",
    "\n",
    "+ $P(\\text{not } A) = 1 - P(A)$\n",
    "\n",
    "\n",
    "+ If $A$ and $B$ are **mutually exclusive**, that is, $A \\cap B = \\emptyset$, then $P(A \\cup B) = P(A) + P(B)$.\n",
    "\n",
    "\n",
    "+ In general, $P(A \\cup B) = P(A) + P(B) - P(A \\cap B) \\le P(A) + P(B)$\n",
    "\n",
    "\n",
    "+ **Independence** of $A$ and $B$ means that $P(A \\cap B) = P(A) P(B)$. If this equality does not hold, then $A$ and $B$ are dependent.\n",
    "\n",
    "+ The conditional probability of $A$ given that $B$ occurs is given by\n",
    "\n",
    "$$\n",
    "P(A \\vert B) = {P(A \\cap B) \\over P(B)}.\n",
    "$$\n",
    "\n",
    "+ For independent events $P(A \\vert B) = P(A)$ and $P(B \\vert A) = P(B)$. In other words, knowledge of how one of the events turned out does not help us predict the other event.\n"
   ]
  },
  {
   "cell_type": "markdown",
   "metadata": {},
   "source": [
    "### Application to events involving random variables\n",
    "\n",
    "We will often consider events involving random varaibles, such as the event that $X$ lies in some interval $[a,b]$. Probabiliites of these types of events follow all of the above rules.\n",
    "\n",
    "**Example of mutually exclusive events:** $X$ is a random number between 0 and 1. Then, using the fact that $\\{X < 0.2\\}$ and $\\{X > 0.8\\}$ are mutually exclusive events, \n",
    "\n",
    "$$\n",
    "P(X < 0.2 \\text{ or } X > 0.8) = P(X < 0.2) + P(X > 0.8) = 0.2 + 0.2 = 0.4\n",
    "$$\n",
    "\n",
    "#### Independent random variables:\n",
    "\n",
    "Two random variables $X$ and $Y$ are **independent** if for any sets of values $A$ for $X$ and $B$ for $Y$ we have\n",
    "\n",
    "$$\n",
    "P(\\{X \\in A\\} \\cap \\{Y \\in B\\}) = P(X \\in A) P(Y \\in B).\n",
    "$$\n",
    "\n",
    "Otherwise, $X$ and $Y$ are **dependent**.\n",
    "\n",
    "**Example: Dependent or Independent?** A jar contains 5 red chips and 10 blue chips. We sample 2 chips at random without replacement. $X$ is the number of red chips. $Y$ is the number of blue chips. Are $X$ and $Y$ dependent or independent? Consider the probability that $X=2$ and $Y=2$. Does the probability that both of these things happen equal the product of the individual probabilities that each of them happens?\n",
    "\n"
   ]
  },
  {
   "cell_type": "markdown",
   "metadata": {},
   "source": [
    "$$\\quad$$\n",
    "\n",
    "$$\\quad$$"
   ]
  },
  {
   "cell_type": "markdown",
   "metadata": {},
   "source": [
    "**Example: Dependendent or Independent?** Same jar. Now we draw two chips with replacement. $X$ is 1 if the first chip is blue and 0 otherwise. $Y$ is 1 if the second chip is blue, and zero otherwise. Are $X$ and $Y$ dependent or independent? Consider whether knowledge of the first draw tells us anything about what will happen on the second draw."
   ]
  },
  {
   "cell_type": "markdown",
   "metadata": {},
   "source": [
    "$$\\quad$$\n",
    "\n",
    "$$\\quad$$"
   ]
  },
  {
   "cell_type": "markdown",
   "metadata": {},
   "source": [
    "---\n",
    "STAT 207, Douglas Simpson, University of Illinois at Urbana-Champaign"
   ]
  }
 ],
 "metadata": {
  "kernelspec": {
   "display_name": "Python 3",
   "language": "python",
   "name": "python3"
  },
  "language_info": {
   "codemirror_mode": {
    "name": "ipython",
    "version": 3
   },
   "file_extension": ".py",
   "mimetype": "text/x-python",
   "name": "python",
   "nbconvert_exporter": "python",
   "pygments_lexer": "ipython3",
   "version": "3.8.3"
  }
 },
 "nbformat": 4,
 "nbformat_minor": 2
}
