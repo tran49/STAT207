{
 "cells": [
  {
   "cell_type": "markdown",
   "metadata": {},
   "source": [
    "<!--# STAT 207: Data Science Exploration-->\n",
    "# Linear Regression Modeling\n",
    "\n",
    "Until now, we have investigated the distributions of single variables and their summary statistics, and the dependence of the distribution of a single variable on a second grouping variable, e.g., two-sample tests and confidence intervals for differences between means or proportions.\n",
    "\n",
    "Regression analysis is a general approach that  enables study of the dependence of one variable, the response variable, on other variables, called explanatory or exogenous variables. It is crucial that the explanatory variables are things that can be measured along with the target reponse variable. Then we can use the data to build a model for predicting the response from the exogenous variables, and to determine which of the explanatory variables has a significant relationship with the response.\n",
    "\n",
    "We'll consider:\n",
    "\n",
    "+ The general modeling framework with response and multiple explanatory variables\n",
    "\n",
    "\n",
    "+ Least squares criterion - minimizing sum of square residuals\n",
    "\n",
    "\n",
    "+ Model Coefficient estimates, standard errors and inferences\n",
    "\n",
    "\n",
    "+ Implementation via the python library statsmodels\n",
    "\n",
    "\n",
    "+ Residual plots to assess whether the model is adequate\n",
    "\n",
    "\n",
    "+ Transformation of variables to achieve linearity\n",
    "\n",
    "\n",
    "+ Encoding categorical explanatory variables in the model\n",
    "\n",
    "\n"
   ]
  },
  {
   "cell_type": "markdown",
   "metadata": {},
   "source": [
    "**Primary modeling package: statsmodels**"
   ]
  },
  {
   "cell_type": "markdown",
   "metadata": {},
   "source": [
    "To install statsmodels from the anaconda command line:\n",
    "\n",
    "    conda install -c conda-forge statsmodels"
   ]
  },
  {
   "cell_type": "code",
   "execution_count": 1,
   "metadata": {},
   "outputs": [
    {
     "name": "stderr",
     "output_type": "stream",
     "text": [
      "\n",
      "Bad key \"text.kerning_factor\" on line 4 in\n",
      "C:\\Users\\vme3\\AppData\\Local\\Continuum\\anaconda3\\lib\\site-packages\\matplotlib\\mpl-data\\stylelib\\_classic_test_patch.mplstyle.\n",
      "You probably need to get an updated matplotlibrc file from\n",
      "https://github.com/matplotlib/matplotlib/blob/v3.1.3/matplotlibrc.template\n",
      "or from the matplotlib source distribution\n"
     ]
    }
   ],
   "source": [
    "import pandas as pd\n",
    "import numpy as np\n",
    "import matplotlib.pyplot as plt\n",
    "import seaborn as sns; sns.set()"
   ]
  },
  {
   "cell_type": "markdown",
   "metadata": {},
   "source": [
    "####################################################################"
   ]
  },
  {
   "cell_type": "markdown",
   "metadata": {},
   "source": [
    "# Example 1: Mother/Daughter heights\n",
    "\n",
    "## Research Question 1a: Is there a relationship between mother and daugher heights *in the sample*?\n",
    "We will discuss four ways to quantify this relationship:\n",
    "\n",
    "### 1.a.i Visualizations:\n",
    "* Scatter plots\n",
    "\n",
    "### 1.a.ii Summary Statistics:\n",
    "* covariance\n",
    "* correlation (R)\n",
    "* R^2\n",
    "\n",
    "### 1.a.iii Model Fitting\n",
    "* Fitting a simple linear regression model"
   ]
  },
  {
   "cell_type": "markdown",
   "metadata": {},
   "source": [
    "####################################################################"
   ]
  },
  {
   "cell_type": "code",
   "execution_count": 2,
   "metadata": {},
   "outputs": [
    {
     "data": {
      "text/html": [
       "<div>\n",
       "<style scoped>\n",
       "    .dataframe tbody tr th:only-of-type {\n",
       "        vertical-align: middle;\n",
       "    }\n",
       "\n",
       "    .dataframe tbody tr th {\n",
       "        vertical-align: top;\n",
       "    }\n",
       "\n",
       "    .dataframe thead th {\n",
       "        text-align: right;\n",
       "    }\n",
       "</style>\n",
       "<table border=\"1\" class=\"dataframe\">\n",
       "  <thead>\n",
       "    <tr style=\"text-align: right;\">\n",
       "      <th></th>\n",
       "      <th>Mheight</th>\n",
       "      <th>Dheight</th>\n",
       "    </tr>\n",
       "  </thead>\n",
       "  <tbody>\n",
       "    <tr>\n",
       "      <th>0</th>\n",
       "      <td>59.7</td>\n",
       "      <td>55.1</td>\n",
       "    </tr>\n",
       "    <tr>\n",
       "      <th>1</th>\n",
       "      <td>58.2</td>\n",
       "      <td>56.5</td>\n",
       "    </tr>\n",
       "    <tr>\n",
       "      <th>2</th>\n",
       "      <td>60.6</td>\n",
       "      <td>56.0</td>\n",
       "    </tr>\n",
       "    <tr>\n",
       "      <th>3</th>\n",
       "      <td>60.7</td>\n",
       "      <td>56.8</td>\n",
       "    </tr>\n",
       "    <tr>\n",
       "      <th>4</th>\n",
       "      <td>61.8</td>\n",
       "      <td>56.0</td>\n",
       "    </tr>\n",
       "  </tbody>\n",
       "</table>\n",
       "</div>"
      ],
      "text/plain": [
       "   Mheight  Dheight\n",
       "0     59.7     55.1\n",
       "1     58.2     56.5\n",
       "2     60.6     56.0\n",
       "3     60.7     56.8\n",
       "4     61.8     56.0"
      ]
     },
     "execution_count": 2,
     "metadata": {},
     "output_type": "execute_result"
    }
   ],
   "source": [
    "df = pd.read_csv('heights.txt', sep=' ')\n",
    "df.head()"
   ]
  },
  {
   "cell_type": "code",
   "execution_count": 3,
   "metadata": {},
   "outputs": [
    {
     "data": {
      "text/plain": [
       "(1375, 2)"
      ]
     },
     "execution_count": 3,
     "metadata": {},
     "output_type": "execute_result"
    }
   ],
   "source": [
    "df.shape"
   ]
  },
  {
   "cell_type": "code",
   "execution_count": 4,
   "metadata": {},
   "outputs": [
    {
     "data": {
      "text/html": [
       "<div>\n",
       "<style scoped>\n",
       "    .dataframe tbody tr th:only-of-type {\n",
       "        vertical-align: middle;\n",
       "    }\n",
       "\n",
       "    .dataframe tbody tr th {\n",
       "        vertical-align: top;\n",
       "    }\n",
       "\n",
       "    .dataframe thead th {\n",
       "        text-align: right;\n",
       "    }\n",
       "</style>\n",
       "<table border=\"1\" class=\"dataframe\">\n",
       "  <thead>\n",
       "    <tr style=\"text-align: right;\">\n",
       "      <th></th>\n",
       "      <th>Mheight</th>\n",
       "      <th>Dheight</th>\n",
       "    </tr>\n",
       "  </thead>\n",
       "  <tbody>\n",
       "    <tr>\n",
       "      <th>count</th>\n",
       "      <td>1375.000000</td>\n",
       "      <td>1375.000000</td>\n",
       "    </tr>\n",
       "    <tr>\n",
       "      <th>mean</th>\n",
       "      <td>62.452800</td>\n",
       "      <td>63.751055</td>\n",
       "    </tr>\n",
       "    <tr>\n",
       "      <th>std</th>\n",
       "      <td>2.355103</td>\n",
       "      <td>2.600053</td>\n",
       "    </tr>\n",
       "    <tr>\n",
       "      <th>min</th>\n",
       "      <td>55.400000</td>\n",
       "      <td>55.100000</td>\n",
       "    </tr>\n",
       "    <tr>\n",
       "      <th>25%</th>\n",
       "      <td>60.800000</td>\n",
       "      <td>62.000000</td>\n",
       "    </tr>\n",
       "    <tr>\n",
       "      <th>50%</th>\n",
       "      <td>62.400000</td>\n",
       "      <td>63.600000</td>\n",
       "    </tr>\n",
       "    <tr>\n",
       "      <th>75%</th>\n",
       "      <td>63.900000</td>\n",
       "      <td>65.600000</td>\n",
       "    </tr>\n",
       "    <tr>\n",
       "      <th>max</th>\n",
       "      <td>70.800000</td>\n",
       "      <td>73.100000</td>\n",
       "    </tr>\n",
       "  </tbody>\n",
       "</table>\n",
       "</div>"
      ],
      "text/plain": [
       "           Mheight      Dheight\n",
       "count  1375.000000  1375.000000\n",
       "mean     62.452800    63.751055\n",
       "std       2.355103     2.600053\n",
       "min      55.400000    55.100000\n",
       "25%      60.800000    62.000000\n",
       "50%      62.400000    63.600000\n",
       "75%      63.900000    65.600000\n",
       "max      70.800000    73.100000"
      ]
     },
     "execution_count": 4,
     "metadata": {},
     "output_type": "execute_result"
    }
   ],
   "source": [
    "df.describe()"
   ]
  },
  {
   "cell_type": "markdown",
   "metadata": {},
   "source": [
    "## 1.a.i Visualizations\n",
    "If we want to visually examine the distribution of the mother and daughter heights *separately*, we can look at a histogram of each numerical variable."
   ]
  },
  {
   "cell_type": "code",
   "execution_count": 5,
   "metadata": {},
   "outputs": [
    {
     "data": {
      "image/png": "[encoded data removed]",
      "text/plain": [
       "<Figure size 432x288 with 2 Axes>"
      ]
     },
     "metadata": {},
     "output_type": "display_data"
    }
   ],
   "source": [
    "df.hist()\n",
    "plt.show()"
   ]
  },
  {
   "cell_type": "markdown",
   "metadata": {},
   "source": [
    "However if we want to visually examine the *relationship* between the two categorical variables we can use a scatterplot."
   ]
  },
  {
   "cell_type": "code",
   "execution_count": 6,
   "metadata": {},
   "outputs": [
    {
     "data": {
      "image/png": "[encoded data removed]",
      "text/plain": [
       "<Figure size 432x288 with 1 Axes>"
      ]
     },
     "metadata": {},
     "output_type": "display_data"
    }
   ],
   "source": [
    "df.plot.scatter(x='Mheight', y='Dheight', c='b')\n",
    "plt.show()"
   ]
  },
  {
   "cell_type": "markdown",
   "metadata": {},
   "source": [
    "## Describing the Relationship between two Numerical Variables"
   ]
  },
  {
   "cell_type": "markdown",
   "metadata": {},
   "source": [
    "#### What can we say about this relationship?\n",
    "\n",
    "When visualizing the relationship between two numerical varibles there are four things that we should be ready to discuss.\n",
    "1. **What is the direction of the relationship?**\n",
    "    - For instance, this relationship is going up and to the right, therefore it is a positive relationship.\n",
    "2. **What is the shape of the relationship?**\n",
    "    - For instance, if we were to draw a \"best fit\" curve running through the points in this plot, it would be linear. Therefore this is a linear relationship.\n",
    "3. **What is the strength of this relationship?**\n",
    "    - For instance, the points in this relationship do not perfectly fall on this \"best fit\" curve that we would have drawn, so it is not a STRONG relationship. However, we do see some pattern to the relationship. So we can say that this is a moderate relationship.\n",
    "4. **Are there any outliers in the data?**\n",
    "    - If there are any points that fall far away from the main cloud of data, then we could classify this as an outlier. In this. However, this particular dataset does not seem to have any outliers."
   ]
  },
  {
   "cell_type": "markdown",
   "metadata": {},
   "source": [
    "## 1.a.ii Summary Statistics\n",
    "How do we *numerically* quantify the relationship between these two numerical variables?"
   ]
  },
  {
   "cell_type": "markdown",
   "metadata": {},
   "source": [
    "#### Covariance between the two numerical variables (in the sample)\n",
    "If we have a set of numerical variables values ($x_1,x_2,...,x_n$) and another set of numerical variable values ($y_1,y_2,...,y_n$). The **sample covariance** between them is defined as:\n",
    "$$s_{xy}=\\frac{\\sum_{i=1}^n(x_i-\\bar{x})(y_i-\\bar{y})}{n-1}$$."
   ]
  },
  {
   "cell_type": "markdown",
   "metadata": {},
   "source": [
    "#### Correlation (R) between the numerical variables\n",
    "\n",
    "The value of $s_{xy}$ can be anything, so it has no standard scale. Therefore it makes it difficult to compare relationships between one dataset to the next.\n",
    "\n",
    "If $s_x$ is the standard deviation of the numerical variable values ($x_1,x_2,...,x_n$) and $s_y$ is the standard deviation of the numerical variable values ($y_1,y_2,...,y_n$), then we can define the correlation between these two numerical variables as:\n",
    "\n",
    "$$R=\\frac{s_{xy}}{s_xs_y}$$\n",
    "\n",
    "\n",
    "By dividing $s_{xy}$ by $s_xs_y$ we have scaled it such that R is always between -1 and 1. Values close to 1 indicate strong postive linear dependence. Values close to -1 indicate strong negative linear dependence. Correlation = 0 means there is no linear dependence. \n",
    "\n",
    "Using pandas, we can compute the correlation as follows, extracting the desired pariwise correlation from the correlation matrix."
   ]
  },
  {
   "cell_type": "code",
   "execution_count": 7,
   "metadata": {},
   "outputs": [
    {
     "data": {
      "text/html": [
       "<div>\n",
       "<style scoped>\n",
       "    .dataframe tbody tr th:only-of-type {\n",
       "        vertical-align: middle;\n",
       "    }\n",
       "\n",
       "    .dataframe tbody tr th {\n",
       "        vertical-align: top;\n",
       "    }\n",
       "\n",
       "    .dataframe thead th {\n",
       "        text-align: right;\n",
       "    }\n",
       "</style>\n",
       "<table border=\"1\" class=\"dataframe\">\n",
       "  <thead>\n",
       "    <tr style=\"text-align: right;\">\n",
       "      <th></th>\n",
       "      <th>Mheight</th>\n",
       "      <th>Dheight</th>\n",
       "    </tr>\n",
       "  </thead>\n",
       "  <tbody>\n",
       "    <tr>\n",
       "      <th>Mheight</th>\n",
       "      <td>1.000000</td>\n",
       "      <td>0.490709</td>\n",
       "    </tr>\n",
       "    <tr>\n",
       "      <th>Dheight</th>\n",
       "      <td>0.490709</td>\n",
       "      <td>1.000000</td>\n",
       "    </tr>\n",
       "  </tbody>\n",
       "</table>\n",
       "</div>"
      ],
      "text/plain": [
       "          Mheight   Dheight\n",
       "Mheight  1.000000  0.490709\n",
       "Dheight  0.490709  1.000000"
      ]
     },
     "execution_count": 7,
     "metadata": {},
     "output_type": "execute_result"
    }
   ],
   "source": [
    "df.corr()"
   ]
  },
  {
   "cell_type": "code",
   "execution_count": 8,
   "metadata": {},
   "outputs": [
    {
     "data": {
      "text/plain": [
       "0.49070936145753397"
      ]
     },
     "execution_count": 8,
     "metadata": {},
     "output_type": "execute_result"
    }
   ],
   "source": [
    "rxy = df.corr().iloc[0,1]\n",
    "rxy"
   ]
  },
  {
   "cell_type": "markdown",
   "metadata": {},
   "source": [
    "#### Describe the linear relationship of mother and daughter heights using R.\n",
    "<br />\n",
    "<br />\n",
    "<br />\n",
    "<br />\n",
    "<br />\n",
    "<br />\n",
    "\n",
    "\n",
    "#### What R measures?\n",
    "The correlation coefficient R is used to describe:\n",
    "* the strength of the *linear* relationship between two numerical variables and \n",
    "* the direction of the *linear* relationship between two numerical variables.\n",
    "\n",
    "#### When to use R?\n",
    "* Therefore, R should also be used when the relationship between the numerical variables is *linear*.\n",
    "\n",
    "\n",
    "We can plot a scatterplot along with the \"best fit\" line of the data using the code below."
   ]
  },
  {
   "cell_type": "code",
   "execution_count": 9,
   "metadata": {},
   "outputs": [
    {
     "data": {
      "image/png": "[encoded data removed]",
      "text/plain": [
       "<Figure size 432x288 with 1 Axes>"
      ]
     },
     "metadata": {},
     "output_type": "display_data"
    }
   ],
   "source": [
    "sns.regplot(x='Mheight', y='Dheight', data=df, ci=False)\n",
    "plt.title('Correlation = '+str(round(rxy, 4)))\n",
    "plt.show()"
   ]
  },
  {
   "cell_type": "markdown",
   "metadata": {},
   "source": [
    "## 1.a.iii Model Fitting\n",
    "\n",
    "Finally, if we have some \"suspicion\" as to whether one variable causes/affects another variable, we can call the variable that we \"suspect\" is caused by the other as the **response variable** and we can call a variable that we *suspect* causes/affects the response variable a **explanatory variable.**\n",
    "\n",
    "Because we suspect that the mother height affects the daughters height we would like to formulate a **simple linear regression model** $\\hat{y}=\\hat{\\beta_0}+\\hat{\\beta_1}x$ where $x$ is our explanatory variable which is the mother's height and $\\hat{y}$ is the predicted value of our response variable $y$ (the daughter's height).\n",
    "\n",
    "\n",
    "<br />\n",
    "<br />\n",
    "<br />\n",
    "<br />\n",
    "<br />\n",
    "\n",
    "### But the questions now are are: \n",
    "1. What should our intercept $\\hat{\\beta_0}$ and slope $\\hat{\\beta_1}$ of this line be that \"best fits\" the data shown in our scatter plot?\n",
    "2. What do we mean when we say a line \"best fits\" the data?\n",
    "\n",
    "***"
   ]
  },
  {
   "cell_type": "markdown",
   "metadata": {},
   "source": [
    "### WE NEED SOME THEORY/DEFINITIONS: General framework for linear models (using random variables).\n",
    "\n",
    "#### How  can we describe the theory behind a POPULATION linear regression model?\n",
    "\n",
    "Suppose we have a data frame of $n$ observations on variables $X_1, X_2, \\ldots, X_p, Y$. The variable $Y$ is the **response variable** of interest, often called an **endogenous** variable. The variables $X_1, X_2, \\ldots, X_p$ are possible **explanatory variables**, also called **exogenenous** variables. It might be helpful to think of the random variables as the variable names and the observed values as the entries in a data frame structure as follows:\n",
    "\n",
    "\n",
    "| $X_1$ | $X_2$ | $\\cdots$ | $X_p$ | $Y$ |\n",
    "| --- | --- | --- | --- | --- |\n",
    "| $x_{11}$ | $x_{12}$ | $\\cdots$ | $x_{1p}$ | $y_1$ |\n",
    "| $x_{21}$ | $x_{22}$ | $\\cdots$ | $x_{2p}$ | $y_2$ |\n",
    "| $\\vdots$ | $\\vdots$ | $\\cdots$ | $\\vdots$ | $\\vdots$ |\n",
    "| $x_{n1}$ | $x_{n2}$ | $\\cdots$ | $x_{np}$ | $y_n$ |\n",
    "\n",
    "<br />\n",
    "<br />\n",
    "<br />\n",
    "<br />\n",
    "<br />\n",
    "<br />\n",
    "<br />\n",
    "<br />\n",
    "<br />\n",
    "<br />\n",
    "<br />\n",
    "<br />\n",
    "\n",
    "\n",
    "\n",
    "\n",
    "A basic way to model the dependence of $Y$ on the other variables is a linear model of the form:\n",
    "\n",
    "$$\n",
    "E(Y) = \\beta_0 + \\beta_1 X_1 + \\beta_2 X_2 + \\cdots + \\beta_p X_p\n",
    "$$\n",
    "**What does this mean?**\n",
    "<br />\n",
    "<br />\n",
    "<br />\n",
    "<br />\n",
    "<br />\n",
    "<br />\n",
    "A common starting assumption is that the standard deviation of $Y$ is constant, say, equal to $\\sigma_{resid}$, and that all of the responses $Y_1, Y_2, \\ldots, Y_n$ are independent. Then another way to express the model is in the form\n",
    "\n",
    "$$\n",
    "Y_i = \\beta_0 + \\beta_1 X_{i1} + \\beta_2 X_{i2} + \\cdots + \\beta_p X_{ip} + e_i, \\quad i=1,2,\\ldots,n\n",
    "$$\n",
    "\n",
    "where the 'noise' terms $e_1, e_2, \\ldots, e_n$ are a random sample from a distribution with mean zero and standard deviation $\\sigma$.\n",
    "\n",
    "**Assumption**\n",
    "\n",
    "<br />\n",
    "<br />\n",
    "<br />\n",
    "<br />\n",
    "<br />\n",
    "<br />\n",
    "\n",
    "\n",
    "**What we might want to approximate (but will never be able to calculate)?**\n",
    "\n",
    "The regression coefficients $\\beta_0, \\beta_1, \\ldots, \\beta_p$ are population parameters that we would like to estimate from the data. The errors or noise terms $e_1, e_2, \\ldots, e_n$ are not observable. We estimate their standard deviation from the observed data $x_{i1}, x_{i2}, \\ldots, x_{ip}, y_{i}$, $i=1,2,\\ldots,n$.\n",
    "\n",
    "\n",
    "<br />\n",
    "<br />\n",
    "<br />\n",
    "<br />\n",
    "<br />\n",
    "<br />\n",
    "\n",
    "\n",
    "**What we can calculate instead to help us approximate $\\beta_0, \\beta_1, \\ldots, \\beta_p$?**\n",
    "\n",
    "We can create linear regression equation that is models *just* the sample data using \n",
    "\n",
    "$$\n",
    "Y_i = \\hat{\\beta_0} + \\hat{\\beta_1} X_{i1} + \\hat{\\beta_2} X_{i2} + \\cdots + \\hat{\\beta_p} X_{ip}, \\quad i=1,2,\\ldots,n\n",
    "$$\n",
    "\n",
    "<br />\n",
    "<br />\n",
    "<br />\n",
    "<br />\n",
    "<br />\n",
    "<br />"
   ]
  },
  {
   "cell_type": "markdown",
   "metadata": {},
   "source": [
    "### What is an efficient way of calculating these values of $\\hat{\\beta_0}, \\hat{\\beta_1},...\\hat{\\beta_p}$ such that $\\hat{y} = \\hat{\\beta_0} + \\hat{\\beta_1} x_{1} + \\hat{\\beta_2} x_{2} + \\cdots + \\hat{\\beta_p} x_{p}$ \"best fits\" the data?\n",
    "\n",
    "**Ordinary Least Squares (OLS)**\n",
    "\n",
    "If the model assumptions are correct, then statistically efficient estimates of the regression coefficients are provide by the method of ordinay least squares (OLS):\n",
    "***\n",
    "**Goal**\n",
    "Find the values of \n",
    "\n",
    "$b_0, b_1, \\ldots, b_p$. \n",
    "\n",
    "that minimize \n",
    "$$\n",
    "SSE(b_0, b_1, \\ldots, b_p) = \\sum_{i=1}^n (y_{i} - \\hat{y}_i)^2,\n",
    "$$\n",
    "\n",
    "where $$\n",
    "\\hat{y}_i = b_0 + b_1 x_{i1}  + b_2 x_{i2} + \\cdots + b_p x_{ip}, \\quad i=1,2,\\ldots, n.\n",
    "$$\n",
    "\n",
    "<br />\n",
    "<br />\n",
    "<br />\n",
    "<br />\n",
    "<br />\n",
    "<br />\n",
    "<br />\n",
    "<br />\n",
    "<br />\n",
    "\n",
    "\n",
    "***\n",
    "**How to find this**\n",
    "This has an explicit solution using linear algebra. We will derive the formulas for the special case of one explanatory variable (simple linear regression). \n",
    "\n",
    "Statistical modeling packages allow us to fit the model easily by specifying which variables to include. These packages routinely provide both estimates and standard errors for the estimates. \n",
    "\n",
    "**Definitions:**\n",
    "\n",
    "* We denote these optimal values of $b_0, b_1, \\ldots, b_p$ that minimize $SSE(b_0, b_1, \\ldots, b_p) = \\sum_{i=1}^n (y_{i} - \\hat{y}_i)^2$ as $\\hat{\\beta}_0, \\hat{\\beta}_1,...,\\hat{\\beta}_p$ respectively.\n",
    "\n",
    "* We call the **SSE** that uses these values of $\\hat{\\beta}_0, \\hat{\\beta}_1,...,\\hat{\\beta}_p$  the \"residual sum of square\" (also called the \"sum square error\").\n",
    "\n"
   ]
  },
  {
   "cell_type": "markdown",
   "metadata": {},
   "source": [
    "**Fitted values and proportion of variance explained:**\n",
    "\n",
    "Given the coefficient estimates the fitted values are:\n",
    "\n",
    "$$\n",
    "\\hat{y}_i = \\hat{\\beta}_0 + \\hat{\\beta}_1 x_{i1} + \\hat{\\beta}_2 x_{i2} + \\cdots + \\hat{\\beta}_p x_{ip}, \\quad i=1,2,\\ldots, n.\n",
    "$$\n",
    "\n",
    "These are the best fitting linear combinations of the explanatory variables. They mimimize the sum of squared residuals with respect to the coefficients.\n",
    "\n",
    "The mimimized **residual sum of squares** have the form\n",
    "\n",
    "$$\n",
    "SSE = \\sum_{i=1}^n (y_i - \\hat{y}_i)^2.\n",
    "$$\n",
    "\n",
    "<br />\n",
    "<br />\n",
    "<br />\n",
    "<br />\n",
    "\n",
    "For the ith observation in the dataset with the explanatory variable values $(x_{i1},x_{2i},...,x_{pi})$ and response variable value $y_{i}$, we call the **residual** of this observations $residual_i=y_i - \\hat{y}_i$. This represents how far off our model prediction was from the actual value of $y_i$.\n",
    "\n"
   ]
  },
  {
   "cell_type": "markdown",
   "metadata": {},
   "source": [
    "### 1.a.iii. A summary statistic that describes the explanatory power of the regression model: $R^2$\n",
    "**(Relating this back to the theory: what does RSS *represent?*)**\n",
    "\n",
    "For comparison, if we ignored all the explanatory variables, the **total variation** in $y$ is\n",
    "\n",
    "$$\n",
    "SST = \\sum_{i=1}^n (y_i - \\bar{y})^2 = (n-1) S_y^2.\n",
    "$$\n",
    "\n",
    "Notice the relationship that is going on here? The SST is the numerator of the sample variance of our y-values:\n",
    "\n",
    "$$S_y^2=\\frac{\\sum_{i=1}^n (y_i - \\bar{y})^2}{n-1}$$.\n",
    "\n",
    "\n",
    "<br />\n",
    "<br />\n",
    "<br />\n",
    "<br />\n",
    "<br />\n",
    "<br />\n",
    "\n",
    "Relating SST and SSE together we can think of them as the following:\n",
    "* SST represents\n",
    "<br />\n",
    "<br />\n",
    "<br />\n",
    "<br />\n",
    "* SSE represents\n",
    "<br />\n",
    "<br />\n",
    "<br />\n",
    "<br />\n",
    "* SST-SSE represents\n",
    "<br />\n",
    "<br />\n",
    "<br />\n",
    "<br />\n",
    "\n",
    "\n",
    "Thus we can define a new metric called, **R^2** defined as\n",
    "\n",
    "$$\n",
    "R^2 = {SST - SSE \\over SST} = 1 - {SSE \\over SST}.\n",
    "$$\n",
    "\n",
    "which represents the **proportion of variance of the respones variable explained by the model.**,\n",
    "\n",
    "\n",
    "Regression packages often report this statistic as R-square."
   ]
  },
  {
   "cell_type": "markdown",
   "metadata": {},
   "source": [
    "#### Fitting a regression model and summarizing it\n",
    "\n",
    "We import the formula api from the statsmodels library and then fit a simple linear regression model."
   ]
  },
  {
   "cell_type": "code",
   "execution_count": 10,
   "metadata": {},
   "outputs": [],
   "source": [
    "import statsmodels.api as sm\n",
    "import statsmodels.formula.api as smf"
   ]
  },
  {
   "cell_type": "markdown",
   "metadata": {},
   "source": [
    "This step fits the model and creates an object containing the results."
   ]
  },
  {
   "cell_type": "code",
   "execution_count": 11,
   "metadata": {},
   "outputs": [],
   "source": [
    "results = smf.ols('Dheight ~ Mheight', data=df).fit()"
   ]
  },
  {
   "cell_type": "markdown",
   "metadata": {},
   "source": [
    "Using the .summary() function, we can display an organized summary of the fitted model. The summary includes various quantitiative features of the model fit as well as a summary table for the model coefficient estimates, standard errors and coefficient t tests."
   ]
  },
  {
   "cell_type": "code",
   "execution_count": 12,
   "metadata": {},
   "outputs": [
    {
     "data": {
      "text/html": [
       "<table class=\"simpletable\">\n",
       "<caption>OLS Regression Results</caption>\n",
       "<tr>\n",
       "  <th>Dep. Variable:</th>         <td>Dheight</td>     <th>  R-squared:         </th> <td>   0.241</td>\n",
       "</tr>\n",
       "<tr>\n",
       "  <th>Model:</th>                   <td>OLS</td>       <th>  Adj. R-squared:    </th> <td>   0.240</td>\n",
       "</tr>\n",
       "<tr>\n",
       "  <th>Method:</th>             <td>Least Squares</td>  <th>  F-statistic:       </th> <td>   435.5</td>\n",
       "</tr>\n",
       "<tr>\n",
       "  <th>Date:</th>             <td>Tue, 13 Oct 2020</td> <th>  Prob (F-statistic):</th> <td>3.22e-84</td>\n",
       "</tr>\n",
       "<tr>\n",
       "  <th>Time:</th>                 <td>00:26:58</td>     <th>  Log-Likelihood:    </th> <td> -3075.0</td>\n",
       "</tr>\n",
       "<tr>\n",
       "  <th>No. Observations:</th>      <td>  1375</td>      <th>  AIC:               </th> <td>   6154.</td>\n",
       "</tr>\n",
       "<tr>\n",
       "  <th>Df Residuals:</th>          <td>  1373</td>      <th>  BIC:               </th> <td>   6164.</td>\n",
       "</tr>\n",
       "<tr>\n",
       "  <th>Df Model:</th>              <td>     1</td>      <th>                     </th>     <td> </td>   \n",
       "</tr>\n",
       "<tr>\n",
       "  <th>Covariance Type:</th>      <td>nonrobust</td>    <th>                     </th>     <td> </td>   \n",
       "</tr>\n",
       "</table>\n",
       "<table class=\"simpletable\">\n",
       "<tr>\n",
       "      <td></td>         <th>coef</th>     <th>std err</th>      <th>t</th>      <th>P>|t|</th>  <th>[0.025</th>    <th>0.975]</th>  \n",
       "</tr>\n",
       "<tr>\n",
       "  <th>Intercept</th> <td>   29.9174</td> <td>    1.622</td> <td>   18.439</td> <td> 0.000</td> <td>   26.735</td> <td>   33.100</td>\n",
       "</tr>\n",
       "<tr>\n",
       "  <th>Mheight</th>   <td>    0.5417</td> <td>    0.026</td> <td>   20.868</td> <td> 0.000</td> <td>    0.491</td> <td>    0.593</td>\n",
       "</tr>\n",
       "</table>\n",
       "<table class=\"simpletable\">\n",
       "<tr>\n",
       "  <th>Omnibus:</th>       <td> 1.412</td> <th>  Durbin-Watson:     </th> <td>   0.126</td>\n",
       "</tr>\n",
       "<tr>\n",
       "  <th>Prob(Omnibus):</th> <td> 0.494</td> <th>  Jarque-Bera (JB):  </th> <td>   1.353</td>\n",
       "</tr>\n",
       "<tr>\n",
       "  <th>Skew:</th>          <td> 0.002</td> <th>  Prob(JB):          </th> <td>   0.508</td>\n",
       "</tr>\n",
       "<tr>\n",
       "  <th>Kurtosis:</th>      <td> 3.154</td> <th>  Cond. No.          </th> <td>1.66e+03</td>\n",
       "</tr>\n",
       "</table><br/><br/>Warnings:<br/>[1] Standard Errors assume that the covariance matrix of the errors is correctly specified.<br/>[2] The condition number is large, 1.66e+03. This might indicate that there are<br/>strong multicollinearity or other numerical problems."
      ],
      "text/plain": [
       "<class 'statsmodels.iolib.summary.Summary'>\n",
       "\"\"\"\n",
       "                            OLS Regression Results                            \n",
       "==============================================================================\n",
       "Dep. Variable:                Dheight   R-squared:                       0.241\n",
       "Model:                            OLS   Adj. R-squared:                  0.240\n",
       "Method:                 Least Squares   F-statistic:                     435.5\n",
       "Date:                Tue, 13 Oct 2020   Prob (F-statistic):           3.22e-84\n",
       "Time:                        00:26:58   Log-Likelihood:                -3075.0\n",
       "No. Observations:                1375   AIC:                             6154.\n",
       "Df Residuals:                    1373   BIC:                             6164.\n",
       "Df Model:                           1                                         \n",
       "Covariance Type:            nonrobust                                         \n",
       "==============================================================================\n",
       "                 coef    std err          t      P>|t|      [0.025      0.975]\n",
       "------------------------------------------------------------------------------\n",
       "Intercept     29.9174      1.622     18.439      0.000      26.735      33.100\n",
       "Mheight        0.5417      0.026     20.868      0.000       0.491       0.593\n",
       "==============================================================================\n",
       "Omnibus:                        1.412   Durbin-Watson:                   0.126\n",
       "Prob(Omnibus):                  0.494   Jarque-Bera (JB):                1.353\n",
       "Skew:                           0.002   Prob(JB):                        0.508\n",
       "Kurtosis:                       3.154   Cond. No.                     1.66e+03\n",
       "==============================================================================\n",
       "\n",
       "Warnings:\n",
       "[1] Standard Errors assume that the covariance matrix of the errors is correctly specified.\n",
       "[2] The condition number is large, 1.66e+03. This might indicate that there are\n",
       "strong multicollinearity or other numerical problems.\n",
       "\"\"\""
      ]
     },
     "execution_count": 12,
     "metadata": {},
     "output_type": "execute_result"
    }
   ],
   "source": [
    "results.summary()"
   ]
  },
  {
   "cell_type": "markdown",
   "metadata": {},
   "source": [
    "#### Extracting individual pieces information from the results\n",
    "\n",
    "If we want individual tables from the results summary we can access them as follows:"
   ]
  },
  {
   "cell_type": "code",
   "execution_count": 13,
   "metadata": {},
   "outputs": [
    {
     "data": {
      "text/html": [
       "<table class=\"simpletable\">\n",
       "<caption>OLS Regression Results</caption>\n",
       "<tr>\n",
       "  <th>Dep. Variable:</th>         <td>Dheight</td>     <th>  R-squared:         </th> <td>   0.241</td>\n",
       "</tr>\n",
       "<tr>\n",
       "  <th>Model:</th>                   <td>OLS</td>       <th>  Adj. R-squared:    </th> <td>   0.240</td>\n",
       "</tr>\n",
       "<tr>\n",
       "  <th>Method:</th>             <td>Least Squares</td>  <th>  F-statistic:       </th> <td>   435.5</td>\n",
       "</tr>\n",
       "<tr>\n",
       "  <th>Date:</th>             <td>Tue, 13 Oct 2020</td> <th>  Prob (F-statistic):</th> <td>3.22e-84</td>\n",
       "</tr>\n",
       "<tr>\n",
       "  <th>Time:</th>                 <td>00:26:58</td>     <th>  Log-Likelihood:    </th> <td> -3075.0</td>\n",
       "</tr>\n",
       "<tr>\n",
       "  <th>No. Observations:</th>      <td>  1375</td>      <th>  AIC:               </th> <td>   6154.</td>\n",
       "</tr>\n",
       "<tr>\n",
       "  <th>Df Residuals:</th>          <td>  1373</td>      <th>  BIC:               </th> <td>   6164.</td>\n",
       "</tr>\n",
       "<tr>\n",
       "  <th>Df Model:</th>              <td>     1</td>      <th>                     </th>     <td> </td>   \n",
       "</tr>\n",
       "<tr>\n",
       "  <th>Covariance Type:</th>      <td>nonrobust</td>    <th>                     </th>     <td> </td>   \n",
       "</tr>\n",
       "</table>"
      ],
      "text/plain": [
       "<class 'statsmodels.iolib.table.SimpleTable'>"
      ]
     },
     "execution_count": 13,
     "metadata": {},
     "output_type": "execute_result"
    }
   ],
   "source": [
    "results.summary().tables[0]"
   ]
  },
  {
   "cell_type": "code",
   "execution_count": 14,
   "metadata": {},
   "outputs": [
    {
     "data": {
      "text/html": [
       "<table class=\"simpletable\">\n",
       "<tr>\n",
       "      <td></td>         <th>coef</th>     <th>std err</th>      <th>t</th>      <th>P>|t|</th>  <th>[0.025</th>    <th>0.975]</th>  \n",
       "</tr>\n",
       "<tr>\n",
       "  <th>Intercept</th> <td>   29.9174</td> <td>    1.622</td> <td>   18.439</td> <td> 0.000</td> <td>   26.735</td> <td>   33.100</td>\n",
       "</tr>\n",
       "<tr>\n",
       "  <th>Mheight</th>   <td>    0.5417</td> <td>    0.026</td> <td>   20.868</td> <td> 0.000</td> <td>    0.491</td> <td>    0.593</td>\n",
       "</tr>\n",
       "</table>"
      ],
      "text/plain": [
       "<class 'statsmodels.iolib.table.SimpleTable'>"
      ]
     },
     "execution_count": 14,
     "metadata": {},
     "output_type": "execute_result"
    }
   ],
   "source": [
    "results.summary().tables[1]"
   ]
  },
  {
   "cell_type": "markdown",
   "metadata": {},
   "source": [
    "Uncommenting the following command gives a listing of all the the individual pieces of information we could extract from the ols results object:"
   ]
  },
  {
   "cell_type": "code",
   "execution_count": 15,
   "metadata": {},
   "outputs": [],
   "source": [
    "# dir(results)"
   ]
  },
  {
   "cell_type": "markdown",
   "metadata": {},
   "source": [
    "As an example, we can extract the value for $R^2$, the proportion of variance explained, as follows."
   ]
  },
  {
   "cell_type": "code",
   "execution_count": 16,
   "metadata": {},
   "outputs": [
    {
     "data": {
      "text/plain": [
       "0.24079567742206165"
      ]
     },
     "execution_count": 16,
     "metadata": {},
     "output_type": "execute_result"
    }
   ],
   "source": [
    "results.rsquared"
   ]
  },
  {
   "cell_type": "markdown",
   "metadata": {},
   "source": [
    "### What can we say about the relationship between mother and daughter heights *in the sample* so far?\n",
    "<br/>\n",
    "<br/>\n",
    "<br/>\n",
    "<br/>\n",
    "<br/>\n",
    "<br/>\n",
    "<br/>\n",
    "<br/>\n",
    "<br/>\n",
    "<br/>\n",
    "<br/>\n",
    "<br/>\n",
    "<br/>\n",
    "<br/>\n",
    "<br/>\n",
    "<br/>\n",
    "<br/>\n",
    "<br/>\n",
    "<br/>\n",
    "<br/>\n",
    "<br/>"
   ]
  },
  {
   "cell_type": "markdown",
   "metadata": {},
   "source": [
    "## Research Question 1b: Is there a relationship/association between mother and daugher heights *in the population*?\n",
    "We will discuss two ways to conduct inference about the nature of a linear relationship between a numerical response variable and a selected explanatory variable *predictor*.\n",
    "\n",
    "\n",
    "### 1.b.i Create Confidence Intervals for $\\beta_i$:\n",
    "\n",
    "### 1.b.ii Conduct Hypothesis Testing for $\\beta_i$:\n",
    "$H_0: \\beta_i=0$\n",
    "\n",
    "$H_A: \\beta_i\\neq0$.\n",
    "\n",
    "\n",
    "<br/>\n",
    "<br/>\n",
    "<br/>\n",
    "<br/>\n",
    "<br/>\n",
    "<br/>\n",
    "<br/>\n",
    "<br/>\n",
    "<br/>\n",
    "<br/>\n"
   ]
  },
  {
   "cell_type": "markdown",
   "metadata": {},
   "source": [
    "### 1b.i Confidence intervals for $\\beta_i$\n",
    "Like with other population parameters that we'ved looked at (ie. $\\mu,p,\\mu_1-\\mu_2,p_1-p_2$), we can create a confidence interval for our population parameter $\\beta_i$ using our sample statistic $\\hat{\\beta_i}$.\n",
    "\n",
    "**Conditions**\n",
    "If our conditions for linear regression inference are met (see below) then we can accurately create a confidence interval for $\\beta_i$ with the following equation.\n",
    "\n",
    "\n",
    "**Equation**\n",
    "$100(1-\\alpha)\\%$ confidence intervals for the coefficients $\\beta_j$ have the form:\n",
    "\n",
    "$$\n",
    "(\\hat{\\beta}_j - t_q \\cdot SD(\\hat{\\beta}_j), \\quad \\hat{\\beta}_j + t_q \\cdot SD(\\hat{\\beta}_j))\n",
    "$$\n",
    "\n",
    "where $t_q$ can be computed as \n",
    "\n",
    "        t.ppf(1-alpha/2, df=n-p-1)"
   ]
  },
  {
   "cell_type": "markdown",
   "metadata": {},
   "source": [
    "### We can use the .summary() function to tell us information about the sample slopes $\\hat{\\beta_i}$ for  $i=1,2,...,p$, the sample intercept  $\\hat{\\beta_0}$, and other information that helps us build a confidence interval for each of them."
   ]
  },
  {
   "cell_type": "code",
   "execution_count": 17,
   "metadata": {},
   "outputs": [
    {
     "data": {
      "text/html": [
       "<table class=\"simpletable\">\n",
       "<tr>\n",
       "      <td></td>         <th>coef</th>     <th>std err</th>      <th>t</th>      <th>P>|t|</th>  <th>[0.025</th>    <th>0.975]</th>  \n",
       "</tr>\n",
       "<tr>\n",
       "  <th>Intercept</th> <td>   29.9174</td> <td>    1.622</td> <td>   18.439</td> <td> 0.000</td> <td>   26.735</td> <td>   33.100</td>\n",
       "</tr>\n",
       "<tr>\n",
       "  <th>Mheight</th>   <td>    0.5417</td> <td>    0.026</td> <td>   20.868</td> <td> 0.000</td> <td>    0.491</td> <td>    0.593</td>\n",
       "</tr>\n",
       "</table>"
      ],
      "text/plain": [
       "<class 'statsmodels.iolib.table.SimpleTable'>"
      ]
     },
     "execution_count": 17,
     "metadata": {},
     "output_type": "execute_result"
    }
   ],
   "source": [
    "results.summary().tables[1]"
   ]
  },
  {
   "cell_type": "markdown",
   "metadata": {},
   "source": [
    "\n",
    "#### a.) What is the sample slope $\\hat{\\beta_1}$ for the \"Mheight\" explanatory variable?\n",
    "\n",
    "<br/>\n",
    "<br/>\n",
    "<br/>\n",
    "<br/>\n",
    "<br/>\n",
    "\n",
    "#### b.) What is the standard error $SD(\\hat{\\beta_1})$ for the slopes of the \"Mheight\" explanatory variable?\n",
    "\n",
    "<br/>\n",
    "<br/>\n",
    "<br/>\n",
    "<br/>\n",
    "<br/>\n",
    "\n",
    "#### C.) What is the critical value for a 95% confidence interval for one of these population slopes (or the population intercept)?\n",
    "\n",
    "<br/>"
   ]
  },
  {
   "cell_type": "code",
   "execution_count": 18,
   "metadata": {},
   "outputs": [
    {
     "data": {
      "text/plain": [
       "1375"
      ]
     },
     "execution_count": 18,
     "metadata": {},
     "output_type": "execute_result"
    }
   ],
   "source": [
    "len(df)"
   ]
  },
  {
   "cell_type": "code",
   "execution_count": 19,
   "metadata": {},
   "outputs": [
    {
     "data": {
      "text/plain": [
       "1.9616932841053176"
      ]
     },
     "execution_count": 19,
     "metadata": {},
     "output_type": "execute_result"
    }
   ],
   "source": [
    "from scipy.stats import t\n",
    "#t.ppf(1-alpha/2, df=n-p-1)\n",
    "#n=number of observations\n",
    "#p=number of slopes in the regression equation (1 slope in this case... the one for MHeight)\n",
    "t.ppf(1-.05/2, df=1375-1-1)"
   ]
  },
  {
   "cell_type": "markdown",
   "metadata": {},
   "source": [
    "#### d.) Create a 95% confidence interval for $\\beta_1$, the POPULATION SLOPE of of the \"Mheight\" explanatory variable?\n",
    "\n",
    "<br/>\n",
    "<br/>\n",
    "<br/>\n",
    "<br/>\n",
    "<br/>\n",
    "\n",
    "#### e.) Interpret this confidence interval.\n",
    "\n",
    "<br/>\n",
    "<br/>\n",
    "<br/>\n",
    "<br/>\n",
    "<br/>\n",
    "<br/>\n",
    "<br/>"
   ]
  },
  {
   "cell_type": "markdown",
   "metadata": {},
   "source": [
    "### 1.b.ii Conduct Hypothesis Testing for $\\beta_i$:\n",
    "We can test if there exists a linear relationship between the response variable $Y$ and the explanatory variable $X_i$ (in the population) by determining whether there exists sufficient evidence to suggest that $\\beta_i$ is non-zero in the multiple linear regression equation $E(Y) = \\beta_0 + \\beta_1 X_1 + \\beta_2 X_2 + \\cdots + \\beta_p X_p$. We do this by setting up the null and alternative hypothesis as such.\n",
    "\n",
    "$H_0: \\beta_i=0$\n",
    "\n",
    "$H_A: \\beta_i\\neq0$.\n",
    "\n",
    "If the conditions for multiple linear regression inference are met (see below), then we can form a conclusion about these hypotheses using the p-value or test-statistic given below.\n",
    "\n",
    "Like with other population parameters that we'ved looked at (ie. $\\mu,p,\\mu_1-\\mu_2,p_1-p_2$), we can create a test statistic for the sample statistic $\\hat{\\beta_i}$ as well using the equation \n",
    "\n",
    "$$test-stat=\\frac{\\hat{\\theta_0}-\\theta_0}{SD[\\hat{\\theta}]}$$\n",
    "So we get a test statistic of:\n",
    "$$t_{n-p-1,j}=\\frac{\\hat{\\beta_i}-0}{SD[\\hat{\\beta_i}]} \\quad j=0, 1, \\ldots, p$$\n",
    "\n",
    "\n",
    "Using this test statistic we can also find the p-value for these hypotheses as such:\n",
    "\n",
    "$$\n",
    "\\mbox{p-value}_j = P(\\vert T \\vert \\gt \\vert t_{n-p-1,j} \\vert) = 2 \\cdot P(T \\lt -\\vert t_{n-p-1,j} \\vert) \n",
    "$$\n",
    "\n",
    "where $T \\sim t_{n-p-1})$.\n",
    "\n"
   ]
  },
  {
   "cell_type": "markdown",
   "metadata": {},
   "source": [
    "### We can use the .summary() function to tell us information about the sample slopes $\\hat{\\beta_i}$ for  $i=1,2,...,p$, the sample intercept  $\\hat{\\beta_0}$, and other information that helps us conduct a hypothesis test for each of them."
   ]
  },
  {
   "cell_type": "code",
   "execution_count": 20,
   "metadata": {},
   "outputs": [
    {
     "data": {
      "text/html": [
       "<table class=\"simpletable\">\n",
       "<tr>\n",
       "      <td></td>         <th>coef</th>     <th>std err</th>      <th>t</th>      <th>P>|t|</th>  <th>[0.025</th>    <th>0.975]</th>  \n",
       "</tr>\n",
       "<tr>\n",
       "  <th>Intercept</th> <td>   29.9174</td> <td>    1.622</td> <td>   18.439</td> <td> 0.000</td> <td>   26.735</td> <td>   33.100</td>\n",
       "</tr>\n",
       "<tr>\n",
       "  <th>Mheight</th>   <td>    0.5417</td> <td>    0.026</td> <td>   20.868</td> <td> 0.000</td> <td>    0.491</td> <td>    0.593</td>\n",
       "</tr>\n",
       "</table>"
      ],
      "text/plain": [
       "<class 'statsmodels.iolib.table.SimpleTable'>"
      ]
     },
     "execution_count": 20,
     "metadata": {},
     "output_type": "execute_result"
    }
   ],
   "source": [
    "results.summary().tables[1]"
   ]
  },
  {
   "cell_type": "markdown",
   "metadata": {},
   "source": [
    "#### a.) Set up a hypothesis test which will test the claim that there is a linear relationship between between mother and daughter heights in the population.\n",
    "\n",
    "<br/>\n",
    "<br/>\n",
    "<br/>\n",
    "<br/>\n",
    "<br/>\n",
    "<br/>\n",
    "<br/>\n",
    "<br/>\n",
    "<br/>\n",
    "<br/>\n",
    "\n",
    "#### b.) Locate the test-statistic for this hypothesis test by looking in the table.\n",
    "\n",
    "<br/>\n",
    "<br/>\n",
    "<br/>\n",
    "<br/>\n",
    "<br/>\n",
    "<br/>\n",
    "\n",
    "#### c.) Calculate the test-statistic for this hypothesis test by hand (looking up the test-statistic information you need in the table).\n",
    "\n",
    "<br/>\n",
    "<br/>\n",
    "<br/>\n",
    "<br/>\n",
    "<br/>\n",
    "<br/>\n",
    "<br/>\n",
    "<br/>\n",
    "\n",
    "#### d.) Locate the p-value for this hypothesis test in the table.\n",
    "\n",
    "<br/>\n",
    "<br/>\n",
    "<br/>\n",
    "<br/>\n",
    "<br/>\n",
    "<br/>\n",
    "<br/>\n",
    "<br/>\n",
    "\n",
    "#### e.) Calculate the p-value for this hypothesis test \"by hand\" by looking the p-value equation elements that you need in the table.\n",
    "\n",
    "<br/>\n",
    "<br/>\n",
    "<br/>\n",
    "<br/>\n",
    "<br/>\n",
    "<br/>\n",
    "<br/>\n",
    "<br/>\n",
    "\n"
   ]
  },
  {
   "cell_type": "code",
   "execution_count": 21,
   "metadata": {},
   "outputs": [
    {
     "data": {
      "text/plain": [
       "3.2155597126014536e-84"
      ]
     },
     "execution_count": 21,
     "metadata": {},
     "output_type": "execute_result"
    }
   ],
   "source": [
    "from scipy.stats import t\n",
    "#2*t.cdf(-|test-statistic|, df=n-p-1)\n",
    "#n=number of observations\n",
    "#p=number of slopes in the regression equation (1 slope in this case... the one for MHeight)\n",
    "2*t.cdf(-20.868, df=1375-1-1)"
   ]
  },
  {
   "cell_type": "markdown",
   "metadata": {},
   "source": [
    "#### f.) Make a conclusion about these hypotheses using your 95% confidence interval from before.\n",
    "\n",
    "<br/>\n",
    "<br/>\n",
    "<br/>\n",
    "<br/>\n",
    "<br/>\n",
    "<br/>\n",
    "<br/>\n",
    "<br/>\n",
    "\n",
    "#### g.) Make a conclusion about these hypotheses using test statistic.\n",
    "\n",
    "<br/>\n",
    "<br/>\n",
    "<br/>\n",
    "<br/>\n",
    "<br/>\n",
    "<br/>\n",
    "<br/>\n",
    "<br/>\n",
    "\n",
    "#### h.) Make a conclusion about these hypotheses using test statistic.\n",
    "\n",
    "<br/>\n",
    "<br/>\n",
    "<br/>\n",
    "<br/>\n",
    "<br/>\n",
    "<br/>\n",
    "<br/>\n",
    "<br/>"
   ]
  },
  {
   "cell_type": "markdown",
   "metadata": {},
   "source": [
    "### Multiple Linear Regression Assumptions (Theory)\n",
    "The key assumptions in order for the standard errors to be correct are:\n",
    "\n",
    "+ The model is unbiased, i.e. the noise terms have mean zero\n",
    "\n",
    "+ The noise terms are uncorrelated and have equal standard deviations\n",
    "\n",
    "If the first assumption is violated it means that there are important variables or transformations missing from the model.\n",
    "\n",
    "If the second assumption is violated a generalized least squares approach might be necessary, or a more general variance formula may be used that does not require a correctly specified covariance structure, at the cost of addition computational and modeling complexity.\n",
    "\n",
    "#### See below for how to check each of these conditions in an applied setting with diagnostic plots."
   ]
  },
  {
   "cell_type": "markdown",
   "metadata": {},
   "source": [
    "### THEORY THAT WORKS FOR JUST SIMPLE LINEAR REGRESSION\n",
    "#### How do we calculate $\\hat{\\beta}_1$ for a simple linear regression model (ie. $\\hat{y}=\\hat{\\beta}_0+\\hat{\\beta}_1 X_1$).\n"
   ]
  },
  {
   "cell_type": "markdown",
   "metadata": {},
   "source": [
    "A **simple linear regression model** is one with just one explanatory variable and has the form\n",
    "\n",
    "$$\n",
    "Y_i = \\beta_0 + \\beta_1 X_i + e_i, \\quad i=1, 2,\\ldots, n\n",
    "$$\n",
    "\n",
    "where unbiasedness of the model implies $E(e_i)=0$. \n",
    "\n",
    "For this **single predictor model** the OLS regression coefficient estimates have simple formulas:\n",
    "\n",
    "$$\n",
    "\\text{Slope: } \\hat{\\beta}_1 = {\\sum_{i=1}^n (X_i - \\bar{X})(Y_i - \\bar{Y}) \n",
    "\\over \\sum_{i=1}^n (X_i - \\bar{X})^2 }\n",
    "= R {S_y \\over S_x} \\qquad\n",
    "\\text{Intercept: } \\hat{\\beta}_0 = \\bar{Y} - \\hat{\\beta_1} \\bar{X}\n",
    "$$\n",
    "\n",
    "where $R$ is the sample correlation coefficient between $X$ and $Y$, and $S_x$ and $S_y$ are the sample standard deviations of the $X$ and $Y$ data respectively.\n"
   ]
  },
  {
   "cell_type": "markdown",
   "metadata": {},
   "source": [
    "#### Using the information below, calculate the sample slope of the MHeight variable by hand. \n",
    "<br/>\n",
    "<br/>\n",
    "<br/>\n",
    "<br/>\n",
    "<br/>\n",
    "<br/>\n",
    "<br/>\n",
    "<br/>\n",
    "<br/>\n",
    "<br/>"
   ]
  },
  {
   "cell_type": "code",
   "execution_count": 22,
   "metadata": {},
   "outputs": [
    {
     "data": {
      "text/html": [
       "<div>\n",
       "<style scoped>\n",
       "    .dataframe tbody tr th:only-of-type {\n",
       "        vertical-align: middle;\n",
       "    }\n",
       "\n",
       "    .dataframe tbody tr th {\n",
       "        vertical-align: top;\n",
       "    }\n",
       "\n",
       "    .dataframe thead th {\n",
       "        text-align: right;\n",
       "    }\n",
       "</style>\n",
       "<table border=\"1\" class=\"dataframe\">\n",
       "  <thead>\n",
       "    <tr style=\"text-align: right;\">\n",
       "      <th></th>\n",
       "      <th>Mheight</th>\n",
       "      <th>Dheight</th>\n",
       "    </tr>\n",
       "  </thead>\n",
       "  <tbody>\n",
       "    <tr>\n",
       "      <th>0</th>\n",
       "      <td>59.7</td>\n",
       "      <td>55.1</td>\n",
       "    </tr>\n",
       "    <tr>\n",
       "      <th>1</th>\n",
       "      <td>58.2</td>\n",
       "      <td>56.5</td>\n",
       "    </tr>\n",
       "    <tr>\n",
       "      <th>2</th>\n",
       "      <td>60.6</td>\n",
       "      <td>56.0</td>\n",
       "    </tr>\n",
       "    <tr>\n",
       "      <th>3</th>\n",
       "      <td>60.7</td>\n",
       "      <td>56.8</td>\n",
       "    </tr>\n",
       "    <tr>\n",
       "      <th>4</th>\n",
       "      <td>61.8</td>\n",
       "      <td>56.0</td>\n",
       "    </tr>\n",
       "  </tbody>\n",
       "</table>\n",
       "</div>"
      ],
      "text/plain": [
       "   Mheight  Dheight\n",
       "0     59.7     55.1\n",
       "1     58.2     56.5\n",
       "2     60.6     56.0\n",
       "3     60.7     56.8\n",
       "4     61.8     56.0"
      ]
     },
     "execution_count": 22,
     "metadata": {},
     "output_type": "execute_result"
    }
   ],
   "source": [
    "df.head()"
   ]
  },
  {
   "cell_type": "code",
   "execution_count": 23,
   "metadata": {},
   "outputs": [
    {
     "data": {
      "text/plain": [
       "2.355103276089619"
      ]
     },
     "execution_count": 23,
     "metadata": {},
     "output_type": "execute_result"
    }
   ],
   "source": [
    "df['Mheight'].std()"
   ]
  },
  {
   "cell_type": "code",
   "execution_count": 24,
   "metadata": {},
   "outputs": [
    {
     "data": {
      "text/plain": [
       "2.6000526210817"
      ]
     },
     "execution_count": 24,
     "metadata": {},
     "output_type": "execute_result"
    }
   ],
   "source": [
    "df['Dheight'].std()"
   ]
  },
  {
   "cell_type": "code",
   "execution_count": 25,
   "metadata": {},
   "outputs": [
    {
     "data": {
      "text/html": [
       "<div>\n",
       "<style scoped>\n",
       "    .dataframe tbody tr th:only-of-type {\n",
       "        vertical-align: middle;\n",
       "    }\n",
       "\n",
       "    .dataframe tbody tr th {\n",
       "        vertical-align: top;\n",
       "    }\n",
       "\n",
       "    .dataframe thead th {\n",
       "        text-align: right;\n",
       "    }\n",
       "</style>\n",
       "<table border=\"1\" class=\"dataframe\">\n",
       "  <thead>\n",
       "    <tr style=\"text-align: right;\">\n",
       "      <th></th>\n",
       "      <th>Mheight</th>\n",
       "      <th>Dheight</th>\n",
       "    </tr>\n",
       "  </thead>\n",
       "  <tbody>\n",
       "    <tr>\n",
       "      <th>Mheight</th>\n",
       "      <td>1.000000</td>\n",
       "      <td>0.490709</td>\n",
       "    </tr>\n",
       "    <tr>\n",
       "      <th>Dheight</th>\n",
       "      <td>0.490709</td>\n",
       "      <td>1.000000</td>\n",
       "    </tr>\n",
       "  </tbody>\n",
       "</table>\n",
       "</div>"
      ],
      "text/plain": [
       "          Mheight   Dheight\n",
       "Mheight  1.000000  0.490709\n",
       "Dheight  0.490709  1.000000"
      ]
     },
     "execution_count": 25,
     "metadata": {},
     "output_type": "execute_result"
    }
   ],
   "source": [
    "df.corr()"
   ]
  },
  {
   "cell_type": "code",
   "execution_count": 26,
   "metadata": {},
   "outputs": [
    {
     "data": {
      "text/plain": [
       "0.5417494692144373"
      ]
     },
     "execution_count": 26,
     "metadata": {},
     "output_type": "execute_result"
    }
   ],
   "source": [
    "#beta_1_hat=R*(s_y/s_x)\n",
    "beta_1_hat=.4907*(2.600/2.355)\n",
    "beta_1_hat"
   ]
  },
  {
   "cell_type": "markdown",
   "metadata": {},
   "source": [
    "#### Verify this with what you see in the table."
   ]
  },
  {
   "cell_type": "code",
   "execution_count": 27,
   "metadata": {},
   "outputs": [
    {
     "data": {
      "text/html": [
       "<table class=\"simpletable\">\n",
       "<tr>\n",
       "      <td></td>         <th>coef</th>     <th>std err</th>      <th>t</th>      <th>P>|t|</th>  <th>[0.025</th>    <th>0.975]</th>  \n",
       "</tr>\n",
       "<tr>\n",
       "  <th>Intercept</th> <td>   29.9174</td> <td>    1.622</td> <td>   18.439</td> <td> 0.000</td> <td>   26.735</td> <td>   33.100</td>\n",
       "</tr>\n",
       "<tr>\n",
       "  <th>Mheight</th>   <td>    0.5417</td> <td>    0.026</td> <td>   20.868</td> <td> 0.000</td> <td>    0.491</td> <td>    0.593</td>\n",
       "</tr>\n",
       "</table>"
      ],
      "text/plain": [
       "<class 'statsmodels.iolib.table.SimpleTable'>"
      ]
     },
     "execution_count": 27,
     "metadata": {},
     "output_type": "execute_result"
    }
   ],
   "source": [
    "results.summary().tables[1]"
   ]
  },
  {
   "cell_type": "markdown",
   "metadata": {},
   "source": [
    "### THEORY THAT WORKS FOR JUST SIMPLE LINEAR REGRESSION\n",
    "#### What is the relationship between $R^2=\\frac{SST-SSE}{SST}=1-\\frac{SSE}{SST}$ defined above and R?\n",
    "\n",
    "*Just for a simple linear regression model* it turns out that $(R)^2 = R^2 =\\frac{SST-SSE}{SST}=1-\\frac{SSE}{SST}$, so the squared sample correlation is the proportion of variance explained by the model."
   ]
  },
  {
   "cell_type": "markdown",
   "metadata": {},
   "source": [
    "#### Calculate the R^2 by hand, using R.\n",
    "<br/>\n",
    "<br/>\n",
    "<br/>\n",
    "<br/>\n",
    "<br/>\n",
    "<br/>\n",
    "<br/>\n",
    "<br/>"
   ]
  },
  {
   "cell_type": "code",
   "execution_count": 28,
   "metadata": {},
   "outputs": [
    {
     "data": {
      "text/html": [
       "<div>\n",
       "<style scoped>\n",
       "    .dataframe tbody tr th:only-of-type {\n",
       "        vertical-align: middle;\n",
       "    }\n",
       "\n",
       "    .dataframe tbody tr th {\n",
       "        vertical-align: top;\n",
       "    }\n",
       "\n",
       "    .dataframe thead th {\n",
       "        text-align: right;\n",
       "    }\n",
       "</style>\n",
       "<table border=\"1\" class=\"dataframe\">\n",
       "  <thead>\n",
       "    <tr style=\"text-align: right;\">\n",
       "      <th></th>\n",
       "      <th>Mheight</th>\n",
       "      <th>Dheight</th>\n",
       "    </tr>\n",
       "  </thead>\n",
       "  <tbody>\n",
       "    <tr>\n",
       "      <th>Mheight</th>\n",
       "      <td>1.000000</td>\n",
       "      <td>0.490709</td>\n",
       "    </tr>\n",
       "    <tr>\n",
       "      <th>Dheight</th>\n",
       "      <td>0.490709</td>\n",
       "      <td>1.000000</td>\n",
       "    </tr>\n",
       "  </tbody>\n",
       "</table>\n",
       "</div>"
      ],
      "text/plain": [
       "          Mheight   Dheight\n",
       "Mheight  1.000000  0.490709\n",
       "Dheight  0.490709  1.000000"
      ]
     },
     "execution_count": 28,
     "metadata": {},
     "output_type": "execute_result"
    }
   ],
   "source": [
    "df.corr()"
   ]
  },
  {
   "cell_type": "code",
   "execution_count": 29,
   "metadata": {},
   "outputs": [
    {
     "data": {
      "text/plain": [
       "0.24078649000000002"
      ]
     },
     "execution_count": 29,
     "metadata": {},
     "output_type": "execute_result"
    }
   ],
   "source": [
    "#THIS ONLY WORKS FOR SIMPLE LINEAR REGRESSION (AKA ONE EXPLANATORY VARIABLE)!!!\n",
    "#R_squared=R**2\n",
    "R_squared=.4907**2\n",
    "R_squared"
   ]
  },
  {
   "cell_type": "markdown",
   "metadata": {},
   "source": [
    "#### Verify this with your regression output from the .summary() function."
   ]
  },
  {
   "cell_type": "code",
   "execution_count": 30,
   "metadata": {},
   "outputs": [
    {
     "data": {
      "text/html": [
       "<table class=\"simpletable\">\n",
       "<caption>OLS Regression Results</caption>\n",
       "<tr>\n",
       "  <th>Dep. Variable:</th>         <td>Dheight</td>     <th>  R-squared:         </th> <td>   0.241</td>\n",
       "</tr>\n",
       "<tr>\n",
       "  <th>Model:</th>                   <td>OLS</td>       <th>  Adj. R-squared:    </th> <td>   0.240</td>\n",
       "</tr>\n",
       "<tr>\n",
       "  <th>Method:</th>             <td>Least Squares</td>  <th>  F-statistic:       </th> <td>   435.5</td>\n",
       "</tr>\n",
       "<tr>\n",
       "  <th>Date:</th>             <td>Tue, 13 Oct 2020</td> <th>  Prob (F-statistic):</th> <td>3.22e-84</td>\n",
       "</tr>\n",
       "<tr>\n",
       "  <th>Time:</th>                 <td>00:26:59</td>     <th>  Log-Likelihood:    </th> <td> -3075.0</td>\n",
       "</tr>\n",
       "<tr>\n",
       "  <th>No. Observations:</th>      <td>  1375</td>      <th>  AIC:               </th> <td>   6154.</td>\n",
       "</tr>\n",
       "<tr>\n",
       "  <th>Df Residuals:</th>          <td>  1373</td>      <th>  BIC:               </th> <td>   6164.</td>\n",
       "</tr>\n",
       "<tr>\n",
       "  <th>Df Model:</th>              <td>     1</td>      <th>                     </th>     <td> </td>   \n",
       "</tr>\n",
       "<tr>\n",
       "  <th>Covariance Type:</th>      <td>nonrobust</td>    <th>                     </th>     <td> </td>   \n",
       "</tr>\n",
       "</table>\n",
       "<table class=\"simpletable\">\n",
       "<tr>\n",
       "      <td></td>         <th>coef</th>     <th>std err</th>      <th>t</th>      <th>P>|t|</th>  <th>[0.025</th>    <th>0.975]</th>  \n",
       "</tr>\n",
       "<tr>\n",
       "  <th>Intercept</th> <td>   29.9174</td> <td>    1.622</td> <td>   18.439</td> <td> 0.000</td> <td>   26.735</td> <td>   33.100</td>\n",
       "</tr>\n",
       "<tr>\n",
       "  <th>Mheight</th>   <td>    0.5417</td> <td>    0.026</td> <td>   20.868</td> <td> 0.000</td> <td>    0.491</td> <td>    0.593</td>\n",
       "</tr>\n",
       "</table>\n",
       "<table class=\"simpletable\">\n",
       "<tr>\n",
       "  <th>Omnibus:</th>       <td> 1.412</td> <th>  Durbin-Watson:     </th> <td>   0.126</td>\n",
       "</tr>\n",
       "<tr>\n",
       "  <th>Prob(Omnibus):</th> <td> 0.494</td> <th>  Jarque-Bera (JB):  </th> <td>   1.353</td>\n",
       "</tr>\n",
       "<tr>\n",
       "  <th>Skew:</th>          <td> 0.002</td> <th>  Prob(JB):          </th> <td>   0.508</td>\n",
       "</tr>\n",
       "<tr>\n",
       "  <th>Kurtosis:</th>      <td> 3.154</td> <th>  Cond. No.          </th> <td>1.66e+03</td>\n",
       "</tr>\n",
       "</table><br/><br/>Warnings:<br/>[1] Standard Errors assume that the covariance matrix of the errors is correctly specified.<br/>[2] The condition number is large, 1.66e+03. This might indicate that there are<br/>strong multicollinearity or other numerical problems."
      ],
      "text/plain": [
       "<class 'statsmodels.iolib.summary.Summary'>\n",
       "\"\"\"\n",
       "                            OLS Regression Results                            \n",
       "==============================================================================\n",
       "Dep. Variable:                Dheight   R-squared:                       0.241\n",
       "Model:                            OLS   Adj. R-squared:                  0.240\n",
       "Method:                 Least Squares   F-statistic:                     435.5\n",
       "Date:                Tue, 13 Oct 2020   Prob (F-statistic):           3.22e-84\n",
       "Time:                        00:26:59   Log-Likelihood:                -3075.0\n",
       "No. Observations:                1375   AIC:                             6154.\n",
       "Df Residuals:                    1373   BIC:                             6164.\n",
       "Df Model:                           1                                         \n",
       "Covariance Type:            nonrobust                                         \n",
       "==============================================================================\n",
       "                 coef    std err          t      P>|t|      [0.025      0.975]\n",
       "------------------------------------------------------------------------------\n",
       "Intercept     29.9174      1.622     18.439      0.000      26.735      33.100\n",
       "Mheight        0.5417      0.026     20.868      0.000       0.491       0.593\n",
       "==============================================================================\n",
       "Omnibus:                        1.412   Durbin-Watson:                   0.126\n",
       "Prob(Omnibus):                  0.494   Jarque-Bera (JB):                1.353\n",
       "Skew:                           0.002   Prob(JB):                        0.508\n",
       "Kurtosis:                       3.154   Cond. No.                     1.66e+03\n",
       "==============================================================================\n",
       "\n",
       "Warnings:\n",
       "[1] Standard Errors assume that the covariance matrix of the errors is correctly specified.\n",
       "[2] The condition number is large, 1.66e+03. This might indicate that there are\n",
       "strong multicollinearity or other numerical problems.\n",
       "\"\"\""
      ]
     },
     "execution_count": 30,
     "metadata": {},
     "output_type": "execute_result"
    }
   ],
   "source": [
    "results.summary()"
   ]
  },
  {
   "cell_type": "markdown",
   "metadata": {},
   "source": [
    "## Research Question 1c: How can we predict the daughter's height given the height of a mother?\n",
    "\n",
    "### We can make predictions using our fitted multiple linear regression equations using the following methods.\n",
    "\n",
    "Given mother's height the model provides a prediction for her daughter's height. One way to compute this to extract the coefficient estimates and use them to compute the new prediction. The can be accessed directly from the results object as **params**."
   ]
  },
  {
   "cell_type": "markdown",
   "metadata": {},
   "source": [
    "#### ONE WAY: Make the prediction by hand."
   ]
  },
  {
   "cell_type": "code",
   "execution_count": 31,
   "metadata": {},
   "outputs": [
    {
     "data": {
      "text/plain": [
       "Intercept    29.917437\n",
       "Mheight       0.541747\n",
       "dtype: float64"
      ]
     },
     "execution_count": 31,
     "metadata": {},
     "output_type": "execute_result"
    }
   ],
   "source": [
    "results.params # estimated regression coefficients"
   ]
  },
  {
   "cell_type": "markdown",
   "metadata": {},
   "source": [
    "What is the daughter's predicted height if her mother's height is 68 inches? Looking at the output we would compute:\n",
    "<br/>\n",
    "<br/>\n",
    "<br/>\n",
    "<br/>\n",
    "<br/>\n",
    "<br/>\n",
    "$$\n",
    "\\hat{y}_{new} = 29.9174 + 0.5417 * 68 = 66.75\n",
    "$$"
   ]
  },
  {
   "cell_type": "code",
   "execution_count": 32,
   "metadata": {},
   "outputs": [
    {
     "data": {
      "text/plain": [
       "66.753"
      ]
     },
     "execution_count": 32,
     "metadata": {},
     "output_type": "execute_result"
    }
   ],
   "source": [
    "# manual calculation:\n",
    "29.9174 + 0.5417*68"
   ]
  },
  {
   "cell_type": "code",
   "execution_count": 33,
   "metadata": {},
   "outputs": [
    {
     "data": {
      "text/plain": [
       "66.75623356729778"
      ]
     },
     "execution_count": 33,
     "metadata": {},
     "output_type": "execute_result"
    }
   ],
   "source": [
    "# calculation by extracting parameter estimates:\n",
    "sum(results.params * [1, 68])"
   ]
  },
  {
   "cell_type": "markdown",
   "metadata": {},
   "source": [
    "#### ANOTHER WAY: Making the prediction automatically in Python.\n",
    "\n",
    "Statmodels has a method for performing this prediction and enhancing it with additionla information. Here it is in action. The argument \"exog=\" requires a dictionary list of the exogenous (explanatory) variables and their values."
   ]
  },
  {
   "cell_type": "code",
   "execution_count": 34,
   "metadata": {},
   "outputs": [
    {
     "data": {
      "text/plain": [
       "0    66.756234\n",
       "dtype: float64"
      ]
     },
     "execution_count": 34,
     "metadata": {},
     "output_type": "execute_result"
    }
   ],
   "source": [
    "results.predict(exog=dict(Mheight=68))"
   ]
  },
  {
   "cell_type": "markdown",
   "metadata": {},
   "source": [
    "#### Verify the results that you got using both ways are the same."
   ]
  },
  {
   "cell_type": "markdown",
   "metadata": {},
   "source": [
    "Using this method we can easily predict multiple values at a time:"
   ]
  },
  {
   "cell_type": "code",
   "execution_count": 35,
   "metadata": {},
   "outputs": [
    {
     "data": {
      "text/plain": [
       "0    62.422257\n",
       "1    66.756234\n",
       "2    67.839728\n",
       "dtype: float64"
      ]
     },
     "execution_count": 35,
     "metadata": {},
     "output_type": "execute_result"
    }
   ],
   "source": [
    "results.predict(exog=dict(Mheight=[60, 68, 70]))"
   ]
  },
  {
   "cell_type": "markdown",
   "metadata": {},
   "source": [
    "## Research Question 1d: How can we test our model assumptions for inference as well as the fit of the model?"
   ]
  },
  {
   "cell_type": "markdown",
   "metadata": {},
   "source": [
    "### Multiple Linear Regression Condition 1: (LINEARITY CONDITION)\n",
    "#### Is a linear model a good fit for the data?\n",
    "In order for multiple linear regression model to be a good fit of the data as well as for accurate inferences to be made (using the methods we discussed above), the first condition that must be satisfied is that there must be a linear relationship between the explanatory variables and the response variable.\n",
    "\n",
    "#### Idea:\n",
    "<br/>\n",
    "<br/>\n",
    "<br/>\n",
    "<br/>\n",
    "<br/>\n",
    "<br/>\n",
    "<br/>\n",
    "<br/>\n",
    "<br/>\n",
    "<br/>"
   ]
  },
  {
   "cell_type": "markdown",
   "metadata": {},
   "source": [
    "#### How to check condition 1 by plotting residuals versus fitted values.\n",
    "\n",
    "In the analysis of the heights data, the directory of component methods for the OLS results includes 'resid' and 'fittedvalues' among many others. For any regression model, 'fittedvalues' is the array of closest fitting values for the $n$ responses, subject to the constraints imposed by the model. The $i$th fitted value is\n",
    "\n",
    "$$\n",
    "\\mbox{Fitted values:}\\qquad \\hat{y}_i = \\hat{\\beta}_0 + \\hat{\\beta}_1 x_{i1} + \\cdots + \\hat{\\beta}_p x_{ip}, \\quad i=1, 2, \\ldots, n\n",
    "$$\n",
    "<br/>\n",
    "<br/>\n",
    "<br/>\n",
    "<br/>\n",
    "<br/>\n",
    "The deviations of the observations of the opbservations from their fitted values can provide information about model fit. We can check this using the residuals available in 'resid'. The $i$th residual is given by\n",
    "\n",
    "$$\n",
    "\\mbox{Residuals:}\\qquad \\hat{e}_i = y_i - \\hat{y}_i, \\quad i = 1, 2, \\ldots, n.\n",
    "$$\n",
    "<br/>\n",
    "<br/>\n",
    "<br/>\n",
    "<br/>\n",
    "<br/>\n",
    "**Fact:** if the model includes an intercept, then the mean (and sum) of the residuals is always 0, and the residuals and fitted values are uncorrelated (no linear association).\n",
    "\n",
    "#### Interpreting:\n",
    "* The linearity condition is met if all points are roughly evenly distributed above and below the x-axis in the fitted values vs. residuals plot (for all ranges along the x-axis.)\n"
   ]
  },
  {
   "cell_type": "code",
   "execution_count": 36,
   "metadata": {},
   "outputs": [
    {
     "data": {
      "image/png": "[encoded data removed]",
      "text/plain": [
       "<Figure size 432x288 with 1 Axes>"
      ]
     },
     "metadata": {},
     "output_type": "display_data"
    }
   ],
   "source": [
    "plt.scatter(results.fittedvalues, results.resid)\n",
    "plt.hlines(y=0, xmin=np.min(results.fittedvalues), xmax=np.max(results.fittedvalues))\n",
    "plt.ylabel('Residual')\n",
    "plt.xlabel('Fitted Value')\n",
    "plt.show()"
   ]
  },
  {
   "cell_type": "markdown",
   "metadata": {},
   "source": [
    "**Result for our data:** The points are roughly evenly distributed above and below the x-axis in the fitted values vs. residuals plot (for all ranges along the x-axis). Thus the linearity condition is met."
   ]
  },
  {
   "cell_type": "markdown",
   "metadata": {},
   "source": [
    "#### What would a fitted values vs. residuals plot look like for which the linearity condition is not met?\n",
    "<br/>\n",
    "<br/>\n",
    "<br/>\n",
    "<br/>\n",
    "<br/>\n",
    "<br/>\n",
    "<br/>\n",
    "<br/>\n",
    "<br/>\n",
    "<br/>\n",
    "<br/>\n",
    "<br/>\n",
    "<br/>\n",
    "<br/>"
   ]
  },
  {
   "cell_type": "markdown",
   "metadata": {},
   "source": [
    "### Multiple Linear Regression Condition 2: (CONSTANT VARIANCE OF RESIDUALS CONDITION)\n",
    "#### For inference\n",
    "In order for our multiple linear regression model to make accurate inferences (using the methods we discussed above), the next condition that must be satisfied is that the variance of the residuals must remain constant (for all fitted values.\n",
    "\n",
    "To check this condition, we can use the same plot as the one used for checking the linearity condition."
   ]
  },
  {
   "cell_type": "code",
   "execution_count": 37,
   "metadata": {},
   "outputs": [
    {
     "data": {
      "image/png": "[encoded data removed]",
      "text/plain": [
       "<Figure size 432x288 with 1 Axes>"
      ]
     },
     "metadata": {},
     "output_type": "display_data"
    }
   ],
   "source": [
    "plt.scatter(results.fittedvalues, results.resid)\n",
    "plt.hlines(y=0, xmin=np.min(results.fittedvalues), xmax=np.max(results.fittedvalues))\n",
    "plt.ylabel('Residual')\n",
    "plt.xlabel('Fitted Value')\n",
    "plt.show()"
   ]
  },
  {
   "cell_type": "markdown",
   "metadata": {},
   "source": [
    "#### How to check condition 2 by plotting residuals versus fitted values.\n",
    "\n",
    "Plot the fitted values vs. residuals plot.\n",
    "\n",
    "#### Interpreting:\n",
    "* The constant variance of the residuals condition is met if the y-axis ranges of the points remains constant as you move from right to left in fitted values vs. residuals plot.\n"
   ]
  },
  {
   "cell_type": "code",
   "execution_count": 38,
   "metadata": {},
   "outputs": [
    {
     "data": {
      "image/png": "[encoded data removed]",
      "text/plain": [
       "<Figure size 432x288 with 1 Axes>"
      ]
     },
     "metadata": {},
     "output_type": "display_data"
    }
   ],
   "source": [
    "plt.scatter(results.fittedvalues, results.resid)\n",
    "plt.hlines(y=0, xmin=np.min(results.fittedvalues), xmax=np.max(results.fittedvalues))\n",
    "plt.ylabel('Residual')\n",
    "plt.xlabel('Fitted Value')\n",
    "plt.show()"
   ]
  },
  {
   "cell_type": "markdown",
   "metadata": {},
   "source": [
    "**Result for our data:** For the most part (except for on the edges) the y-axis ranges of the points in our fitted value vs. residuals plots stays around 10 (ie around [-5,5]). So the consant variance of residuals condition is mostly met."
   ]
  },
  {
   "cell_type": "markdown",
   "metadata": {},
   "source": [
    "#### What would a fitted values vs. residuals plot look like for which the constant variance of residuals condition is not met?\n",
    "<br/>\n",
    "<br/>\n",
    "<br/>\n",
    "<br/>\n",
    "<br/>\n",
    "<br/>\n",
    "<br/>\n",
    "<br/>\n",
    "<br/>\n",
    "<br/>\n",
    "<br/>\n",
    "<br/>\n",
    "<br/>\n",
    "<br/>"
   ]
  },
  {
   "cell_type": "markdown",
   "metadata": {},
   "source": [
    "### Multiple Linear Regression Condition 3: (Condition where residuals are normal and have a mean of zero.)\n",
    "#### For inference\n",
    "In order for our multiple linear regression model to make accurate inferences (using the methods we discussed above), the next condition that must be satisfied is that the residuals must be normally distributed and must have a mean of zero.\n",
    "\n",
    "To check this condition, we can look at a histogram of the residuals."
   ]
  },
  {
   "cell_type": "code",
   "execution_count": 39,
   "metadata": {},
   "outputs": [
    {
     "data": {
      "image/png": "[encoded data removed]",
      "text/plain": [
       "<Figure size 432x288 with 1 Axes>"
      ]
     },
     "metadata": {},
     "output_type": "display_data"
    }
   ],
   "source": [
    "plt.hist(results.resid)\n",
    "plt.xlabel('Residuals')\n",
    "plt.show()"
   ]
  },
  {
   "cell_type": "markdown",
   "metadata": {},
   "source": [
    "#### How to check condition 3 by plotting the histogram of the residuals.\n",
    "\n",
    "Plot the histogram of the residuals.\n",
    "\n",
    "#### Interpreting:\n",
    "* We can assume that this condition is met if the shape of the histogram is roughly symmetric and unimodal and is centered at 0.\n"
   ]
  },
  {
   "cell_type": "markdown",
   "metadata": {},
   "source": [
    "**Result for our data:** Our histogram of residuals is roughly symmetric, unimodal, and centered at 0. Therefore the condition in which the residuals are normally distributed with a mean of 0 is met."
   ]
  },
  {
   "cell_type": "markdown",
   "metadata": {},
   "source": [
    "#### What would a histogram of residuals look like if this condition was not met?\n",
    "<br/>\n",
    "<br/>\n",
    "<br/>\n",
    "<br/>\n",
    "<br/>\n",
    "<br/>\n",
    "<br/>\n",
    "<br/>\n",
    "<br/>\n",
    "<br/>\n",
    "<br/>\n",
    "<br/>\n",
    "<br/>\n",
    "<br/>"
   ]
  },
  {
   "cell_type": "markdown",
   "metadata": {},
   "source": [
    "# Example 2: Animal Species Brain/Body Weights\n",
    "\n",
    "## Research Question 2: So what are some things we can do if not all of our multiple linear regression are met?\n",
    "\n",
    "Don't give up just yet!\n"
   ]
  },
  {
   "cell_type": "markdown",
   "metadata": {},
   "source": [
    "### Extending the applicability of the linear model with transformations\n",
    "For certain model violations there is a technique we can *try* where we \n",
    "    * transform some of our variables in the dataframe, \n",
    "    * recheck the regression conditions again, and\n",
    "    * proceed with inference and modeling with this transformed dataset if they are met.\n",
    "\n",
    "#### Example: Interspecies study of brain weight / body weight"
   ]
  },
  {
   "cell_type": "code",
   "execution_count": 40,
   "metadata": {},
   "outputs": [
    {
     "data": {
      "text/html": [
       "<div>\n",
       "<style scoped>\n",
       "    .dataframe tbody tr th:only-of-type {\n",
       "        vertical-align: middle;\n",
       "    }\n",
       "\n",
       "    .dataframe tbody tr th {\n",
       "        vertical-align: top;\n",
       "    }\n",
       "\n",
       "    .dataframe thead th {\n",
       "        text-align: right;\n",
       "    }\n",
       "</style>\n",
       "<table border=\"1\" class=\"dataframe\">\n",
       "  <thead>\n",
       "    <tr style=\"text-align: right;\">\n",
       "      <th></th>\n",
       "      <th>species</th>\n",
       "      <th>bodykg</th>\n",
       "      <th>braing</th>\n",
       "    </tr>\n",
       "  </thead>\n",
       "  <tbody>\n",
       "    <tr>\n",
       "      <th>0</th>\n",
       "      <td>African elephant</td>\n",
       "      <td>6654.000</td>\n",
       "      <td>5712.0</td>\n",
       "    </tr>\n",
       "    <tr>\n",
       "      <th>1</th>\n",
       "      <td>African giant pouched rat</td>\n",
       "      <td>1.000</td>\n",
       "      <td>6.6</td>\n",
       "    </tr>\n",
       "    <tr>\n",
       "      <th>2</th>\n",
       "      <td>Arctic Fox</td>\n",
       "      <td>3.385</td>\n",
       "      <td>44.5</td>\n",
       "    </tr>\n",
       "    <tr>\n",
       "      <th>3</th>\n",
       "      <td>Arctic ground squirrel</td>\n",
       "      <td>0.920</td>\n",
       "      <td>5.7</td>\n",
       "    </tr>\n",
       "    <tr>\n",
       "      <th>4</th>\n",
       "      <td>Asian elephant</td>\n",
       "      <td>2547.000</td>\n",
       "      <td>4603.0</td>\n",
       "    </tr>\n",
       "    <tr>\n",
       "      <th>5</th>\n",
       "      <td>Baboon</td>\n",
       "      <td>10.550</td>\n",
       "      <td>179.5</td>\n",
       "    </tr>\n",
       "    <tr>\n",
       "      <th>6</th>\n",
       "      <td>Big brown bat</td>\n",
       "      <td>0.023</td>\n",
       "      <td>0.3</td>\n",
       "    </tr>\n",
       "    <tr>\n",
       "      <th>7</th>\n",
       "      <td>Brazilian tapir</td>\n",
       "      <td>160.000</td>\n",
       "      <td>169.0</td>\n",
       "    </tr>\n",
       "    <tr>\n",
       "      <th>8</th>\n",
       "      <td>Cat</td>\n",
       "      <td>3.300</td>\n",
       "      <td>25.6</td>\n",
       "    </tr>\n",
       "    <tr>\n",
       "      <th>9</th>\n",
       "      <td>Chimpanzee</td>\n",
       "      <td>52.160</td>\n",
       "      <td>440.0</td>\n",
       "    </tr>\n",
       "  </tbody>\n",
       "</table>\n",
       "</div>"
      ],
      "text/plain": [
       "                     species    bodykg  braing\n",
       "0           African elephant  6654.000  5712.0\n",
       "1  African giant pouched rat     1.000     6.6\n",
       "2                 Arctic Fox     3.385    44.5\n",
       "3     Arctic ground squirrel     0.920     5.7\n",
       "4             Asian elephant  2547.000  4603.0\n",
       "5                     Baboon    10.550   179.5\n",
       "6              Big brown bat     0.023     0.3\n",
       "7            Brazilian tapir   160.000   169.0\n",
       "8                        Cat     3.300    25.6\n",
       "9                 Chimpanzee    52.160   440.0"
      ]
     },
     "execution_count": 40,
     "metadata": {},
     "output_type": "execute_result"
    }
   ],
   "source": [
    "brain = pd.read_csv('brain.csv') \n",
    "brain.head(10)"
   ]
  },
  {
   "cell_type": "code",
   "execution_count": 41,
   "metadata": {},
   "outputs": [
    {
     "data": {
      "text/html": [
       "<div>\n",
       "<style scoped>\n",
       "    .dataframe tbody tr th:only-of-type {\n",
       "        vertical-align: middle;\n",
       "    }\n",
       "\n",
       "    .dataframe tbody tr th {\n",
       "        vertical-align: top;\n",
       "    }\n",
       "\n",
       "    .dataframe thead th {\n",
       "        text-align: right;\n",
       "    }\n",
       "</style>\n",
       "<table border=\"1\" class=\"dataframe\">\n",
       "  <thead>\n",
       "    <tr style=\"text-align: right;\">\n",
       "      <th></th>\n",
       "      <th>bodykg</th>\n",
       "      <th>braing</th>\n",
       "    </tr>\n",
       "  </thead>\n",
       "  <tbody>\n",
       "    <tr>\n",
       "      <th>count</th>\n",
       "      <td>62.000000</td>\n",
       "      <td>62.000000</td>\n",
       "    </tr>\n",
       "    <tr>\n",
       "      <th>mean</th>\n",
       "      <td>198.789984</td>\n",
       "      <td>283.134194</td>\n",
       "    </tr>\n",
       "    <tr>\n",
       "      <th>std</th>\n",
       "      <td>899.158011</td>\n",
       "      <td>930.278942</td>\n",
       "    </tr>\n",
       "    <tr>\n",
       "      <th>min</th>\n",
       "      <td>0.005000</td>\n",
       "      <td>0.140000</td>\n",
       "    </tr>\n",
       "    <tr>\n",
       "      <th>25%</th>\n",
       "      <td>0.600000</td>\n",
       "      <td>4.250000</td>\n",
       "    </tr>\n",
       "    <tr>\n",
       "      <th>50%</th>\n",
       "      <td>3.342500</td>\n",
       "      <td>17.250000</td>\n",
       "    </tr>\n",
       "    <tr>\n",
       "      <th>75%</th>\n",
       "      <td>48.202500</td>\n",
       "      <td>166.000000</td>\n",
       "    </tr>\n",
       "    <tr>\n",
       "      <th>max</th>\n",
       "      <td>6654.000000</td>\n",
       "      <td>5712.000000</td>\n",
       "    </tr>\n",
       "  </tbody>\n",
       "</table>\n",
       "</div>"
      ],
      "text/plain": [
       "            bodykg       braing\n",
       "count    62.000000    62.000000\n",
       "mean    198.789984   283.134194\n",
       "std     899.158011   930.278942\n",
       "min       0.005000     0.140000\n",
       "25%       0.600000     4.250000\n",
       "50%       3.342500    17.250000\n",
       "75%      48.202500   166.000000\n",
       "max    6654.000000  5712.000000"
      ]
     },
     "execution_count": 41,
     "metadata": {},
     "output_type": "execute_result"
    }
   ],
   "source": [
    "brain.describe()"
   ]
  },
  {
   "cell_type": "code",
   "execution_count": 42,
   "metadata": {},
   "outputs": [
    {
     "data": {
      "image/png": "[encoded data removed]",
      "text/plain": [
       "<Figure size 432x288 with 2 Axes>"
      ]
     },
     "metadata": {},
     "output_type": "display_data"
    }
   ],
   "source": [
    "brain.hist(bins=50)\n",
    "plt.show()"
   ]
  },
  {
   "cell_type": "code",
   "execution_count": 43,
   "metadata": {},
   "outputs": [
    {
     "data": {
      "image/png": "[encoded data removed]",
      "text/plain": [
       "<Figure size 432x288 with 1 Axes>"
      ]
     },
     "metadata": {},
     "output_type": "display_data"
    }
   ],
   "source": [
    "brain.plot.scatter(x='bodykg', y='braing', c='b')\n",
    "plt.show()"
   ]
  },
  {
   "cell_type": "code",
   "execution_count": 44,
   "metadata": {},
   "outputs": [
    {
     "data": {
      "image/png": "[encoded data removed]",
      "text/plain": [
       "<Figure size 432x288 with 1 Axes>"
      ]
     },
     "metadata": {},
     "output_type": "display_data"
    }
   ],
   "source": [
    "sns.regplot(x='bodykg', y='braing', data=brain)\n",
    "plt.show()"
   ]
  },
  {
   "cell_type": "markdown",
   "metadata": {},
   "source": [
    "Fitting a linear model to the raw brain and body mass data is problematic because the regression line is determined by just a few observations and is not representative of all the data. \n",
    "\n",
    "#### Residual plot\n",
    "\n",
    "Here is the residual versus fitted value plot for the OLS regression fit using Seaborn's regplot."
   ]
  },
  {
   "cell_type": "markdown",
   "metadata": {},
   "source": [
    "### Let's first check condition 1 (ie. linearity condition) and condition 2 (ie. constant variance of residuals condition) with the fitted values vs. residuals plot with *our original dataframe*."
   ]
  },
  {
   "cell_type": "code",
   "execution_count": 45,
   "metadata": {},
   "outputs": [
    {
     "data": {
      "image/png": "[encoded data removed]",
      "text/plain": [
       "<Figure size 432x288 with 1 Axes>"
      ]
     },
     "metadata": {},
     "output_type": "display_data"
    }
   ],
   "source": [
    "brain_result0 = smf.ols('braing ~ bodykg', data=brain).fit()\n",
    "sns.regplot(x=brain_result0.fittedvalues, y=brain_result0.resid, ci=None)\n",
    "plt.ylabel('Residual')\n",
    "plt.xlabel('Fitted Value')\n",
    "plt.show()"
   ]
  },
  {
   "cell_type": "markdown",
   "metadata": {},
   "source": [
    "#### Are the linearity condition (condition 1) and constant variance of residuals condition (condition 2) met?\n",
    "<br/>\n",
    "<br/>\n",
    "<br/>\n",
    "<br/>\n",
    "<br/>\n",
    "<br/>\n",
    "<br/>\n",
    "<br/>\n",
    "<br/>\n",
    "<br/>\n",
    "<br/>\n"
   ]
  },
  {
   "cell_type": "markdown",
   "metadata": {},
   "source": [
    "### What can we do then?"
   ]
  },
  {
   "cell_type": "markdown",
   "metadata": {},
   "source": [
    "**Log transformation to address extreme skewness**\n",
    "\n",
    "Let's try logarithmic transformations of the data to address the extreme skewness and orders of magnitude range in values."
   ]
  },
  {
   "cell_type": "code",
   "execution_count": 46,
   "metadata": {},
   "outputs": [
    {
     "data": {
      "image/png": "[encoded data removed]",
      "text/plain": [
       "<Figure size 432x288 with 1 Axes>"
      ]
     },
     "metadata": {},
     "output_type": "display_data"
    }
   ],
   "source": [
    "sns.distplot(np.log10(brain['braing']))\n",
    "plt.show()"
   ]
  },
  {
   "cell_type": "code",
   "execution_count": 47,
   "metadata": {},
   "outputs": [
    {
     "data": {
      "image/png": "[encoded data removed]",
      "text/plain": [
       "<Figure size 432x288 with 1 Axes>"
      ]
     },
     "metadata": {},
     "output_type": "display_data"
    }
   ],
   "source": [
    "sns.distplot(np.log10(brain['bodykg']))\n",
    "plt.show()"
   ]
  },
  {
   "cell_type": "markdown",
   "metadata": {},
   "source": [
    "Looks promising. We add the log transformed variables to the data for further analysis."
   ]
  },
  {
   "cell_type": "code",
   "execution_count": 48,
   "metadata": {},
   "outputs": [
    {
     "data": {
      "text/html": [
       "<div>\n",
       "<style scoped>\n",
       "    .dataframe tbody tr th:only-of-type {\n",
       "        vertical-align: middle;\n",
       "    }\n",
       "\n",
       "    .dataframe tbody tr th {\n",
       "        vertical-align: top;\n",
       "    }\n",
       "\n",
       "    .dataframe thead th {\n",
       "        text-align: right;\n",
       "    }\n",
       "</style>\n",
       "<table border=\"1\" class=\"dataframe\">\n",
       "  <thead>\n",
       "    <tr style=\"text-align: right;\">\n",
       "      <th></th>\n",
       "      <th>species</th>\n",
       "      <th>bodykg</th>\n",
       "      <th>braing</th>\n",
       "      <th>log10bodykg</th>\n",
       "      <th>log10braing</th>\n",
       "    </tr>\n",
       "  </thead>\n",
       "  <tbody>\n",
       "    <tr>\n",
       "      <th>0</th>\n",
       "      <td>African elephant</td>\n",
       "      <td>6654.000</td>\n",
       "      <td>5712.0</td>\n",
       "      <td>3.823083</td>\n",
       "      <td>3.756788</td>\n",
       "    </tr>\n",
       "    <tr>\n",
       "      <th>1</th>\n",
       "      <td>African giant pouched rat</td>\n",
       "      <td>1.000</td>\n",
       "      <td>6.6</td>\n",
       "      <td>0.000000</td>\n",
       "      <td>0.819544</td>\n",
       "    </tr>\n",
       "    <tr>\n",
       "      <th>2</th>\n",
       "      <td>Arctic Fox</td>\n",
       "      <td>3.385</td>\n",
       "      <td>44.5</td>\n",
       "      <td>0.529559</td>\n",
       "      <td>1.648360</td>\n",
       "    </tr>\n",
       "    <tr>\n",
       "      <th>3</th>\n",
       "      <td>Arctic ground squirrel</td>\n",
       "      <td>0.920</td>\n",
       "      <td>5.7</td>\n",
       "      <td>-0.036212</td>\n",
       "      <td>0.755875</td>\n",
       "    </tr>\n",
       "    <tr>\n",
       "      <th>4</th>\n",
       "      <td>Asian elephant</td>\n",
       "      <td>2547.000</td>\n",
       "      <td>4603.0</td>\n",
       "      <td>3.406029</td>\n",
       "      <td>3.663041</td>\n",
       "    </tr>\n",
       "    <tr>\n",
       "      <th>5</th>\n",
       "      <td>Baboon</td>\n",
       "      <td>10.550</td>\n",
       "      <td>179.5</td>\n",
       "      <td>1.023252</td>\n",
       "      <td>2.254064</td>\n",
       "    </tr>\n",
       "    <tr>\n",
       "      <th>6</th>\n",
       "      <td>Big brown bat</td>\n",
       "      <td>0.023</td>\n",
       "      <td>0.3</td>\n",
       "      <td>-1.638272</td>\n",
       "      <td>-0.522879</td>\n",
       "    </tr>\n",
       "    <tr>\n",
       "      <th>7</th>\n",
       "      <td>Brazilian tapir</td>\n",
       "      <td>160.000</td>\n",
       "      <td>169.0</td>\n",
       "      <td>2.204120</td>\n",
       "      <td>2.227887</td>\n",
       "    </tr>\n",
       "    <tr>\n",
       "      <th>8</th>\n",
       "      <td>Cat</td>\n",
       "      <td>3.300</td>\n",
       "      <td>25.6</td>\n",
       "      <td>0.518514</td>\n",
       "      <td>1.408240</td>\n",
       "    </tr>\n",
       "    <tr>\n",
       "      <th>9</th>\n",
       "      <td>Chimpanzee</td>\n",
       "      <td>52.160</td>\n",
       "      <td>440.0</td>\n",
       "      <td>1.717338</td>\n",
       "      <td>2.643453</td>\n",
       "    </tr>\n",
       "  </tbody>\n",
       "</table>\n",
       "</div>"
      ],
      "text/plain": [
       "                     species    bodykg  braing  log10bodykg  log10braing\n",
       "0           African elephant  6654.000  5712.0     3.823083     3.756788\n",
       "1  African giant pouched rat     1.000     6.6     0.000000     0.819544\n",
       "2                 Arctic Fox     3.385    44.5     0.529559     1.648360\n",
       "3     Arctic ground squirrel     0.920     5.7    -0.036212     0.755875\n",
       "4             Asian elephant  2547.000  4603.0     3.406029     3.663041\n",
       "5                     Baboon    10.550   179.5     1.023252     2.254064\n",
       "6              Big brown bat     0.023     0.3    -1.638272    -0.522879\n",
       "7            Brazilian tapir   160.000   169.0     2.204120     2.227887\n",
       "8                        Cat     3.300    25.6     0.518514     1.408240\n",
       "9                 Chimpanzee    52.160   440.0     1.717338     2.643453"
      ]
     },
     "execution_count": 48,
     "metadata": {},
     "output_type": "execute_result"
    }
   ],
   "source": [
    "brain['log10bodykg'] = np.log10(brain['bodykg'])\n",
    "brain['log10braing'] = np.log10(brain['braing'])\n",
    "brain.head(10)"
   ]
  },
  {
   "cell_type": "code",
   "execution_count": 49,
   "metadata": {},
   "outputs": [
    {
     "data": {
      "image/png": "[encoded data removed]",
      "text/plain": [
       "<Figure size 432x288 with 1 Axes>"
      ]
     },
     "metadata": {},
     "output_type": "display_data"
    }
   ],
   "source": [
    "sns.regplot(x='log10bodykg', y='log10braing', data=brain)\n",
    "plt.show()"
   ]
  },
  {
   "cell_type": "markdown",
   "metadata": {},
   "source": [
    "### Now let's recheck condition 1 (ie. linearity condition) and condition 2 (ie. constant variance of residuals condition) with the fitted values vs. residuals plot with *our log-transformed variables*."
   ]
  },
  {
   "cell_type": "markdown",
   "metadata": {},
   "source": [
    "On the log-log scale the interspecies data appear much more amenable to linear modeling. The least squares line is comparably close to all of the data, not just a few observations, so the line is much more representative of the interspecies relationship between brain and body mass.\n",
    "\n",
    "#### Residual plot\n",
    "\n",
    "Let's fit the model and check the residual plot."
   ]
  },
  {
   "cell_type": "code",
   "execution_count": 50,
   "metadata": {},
   "outputs": [
    {
     "data": {
      "image/png": "[encoded data removed]",
      "text/plain": [
       "<Figure size 432x288 with 1 Axes>"
      ]
     },
     "metadata": {},
     "output_type": "display_data"
    }
   ],
   "source": [
    "brain_results = smf.ols('log10braing ~ log10bodykg', data=brain).fit()\n",
    "sns.regplot(x=brain_results.fittedvalues, y=brain_results.resid, ci=None)\n",
    "plt.ylabel('Residual')\n",
    "plt.xlabel('Fitted Value')\n",
    "plt.show()"
   ]
  },
  {
   "cell_type": "markdown",
   "metadata": {},
   "source": [
    "#### Are the linearity condition (condition 1) and constant variance of residuals condition (condition 2) met *for this log-transformed data?\n",
    "<br/>\n",
    "<br/>\n",
    "<br/>\n",
    "<br/>\n",
    "<br/>\n",
    "<br/>\n",
    "<br/>\n",
    "<br/>\n",
    "<br/>\n",
    "<br/>\n",
    "<br/>\n"
   ]
  },
  {
   "cell_type": "markdown",
   "metadata": {},
   "source": [
    "#### Summary for log-log model\n",
    "\n",
    "Here is the OLS fitted model summary for further interpretation:"
   ]
  },
  {
   "cell_type": "code",
   "execution_count": 51,
   "metadata": {},
   "outputs": [
    {
     "data": {
      "text/html": [
       "<table class=\"simpletable\">\n",
       "<caption>OLS Regression Results</caption>\n",
       "<tr>\n",
       "  <th>Dep. Variable:</th>       <td>log10braing</td>   <th>  R-squared:         </th> <td>   0.921</td>\n",
       "</tr>\n",
       "<tr>\n",
       "  <th>Model:</th>                   <td>OLS</td>       <th>  Adj. R-squared:    </th> <td>   0.919</td>\n",
       "</tr>\n",
       "<tr>\n",
       "  <th>Method:</th>             <td>Least Squares</td>  <th>  F-statistic:       </th> <td>   697.4</td>\n",
       "</tr>\n",
       "<tr>\n",
       "  <th>Date:</th>             <td>Tue, 13 Oct 2020</td> <th>  Prob (F-statistic):</th> <td>9.84e-35</td>\n",
       "</tr>\n",
       "<tr>\n",
       "  <th>Time:</th>                 <td>00:27:02</td>     <th>  Log-Likelihood:    </th> <td> -12.626</td>\n",
       "</tr>\n",
       "<tr>\n",
       "  <th>No. Observations:</th>      <td>    62</td>      <th>  AIC:               </th> <td>   29.25</td>\n",
       "</tr>\n",
       "<tr>\n",
       "  <th>Df Residuals:</th>          <td>    60</td>      <th>  BIC:               </th> <td>   33.51</td>\n",
       "</tr>\n",
       "<tr>\n",
       "  <th>Df Model:</th>              <td>     1</td>      <th>                     </th>     <td> </td>   \n",
       "</tr>\n",
       "<tr>\n",
       "  <th>Covariance Type:</th>      <td>nonrobust</td>    <th>                     </th>     <td> </td>   \n",
       "</tr>\n",
       "</table>\n",
       "<table class=\"simpletable\">\n",
       "<tr>\n",
       "       <td></td>          <th>coef</th>     <th>std err</th>      <th>t</th>      <th>P>|t|</th>  <th>[0.025</th>    <th>0.975]</th>  \n",
       "</tr>\n",
       "<tr>\n",
       "  <th>Intercept</th>   <td>    0.9271</td> <td>    0.042</td> <td>   22.227</td> <td> 0.000</td> <td>    0.844</td> <td>    1.011</td>\n",
       "</tr>\n",
       "<tr>\n",
       "  <th>log10bodykg</th> <td>    0.7517</td> <td>    0.028</td> <td>   26.409</td> <td> 0.000</td> <td>    0.695</td> <td>    0.809</td>\n",
       "</tr>\n",
       "</table>\n",
       "<table class=\"simpletable\">\n",
       "<tr>\n",
       "  <th>Omnibus:</th>       <td> 2.698</td> <th>  Durbin-Watson:     </th> <td>   1.667</td>\n",
       "</tr>\n",
       "<tr>\n",
       "  <th>Prob(Omnibus):</th> <td> 0.260</td> <th>  Jarque-Bera (JB):  </th> <td>   1.933</td>\n",
       "</tr>\n",
       "<tr>\n",
       "  <th>Skew:</th>          <td> 0.405</td> <th>  Prob(JB):          </th> <td>   0.380</td>\n",
       "</tr>\n",
       "<tr>\n",
       "  <th>Kurtosis:</th>      <td> 3.301</td> <th>  Cond. No.          </th> <td>    1.78</td>\n",
       "</tr>\n",
       "</table><br/><br/>Warnings:<br/>[1] Standard Errors assume that the covariance matrix of the errors is correctly specified."
      ],
      "text/plain": [
       "<class 'statsmodels.iolib.summary.Summary'>\n",
       "\"\"\"\n",
       "                            OLS Regression Results                            \n",
       "==============================================================================\n",
       "Dep. Variable:            log10braing   R-squared:                       0.921\n",
       "Model:                            OLS   Adj. R-squared:                  0.919\n",
       "Method:                 Least Squares   F-statistic:                     697.4\n",
       "Date:                Tue, 13 Oct 2020   Prob (F-statistic):           9.84e-35\n",
       "Time:                        00:27:02   Log-Likelihood:                -12.626\n",
       "No. Observations:                  62   AIC:                             29.25\n",
       "Df Residuals:                      60   BIC:                             33.51\n",
       "Df Model:                           1                                         \n",
       "Covariance Type:            nonrobust                                         \n",
       "===============================================================================\n",
       "                  coef    std err          t      P>|t|      [0.025      0.975]\n",
       "-------------------------------------------------------------------------------\n",
       "Intercept       0.9271      0.042     22.227      0.000       0.844       1.011\n",
       "log10bodykg     0.7517      0.028     26.409      0.000       0.695       0.809\n",
       "==============================================================================\n",
       "Omnibus:                        2.698   Durbin-Watson:                   1.667\n",
       "Prob(Omnibus):                  0.260   Jarque-Bera (JB):                1.933\n",
       "Skew:                           0.405   Prob(JB):                        0.380\n",
       "Kurtosis:                       3.301   Cond. No.                         1.78\n",
       "==============================================================================\n",
       "\n",
       "Warnings:\n",
       "[1] Standard Errors assume that the covariance matrix of the errors is correctly specified.\n",
       "\"\"\""
      ]
     },
     "execution_count": 51,
     "metadata": {},
     "output_type": "execute_result"
    }
   ],
   "source": [
    "brain_results.summary()"
   ]
  },
  {
   "cell_type": "markdown",
   "metadata": {},
   "source": [
    "## We need to be careful about how we interpret and make predictions of our linear regression models if we have transformed some of the variables.\n",
    "\n",
    "#### a. Write out the new linear regression equation (which was created using the log-transformed variables).\n",
    "<br/>\n",
    "<br/>\n",
    "<br/>\n",
    "<br/>\n",
    "<br/>\n",
    "<br/>\n",
    "<br/>\n",
    "<br/>\n",
    "<br/>\n",
    "<br/>\n",
    "\n",
    "#### b. Predict the brain mass of an animal that has a body mass of 500 kg (by hand.)\n",
    "<br/>\n",
    "<br/>\n",
    "<br/>\n",
    "<br/>\n",
    "<br/>\n",
    "<br/>\n",
    "<br/>\n",
    "<br/>\n",
    "<br/>\n",
    "<br/>\n",
    "<br/>\n",
    "<br/>\n",
    "<br/>\n",
    "<br/>\n",
    "<br/>\n",
    "<br/>\n",
    "<br/>\n",
    "<br/>\n",
    "<br/>\n",
    "<br/>"
   ]
  },
  {
   "cell_type": "markdown",
   "metadata": {},
   "source": [
    "#### Predicting the brain mass based on body mass\n",
    "\n",
    "Suppose we want to predict the brain mass for a species whose average body mass is 500 kg. How can we use this log-log model to make the prediction?\n",
    "\n",
    "First, we convert body mass to log scale:"
   ]
  },
  {
   "cell_type": "code",
   "execution_count": 52,
   "metadata": {},
   "outputs": [
    {
     "data": {
      "text/plain": [
       "2.6989700043360187"
      ]
     },
     "execution_count": 52,
     "metadata": {},
     "output_type": "execute_result"
    }
   ],
   "source": [
    "bodymass = 500\n",
    "xnew = np.log10(bodymass)\n",
    "xnew"
   ]
  },
  {
   "cell_type": "markdown",
   "metadata": {},
   "source": [
    "Next, use the fitted model for prediction."
   ]
  },
  {
   "cell_type": "code",
   "execution_count": 53,
   "metadata": {},
   "outputs": [
    {
     "data": {
      "text/plain": [
       "2.955904736946554"
      ]
     },
     "execution_count": 53,
     "metadata": {},
     "output_type": "execute_result"
    }
   ],
   "source": [
    "ypred = brain_results.predict(exog=dict(log10bodykg=xnew))[0]\n",
    "ypred"
   ]
  },
  {
   "cell_type": "markdown",
   "metadata": {},
   "source": [
    "Finally, convert the log10 brain mass back to the original scale."
   ]
  },
  {
   "cell_type": "code",
   "execution_count": 54,
   "metadata": {},
   "outputs": [
    {
     "name": "stdout",
     "output_type": "stream",
     "text": [
      "body mass (kg): 500\n",
      "predicted brain mass (g): 903.451278785396\n"
     ]
    }
   ],
   "source": [
    "print('body mass (kg): '+str(bodymass))\n",
    "print('predicted brain mass (g): '+str(10**ypred))"
   ]
  },
  {
   "cell_type": "code",
   "execution_count": null,
   "metadata": {},
   "outputs": [],
   "source": []
  },
  {
   "cell_type": "markdown",
   "metadata": {},
   "source": [
    "# Example 3: Occupational prestige data\n",
    "In the past two examples we have done the following for just simple linear regression models (ie. one explanatory variable):\n",
    "* Formulated the regression equation using the Python code output.\n",
    "* Conducted inference on the population slopes and coefficients\n",
    "* Checked model conditions\n",
    "* Learned some data transformation tricks to try when some of the model conditions aren't met.\n",
    "* Made predictions with our linear regression equation.\n",
    "\n",
    "## Research Question 3: Is there anything that we need to do differently if there are more than one slope in the linear regression equation (aka if it is a *multiple* linear regression)?\n",
    "There are a couple things. We will discuss the following.\n",
    "* Interpretations of the slopes are slightly different\n",
    "* There's an additional condition you need to check.\n"
   ]
  },
  {
   "cell_type": "markdown",
   "metadata": {},
   "source": [
    "### Example: Duncan's occupational prestige data\n",
    "\n",
    "#### Data exploration and visualization\n",
    "\n",
    "Data on prestige and other features of 45 occupations in the U.S. in 1950. This is available from the statmodels package."
   ]
  },
  {
   "cell_type": "code",
   "execution_count": 55,
   "metadata": {},
   "outputs": [
    {
     "data": {
      "text/html": [
       "<div>\n",
       "<style scoped>\n",
       "    .dataframe tbody tr th:only-of-type {\n",
       "        vertical-align: middle;\n",
       "    }\n",
       "\n",
       "    .dataframe tbody tr th {\n",
       "        vertical-align: top;\n",
       "    }\n",
       "\n",
       "    .dataframe thead th {\n",
       "        text-align: right;\n",
       "    }\n",
       "</style>\n",
       "<table border=\"1\" class=\"dataframe\">\n",
       "  <thead>\n",
       "    <tr style=\"text-align: right;\">\n",
       "      <th></th>\n",
       "      <th>type</th>\n",
       "      <th>income</th>\n",
       "      <th>education</th>\n",
       "      <th>prestige</th>\n",
       "    </tr>\n",
       "  </thead>\n",
       "  <tbody>\n",
       "    <tr>\n",
       "      <th>accountant</th>\n",
       "      <td>prof</td>\n",
       "      <td>62</td>\n",
       "      <td>86</td>\n",
       "      <td>82</td>\n",
       "    </tr>\n",
       "    <tr>\n",
       "      <th>pilot</th>\n",
       "      <td>prof</td>\n",
       "      <td>72</td>\n",
       "      <td>76</td>\n",
       "      <td>83</td>\n",
       "    </tr>\n",
       "    <tr>\n",
       "      <th>architect</th>\n",
       "      <td>prof</td>\n",
       "      <td>75</td>\n",
       "      <td>92</td>\n",
       "      <td>90</td>\n",
       "    </tr>\n",
       "    <tr>\n",
       "      <th>author</th>\n",
       "      <td>prof</td>\n",
       "      <td>55</td>\n",
       "      <td>90</td>\n",
       "      <td>76</td>\n",
       "    </tr>\n",
       "    <tr>\n",
       "      <th>chemist</th>\n",
       "      <td>prof</td>\n",
       "      <td>64</td>\n",
       "      <td>86</td>\n",
       "      <td>90</td>\n",
       "    </tr>\n",
       "    <tr>\n",
       "      <th>minister</th>\n",
       "      <td>prof</td>\n",
       "      <td>21</td>\n",
       "      <td>84</td>\n",
       "      <td>87</td>\n",
       "    </tr>\n",
       "    <tr>\n",
       "      <th>professor</th>\n",
       "      <td>prof</td>\n",
       "      <td>64</td>\n",
       "      <td>93</td>\n",
       "      <td>93</td>\n",
       "    </tr>\n",
       "    <tr>\n",
       "      <th>dentist</th>\n",
       "      <td>prof</td>\n",
       "      <td>80</td>\n",
       "      <td>100</td>\n",
       "      <td>90</td>\n",
       "    </tr>\n",
       "    <tr>\n",
       "      <th>reporter</th>\n",
       "      <td>wc</td>\n",
       "      <td>67</td>\n",
       "      <td>87</td>\n",
       "      <td>52</td>\n",
       "    </tr>\n",
       "    <tr>\n",
       "      <th>engineer</th>\n",
       "      <td>prof</td>\n",
       "      <td>72</td>\n",
       "      <td>86</td>\n",
       "      <td>88</td>\n",
       "    </tr>\n",
       "  </tbody>\n",
       "</table>\n",
       "</div>"
      ],
      "text/plain": [
       "            type  income  education  prestige\n",
       "accountant  prof      62         86        82\n",
       "pilot       prof      72         76        83\n",
       "architect   prof      75         92        90\n",
       "author      prof      55         90        76\n",
       "chemist     prof      64         86        90\n",
       "minister    prof      21         84        87\n",
       "professor   prof      64         93        93\n",
       "dentist     prof      80        100        90\n",
       "reporter      wc      67         87        52\n",
       "engineer    prof      72         86        88"
      ]
     },
     "execution_count": 55,
     "metadata": {},
     "output_type": "execute_result"
    }
   ],
   "source": [
    "prestige = sm.datasets.get_rdataset(\"Duncan\", \"carData\", cache=True).data\n",
    "prestige.head(10)"
   ]
  },
  {
   "cell_type": "code",
   "execution_count": 56,
   "metadata": {},
   "outputs": [
    {
     "data": {
      "text/html": [
       "<div>\n",
       "<style scoped>\n",
       "    .dataframe tbody tr th:only-of-type {\n",
       "        vertical-align: middle;\n",
       "    }\n",
       "\n",
       "    .dataframe tbody tr th {\n",
       "        vertical-align: top;\n",
       "    }\n",
       "\n",
       "    .dataframe thead th {\n",
       "        text-align: right;\n",
       "    }\n",
       "</style>\n",
       "<table border=\"1\" class=\"dataframe\">\n",
       "  <thead>\n",
       "    <tr style=\"text-align: right;\">\n",
       "      <th></th>\n",
       "      <th>income</th>\n",
       "      <th>education</th>\n",
       "      <th>prestige</th>\n",
       "    </tr>\n",
       "  </thead>\n",
       "  <tbody>\n",
       "    <tr>\n",
       "      <th>count</th>\n",
       "      <td>45.000000</td>\n",
       "      <td>45.000000</td>\n",
       "      <td>45.000000</td>\n",
       "    </tr>\n",
       "    <tr>\n",
       "      <th>mean</th>\n",
       "      <td>41.866667</td>\n",
       "      <td>52.555556</td>\n",
       "      <td>47.688889</td>\n",
       "    </tr>\n",
       "    <tr>\n",
       "      <th>std</th>\n",
       "      <td>24.435072</td>\n",
       "      <td>29.760831</td>\n",
       "      <td>31.510332</td>\n",
       "    </tr>\n",
       "    <tr>\n",
       "      <th>min</th>\n",
       "      <td>7.000000</td>\n",
       "      <td>7.000000</td>\n",
       "      <td>3.000000</td>\n",
       "    </tr>\n",
       "    <tr>\n",
       "      <th>25%</th>\n",
       "      <td>21.000000</td>\n",
       "      <td>26.000000</td>\n",
       "      <td>16.000000</td>\n",
       "    </tr>\n",
       "    <tr>\n",
       "      <th>50%</th>\n",
       "      <td>42.000000</td>\n",
       "      <td>45.000000</td>\n",
       "      <td>41.000000</td>\n",
       "    </tr>\n",
       "    <tr>\n",
       "      <th>75%</th>\n",
       "      <td>64.000000</td>\n",
       "      <td>84.000000</td>\n",
       "      <td>81.000000</td>\n",
       "    </tr>\n",
       "    <tr>\n",
       "      <th>max</th>\n",
       "      <td>81.000000</td>\n",
       "      <td>100.000000</td>\n",
       "      <td>97.000000</td>\n",
       "    </tr>\n",
       "  </tbody>\n",
       "</table>\n",
       "</div>"
      ],
      "text/plain": [
       "          income   education   prestige\n",
       "count  45.000000   45.000000  45.000000\n",
       "mean   41.866667   52.555556  47.688889\n",
       "std    24.435072   29.760831  31.510332\n",
       "min     7.000000    7.000000   3.000000\n",
       "25%    21.000000   26.000000  16.000000\n",
       "50%    42.000000   45.000000  41.000000\n",
       "75%    64.000000   84.000000  81.000000\n",
       "max    81.000000  100.000000  97.000000"
      ]
     },
     "execution_count": 56,
     "metadata": {},
     "output_type": "execute_result"
    }
   ],
   "source": [
    "prestige.describe()"
   ]
  },
  {
   "cell_type": "markdown",
   "metadata": {},
   "source": [
    "### Multiple linear regression: more than one exogenous variable\n",
    "\n",
    "Next we consider fitting a model with multiple exogenous variables:\n",
    "\n",
    "$$\n",
    "Y_i = \\beta_0 + \\beta_1 X_{i1} + \\beta_2 X_{i2} + \\cdots + \\beta_p X_{ip} + e_i, \\quad i=1, 2, \\ldots, n.\n",
    "$$\n",
    "\n",
    "The model is unbiased, and OLS is optimal if the errors $e_i$ have mean zero, are uncorreated, and have constant standard deviation $\\sigma$ (unknown value).\n"
   ]
  },
  {
   "cell_type": "markdown",
   "metadata": {},
   "source": [
    "With multiple explanatory variables in the model, the simple linear regression formulas no longer apply. The coefficient estimates can be easily expressed using matrix algebra, but for our purposes it suffices to observe that the\n",
    "coefficient estimates\n",
    "$\\hat{\\beta}_0$, $\\hat{\\beta}_1$, $\\ldots$, $\\hat{\\beta}_p$ \n",
    "are defined by the **least squares equations**:\n",
    "\n",
    "\\begin{align*}\n",
    "&\\hat{Y}_i = \\hat{\\beta}_0 + \\hat{\\beta}_1 X_{i1} + \\hat{\\beta}_2 X_{i2} + \\cdots + \\hat{\\beta}_p X_{ip}\\\\\n",
    "&\\sum_{i=1}^n (Y_i - \\hat{Y}_i) = 0\\\\\n",
    "&\\sum_{i=1}^n (Y_i - \\hat{Y}_i) X_{i1} = 0\\\\\n",
    "&\\sum_{i=1}^n (Y_i - \\hat{Y}_i) X_{i2} = 0\\\\\n",
    "& \\qquad \\vdots\\\\\n",
    "&\\sum_{i=1}^n (Y_i - \\hat{Y}_i) X_{ip} = 0\\\\\n",
    "\\end{align*}\n",
    "\n",
    "Solving a system of equations like this is straightforward using matrix operations. This is a topic covered in courses on linear algebra. Here we note that the numerical solution is built into standard regression functions such as the statsmodels .ols function. We'll see this in action below.\n",
    "\n",
    "#### Consequences for properties of the residuals\n",
    "\n",
    "From the least squares equations we can see that the residuals sum to zero (have mean zero), and they are uncorrelated with each of the predictor varirables. It also follows that the residuals are uncorrelated with each of the $X$ variables, and also uncorrelated with the predictor values, i.e. $\\hat{e}_i = Y_i - \\hat{Y}_i$ and $\\hat{Y}_i$ have sample correlation coeffiicent equal to zero."
   ]
  },
  {
   "cell_type": "markdown",
   "metadata": {},
   "source": [
    "#### Fitting a multiple linear model, checking it and summarizing it"
   ]
  },
  {
   "cell_type": "code",
   "execution_count": 57,
   "metadata": {},
   "outputs": [],
   "source": [
    "prestige_res = smf.ols('prestige ~ education + income', data=prestige).fit()"
   ]
  },
  {
   "cell_type": "code",
   "execution_count": 58,
   "metadata": {},
   "outputs": [
    {
     "data": {
      "image/png": "[encoded data removed]",
      "text/plain": [
       "<Figure size 432x288 with 1 Axes>"
      ]
     },
     "metadata": {},
     "output_type": "display_data"
    }
   ],
   "source": [
    "# Check the residual plot\n",
    "sns.regplot(x=prestige_res.fittedvalues, y=prestige_res.resid, ci=None)\n",
    "plt.ylabel('Residual')\n",
    "plt.xlabel('Fitted Value')\n",
    "plt.show()"
   ]
  },
  {
   "cell_type": "code",
   "execution_count": 59,
   "metadata": {},
   "outputs": [
    {
     "data": {
      "image/png": "[encoded data removed]",
      "text/plain": [
       "<Figure size 432x288 with 1 Axes>"
      ]
     },
     "metadata": {},
     "output_type": "display_data"
    }
   ],
   "source": [
    "plt.hist(results.resid)\n",
    "plt.xlabel('Residuals')\n",
    "plt.show()"
   ]
  },
  {
   "cell_type": "markdown",
   "metadata": {},
   "source": [
    "## Condition 4: The explanatory variables must not be collinear.\n",
    "### (This just applies to multiple linear regression equations).\n",
    "* Two *explanatory variables* are said to be **collinear** if they have a strong linear relationship between them.\n",
    "* In order for our model coefficients to not be biased, our explanatory variables should not be collinear.\n",
    "* If you see that you have a pair of explanatory variables that are collinear, you should delete one of the two from the model."
   ]
  },
  {
   "cell_type": "code",
   "execution_count": 60,
   "metadata": {},
   "outputs": [
    {
     "data": {
      "image/png": "[encoded data removed]",
      "text/plain": [
       "<Figure size 540x540 with 12 Axes>"
      ]
     },
     "metadata": {},
     "output_type": "display_data"
    }
   ],
   "source": [
    "sns.pairplot(prestige)\n",
    "plt.show()"
   ]
  },
  {
   "cell_type": "code",
   "execution_count": 61,
   "metadata": {},
   "outputs": [
    {
     "data": {
      "text/html": [
       "<div>\n",
       "<style scoped>\n",
       "    .dataframe tbody tr th:only-of-type {\n",
       "        vertical-align: middle;\n",
       "    }\n",
       "\n",
       "    .dataframe tbody tr th {\n",
       "        vertical-align: top;\n",
       "    }\n",
       "\n",
       "    .dataframe thead th {\n",
       "        text-align: right;\n",
       "    }\n",
       "</style>\n",
       "<table border=\"1\" class=\"dataframe\">\n",
       "  <thead>\n",
       "    <tr style=\"text-align: right;\">\n",
       "      <th></th>\n",
       "      <th>income</th>\n",
       "      <th>education</th>\n",
       "      <th>prestige</th>\n",
       "    </tr>\n",
       "  </thead>\n",
       "  <tbody>\n",
       "    <tr>\n",
       "      <th>income</th>\n",
       "      <td>1.000000</td>\n",
       "      <td>0.724512</td>\n",
       "      <td>0.837801</td>\n",
       "    </tr>\n",
       "    <tr>\n",
       "      <th>education</th>\n",
       "      <td>0.724512</td>\n",
       "      <td>1.000000</td>\n",
       "      <td>0.851916</td>\n",
       "    </tr>\n",
       "    <tr>\n",
       "      <th>prestige</th>\n",
       "      <td>0.837801</td>\n",
       "      <td>0.851916</td>\n",
       "      <td>1.000000</td>\n",
       "    </tr>\n",
       "  </tbody>\n",
       "</table>\n",
       "</div>"
      ],
      "text/plain": [
       "             income  education  prestige\n",
       "income     1.000000   0.724512  0.837801\n",
       "education  0.724512   1.000000  0.851916\n",
       "prestige   0.837801   0.851916  1.000000"
      ]
     },
     "execution_count": 61,
     "metadata": {},
     "output_type": "execute_result"
    }
   ],
   "source": [
    "prestige.corr()"
   ]
  },
  {
   "cell_type": "markdown",
   "metadata": {},
   "source": [
    "#### Do we have any collinear explanatory variables in our dataset?\n",
    "<br/>\n",
    "<br/>\n",
    "<br/>\n",
    "<br/>\n",
    "<br/>\n",
    "<br/>\n",
    "<br/>\n",
    "<br/>\n",
    "<br/>\n",
    "<br/>"
   ]
  },
  {
   "cell_type": "code",
   "execution_count": 62,
   "metadata": {},
   "outputs": [
    {
     "data": {
      "text/html": [
       "<table class=\"simpletable\">\n",
       "<caption>OLS Regression Results</caption>\n",
       "<tr>\n",
       "  <th>Dep. Variable:</th>        <td>prestige</td>     <th>  R-squared:         </th> <td>   0.828</td>\n",
       "</tr>\n",
       "<tr>\n",
       "  <th>Model:</th>                   <td>OLS</td>       <th>  Adj. R-squared:    </th> <td>   0.820</td>\n",
       "</tr>\n",
       "<tr>\n",
       "  <th>Method:</th>             <td>Least Squares</td>  <th>  F-statistic:       </th> <td>   101.2</td>\n",
       "</tr>\n",
       "<tr>\n",
       "  <th>Date:</th>             <td>Tue, 13 Oct 2020</td> <th>  Prob (F-statistic):</th> <td>8.65e-17</td>\n",
       "</tr>\n",
       "<tr>\n",
       "  <th>Time:</th>                 <td>00:27:05</td>     <th>  Log-Likelihood:    </th> <td> -178.98</td>\n",
       "</tr>\n",
       "<tr>\n",
       "  <th>No. Observations:</th>      <td>    45</td>      <th>  AIC:               </th> <td>   364.0</td>\n",
       "</tr>\n",
       "<tr>\n",
       "  <th>Df Residuals:</th>          <td>    42</td>      <th>  BIC:               </th> <td>   369.4</td>\n",
       "</tr>\n",
       "<tr>\n",
       "  <th>Df Model:</th>              <td>     2</td>      <th>                     </th>     <td> </td>   \n",
       "</tr>\n",
       "<tr>\n",
       "  <th>Covariance Type:</th>      <td>nonrobust</td>    <th>                     </th>     <td> </td>   \n",
       "</tr>\n",
       "</table>\n",
       "<table class=\"simpletable\">\n",
       "<tr>\n",
       "      <td></td>         <th>coef</th>     <th>std err</th>      <th>t</th>      <th>P>|t|</th>  <th>[0.025</th>    <th>0.975]</th>  \n",
       "</tr>\n",
       "<tr>\n",
       "  <th>Intercept</th> <td>   -6.0647</td> <td>    4.272</td> <td>   -1.420</td> <td> 0.163</td> <td>  -14.686</td> <td>    2.556</td>\n",
       "</tr>\n",
       "<tr>\n",
       "  <th>education</th> <td>    0.5458</td> <td>    0.098</td> <td>    5.555</td> <td> 0.000</td> <td>    0.348</td> <td>    0.744</td>\n",
       "</tr>\n",
       "<tr>\n",
       "  <th>income</th>    <td>    0.5987</td> <td>    0.120</td> <td>    5.003</td> <td> 0.000</td> <td>    0.357</td> <td>    0.840</td>\n",
       "</tr>\n",
       "</table>\n",
       "<table class=\"simpletable\">\n",
       "<tr>\n",
       "  <th>Omnibus:</th>       <td> 1.279</td> <th>  Durbin-Watson:     </th> <td>   1.458</td>\n",
       "</tr>\n",
       "<tr>\n",
       "  <th>Prob(Omnibus):</th> <td> 0.528</td> <th>  Jarque-Bera (JB):  </th> <td>   0.520</td>\n",
       "</tr>\n",
       "<tr>\n",
       "  <th>Skew:</th>          <td> 0.155</td> <th>  Prob(JB):          </th> <td>   0.771</td>\n",
       "</tr>\n",
       "<tr>\n",
       "  <th>Kurtosis:</th>      <td> 3.426</td> <th>  Cond. No.          </th> <td>    163.</td>\n",
       "</tr>\n",
       "</table><br/><br/>Warnings:<br/>[1] Standard Errors assume that the covariance matrix of the errors is correctly specified."
      ],
      "text/plain": [
       "<class 'statsmodels.iolib.summary.Summary'>\n",
       "\"\"\"\n",
       "                            OLS Regression Results                            \n",
       "==============================================================================\n",
       "Dep. Variable:               prestige   R-squared:                       0.828\n",
       "Model:                            OLS   Adj. R-squared:                  0.820\n",
       "Method:                 Least Squares   F-statistic:                     101.2\n",
       "Date:                Tue, 13 Oct 2020   Prob (F-statistic):           8.65e-17\n",
       "Time:                        00:27:05   Log-Likelihood:                -178.98\n",
       "No. Observations:                  45   AIC:                             364.0\n",
       "Df Residuals:                      42   BIC:                             369.4\n",
       "Df Model:                           2                                         \n",
       "Covariance Type:            nonrobust                                         \n",
       "==============================================================================\n",
       "                 coef    std err          t      P>|t|      [0.025      0.975]\n",
       "------------------------------------------------------------------------------\n",
       "Intercept     -6.0647      4.272     -1.420      0.163     -14.686       2.556\n",
       "education      0.5458      0.098      5.555      0.000       0.348       0.744\n",
       "income         0.5987      0.120      5.003      0.000       0.357       0.840\n",
       "==============================================================================\n",
       "Omnibus:                        1.279   Durbin-Watson:                   1.458\n",
       "Prob(Omnibus):                  0.528   Jarque-Bera (JB):                0.520\n",
       "Skew:                           0.155   Prob(JB):                        0.771\n",
       "Kurtosis:                       3.426   Cond. No.                         163.\n",
       "==============================================================================\n",
       "\n",
       "Warnings:\n",
       "[1] Standard Errors assume that the covariance matrix of the errors is correctly specified.\n",
       "\"\"\""
      ]
     },
     "execution_count": 62,
     "metadata": {},
     "output_type": "execute_result"
    }
   ],
   "source": [
    "# display the model summary\n",
    "prestige_res.summary()"
   ]
  },
  {
   "cell_type": "code",
   "execution_count": 63,
   "metadata": {},
   "outputs": [
    {
     "name": "stdout",
     "output_type": "stream",
     "text": [
      "                            OLS Regression Results                            \n",
      "==============================================================================\n",
      "Dep. Variable:               prestige   R-squared:                       0.828\n",
      "Model:                            OLS   Adj. R-squared:                  0.820\n",
      "Method:                 Least Squares   F-statistic:                     101.2\n",
      "Date:                Tue, 13 Oct 2020   Prob (F-statistic):           8.65e-17\n",
      "Time:                        00:27:05   Log-Likelihood:                -178.98\n",
      "No. Observations:                  45   AIC:                             364.0\n",
      "Df Residuals:                      42   BIC:                             369.4\n",
      "Df Model:                           2                                         \n",
      "Covariance Type:            nonrobust                                         \n",
      "==============================================================================\n",
      "                 coef    std err          t      P>|t|      [0.025      0.975]\n",
      "------------------------------------------------------------------------------\n",
      "Intercept     -6.0647      4.272     -1.420      0.163     -14.686       2.556\n",
      "education      0.5458      0.098      5.555      0.000       0.348       0.744\n",
      "income         0.5987      0.120      5.003      0.000       0.357       0.840\n",
      "==============================================================================\n",
      "Omnibus:                        1.279   Durbin-Watson:                   1.458\n",
      "Prob(Omnibus):                  0.528   Jarque-Bera (JB):                0.520\n",
      "Skew:                           0.155   Prob(JB):                        0.771\n",
      "Kurtosis:                       3.426   Cond. No.                         163.\n",
      "==============================================================================\n",
      "\n",
      "Warnings:\n",
      "[1] Standard Errors assume that the covariance matrix of the errors is correctly specified.\n"
     ]
    }
   ],
   "source": [
    "print(prestige_res.summary())"
   ]
  },
  {
   "cell_type": "markdown",
   "metadata": {},
   "source": [
    "#### Model interpretation\n",
    "<br/>\n",
    "<br/>\n",
    "<br/>\n",
    "<br/>\n",
    "<br/>\n",
    "<br/>\n",
    "<br/>\n",
    "<br/>\n",
    "<br/>\n",
    "<br/>\n",
    "\n",
    "According to the model we see that both education and income have statistically significent positive associations with the prestige score. Caution is required in interpreting these results, as we cannot conclude based on this study that higher income and education level \"caused\" higher prestige. "
   ]
  },
  {
   "cell_type": "markdown",
   "metadata": {},
   "source": [
    "#### Model predictions\n",
    "\n",
    "Let's estimate the prestige score for a profession with education score = 25 and income = 30. Based on the fitted model we would calculate:\n",
    "<br/>\n",
    "<br/>\n",
    "<br/>\n",
    "<br/>\n",
    "<br/>\n",
    "<br/>\n",
    "$$\n",
    "\\hat{y}_{new} = -6.0647 + 0.5458 * 25 + 0.5987 * 30 = 25.5413\n",
    "$$"
   ]
  },
  {
   "cell_type": "code",
   "execution_count": 64,
   "metadata": {},
   "outputs": [
    {
     "data": {
      "text/plain": [
       "25.5413"
      ]
     },
     "execution_count": 64,
     "metadata": {},
     "output_type": "execute_result"
    }
   ],
   "source": [
    "# calculation:\n",
    "-6.0647 + 0.5458 * 25 + 0.5987 * 30"
   ]
  },
  {
   "cell_type": "code",
   "execution_count": 65,
   "metadata": {},
   "outputs": [
    {
     "data": {
      "text/plain": [
       "0    25.543169\n",
       "dtype: float64"
      ]
     },
     "execution_count": 65,
     "metadata": {},
     "output_type": "execute_result"
    }
   ],
   "source": [
    "# calculation using predict function:\n",
    "prestige_res.predict(exog=dict(education=25, income=30))"
   ]
  },
  {
   "cell_type": "markdown",
   "metadata": {},
   "source": [
    "## Warning about making certain types of predictions\n",
    "These types of predictions are most reliable when the exogenous variables are within the range of the range of the original study. Trying to predict based on extreme values of the exogenous variables is called **extrapolation**. Extrapolation is risky because we have no emprical evidence that the model holds outside of the range of the data in the original study."
   ]
  },
  {
   "cell_type": "markdown",
   "metadata": {},
   "source": [
    "# Example 4: Lead exposure data (again)\n",
    "In the past three examples we have formulated multiple linear regression equations when:\n",
    "* the response varible is numerical and\n",
    "* all of the explanatory variables were numerical.\n",
    "\n",
    "A multiple linear regression model *requires* that the response variable be numerical. BUT we can model an explanatory variable that is categorical by creating a series of 0/1 \"indicator variables\" for each categorical explanatory variable to represent them in our multiple linear regression equation.\n"
   ]
  },
  {
   "cell_type": "markdown",
   "metadata": {},
   "source": [
    "## Creating Categorical Explanatory Variables in a Multiple Linear Regression"
   ]
  },
  {
   "cell_type": "markdown",
   "metadata": {},
   "source": [
    "**Example: lead exposure data**"
   ]
  },
  {
   "cell_type": "code",
   "execution_count": 66,
   "metadata": {},
   "outputs": [
    {
     "data": {
      "text/html": [
       "<div>\n",
       "<style scoped>\n",
       "    .dataframe tbody tr th:only-of-type {\n",
       "        vertical-align: middle;\n",
       "    }\n",
       "\n",
       "    .dataframe tbody tr th {\n",
       "        vertical-align: top;\n",
       "    }\n",
       "\n",
       "    .dataframe thead th {\n",
       "        text-align: right;\n",
       "    }\n",
       "</style>\n",
       "<table border=\"1\" class=\"dataframe\">\n",
       "  <thead>\n",
       "    <tr style=\"text-align: right;\">\n",
       "      <th></th>\n",
       "      <th>id</th>\n",
       "      <th>age</th>\n",
       "      <th>sex</th>\n",
       "      <th>status</th>\n",
       "      <th>verbiq</th>\n",
       "      <th>perfiq</th>\n",
       "      <th>fulliq</th>\n",
       "      <th>iqtype</th>\n",
       "      <th>totyrs</th>\n",
       "      <th>hyperact</th>\n",
       "      <th>tapping</th>\n",
       "      <th>group</th>\n",
       "    </tr>\n",
       "  </thead>\n",
       "  <tbody>\n",
       "    <tr>\n",
       "      <th>0</th>\n",
       "      <td>101</td>\n",
       "      <td>11.083333</td>\n",
       "      <td>M</td>\n",
       "      <td>77</td>\n",
       "      <td>61</td>\n",
       "      <td>85</td>\n",
       "      <td>70</td>\n",
       "      <td>WISC</td>\n",
       "      <td>11</td>\n",
       "      <td>NaN</td>\n",
       "      <td>72.0</td>\n",
       "      <td>lead &lt; 40</td>\n",
       "    </tr>\n",
       "    <tr>\n",
       "      <th>1</th>\n",
       "      <td>102</td>\n",
       "      <td>9.416667</td>\n",
       "      <td>M</td>\n",
       "      <td>77</td>\n",
       "      <td>82</td>\n",
       "      <td>90</td>\n",
       "      <td>85</td>\n",
       "      <td>WISC</td>\n",
       "      <td>6</td>\n",
       "      <td>0.0</td>\n",
       "      <td>61.0</td>\n",
       "      <td>lead &lt; 40</td>\n",
       "    </tr>\n",
       "    <tr>\n",
       "      <th>2</th>\n",
       "      <td>103</td>\n",
       "      <td>11.083333</td>\n",
       "      <td>M</td>\n",
       "      <td>30</td>\n",
       "      <td>70</td>\n",
       "      <td>107</td>\n",
       "      <td>86</td>\n",
       "      <td>WISC</td>\n",
       "      <td>5</td>\n",
       "      <td>NaN</td>\n",
       "      <td>49.0</td>\n",
       "      <td>lead &lt; 40</td>\n",
       "    </tr>\n",
       "    <tr>\n",
       "      <th>3</th>\n",
       "      <td>104</td>\n",
       "      <td>6.916667</td>\n",
       "      <td>M</td>\n",
       "      <td>77</td>\n",
       "      <td>72</td>\n",
       "      <td>85</td>\n",
       "      <td>76</td>\n",
       "      <td>WISC</td>\n",
       "      <td>5</td>\n",
       "      <td>2.0</td>\n",
       "      <td>48.0</td>\n",
       "      <td>lead &lt; 40</td>\n",
       "    </tr>\n",
       "    <tr>\n",
       "      <th>4</th>\n",
       "      <td>105</td>\n",
       "      <td>11.250000</td>\n",
       "      <td>M</td>\n",
       "      <td>62</td>\n",
       "      <td>72</td>\n",
       "      <td>100</td>\n",
       "      <td>84</td>\n",
       "      <td>WISC</td>\n",
       "      <td>11</td>\n",
       "      <td>NaN</td>\n",
       "      <td>51.0</td>\n",
       "      <td>lead &lt; 40</td>\n",
       "    </tr>\n",
       "  </tbody>\n",
       "</table>\n",
       "</div>"
      ],
      "text/plain": [
       "    id        age sex  status  verbiq  perfiq  fulliq iqtype  totyrs  \\\n",
       "0  101  11.083333   M      77      61      85      70   WISC      11   \n",
       "1  102   9.416667   M      77      82      90      85   WISC       6   \n",
       "2  103  11.083333   M      30      70     107      86   WISC       5   \n",
       "3  104   6.916667   M      77      72      85      76   WISC       5   \n",
       "4  105  11.250000   M      62      72     100      84   WISC      11   \n",
       "\n",
       "   hyperact  tapping      group  \n",
       "0       NaN     72.0  lead < 40  \n",
       "1       0.0     61.0  lead < 40  \n",
       "2       NaN     49.0  lead < 40  \n",
       "3       2.0     48.0  lead < 40  \n",
       "4       NaN     51.0  lead < 40  "
      ]
     },
     "execution_count": 66,
     "metadata": {},
     "output_type": "execute_result"
    }
   ],
   "source": [
    "lead = pd.read_csv('lead.csv')\n",
    "lead.head()"
   ]
  },
  {
   "cell_type": "markdown",
   "metadata": {},
   "source": [
    "Let's try regressing 'fulliq' on 'age' and 'group'. What will happen given that 'group' is 'lead < 40' or 'lead >= 40'?"
   ]
  },
  {
   "cell_type": "code",
   "execution_count": 67,
   "metadata": {},
   "outputs": [
    {
     "data": {
      "text/html": [
       "<table class=\"simpletable\">\n",
       "<caption>OLS Regression Results</caption>\n",
       "<tr>\n",
       "  <th>Dep. Variable:</th>         <td>fulliq</td>      <th>  R-squared:         </th> <td>   0.027</td>\n",
       "</tr>\n",
       "<tr>\n",
       "  <th>Model:</th>                   <td>OLS</td>       <th>  Adj. R-squared:    </th> <td>   0.011</td>\n",
       "</tr>\n",
       "<tr>\n",
       "  <th>Method:</th>             <td>Least Squares</td>  <th>  F-statistic:       </th> <td>   1.667</td>\n",
       "</tr>\n",
       "<tr>\n",
       "  <th>Date:</th>             <td>Tue, 13 Oct 2020</td> <th>  Prob (F-statistic):</th>  <td> 0.193</td> \n",
       "</tr>\n",
       "<tr>\n",
       "  <th>Time:</th>                 <td>00:27:05</td>     <th>  Log-Likelihood:    </th> <td> -504.53</td>\n",
       "</tr>\n",
       "<tr>\n",
       "  <th>No. Observations:</th>      <td>   124</td>      <th>  AIC:               </th> <td>   1015.</td>\n",
       "</tr>\n",
       "<tr>\n",
       "  <th>Df Residuals:</th>          <td>   121</td>      <th>  BIC:               </th> <td>   1024.</td>\n",
       "</tr>\n",
       "<tr>\n",
       "  <th>Df Model:</th>              <td>     2</td>      <th>                     </th>     <td> </td>   \n",
       "</tr>\n",
       "<tr>\n",
       "  <th>Covariance Type:</th>      <td>nonrobust</td>    <th>                     </th>     <td> </td>   \n",
       "</tr>\n",
       "</table>\n",
       "<table class=\"simpletable\">\n",
       "<tr>\n",
       "           <td></td>              <th>coef</th>     <th>std err</th>      <th>t</th>      <th>P>|t|</th>  <th>[0.025</th>    <th>0.975]</th>  \n",
       "</tr>\n",
       "<tr>\n",
       "  <th>Intercept</th>           <td>   92.9088</td> <td>    3.806</td> <td>   24.411</td> <td> 0.000</td> <td>   85.374</td> <td>  100.444</td>\n",
       "</tr>\n",
       "<tr>\n",
       "  <th>group[T.lead >= 40]</th> <td>   -4.8656</td> <td>    2.692</td> <td>   -1.808</td> <td> 0.073</td> <td>  -10.195</td> <td>    0.464</td>\n",
       "</tr>\n",
       "<tr>\n",
       "  <th>age</th>                 <td>   -0.0026</td> <td>    0.369</td> <td>   -0.007</td> <td> 0.994</td> <td>   -0.733</td> <td>    0.728</td>\n",
       "</tr>\n",
       "</table>\n",
       "<table class=\"simpletable\">\n",
       "<tr>\n",
       "  <th>Omnibus:</th>       <td> 5.676</td> <th>  Durbin-Watson:     </th> <td>   2.070</td>\n",
       "</tr>\n",
       "<tr>\n",
       "  <th>Prob(Omnibus):</th> <td> 0.059</td> <th>  Jarque-Bera (JB):  </th> <td>   8.599</td>\n",
       "</tr>\n",
       "<tr>\n",
       "  <th>Skew:</th>          <td> 0.075</td> <th>  Prob(JB):          </th> <td>  0.0136</td>\n",
       "</tr>\n",
       "<tr>\n",
       "  <th>Kurtosis:</th>      <td> 4.281</td> <th>  Cond. No.          </th> <td>    30.3</td>\n",
       "</tr>\n",
       "</table><br/><br/>Warnings:<br/>[1] Standard Errors assume that the covariance matrix of the errors is correctly specified."
      ],
      "text/plain": [
       "<class 'statsmodels.iolib.summary.Summary'>\n",
       "\"\"\"\n",
       "                            OLS Regression Results                            \n",
       "==============================================================================\n",
       "Dep. Variable:                 fulliq   R-squared:                       0.027\n",
       "Model:                            OLS   Adj. R-squared:                  0.011\n",
       "Method:                 Least Squares   F-statistic:                     1.667\n",
       "Date:                Tue, 13 Oct 2020   Prob (F-statistic):              0.193\n",
       "Time:                        00:27:05   Log-Likelihood:                -504.53\n",
       "No. Observations:                 124   AIC:                             1015.\n",
       "Df Residuals:                     121   BIC:                             1024.\n",
       "Df Model:                           2                                         \n",
       "Covariance Type:            nonrobust                                         \n",
       "=======================================================================================\n",
       "                          coef    std err          t      P>|t|      [0.025      0.975]\n",
       "---------------------------------------------------------------------------------------\n",
       "Intercept              92.9088      3.806     24.411      0.000      85.374     100.444\n",
       "group[T.lead >= 40]    -4.8656      2.692     -1.808      0.073     -10.195       0.464\n",
       "age                    -0.0026      0.369     -0.007      0.994      -0.733       0.728\n",
       "==============================================================================\n",
       "Omnibus:                        5.676   Durbin-Watson:                   2.070\n",
       "Prob(Omnibus):                  0.059   Jarque-Bera (JB):                8.599\n",
       "Skew:                           0.075   Prob(JB):                       0.0136\n",
       "Kurtosis:                       4.281   Cond. No.                         30.3\n",
       "==============================================================================\n",
       "\n",
       "Warnings:\n",
       "[1] Standard Errors assume that the covariance matrix of the errors is correctly specified.\n",
       "\"\"\""
      ]
     },
     "execution_count": 67,
     "metadata": {},
     "output_type": "execute_result"
    }
   ],
   "source": [
    "lead_res = smf.ols('fulliq ~ age + group', data=lead).fit()\n",
    "lead_res.summary()"
   ]
  },
  {
   "cell_type": "markdown",
   "metadata": {},
   "source": [
    "#### What did our model tell us?\n",
    "<br/>\n",
    "<br/>\n",
    "<br/>\n",
    "<br/>\n",
    "<br/>\n",
    "<br/>\n",
    "<br/>\n",
    "<br/>\n",
    "<br/>\n",
    "<br/>\n",
    "<br/>\n",
    "<br/>\n",
    "<br/>\n",
    "<br/>\n",
    "<br/>\n",
    "<br/>\n",
    "<br/>\n",
    "<br/>\n",
    "<br/>"
   ]
  },
  {
   "cell_type": "markdown",
   "metadata": {},
   "source": [
    "Clearly, the model explains very little, as $R^2$ is close to zero. However, computationally, it illustrates how categorical variables are handled. \n",
    "\n",
    "We see that a variable 'group[T.lead >= 40]' was created. What is this? This illustrates a technique for coding categorical variables. The software has defined:\n",
    "\n",
    "$$\n",
    "\\mbox{group[T.lead >= 40]} = \\cases{1,& if 'group'='lead >= 40'\\\\ 0,& if 'group'='lead < 40'\\\\}\n",
    "$$\n",
    "\n",
    "Notice how this affects the model. The estimated regression model for 'lead < 40' is:\n",
    "\n",
    "$$\n",
    "\\mbox{fulliq} = 92.91 - 0.0026 * \\mbox{age}\n",
    "$$\n",
    "\n",
    "For 'lead >= 40', the model becomes\n",
    "\n",
    "$$\n",
    "\\mbox{fulliq} = 92.91 -4.8656 - 0.0026 * \\mbox{age} = 88.044 - 0.0026 * \\mbox{age}\n",
    "$$\n",
    "\n",
    "Thus there is a parallel shift in the fitted regression line, with a separate intercept for each group.\n",
    "\n",
    "Note, that the 'group' coefficient is statistically significant, with a p-value of 0.073 (if you use $\\alpha=0.10). By fitting this two variable regression model we were able to do an age-adjusted test of this effect and found evidence of a lead-level group effect. \n",
    "\n",
    "This encoding of categorical variables can be done explicitly by the user, but it is important to understand what is happening behind the scenes when we leave it to the software to automate the encoding."
   ]
  },
  {
   "cell_type": "markdown",
   "metadata": {},
   "source": [
    "In this example, we needed only one 0/1 variable (and thus one slope) to distiguish 'lead >= 40' group and 'lead < 40' group. The 'lead < 40' group was are the reference category (indicator = 0), so the intercept refers to them.\n",
    "\n",
    "In general, if we have $k$ categories for some variable, then we will need $k-1$ different 0/1 indicator variables to encode it. One cateogry will be the reference catgefory, with all zeros, and the others will be coded as 1's in some column.\n",
    "\n",
    "#### Example: encoding a 4 level factor variable.\n",
    "\n",
    "Suppose a study compares preservative, A, B, C and D, as part of an evaluation of product shelf-life. We need three variables to encode this factor variable. For example, taking 'A' as the reference category we have:\n",
    "\n",
    "| Preservative | preservative[T.B] | preservative[T.C] | preservative[T.D] |\n",
    "| --- | --- | --- | --- |\n",
    "| A | 0 | 0 | 0 |\n",
    "| B | 1 | 0 | 0 |\n",
    "| C | 0 | 1 | 0 |\n",
    "| D | 0 | 0 | 1 |\n",
    "\n",
    "Thus, the intercept is the baseline value using preservative A, and the model includes increments for each of the pther preservatives compared to A.\n",
    "\n",
    "<br/>\n",
    "<br/>\n",
    "<br/>\n",
    "<br/>\n",
    "<br/>\n",
    "<br/>\n",
    "<br/>\n",
    "<br/>\n",
    "<br/>\n",
    "\n",
    "#### Ex: How could you formulate a multiple linear regression equation that predicts income with age and political affiliation (assume just 3 types: democrat, republican, independent)?\n",
    "\n",
    "<br/>\n",
    "<br/>\n",
    "<br/>\n",
    "<br/>\n",
    "<br/>\n",
    "<br/>\n",
    "<br/>\n",
    "<br/>\n",
    "<br/>\n",
    "<br/>\n",
    "<br/>\n",
    "<br/>\n",
    "<br/>\n",
    "<br/>\n",
    "<br/>\n",
    "<br/>\n",
    "<br/>\n",
    "<br/>"
   ]
  },
  {
   "cell_type": "markdown",
   "metadata": {},
   "source": [
    "---\n",
    "STAT 207, Victoria Ellison and Douglas Simpson, University of Illinois at Urbana-Champaign"
   ]
  }
 ],
 "metadata": {
  "kernelspec": {
   "display_name": "Python 3",
   "language": "python",
   "name": "python3"
  },
  "language_info": {
   "codemirror_mode": {
    "name": "ipython",
    "version": 3
   },
   "file_extension": ".py",
   "mimetype": "text/x-python",
   "name": "python",
   "nbconvert_exporter": "python",
   "pygments_lexer": "ipython3",
   "version": "3.8.5"
  }
 },
 "nbformat": 4,
 "nbformat_minor": 2
}
