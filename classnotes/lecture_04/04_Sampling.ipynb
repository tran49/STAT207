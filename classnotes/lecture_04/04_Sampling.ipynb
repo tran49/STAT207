{
 "cells": [
  {
   "cell_type": "markdown",
   "metadata": {},
   "source": [
    "<!--# STAT 207: Data Science Exploration-->\n",
    "## Sampling and Probability\n",
    "\n",
    "In this section, we explore random sampling from the data, both with and without replacement. It is natural at this point to begin introducing ideas of probability, random variables and distributions. We will need these concepts as we move from exploratory data analysis to principled statistical modeling and analysis.\n",
    "\n",
    "We will demonstrate the following key ideas:\n",
    "\n",
    "+ Simple random sampling\n",
    "+ Sampling with and without replacement\n",
    "+ Probabilities of outcomes\n",
    "+ Probablilities of events made up of multiple outcomes\n",
    "+ Multiplication rule for counting compound events\n",
    "\n",
    "Computational skills:\n",
    "\n",
    "+ Using pandas to sample from a data frame\n",
    "+ Defining a simple function\n",
    "+ Iteration using a for loop\n",
    "\n",
    "To start, we import the necessary package(s) and construct a simple data frame to be used for illustration."
   ]
  },
  {
   "cell_type": "code",
   "execution_count": 2,
   "metadata": {},
   "outputs": [],
   "source": [
    "import pandas as pd"
   ]
  },
  {
   "cell_type": "code",
   "execution_count": 3,
   "metadata": {},
   "outputs": [
    {
     "data": {
      "text/html": [
       "<div>\n",
       "<style scoped>\n",
       "    .dataframe tbody tr th:only-of-type {\n",
       "        vertical-align: middle;\n",
       "    }\n",
       "\n",
       "    .dataframe tbody tr th {\n",
       "        vertical-align: top;\n",
       "    }\n",
       "\n",
       "    .dataframe thead th {\n",
       "        text-align: right;\n",
       "    }\n",
       "</style>\n",
       "<table border=\"1\" class=\"dataframe\">\n",
       "  <thead>\n",
       "    <tr style=\"text-align: right;\">\n",
       "      <th></th>\n",
       "      <th>course</th>\n",
       "      <th>section</th>\n",
       "      <th>enrolled</th>\n",
       "    </tr>\n",
       "  </thead>\n",
       "  <tbody>\n",
       "    <tr>\n",
       "      <th>0</th>\n",
       "      <td>cs105</td>\n",
       "      <td>B</td>\n",
       "      <td>345</td>\n",
       "    </tr>\n",
       "    <tr>\n",
       "      <th>1</th>\n",
       "      <td>cs105</td>\n",
       "      <td>A</td>\n",
       "      <td>201</td>\n",
       "    </tr>\n",
       "    <tr>\n",
       "      <th>2</th>\n",
       "      <td>stat107</td>\n",
       "      <td>A</td>\n",
       "      <td>197</td>\n",
       "    </tr>\n",
       "    <tr>\n",
       "      <th>3</th>\n",
       "      <td>stat207</td>\n",
       "      <td>A</td>\n",
       "      <td>53</td>\n",
       "    </tr>\n",
       "    <tr>\n",
       "      <th>4</th>\n",
       "      <td>badm210</td>\n",
       "      <td>A</td>\n",
       "      <td>215</td>\n",
       "    </tr>\n",
       "    <tr>\n",
       "      <th>5</th>\n",
       "      <td>badm210</td>\n",
       "      <td>C</td>\n",
       "      <td>197</td>\n",
       "    </tr>\n",
       "    <tr>\n",
       "      <th>6</th>\n",
       "      <td>badm210</td>\n",
       "      <td>B</td>\n",
       "      <td>178</td>\n",
       "    </tr>\n",
       "    <tr>\n",
       "      <th>7</th>\n",
       "      <td>adv307</td>\n",
       "      <td>A</td>\n",
       "      <td>37</td>\n",
       "    </tr>\n",
       "  </tbody>\n",
       "</table>\n",
       "</div>"
      ],
      "text/plain": [
       "    course section  enrolled\n",
       "0    cs105       B       345\n",
       "1    cs105       A       201\n",
       "2  stat107       A       197\n",
       "3  stat207       A        53\n",
       "4  badm210       A       215\n",
       "5  badm210       C       197\n",
       "6  badm210       B       178\n",
       "7   adv307       A        37"
      ]
     },
     "execution_count": 3,
     "metadata": {},
     "output_type": "execute_result"
    }
   ],
   "source": [
    "courses = ['cs105', 'cs105', 'stat107', 'stat207', 'badm210', 'badm210', 'badm210', 'adv307']\n",
    "sections = ['B', 'A', 'A', 'A', 'A', 'C', 'B', 'A']\n",
    "enrollments = [345, 201, 197, 53, 215, 197, 178, 37]\n",
    "sectdf = pd.DataFrame({'course': courses, \n",
    "                       'section': sections, \n",
    "                       'enrolled': enrollments})\n",
    "sectdf"
   ]
  },
  {
   "cell_type": "markdown",
   "metadata": {},
   "source": [
    "Next, we'll sort the data in-place by course rubric and section."
   ]
  },
  {
   "cell_type": "code",
   "execution_count": 11,
   "metadata": {},
   "outputs": [],
   "source": [
    "sectdf.sort_values(by=['course', 'section'], inplace=True) "
   ]
  },
  {
   "cell_type": "code",
   "execution_count": 12,
   "metadata": {},
   "outputs": [
    {
     "data": {
      "text/html": [
       "<div>\n",
       "<style scoped>\n",
       "    .dataframe tbody tr th:only-of-type {\n",
       "        vertical-align: middle;\n",
       "    }\n",
       "\n",
       "    .dataframe tbody tr th {\n",
       "        vertical-align: top;\n",
       "    }\n",
       "\n",
       "    .dataframe thead th {\n",
       "        text-align: right;\n",
       "    }\n",
       "</style>\n",
       "<table border=\"1\" class=\"dataframe\">\n",
       "  <thead>\n",
       "    <tr style=\"text-align: right;\">\n",
       "      <th></th>\n",
       "      <th>course</th>\n",
       "      <th>section</th>\n",
       "      <th>enrolled</th>\n",
       "    </tr>\n",
       "  </thead>\n",
       "  <tbody>\n",
       "    <tr>\n",
       "      <th>7</th>\n",
       "      <td>adv307</td>\n",
       "      <td>A</td>\n",
       "      <td>37</td>\n",
       "    </tr>\n",
       "    <tr>\n",
       "      <th>4</th>\n",
       "      <td>badm210</td>\n",
       "      <td>A</td>\n",
       "      <td>215</td>\n",
       "    </tr>\n",
       "    <tr>\n",
       "      <th>6</th>\n",
       "      <td>badm210</td>\n",
       "      <td>B</td>\n",
       "      <td>178</td>\n",
       "    </tr>\n",
       "    <tr>\n",
       "      <th>5</th>\n",
       "      <td>badm210</td>\n",
       "      <td>C</td>\n",
       "      <td>197</td>\n",
       "    </tr>\n",
       "    <tr>\n",
       "      <th>1</th>\n",
       "      <td>cs105</td>\n",
       "      <td>A</td>\n",
       "      <td>201</td>\n",
       "    </tr>\n",
       "    <tr>\n",
       "      <th>0</th>\n",
       "      <td>cs105</td>\n",
       "      <td>B</td>\n",
       "      <td>345</td>\n",
       "    </tr>\n",
       "    <tr>\n",
       "      <th>2</th>\n",
       "      <td>stat107</td>\n",
       "      <td>A</td>\n",
       "      <td>197</td>\n",
       "    </tr>\n",
       "    <tr>\n",
       "      <th>3</th>\n",
       "      <td>stat207</td>\n",
       "      <td>A</td>\n",
       "      <td>53</td>\n",
       "    </tr>\n",
       "  </tbody>\n",
       "</table>\n",
       "</div>"
      ],
      "text/plain": [
       "    course section  enrolled\n",
       "7   adv307       A        37\n",
       "4  badm210       A       215\n",
       "6  badm210       B       178\n",
       "5  badm210       C       197\n",
       "1    cs105       A       201\n",
       "0    cs105       B       345\n",
       "2  stat107       A       197\n",
       "3  stat207       A        53"
      ]
     },
     "execution_count": 12,
     "metadata": {},
     "output_type": "execute_result"
    }
   ],
   "source": [
    "sectdf"
   ]
  },
  {
   "cell_type": "markdown",
   "metadata": {},
   "source": [
    "### Random sampling with and without replacement\n",
    "\n",
    "The Pandas **DataFrame.sample( )** function provides a way to randomly sample from the rows of the data frame. Two major types of sample are:\n",
    "\n",
    "+ **Without replacement** (replace=False) - items pulled from the data frame can only be seleted once in a given sample, currently the default setting for DataFrame.sample(); Random sampling without replacement is typical in surveys from large populations where we desire a manageable representative sample. \n",
    "\n",
    "+ **With replacement** (replace=True) - items remain in the pool after being selected and therefore can be selected multiple times. Random sampling with replacement is often used as a way to think about long run relative frequencies of events repeating an experiment under the same conditions.\n",
    "\n",
    "For further information about other DataFrame.sample options, see [pandas.DataFrame.sample documentation](https://pandas.pydata.org/pandas-docs/stable/reference/api/pandas.DataFrame.sample.html). \n",
    "\n",
    "For reproducibility, DataFrame.sample has an option to set the random seed (e.g. random_state=12347) so that the random generator produces the same result each time it is run in the document.\n",
    "\n",
    "Here we randomly sample 2 rows without replacement. We can run this multiple times and see that we get a different sample of 2 items each time."
   ]
  },
  {
   "cell_type": "code",
   "execution_count": 5,
   "metadata": {},
   "outputs": [
    {
     "data": {
      "text/html": [
       "<div>\n",
       "<style scoped>\n",
       "    .dataframe tbody tr th:only-of-type {\n",
       "        vertical-align: middle;\n",
       "    }\n",
       "\n",
       "    .dataframe tbody tr th {\n",
       "        vertical-align: top;\n",
       "    }\n",
       "\n",
       "    .dataframe thead th {\n",
       "        text-align: right;\n",
       "    }\n",
       "</style>\n",
       "<table border=\"1\" class=\"dataframe\">\n",
       "  <thead>\n",
       "    <tr style=\"text-align: right;\">\n",
       "      <th></th>\n",
       "      <th>course</th>\n",
       "      <th>section</th>\n",
       "      <th>enrolled</th>\n",
       "    </tr>\n",
       "  </thead>\n",
       "  <tbody>\n",
       "    <tr>\n",
       "      <th>2</th>\n",
       "      <td>stat107</td>\n",
       "      <td>A</td>\n",
       "      <td>197</td>\n",
       "    </tr>\n",
       "    <tr>\n",
       "      <th>1</th>\n",
       "      <td>cs105</td>\n",
       "      <td>A</td>\n",
       "      <td>201</td>\n",
       "    </tr>\n",
       "  </tbody>\n",
       "</table>\n",
       "</div>"
      ],
      "text/plain": [
       "    course section  enrolled\n",
       "2  stat107       A       197\n",
       "1    cs105       A       201"
      ]
     },
     "execution_count": 5,
     "metadata": {},
     "output_type": "execute_result"
    }
   ],
   "source": [
    "sectdf.sample(2)"
   ]
  },
  {
   "cell_type": "code",
   "execution_count": 6,
   "metadata": {},
   "outputs": [
    {
     "data": {
      "text/html": [
       "<div>\n",
       "<style scoped>\n",
       "    .dataframe tbody tr th:only-of-type {\n",
       "        vertical-align: middle;\n",
       "    }\n",
       "\n",
       "    .dataframe tbody tr th {\n",
       "        vertical-align: top;\n",
       "    }\n",
       "\n",
       "    .dataframe thead th {\n",
       "        text-align: right;\n",
       "    }\n",
       "</style>\n",
       "<table border=\"1\" class=\"dataframe\">\n",
       "  <thead>\n",
       "    <tr style=\"text-align: right;\">\n",
       "      <th></th>\n",
       "      <th>course</th>\n",
       "      <th>section</th>\n",
       "      <th>enrolled</th>\n",
       "    </tr>\n",
       "  </thead>\n",
       "  <tbody>\n",
       "    <tr>\n",
       "      <th>0</th>\n",
       "      <td>cs105</td>\n",
       "      <td>B</td>\n",
       "      <td>345</td>\n",
       "    </tr>\n",
       "    <tr>\n",
       "      <th>2</th>\n",
       "      <td>stat107</td>\n",
       "      <td>A</td>\n",
       "      <td>197</td>\n",
       "    </tr>\n",
       "  </tbody>\n",
       "</table>\n",
       "</div>"
      ],
      "text/plain": [
       "    course section  enrolled\n",
       "0    cs105       B       345\n",
       "2  stat107       A       197"
      ]
     },
     "execution_count": 6,
     "metadata": {},
     "output_type": "execute_result"
    }
   ],
   "source": [
    "sectdf.sample(2)"
   ]
  },
  {
   "cell_type": "code",
   "execution_count": 7,
   "metadata": {},
   "outputs": [
    {
     "data": {
      "text/html": [
       "<div>\n",
       "<style scoped>\n",
       "    .dataframe tbody tr th:only-of-type {\n",
       "        vertical-align: middle;\n",
       "    }\n",
       "\n",
       "    .dataframe tbody tr th {\n",
       "        vertical-align: top;\n",
       "    }\n",
       "\n",
       "    .dataframe thead th {\n",
       "        text-align: right;\n",
       "    }\n",
       "</style>\n",
       "<table border=\"1\" class=\"dataframe\">\n",
       "  <thead>\n",
       "    <tr style=\"text-align: right;\">\n",
       "      <th></th>\n",
       "      <th>course</th>\n",
       "      <th>section</th>\n",
       "      <th>enrolled</th>\n",
       "    </tr>\n",
       "  </thead>\n",
       "  <tbody>\n",
       "    <tr>\n",
       "      <th>5</th>\n",
       "      <td>badm210</td>\n",
       "      <td>C</td>\n",
       "      <td>197</td>\n",
       "    </tr>\n",
       "    <tr>\n",
       "      <th>3</th>\n",
       "      <td>stat207</td>\n",
       "      <td>A</td>\n",
       "      <td>53</td>\n",
       "    </tr>\n",
       "  </tbody>\n",
       "</table>\n",
       "</div>"
      ],
      "text/plain": [
       "    course section  enrolled\n",
       "5  badm210       C       197\n",
       "3  stat207       A        53"
      ]
     },
     "execution_count": 7,
     "metadata": {},
     "output_type": "execute_result"
    }
   ],
   "source": [
    "sectdf.sample(2)"
   ]
  },
  {
   "cell_type": "markdown",
   "metadata": {},
   "source": [
    "What if we try to randomly sample 10 without replacement? We'll get an error message because there aren't that many rows."
   ]
  },
  {
   "cell_type": "code",
   "execution_count": 8,
   "metadata": {},
   "outputs": [],
   "source": [
    "# sectdf.sample(10)"
   ]
  },
  {
   "cell_type": "markdown",
   "metadata": {},
   "source": [
    "Here we sample 10 rows **with replacement**:"
   ]
  },
  {
   "cell_type": "code",
   "execution_count": 9,
   "metadata": {},
   "outputs": [
    {
     "data": {
      "text/html": [
       "<div>\n",
       "<style scoped>\n",
       "    .dataframe tbody tr th:only-of-type {\n",
       "        vertical-align: middle;\n",
       "    }\n",
       "\n",
       "    .dataframe tbody tr th {\n",
       "        vertical-align: top;\n",
       "    }\n",
       "\n",
       "    .dataframe thead th {\n",
       "        text-align: right;\n",
       "    }\n",
       "</style>\n",
       "<table border=\"1\" class=\"dataframe\">\n",
       "  <thead>\n",
       "    <tr style=\"text-align: right;\">\n",
       "      <th></th>\n",
       "      <th>course</th>\n",
       "      <th>section</th>\n",
       "      <th>enrolled</th>\n",
       "    </tr>\n",
       "  </thead>\n",
       "  <tbody>\n",
       "    <tr>\n",
       "      <th>3</th>\n",
       "      <td>stat207</td>\n",
       "      <td>A</td>\n",
       "      <td>53</td>\n",
       "    </tr>\n",
       "    <tr>\n",
       "      <th>0</th>\n",
       "      <td>cs105</td>\n",
       "      <td>B</td>\n",
       "      <td>345</td>\n",
       "    </tr>\n",
       "    <tr>\n",
       "      <th>0</th>\n",
       "      <td>cs105</td>\n",
       "      <td>B</td>\n",
       "      <td>345</td>\n",
       "    </tr>\n",
       "    <tr>\n",
       "      <th>5</th>\n",
       "      <td>badm210</td>\n",
       "      <td>C</td>\n",
       "      <td>197</td>\n",
       "    </tr>\n",
       "    <tr>\n",
       "      <th>4</th>\n",
       "      <td>badm210</td>\n",
       "      <td>A</td>\n",
       "      <td>215</td>\n",
       "    </tr>\n",
       "    <tr>\n",
       "      <th>2</th>\n",
       "      <td>stat107</td>\n",
       "      <td>A</td>\n",
       "      <td>197</td>\n",
       "    </tr>\n",
       "    <tr>\n",
       "      <th>1</th>\n",
       "      <td>cs105</td>\n",
       "      <td>A</td>\n",
       "      <td>201</td>\n",
       "    </tr>\n",
       "    <tr>\n",
       "      <th>7</th>\n",
       "      <td>adv307</td>\n",
       "      <td>A</td>\n",
       "      <td>37</td>\n",
       "    </tr>\n",
       "    <tr>\n",
       "      <th>2</th>\n",
       "      <td>stat107</td>\n",
       "      <td>A</td>\n",
       "      <td>197</td>\n",
       "    </tr>\n",
       "    <tr>\n",
       "      <th>4</th>\n",
       "      <td>badm210</td>\n",
       "      <td>A</td>\n",
       "      <td>215</td>\n",
       "    </tr>\n",
       "  </tbody>\n",
       "</table>\n",
       "</div>"
      ],
      "text/plain": [
       "    course section  enrolled\n",
       "3  stat207       A        53\n",
       "0    cs105       B       345\n",
       "0    cs105       B       345\n",
       "5  badm210       C       197\n",
       "4  badm210       A       215\n",
       "2  stat107       A       197\n",
       "1    cs105       A       201\n",
       "7   adv307       A        37\n",
       "2  stat107       A       197\n",
       "4  badm210       A       215"
      ]
     },
     "execution_count": 9,
     "metadata": {},
     "output_type": "execute_result"
    }
   ],
   "source": [
    "sectdf.sample(10, replace=True)"
   ]
  },
  {
   "cell_type": "markdown",
   "metadata": {},
   "source": [
    "Let's go wild and select 1000 rows with replacement! Instead of showing them we'll load them into a new data frame."
   ]
  },
  {
   "cell_type": "code",
   "execution_count": 10,
   "metadata": {},
   "outputs": [
    {
     "data": {
      "text/html": [
       "<div>\n",
       "<style scoped>\n",
       "    .dataframe tbody tr th:only-of-type {\n",
       "        vertical-align: middle;\n",
       "    }\n",
       "\n",
       "    .dataframe tbody tr th {\n",
       "        vertical-align: top;\n",
       "    }\n",
       "\n",
       "    .dataframe thead th {\n",
       "        text-align: right;\n",
       "    }\n",
       "</style>\n",
       "<table border=\"1\" class=\"dataframe\">\n",
       "  <thead>\n",
       "    <tr style=\"text-align: right;\">\n",
       "      <th></th>\n",
       "      <th>course</th>\n",
       "      <th>section</th>\n",
       "      <th>enrolled</th>\n",
       "    </tr>\n",
       "  </thead>\n",
       "  <tbody>\n",
       "    <tr>\n",
       "      <th>7</th>\n",
       "      <td>adv307</td>\n",
       "      <td>A</td>\n",
       "      <td>37</td>\n",
       "    </tr>\n",
       "    <tr>\n",
       "      <th>3</th>\n",
       "      <td>stat207</td>\n",
       "      <td>A</td>\n",
       "      <td>53</td>\n",
       "    </tr>\n",
       "    <tr>\n",
       "      <th>2</th>\n",
       "      <td>stat107</td>\n",
       "      <td>A</td>\n",
       "      <td>197</td>\n",
       "    </tr>\n",
       "    <tr>\n",
       "      <th>2</th>\n",
       "      <td>stat107</td>\n",
       "      <td>A</td>\n",
       "      <td>197</td>\n",
       "    </tr>\n",
       "    <tr>\n",
       "      <th>1</th>\n",
       "      <td>cs105</td>\n",
       "      <td>A</td>\n",
       "      <td>201</td>\n",
       "    </tr>\n",
       "    <tr>\n",
       "      <th>...</th>\n",
       "      <td>...</td>\n",
       "      <td>...</td>\n",
       "      <td>...</td>\n",
       "    </tr>\n",
       "    <tr>\n",
       "      <th>2</th>\n",
       "      <td>stat107</td>\n",
       "      <td>A</td>\n",
       "      <td>197</td>\n",
       "    </tr>\n",
       "    <tr>\n",
       "      <th>3</th>\n",
       "      <td>stat207</td>\n",
       "      <td>A</td>\n",
       "      <td>53</td>\n",
       "    </tr>\n",
       "    <tr>\n",
       "      <th>7</th>\n",
       "      <td>adv307</td>\n",
       "      <td>A</td>\n",
       "      <td>37</td>\n",
       "    </tr>\n",
       "    <tr>\n",
       "      <th>5</th>\n",
       "      <td>badm210</td>\n",
       "      <td>C</td>\n",
       "      <td>197</td>\n",
       "    </tr>\n",
       "    <tr>\n",
       "      <th>3</th>\n",
       "      <td>stat207</td>\n",
       "      <td>A</td>\n",
       "      <td>53</td>\n",
       "    </tr>\n",
       "  </tbody>\n",
       "</table>\n",
       "<p>1000 rows × 3 columns</p>\n",
       "</div>"
      ],
      "text/plain": [
       "     course section  enrolled\n",
       "7    adv307       A        37\n",
       "3   stat207       A        53\n",
       "2   stat107       A       197\n",
       "2   stat107       A       197\n",
       "1     cs105       A       201\n",
       "..      ...     ...       ...\n",
       "2   stat107       A       197\n",
       "3   stat207       A        53\n",
       "7    adv307       A        37\n",
       "5   badm210       C       197\n",
       "3   stat207       A        53\n",
       "\n",
       "[1000 rows x 3 columns]"
      ]
     },
     "execution_count": 10,
     "metadata": {},
     "output_type": "execute_result"
    }
   ],
   "source": [
    "#Run this multiple times, why is the dataframe the same everytime?\n",
    "bigsample = sectdf.sample(1000, replace=True, random_state=12347)  # save the seed for reproducibility.\n",
    "bigsample"
   ]
  },
  {
   "cell_type": "code",
   "execution_count": 11,
   "metadata": {},
   "outputs": [
    {
     "data": {
      "text/plain": [
       "(1000, 3)"
      ]
     },
     "execution_count": 11,
     "metadata": {},
     "output_type": "execute_result"
    }
   ],
   "source": [
    "bigsample.shape"
   ]
  },
  {
   "cell_type": "code",
   "execution_count": 12,
   "metadata": {},
   "outputs": [
    {
     "data": {
      "text/html": [
       "<div>\n",
       "<style scoped>\n",
       "    .dataframe tbody tr th:only-of-type {\n",
       "        vertical-align: middle;\n",
       "    }\n",
       "\n",
       "    .dataframe tbody tr th {\n",
       "        vertical-align: top;\n",
       "    }\n",
       "\n",
       "    .dataframe thead th {\n",
       "        text-align: right;\n",
       "    }\n",
       "</style>\n",
       "<table border=\"1\" class=\"dataframe\">\n",
       "  <thead>\n",
       "    <tr style=\"text-align: right;\">\n",
       "      <th></th>\n",
       "      <th>course</th>\n",
       "      <th>section</th>\n",
       "      <th>enrolled</th>\n",
       "    </tr>\n",
       "  </thead>\n",
       "  <tbody>\n",
       "    <tr>\n",
       "      <th>7</th>\n",
       "      <td>adv307</td>\n",
       "      <td>A</td>\n",
       "      <td>37</td>\n",
       "    </tr>\n",
       "    <tr>\n",
       "      <th>3</th>\n",
       "      <td>stat207</td>\n",
       "      <td>A</td>\n",
       "      <td>53</td>\n",
       "    </tr>\n",
       "    <tr>\n",
       "      <th>2</th>\n",
       "      <td>stat107</td>\n",
       "      <td>A</td>\n",
       "      <td>197</td>\n",
       "    </tr>\n",
       "    <tr>\n",
       "      <th>2</th>\n",
       "      <td>stat107</td>\n",
       "      <td>A</td>\n",
       "      <td>197</td>\n",
       "    </tr>\n",
       "    <tr>\n",
       "      <th>1</th>\n",
       "      <td>cs105</td>\n",
       "      <td>A</td>\n",
       "      <td>201</td>\n",
       "    </tr>\n",
       "  </tbody>\n",
       "</table>\n",
       "</div>"
      ],
      "text/plain": [
       "    course section  enrolled\n",
       "7   adv307       A        37\n",
       "3  stat207       A        53\n",
       "2  stat107       A       197\n",
       "2  stat107       A       197\n",
       "1    cs105       A       201"
      ]
     },
     "execution_count": 12,
     "metadata": {},
     "output_type": "execute_result"
    }
   ],
   "source": [
    "bigsample.head()"
   ]
  },
  {
   "cell_type": "markdown",
   "metadata": {},
   "source": [
    "In this big sample we can ask: How many times were each of the courses selected? Recall the .values_counts() function."
   ]
  },
  {
   "cell_type": "code",
   "execution_count": 13,
   "metadata": {},
   "outputs": [
    {
     "data": {
      "text/plain": [
       "badm210    365\n",
       "cs105      245\n",
       "stat207    134\n",
       "adv307     131\n",
       "stat107    125\n",
       "Name: course, dtype: int64"
      ]
     },
     "execution_count": 13,
     "metadata": {},
     "output_type": "execute_result"
    }
   ],
   "source": [
    "bigsample[\"course\"].value_counts()"
   ]
  },
  {
   "cell_type": "markdown",
   "metadata": {},
   "source": [
    "To understand the relative frequencies better, let's normalize by n=1000."
   ]
  },
  {
   "cell_type": "code",
   "execution_count": 14,
   "metadata": {},
   "outputs": [
    {
     "data": {
      "text/plain": [
       "'Sample Proportions'"
      ]
     },
     "metadata": {},
     "output_type": "display_data"
    },
    {
     "data": {
      "text/plain": [
       "adv307     0.131\n",
       "badm210    0.365\n",
       "cs105      0.245\n",
       "stat107    0.125\n",
       "stat207    0.134\n",
       "Name: course, dtype: float64"
      ]
     },
     "metadata": {},
     "output_type": "display_data"
    }
   ],
   "source": [
    "SampleProportions = bigsample[\"course\"].value_counts()/1000\n",
    "SampleProportions.sort_index(inplace=True)   # sort by the index instead of the values\n",
    "display('Sample Proportions', SampleProportions)"
   ]
  },
  {
   "cell_type": "markdown",
   "metadata": {},
   "source": [
    "We also want to know how many times was each index (0-7) in the original dataframe was selected (ie. each row of the dataframe).\n",
    "\n"
   ]
  },
  {
   "cell_type": "code",
   "execution_count": 15,
   "metadata": {},
   "outputs": [
    {
     "data": {
      "text/plain": [
       "'Sample Proportions'"
      ]
     },
     "metadata": {},
     "output_type": "display_data"
    },
    {
     "data": {
      "text/plain": [
       "0    0.124\n",
       "1    0.121\n",
       "2    0.125\n",
       "3    0.134\n",
       "4    0.112\n",
       "5    0.126\n",
       "6    0.127\n",
       "7    0.131\n",
       "dtype: float64"
      ]
     },
     "metadata": {},
     "output_type": "display_data"
    }
   ],
   "source": [
    "SampleProportions = bigsample.index.value_counts()/1000\n",
    "SampleProportions.sort_index(inplace=True)   # sort by the index instead of the values\n",
    "display('Sample Proportions', SampleProportions)"
   ]
  },
  {
   "cell_type": "markdown",
   "metadata": {},
   "source": [
    "### Towards Probability: Long Run Relative Frequencies\n",
    "\n",
    "Let's go really wild and sample with replacement **a million times**! We'll code in the sample size so we only have to change one number (n) to modify the experiment."
   ]
  },
  {
   "cell_type": "code",
   "execution_count": 16,
   "metadata": {},
   "outputs": [
    {
     "name": "stdout",
     "output_type": "stream",
     "text": [
      "n= 1000000\n",
      "Sample Proportions:\n",
      "------------------\n",
      "adv307     0.125076\n",
      "badm210    0.374969\n",
      "cs105      0.249760\n",
      "stat107    0.125526\n",
      "stat207    0.124669\n",
      "Name: course, dtype: float64\n"
     ]
    }
   ],
   "source": [
    "n = 1000000\n",
    "\n",
    "SampleProportions = sectdf.sample(n, replace=True, random_state=12347)['course'].value_counts()/n \n",
    "SampleProportions.sort_index(inplace=True) \n",
    "print('n=', n)\n",
    "print('Sample Proportions:')\n",
    "print('------------------')\n",
    "print(SampleProportions)"
   ]
  },
  {
   "cell_type": "markdown",
   "metadata": {},
   "source": [
    "It is enlightening to compare these \"big sample\" proportions with the corresponding proportions in the original data frame."
   ]
  },
  {
   "cell_type": "code",
   "execution_count": 17,
   "metadata": {},
   "outputs": [
    {
     "name": "stdout",
     "output_type": "stream",
     "text": [
      "Proportions in the Original Data Frame:\n",
      "---------------------------------------\n",
      "adv307     0.125\n",
      "badm210    0.375\n",
      "cs105      0.250\n",
      "stat107    0.125\n",
      "stat207    0.125\n",
      "Name: course, dtype: float64\n"
     ]
    }
   ],
   "source": [
    "Proportions = sectdf['course'].value_counts()/sectdf['course'].size\n",
    "Proportions.sort_index(inplace=True)\n",
    "print('Proportions in the Original Data Frame:')\n",
    "print('---------------------------------------')\n",
    "print(Proportions)"
   ]
  },
  {
   "cell_type": "markdown",
   "metadata": {},
   "source": [
    "### Law of large numbers: \n",
    "\n",
    "To 3 significant digits the proportions are the same! This is an example of what is often called the **law of large numbers** in probability: if we **randomly sample with replacement n times** under the same conditions, then the proportion of times a particular outcome occurs gets closer and closer to the **probability** of that outcome (as n gets larger and larger)."
   ]
  },
  {
   "cell_type": "markdown",
   "metadata": {},
   "source": [
    "### Uniform probability distributions\n",
    "\n",
    "In the original data frame from which we sampled there were 8 rows each of which had the same chance of being selected. In this case we say that the row probabilities are all the same, and thus **uniform.**\n",
    "\n",
    "If we select one row at random, this implies that each row has a 1/8 = 0.125 chance of being selected. \n",
    "\n",
    "**Uniform probability rule:** If we make a random draw from a set of $n$ possible choices, and each choice has *the same probability of selection*, then each outcome has probability $1\\over n$ of occurring."
   ]
  },
  {
   "cell_type": "markdown",
   "metadata": {},
   "source": [
    "Notice that, in our example, the course selections themselves are *not* uniformly distributed because they appear in different numbers of rows. Instead their probabilities are given by the proportions of times they appear in the original data frame. Courses that appear only once in the list have probability 1/8 of being selected. Courses that appear more than once have higher probabilities of selection. This observation leads to our second rule about uniform probability distributions.\n",
    "\n",
    "**Rule for calculating event probabilities from uniform probability distributions:**\n",
    "If an event of interest includes $k$ of the $n$ possible choices in a random draw from a set, then the probability of the event is $k\\over n$. \n",
    "\n",
    "**Example 1.** What is the probability of selecting a \"stat\" course if we choose one row at random from the following data frame?\n"
   ]
  },
  {
   "cell_type": "code",
   "execution_count": 18,
   "metadata": {},
   "outputs": [
    {
     "data": {
      "text/html": [
       "<div>\n",
       "<style scoped>\n",
       "    .dataframe tbody tr th:only-of-type {\n",
       "        vertical-align: middle;\n",
       "    }\n",
       "\n",
       "    .dataframe tbody tr th {\n",
       "        vertical-align: top;\n",
       "    }\n",
       "\n",
       "    .dataframe thead th {\n",
       "        text-align: right;\n",
       "    }\n",
       "</style>\n",
       "<table border=\"1\" class=\"dataframe\">\n",
       "  <thead>\n",
       "    <tr style=\"text-align: right;\">\n",
       "      <th></th>\n",
       "      <th>course</th>\n",
       "      <th>section</th>\n",
       "      <th>enrolled</th>\n",
       "    </tr>\n",
       "  </thead>\n",
       "  <tbody>\n",
       "    <tr>\n",
       "      <th>7</th>\n",
       "      <td>adv307</td>\n",
       "      <td>A</td>\n",
       "      <td>37</td>\n",
       "    </tr>\n",
       "    <tr>\n",
       "      <th>4</th>\n",
       "      <td>badm210</td>\n",
       "      <td>A</td>\n",
       "      <td>215</td>\n",
       "    </tr>\n",
       "    <tr>\n",
       "      <th>6</th>\n",
       "      <td>badm210</td>\n",
       "      <td>B</td>\n",
       "      <td>178</td>\n",
       "    </tr>\n",
       "    <tr>\n",
       "      <th>5</th>\n",
       "      <td>badm210</td>\n",
       "      <td>C</td>\n",
       "      <td>197</td>\n",
       "    </tr>\n",
       "    <tr>\n",
       "      <th>1</th>\n",
       "      <td>cs105</td>\n",
       "      <td>A</td>\n",
       "      <td>201</td>\n",
       "    </tr>\n",
       "    <tr>\n",
       "      <th>0</th>\n",
       "      <td>cs105</td>\n",
       "      <td>B</td>\n",
       "      <td>345</td>\n",
       "    </tr>\n",
       "    <tr>\n",
       "      <th>2</th>\n",
       "      <td>stat107</td>\n",
       "      <td>A</td>\n",
       "      <td>197</td>\n",
       "    </tr>\n",
       "    <tr>\n",
       "      <th>3</th>\n",
       "      <td>stat207</td>\n",
       "      <td>A</td>\n",
       "      <td>53</td>\n",
       "    </tr>\n",
       "  </tbody>\n",
       "</table>\n",
       "</div>"
      ],
      "text/plain": [
       "    course section  enrolled\n",
       "7   adv307       A        37\n",
       "4  badm210       A       215\n",
       "6  badm210       B       178\n",
       "5  badm210       C       197\n",
       "1    cs105       A       201\n",
       "0    cs105       B       345\n",
       "2  stat107       A       197\n",
       "3  stat207       A        53"
      ]
     },
     "execution_count": 18,
     "metadata": {},
     "output_type": "execute_result"
    }
   ],
   "source": [
    "sectdf"
   ]
  },
  {
   "cell_type": "markdown",
   "metadata": {},
   "source": [
    "We see that there are 8 rows, and 2 of them correspond to \"stat\" courses. So the probability = $2/8$ "
   ]
  },
  {
   "cell_type": "markdown",
   "metadata": {},
   "source": [
    "**Example 2.** if we randomly select a course from this list, what is the probability that the course enrollment is more than 200 students?  It might be helpful to sort by enrollment."
   ]
  },
  {
   "cell_type": "code",
   "execution_count": 19,
   "metadata": {},
   "outputs": [
    {
     "data": {
      "text/html": [
       "<div>\n",
       "<style scoped>\n",
       "    .dataframe tbody tr th:only-of-type {\n",
       "        vertical-align: middle;\n",
       "    }\n",
       "\n",
       "    .dataframe tbody tr th {\n",
       "        vertical-align: top;\n",
       "    }\n",
       "\n",
       "    .dataframe thead th {\n",
       "        text-align: right;\n",
       "    }\n",
       "</style>\n",
       "<table border=\"1\" class=\"dataframe\">\n",
       "  <thead>\n",
       "    <tr style=\"text-align: right;\">\n",
       "      <th></th>\n",
       "      <th>course</th>\n",
       "      <th>section</th>\n",
       "      <th>enrolled</th>\n",
       "    </tr>\n",
       "  </thead>\n",
       "  <tbody>\n",
       "    <tr>\n",
       "      <th>0</th>\n",
       "      <td>cs105</td>\n",
       "      <td>B</td>\n",
       "      <td>345</td>\n",
       "    </tr>\n",
       "    <tr>\n",
       "      <th>4</th>\n",
       "      <td>badm210</td>\n",
       "      <td>A</td>\n",
       "      <td>215</td>\n",
       "    </tr>\n",
       "    <tr>\n",
       "      <th>1</th>\n",
       "      <td>cs105</td>\n",
       "      <td>A</td>\n",
       "      <td>201</td>\n",
       "    </tr>\n",
       "    <tr>\n",
       "      <th>5</th>\n",
       "      <td>badm210</td>\n",
       "      <td>C</td>\n",
       "      <td>197</td>\n",
       "    </tr>\n",
       "    <tr>\n",
       "      <th>2</th>\n",
       "      <td>stat107</td>\n",
       "      <td>A</td>\n",
       "      <td>197</td>\n",
       "    </tr>\n",
       "    <tr>\n",
       "      <th>6</th>\n",
       "      <td>badm210</td>\n",
       "      <td>B</td>\n",
       "      <td>178</td>\n",
       "    </tr>\n",
       "    <tr>\n",
       "      <th>3</th>\n",
       "      <td>stat207</td>\n",
       "      <td>A</td>\n",
       "      <td>53</td>\n",
       "    </tr>\n",
       "    <tr>\n",
       "      <th>7</th>\n",
       "      <td>adv307</td>\n",
       "      <td>A</td>\n",
       "      <td>37</td>\n",
       "    </tr>\n",
       "  </tbody>\n",
       "</table>\n",
       "</div>"
      ],
      "text/plain": [
       "    course section  enrolled\n",
       "0    cs105       B       345\n",
       "4  badm210       A       215\n",
       "1    cs105       A       201\n",
       "5  badm210       C       197\n",
       "2  stat107       A       197\n",
       "6  badm210       B       178\n",
       "3  stat207       A        53\n",
       "7   adv307       A        37"
      ]
     },
     "execution_count": 19,
     "metadata": {},
     "output_type": "execute_result"
    }
   ],
   "source": [
    "sectdf.sort_values(by='enrolled', ascending=False)"
   ]
  },
  {
   "cell_type": "markdown",
   "metadata": {},
   "source": [
    "Pr(Enrolled > 200) = $3/8$ "
   ]
  },
  {
   "cell_type": "markdown",
   "metadata": {},
   "source": [
    "### Multiple draws: select two rows at random\n",
    "\n",
    "It gets a bit more complicated when we think about events involving multiple draws. As an example, let's consider the probability of selecting two 'stat' courses. A useful way to think about this is to first imagine how many possible 2-row draws there are. These should all be equally likely. Then we need to determine how many of them consist of two 'stat' courses.\n",
    "\n",
    "**With replacement:** This case is easier. There are 8 possible choices for each draw, and the first draw has no effect on the second draw. Therefore there are 8 x 8 = 64 possible samples of two course sections. In order to get two stat courses we have to select stat courses both times, and we have 2 different stat courses available, so there are 2 x 2 = 4 ways to select them. By the uniform probability rule, the probability of getting two stat courses is $4\\over 64$ = $1\\over 16$ = 0.0625.\n",
    "\n",
    "**Without replacement:** if we select two course sections at random without replacement, then we have:\n",
    "+ 8 possible choices for the first row selected\n",
    "+ 7 possible choices for the second row selected\n",
    "Thus 8 x 7 = 56 possible (first row, second row) selections.\n",
    "\n",
    "BUT, it is the same sample (course schedule) if we select cs105A first and badm210C second as if we selected badm210C first and cs105A second. So the total number of *samples of size two* is 8 x 7 / 2 = 28.\n",
    "\n",
    "Out of these, how many consist of two stat courses? we have 2 choices for the first draw, 1 choice for the second draw, so 2 possible ordered draws. But the two order samples give us the same set, {stat107A, stat207A}, so there is only one possible set like this. Thus the probability of picking two stat clases is $1\\over 28$ $\\approx$ 0.0357 .\n"
   ]
  },
  {
   "cell_type": "code",
   "execution_count": 20,
   "metadata": {},
   "outputs": [
    {
     "data": {
      "text/plain": [
       "2    stat107\n",
       "3    stat207\n",
       "Name: course, dtype: object"
      ]
     },
     "execution_count": 20,
     "metadata": {},
     "output_type": "execute_result"
    }
   ],
   "source": [
    "my_sample = sectdf.sample(2).sort_values(by='course')['course']\n",
    "my_sample"
   ]
  },
  {
   "cell_type": "code",
   "execution_count": 21,
   "metadata": {},
   "outputs": [
    {
     "data": {
      "text/plain": [
       "2    True\n",
       "3    True\n",
       "Name: course, dtype: bool"
      ]
     },
     "execution_count": 21,
     "metadata": {},
     "output_type": "execute_result"
    }
   ],
   "source": [
    "#Does the sorted sample equal the two statistics classes we're looking for in both positions?\n",
    "my_sample == ['stat107', 'stat207']"
   ]
  },
  {
   "cell_type": "code",
   "execution_count": 22,
   "metadata": {},
   "outputs": [
    {
     "data": {
      "text/plain": [
       "True"
      ]
     },
     "execution_count": 22,
     "metadata": {},
     "output_type": "execute_result"
    }
   ],
   "source": [
    "#Is every entry in a True?\n",
    "all(my_sample == ['stat107', 'stat207'])"
   ]
  },
  {
   "cell_type": "code",
   "execution_count": 23,
   "metadata": {},
   "outputs": [
    {
     "name": "stdout",
     "output_type": "stream",
     "text": [
      "Probability estimate based on  100 iterations: 0.01\n"
     ]
    }
   ],
   "source": [
    "# Without replacement\n",
    "\n",
    "both_stat = 0\n",
    "n_iterations = 100\n",
    "\n",
    "for i in range(n_iterations):\n",
    "    my_sample = sectdf.sample(2).sort_values(by='course')['course']\n",
    "    both_stat += all(my_sample == ['stat107', 'stat207'])\n",
    "    \n",
    "print('Probability estimate based on ', n_iterations, 'iterations:', both_stat/n_iterations)"
   ]
  },
  {
   "cell_type": "code",
   "execution_count": 24,
   "metadata": {},
   "outputs": [
    {
     "name": "stdout",
     "output_type": "stream",
     "text": [
      "Probability estimate based on  1000 iterations: 0.042\n"
     ]
    }
   ],
   "source": [
    "# Without replacement\n",
    "\n",
    "both_stat = 0\n",
    "n_iterations = 1000\n",
    "\n",
    "for i in range(n_iterations):\n",
    "    my_sample = sectdf.sample(2).sort_values(by='course')['course']\n",
    "    both_stat += all(my_sample == ['stat107', 'stat207'])\n",
    "    \n",
    "print('Probability estimate based on ', n_iterations, 'iterations:', both_stat/n_iterations)"
   ]
  },
  {
   "cell_type": "code",
   "execution_count": 25,
   "metadata": {},
   "outputs": [
    {
     "name": "stdout",
     "output_type": "stream",
     "text": [
      "Probability estimate based on  10000 iterations: 0.0372\n"
     ]
    }
   ],
   "source": [
    "# Without replacement\n",
    "\n",
    "both_stat = 0\n",
    "n_iterations = 10000\n",
    "\n",
    "for i in range(n_iterations):\n",
    "    my_sample = sectdf.sample(2).sort_values(by='course')['course']\n",
    "    both_stat += all(my_sample == ['stat107', 'stat207'])\n",
    "    \n",
    "print('Probability estimate based on ', n_iterations, 'iterations:', both_stat/n_iterations)"
   ]
  },
  {
   "cell_type": "code",
   "execution_count": 26,
   "metadata": {},
   "outputs": [
    {
     "name": "stdout",
     "output_type": "stream",
     "text": [
      "Probability estimate based on  10000 iterations: 0.063\n"
     ]
    }
   ],
   "source": [
    "## With replacement\n",
    "\n",
    "both_stat = 0\n",
    "n_iterations = 10000\n",
    "\n",
    "for i in range(n_iterations):\n",
    "    my_sample = sectdf.sample(2, replace=True).sort_values(by='course')['course']\n",
    "    \n",
    "    both_stat += all(my_sample == ['stat107', 'stat207']) \n",
    "    both_stat += all(my_sample == ['stat107', 'stat107'])\n",
    "    both_stat += all(my_sample == ['stat207', 'stat207'])\n",
    "    \n",
    "    \n",
    "print('Probability estimate based on ', n_iterations, 'iterations:', both_stat/n_iterations)"
   ]
  },
  {
   "cell_type": "markdown",
   "metadata": {},
   "source": [
    "**Remarks on the syntax:**\n",
    "\n",
    "- The operation \"+=\" is new here. It allows adding to an existing sum efficiently within a loop. In the example, \n",
    "\n",
    "        \"both_stat += ...\"   is equivalent to  \"both_stat = both_stat + ...\"\n",
    "\n",
    "\n",
    "- The function \"all()\" is also new. It takes the value True if all elements are True and False if any element is False. It is an implementation of the boolean \"and\" operator for multiple boolean elements.\n",
    "\n",
    "\n",
    "- The for-loop is an important flow control operation that we will cover in the next chapter. Here we see it in action as a way to automate the simulatoin process, which would otherwise be extremely laborious."
   ]
  },
  {
   "attachments": {
    "image.png": {
     "image/png": "[encoded data removed]"
    }
   },
   "cell_type": "markdown",
   "metadata": {},
   "source": [
    "### Multiple draws application: sampling poker hands\n",
    "\n",
    "![image.png](attachment:image.png)\n",
    "\n",
    "(Image source: https://www.oddsshark.com/)"
   ]
  },
  {
   "cell_type": "markdown",
   "metadata": {},
   "source": [
    "Let's create a data frame of the 52 playing cards in a standard deck. It will be handy to use the pandas.Series.repeat function to build the data frame. We'll describe a card by it's color, suit and face value. "
   ]
  },
  {
   "cell_type": "code",
   "execution_count": 27,
   "metadata": {},
   "outputs": [
    {
     "data": {
      "text/plain": [
       "0    black\n",
       "0    black\n",
       "0    black\n",
       "0    black\n",
       "0    black\n",
       "0    black\n",
       "0    black\n",
       "0    black\n",
       "0    black\n",
       "0    black\n",
       "0    black\n",
       "0    black\n",
       "0    black\n",
       "0    black\n",
       "0    black\n",
       "0    black\n",
       "0    black\n",
       "0    black\n",
       "0    black\n",
       "0    black\n",
       "0    black\n",
       "0    black\n",
       "0    black\n",
       "0    black\n",
       "0    black\n",
       "0    black\n",
       "1      red\n",
       "1      red\n",
       "1      red\n",
       "1      red\n",
       "1      red\n",
       "1      red\n",
       "1      red\n",
       "1      red\n",
       "1      red\n",
       "1      red\n",
       "1      red\n",
       "1      red\n",
       "1      red\n",
       "1      red\n",
       "1      red\n",
       "1      red\n",
       "1      red\n",
       "1      red\n",
       "1      red\n",
       "1      red\n",
       "1      red\n",
       "1      red\n",
       "1      red\n",
       "1      red\n",
       "1      red\n",
       "1      red\n",
       "dtype: object"
      ]
     },
     "execution_count": 27,
     "metadata": {},
     "output_type": "execute_result"
    }
   ],
   "source": [
    "# make a series containing the colors;\n",
    "color = pd.Series(['black','red']).repeat(repeats=[26,26])\n",
    "color"
   ]
  },
  {
   "cell_type": "code",
   "execution_count": 28,
   "metadata": {},
   "outputs": [
    {
     "data": {
      "text/plain": [
       "0     black\n",
       "1     black\n",
       "2     black\n",
       "3     black\n",
       "4     black\n",
       "5     black\n",
       "6     black\n",
       "7     black\n",
       "8     black\n",
       "9     black\n",
       "10    black\n",
       "11    black\n",
       "12    black\n",
       "13    black\n",
       "14    black\n",
       "15    black\n",
       "16    black\n",
       "17    black\n",
       "18    black\n",
       "19    black\n",
       "20    black\n",
       "21    black\n",
       "22    black\n",
       "23    black\n",
       "24    black\n",
       "25    black\n",
       "26      red\n",
       "27      red\n",
       "28      red\n",
       "29      red\n",
       "30      red\n",
       "31      red\n",
       "32      red\n",
       "33      red\n",
       "34      red\n",
       "35      red\n",
       "36      red\n",
       "37      red\n",
       "38      red\n",
       "39      red\n",
       "40      red\n",
       "41      red\n",
       "42      red\n",
       "43      red\n",
       "44      red\n",
       "45      red\n",
       "46      red\n",
       "47      red\n",
       "48      red\n",
       "49      red\n",
       "50      red\n",
       "51      red\n",
       "dtype: object"
      ]
     },
     "execution_count": 28,
     "metadata": {},
     "output_type": "execute_result"
    }
   ],
   "source": [
    "# we renumber the index from 0 to 51\n",
    "color.index = range(len(color))\n",
    "color"
   ]
  },
  {
   "cell_type": "code",
   "execution_count": 29,
   "metadata": {},
   "outputs": [
    {
     "data": {
      "text/plain": [
       "0        club\n",
       "1        club\n",
       "2        club\n",
       "3        club\n",
       "4        club\n",
       "5        club\n",
       "6        club\n",
       "7        club\n",
       "8        club\n",
       "9        club\n",
       "10       club\n",
       "11       club\n",
       "12       club\n",
       "13      spade\n",
       "14      spade\n",
       "15      spade\n",
       "16      spade\n",
       "17      spade\n",
       "18      spade\n",
       "19      spade\n",
       "20      spade\n",
       "21      spade\n",
       "22      spade\n",
       "23      spade\n",
       "24      spade\n",
       "25      spade\n",
       "26    diamond\n",
       "27    diamond\n",
       "28    diamond\n",
       "29    diamond\n",
       "30    diamond\n",
       "31    diamond\n",
       "32    diamond\n",
       "33    diamond\n",
       "34    diamond\n",
       "35    diamond\n",
       "36    diamond\n",
       "37    diamond\n",
       "38    diamond\n",
       "39      heart\n",
       "40      heart\n",
       "41      heart\n",
       "42      heart\n",
       "43      heart\n",
       "44      heart\n",
       "45      heart\n",
       "46      heart\n",
       "47      heart\n",
       "48      heart\n",
       "49      heart\n",
       "50      heart\n",
       "51      heart\n",
       "dtype: object"
      ]
     },
     "execution_count": 29,
     "metadata": {},
     "output_type": "execute_result"
    }
   ],
   "source": [
    "#make a series containing the suits\n",
    "\n",
    "suit = pd.Series(['club','spade','diamond','heart']).repeat(repeats=[13,13,13,13])\n",
    "suit.index = range(len(suit))\n",
    "\n",
    "suit"
   ]
  },
  {
   "cell_type": "code",
   "execution_count": 30,
   "metadata": {},
   "outputs": [
    {
     "data": {
      "text/plain": [
       "0      A\n",
       "1      2\n",
       "2      3\n",
       "3      4\n",
       "4      5\n",
       "5      6\n",
       "6      7\n",
       "7      8\n",
       "8      9\n",
       "9     10\n",
       "10     J\n",
       "11     Q\n",
       "12     K\n",
       "dtype: object"
      ]
     },
     "execution_count": 30,
     "metadata": {},
     "output_type": "execute_result"
    }
   ],
   "source": [
    "# make a series containing the face values\n",
    "faces = pd.Series(['A','2','3','4','5','6','7','8','9','10','J','Q','K'])\n",
    "\n",
    "faces"
   ]
  },
  {
   "cell_type": "code",
   "execution_count": 31,
   "metadata": {},
   "outputs": [
    {
     "data": {
      "text/plain": [
       "0      A\n",
       "1      2\n",
       "2      3\n",
       "3      4\n",
       "4      5\n",
       "5      6\n",
       "6      7\n",
       "7      8\n",
       "8      9\n",
       "9     10\n",
       "10     J\n",
       "11     Q\n",
       "12     K\n",
       "13     A\n",
       "14     2\n",
       "15     3\n",
       "16     4\n",
       "17     5\n",
       "18     6\n",
       "19     7\n",
       "20     8\n",
       "21     9\n",
       "22    10\n",
       "23     J\n",
       "24     Q\n",
       "25     K\n",
       "26     A\n",
       "27     2\n",
       "28     3\n",
       "29     4\n",
       "30     5\n",
       "31     6\n",
       "32     7\n",
       "33     8\n",
       "34     9\n",
       "35    10\n",
       "36     J\n",
       "37     Q\n",
       "38     K\n",
       "39     A\n",
       "40     2\n",
       "41     3\n",
       "42     4\n",
       "43     5\n",
       "44     6\n",
       "45     7\n",
       "46     8\n",
       "47     9\n",
       "48    10\n",
       "49     J\n",
       "50     Q\n",
       "51     K\n",
       "dtype: object"
      ]
     },
     "execution_count": 31,
     "metadata": {},
     "output_type": "execute_result"
    }
   ],
   "source": [
    "face = pd.concat([faces] * 4) \n",
    "face.index = range(len(face))\n",
    "\n",
    "face"
   ]
  },
  {
   "cell_type": "code",
   "execution_count": 32,
   "metadata": {},
   "outputs": [
    {
     "data": {
      "text/html": [
       "<div>\n",
       "<style scoped>\n",
       "    .dataframe tbody tr th:only-of-type {\n",
       "        vertical-align: middle;\n",
       "    }\n",
       "\n",
       "    .dataframe tbody tr th {\n",
       "        vertical-align: top;\n",
       "    }\n",
       "\n",
       "    .dataframe thead th {\n",
       "        text-align: right;\n",
       "    }\n",
       "</style>\n",
       "<table border=\"1\" class=\"dataframe\">\n",
       "  <thead>\n",
       "    <tr style=\"text-align: right;\">\n",
       "      <th></th>\n",
       "      <th>color</th>\n",
       "      <th>suit</th>\n",
       "      <th>face</th>\n",
       "    </tr>\n",
       "  </thead>\n",
       "  <tbody>\n",
       "    <tr>\n",
       "      <th>0</th>\n",
       "      <td>black</td>\n",
       "      <td>club</td>\n",
       "      <td>A</td>\n",
       "    </tr>\n",
       "    <tr>\n",
       "      <th>1</th>\n",
       "      <td>black</td>\n",
       "      <td>club</td>\n",
       "      <td>2</td>\n",
       "    </tr>\n",
       "    <tr>\n",
       "      <th>2</th>\n",
       "      <td>black</td>\n",
       "      <td>club</td>\n",
       "      <td>3</td>\n",
       "    </tr>\n",
       "    <tr>\n",
       "      <th>3</th>\n",
       "      <td>black</td>\n",
       "      <td>club</td>\n",
       "      <td>4</td>\n",
       "    </tr>\n",
       "    <tr>\n",
       "      <th>4</th>\n",
       "      <td>black</td>\n",
       "      <td>club</td>\n",
       "      <td>5</td>\n",
       "    </tr>\n",
       "    <tr>\n",
       "      <th>5</th>\n",
       "      <td>black</td>\n",
       "      <td>club</td>\n",
       "      <td>6</td>\n",
       "    </tr>\n",
       "    <tr>\n",
       "      <th>6</th>\n",
       "      <td>black</td>\n",
       "      <td>club</td>\n",
       "      <td>7</td>\n",
       "    </tr>\n",
       "    <tr>\n",
       "      <th>7</th>\n",
       "      <td>black</td>\n",
       "      <td>club</td>\n",
       "      <td>8</td>\n",
       "    </tr>\n",
       "    <tr>\n",
       "      <th>8</th>\n",
       "      <td>black</td>\n",
       "      <td>club</td>\n",
       "      <td>9</td>\n",
       "    </tr>\n",
       "    <tr>\n",
       "      <th>9</th>\n",
       "      <td>black</td>\n",
       "      <td>club</td>\n",
       "      <td>10</td>\n",
       "    </tr>\n",
       "    <tr>\n",
       "      <th>10</th>\n",
       "      <td>black</td>\n",
       "      <td>club</td>\n",
       "      <td>J</td>\n",
       "    </tr>\n",
       "    <tr>\n",
       "      <th>11</th>\n",
       "      <td>black</td>\n",
       "      <td>club</td>\n",
       "      <td>Q</td>\n",
       "    </tr>\n",
       "    <tr>\n",
       "      <th>12</th>\n",
       "      <td>black</td>\n",
       "      <td>club</td>\n",
       "      <td>K</td>\n",
       "    </tr>\n",
       "  </tbody>\n",
       "</table>\n",
       "</div>"
      ],
      "text/plain": [
       "    color  suit face\n",
       "0   black  club    A\n",
       "1   black  club    2\n",
       "2   black  club    3\n",
       "3   black  club    4\n",
       "4   black  club    5\n",
       "5   black  club    6\n",
       "6   black  club    7\n",
       "7   black  club    8\n",
       "8   black  club    9\n",
       "9   black  club   10\n",
       "10  black  club    J\n",
       "11  black  club    Q\n",
       "12  black  club    K"
      ]
     },
     "metadata": {},
     "output_type": "display_data"
    },
    {
     "data": {
      "text/html": [
       "<div>\n",
       "<style scoped>\n",
       "    .dataframe tbody tr th:only-of-type {\n",
       "        vertical-align: middle;\n",
       "    }\n",
       "\n",
       "    .dataframe tbody tr th {\n",
       "        vertical-align: top;\n",
       "    }\n",
       "\n",
       "    .dataframe thead th {\n",
       "        text-align: right;\n",
       "    }\n",
       "</style>\n",
       "<table border=\"1\" class=\"dataframe\">\n",
       "  <thead>\n",
       "    <tr style=\"text-align: right;\">\n",
       "      <th></th>\n",
       "      <th>color</th>\n",
       "      <th>suit</th>\n",
       "      <th>face</th>\n",
       "    </tr>\n",
       "  </thead>\n",
       "  <tbody>\n",
       "    <tr>\n",
       "      <th>39</th>\n",
       "      <td>red</td>\n",
       "      <td>heart</td>\n",
       "      <td>A</td>\n",
       "    </tr>\n",
       "    <tr>\n",
       "      <th>40</th>\n",
       "      <td>red</td>\n",
       "      <td>heart</td>\n",
       "      <td>2</td>\n",
       "    </tr>\n",
       "    <tr>\n",
       "      <th>41</th>\n",
       "      <td>red</td>\n",
       "      <td>heart</td>\n",
       "      <td>3</td>\n",
       "    </tr>\n",
       "    <tr>\n",
       "      <th>42</th>\n",
       "      <td>red</td>\n",
       "      <td>heart</td>\n",
       "      <td>4</td>\n",
       "    </tr>\n",
       "    <tr>\n",
       "      <th>43</th>\n",
       "      <td>red</td>\n",
       "      <td>heart</td>\n",
       "      <td>5</td>\n",
       "    </tr>\n",
       "    <tr>\n",
       "      <th>44</th>\n",
       "      <td>red</td>\n",
       "      <td>heart</td>\n",
       "      <td>6</td>\n",
       "    </tr>\n",
       "    <tr>\n",
       "      <th>45</th>\n",
       "      <td>red</td>\n",
       "      <td>heart</td>\n",
       "      <td>7</td>\n",
       "    </tr>\n",
       "    <tr>\n",
       "      <th>46</th>\n",
       "      <td>red</td>\n",
       "      <td>heart</td>\n",
       "      <td>8</td>\n",
       "    </tr>\n",
       "    <tr>\n",
       "      <th>47</th>\n",
       "      <td>red</td>\n",
       "      <td>heart</td>\n",
       "      <td>9</td>\n",
       "    </tr>\n",
       "    <tr>\n",
       "      <th>48</th>\n",
       "      <td>red</td>\n",
       "      <td>heart</td>\n",
       "      <td>10</td>\n",
       "    </tr>\n",
       "    <tr>\n",
       "      <th>49</th>\n",
       "      <td>red</td>\n",
       "      <td>heart</td>\n",
       "      <td>J</td>\n",
       "    </tr>\n",
       "    <tr>\n",
       "      <th>50</th>\n",
       "      <td>red</td>\n",
       "      <td>heart</td>\n",
       "      <td>Q</td>\n",
       "    </tr>\n",
       "    <tr>\n",
       "      <th>51</th>\n",
       "      <td>red</td>\n",
       "      <td>heart</td>\n",
       "      <td>K</td>\n",
       "    </tr>\n",
       "  </tbody>\n",
       "</table>\n",
       "</div>"
      ],
      "text/plain": [
       "   color   suit face\n",
       "39   red  heart    A\n",
       "40   red  heart    2\n",
       "41   red  heart    3\n",
       "42   red  heart    4\n",
       "43   red  heart    5\n",
       "44   red  heart    6\n",
       "45   red  heart    7\n",
       "46   red  heart    8\n",
       "47   red  heart    9\n",
       "48   red  heart   10\n",
       "49   red  heart    J\n",
       "50   red  heart    Q\n",
       "51   red  heart    K"
      ]
     },
     "metadata": {},
     "output_type": "display_data"
    }
   ],
   "source": [
    "# combine the three series into a data frame\n",
    "\n",
    "cards = pd.DataFrame({'color':color, 'suit':suit, 'face':face})\n",
    "\n",
    "# show the first and last 13 cards in the deck\n",
    "\n",
    "display(cards.iloc[:13,:], cards.iloc[39:,:])"
   ]
  },
  {
   "cell_type": "code",
   "execution_count": null,
   "metadata": {},
   "outputs": [],
   "source": []
  },
  {
   "cell_type": "code",
   "execution_count": 33,
   "metadata": {},
   "outputs": [
    {
     "data": {
      "text/html": [
       "<div>\n",
       "<style scoped>\n",
       "    .dataframe tbody tr th:only-of-type {\n",
       "        vertical-align: middle;\n",
       "    }\n",
       "\n",
       "    .dataframe tbody tr th {\n",
       "        vertical-align: top;\n",
       "    }\n",
       "\n",
       "    .dataframe thead th {\n",
       "        text-align: right;\n",
       "    }\n",
       "</style>\n",
       "<table border=\"1\" class=\"dataframe\">\n",
       "  <thead>\n",
       "    <tr style=\"text-align: right;\">\n",
       "      <th></th>\n",
       "      <th>color</th>\n",
       "      <th>suit</th>\n",
       "      <th>face</th>\n",
       "    </tr>\n",
       "  </thead>\n",
       "  <tbody>\n",
       "    <tr>\n",
       "      <th>20</th>\n",
       "      <td>black</td>\n",
       "      <td>spade</td>\n",
       "      <td>8</td>\n",
       "    </tr>\n",
       "    <tr>\n",
       "      <th>16</th>\n",
       "      <td>black</td>\n",
       "      <td>spade</td>\n",
       "      <td>4</td>\n",
       "    </tr>\n",
       "    <tr>\n",
       "      <th>7</th>\n",
       "      <td>black</td>\n",
       "      <td>club</td>\n",
       "      <td>8</td>\n",
       "    </tr>\n",
       "    <tr>\n",
       "      <th>13</th>\n",
       "      <td>black</td>\n",
       "      <td>spade</td>\n",
       "      <td>A</td>\n",
       "    </tr>\n",
       "    <tr>\n",
       "      <th>18</th>\n",
       "      <td>black</td>\n",
       "      <td>spade</td>\n",
       "      <td>6</td>\n",
       "    </tr>\n",
       "  </tbody>\n",
       "</table>\n",
       "</div>"
      ],
      "text/plain": [
       "    color   suit face\n",
       "20  black  spade    8\n",
       "16  black  spade    4\n",
       "7   black   club    8\n",
       "13  black  spade    A\n",
       "18  black  spade    6"
      ]
     },
     "execution_count": 33,
     "metadata": {},
     "output_type": "execute_result"
    }
   ],
   "source": [
    "# single poker hand\n",
    "cards.sample(5)"
   ]
  },
  {
   "cell_type": "markdown",
   "metadata": {},
   "source": [
    "#### Let's use sampling to estimate the probability of a full house (2 cards of one face value, 3 of another)\n",
    "\n",
    "Here's a function to test whether a given hand is a full house."
   ]
  },
  {
   "cell_type": "markdown",
   "metadata": {},
   "source": [
    "Let's first make a test case of a full house and see what it looks like when we use the .value_counts() function"
   ]
  },
  {
   "cell_type": "code",
   "execution_count": 34,
   "metadata": {},
   "outputs": [
    {
     "data": {
      "text/html": [
       "<div>\n",
       "<style scoped>\n",
       "    .dataframe tbody tr th:only-of-type {\n",
       "        vertical-align: middle;\n",
       "    }\n",
       "\n",
       "    .dataframe tbody tr th {\n",
       "        vertical-align: top;\n",
       "    }\n",
       "\n",
       "    .dataframe thead th {\n",
       "        text-align: right;\n",
       "    }\n",
       "</style>\n",
       "<table border=\"1\" class=\"dataframe\">\n",
       "  <thead>\n",
       "    <tr style=\"text-align: right;\">\n",
       "      <th></th>\n",
       "      <th>face</th>\n",
       "      <th>suit</th>\n",
       "    </tr>\n",
       "  </thead>\n",
       "  <tbody>\n",
       "    <tr>\n",
       "      <th>0</th>\n",
       "      <td>2</td>\n",
       "      <td>heart</td>\n",
       "    </tr>\n",
       "    <tr>\n",
       "      <th>1</th>\n",
       "      <td>2</td>\n",
       "      <td>club</td>\n",
       "    </tr>\n",
       "    <tr>\n",
       "      <th>2</th>\n",
       "      <td>2</td>\n",
       "      <td>spade</td>\n",
       "    </tr>\n",
       "    <tr>\n",
       "      <th>3</th>\n",
       "      <td>3</td>\n",
       "      <td>club</td>\n",
       "    </tr>\n",
       "    <tr>\n",
       "      <th>4</th>\n",
       "      <td>3</td>\n",
       "      <td>diamond</td>\n",
       "    </tr>\n",
       "  </tbody>\n",
       "</table>\n",
       "</div>"
      ],
      "text/plain": [
       "  face     suit\n",
       "0    2    heart\n",
       "1    2     club\n",
       "2    2    spade\n",
       "3    3     club\n",
       "4    3  diamond"
      ]
     },
     "execution_count": 34,
     "metadata": {},
     "output_type": "execute_result"
    }
   ],
   "source": [
    "test_case_1 = pd.DataFrame({'face': ['2','2','2','3','3'],\n",
    "                           'suit': ['heart', 'club', 'spade', 'club', 'diamond']})\n",
    "test_case_1"
   ]
  },
  {
   "cell_type": "code",
   "execution_count": 35,
   "metadata": {},
   "outputs": [
    {
     "data": {
      "text/plain": [
       "2    3\n",
       "3    2\n",
       "Name: face, dtype: int64"
      ]
     },
     "execution_count": 35,
     "metadata": {},
     "output_type": "execute_result"
    }
   ],
   "source": [
    "test_case_1['face'].value_counts()"
   ]
  },
  {
   "cell_type": "code",
   "execution_count": 36,
   "metadata": {},
   "outputs": [],
   "source": [
    "def isfullhouse (df, var='face'):\n",
    "    if df[var].shape[0] != 5:\n",
    "        return 'Not a poker hand'\n",
    "    else:\n",
    "        counts = df[var].value_counts()\n",
    "        if counts.min() == 2 and counts.max() == 3:\n",
    "            return True\n",
    "        else:\n",
    "            return False"
   ]
  },
  {
   "cell_type": "markdown",
   "metadata": {},
   "source": [
    "Let's check it against several test cases."
   ]
  },
  {
   "cell_type": "code",
   "execution_count": 37,
   "metadata": {},
   "outputs": [
    {
     "data": {
      "text/plain": [
       "True"
      ]
     },
     "execution_count": 37,
     "metadata": {},
     "output_type": "execute_result"
    }
   ],
   "source": [
    "isfullhouse(test_case_1)"
   ]
  },
  {
   "cell_type": "code",
   "execution_count": 38,
   "metadata": {},
   "outputs": [
    {
     "data": {
      "text/html": [
       "<div>\n",
       "<style scoped>\n",
       "    .dataframe tbody tr th:only-of-type {\n",
       "        vertical-align: middle;\n",
       "    }\n",
       "\n",
       "    .dataframe tbody tr th {\n",
       "        vertical-align: top;\n",
       "    }\n",
       "\n",
       "    .dataframe thead th {\n",
       "        text-align: right;\n",
       "    }\n",
       "</style>\n",
       "<table border=\"1\" class=\"dataframe\">\n",
       "  <thead>\n",
       "    <tr style=\"text-align: right;\">\n",
       "      <th></th>\n",
       "      <th>face</th>\n",
       "      <th>suit</th>\n",
       "    </tr>\n",
       "  </thead>\n",
       "  <tbody>\n",
       "    <tr>\n",
       "      <th>0</th>\n",
       "      <td>2</td>\n",
       "      <td>heart</td>\n",
       "    </tr>\n",
       "    <tr>\n",
       "      <th>1</th>\n",
       "      <td>2</td>\n",
       "      <td>club</td>\n",
       "    </tr>\n",
       "    <tr>\n",
       "      <th>2</th>\n",
       "      <td>2</td>\n",
       "      <td>spade</td>\n",
       "    </tr>\n",
       "    <tr>\n",
       "      <th>3</th>\n",
       "      <td>2</td>\n",
       "      <td>club</td>\n",
       "    </tr>\n",
       "    <tr>\n",
       "      <th>4</th>\n",
       "      <td>A</td>\n",
       "      <td>diamond</td>\n",
       "    </tr>\n",
       "  </tbody>\n",
       "</table>\n",
       "</div>"
      ],
      "text/plain": [
       "  face     suit\n",
       "0    2    heart\n",
       "1    2     club\n",
       "2    2    spade\n",
       "3    2     club\n",
       "4    A  diamond"
      ]
     },
     "execution_count": 38,
     "metadata": {},
     "output_type": "execute_result"
    }
   ],
   "source": [
    "test_case_2 = pd.DataFrame({'face': ['2','2','2','2','A'],\n",
    "                           'suit': ['heart', 'club', 'spade', 'club', 'diamond']})\n",
    "test_case_2"
   ]
  },
  {
   "cell_type": "code",
   "execution_count": 39,
   "metadata": {},
   "outputs": [
    {
     "data": {
      "text/plain": [
       "False"
      ]
     },
     "execution_count": 39,
     "metadata": {},
     "output_type": "execute_result"
    }
   ],
   "source": [
    "isfullhouse(test_case_2)"
   ]
  },
  {
   "cell_type": "code",
   "execution_count": 40,
   "metadata": {},
   "outputs": [
    {
     "data": {
      "text/html": [
       "<div>\n",
       "<style scoped>\n",
       "    .dataframe tbody tr th:only-of-type {\n",
       "        vertical-align: middle;\n",
       "    }\n",
       "\n",
       "    .dataframe tbody tr th {\n",
       "        vertical-align: top;\n",
       "    }\n",
       "\n",
       "    .dataframe thead th {\n",
       "        text-align: right;\n",
       "    }\n",
       "</style>\n",
       "<table border=\"1\" class=\"dataframe\">\n",
       "  <thead>\n",
       "    <tr style=\"text-align: right;\">\n",
       "      <th></th>\n",
       "      <th>face</th>\n",
       "      <th>suit</th>\n",
       "    </tr>\n",
       "  </thead>\n",
       "  <tbody>\n",
       "    <tr>\n",
       "      <th>0</th>\n",
       "      <td>2</td>\n",
       "      <td>heart</td>\n",
       "    </tr>\n",
       "    <tr>\n",
       "      <th>1</th>\n",
       "      <td>2</td>\n",
       "      <td>club</td>\n",
       "    </tr>\n",
       "    <tr>\n",
       "      <th>2</th>\n",
       "      <td>2</td>\n",
       "      <td>spade</td>\n",
       "    </tr>\n",
       "    <tr>\n",
       "      <th>3</th>\n",
       "      <td>3</td>\n",
       "      <td>club</td>\n",
       "    </tr>\n",
       "    <tr>\n",
       "      <th>4</th>\n",
       "      <td>A</td>\n",
       "      <td>diamond</td>\n",
       "    </tr>\n",
       "    <tr>\n",
       "      <th>5</th>\n",
       "      <td>K</td>\n",
       "      <td>heart</td>\n",
       "    </tr>\n",
       "  </tbody>\n",
       "</table>\n",
       "</div>"
      ],
      "text/plain": [
       "  face     suit\n",
       "0    2    heart\n",
       "1    2     club\n",
       "2    2    spade\n",
       "3    3     club\n",
       "4    A  diamond\n",
       "5    K    heart"
      ]
     },
     "execution_count": 40,
     "metadata": {},
     "output_type": "execute_result"
    }
   ],
   "source": [
    "test_case_3 = pd.DataFrame({'face': ['2','2','2','3','A', 'K'],\n",
    "                           'suit': ['heart', 'club', 'spade', 'club', 'diamond', 'heart']})\n",
    "test_case_3"
   ]
  },
  {
   "cell_type": "code",
   "execution_count": 41,
   "metadata": {},
   "outputs": [
    {
     "data": {
      "text/plain": [
       "'Not a poker hand'"
      ]
     },
     "execution_count": 41,
     "metadata": {},
     "output_type": "execute_result"
    }
   ],
   "source": [
    "isfullhouse(test_case_3)"
   ]
  },
  {
   "cell_type": "code",
   "execution_count": 42,
   "metadata": {},
   "outputs": [],
   "source": [
    "## Draw poker hands at random\n",
    "## Estimate probability of full house\n",
    "\n",
    "fh_count = 0\n",
    "n_iterations = 50000\n",
    "\n",
    "for i in range(n_iterations):\n",
    "    new_hand = cards.sample(5)\n",
    "    fh_count += isfullhouse(new_hand)\n",
    "    \n"
   ]
  },
  {
   "cell_type": "code",
   "execution_count": 43,
   "metadata": {},
   "outputs": [
    {
     "name": "stdout",
     "output_type": "stream",
     "text": [
      "71\n",
      "50000\n",
      "Probability estimate based on  50000 iterations: 0.00142\n"
     ]
    }
   ],
   "source": [
    "print(fh_count)\n",
    "print(50000)\n",
    "print('Probability estimate based on ', n_iterations, 'iterations:', fh_count/n_iterations)"
   ]
  },
  {
   "cell_type": "markdown",
   "metadata": {},
   "source": [
    "### Calculating the probabilities using combinatorics"
   ]
  },
  {
   "cell_type": "markdown",
   "metadata": {},
   "source": [
    "Combinatorial (counting) methods are often useful for determining the probabilities of events made up of multiple outcomes when the basic outcoems are sampled with equal probabilities. As an example, if 5 cards are dealt at random and without replacement from a 52 card deck, then all possible 5 card hands are equally likely. The probability of a given type of hand is then the ratio of the number of possible hands of that type over the total number of possible 5 card hands of any type.\n",
    "\n",
    "Let's consider a full house, which is a compound event. The possible full houses are all possibel sets of three cards of one face value and two cards of another face value.  \n",
    "\n",
    "We need to figure out:\n",
    "\n",
    "+ How many possible sets of 5 cards are there? \n",
    "\n",
    "+ How many possible full house combinations are there?\n",
    "\n",
    "Here is an extremely powerful general approach.\n",
    "\n",
    "**Multiplication rule:** If an event is made up of a series of choices with $k_1$ ways to make the first choice, $k_2$ ways to make the second choice and so on, then the total number of combinations of choices is the product of the numbers of ways to make each of the individual choices (i.e., $k_1*k_2*k_3*\\cdots$)."
   ]
  },
  {
   "cell_type": "markdown",
   "metadata": {},
   "source": [
    "**Example 1: How many possible ordered sequences of 5 cards?** \n",
    "\n",
    "$$\n",
    "52*51*50*49*48 = 52!/47!\n",
    "$$"
   ]
  },
  {
   "cell_type": "markdown",
   "metadata": {},
   "source": [
    "**Example 2: How many possible poker hands?** First notice that the number of ways to select an ordered sequence of 5 cards = number of poker hands $\\times$ number of ways of reordering the five cards. Thus, using combinatorial notation,\n",
    "\n",
    "$$\n",
    "52*51*50*49*48 = 5*4*3*2*1*{{52}\\choose{5}},\n",
    "$$\n",
    "\n",
    "and the number of possible poker hands is\n",
    "\n",
    "$$\n",
    "{{52}\\choose{5}} = {52*51*50*49*48 \\over 5*4*3*2*1} = {52! \\over 5! 47!}\n",
    "$$"
   ]
  },
  {
   "cell_type": "markdown",
   "metadata": {},
   "source": [
    "**Example 3: How many possible full houses?** This is a bit more complicated. There are 13 choices for the face value triplet, and then 12 choices for the face value duo. There are then ${4}\\choose{3}$ ways to select three of the four cards of the first face value, and ${4}\\choose{2}$ ways to choose the of the 4 cards of the second face value. Putting this together, the number of possible full houses is\n",
    "\n",
    "$$\n",
    "13*12*{{4}\\choose{3}}*{{4}\\choose{2}} = 13*12*4*6\n",
    "$$"
   ]
  },
  {
   "cell_type": "markdown",
   "metadata": {},
   "source": [
    "Because each possible poker hand is equally likely, this means that the probability of a full house is\n",
    "\n",
    "$$\n",
    "{\\text{# possible full houses}\\over\\text{# possible poker hands}} = {13*12*4*6 \\over {{52}\\choose{5}}}\n",
    "$$"
   ]
  },
  {
   "cell_type": "code",
   "execution_count": 44,
   "metadata": {},
   "outputs": [
    {
     "name": "stdout",
     "output_type": "stream",
     "text": [
      "Probability of full house =  0.0014405762304921968\n"
     ]
    }
   ],
   "source": [
    "# Probability of full house\n",
    "print('Probability of full house = ',\n",
    "     13*12*4*6*5*4*3*2/(52*51*50*49*48))"
   ]
  },
  {
   "cell_type": "markdown",
   "metadata": {},
   "source": [
    "### General expressions for the number of possible samples with and without replacement"
   ]
  },
  {
   "cell_type": "markdown",
   "metadata": {},
   "source": [
    "Generalizing from the previous examples, we have several general formulas for the number of ways to draw samples and subsample. Assume $n$ and $k$ are positive integers. For sampling without replacement assume $k \\le n$. For sampling with replacement this is not necessary.\n",
    "\n",
    "+ The number of ways to select a set of $k$ items **with replacement** if we keep track of the order of selection is\n",
    "\n",
    "$$\n",
    "n^k = \\underbrace{n*n*\\cdots*n}_{k\\text{ times}}\n",
    "$$\n",
    "\n",
    "+ The number of ways to reorder (permute) $n$ items is \n",
    "\n",
    "$$\n",
    "n! = n*(n-1)*(n-2)*\\cdots*3*2*1\n",
    "$$\n",
    "\n",
    "\n",
    "+ The number of ways sample $k$ **ordered* items out of $n$ **without replacement** where we keep track of the order of selection: \n",
    "\n",
    "$$\n",
    "\\underbrace{n*(n-1)*(n-2)*\\cdots*(n-k+1)}_{k \\text{ terms}} = {n! \\over (n-k)!}\n",
    "$$\n",
    "\n",
    "\n",
    "\n",
    "+ The number of ways to sample $k$ **unordered** items **without replacement** from $n$ items:\n",
    "\n",
    "$$\n",
    "{{n}\\choose{k}} = {n*(n-1)*(n-2)*\\cdots*(n-k+1) \\over k*(k-1)*\\cdots*2*1} = {n! \\over k! (n-k)!}\n",
    "$$\n"
   ]
  },
  {
   "cell_type": "markdown",
   "metadata": {},
   "source": [
    "#### Example: We toss a coin 10 times. One possible sequence of heads and tails with 6 tails is THTTTHTTHH. How many possible sequences of heads and tails are there with exactly 6 tails?\n",
    "\n",
    "Answer: There are 10 positions available in the sequence. Choose 6 of them for the tails. The number ways to do this is\n",
    "\n",
    "$$\n",
    "{{10}\\choose{6}} = {10*9*8*7*6*5 \\over 6*5*4*3*2} = 210\n",
    "$$\n",
    "\n",
    "#### Example: What is the probability of getting 6 tails in 10 tosses of a fair coin?\n",
    "\n",
    "Answer: We already know there are 210 ways to get 6 tails. All possible sequences are equally likely if we toss the coin independently. How many possible sequences of heads and tails are there? \n",
    "\n",
    "Each of the 10 positions in the sequence has 2 possible choices, heads or tails. Therefore, the number of possible sequences of headas and tails is\n",
    "\n",
    "$$\n",
    "2*2*2*\\cdots*2 = 2^{10} = 1024.\n",
    "$$\n",
    "\n",
    "Therefore, the probability of exactly 6 tails out of 10 tosses is\n",
    "\n",
    "$$\n",
    "{{{10}\\choose{6}}\\over 2^{10}} = {210 \\over 1024} = 0.2051\n",
    "$$"
   ]
  },
  {
   "cell_type": "code",
   "execution_count": 45,
   "metadata": {},
   "outputs": [
    {
     "data": {
      "text/plain": [
       "(210.0, 1024, 0.205078125)"
      ]
     },
     "execution_count": 45,
     "metadata": {},
     "output_type": "execute_result"
    }
   ],
   "source": [
    "TenChoose6=10*9*8*7*6*5/(6*5*4*3*2)\n",
    "TwoTo10th=2**10\n",
    "(TenChoose6, TwoTo10th, TenChoose6/TwoTo10th)"
   ]
  },
  {
   "cell_type": "markdown",
   "metadata": {},
   "source": [
    "#### Try:\n",
    "\n",
    "Suppose we wanted to simulate coin tossing using python.  How could we do it using the pandas sample function? Contruct an apropriate data frame and show how to sample $n$ coin tosses and report the number of tails."
   ]
  },
  {
   "cell_type": "code",
   "execution_count": null,
   "metadata": {},
   "outputs": [],
   "source": []
  },
  {
   "cell_type": "markdown",
   "metadata": {},
   "source": [
    "#### Try: \n",
    "\n",
    "Instead of coin tossing, suppose we roll a 6-sided die with sides number 1,2, ... ,6. \n",
    "\n",
    "**a)** If we roll it twice, what is the probability of \"snake eyes\", i.e., rolling two 1's? Hint: consider how many possible outcomes there are.\n"
   ]
  },
  {
   "cell_type": "code",
   "execution_count": null,
   "metadata": {},
   "outputs": [],
   "source": []
  },
  {
   "cell_type": "markdown",
   "metadata": {},
   "source": [
    "**b)** If we roll it 10 times, what is the probability of getting exactly two 1's?"
   ]
  },
  {
   "cell_type": "code",
   "execution_count": null,
   "metadata": {},
   "outputs": [],
   "source": []
  },
  {
   "cell_type": "markdown",
   "metadata": {},
   "source": [
    "#### Try:\n",
    "\n",
    "Figure out the probability that a random poker hand is \"four-of-a-kind\". This is a five card hand drawn at random without replacement with four card of one face value, and one card of another face value."
   ]
  },
  {
   "cell_type": "code",
   "execution_count": null,
   "metadata": {},
   "outputs": [],
   "source": []
  },
  {
   "cell_type": "markdown",
   "metadata": {},
   "source": [
    "---\n",
    "STAT 207, Douglas Simpson, University of Illinois at Urbana-Champaign"
   ]
  }
 ],
 "metadata": {
  "kernelspec": {
   "display_name": "Python 3",
   "language": "python",
   "name": "python3"
  },
  "language_info": {
   "codemirror_mode": {
    "name": "ipython",
    "version": 3
   },
   "file_extension": ".py",
   "mimetype": "text/x-python",
   "name": "python",
   "nbconvert_exporter": "python",
   "pygments_lexer": "ipython3",
   "version": "3.8.3"
  }
 },
 "nbformat": 4,
 "nbformat_minor": 2
}
