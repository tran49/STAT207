{
 "cells": [
  {
   "cell_type": "markdown",
   "metadata": {},
   "source": [
    "<!--# STAT 207: Data Science Exploration-->\n",
    "<h1 style=\"color:blue;\">Unit 15: Machine Learning, Regularized Logistic Regression, and Cross-Validation</h1>\n",
    "\n",
    "<h1 style=\"color:blue;\">Topic 1: Introduction to Regularized Logistic Regression</h1> \n",
    "\n",
    "## Review of Methods (we already learned) to Select the \"Best\" Explanatory Variables in a Logistic Regression\n",
    "\n",
    "#### What methods have we learned so far that allow for us to select the \"best\" explanatory variables in a model? How do we define \"best\" in each of these methods?\n",
    "<br/>\n",
    "<br/>\n",
    "<br/>\n",
    "<br/>\n",
    "<br/>\n",
    "<br/>\n",
    "<br/>\n",
    "<br/>\n",
    "<br/>\n",
    "<br/>\n",
    "<br/>\n",
    "<br/>\n",
    "<br/>\n",
    "<br/>\n",
    "<br/>\n",
    "<br/>\n",
    "<br/>\n",
    "<br/>\n",
    "<br/>\n",
    "<br/>\n",
    "<br/>\n",
    "<br/>\n",
    "<br/>\n",
    "<br/>\n",
    "\n",
    "#### What is a common downside of each of these methods?\n",
    "<br/>\n",
    "<br/>\n",
    "<br/>\n",
    "<br/>\n",
    "<br/>\n",
    "<br/>\n",
    "<br/>\n",
    "<br/>\n",
    "<br/>\n",
    "<br/>\n",
    "<br/>\n",
    "<br/>\n",
    "\n",
    "## Main Idea of Regularized Regression\n",
    "\n",
    "#### Main difference between regularized regression vs. regression?\n",
    "\n",
    "<br/>\n",
    "<br/>\n",
    "<br/>\n",
    "<br/>\n",
    "<br/>\n",
    "<br/>\n",
    "<br/>\n",
    "<br/>\n",
    "<br/>\n",
    "<br/>\n",
    "<br/>\n",
    "<br/>\n",
    "\n",
    "Regularized regression methods are designed to improve modeling of high dimensional data by incorporating a penalty function to drive variable selection. The Python Scikit-Learn library includes regularized regression and regularized logistic regression as standard model optimization methods. This section will provide a brief overview of penalized logistic regression and demonstrate how the methods work on simulated data. \n",
    "\n",
    "\n",
    "<h1 style=\"color:blue;\">Topic 2: Introduction to Cross-Validation</h1> \n",
    "\n",
    "\n",
    "## Review of Methods (we already learned) to Evaluate Classification Accuracy of \"New Data\" with Regression Models\n",
    "\n",
    "#### What methods have we learned so far that allow for us to evaluate the classification accuracy of \"new data\" in logistic regression models?\n",
    "\n",
    "<br/>\n",
    "<br/>\n",
    "<br/>\n",
    "<br/>\n",
    "<br/>\n",
    "<br/>\n",
    "<br/>\n",
    "<br/>\n",
    "<br/>\n",
    "<br/>\n",
    "<br/>\n",
    "<br/>\n",
    "\n",
    "\n",
    "#### What is a downside of this method?\n",
    "\n",
    "<br/>\n",
    "<br/>\n",
    "<br/>\n",
    "<br/>\n",
    "<br/>\n",
    "<br/>\n",
    "<br/>\n",
    "<br/>\n",
    "<br/>\n",
    "<br/>\n",
    "<br/>\n",
    "<br/>\n",
    "\n",
    "## Main Idea of Cross-Validation\n",
    "\n",
    "<br/>\n",
    "<br/>\n",
    "<br/>\n",
    "<br/>\n",
    "<br/>\n",
    "<br/>\n",
    "<br/>\n",
    "<br/>\n",
    "<br/>\n",
    "<br/>\n",
    "<br/>\n",
    "<br/>\n",
    "\n",
    "In order to evaluate the classification accuracy of regularized logistic regression we can use the \n",
    "Train/Test method to avoid optimistic bias. One limitation is that it uses only part of the data for both model building and for assessment.\n",
    "\n",
    "An extension of simple Train/Test is **cross-validation.** This method uses all of the data by repeated application of train/test splitting. The results are then averaged to improve the accuracy. The approach also gives us a simple way to estimate the uncertainty of the accuracy estimate.\n",
    "\n",
    "## Common Types of Cross-Validation\n",
    "\n",
    "### <u>Type 1</u>: Leave-One-Out Cross-Validation\n",
    "\n",
    "\n",
    "<br/>\n",
    "<br/>\n",
    "<br/>\n",
    "<br/>\n",
    "<br/>\n",
    "<br/>\n",
    "<br/>\n",
    "<br/>\n",
    "<br/>\n",
    "<br/>\n",
    "<br/>\n",
    "<br/>\n",
    "\n",
    "The oldest such method is **leave-one-out cross-validation**, where each of the $n$ observations in a sample is omitted in turn. The estimate is recomputed for each of the $n$ subsets of size $n-1$. The resulting $n$ predictions are then used to estimate predictive accuracy.\n",
    "\n",
    "### <u> Type 2</u>: k-Fold Cross-Validation\n",
    "\n",
    "<br/>\n",
    "<br/>\n",
    "<br/>\n",
    "<br/>\n",
    "<br/>\n",
    "<br/>\n",
    "<br/>\n",
    "<br/>\n",
    "<br/>\n",
    "<br/>\n",
    "<br/>\n",
    "<br/>\n",
    "\n",
    "Modern methods use **k-fold cross-validation**, where the data are split into $k$ subsets. $k-1$ subsets are used for training, and the left out subset is used for testing. This is repeated at least $k$ times, leaving out each of the $k$ subsets in turn. \n",
    "\n",
    "The random selection of the $k$ subsets can itself be repeated to generate multiple $k$ fold splits, thus avoiding over dependence on one particular random split.\n",
    "\n",
    "To use these methods efficiently in Python, we first discuss the structure of models in the machine learning library Scikit-Learn. Then we illustrate some of the cross validation capabilities in the library."
   ]
  },
  {
   "cell_type": "markdown",
   "metadata": {},
   "source": [
    "<h1 style=\"color:blue;\">Topic 3: Introduction to Machine Learning</h1> \n",
    "\n",
    "## 3a: Model building with Scikit-Learn Package (as opposed to statsmodels package)\n",
    "\n",
    "#### Regularized Logistic Regression is a type of machine learning algorithm. In order to build a *regularized* logistic regression model, we need to use a different Python package.\n",
    "\n",
    "#### Libraries and modules\n",
    "\n",
    "    pandas, numpy\n",
    "    matplotlib.pyplot\n",
    "    seaborn\n",
    "        heatmap\n",
    "    scipy.stats\n",
    "        norm, bernoulli\n",
    "    sklearn.linear_model\n",
    "        LogisticRegression\n",
    "    sklearn.model_selection\n",
    "        train_test_split\n",
    "    sklearn.metrics\n",
    "        confusion_matrix\n",
    "        roc_curve, roc_auc_score\n",
    "        cross_val_score\n",
    "    "
   ]
  },
  {
   "cell_type": "markdown",
   "metadata": {},
   "source": [
    "#### What is the difference in the type of data that <u>statsmodel package</u> uses vs. the type of data that <u>scikit-learn package</u>  uses?\n",
    "<br/>\n",
    "<br/>\n",
    "<br/>\n",
    "<br/>\n",
    "<br/>\n",
    "<br/>\n",
    "<br/>\n",
    "<br/>\n",
    "<br/>\n",
    "<br/>\n",
    "<br/>\n",
    "<br/>"
   ]
  },
  {
   "cell_type": "markdown",
   "metadata": {},
   "source": [
    "Unlike the statsmodels API, which is formula based and operates on pandas data frames, the machine learning functions in the Scikit-Learn expect data to be encoded as numerical matrices. \n",
    "\n",
    "## Machine Learning Definitions: Two Main Matrices\n",
    "\n",
    "### Features Matrix\n",
    "\n",
    "<br/>\n",
    "<br/>\n",
    "<br/>\n",
    "<br/>\n",
    "<br/>\n",
    "<br/>\n",
    "<br/>\n",
    "<br/>\n",
    "<br/>\n",
    "<br/>\n",
    "<br/>\n",
    "<br/>\n",
    "<br/>\n",
    "<br/>\n",
    "\n",
    "The **features matrix $X$** is an array with $n$ rows of observations and $p$ columns of features (explanatory variables);\n",
    "\n",
    "We can think of the features matrix as a data frame containing only explanatory variables. Sci-kit learn modules generally expect $X$ to contain only numerical columns. Therefore it provides preprocessing functions to\n",
    "\n",
    "+ Convert categorical and boolean data into numerically coded columns (e.g. 0/1 indicator columns)\n",
    "\n",
    "\n",
    "+ Add a column of 1s for the intercept if desired (fit_intercept=True -- in sklearn.linear_model)\n",
    "\n",
    "\n",
    "\n",
    "\n",
    "\n",
    "### Target Array\n",
    "\n",
    "<br/>\n",
    "<br/>\n",
    "<br/>\n",
    "<br/>\n",
    "<br/>\n",
    "<br/>\n",
    "<br/>\n",
    "<br/>\n",
    "<br/>\n",
    "<br/>\n",
    "<br/>\n",
    "<br/>\n",
    "<br/>\n",
    "<br/>\n",
    "\n",
    "The **target array** $y$ is an array with elements that serve as \"labels\" for the $n$ observations.\n",
    "\n",
    "\n",
    "**Target array $y$:** This is our array of labels, i.e., response data that will be used to train the model. It may be categorical (0/1) as in classification problems and logistic regression, or have continuous numerical values as in linear regression.\n",
    "\n",
    "### How to convert columns from a dataframe to a features matrix X and a target array y?\n",
    "\n",
    "Given a data frame containing both X and y data, we'll need to extract these two arrays from the data frame. We'll see a simple way to do this using Pandas."
   ]
  },
  {
   "cell_type": "markdown",
   "metadata": {},
   "source": [
    "## 3b: Two Main Types of Machine Learning\n",
    "\n",
    "#### What is the main difference between <u>supervised learning</u> vs. <u>unsupervised learning</u>?\n",
    "\n",
    "<br/>\n",
    "<br/>\n",
    "<br/>\n",
    "<br/>\n",
    "<br/>\n",
    "<br/>\n",
    "<br/>\n",
    "<br/>\n",
    "<br/>\n",
    "<br/>\n",
    "<br/>\n",
    "<br/>\n",
    "<br/>\n",
    "<br/>\n",
    "\n",
    "### **Supervised learning**:\n",
    "\n",
    "#### Nature of the Data You Have with Supervised Learning\n",
    "\n",
    "<br/>\n",
    "<br/>\n",
    "<br/>\n",
    "<br/>\n",
    "<br/>\n",
    "<br/>\n",
    "\n",
    "When we have a target array $y$, its elements **label** the corresponding rows of $X$. \n",
    "\n",
    "#### Types of Supervised Learning Labels\n",
    "\n",
    "The two main types of labels are:\n",
    "\n",
    "1. **Categorical (0/1) labels:** these correspond to **classification problems**, where the labels are said to **supervise** the modeling of how information in $X$ can be used for training the classifier.\n",
    "\n",
    "<br/>\n",
    "<br/>\n",
    "<br/>\n",
    "<br/>\n",
    "<br/>\n",
    "<br/>\n",
    "<br/>\n",
    "\n",
    "2. **Continuous numerical labels:** these correspond to **predictive regression problems** such as linear regresssion or regularized regresssion, where the goal is to predict numerical responses. The numerical $y$ labels **supervise** training of the regression model, e.g., by minimizing and ordinary or penalized least squares criterion.\n",
    "\n",
    "<br/>\n",
    "<br/>\n",
    "<br/>\n",
    "<br/>\n",
    "<br/>\n",
    "<br/>\n",
    "<br/>\n",
    "\n",
    "#### General Goal of Supervised Learning\n",
    "\n",
    "<br/>\n",
    "<br/>\n",
    "<br/>\n",
    "<br/>\n",
    "<br/>\n",
    "<br/>\n",
    "<br/>"
   ]
  },
  {
   "cell_type": "markdown",
   "metadata": {},
   "source": [
    "### Unsupervised learning\n",
    "\n",
    "#### Nature of the Data You Have with Unsupervised Learning\n",
    "<br/>\n",
    "<br/>\n",
    "<br/>\n",
    "<br/>\n",
    "<br/>\n",
    "<br/>\n",
    "<br/>\n",
    "\n",
    "#### General Goal of Unsupervised Learning\n",
    "<br/>\n",
    "<br/>\n",
    "<br/>\n",
    "<br/>\n",
    "<br/>\n",
    "<br/>\n",
    "<br/>\n",
    "\n",
    "#### Common Types of Unsupervised Learning Algorithms\n",
    "<br/>\n",
    "<br/>\n",
    "<br/>\n",
    "<br/>\n",
    "<br/>\n",
    "<br/>\n",
    "<br/>\n",
    "<br/>\n",
    "<br/>\n",
    "<br/>\n",
    "<br/>\n",
    "<br/>\n",
    "<br/>\n",
    "<br/>\n",
    "<br/>\n",
    "<br/>\n",
    "<br/>\n",
    "<br/>\n",
    "<br/>\n",
    "<br/>\n",
    "<br/>\n",
    "\n",
    "\n",
    "If we have unlabeled data, so $y$ is not available, we can no longer classify the rows of $X$, however, it is often of interest to detect **clusters** of samples in $X$ based on some assumptions about how subpopulations might separate. Applications include $k$-means clustering and mixtures of Gaussian distributions."
   ]
  },
  {
   "cell_type": "markdown",
   "metadata": {},
   "source": [
    "## 3c: General Modeling steps in the modeling/machine learning process\n",
    "This section focuses on supervised model building, and, at the end, generalizing train/test methods to k-fold cross-validation.\n",
    "\n",
    "Scikit-Learn are designed to faciliate a regular sequence of modeling steps:\n",
    "\n",
    "#### <u>Step 1</u>: Choose the model class for the problem and import the Scikit-Learn estimator class\n",
    "\n",
    "<br/>\n",
    "<br/>\n",
    "<br/>\n",
    "<br/>\n",
    "<br/>\n",
    "<br/>\n",
    "\n",
    "\n",
    "#### <u>Step 2</u>: Choose model hyperparameters to create an instance of the class (more later)\n",
    "\n",
    "\n",
    "<br/>\n",
    "<br/>\n",
    "<br/>\n",
    "<br/>\n",
    "<br/>\n",
    "<br/>\n",
    "\n",
    "#### <u>Step 3</u>: Organize data into the features matrix $X$ and target array $y$\n",
    "\n",
    "<br/>\n",
    "<br/>\n",
    "<br/>\n",
    "<br/>\n",
    "<br/>\n",
    "<br/>\n",
    "\n",
    "#### <u>Step 4</u>: Train the model using the .fit() method\n",
    "\n",
    "\n",
    "<br/>\n",
    "<br/>\n",
    "<br/>\n",
    "<br/>\n",
    "<br/>\n",
    "<br/>\n",
    "\n",
    "#### <u>Step 5</u>: Test the model on new or test data using the .predict() method\n",
    "\n",
    "<br/>\n",
    "<br/>\n",
    "<br/>\n",
    "<br/>\n",
    "<br/>\n",
    "<br/>\n",
    "\n",
    "#### <u>Step 6</u>:Compute performance metrics, e.g., using the .score( ) method\n",
    "\n",
    "<br/>\n",
    "<br/>\n",
    "<br/>\n",
    "<br/>\n",
    "<br/>\n",
    "<br/>\n",
    "For extensive further discussion, see VanDerPlas, Chapter 5. We cover the basics with some examples here."
   ]
  },
  {
   "cell_type": "markdown",
   "metadata": {},
   "source": [
    "<h1 style=\"color:blue;\">Topic 4: Descriptive Analytics for Datasets with a Large Amount of Explanatory Variables (ie. High Dimensional Datasets)</h1> \n",
    "\n",
    "## Data Simulation Generation: with 20 features (explanatory variables) and binary target (response variable)"
   ]
  },
  {
   "cell_type": "markdown",
   "metadata": {},
   "source": [
    "Import the necessary functions."
   ]
  },
  {
   "cell_type": "code",
   "execution_count": 7,
   "metadata": {},
   "outputs": [],
   "source": [
    "import numpy as np\n",
    "import pandas as pd\n",
    "from scipy.stats import norm, bernoulli"
   ]
  },
  {
   "cell_type": "markdown",
   "metadata": {},
   "source": [
    "#### Generate our simulated data:"
   ]
  },
  {
   "cell_type": "code",
   "execution_count": 8,
   "metadata": {},
   "outputs": [
    {
     "data": {
      "text/plain": [
       "(200, 20)"
      ]
     },
     "metadata": {},
     "output_type": "display_data"
    },
    {
     "data": {
      "text/plain": [
       "(200,)"
      ]
     },
     "metadata": {},
     "output_type": "display_data"
    }
   ],
   "source": [
    "## make a coefficient vector for logit model\n",
    "b0 = -1  # intercept\n",
    "bvec = np.repeat([1,-1,0], [5, 5, 10])  # feature coefficients\n",
    "n = 200\n",
    "nX = bvec.size\n",
    "\n",
    "Xmat = norm.rvs(size=n*nX, random_state=1).reshape((n, nX))\n",
    "# Generate X and add the column names\n",
    "##X = pd.DataFrame(\n",
    "##    norm.rvs(size=n*nX, random_state=1).reshape((n, nX)), \n",
    "##    columns=Xnames)\n",
    "# Now generate the target array using X and the coefficient vector\n",
    "odds = np.exp(b0 + np.matmul(Xmat, bvec)) # use matrix multiplication\n",
    "gen_y = bernoulli.rvs(p=odds/(1+odds), size=n, random_state=12347)\n",
    "# load X into data frame with names\n",
    "Xnames = []\n",
    "for i in range(nX):\n",
    "    list.append(Xnames, 'X'+str(i+1))\n",
    "gen_X = pd.DataFrame(Xmat, columns=Xnames)\n",
    "display(gen_X.shape, gen_y.shape)"
   ]
  },
  {
   "cell_type": "markdown",
   "metadata": {},
   "source": [
    "#### Dataframe version of our Feature Matrix"
   ]
  },
  {
   "cell_type": "code",
   "execution_count": 9,
   "metadata": {},
   "outputs": [
    {
     "data": {
      "text/html": [
       "<div>\n",
       "<style scoped>\n",
       "    .dataframe tbody tr th:only-of-type {\n",
       "        vertical-align: middle;\n",
       "    }\n",
       "\n",
       "    .dataframe tbody tr th {\n",
       "        vertical-align: top;\n",
       "    }\n",
       "\n",
       "    .dataframe thead th {\n",
       "        text-align: right;\n",
       "    }\n",
       "</style>\n",
       "<table border=\"1\" class=\"dataframe\">\n",
       "  <thead>\n",
       "    <tr style=\"text-align: right;\">\n",
       "      <th></th>\n",
       "      <th>X1</th>\n",
       "      <th>X2</th>\n",
       "      <th>X3</th>\n",
       "      <th>X4</th>\n",
       "      <th>X5</th>\n",
       "      <th>X6</th>\n",
       "      <th>X7</th>\n",
       "      <th>X8</th>\n",
       "      <th>X9</th>\n",
       "      <th>X10</th>\n",
       "      <th>X11</th>\n",
       "      <th>X12</th>\n",
       "      <th>X13</th>\n",
       "      <th>X14</th>\n",
       "      <th>X15</th>\n",
       "      <th>X16</th>\n",
       "      <th>X17</th>\n",
       "      <th>X18</th>\n",
       "      <th>X19</th>\n",
       "      <th>X20</th>\n",
       "    </tr>\n",
       "  </thead>\n",
       "  <tbody>\n",
       "    <tr>\n",
       "      <th>0</th>\n",
       "      <td>1.624345</td>\n",
       "      <td>-0.611756</td>\n",
       "      <td>-0.528172</td>\n",
       "      <td>-1.072969</td>\n",
       "      <td>0.865408</td>\n",
       "      <td>-2.301539</td>\n",
       "      <td>1.744812</td>\n",
       "      <td>-0.761207</td>\n",
       "      <td>0.319039</td>\n",
       "      <td>-0.249370</td>\n",
       "      <td>1.462108</td>\n",
       "      <td>-2.060141</td>\n",
       "      <td>-0.322417</td>\n",
       "      <td>-0.384054</td>\n",
       "      <td>1.133769</td>\n",
       "      <td>-1.099891</td>\n",
       "      <td>-0.172428</td>\n",
       "      <td>-0.877858</td>\n",
       "      <td>0.042214</td>\n",
       "      <td>0.582815</td>\n",
       "    </tr>\n",
       "    <tr>\n",
       "      <th>1</th>\n",
       "      <td>-1.100619</td>\n",
       "      <td>1.144724</td>\n",
       "      <td>0.901591</td>\n",
       "      <td>0.502494</td>\n",
       "      <td>0.900856</td>\n",
       "      <td>-0.683728</td>\n",
       "      <td>-0.122890</td>\n",
       "      <td>-0.935769</td>\n",
       "      <td>-0.267888</td>\n",
       "      <td>0.530355</td>\n",
       "      <td>-0.691661</td>\n",
       "      <td>-0.396754</td>\n",
       "      <td>-0.687173</td>\n",
       "      <td>-0.845206</td>\n",
       "      <td>-0.671246</td>\n",
       "      <td>-0.012665</td>\n",
       "      <td>-1.117310</td>\n",
       "      <td>0.234416</td>\n",
       "      <td>1.659802</td>\n",
       "      <td>0.742044</td>\n",
       "    </tr>\n",
       "    <tr>\n",
       "      <th>2</th>\n",
       "      <td>-0.191836</td>\n",
       "      <td>-0.887629</td>\n",
       "      <td>-0.747158</td>\n",
       "      <td>1.692455</td>\n",
       "      <td>0.050808</td>\n",
       "      <td>-0.636996</td>\n",
       "      <td>0.190915</td>\n",
       "      <td>2.100255</td>\n",
       "      <td>0.120159</td>\n",
       "      <td>0.617203</td>\n",
       "      <td>0.300170</td>\n",
       "      <td>-0.352250</td>\n",
       "      <td>-1.142518</td>\n",
       "      <td>-0.349343</td>\n",
       "      <td>-0.208894</td>\n",
       "      <td>0.586623</td>\n",
       "      <td>0.838983</td>\n",
       "      <td>0.931102</td>\n",
       "      <td>0.285587</td>\n",
       "      <td>0.885141</td>\n",
       "    </tr>\n",
       "    <tr>\n",
       "      <th>3</th>\n",
       "      <td>-0.754398</td>\n",
       "      <td>1.252868</td>\n",
       "      <td>0.512930</td>\n",
       "      <td>-0.298093</td>\n",
       "      <td>0.488518</td>\n",
       "      <td>-0.075572</td>\n",
       "      <td>1.131629</td>\n",
       "      <td>1.519817</td>\n",
       "      <td>2.185575</td>\n",
       "      <td>-1.396496</td>\n",
       "      <td>-1.444114</td>\n",
       "      <td>-0.504466</td>\n",
       "      <td>0.160037</td>\n",
       "      <td>0.876169</td>\n",
       "      <td>0.315635</td>\n",
       "      <td>-2.022201</td>\n",
       "      <td>-0.306204</td>\n",
       "      <td>0.827975</td>\n",
       "      <td>0.230095</td>\n",
       "      <td>0.762011</td>\n",
       "    </tr>\n",
       "    <tr>\n",
       "      <th>4</th>\n",
       "      <td>-0.222328</td>\n",
       "      <td>-0.200758</td>\n",
       "      <td>0.186561</td>\n",
       "      <td>0.410052</td>\n",
       "      <td>0.198300</td>\n",
       "      <td>0.119009</td>\n",
       "      <td>-0.670662</td>\n",
       "      <td>0.377564</td>\n",
       "      <td>0.121821</td>\n",
       "      <td>1.129484</td>\n",
       "      <td>1.198918</td>\n",
       "      <td>0.185156</td>\n",
       "      <td>-0.375285</td>\n",
       "      <td>-0.638730</td>\n",
       "      <td>0.423494</td>\n",
       "      <td>0.077340</td>\n",
       "      <td>-0.343854</td>\n",
       "      <td>0.043597</td>\n",
       "      <td>-0.620001</td>\n",
       "      <td>0.698032</td>\n",
       "    </tr>\n",
       "    <tr>\n",
       "      <th>...</th>\n",
       "      <td>...</td>\n",
       "      <td>...</td>\n",
       "      <td>...</td>\n",
       "      <td>...</td>\n",
       "      <td>...</td>\n",
       "      <td>...</td>\n",
       "      <td>...</td>\n",
       "      <td>...</td>\n",
       "      <td>...</td>\n",
       "      <td>...</td>\n",
       "      <td>...</td>\n",
       "      <td>...</td>\n",
       "      <td>...</td>\n",
       "      <td>...</td>\n",
       "      <td>...</td>\n",
       "      <td>...</td>\n",
       "      <td>...</td>\n",
       "      <td>...</td>\n",
       "      <td>...</td>\n",
       "      <td>...</td>\n",
       "    </tr>\n",
       "    <tr>\n",
       "      <th>195</th>\n",
       "      <td>0.298112</td>\n",
       "      <td>-0.132637</td>\n",
       "      <td>-2.251077</td>\n",
       "      <td>2.893593</td>\n",
       "      <td>2.742155</td>\n",
       "      <td>-0.510218</td>\n",
       "      <td>0.833351</td>\n",
       "      <td>0.088922</td>\n",
       "      <td>0.253389</td>\n",
       "      <td>0.343292</td>\n",
       "      <td>1.073503</td>\n",
       "      <td>-0.669049</td>\n",
       "      <td>0.715354</td>\n",
       "      <td>0.707662</td>\n",
       "      <td>-2.548717</td>\n",
       "      <td>1.468340</td>\n",
       "      <td>0.657419</td>\n",
       "      <td>-0.582217</td>\n",
       "      <td>0.047880</td>\n",
       "      <td>0.512468</td>\n",
       "    </tr>\n",
       "    <tr>\n",
       "      <th>196</th>\n",
       "      <td>-0.284319</td>\n",
       "      <td>0.525410</td>\n",
       "      <td>-2.050876</td>\n",
       "      <td>0.211909</td>\n",
       "      <td>1.110508</td>\n",
       "      <td>0.751354</td>\n",
       "      <td>0.217867</td>\n",
       "      <td>-0.780517</td>\n",
       "      <td>0.070358</td>\n",
       "      <td>-1.186303</td>\n",
       "      <td>0.120607</td>\n",
       "      <td>-0.174415</td>\n",
       "      <td>0.499442</td>\n",
       "      <td>1.388842</td>\n",
       "      <td>0.850542</td>\n",
       "      <td>-0.831536</td>\n",
       "      <td>-0.967498</td>\n",
       "      <td>-0.865728</td>\n",
       "      <td>-0.870450</td>\n",
       "      <td>-1.038534</td>\n",
       "    </tr>\n",
       "    <tr>\n",
       "      <th>197</th>\n",
       "      <td>1.991515</td>\n",
       "      <td>1.299629</td>\n",
       "      <td>-0.592073</td>\n",
       "      <td>0.049659</td>\n",
       "      <td>2.478005</td>\n",
       "      <td>-1.778695</td>\n",
       "      <td>0.395753</td>\n",
       "      <td>2.003272</td>\n",
       "      <td>0.148823</td>\n",
       "      <td>-0.551342</td>\n",
       "      <td>1.269868</td>\n",
       "      <td>2.260748</td>\n",
       "      <td>-0.182916</td>\n",
       "      <td>1.193456</td>\n",
       "      <td>-0.959332</td>\n",
       "      <td>0.263967</td>\n",
       "      <td>0.639034</td>\n",
       "      <td>-0.451651</td>\n",
       "      <td>-0.529731</td>\n",
       "      <td>0.632917</td>\n",
       "    </tr>\n",
       "    <tr>\n",
       "      <th>198</th>\n",
       "      <td>0.874996</td>\n",
       "      <td>-1.049369</td>\n",
       "      <td>-0.607352</td>\n",
       "      <td>0.418138</td>\n",
       "      <td>-1.541780</td>\n",
       "      <td>-1.025194</td>\n",
       "      <td>0.325975</td>\n",
       "      <td>0.805144</td>\n",
       "      <td>0.273739</td>\n",
       "      <td>-0.075940</td>\n",
       "      <td>1.682478</td>\n",
       "      <td>0.202187</td>\n",
       "      <td>-0.527962</td>\n",
       "      <td>-2.071264</td>\n",
       "      <td>0.526165</td>\n",
       "      <td>-0.450283</td>\n",
       "      <td>-0.348754</td>\n",
       "      <td>-0.105619</td>\n",
       "      <td>-0.861735</td>\n",
       "      <td>0.473136</td>\n",
       "    </tr>\n",
       "    <tr>\n",
       "      <th>199</th>\n",
       "      <td>-0.138881</td>\n",
       "      <td>2.652140</td>\n",
       "      <td>-0.656247</td>\n",
       "      <td>0.279562</td>\n",
       "      <td>-0.607715</td>\n",
       "      <td>0.729814</td>\n",
       "      <td>-0.887188</td>\n",
       "      <td>0.077327</td>\n",
       "      <td>0.073416</td>\n",
       "      <td>0.416026</td>\n",
       "      <td>-1.879200</td>\n",
       "      <td>0.575459</td>\n",
       "      <td>0.102062</td>\n",
       "      <td>1.184304</td>\n",
       "      <td>-0.794843</td>\n",
       "      <td>-0.125903</td>\n",
       "      <td>-0.960346</td>\n",
       "      <td>-0.843913</td>\n",
       "      <td>0.628342</td>\n",
       "      <td>0.537214</td>\n",
       "    </tr>\n",
       "  </tbody>\n",
       "</table>\n",
       "<p>200 rows × 20 columns</p>\n",
       "</div>"
      ],
      "text/plain": [
       "           X1        X2        X3        X4        X5        X6        X7  \\\n",
       "0    1.624345 -0.611756 -0.528172 -1.072969  0.865408 -2.301539  1.744812   \n",
       "1   -1.100619  1.144724  0.901591  0.502494  0.900856 -0.683728 -0.122890   \n",
       "2   -0.191836 -0.887629 -0.747158  1.692455  0.050808 -0.636996  0.190915   \n",
       "3   -0.754398  1.252868  0.512930 -0.298093  0.488518 -0.075572  1.131629   \n",
       "4   -0.222328 -0.200758  0.186561  0.410052  0.198300  0.119009 -0.670662   \n",
       "..        ...       ...       ...       ...       ...       ...       ...   \n",
       "195  0.298112 -0.132637 -2.251077  2.893593  2.742155 -0.510218  0.833351   \n",
       "196 -0.284319  0.525410 -2.050876  0.211909  1.110508  0.751354  0.217867   \n",
       "197  1.991515  1.299629 -0.592073  0.049659  2.478005 -1.778695  0.395753   \n",
       "198  0.874996 -1.049369 -0.607352  0.418138 -1.541780 -1.025194  0.325975   \n",
       "199 -0.138881  2.652140 -0.656247  0.279562 -0.607715  0.729814 -0.887188   \n",
       "\n",
       "           X8        X9       X10       X11       X12       X13       X14  \\\n",
       "0   -0.761207  0.319039 -0.249370  1.462108 -2.060141 -0.322417 -0.384054   \n",
       "1   -0.935769 -0.267888  0.530355 -0.691661 -0.396754 -0.687173 -0.845206   \n",
       "2    2.100255  0.120159  0.617203  0.300170 -0.352250 -1.142518 -0.349343   \n",
       "3    1.519817  2.185575 -1.396496 -1.444114 -0.504466  0.160037  0.876169   \n",
       "4    0.377564  0.121821  1.129484  1.198918  0.185156 -0.375285 -0.638730   \n",
       "..        ...       ...       ...       ...       ...       ...       ...   \n",
       "195  0.088922  0.253389  0.343292  1.073503 -0.669049  0.715354  0.707662   \n",
       "196 -0.780517  0.070358 -1.186303  0.120607 -0.174415  0.499442  1.388842   \n",
       "197  2.003272  0.148823 -0.551342  1.269868  2.260748 -0.182916  1.193456   \n",
       "198  0.805144  0.273739 -0.075940  1.682478  0.202187 -0.527962 -2.071264   \n",
       "199  0.077327  0.073416  0.416026 -1.879200  0.575459  0.102062  1.184304   \n",
       "\n",
       "          X15       X16       X17       X18       X19       X20  \n",
       "0    1.133769 -1.099891 -0.172428 -0.877858  0.042214  0.582815  \n",
       "1   -0.671246 -0.012665 -1.117310  0.234416  1.659802  0.742044  \n",
       "2   -0.208894  0.586623  0.838983  0.931102  0.285587  0.885141  \n",
       "3    0.315635 -2.022201 -0.306204  0.827975  0.230095  0.762011  \n",
       "4    0.423494  0.077340 -0.343854  0.043597 -0.620001  0.698032  \n",
       "..        ...       ...       ...       ...       ...       ...  \n",
       "195 -2.548717  1.468340  0.657419 -0.582217  0.047880  0.512468  \n",
       "196  0.850542 -0.831536 -0.967498 -0.865728 -0.870450 -1.038534  \n",
       "197 -0.959332  0.263967  0.639034 -0.451651 -0.529731  0.632917  \n",
       "198  0.526165 -0.450283 -0.348754 -0.105619 -0.861735  0.473136  \n",
       "199 -0.794843 -0.125903 -0.960346 -0.843913  0.628342  0.537214  \n",
       "\n",
       "[200 rows x 20 columns]"
      ]
     },
     "execution_count": 9,
     "metadata": {},
     "output_type": "execute_result"
    }
   ],
   "source": [
    "gen_X"
   ]
  },
  {
   "cell_type": "markdown",
   "metadata": {},
   "source": [
    "#### Dataframe Version of our Target Array"
   ]
  },
  {
   "cell_type": "code",
   "execution_count": 10,
   "metadata": {},
   "outputs": [
    {
     "data": {
      "text/plain": [
       "array([0, 1, 0, 0, 0, 1, 0, 0, 0, 0, 1, 1, 0, 0, 0, 0, 0, 1, 0, 1, 1, 1,\n",
       "       0, 0, 0, 0, 0, 0, 0, 0, 0, 0, 1, 0, 0, 1, 0, 0, 1, 1, 0, 0, 0, 0,\n",
       "       0, 0, 1, 1, 0, 0, 0, 0, 0, 0, 1, 0, 0, 0, 0, 0, 0, 0, 0, 1, 0, 1,\n",
       "       1, 1, 0, 0, 1, 0, 0, 0, 1, 1, 1, 1, 1, 0, 0, 0, 1, 0, 0, 0, 0, 0,\n",
       "       1, 1, 0, 0, 0, 1, 0, 0, 1, 0, 0, 1, 0, 0, 0, 0, 1, 1, 0, 0, 1, 1,\n",
       "       0, 0, 0, 1, 1, 0, 0, 0, 0, 1, 1, 0, 1, 0, 0, 0, 1, 1, 0, 0, 0, 0,\n",
       "       0, 1, 0, 0, 1, 1, 1, 0, 1, 1, 0, 1, 1, 0, 0, 0, 0, 0, 1, 0, 0, 0,\n",
       "       1, 1, 1, 0, 1, 0, 0, 0, 0, 1, 0, 0, 0, 0, 1, 1, 0, 0, 0, 0, 0, 0,\n",
       "       0, 0, 0, 0, 0, 0, 0, 1, 1, 1, 1, 0, 1, 0, 1, 0, 1, 0, 1, 1, 0, 1,\n",
       "       1, 1])"
      ]
     },
     "execution_count": 10,
     "metadata": {},
     "output_type": "execute_result"
    }
   ],
   "source": [
    "gen_y"
   ]
  },
  {
   "cell_type": "markdown",
   "metadata": {},
   "source": [
    "#### Put it all together in df"
   ]
  },
  {
   "cell_type": "markdown",
   "metadata": {},
   "source": [
    "Bundle into a data frame for the purpose of this example. Then we demonstrate how to extract the features matrix X and target y from a data frame in general, for any data set."
   ]
  },
  {
   "cell_type": "code",
   "execution_count": 11,
   "metadata": {},
   "outputs": [
    {
     "data": {
      "text/html": [
       "<div>\n",
       "<style scoped>\n",
       "    .dataframe tbody tr th:only-of-type {\n",
       "        vertical-align: middle;\n",
       "    }\n",
       "\n",
       "    .dataframe tbody tr th {\n",
       "        vertical-align: top;\n",
       "    }\n",
       "\n",
       "    .dataframe thead th {\n",
       "        text-align: right;\n",
       "    }\n",
       "</style>\n",
       "<table border=\"1\" class=\"dataframe\">\n",
       "  <thead>\n",
       "    <tr style=\"text-align: right;\">\n",
       "      <th></th>\n",
       "      <th>X1</th>\n",
       "      <th>X2</th>\n",
       "      <th>X3</th>\n",
       "      <th>X4</th>\n",
       "      <th>X5</th>\n",
       "      <th>X6</th>\n",
       "      <th>X7</th>\n",
       "      <th>X8</th>\n",
       "      <th>X9</th>\n",
       "      <th>X10</th>\n",
       "      <th>...</th>\n",
       "      <th>X12</th>\n",
       "      <th>X13</th>\n",
       "      <th>X14</th>\n",
       "      <th>X15</th>\n",
       "      <th>X16</th>\n",
       "      <th>X17</th>\n",
       "      <th>X18</th>\n",
       "      <th>X19</th>\n",
       "      <th>X20</th>\n",
       "      <th>y</th>\n",
       "    </tr>\n",
       "  </thead>\n",
       "  <tbody>\n",
       "    <tr>\n",
       "      <th>0</th>\n",
       "      <td>1.624345</td>\n",
       "      <td>-0.611756</td>\n",
       "      <td>-0.528172</td>\n",
       "      <td>-1.072969</td>\n",
       "      <td>0.865408</td>\n",
       "      <td>-2.301539</td>\n",
       "      <td>1.744812</td>\n",
       "      <td>-0.761207</td>\n",
       "      <td>0.319039</td>\n",
       "      <td>-0.249370</td>\n",
       "      <td>...</td>\n",
       "      <td>-2.060141</td>\n",
       "      <td>-0.322417</td>\n",
       "      <td>-0.384054</td>\n",
       "      <td>1.133769</td>\n",
       "      <td>-1.099891</td>\n",
       "      <td>-0.172428</td>\n",
       "      <td>-0.877858</td>\n",
       "      <td>0.042214</td>\n",
       "      <td>0.582815</td>\n",
       "      <td>0</td>\n",
       "    </tr>\n",
       "    <tr>\n",
       "      <th>1</th>\n",
       "      <td>-1.100619</td>\n",
       "      <td>1.144724</td>\n",
       "      <td>0.901591</td>\n",
       "      <td>0.502494</td>\n",
       "      <td>0.900856</td>\n",
       "      <td>-0.683728</td>\n",
       "      <td>-0.122890</td>\n",
       "      <td>-0.935769</td>\n",
       "      <td>-0.267888</td>\n",
       "      <td>0.530355</td>\n",
       "      <td>...</td>\n",
       "      <td>-0.396754</td>\n",
       "      <td>-0.687173</td>\n",
       "      <td>-0.845206</td>\n",
       "      <td>-0.671246</td>\n",
       "      <td>-0.012665</td>\n",
       "      <td>-1.117310</td>\n",
       "      <td>0.234416</td>\n",
       "      <td>1.659802</td>\n",
       "      <td>0.742044</td>\n",
       "      <td>1</td>\n",
       "    </tr>\n",
       "    <tr>\n",
       "      <th>2</th>\n",
       "      <td>-0.191836</td>\n",
       "      <td>-0.887629</td>\n",
       "      <td>-0.747158</td>\n",
       "      <td>1.692455</td>\n",
       "      <td>0.050808</td>\n",
       "      <td>-0.636996</td>\n",
       "      <td>0.190915</td>\n",
       "      <td>2.100255</td>\n",
       "      <td>0.120159</td>\n",
       "      <td>0.617203</td>\n",
       "      <td>...</td>\n",
       "      <td>-0.352250</td>\n",
       "      <td>-1.142518</td>\n",
       "      <td>-0.349343</td>\n",
       "      <td>-0.208894</td>\n",
       "      <td>0.586623</td>\n",
       "      <td>0.838983</td>\n",
       "      <td>0.931102</td>\n",
       "      <td>0.285587</td>\n",
       "      <td>0.885141</td>\n",
       "      <td>0</td>\n",
       "    </tr>\n",
       "    <tr>\n",
       "      <th>3</th>\n",
       "      <td>-0.754398</td>\n",
       "      <td>1.252868</td>\n",
       "      <td>0.512930</td>\n",
       "      <td>-0.298093</td>\n",
       "      <td>0.488518</td>\n",
       "      <td>-0.075572</td>\n",
       "      <td>1.131629</td>\n",
       "      <td>1.519817</td>\n",
       "      <td>2.185575</td>\n",
       "      <td>-1.396496</td>\n",
       "      <td>...</td>\n",
       "      <td>-0.504466</td>\n",
       "      <td>0.160037</td>\n",
       "      <td>0.876169</td>\n",
       "      <td>0.315635</td>\n",
       "      <td>-2.022201</td>\n",
       "      <td>-0.306204</td>\n",
       "      <td>0.827975</td>\n",
       "      <td>0.230095</td>\n",
       "      <td>0.762011</td>\n",
       "      <td>0</td>\n",
       "    </tr>\n",
       "    <tr>\n",
       "      <th>4</th>\n",
       "      <td>-0.222328</td>\n",
       "      <td>-0.200758</td>\n",
       "      <td>0.186561</td>\n",
       "      <td>0.410052</td>\n",
       "      <td>0.198300</td>\n",
       "      <td>0.119009</td>\n",
       "      <td>-0.670662</td>\n",
       "      <td>0.377564</td>\n",
       "      <td>0.121821</td>\n",
       "      <td>1.129484</td>\n",
       "      <td>...</td>\n",
       "      <td>0.185156</td>\n",
       "      <td>-0.375285</td>\n",
       "      <td>-0.638730</td>\n",
       "      <td>0.423494</td>\n",
       "      <td>0.077340</td>\n",
       "      <td>-0.343854</td>\n",
       "      <td>0.043597</td>\n",
       "      <td>-0.620001</td>\n",
       "      <td>0.698032</td>\n",
       "      <td>0</td>\n",
       "    </tr>\n",
       "  </tbody>\n",
       "</table>\n",
       "<p>5 rows × 21 columns</p>\n",
       "</div>"
      ],
      "text/plain": [
       "         X1        X2        X3        X4        X5        X6        X7  \\\n",
       "0  1.624345 -0.611756 -0.528172 -1.072969  0.865408 -2.301539  1.744812   \n",
       "1 -1.100619  1.144724  0.901591  0.502494  0.900856 -0.683728 -0.122890   \n",
       "2 -0.191836 -0.887629 -0.747158  1.692455  0.050808 -0.636996  0.190915   \n",
       "3 -0.754398  1.252868  0.512930 -0.298093  0.488518 -0.075572  1.131629   \n",
       "4 -0.222328 -0.200758  0.186561  0.410052  0.198300  0.119009 -0.670662   \n",
       "\n",
       "         X8        X9       X10  ...       X12       X13       X14       X15  \\\n",
       "0 -0.761207  0.319039 -0.249370  ... -2.060141 -0.322417 -0.384054  1.133769   \n",
       "1 -0.935769 -0.267888  0.530355  ... -0.396754 -0.687173 -0.845206 -0.671246   \n",
       "2  2.100255  0.120159  0.617203  ... -0.352250 -1.142518 -0.349343 -0.208894   \n",
       "3  1.519817  2.185575 -1.396496  ... -0.504466  0.160037  0.876169  0.315635   \n",
       "4  0.377564  0.121821  1.129484  ...  0.185156 -0.375285 -0.638730  0.423494   \n",
       "\n",
       "        X16       X17       X18       X19       X20  y  \n",
       "0 -1.099891 -0.172428 -0.877858  0.042214  0.582815  0  \n",
       "1 -0.012665 -1.117310  0.234416  1.659802  0.742044  1  \n",
       "2  0.586623  0.838983  0.931102  0.285587  0.885141  0  \n",
       "3 -2.022201 -0.306204  0.827975  0.230095  0.762011  0  \n",
       "4  0.077340 -0.343854  0.043597 -0.620001  0.698032  0  \n",
       "\n",
       "[5 rows x 21 columns]"
      ]
     },
     "execution_count": 11,
     "metadata": {},
     "output_type": "execute_result"
    }
   ],
   "source": [
    "df = gen_X\n",
    "df['y'] = gen_y\n",
    "df.head()"
   ]
  },
  {
   "cell_type": "markdown",
   "metadata": {},
   "source": [
    "Now we have constructed our simulated data set, 'df', that we use to demonstrate the modeling methods in the rest of this section."
   ]
  },
  {
   "cell_type": "markdown",
   "metadata": {},
   "source": [
    "#### Given a data frame containing both features and target (X's and y's), how to extract X and y in a simple fashion?"
   ]
  },
  {
   "cell_type": "code",
   "execution_count": 12,
   "metadata": {},
   "outputs": [],
   "source": [
    "y = df['y']\n",
    "X = df.drop(columns='y')"
   ]
  },
  {
   "cell_type": "code",
   "execution_count": 13,
   "metadata": {},
   "outputs": [
    {
     "data": {
      "text/html": [
       "<div>\n",
       "<style scoped>\n",
       "    .dataframe tbody tr th:only-of-type {\n",
       "        vertical-align: middle;\n",
       "    }\n",
       "\n",
       "    .dataframe tbody tr th {\n",
       "        vertical-align: top;\n",
       "    }\n",
       "\n",
       "    .dataframe thead th {\n",
       "        text-align: right;\n",
       "    }\n",
       "</style>\n",
       "<table border=\"1\" class=\"dataframe\">\n",
       "  <thead>\n",
       "    <tr style=\"text-align: right;\">\n",
       "      <th></th>\n",
       "      <th>X1</th>\n",
       "      <th>X2</th>\n",
       "      <th>X3</th>\n",
       "      <th>X4</th>\n",
       "      <th>X5</th>\n",
       "      <th>X6</th>\n",
       "      <th>X7</th>\n",
       "      <th>X8</th>\n",
       "      <th>X9</th>\n",
       "      <th>X10</th>\n",
       "      <th>X11</th>\n",
       "      <th>X12</th>\n",
       "      <th>X13</th>\n",
       "      <th>X14</th>\n",
       "      <th>X15</th>\n",
       "      <th>X16</th>\n",
       "      <th>X17</th>\n",
       "      <th>X18</th>\n",
       "      <th>X19</th>\n",
       "      <th>X20</th>\n",
       "    </tr>\n",
       "  </thead>\n",
       "  <tbody>\n",
       "    <tr>\n",
       "      <th>0</th>\n",
       "      <td>1.624345</td>\n",
       "      <td>-0.611756</td>\n",
       "      <td>-0.528172</td>\n",
       "      <td>-1.072969</td>\n",
       "      <td>0.865408</td>\n",
       "      <td>-2.301539</td>\n",
       "      <td>1.744812</td>\n",
       "      <td>-0.761207</td>\n",
       "      <td>0.319039</td>\n",
       "      <td>-0.249370</td>\n",
       "      <td>1.462108</td>\n",
       "      <td>-2.060141</td>\n",
       "      <td>-0.322417</td>\n",
       "      <td>-0.384054</td>\n",
       "      <td>1.133769</td>\n",
       "      <td>-1.099891</td>\n",
       "      <td>-0.172428</td>\n",
       "      <td>-0.877858</td>\n",
       "      <td>0.042214</td>\n",
       "      <td>0.582815</td>\n",
       "    </tr>\n",
       "    <tr>\n",
       "      <th>1</th>\n",
       "      <td>-1.100619</td>\n",
       "      <td>1.144724</td>\n",
       "      <td>0.901591</td>\n",
       "      <td>0.502494</td>\n",
       "      <td>0.900856</td>\n",
       "      <td>-0.683728</td>\n",
       "      <td>-0.122890</td>\n",
       "      <td>-0.935769</td>\n",
       "      <td>-0.267888</td>\n",
       "      <td>0.530355</td>\n",
       "      <td>-0.691661</td>\n",
       "      <td>-0.396754</td>\n",
       "      <td>-0.687173</td>\n",
       "      <td>-0.845206</td>\n",
       "      <td>-0.671246</td>\n",
       "      <td>-0.012665</td>\n",
       "      <td>-1.117310</td>\n",
       "      <td>0.234416</td>\n",
       "      <td>1.659802</td>\n",
       "      <td>0.742044</td>\n",
       "    </tr>\n",
       "    <tr>\n",
       "      <th>2</th>\n",
       "      <td>-0.191836</td>\n",
       "      <td>-0.887629</td>\n",
       "      <td>-0.747158</td>\n",
       "      <td>1.692455</td>\n",
       "      <td>0.050808</td>\n",
       "      <td>-0.636996</td>\n",
       "      <td>0.190915</td>\n",
       "      <td>2.100255</td>\n",
       "      <td>0.120159</td>\n",
       "      <td>0.617203</td>\n",
       "      <td>0.300170</td>\n",
       "      <td>-0.352250</td>\n",
       "      <td>-1.142518</td>\n",
       "      <td>-0.349343</td>\n",
       "      <td>-0.208894</td>\n",
       "      <td>0.586623</td>\n",
       "      <td>0.838983</td>\n",
       "      <td>0.931102</td>\n",
       "      <td>0.285587</td>\n",
       "      <td>0.885141</td>\n",
       "    </tr>\n",
       "    <tr>\n",
       "      <th>3</th>\n",
       "      <td>-0.754398</td>\n",
       "      <td>1.252868</td>\n",
       "      <td>0.512930</td>\n",
       "      <td>-0.298093</td>\n",
       "      <td>0.488518</td>\n",
       "      <td>-0.075572</td>\n",
       "      <td>1.131629</td>\n",
       "      <td>1.519817</td>\n",
       "      <td>2.185575</td>\n",
       "      <td>-1.396496</td>\n",
       "      <td>-1.444114</td>\n",
       "      <td>-0.504466</td>\n",
       "      <td>0.160037</td>\n",
       "      <td>0.876169</td>\n",
       "      <td>0.315635</td>\n",
       "      <td>-2.022201</td>\n",
       "      <td>-0.306204</td>\n",
       "      <td>0.827975</td>\n",
       "      <td>0.230095</td>\n",
       "      <td>0.762011</td>\n",
       "    </tr>\n",
       "    <tr>\n",
       "      <th>4</th>\n",
       "      <td>-0.222328</td>\n",
       "      <td>-0.200758</td>\n",
       "      <td>0.186561</td>\n",
       "      <td>0.410052</td>\n",
       "      <td>0.198300</td>\n",
       "      <td>0.119009</td>\n",
       "      <td>-0.670662</td>\n",
       "      <td>0.377564</td>\n",
       "      <td>0.121821</td>\n",
       "      <td>1.129484</td>\n",
       "      <td>1.198918</td>\n",
       "      <td>0.185156</td>\n",
       "      <td>-0.375285</td>\n",
       "      <td>-0.638730</td>\n",
       "      <td>0.423494</td>\n",
       "      <td>0.077340</td>\n",
       "      <td>-0.343854</td>\n",
       "      <td>0.043597</td>\n",
       "      <td>-0.620001</td>\n",
       "      <td>0.698032</td>\n",
       "    </tr>\n",
       "  </tbody>\n",
       "</table>\n",
       "</div>"
      ],
      "text/plain": [
       "         X1        X2        X3        X4        X5        X6        X7  \\\n",
       "0  1.624345 -0.611756 -0.528172 -1.072969  0.865408 -2.301539  1.744812   \n",
       "1 -1.100619  1.144724  0.901591  0.502494  0.900856 -0.683728 -0.122890   \n",
       "2 -0.191836 -0.887629 -0.747158  1.692455  0.050808 -0.636996  0.190915   \n",
       "3 -0.754398  1.252868  0.512930 -0.298093  0.488518 -0.075572  1.131629   \n",
       "4 -0.222328 -0.200758  0.186561  0.410052  0.198300  0.119009 -0.670662   \n",
       "\n",
       "         X8        X9       X10       X11       X12       X13       X14  \\\n",
       "0 -0.761207  0.319039 -0.249370  1.462108 -2.060141 -0.322417 -0.384054   \n",
       "1 -0.935769 -0.267888  0.530355 -0.691661 -0.396754 -0.687173 -0.845206   \n",
       "2  2.100255  0.120159  0.617203  0.300170 -0.352250 -1.142518 -0.349343   \n",
       "3  1.519817  2.185575 -1.396496 -1.444114 -0.504466  0.160037  0.876169   \n",
       "4  0.377564  0.121821  1.129484  1.198918  0.185156 -0.375285 -0.638730   \n",
       "\n",
       "        X15       X16       X17       X18       X19       X20  \n",
       "0  1.133769 -1.099891 -0.172428 -0.877858  0.042214  0.582815  \n",
       "1 -0.671246 -0.012665 -1.117310  0.234416  1.659802  0.742044  \n",
       "2 -0.208894  0.586623  0.838983  0.931102  0.285587  0.885141  \n",
       "3  0.315635 -2.022201 -0.306204  0.827975  0.230095  0.762011  \n",
       "4  0.423494  0.077340 -0.343854  0.043597 -0.620001  0.698032  "
      ]
     },
     "execution_count": 13,
     "metadata": {},
     "output_type": "execute_result"
    }
   ],
   "source": [
    "X.head()"
   ]
  },
  {
   "cell_type": "code",
   "execution_count": 14,
   "metadata": {},
   "outputs": [
    {
     "data": {
      "text/plain": [
       "0      0\n",
       "1      1\n",
       "2      0\n",
       "3      0\n",
       "4      0\n",
       "      ..\n",
       "195    1\n",
       "196    0\n",
       "197    1\n",
       "198    1\n",
       "199    1\n",
       "Name: y, Length: 200, dtype: int32"
      ]
     },
     "execution_count": 14,
     "metadata": {},
     "output_type": "execute_result"
    }
   ],
   "source": [
    "y"
   ]
  },
  {
   "cell_type": "markdown",
   "metadata": {},
   "source": [
    "### Descriptive Analytics: For each of the 20 features, which feature does the y=1 group have the higher average?\n",
    "#### Super slow way of doing this."
   ]
  },
  {
   "cell_type": "code",
   "execution_count": 15,
   "metadata": {},
   "outputs": [
    {
     "data": {
      "text/plain": [
       "(2, 20)"
      ]
     },
     "metadata": {},
     "output_type": "display_data"
    },
    {
     "data": {
      "text/plain": [
       "array([[-2.22157664e-01, -2.04966538e-01, -2.43240376e-01,\n",
       "        -3.63570421e-02, -1.93845863e-01,  9.36729581e-02,\n",
       "         2.62709812e-01,  2.13169647e-01,  2.00029658e-01,\n",
       "         4.63842261e-02,  7.77167483e-02, -6.72668629e-02,\n",
       "         4.06244529e-04,  9.16813708e-02,  9.95053160e-02,\n",
       "        -6.73780626e-02,  9.83761988e-02, -9.47603953e-02,\n",
       "        -6.94209204e-02,  4.91980066e-02],\n",
       "       [ 2.25164206e-01,  2.82792473e-01,  2.80512385e-01,\n",
       "         4.03376804e-01,  1.78792096e-01, -4.00832721e-01,\n",
       "        -1.61412650e-01, -1.31933518e-01, -8.48852940e-02,\n",
       "        -4.39996214e-01,  7.77267095e-02,  2.42083521e-01,\n",
       "         4.56481738e-02,  2.79365255e-02, -2.91626160e-01,\n",
       "         4.88051708e-02,  3.90577553e-02, -1.18110230e-02,\n",
       "         9.25214471e-02,  1.95490706e-01]])"
      ]
     },
     "metadata": {},
     "output_type": "display_data"
    }
   ],
   "source": [
    "mean_matrix = np.array((X[y==0].mean(), X[y==1].mean()))\n",
    "display(mean_matrix.shape, mean_matrix)"
   ]
  },
  {
   "cell_type": "markdown",
   "metadata": {},
   "source": [
    "#### Less slow way of doing this."
   ]
  },
  {
   "cell_type": "code",
   "execution_count": 17,
   "metadata": {},
   "outputs": [
    {
     "data": {
      "text/plain": [
       "array([[-0.222, -0.205, -0.243, -0.036, -0.194,  0.094,  0.263,  0.213,\n",
       "         0.2  ,  0.046,  0.078, -0.067,  0.   ,  0.092,  0.1  , -0.067,\n",
       "         0.098, -0.095, -0.069,  0.049],\n",
       "       [ 0.225,  0.283,  0.281,  0.403,  0.179, -0.401, -0.161, -0.132,\n",
       "        -0.085, -0.44 ,  0.078,  0.242,  0.046,  0.028, -0.292,  0.049,\n",
       "         0.039, -0.012,  0.093,  0.195]])"
      ]
     },
     "execution_count": 17,
     "metadata": {},
     "output_type": "execute_result"
    }
   ],
   "source": [
    "np.round(mean_matrix, 3)"
   ]
  },
  {
   "cell_type": "markdown",
   "metadata": {},
   "source": [
    "#### Faster (more visually appealing) way of doing this."
   ]
  },
  {
   "cell_type": "code",
   "execution_count": 8,
   "metadata": {},
   "outputs": [],
   "source": [
    "import matplotlib.pyplot as plt\n",
    "import seaborn as sns; sns.set()"
   ]
  },
  {
   "cell_type": "code",
   "execution_count": 9,
   "metadata": {},
   "outputs": [
    {
     "data": {
      "image/png": "[encoded data removed]",
      "text/plain": [
       "<Figure size 432x288 with 2 Axes>"
      ]
     },
     "metadata": {
      "needs_background": "light"
     },
     "output_type": "display_data"
    }
   ],
   "source": [
    "fig = sns.heatmap(mean_matrix, annot=False, linewidths=0, \n",
    "            square = False, cmap = 'Blues_r');\n",
    "fig.set_ylim([0,2]);\n",
    "plt.ylabel('Group');\n",
    "plt.xlabel('Feature');\n",
    "all_sample_title = 'Feature Means by Group'\n",
    "plt.title(all_sample_title, size = 12);\n",
    "plt.show(fig)"
   ]
  },
  {
   "cell_type": "markdown",
   "metadata": {},
   "source": [
    "<br/>\n",
    "<br/>\n",
    "<br/>\n",
    "<br/>\n",
    "<br/>\n",
    "<br/>\n",
    "<br/>\n",
    "<br/>\n",
    "<br/>\n",
    "<br/>\n",
    "<br/>\n",
    "<br/>\n",
    "<br/>\n",
    "<br/>\n",
    "\n",
    "We can see that the two groups differ in their patterns of mean feature values. This is a reflection of how the different features contribute to the logit model through the coefficient vector weighting of features to generate 0/1 responses."
   ]
  },
  {
   "cell_type": "markdown",
   "metadata": {},
   "source": [
    "<h1 style=\"color:blue;\">Topic 6: Non-regularized Regression Models</h1>  \n",
    "\n",
    "### Two Main Purposes of Non-Regularized Regression Models\n",
    "\n",
    "<br/>\n",
    "<br/>\n",
    "<br/>\n",
    "<br/>\n",
    "<br/>\n",
    "<br/>\n",
    "<br/>\n",
    "<br/>\n",
    "\n",
    "### For Non-Regularized Linear or Logistic Regression, when should I use statmodels package vs. scikit-learn package?\n",
    "\n",
    "<br/>\n",
    "<br/>\n",
    "<br/>\n",
    "<br/>\n",
    "<br/>\n",
    "<br/>\n",
    "<br/>\n",
    "<br/>\n",
    "<br/>\n",
    "<br/>\n",
    "<br/>\n",
    "<br/>\n",
    "\n",
    "In previous sections we used the Statmodels formula API to fit linear and logistic regression models. The advantage of the statsmodels API is in the amount of information it provides about model parameters, standard errors and hypothesis testing. Statsmodels is the current preferred choice if our goal is to make inferences about the model parameters. \n",
    "\n",
    "As an alternative, Scikit-Learn provides machine learning tools focused on predictive analysis. The characteristics:\n",
    "\n",
    "* Integration with machine learning tools for **cross-validation**;\n",
    "\n",
    "\n",
    "* Routine implementation of **regularization** for modeling with high-dimensional feature matrices;\n",
    "\n",
    "\n",
    "* Several choices for numerical optimizers for solving regularized regression problems.\n"
   ]
  },
  {
   "cell_type": "markdown",
   "metadata": {},
   "source": [
    "<h1 style=\"color:blue;\">Topic 7: (RECAP) How do we implement a penalty for the number of featues in a non-regularized regression model? </h1>  "
   ]
  },
  {
   "cell_type": "markdown",
   "metadata": {},
   "source": [
    "\n",
    "Regularization penalties automate feature selection to some extent, as an alternative to tracking AIC or BIC. \n",
    "\n",
    "### First, let's review what we do with non-regularized logisic regression.\n",
    "\n",
    "### <u> Non-Regularized Logistic Regression</u>: Objective Function \n",
    "<br/>\n",
    "<br/>\n",
    "<br/>\n",
    "<br/>\n",
    "<br/>\n",
    "First consider \"ordinary\" **maximum likelihood estimation** for the logistic regression. We solve numerically for the coefficient estimates using a numerical optimization method such as a quasi-newton algorithm. The solver maximizes the log-likelihood, equivalently, minimizes twice the negative log likelihood:\n",
    "\n",
    "#### 1. What we do when fitting a SINGLE logistic regression model:\n",
    "<br/>\n",
    "<br/>\n",
    "<br/>\n",
    "<br/>\n",
    "<br/>\n",
    "<br/>\n",
    "<br/>\n",
    "<br/>\n",
    "<br/>\n",
    "<br/>\n",
    "\n",
    "\\begin{align*}\n",
    "\\text{Likelihood fit} & = -2* {llf} = -2*LLF(\\hat{\\beta}_0, \\hat{\\beta}_1, \\ldots, \\hat{\\beta}_p) \\\\ \\\\\n",
    "&= -2 \\sum_{i=1}^n \\{ y_i \\log(\\hat{p}_i) + (1-y_i) \\log(1-\\hat{p}_i)\\}\\\\ \\\\\n",
    "& \\ge 0.\\\\\n",
    "\\end{align*}\n"
   ]
  },
  {
   "cell_type": "markdown",
   "metadata": {},
   "source": [
    "#### 2. After fitting MANY non-reguliarzed logistic regression models (with different combinations of explanatory variables), how do we select which model is best?\n",
    "\n",
    "Using the *Optimal* Objective Function *Values* of SEVERAL Non-Reguliarzed Logistic Regression Models we MANUALLY Select the a Model that is Parsimonious\n",
    "\n",
    "<br/>\n",
    "<br/>\n",
    "<br/>\n",
    "<br/>\n",
    "<br/>\n",
    "<br/>\n",
    "<br/>\n",
    "<br/>\n",
    "<br/>\n",
    "<br/>\n",
    "\n",
    "\n",
    "\n",
    "If we compare models with different numbers of coefficients using BIC, for example, we are attempting to minimize an overall criterion of the form:\n",
    "\n",
    "$$\n",
    "-2 * llf + p*\\log(n) = \\text{likelihood fit} + \\text{complexity penalty}\n",
    "$$\n",
    "\n",
    "<br/>\n",
    "<br/>\n",
    "<br/>\n",
    "<br/>\n",
    "<br/>\n",
    "<br/>\n",
    "<br/>\n",
    "\n",
    "\n",
    "\n"
   ]
  },
  {
   "cell_type": "markdown",
   "metadata": {},
   "source": [
    "<h1 style=\"color:blue;\">Topic 8: Automating Model Selection </h1>  \n",
    "\n",
    "## IDEA: *How* can we automate this process so we don't have to fit multiple models? Aka: how can we make it so we only have to find the optimal solution to just ONE objective function?\n",
    "\n",
    "<br/>\n",
    "<br/>\n",
    "<br/>\n",
    "<br/>\n",
    "<br/>\n",
    "<br/>\n",
    "<br/>\n",
    "<br/>\n",
    "<br/>\n",
    "<br/>\n",
    "<br/>\n",
    "\n",
    "## IDEA: *Why* would we want to automate this process so we don't have to fit multiple models? \n",
    "\n",
    "<br/>\n",
    "<br/>\n",
    "<br/>\n",
    "<br/>\n",
    "<br/>\n",
    "<br/>\n",
    "<br/>\n",
    "<br/>\n",
    "<br/>\n",
    "<br/>\n",
    "<br/>\n"
   ]
  },
  {
   "cell_type": "markdown",
   "metadata": {},
   "source": [
    "<h1 style=\"color:blue;\">Topic 9: How can we modify the logistic regression objective function such that models having lots of features are penalized? </h1>  \n",
    "\n",
    "## Three common methods of introducing penalties into the objective function\n",
    "\n",
    "**Regularization penalties** combine the likelihood criterion and the penalty into one optimization criterion for estimating the feature coefficients. For a given level of complexity this can produce fitted models with better mean-square error predictive properties. Here a few choices that are currently in common use:\n",
    "\n",
    "### <u>Method 1</u>: L2 penalty (Ridge regression)\n",
    "\n",
    "\n",
    "\n",
    "$$\n",
    "\\text{Minimize: } (-2*llf) + \\lambda \\sum_{j=1}^p \\hat{\\beta}_j^2\n",
    "$$\n",
    "\n",
    "\n",
    "<br/>\n",
    "<br/>\n",
    "<br/>\n",
    "<br/>\n",
    "<br/>\n",
    "<br/>\n",
    "<br/>\n",
    "<br/>\n",
    "<br/>\n",
    "<br/>\n",
    "<br/>\n",
    "\n",
    "Shrinks parameters toward smaller absolute values to reduce variance. In linear regression this is called ridge regression. $\\lambda$ controls tradeoff between fit and shrinkage. It reduces the effect of correlation between features, which is an issue in high dimensions.\n",
    "\n",
    "#### Using the ridge regression objective function, what types of optimal solutions for $\\hat{\\beta}_0, \\hat{\\beta}_1, ...,\\hat{\\beta}_p$ will minimize this function the most?\n",
    "\n",
    "\n",
    "<br/>\n",
    "<br/>\n",
    "<br/>\n",
    "<br/>\n",
    "<br/>\n",
    "<br/>\n",
    "<br/>\n",
    "<br/>\n",
    "<br/>\n",
    "<br/>\n",
    "\n",
    "#### What would it mean if the optimal solution ($\\hat{\\beta}_0, \\hat{\\beta}_1, ...,\\hat{\\beta}_p$) of  the ridge regression objective function was one in which $\\hat{\\beta}_1=0, \\hat{\\beta}_2=0 ...,\\hat{\\beta}_p=0$?\n",
    "\n",
    "\n",
    "<br/>\n",
    "<br/>\n",
    "<br/>\n",
    "<br/>\n",
    "<br/>\n",
    "<br/>\n",
    "<br/>\n",
    "<br/>\n",
    "<br/>\n",
    "<br/>\n",
    "<br/>\n",
    "\n",
    "\n",
    "\n"
   ]
  },
  {
   "cell_type": "markdown",
   "metadata": {},
   "source": [
    "### <u>Method 2</u>: L1 penalty (LASSO)\n",
    "\n",
    "\n",
    "\n",
    "\n",
    "$$\n",
    "\\text{Minimize: } (-2*llf) + \\lambda \\sum_{j=1}^p \\vert \\hat{\\beta}_j \\vert\n",
    "$$\n",
    "\n",
    "<br/>\n",
    "<br/>\n",
    "<br/>\n",
    "<br/>\n",
    "<br/>\n",
    "<br/>\n",
    "<br/>\n",
    "\n",
    "#### Using the ridge regression objective function, what types of optimal solutions for $\\hat{\\beta}_0, \\hat{\\beta}_1, ...,\\hat{\\beta}_p$ will minimize this function the most?\n",
    "\n",
    "\n",
    "<br/>\n",
    "<br/>\n",
    "<br/>\n",
    "<br/>\n",
    "<br/>\n",
    "<br/>\n",
    "<br/>\n",
    "<br/>\n",
    "<br/>\n",
    "<br/>\n",
    "\n",
    "#### Which objective function will penalize \"small\" values of $\\beta_i$ more: LASSO objective function or ridge regression objective function?\n",
    "\n",
    "\n",
    "<br/>\n",
    "<br/>\n",
    "<br/>\n",
    "<br/>\n",
    "<br/>\n",
    "<br/>\n",
    "<br/>\n",
    "<br/>\n",
    "<br/>\n",
    "<br/>\n",
    "<br/>\n",
    "<br/>\n",
    "<br/>\n",
    "<br/>\n",
    "<br/>\n",
    "<br/>\n",
    "<br/>\n",
    "<br/>\n",
    "<br/>\n",
    "<br/>\n",
    "\n",
    "#### Why would you want to use LASSO over ridge regression?\n",
    "\n",
    "\n",
    "<br/>\n",
    "<br/>\n",
    "<br/>\n",
    "<br/>\n",
    "<br/>\n",
    "<br/>\n",
    "<br/>\n",
    "<br/>\n",
    "<br/>\n",
    "<br/>\n",
    "\n",
    "\n",
    "Produces sparse solutions (small number of nonzero parameters) by zeroing out some parameters. $\\lambda$ controls tradeoff between fit and sparsity. This method directly reduces redundant features. \n",
    "\n",
    "\n",
    "#### Why would you want to use ridge regression over LASSO?\n",
    "\n",
    "<br/>\n",
    "<br/>\n",
    "<br/>\n",
    "<br/>\n",
    "<br/>\n",
    "<br/>\n",
    "<br/>\n",
    "<br/>\n",
    "<br/>\n",
    "<br/>\n",
    "\n",
    "#### In LASSO and Ridge Regression, you select the value of $\\lambda$ *before* fitting the model. Selecting different values of $\\lambda$ may produce different optimal solutions. What types of solutions will LARGE values of $\\lambda$ prioritize for LASSo and Ridge Regression?\n",
    "\n",
    "\n",
    "<br/>\n",
    "<br/>\n",
    "<br/>\n",
    "<br/>\n",
    "<br/>\n",
    "<br/>\n",
    "<br/>\n",
    "<br/>\n",
    "<br/>\n",
    "<br/>"
   ]
  },
  {
   "cell_type": "markdown",
   "metadata": {},
   "source": [
    "### <u>Method 3</u>: Elastic Net Regression (Combination of LASSO and Ridge Regression)\n",
    "Combines L1 and L2 penalization to produce sparse, low variance solutions. $\\lambda$ controls the tradeoff between fit and penalization. $\\alpha \\in [0,1]$ controls the relative weight of L1 versus L2 penalization.\n",
    "\n",
    "$$\n",
    "\\text{Minimize: } (-2*llf) + \\lambda \\left(\\alpha \\sum_{j=1}^p \\vert \\hat{\\beta}_j \\vert \n",
    "+ {1-\\alpha \\over 2} \\sum_{j=1}^p \\hat{\\beta}_j^2 \\right)\n",
    "$$\n",
    "\n",
    "<br/>\n",
    "<br/>\n",
    "<br/>\n",
    "<br/>\n",
    "<br/>\n",
    "<br/>\n",
    "<br/>\n",
    "<br/>\n",
    "<br/>\n",
    "<br/>\n",
    "<br/>\n",
    "\n",
    "#### What types of solutions will LARGE values of $\\lambda$ prioritize for Elastic Net Regression?\n",
    "\n",
    "<br/>\n",
    "<br/>\n",
    "<br/>\n",
    "<br/>\n",
    "<br/>\n",
    "<br/>\n",
    "<br/>\n",
    "<br/>\n",
    "<br/>\n",
    "<br/>\n",
    "<br/>\n",
    "\n",
    "#### What types of solutions will LARGE values of $\\alpha$ prioritize for Elastic Net Regression?\n",
    "\n",
    "<br/>\n",
    "<br/>\n",
    "<br/>\n",
    "<br/>\n",
    "<br/>\n",
    "<br/>\n",
    "<br/>\n",
    "<br/>\n",
    "<br/>\n",
    "<br/>\n",
    "<br/>\n",
    "\n",
    "#### What types of solutions will SMALL values of $\\alpha$ prioritize for Elastic Net Regression?\n",
    "\n",
    "<br/>\n",
    "<br/>\n",
    "<br/>\n",
    "<br/>\n",
    "<br/>\n",
    "<br/>\n",
    "<br/>\n",
    "<br/>\n",
    "<br/>\n",
    "<br/>\n",
    "<br/>"
   ]
  },
  {
   "cell_type": "markdown",
   "metadata": {},
   "source": [
    "The current default setting in the Scikit-Learn LogisticRegression module is L1 regularization. The function sets the degree of penalization using the input C, which is inversely related to $\\lambda$. The default setting is C=1. Smaller values of C correspond to heavier regularization or more sparsity in the solution."
   ]
  },
  {
   "cell_type": "markdown",
   "metadata": {},
   "source": [
    "<h1 style=\"color:blue;\">Topic 10: Simulation Example Continued: Compare Different Penalties </h1> "
   ]
  },
  {
   "cell_type": "markdown",
   "metadata": {},
   "source": [
    "## Using our simulated data with 20 features, let's compare for 4 different options for regularization.\n",
    "1. Basic Logistic Regression (ie. no penalty)\n",
    "2. Logistic Regression with L1 penalty (ie. LASSO Logistic Regression)\n",
    "3. Logistic Regression with L2 penalty (ie. Ridge Logistic Regression)\n",
    "4. Elastic Net Logistic Regression (Combination of L1 and L2 penalty)"
   ]
  },
  {
   "cell_type": "code",
   "execution_count": 18,
   "metadata": {},
   "outputs": [],
   "source": [
    "from sklearn.linear_model import LogisticRegression"
   ]
  },
  {
   "cell_type": "markdown",
   "metadata": {},
   "source": [
    "## Fixing the Regularization Parameter"
   ]
  },
  {
   "cell_type": "markdown",
   "metadata": {},
   "source": [
    "### Fix the $\\lambda$ value.\n",
    "\n",
    "In sklearn, $C=\\frac{1}{\\lambda}$."
   ]
  },
  {
   "cell_type": "code",
   "execution_count": 19,
   "metadata": {},
   "outputs": [],
   "source": [
    "C=0.3  # set the amount of penalization (1/lambda)"
   ]
  },
  {
   "cell_type": "markdown",
   "metadata": {},
   "source": [
    "## Running each of the Models"
   ]
  },
  {
   "cell_type": "markdown",
   "metadata": {},
   "source": [
    "### Basic Logistic Regression (no penalties)\n",
    "* Using the 'newton-cg' solver. The newton-cg algorithm is a type of numerical analysis algorithm that goes about finding an optimal solution to a given objective function.\n",
    "* This algorithm stops after 1000 iterations or when the algorithm has converged.\n",
    "* The 'newton-cg' solver only works for: basic logistic regression and ridge regression.\n"
   ]
  },
  {
   "cell_type": "code",
   "execution_count": 20,
   "metadata": {},
   "outputs": [
    {
     "data": {
      "text/plain": [
       "LogisticRegression(C=1.0, class_weight=None, dual=False, fit_intercept=True,\n",
       "                   intercept_scaling=1, l1_ratio=None, max_iter=1000,\n",
       "                   multi_class='auto', n_jobs=None, penalty='none',\n",
       "                   random_state=None, solver='newton-cg', tol=0.0001, verbose=0,\n",
       "                   warm_start=False)"
      ]
     },
     "execution_count": 20,
     "metadata": {},
     "output_type": "execute_result"
    }
   ],
   "source": [
    "clf0 = LogisticRegression('none', solver='newton-cg', \n",
    "                          max_iter=1000)\n",
    "clf0.fit(X,y)"
   ]
  },
  {
   "cell_type": "markdown",
   "metadata": {},
   "source": [
    "### LASSO Logistic Regression (L1 penalties)\n",
    "* Using the 'liblinear' solver. liblinear is a tool that solves linear logistic regression optimization problems.\n",
    "* This algorithm stops after 1000 iterations or when the algorithm has converged.\n",
    "* The 'liblinear' solver only works for: LASSO logistic regression and logistic ridge regression."
   ]
  },
  {
   "cell_type": "code",
   "execution_count": 21,
   "metadata": {},
   "outputs": [
    {
     "data": {
      "text/plain": [
       "LogisticRegression(C=0.3, class_weight=None, dual=False, fit_intercept=True,\n",
       "                   intercept_scaling=1, l1_ratio=None, max_iter=1000,\n",
       "                   multi_class='auto', n_jobs=None, penalty='l1',\n",
       "                   random_state=None, solver='liblinear', tol=0.0001, verbose=0,\n",
       "                   warm_start=False)"
      ]
     },
     "execution_count": 21,
     "metadata": {},
     "output_type": "execute_result"
    }
   ],
   "source": [
    "clf1 = LogisticRegression('l1', solver='liblinear', \n",
    "                          max_iter=1000, C=C)\n",
    "clf1.fit(X,y)"
   ]
  },
  {
   "cell_type": "markdown",
   "metadata": {},
   "source": [
    "### Logistic Ridge Regression (L2 penalties)\n",
    "* Using the 'liblinear' solver. liblinear is a tool that solves linear logistic regression optimization problems.\n",
    "* This algorithm stops after 1000 iterations or when the algorithm has converged.\n",
    "* The 'liblinear' solver only works for: LASSO logistic regression and logistic ridge regression."
   ]
  },
  {
   "cell_type": "code",
   "execution_count": 13,
   "metadata": {},
   "outputs": [
    {
     "data": {
      "text/plain": [
       "LogisticRegression(C=0.3, class_weight=None, dual=False, fit_intercept=True,\n",
       "                   intercept_scaling=1, l1_ratio=None, max_iter=1000,\n",
       "                   multi_class='warn', n_jobs=None, penalty='l2',\n",
       "                   random_state=None, solver='liblinear', tol=0.0001, verbose=0,\n",
       "                   warm_start=False)"
      ]
     },
     "execution_count": 13,
     "metadata": {},
     "output_type": "execute_result"
    }
   ],
   "source": [
    "clf2 = LogisticRegression('l2', solver='liblinear', \n",
    "                          max_iter=1000, C=C)\n",
    "clf2.fit(X,y)"
   ]
  },
  {
   "cell_type": "markdown",
   "metadata": {},
   "source": [
    "### Elastic Net Logistic Regression (Combination of L1 and L2 penalties)\n",
    "* Using the 'saga' solver. saga is a numerical optimization method that only works for specific types of objective functions.\n",
    "* This algorithm stops after 1000 iterations or when the algorithm has converged.\n",
    "* The 'saga' solver only works for: elastic net logistic regression.\n",
    "* The $\\alpha$ in sklearn is represented as the \"l1_ratio\" parameter in the function. With an $\\alpha=$l1_ratio=0.7, this means that this particular elastic net model will favor solutions that more closely resemble:\n",
    "<br/>\n",
    "<br/>\n",
    "<br/>\n",
    "<br/>\n",
    "<br/>\n",
    "<br/>\n",
    "<br/>\n"
   ]
  },
  {
   "cell_type": "code",
   "execution_count": 14,
   "metadata": {},
   "outputs": [
    {
     "data": {
      "text/plain": [
       "LogisticRegression(C=0.3, class_weight=None, dual=False, fit_intercept=True,\n",
       "                   intercept_scaling=1, l1_ratio=0.7, max_iter=1000,\n",
       "                   multi_class='warn', n_jobs=None, penalty='elasticnet',\n",
       "                   random_state=None, solver='saga', tol=0.0001, verbose=0,\n",
       "                   warm_start=False)"
      ]
     },
     "execution_count": 14,
     "metadata": {},
     "output_type": "execute_result"
    }
   ],
   "source": [
    "clf3 = LogisticRegression('elasticnet', solver='saga', \n",
    "                          max_iter=1000, l1_ratio=0.7, C=C)\n",
    "clf3.fit(X,y)"
   ]
  },
  {
   "cell_type": "code",
   "execution_count": 15,
   "metadata": {},
   "outputs": [],
   "source": [
    "#dir(clf3)"
   ]
  },
  {
   "cell_type": "markdown",
   "metadata": {},
   "source": [
    "## Now, let's extract the 20 resulting slope coefficients for each of the 4 models."
   ]
  },
  {
   "cell_type": "code",
   "execution_count": 16,
   "metadata": {},
   "outputs": [
    {
     "data": {
      "text/plain": [
       "array([[ 0.91339789,  0.84105838,  0.83298926,  0.65831549,  0.50126758,\n",
       "        -0.87714052, -0.739675  , -0.73085726, -0.53128786, -0.97850072,\n",
       "         0.        ,  0.17358884,  0.01481474, -0.13674186, -0.29364757,\n",
       "         0.        ,  0.        ,  0.        ,  0.03755442,  0.06074195]])"
      ]
     },
     "execution_count": 16,
     "metadata": {},
     "output_type": "execute_result"
    }
   ],
   "source": [
    "clf3.coef_"
   ]
  },
  {
   "cell_type": "code",
   "execution_count": 17,
   "metadata": {},
   "outputs": [
    {
     "data": {
      "text/plain": [
       "array([-0.94797261])"
      ]
     },
     "execution_count": 17,
     "metadata": {},
     "output_type": "execute_result"
    }
   ],
   "source": [
    "clf3.intercept_"
   ]
  },
  {
   "cell_type": "code",
   "execution_count": 18,
   "metadata": {},
   "outputs": [
    {
     "data": {
      "text/html": [
       "<div>\n",
       "<style scoped>\n",
       "    .dataframe tbody tr th:only-of-type {\n",
       "        vertical-align: middle;\n",
       "    }\n",
       "\n",
       "    .dataframe tbody tr th {\n",
       "        vertical-align: top;\n",
       "    }\n",
       "\n",
       "    .dataframe thead th {\n",
       "        text-align: right;\n",
       "    }\n",
       "</style>\n",
       "<table border=\"1\" class=\"dataframe\">\n",
       "  <thead>\n",
       "    <tr style=\"text-align: right;\">\n",
       "      <th></th>\n",
       "      <th>0</th>\n",
       "      <th>1</th>\n",
       "      <th>2</th>\n",
       "      <th>3</th>\n",
       "    </tr>\n",
       "  </thead>\n",
       "  <tbody>\n",
       "    <tr>\n",
       "      <td>0</td>\n",
       "      <td>2.448386</td>\n",
       "      <td>0.862878</td>\n",
       "      <td>0.943341</td>\n",
       "      <td>0.913398</td>\n",
       "    </tr>\n",
       "    <tr>\n",
       "      <td>1</td>\n",
       "      <td>2.099151</td>\n",
       "      <td>0.794844</td>\n",
       "      <td>0.852618</td>\n",
       "      <td>0.841058</td>\n",
       "    </tr>\n",
       "    <tr>\n",
       "      <td>2</td>\n",
       "      <td>1.911414</td>\n",
       "      <td>0.789636</td>\n",
       "      <td>0.869266</td>\n",
       "      <td>0.832989</td>\n",
       "    </tr>\n",
       "    <tr>\n",
       "      <td>3</td>\n",
       "      <td>1.763950</td>\n",
       "      <td>0.590481</td>\n",
       "      <td>0.706093</td>\n",
       "      <td>0.658315</td>\n",
       "    </tr>\n",
       "    <tr>\n",
       "      <td>4</td>\n",
       "      <td>1.011388</td>\n",
       "      <td>0.462536</td>\n",
       "      <td>0.549192</td>\n",
       "      <td>0.501268</td>\n",
       "    </tr>\n",
       "    <tr>\n",
       "      <td>5</td>\n",
       "      <td>-2.277685</td>\n",
       "      <td>-0.818814</td>\n",
       "      <td>-0.893153</td>\n",
       "      <td>-0.877141</td>\n",
       "    </tr>\n",
       "    <tr>\n",
       "      <td>6</td>\n",
       "      <td>-1.817789</td>\n",
       "      <td>-0.713729</td>\n",
       "      <td>-0.773147</td>\n",
       "      <td>-0.739675</td>\n",
       "    </tr>\n",
       "    <tr>\n",
       "      <td>7</td>\n",
       "      <td>-1.840509</td>\n",
       "      <td>-0.684439</td>\n",
       "      <td>-0.776345</td>\n",
       "      <td>-0.730857</td>\n",
       "    </tr>\n",
       "    <tr>\n",
       "      <td>8</td>\n",
       "      <td>-1.400668</td>\n",
       "      <td>-0.493109</td>\n",
       "      <td>-0.588224</td>\n",
       "      <td>-0.531288</td>\n",
       "    </tr>\n",
       "    <tr>\n",
       "      <td>9</td>\n",
       "      <td>-2.610932</td>\n",
       "      <td>-0.890087</td>\n",
       "      <td>-1.001949</td>\n",
       "      <td>-0.978501</td>\n",
       "    </tr>\n",
       "    <tr>\n",
       "      <td>10</td>\n",
       "      <td>0.141495</td>\n",
       "      <td>0.000000</td>\n",
       "      <td>0.003993</td>\n",
       "      <td>0.000000</td>\n",
       "    </tr>\n",
       "    <tr>\n",
       "      <td>11</td>\n",
       "      <td>0.543221</td>\n",
       "      <td>0.121319</td>\n",
       "      <td>0.255975</td>\n",
       "      <td>0.173589</td>\n",
       "    </tr>\n",
       "    <tr>\n",
       "      <td>12</td>\n",
       "      <td>0.213494</td>\n",
       "      <td>0.000000</td>\n",
       "      <td>0.090158</td>\n",
       "      <td>0.014815</td>\n",
       "    </tr>\n",
       "    <tr>\n",
       "      <td>13</td>\n",
       "      <td>-0.661488</td>\n",
       "      <td>-0.090676</td>\n",
       "      <td>-0.236996</td>\n",
       "      <td>-0.136742</td>\n",
       "    </tr>\n",
       "    <tr>\n",
       "      <td>14</td>\n",
       "      <td>-0.741134</td>\n",
       "      <td>-0.235318</td>\n",
       "      <td>-0.333969</td>\n",
       "      <td>-0.293648</td>\n",
       "    </tr>\n",
       "    <tr>\n",
       "      <td>15</td>\n",
       "      <td>-0.097251</td>\n",
       "      <td>0.000000</td>\n",
       "      <td>0.047848</td>\n",
       "      <td>0.000000</td>\n",
       "    </tr>\n",
       "    <tr>\n",
       "      <td>16</td>\n",
       "      <td>-0.165984</td>\n",
       "      <td>0.000000</td>\n",
       "      <td>-0.042778</td>\n",
       "      <td>0.000000</td>\n",
       "    </tr>\n",
       "    <tr>\n",
       "      <td>17</td>\n",
       "      <td>0.204026</td>\n",
       "      <td>0.000000</td>\n",
       "      <td>0.042845</td>\n",
       "      <td>0.000000</td>\n",
       "    </tr>\n",
       "    <tr>\n",
       "      <td>18</td>\n",
       "      <td>0.222341</td>\n",
       "      <td>0.003096</td>\n",
       "      <td>0.120741</td>\n",
       "      <td>0.037554</td>\n",
       "    </tr>\n",
       "    <tr>\n",
       "      <td>19</td>\n",
       "      <td>0.344166</td>\n",
       "      <td>0.000000</td>\n",
       "      <td>0.131761</td>\n",
       "      <td>0.060742</td>\n",
       "    </tr>\n",
       "  </tbody>\n",
       "</table>\n",
       "</div>"
      ],
      "text/plain": [
       "           0         1         2         3\n",
       "0   2.448386  0.862878  0.943341  0.913398\n",
       "1   2.099151  0.794844  0.852618  0.841058\n",
       "2   1.911414  0.789636  0.869266  0.832989\n",
       "3   1.763950  0.590481  0.706093  0.658315\n",
       "4   1.011388  0.462536  0.549192  0.501268\n",
       "5  -2.277685 -0.818814 -0.893153 -0.877141\n",
       "6  -1.817789 -0.713729 -0.773147 -0.739675\n",
       "7  -1.840509 -0.684439 -0.776345 -0.730857\n",
       "8  -1.400668 -0.493109 -0.588224 -0.531288\n",
       "9  -2.610932 -0.890087 -1.001949 -0.978501\n",
       "10  0.141495  0.000000  0.003993  0.000000\n",
       "11  0.543221  0.121319  0.255975  0.173589\n",
       "12  0.213494  0.000000  0.090158  0.014815\n",
       "13 -0.661488 -0.090676 -0.236996 -0.136742\n",
       "14 -0.741134 -0.235318 -0.333969 -0.293648\n",
       "15 -0.097251  0.000000  0.047848  0.000000\n",
       "16 -0.165984  0.000000 -0.042778  0.000000\n",
       "17  0.204026  0.000000  0.042845  0.000000\n",
       "18  0.222341  0.003096  0.120741  0.037554\n",
       "19  0.344166  0.000000  0.131761  0.060742"
      ]
     },
     "execution_count": 18,
     "metadata": {},
     "output_type": "execute_result"
    }
   ],
   "source": [
    "dfcoef = pd.DataFrame(\n",
    "    np.concatenate((clf0.coef_.T, \n",
    "                    clf1.coef_.T, \n",
    "                    clf2.coef_.T, \n",
    "                    clf3.coef_.T), \n",
    "                   axis=1)\n",
    ")\n",
    "dfcoef"
   ]
  },
  {
   "cell_type": "markdown",
   "metadata": {},
   "source": [
    "## Let's visualize the slope differences."
   ]
  },
  {
   "cell_type": "code",
   "execution_count": 19,
   "metadata": {},
   "outputs": [
    {
     "data": {
      "image/png": "[encoded data removed]",
      "text/plain": [
       "<Figure size 432x288 with 1 Axes>"
      ]
     },
     "metadata": {
      "needs_background": "light"
     },
     "output_type": "display_data"
    }
   ],
   "source": [
    "plt.plot(dfcoef.index, bvec, lw=3)\n",
    "for i in range(4):\n",
    "    plt.plot(dfcoef.index, dfcoef[i])\n",
    "plt.xticks(np.arange(0,20,1))\n",
    "plt.xlabel('Coefficient index')\n",
    "plt.ylabel('Coefficient Value')\n",
    "plt.title('Coefficient Estimates Using Several Penalties')\n",
    "plt.legend(['True', 'None','L1','L2','EN'], loc='upper right')\n",
    "plt.hlines(y=0, xmin=0, xmax=19, linestyles='--')\n",
    "plt.show()"
   ]
  },
  {
   "cell_type": "markdown",
   "metadata": {},
   "source": [
    "#### Do the slope differences that we observed corroborate how we *expect* the different models to behave?\n",
    "<br/>\n",
    "<br/>\n",
    "<br/>\n",
    "<br/>\n",
    "<br/>\n",
    "<br/>\n",
    "<br/>\n",
    "<br/>\n",
    "<br/>\n",
    "<br/>\n",
    "<br/>\n",
    "<br/>\n",
    "<br/>\n",
    "<br/>\n",
    "<br/>\n",
    "<br/>"
   ]
  },
  {
   "cell_type": "code",
   "execution_count": 20,
   "metadata": {},
   "outputs": [
    {
     "name": "stdout",
     "output_type": "stream",
     "text": [
      "0\n",
      "1\n",
      "2\n",
      "3\n"
     ]
    }
   ],
   "source": [
    "# demo the for loop\n",
    "for i in range(4):\n",
    "    print(i)"
   ]
  },
  {
   "cell_type": "markdown",
   "metadata": {},
   "source": [
    "We see that the unregularized ML coefficients have the most variation, and appear to stray farther from the true population values than the regularized estimators. The penalized estimators are biased toward zero, which reduces variation amd also appears to improve their accruacy. Where the coefficients are close to zero, L1 and ElasticNet zero them out.\n",
    "\n",
    "Note: C=1 is the default setting for the amount of penalization. Smaller values of C increase the amount of penalization. Here we used C=0.3"
   ]
  },
  {
   "cell_type": "markdown",
   "metadata": {},
   "source": [
    "<h1 style=\"color:blue;\">Topic 11: Regularized Logistic Regression with Train/Test split in Sci-Kit Learn</h1> "
   ]
  },
  {
   "cell_type": "markdown",
   "metadata": {},
   "source": [
    "We illustrate using the simulated binary response data. We'll generate the feature matrix $X$ and a binary target array $y$ from a logistic regression model with 20 features.\n",
    "\n",
    "## First, let's train the a LASSO logistic regression model using a *single* training dataset and a *single* test dataset."
   ]
  },
  {
   "cell_type": "markdown",
   "metadata": {},
   "source": [
    "#### 1. Import the model class:"
   ]
  },
  {
   "cell_type": "code",
   "execution_count": 21,
   "metadata": {},
   "outputs": [],
   "source": [
    "from sklearn.linear_model import LogisticRegression"
   ]
  },
  {
   "cell_type": "markdown",
   "metadata": {},
   "source": [
    "#### 2. Create an instance of the model. We'll use an 'l1' penalty to regularize the regression for this example."
   ]
  },
  {
   "cell_type": "code",
   "execution_count": 22,
   "metadata": {},
   "outputs": [],
   "source": [
    "logitReg = LogisticRegression(penalty='l1', \n",
    "                              solver='liblinear', \n",
    "                              C=1, \n",
    "                              max_iter=1000)"
   ]
  },
  {
   "cell_type": "markdown",
   "metadata": {},
   "source": [
    "#### 3. Train the model (for now we'll use a 1-fold split... aka what we've done in the past)"
   ]
  },
  {
   "cell_type": "code",
   "execution_count": 23,
   "metadata": {},
   "outputs": [],
   "source": [
    "from sklearn.model_selection import train_test_split"
   ]
  },
  {
   "cell_type": "code",
   "execution_count": 24,
   "metadata": {},
   "outputs": [],
   "source": [
    "X_train, X_test, y_train, y_test = train_test_split(\n",
    "    X, y, test_size=0.20, random_state=42)"
   ]
  },
  {
   "cell_type": "code",
   "execution_count": 25,
   "metadata": {},
   "outputs": [
    {
     "data": {
      "text/plain": [
       "LogisticRegression(C=1, class_weight=None, dual=False, fit_intercept=True,\n",
       "                   intercept_scaling=1, l1_ratio=None, max_iter=1000,\n",
       "                   multi_class='warn', n_jobs=None, penalty='l1',\n",
       "                   random_state=None, solver='liblinear', tol=0.0001, verbose=0,\n",
       "                   warm_start=False)"
      ]
     },
     "execution_count": 25,
     "metadata": {},
     "output_type": "execute_result"
    }
   ],
   "source": [
    "logitReg.fit(X_train, y_train)"
   ]
  },
  {
   "cell_type": "markdown",
   "metadata": {},
   "source": [
    "#### 4. Get predictions for test data"
   ]
  },
  {
   "cell_type": "code",
   "execution_count": 26,
   "metadata": {},
   "outputs": [],
   "source": [
    "# category predictions using 0.5 threshold\n",
    "yhat = logitReg.predict(X_test)"
   ]
  },
  {
   "cell_type": "code",
   "execution_count": 27,
   "metadata": {},
   "outputs": [
    {
     "data": {
      "text/plain": [
       "array([0, 0, 0, 1, 0, 0, 0, 0, 0, 0, 1, 0, 0, 1, 1, 0, 0, 1, 0, 0, 0, 0,\n",
       "       0, 1, 1, 0, 1, 1, 0, 0, 0, 0, 1, 1, 0, 1, 0, 0, 0, 0])"
      ]
     },
     "execution_count": 27,
     "metadata": {},
     "output_type": "execute_result"
    }
   ],
   "source": [
    "yhat"
   ]
  },
  {
   "cell_type": "code",
   "execution_count": 28,
   "metadata": {},
   "outputs": [],
   "source": [
    "# (0,1) predictive probabilities\n",
    "phat01 = logitReg.predict_proba(X_test)"
   ]
  },
  {
   "cell_type": "code",
   "execution_count": 29,
   "metadata": {},
   "outputs": [
    {
     "data": {
      "text/plain": [
       "array([[0.6932936 , 0.3067064 ],\n",
       "       [0.97686061, 0.02313939],\n",
       "       [0.98620941, 0.01379059],\n",
       "       [0.00512146, 0.99487854],\n",
       "       [0.90071749, 0.09928251]])"
      ]
     },
     "execution_count": 29,
     "metadata": {},
     "output_type": "execute_result"
    }
   ],
   "source": [
    "phat01[0:5]"
   ]
  },
  {
   "cell_type": "code",
   "execution_count": 30,
   "metadata": {},
   "outputs": [
    {
     "data": {
      "text/plain": [
       "array([3.06706403e-01, 2.31393948e-02, 1.37905907e-02, 9.94878540e-01,\n",
       "       9.92825058e-02, 1.90376145e-02, 6.57872625e-03, 2.23362678e-03,\n",
       "       3.80080428e-01, 1.41567279e-01, 6.79882444e-01, 1.48639985e-02,\n",
       "       3.65025946e-02, 9.92545221e-01, 9.44923312e-01, 4.64036069e-03,\n",
       "       2.43577570e-01, 6.92031058e-01, 2.82355052e-01, 1.35650095e-02,\n",
       "       3.97975802e-04, 6.97796832e-04, 2.53443624e-01, 9.99058499e-01,\n",
       "       8.17926320e-01, 4.59442716e-04, 6.46822475e-01, 8.87206409e-01,\n",
       "       2.39646059e-01, 4.00899276e-02, 2.31581710e-01, 9.61382651e-02,\n",
       "       7.82486981e-01, 7.57412455e-01, 4.87865283e-01, 8.57162460e-01,\n",
       "       3.27152350e-03, 2.50055945e-01, 1.08285135e-01, 3.59258526e-01])"
      ]
     },
     "execution_count": 30,
     "metadata": {},
     "output_type": "execute_result"
    }
   ],
   "source": [
    "phat1 = phat01[:,1]\n",
    "phat1"
   ]
  },
  {
   "cell_type": "markdown",
   "metadata": {},
   "source": [
    "#### 5. Evaluate the results"
   ]
  },
  {
   "cell_type": "markdown",
   "metadata": {},
   "source": [
    "**Accuracy**"
   ]
  },
  {
   "cell_type": "code",
   "execution_count": 31,
   "metadata": {},
   "outputs": [
    {
     "data": {
      "text/plain": [
       "0.825"
      ]
     },
     "execution_count": 31,
     "metadata": {},
     "output_type": "execute_result"
    }
   ],
   "source": [
    "# Accuracy:\n",
    "score = logitReg.score(X_test, y_test)\n",
    "score"
   ]
  },
  {
   "cell_type": "markdown",
   "metadata": {},
   "source": [
    "<br/>\n",
    "<br/>\n",
    "<br/>\n",
    "<br/>\n",
    "<br/>\n",
    "<br/>\n",
    "<br/>\n",
    "\n",
    "**Confusion matrix**"
   ]
  },
  {
   "cell_type": "code",
   "execution_count": 32,
   "metadata": {},
   "outputs": [],
   "source": [
    "# Confusion matrix\n",
    "import matplotlib.pyplot as plt\n",
    "import seaborn as sns; sns.set()\n",
    "from sklearn import metrics"
   ]
  },
  {
   "cell_type": "code",
   "execution_count": 33,
   "metadata": {},
   "outputs": [
    {
     "data": {
      "text/plain": [
       "array([[24,  3],\n",
       "       [ 4,  9]])"
      ]
     },
     "execution_count": 33,
     "metadata": {},
     "output_type": "execute_result"
    }
   ],
   "source": [
    "# rows are actual labels (0, 1), columns are predicted label (0,1)\n",
    "cm = metrics.confusion_matrix(y_test, yhat)\n",
    "cm"
   ]
  },
  {
   "cell_type": "markdown",
   "metadata": {},
   "source": [
    "**Confusion matrix visualization using heatmap**\n",
    "\n",
    "Code adapted from: ([Galarnyk, 2017](https://towardsdatascience.com/logistic-regression-using-python-sklearn-numpy-mnist-handwriting-recognition-matplotlib-a6b31e2b166a))"
   ]
  },
  {
   "cell_type": "code",
   "execution_count": 34,
   "metadata": {},
   "outputs": [
    {
     "data": {
      "image/png": "[encoded data removed]",
      "text/plain": [
       "<Figure size 216x216 with 2 Axes>"
      ]
     },
     "metadata": {},
     "output_type": "display_data"
    }
   ],
   "source": [
    "plt.figure(figsize=(3,3))\n",
    "fig = sns.heatmap(cm, annot=True, annot_kws={\"size\": 16},\n",
    "                 square=True, \n",
    "                 linewidths=0.5, \n",
    "                 cmap = 'Blues_r')\n",
    "fig.set_ylim([0,2])\n",
    "plt.ylabel('Actual label')\n",
    "plt.xlabel('Predicted label')\n",
    "all_sample_title = 'Accuracy Score: {0}'.format(score)\n",
    "plt.title(all_sample_title, size = 12)\n",
    "plt.show(fig)"
   ]
  },
  {
   "cell_type": "markdown",
   "metadata": {},
   "source": [
    "Here the cells are arranged so the lower left (0,0) and upper right (1,1) are the correct classfication counts for true negatives and true positives, respectively."
   ]
  },
  {
   "cell_type": "markdown",
   "metadata": {},
   "source": [
    "**Sensitivity and specificity**"
   ]
  },
  {
   "cell_type": "code",
   "execution_count": 35,
   "metadata": {},
   "outputs": [],
   "source": [
    "def senspec(y, score, thresh, index=0):\n",
    "    yhat = 1*(score >= thresh)\n",
    "    tn, fp, fn, tp = metrics.confusion_matrix(y_true=y, \n",
    "                                              y_pred=yhat).ravel()\n",
    "    sens = tp / (fn + tp)\n",
    "    spec = tn / (fp + tn)\n",
    "    accuracy = (tn+tp)/(tn+fp+fn+tp)\n",
    "    return pd.DataFrame({'tn':[tn], \n",
    "                         'fp':[fp], \n",
    "                         'fn':[fn], \n",
    "                         'tp':[tp], \n",
    "                         'sens':[sens], \n",
    "                         'spec':[spec],\n",
    "                         'accuracy':[accuracy]})"
   ]
  },
  {
   "cell_type": "code",
   "execution_count": 36,
   "metadata": {},
   "outputs": [
    {
     "data": {
      "text/html": [
       "<div>\n",
       "<style scoped>\n",
       "    .dataframe tbody tr th:only-of-type {\n",
       "        vertical-align: middle;\n",
       "    }\n",
       "\n",
       "    .dataframe tbody tr th {\n",
       "        vertical-align: top;\n",
       "    }\n",
       "\n",
       "    .dataframe thead th {\n",
       "        text-align: right;\n",
       "    }\n",
       "</style>\n",
       "<table border=\"1\" class=\"dataframe\">\n",
       "  <thead>\n",
       "    <tr style=\"text-align: right;\">\n",
       "      <th></th>\n",
       "      <th>tn</th>\n",
       "      <th>fp</th>\n",
       "      <th>fn</th>\n",
       "      <th>tp</th>\n",
       "      <th>sens</th>\n",
       "      <th>spec</th>\n",
       "      <th>accuracy</th>\n",
       "    </tr>\n",
       "  </thead>\n",
       "  <tbody>\n",
       "    <tr>\n",
       "      <td>0</td>\n",
       "      <td>24</td>\n",
       "      <td>3</td>\n",
       "      <td>4</td>\n",
       "      <td>9</td>\n",
       "      <td>0.692308</td>\n",
       "      <td>0.888889</td>\n",
       "      <td>0.825</td>\n",
       "    </tr>\n",
       "  </tbody>\n",
       "</table>\n",
       "</div>"
      ],
      "text/plain": [
       "   tn  fp  fn  tp      sens      spec  accuracy\n",
       "0  24   3   4   9  0.692308  0.888889     0.825"
      ]
     },
     "execution_count": 36,
     "metadata": {},
     "output_type": "execute_result"
    }
   ],
   "source": [
    "senspec(y_test, phat1, 0.5)  # 0.5 threshold"
   ]
  },
  {
   "cell_type": "code",
   "execution_count": 37,
   "metadata": {},
   "outputs": [
    {
     "data": {
      "text/html": [
       "<div>\n",
       "<style scoped>\n",
       "    .dataframe tbody tr th:only-of-type {\n",
       "        vertical-align: middle;\n",
       "    }\n",
       "\n",
       "    .dataframe tbody tr th {\n",
       "        vertical-align: top;\n",
       "    }\n",
       "\n",
       "    .dataframe thead th {\n",
       "        text-align: right;\n",
       "    }\n",
       "</style>\n",
       "<table border=\"1\" class=\"dataframe\">\n",
       "  <thead>\n",
       "    <tr style=\"text-align: right;\">\n",
       "      <th></th>\n",
       "      <th>tn</th>\n",
       "      <th>fp</th>\n",
       "      <th>fn</th>\n",
       "      <th>tp</th>\n",
       "      <th>sens</th>\n",
       "      <th>spec</th>\n",
       "      <th>accuracy</th>\n",
       "    </tr>\n",
       "  </thead>\n",
       "  <tbody>\n",
       "    <tr>\n",
       "      <td>0</td>\n",
       "      <td>23</td>\n",
       "      <td>4</td>\n",
       "      <td>2</td>\n",
       "      <td>11</td>\n",
       "      <td>0.846154</td>\n",
       "      <td>0.851852</td>\n",
       "      <td>0.85</td>\n",
       "    </tr>\n",
       "  </tbody>\n",
       "</table>\n",
       "</div>"
      ],
      "text/plain": [
       "   tn  fp  fn  tp      sens      spec  accuracy\n",
       "0  23   4   2  11  0.846154  0.851852      0.85"
      ]
     },
     "execution_count": 37,
     "metadata": {},
     "output_type": "execute_result"
    }
   ],
   "source": [
    "senspec(y_test, phat1, 0.33)  # 0.33 threshold"
   ]
  },
  {
   "cell_type": "markdown",
   "metadata": {},
   "source": [
    "**ROC curve**"
   ]
  },
  {
   "cell_type": "code",
   "execution_count": 38,
   "metadata": {},
   "outputs": [],
   "source": [
    "fpr, tpr, score = metrics.roc_curve(y_true=y_test, y_score=phat1)\n",
    "auc = metrics.roc_auc_score(y_true=y_test, y_score=phat1)"
   ]
  },
  {
   "cell_type": "code",
   "execution_count": 39,
   "metadata": {},
   "outputs": [],
   "source": [
    "def plot_roc(fpr, tpr, auc, lw=2):\n",
    "    plt.plot(fpr, tpr, color='darkorange', lw=lw,\n",
    "             label='ROC curve (area = '+str(round(auc,3))+')')\n",
    "    plt.plot([0, 1], [0, 1], color='navy', lw=lw, linestyle='--')\n",
    "    plt.xlabel('False Positive Rate')\n",
    "    plt.ylabel('True Positive Rate')\n",
    "    plt.title('ROC Curve')\n",
    "    plt.legend(loc=\"lower right\")\n",
    "    plt.show()"
   ]
  },
  {
   "cell_type": "code",
   "execution_count": 40,
   "metadata": {},
   "outputs": [
    {
     "data": {
      "image/png": "[encoded data removed]",
      "text/plain": [
       "<Figure size 432x288 with 1 Axes>"
      ]
     },
     "metadata": {},
     "output_type": "display_data"
    }
   ],
   "source": [
    "plot_roc(fpr, tpr, auc)"
   ]
  },
  {
   "cell_type": "markdown",
   "metadata": {},
   "source": [
    "## Next let's train each of the four regularization types (ie. none, L1, L2, and elastic net) Using Cross Validation Scoring.\n",
    "\n",
    "In cross validation, we cycle through all the k-fold train/test splits of the data using each 1/k subset as the test set with the other 1 - 1/k as the training set. In this way we obtain k different splits of the data. We average over the k splits. The variation in performance scores can also gives us a standard error on the performance measure."
   ]
  },
  {
   "cell_type": "code",
   "execution_count": 41,
   "metadata": {},
   "outputs": [],
   "source": [
    "from sklearn.model_selection import cross_val_score"
   ]
  },
  {
   "cell_type": "markdown",
   "metadata": {},
   "source": [
    "#### Without regularization"
   ]
  },
  {
   "cell_type": "code",
   "execution_count": 42,
   "metadata": {},
   "outputs": [
    {
     "data": {
      "text/plain": [
       "array([0.825, 0.675, 0.8  , 0.85 , 0.9  ])"
      ]
     },
     "execution_count": 42,
     "metadata": {},
     "output_type": "execute_result"
    }
   ],
   "source": [
    "modclass0 = LogisticRegression(penalty='none', solver='newton-cg')\n",
    "scores0 = cross_val_score(modclass0, X, y, cv=5)\n",
    "scores0"
   ]
  },
  {
   "cell_type": "code",
   "execution_count": 43,
   "metadata": {},
   "outputs": [
    {
     "name": "stdout",
     "output_type": "stream",
     "text": [
      "Accuracy: 0.81 (+/- 0.07)\n"
     ]
    }
   ],
   "source": [
    "print(\"Accuracy: %0.2f (+/- %0.2f)\" % (scores0.mean(), 2*scores0.std()/np.sqrt(5)))"
   ]
  },
  {
   "cell_type": "markdown",
   "metadata": {},
   "source": [
    "#### Using L1 regularization"
   ]
  },
  {
   "cell_type": "code",
   "execution_count": 44,
   "metadata": {},
   "outputs": [
    {
     "data": {
      "text/plain": [
       "array([0.825, 0.75 , 0.8  , 0.8  , 0.85 ])"
      ]
     },
     "execution_count": 44,
     "metadata": {},
     "output_type": "execute_result"
    }
   ],
   "source": [
    "modclass1 = LogisticRegression(penalty='l1', \n",
    "                               solver='saga', \n",
    "                               C=0.3, \n",
    "                               max_iter=1000)\n",
    "scores1 = cross_val_score(modclass1, X, y, cv=5)\n",
    "scores1"
   ]
  },
  {
   "cell_type": "code",
   "execution_count": 45,
   "metadata": {},
   "outputs": [
    {
     "name": "stdout",
     "output_type": "stream",
     "text": [
      "Accuracy: 0.80 (+/- 0.03)\n"
     ]
    }
   ],
   "source": [
    "print(\"Accuracy: %0.2f (+/- %0.2f)\" % \\\n",
    "      (scores1.mean(), 2*scores1.std()/np.sqrt(5)))"
   ]
  },
  {
   "cell_type": "markdown",
   "metadata": {},
   "source": [
    "#### Using L2 regularization"
   ]
  },
  {
   "cell_type": "code",
   "execution_count": 46,
   "metadata": {},
   "outputs": [
    {
     "data": {
      "text/plain": [
       "array([0.825, 0.75 , 0.8  , 0.85 , 0.9  ])"
      ]
     },
     "execution_count": 46,
     "metadata": {},
     "output_type": "execute_result"
    }
   ],
   "source": [
    "modclass2 = LogisticRegression(penalty='l2', \n",
    "                               solver='saga', \n",
    "                               C=0.3, \n",
    "                               max_iter=1000)\n",
    "scores2 = cross_val_score(modclass2, X, y, cv=5)\n",
    "scores2"
   ]
  },
  {
   "cell_type": "code",
   "execution_count": 47,
   "metadata": {},
   "outputs": [
    {
     "name": "stdout",
     "output_type": "stream",
     "text": [
      "Accuracy: 0.82 (+/- 0.04)\n"
     ]
    }
   ],
   "source": [
    "print(\"Accuracy: %0.2f (+/- %0.2f)\" % \\\n",
    "      (scores2.mean(), 2*scores2.std()/np.sqrt(5)))"
   ]
  },
  {
   "cell_type": "markdown",
   "metadata": {},
   "source": [
    "#### Using Elastic Net regularization"
   ]
  },
  {
   "cell_type": "code",
   "execution_count": 48,
   "metadata": {},
   "outputs": [
    {
     "data": {
      "text/plain": [
       "array([0.825, 0.75 , 0.825, 0.85 , 0.85 ])"
      ]
     },
     "execution_count": 48,
     "metadata": {},
     "output_type": "execute_result"
    }
   ],
   "source": [
    "modclass3 = LogisticRegression(penalty='elasticnet', \n",
    "                               solver='saga', \n",
    "                               l1_ratio=0.75, \n",
    "                               C=0.3, \n",
    "                               max_iter=1000)\n",
    "scores3 = cross_val_score(modclass3, X, y, cv=5)\n",
    "scores3"
   ]
  },
  {
   "cell_type": "code",
   "execution_count": 49,
   "metadata": {},
   "outputs": [
    {
     "name": "stdout",
     "output_type": "stream",
     "text": [
      "Accuracy: 0.82 (+/- 0.03)\n"
     ]
    }
   ],
   "source": [
    "print(\"Accuracy: %0.2f (+/- %0.2f)\" % \\\n",
    "      (scores3.mean(), 2*scores3.std()/np.sqrt(5)))"
   ]
  },
  {
   "cell_type": "markdown",
   "metadata": {},
   "source": [
    "---\n",
    "STAT 207, Victoria Ellison and Douglas Simpson, University of Illinois at Urbana-Champaign"
   ]
  },
  {
   "cell_type": "code",
   "execution_count": null,
   "metadata": {},
   "outputs": [],
   "source": []
  }
 ],
 "metadata": {
  "kernelspec": {
   "display_name": "Python 3",
   "language": "python",
   "name": "python3"
  },
  "language_info": {
   "codemirror_mode": {
    "name": "ipython",
    "version": 3
   },
   "file_extension": ".py",
   "mimetype": "text/x-python",
   "name": "python",
   "nbconvert_exporter": "python",
   "pygments_lexer": "ipython3",
   "version": "3.8.5"
  }
 },
 "nbformat": 4,
 "nbformat_minor": 2
}
