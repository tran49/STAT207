{
 "cells": [
  {
   "cell_type": "markdown",
   "metadata": {
    "slideshow": {
     "slide_type": "fragment"
    }
   },
   "source": [
    "<script>\n",
    "    document.querySelector('head').innerHTML += '<style>.slides { zoom: 1.0 !important; }</style>';\n",
    "</script>\n",
    "<!--# STAT 207: Data Science Exploration-->"
   ]
  },
  {
   "cell_type": "markdown",
   "metadata": {
    "slideshow": {
     "slide_type": "slide"
    }
   },
   "source": [
    "<h1 style=\"color:blue;\">Unit 11: Logistic Regression</h1>\n",
    "\n",
    "Linear regression is the first model considered when the response variable is numeric. If the response is binary or categorical, however, a different modeling approach will be more effective. The idea is to model the probability of each response category as a function of explanatory variables.\n"
   ]
  },
  {
   "cell_type": "markdown",
   "metadata": {
    "slideshow": {
     "slide_type": "subslide"
    }
   },
   "source": [
    "First, let's recall the properties of a simple Bernoulli random variable, which we'll denote by $Y$. Assume $Y$ is either 0 or 1, with $P(Y=1) = p$ and $P(Y=0) = 1-p$. We know that $E(Y) = p$, so we might consider allowing $p$ to follow a linear model in some explanatory variables $X_1, X_2, \\ldots, X_p$. But there are two problems with this approach:\n",
    "\n",
    "+ Ordinary least squares is no longer efficient, because the variance, $Var(Y) = p(1-p)$ is not constant, but instead depends on $p$.\n",
    "\n",
    "\n",
    "+ A **linear** model for $p$ can produce estimated probabilities bigger than 1 or less than 0! \n"
   ]
  },
  {
   "cell_type": "markdown",
   "metadata": {
    "slideshow": {
     "slide_type": "subslide"
    }
   },
   "source": [
    "\n",
    "**Logistic regression,** also known as **logit regression**, solves both of these problems:\n",
    "\n",
    "+ It ensures the probability estimates are in the range (0,1); it produces a sigmoidal model for probability as a function of the linear regression that is bounded between 0 and 1.\n",
    "\n",
    "\n",
    "+ It replaces ordinary least squares by maximum likelihood to give efficient estimates. \n",
    "\n",
    "\n",
    "Logistic regression models are built on the **log-odds (also called logit)** of the outcome of interest, and we will see that **odds-ratios** provide a useful parameter for describing relations between categorical variables and the explanatory variables.\n"
   ]
  },
  {
   "cell_type": "markdown",
   "metadata": {},
   "source": [
    "This section is organized as follows. \n",
    "\n",
    "+ We first discuss the relation between probabilities and odds, and use the odds formulation to explore association between categorical variables in 2 x 2 contingency tables. These are frequency cross classification tables. \n",
    "\n",
    "\n",
    "+ We will see how the odds ratio captures dependence between the two variables in the table. We also develop confidence intervals and tests based on the logarithnic transformation of the ods ratio.\n",
    "\n",
    "\n",
    "+ These ideas form the basis for building regression models for the log-odds (the logit) of the response categories. These models are analogous to linear regression models. To fit the models we use the maximum likelihood method in place of ordinary least squares.\n",
    "\n",
    "\n",
    "+ Like linear regression models, logistic regression models have coefficients that we can interpret, test, and compute confidence intervals for.\n",
    "\n",
    "\n",
    "+ We'll see a number of examples of logistic regression in action.\n",
    "\n"
   ]
  },
  {
   "cell_type": "markdown",
   "metadata": {},
   "source": [
    " Main Python libraries and functions:\n",
    "\n",
    "    Pandas, NumPy, StatsModels\n",
    "    pandas.DataFrame.crosstab\n",
    "    statsmodels.formula.api.logit\n"
   ]
  },
  {
   "cell_type": "markdown",
   "metadata": {
    "slideshow": {
     "slide_type": "slide"
    }
   },
   "source": [
    "<h1 style=\"color:blue;\"><u>TOPIC 1:</u> THEORY/DEFINITIONS - Probability and odds</h1>\n"
   ]
  },
  {
   "cell_type": "markdown",
   "metadata": {
    "slideshow": {
     "slide_type": "subslide"
    }
   },
   "source": [
    "### Odds\n",
    "**Ex:** First consider horse racing. What does it mean to say that the odds against a given horse winning are 9 to 1? Think of it as \"chances\" in a box of tickets. For every 1 \"chance\" of winning there are 9 \"chances\" of losing. \n",
    "\n",
    "#### Definitions: \n",
    "Two events: \"success\" and a \"failure\"\n",
    "\n",
    "**odds against success** are \"number of failures\" to \"number of successes\"\n",
    "\n",
    "<hr/>\n",
    "<hr/>\n",
    "<hr/>\n",
    "<hr/>\n",
    "<hr/>\n",
    "\n",
    "**odds for success** are \"number of successes\" to \"number of faiilures.\"\n",
    "\n",
    "<hr/>\n",
    "<hr/>\n",
    "<hr/>\n",
    "<hr/>\n",
    "<hr/>\n",
    "\n",
    "\n",
    "\n",
    "### Converting Odds to Probabilities\n",
    "If $p$ is the probability of winning, then we see that\n",
    "\n",
    "$$\n",
    "\\mbox{probability of winning} = p = {\\mbox{Number of chances of winning} \\over \\mbox{Total number of chances}} = {1 \\over 1 + 9} = {1 \\over 10}\n",
    "$$\n",
    "<hr/>\n",
    "<hr/>\n",
    "<hr/>\n",
    "<hr/>\n",
    "\n",
    "$$\n",
    "\\mbox{probability of losing} = 1-p = {\\mbox{Number of chances of losing} \\over \\mbox{Total number of chances}} = {9 \\over 1 + 9} = {9 \\over 10}\n",
    "$$\n",
    "<hr/>\n",
    "<hr/>\n",
    "<hr/>\n",
    "<hr/>\n",
    "\n",
    "### Converting Probabilities to Odds (and how to represent odds)\n",
    "\n",
    "We also see that\n",
    "\n",
    "$$\n",
    "\\mbox{odds of winning} = 1:9= \n",
    " {1 \\over 9} =\n",
    "{\\mbox{Number of chances of winning} \\over \\mbox{Number of chances of losing}}  = {1/10 \\over 9/10} = {p \\over 1-p}\n",
    "$$\n",
    "<hr/>\n",
    "<hr/>\n",
    "<hr/>\n",
    "<hr/>\n",
    "and\n",
    "\n",
    "$$\n",
    "\\mbox{odds against winning} = 9:1 = {9 \\over 1} =\n",
    "{\\mbox{Number of chances of losing} \\over \\mbox{Number of chances of winning}}  = {9/10 \\over 1/10}= {1-p \\over p}\n",
    "$$\n",
    "<hr/>\n",
    "<hr/>\n",
    "<hr/>\n",
    "<hr/>\n",
    "\n",
    "## Relationship between Odds and Probabilities\n",
    "\n",
    "In general, the probability $p$ (probability of success) of an event is related to the odds of the event as follows:\n",
    "\n",
    "$$\n",
    "\\mbox{odds for success} = {p \\over 1-p}\\quad \\mbox{and} \\quad p = {\\mbox{odds for success} \\over 1 + \\mbox{odds for success}}.\n",
    "$$\n",
    "<hr/>\n",
    "<hr/>\n",
    "<hr/>\n",
    "<hr/>\n",
    "<hr/>\n",
    "$$\n",
    "\\mbox{odds for failure} = {1-p \\over p}\\quad \\mbox{and} \\quad p = {\\mbox{odds for success} \\over 1 - \\mbox{odds for success}}.\n",
    "$$\n",
    "<hr/>\n",
    "<hr/>\n",
    "<hr/>"
   ]
  },
  {
   "cell_type": "markdown",
   "metadata": {
    "slideshow": {
     "slide_type": "subslide"
    }
   },
   "source": [
    "**Example:** If a horse is a 24 to 1 long shot to win the race, what is the probability that the horse wins the race?\n",
    "<hr/>\n",
    "<hr/>\n",
    "<hr/>\n",
    "<hr/>\n",
    "<hr/>\n",
    "<hr/>\n",
    "<hr/>\n",
    "<hr/>\n",
    "<hr/>\n",
    "<hr/>\n",
    "<hr/>\n",
    "<hr/>\n"
   ]
  },
  {
   "cell_type": "code",
   "execution_count": 1,
   "metadata": {
    "slideshow": {
     "slide_type": "skip"
    }
   },
   "outputs": [
    {
     "data": {
      "text/plain": [
       "0.04"
      ]
     },
     "execution_count": 1,
     "metadata": {},
     "output_type": "execute_result"
    }
   ],
   "source": [
    "p=1/(24+1)\n",
    "p"
   ]
  },
  {
   "cell_type": "markdown",
   "metadata": {
    "slideshow": {
     "slide_type": "subslide"
    }
   },
   "source": [
    "**Example:** If there is a 40% chance of rain what are the odds that it won't rain?\n",
    "<hr/>\n",
    "<hr/>\n",
    "<hr/>\n",
    "<hr/>\n",
    "<hr/>\n",
    "<hr/>\n",
    "<hr/>\n",
    "<hr/>\n",
    "<hr/>\n",
    "<hr/>\n",
    "<hr/>\n",
    "<hr/>\n",
    "<hr/>\n",
    "<hr/>"
   ]
  },
  {
   "cell_type": "code",
   "execution_count": 2,
   "metadata": {
    "slideshow": {
     "slide_type": "skip"
    }
   },
   "outputs": [
    {
     "data": {
      "text/plain": [
       "(0.4, 1.5)"
      ]
     },
     "execution_count": 2,
     "metadata": {},
     "output_type": "execute_result"
    }
   ],
   "source": [
    "p=0.4\n",
    "odds = 6/4\n",
    "p, odds"
   ]
  },
  {
   "cell_type": "markdown",
   "metadata": {
    "slideshow": {
     "slide_type": "slide"
    }
   },
   "source": [
    "<h1 style=\"color:blue;\"><u>TOPIC 2:</u> Exploring Probability and Odds with Two Categorical Variables (with 2 levels each).</h1>\n",
    "\n",
    "\n",
    "## EXAMPLE 1: Relationship between a categorical response variable *(opinion on border wall with Mexico)* a categorical explanatory variable: *sex*\n",
    "In the Pew Research Center Survey of February 2017, Question 52 asked: \"All in all, would you favor or oppose building a wall along the entire border with Mexico?\"\n",
    "\n",
    "## Example 1a. Use the data to estimate 1.) the probability and 2.) the odds that a randomly dialed survey respondent at that time would favor building the wall *in the sample.*\n",
    "<hr/>\n",
    "<hr/>\n",
    "<hr/>\n",
    "<hr/>\n",
    "<hr/>\n",
    "<hr/>\n",
    "<hr/>\n",
    "<hr/>\n",
    "<hr/>\n",
    "<hr/>\n",
    "<hr/>\n",
    "<hr/>\n",
    "<hr/>\n",
    "<hr/>"
   ]
  },
  {
   "cell_type": "code",
   "execution_count": 3,
   "metadata": {
    "slideshow": {
     "slide_type": "subslide"
    }
   },
   "outputs": [],
   "source": [
    "import numpy as np\n",
    "import pandas as pd\n",
    "import zipfile as zp"
   ]
  },
  {
   "cell_type": "code",
   "execution_count": 4,
   "metadata": {
    "slideshow": {
     "slide_type": "subslide"
    }
   },
   "outputs": [
    {
     "data": {
      "text/plain": [
       "Oppose                       947\n",
       "Favor                        515\n",
       "Don't know/Refused (VOL.)     41\n",
       "Name: q52, dtype: int64"
      ]
     },
     "execution_count": 4,
     "metadata": {},
     "output_type": "execute_result"
    }
   ],
   "source": [
    "# read q52 data from zip file and get category counts\n",
    "zf = zp.ZipFile('../data/Feb17-public.zip')\n",
    "q52 = pd.read_csv(zf.open('Feb17public.csv'))['q52']\n",
    "counts = q52.value_counts()\n",
    "counts"
   ]
  },
  {
   "cell_type": "markdown",
   "metadata": {},
   "source": [
    "<hr/>\n",
    "<hr/>\n",
    "<hr/>\n",
    "<hr/>\n",
    "<hr/>\n",
    "<hr/>\n",
    "<hr/>\n",
    "<hr/>\n",
    "<hr/>\n",
    "<hr/>\n",
    "<hr/>\n",
    "<hr/>\n",
    "<hr/>\n",
    "<hr/>\n",
    "<hr/>\n",
    "<hr/>\n",
    "<hr/>\n",
    "<hr/>\n",
    "<hr/>\n",
    "<hr/>\n",
    "<hr/>\n"
   ]
  },
  {
   "cell_type": "code",
   "execution_count": 5,
   "metadata": {
    "slideshow": {
     "slide_type": "subslide"
    }
   },
   "outputs": [
    {
     "name": "stdout",
     "output_type": "stream",
     "text": [
      "Proportion: 0.3426, Odds: 0.5213\n"
     ]
    }
   ],
   "source": [
    "prop = counts['Favor']/sum(counts)\n",
    "odds = prop / (1-prop)\n",
    "print('Proportion: '+str(round(prop,4))+', Odds: '+str(round(odds,4)))"
   ]
  },
  {
   "cell_type": "markdown",
   "metadata": {
    "slideshow": {
     "slide_type": "slide"
    }
   },
   "source": [
    "## Example 1b. Use the data to estimate 1.) the probability and 2.) the odds that a randomly dialed survey respondent at that time would favor building the wall *in the sample* FOR EACH SEX."
   ]
  },
  {
   "cell_type": "markdown",
   "metadata": {
    "slideshow": {
     "slide_type": "subslide"
    }
   },
   "source": [
    "When studying the relation between two categorical variables, a useful techique is to **cross-classify** the data in a contingency table. Continuing the Pew example, let's cross-classify the answer to Question 52 with the gender of the respondent. For the purpose of this example, we combine the categories 'Oppose' and 'Don't know/Refused (VOL.)' into one \"Not favor' category."
   ]
  },
  {
   "cell_type": "code",
   "execution_count": 6,
   "metadata": {
    "slideshow": {
     "slide_type": "slide"
    }
   },
   "outputs": [
    {
     "data": {
      "text/html": [
       "<div>\n",
       "<style scoped>\n",
       "    .dataframe tbody tr th:only-of-type {\n",
       "        vertical-align: middle;\n",
       "    }\n",
       "\n",
       "    .dataframe tbody tr th {\n",
       "        vertical-align: top;\n",
       "    }\n",
       "\n",
       "    .dataframe thead th {\n",
       "        text-align: right;\n",
       "    }\n",
       "</style>\n",
       "<table border=\"1\" class=\"dataframe\">\n",
       "  <thead>\n",
       "    <tr style=\"text-align: right;\">\n",
       "      <th></th>\n",
       "      <th>q52</th>\n",
       "      <th>sex</th>\n",
       "    </tr>\n",
       "  </thead>\n",
       "  <tbody>\n",
       "    <tr>\n",
       "      <th>0</th>\n",
       "      <td>Not_favor</td>\n",
       "      <td>Female</td>\n",
       "    </tr>\n",
       "    <tr>\n",
       "      <th>1</th>\n",
       "      <td>Not_favor</td>\n",
       "      <td>Female</td>\n",
       "    </tr>\n",
       "    <tr>\n",
       "      <th>2</th>\n",
       "      <td>Not_favor</td>\n",
       "      <td>Female</td>\n",
       "    </tr>\n",
       "    <tr>\n",
       "      <th>3</th>\n",
       "      <td>Favor</td>\n",
       "      <td>Male</td>\n",
       "    </tr>\n",
       "    <tr>\n",
       "      <th>4</th>\n",
       "      <td>Not_favor</td>\n",
       "      <td>Female</td>\n",
       "    </tr>\n",
       "  </tbody>\n",
       "</table>\n",
       "</div>"
      ],
      "text/plain": [
       "         q52     sex\n",
       "0  Not_favor  Female\n",
       "1  Not_favor  Female\n",
       "2  Not_favor  Female\n",
       "3      Favor    Male\n",
       "4  Not_favor  Female"
      ]
     },
     "execution_count": 6,
     "metadata": {},
     "output_type": "execute_result"
    }
   ],
   "source": [
    "df = pd.read_csv(zf.open('Feb17public.csv'))[['q52','sex']]\n",
    "# set 'Oppose' and 'Don't know/Refused (VOL.)' categories \n",
    "# to 'Not_favor'\n",
    "df['q52'][df['q52']!='Favor'] = 'Not_favor'\n",
    "df.head()"
   ]
  },
  {
   "cell_type": "code",
   "execution_count": 7,
   "metadata": {
    "slideshow": {
     "slide_type": "slide"
    }
   },
   "outputs": [
    {
     "data": {
      "text/html": [
       "<div>\n",
       "<style scoped>\n",
       "    .dataframe tbody tr th:only-of-type {\n",
       "        vertical-align: middle;\n",
       "    }\n",
       "\n",
       "    .dataframe tbody tr th {\n",
       "        vertical-align: top;\n",
       "    }\n",
       "\n",
       "    .dataframe thead th {\n",
       "        text-align: right;\n",
       "    }\n",
       "</style>\n",
       "<table border=\"1\" class=\"dataframe\">\n",
       "  <thead>\n",
       "    <tr style=\"text-align: right;\">\n",
       "      <th>sex</th>\n",
       "      <th>Female</th>\n",
       "      <th>Male</th>\n",
       "      <th>All</th>\n",
       "    </tr>\n",
       "    <tr>\n",
       "      <th>q52</th>\n",
       "      <th></th>\n",
       "      <th></th>\n",
       "      <th></th>\n",
       "    </tr>\n",
       "  </thead>\n",
       "  <tbody>\n",
       "    <tr>\n",
       "      <th>Favor</th>\n",
       "      <td>207</td>\n",
       "      <td>308</td>\n",
       "      <td>515</td>\n",
       "    </tr>\n",
       "    <tr>\n",
       "      <th>Not_favor</th>\n",
       "      <td>520</td>\n",
       "      <td>468</td>\n",
       "      <td>988</td>\n",
       "    </tr>\n",
       "    <tr>\n",
       "      <th>All</th>\n",
       "      <td>727</td>\n",
       "      <td>776</td>\n",
       "      <td>1503</td>\n",
       "    </tr>\n",
       "  </tbody>\n",
       "</table>\n",
       "</div>"
      ],
      "text/plain": [
       "sex        Female  Male   All\n",
       "q52                          \n",
       "Favor         207   308   515\n",
       "Not_favor     520   468   988\n",
       "All           727   776  1503"
      ]
     },
     "execution_count": 7,
     "metadata": {},
     "output_type": "execute_result"
    }
   ],
   "source": [
    "# use pandas crosstab function\n",
    "# use 'margins=True' to include row and column sums in the table\n",
    "tabl = pd.crosstab(index=df['q52'], columns=df['sex'], margins=True)\n",
    "tabl"
   ]
  },
  {
   "cell_type": "markdown",
   "metadata": {
    "slideshow": {
     "slide_type": "slide"
    }
   },
   "source": [
    "### Now we can estimate the probability of favoring the wall (success) for each sex:\n",
    "<hr/>\n",
    "<hr/>\n",
    "<hr/>\n",
    "<hr/>\n",
    "<hr/>\n",
    "<hr/>\n",
    "<hr/>\n",
    "<hr/>\n",
    "<hr/>\n",
    "<hr/>"
   ]
  },
  {
   "cell_type": "code",
   "execution_count": 8,
   "metadata": {
    "slideshow": {
     "slide_type": "subslide"
    }
   },
   "outputs": [
    {
     "data": {
      "text/plain": [
       "(0.28473177441540576, 0.39690721649484534)"
      ]
     },
     "execution_count": 8,
     "metadata": {},
     "output_type": "execute_result"
    }
   ],
   "source": [
    "prop_F = tabl['Female']['Favor']/tabl['Female']['All']\n",
    "prop_M = tabl['Male']['Favor']/tabl['Male']['All']\n",
    "prop_F, prop_M"
   ]
  },
  {
   "cell_type": "markdown",
   "metadata": {
    "slideshow": {
     "slide_type": "subslide"
    }
   },
   "source": [
    "### The corresponding odds of favoring the wall (success) for each sex are:\n",
    "<hr/>\n",
    "<hr/>\n",
    "<hr/>\n",
    "<hr/>\n",
    "<hr/>\n",
    "<hr/>\n",
    "<hr/>\n",
    "<hr/>\n",
    "<hr/>\n",
    "<hr/>\n",
    "<hr/>\n",
    "<hr/>\n",
    "<hr/>\n",
    "<hr/>"
   ]
  },
  {
   "cell_type": "code",
   "execution_count": 9,
   "metadata": {
    "slideshow": {
     "slide_type": "subslide"
    }
   },
   "outputs": [
    {
     "data": {
      "text/plain": [
       "(0.39807692307692305, 0.658119658119658)"
      ]
     },
     "execution_count": 9,
     "metadata": {},
     "output_type": "execute_result"
    }
   ],
   "source": [
    "odds_F, odds_M = prop_F / (1 - prop_F), prop_M / (1 - prop_M)\n",
    "odds_F, odds_M"
   ]
  },
  {
   "cell_type": "markdown",
   "metadata": {
    "slideshow": {
     "slide_type": "slide"
    }
   },
   "source": [
    "## THEORY/DEFINITIONS: The odds-ratio of two odds and the log-odds-ratio of two odds\n",
    "<hr/>\n",
    "<hr/>\n",
    "<hr/>\n",
    "<hr/>\n",
    "<hr/>\n",
    "<hr/>\n",
    "<hr/>\n",
    "<hr/>\n",
    "<hr/>\n",
    "<hr/>\n",
    "\n",
    "### Finally we compute the **odds ratio** for males versus females favoring the wall construction:\n",
    "<hr/>\n",
    "<hr/>\n",
    "<hr/>\n",
    "<hr/>\n",
    "<hr/>\n",
    "<hr/>\n",
    "<hr/>\n",
    "<hr/>\n",
    "<hr/>\n",
    "<hr/>\n",
    "<hr/>\n",
    "<hr/>"
   ]
  },
  {
   "cell_type": "code",
   "execution_count": 10,
   "metadata": {
    "slideshow": {
     "slide_type": "subslide"
    }
   },
   "outputs": [
    {
     "data": {
      "text/plain": [
       "1.6532"
      ]
     },
     "execution_count": 10,
     "metadata": {},
     "output_type": "execute_result"
    }
   ],
   "source": [
    "odds_ratio_MF = odds_M / odds_F\n",
    "round(odds_ratio_MF, 4)"
   ]
  },
  {
   "cell_type": "markdown",
   "metadata": {
    "slideshow": {
     "slide_type": "subslide"
    }
   },
   "source": [
    "The odds ratio for females versus males favoring the wall is the reciprocal of that for males versus females."
   ]
  },
  {
   "cell_type": "code",
   "execution_count": 11,
   "metadata": {
    "slideshow": {
     "slide_type": "subslide"
    }
   },
   "outputs": [
    {
     "data": {
      "text/plain": [
       "0.6049"
      ]
     },
     "execution_count": 11,
     "metadata": {},
     "output_type": "execute_result"
    }
   ],
   "source": [
    "odds_ratio_FM = odds_F / odds_M\n",
    "round(odds_ratio_FM, 4)"
   ]
  },
  {
   "cell_type": "markdown",
   "metadata": {
    "slideshow": {
     "slide_type": "subslide"
    }
   },
   "source": [
    "The two odds ratios are equivalent. We just need to be careful to report the direction correctly."
   ]
  },
  {
   "cell_type": "markdown",
   "metadata": {},
   "source": [
    "### Calculate the natural log of the odds ratio for males vs. females. Remember the properties of logs!\n",
    "<hr/>\n",
    "<hr/>\n",
    "<hr/>\n",
    "<hr/>\n",
    "<hr/>\n",
    "<hr/>\n",
    "<hr/>\n",
    "<hr/>\n",
    "<hr/>\n",
    "<hr/>\n",
    "<hr/>\n",
    "<hr/>"
   ]
  },
  {
   "cell_type": "markdown",
   "metadata": {
    "slideshow": {
     "slide_type": "slide"
    }
   },
   "source": [
    "## Conclusion about the relationship between the two sex odds *for just this sample.*\n",
    "In this survey, the odds that a male respondent would favor the wall was 1.65 times as high as the odds that a female respondent would favor the wall. Equivalently, the odds that a female respondent would favor the wall was only 60.5% of the odds that a male respondent would favor the wall.\n",
    "\n",
    "\n",
    "<h1 style=\"color:blue;\"><u>TOPIC 3:</u> Conducting Inference about Log-Odds-Ratio *in a Population*.</h1>\n",
    "\n",
    "<hr/>\n",
    "<hr/>\n",
    "<hr/>\n",
    "<hr/>\n",
    "How can we assess the uncertainty in the odds ratio? So far, we know how to do a z-test for the difference between the two proportions, so that gives us an alternative analysis.\n",
    "<hr/>\n",
    "<hr/>\n",
    "<hr/>\n",
    "<hr/>\n",
    "<hr/>\n",
    "<hr/>\n",
    "<hr/>\n",
    "<hr/>\n",
    "<hr/>\n",
    "\n",
    "\n",
    "We will see that logistic regression provides a way to create confidence intervals for odds ratios. However, for this 2 x 2 setting there is a simple standard error formula for the logarithm of the odds ratio."
   ]
  },
  {
   "cell_type": "markdown",
   "metadata": {
    "slideshow": {
     "slide_type": "slide"
    }
   },
   "source": [
    "## GENERAL: Confidence interval for log-odds-ratio using a 2 x 2 contingency table\n",
    "<hr/>\n",
    "<hr/>\n",
    "<hr/>\n",
    "<hr/>\n",
    "<hr/>\n",
    "<hr/>\n",
    "<hr/>\n",
    "<hr/>\n",
    "<hr/>\n",
    "<hr/>\n",
    "\n",
    "It turns out there is a simple formula for the standard error of the **log-odds-ratio** in a 2 x 2 table. Therefore, we can compute a confidence interval for the log odds ratio, and then exponentiate the endpoints of the interval to get a confidence interval for the odds ratio itself.\n",
    "\n",
    "### Computing the Odds Ratio $\\hat{\\theta}$)\n",
    "Consider a generic table of the form\n",
    "<hr/>\n",
    "<hr/>\n",
    "<hr/>\n",
    "<hr/>\n",
    "<hr/>\n",
    "\n",
    "| row | expl_var_level_0 | expl_var_level_1 |\n",
    "| --- | --- | --- |\n",
    "| resp_var_level_0 (success) | $n_{00}$ | $n_{01}$ |\n",
    "| resp_var_level_1 (failure) | $n_{10}$ | $n_{11}$ |\n",
    "\n",
    "<hr/>\n",
    "<hr/>\n",
    "<hr/>\n",
    "<hr/>\n",
    "<hr/>\n",
    "\n",
    "\n",
    "We compute the odds ratio for expl_var_level_0 versus expl_var_level_1 for resp_var_level_0 (the success):\n",
    "\n",
    "$$\n",
    "\\hat{\\theta} = \\mbox{odds ratio} = {n_{00} / n_{10} \\over n_{01} / n_{11}} = {n_{00} n_{11} \\over n_{10} n_{01}}\n",
    "$$\n",
    "\n",
    "### Properties of the Odds Ratio $\\hat{\\theta}$)\n",
    "\n",
    "1. **Positivity:** the value of $\\hat{\\theta}$ is always positive. \n",
    "<hr/>\n",
    "<hr/>\n",
    "<hr/>\n",
    "<hr/>\n",
    "2. **Association between the Variables:** if there is no relation between the explanatory and response variables, then the odds ratio = 1.\n",
    "<hr/>\n",
    "<hr/>\n",
    "<hr/>\n",
    "<hr/>\n",
    "\n"
   ]
  },
  {
   "cell_type": "markdown",
   "metadata": {
    "slideshow": {
     "slide_type": "subslide"
    }
   },
   "source": [
    "### Computing the SAMPLE STATISTIC (ie. the log-odds-ratio $\\hat{\\beta}$)\n",
    "Taking the natural log gives\n",
    "\n",
    "\n",
    "\n",
    "<hr/>\n",
    "<hr/>\n",
    "<hr/>\n",
    "<hr/>\n",
    "<hr/>\n",
    "<hr/>\n",
    "<hr/>\n",
    "<hr/>\n",
    "<hr/>\n",
    "$$\n",
    "\\hat{\\beta} = \\ln(\\hat{\\theta}) = \\ln(n_{00}) - \\ln(n_{10}) - \\ln(n_{01}) + \\ln(n_{11})\n",
    "$$\n",
    "\n",
    "### Properties of the SAMPLE STATISTIC (ie. the log-odds-ratio $\\hat{\\beta}$)\n",
    "\n",
    "1. **Normality of these Sample Statistics**: \n",
    "This sample statistic (ie. the distribution of sample log-odds ratio) is approximately normal\n",
    "\n",
    "<hr/>\n",
    "<hr/>\n",
    "<hr/>\n",
    "<hr/>\n",
    "\n",
    "2. **Mean of these Sample Statistics**: \n",
    "The mean of the sample statistics (ie. the sample log odds ratios) equal to the population log odds ratio. \n",
    "\n",
    "\n",
    "If there is no relation between the explanatory and response variables *in the population*, then the *population* log odds ratio in the population is 0.\n",
    "<hr/>\n",
    "<hr/>\n",
    "<hr/>\n",
    "<hr/>\n",
    "\n",
    "3. **Standard Deviation of these Sample Statistics (ie. Standard Error)**: \n",
    "The large sample standard error formula for $\\hat{\\beta}$ is given by:\n",
    "\n",
    "$$\n",
    "se(\\hat{\\beta}) = \\sqrt{{1 \\over n_{00}} + {1 \\over n_{10}} + \n",
    "{1 \\over n_{01}} + {1 \\over n_{11}}}.\n",
    "$$\n",
    "\n",
    "<hr/>\n",
    "<hr/>\n",
    "<hr/>\n",
    "<hr/>\n",
    "Derivation of this formula is beyond our scope here, but it is derived from the large sample distribution of the cell counts and a Taylor approximation."
   ]
  },
  {
   "cell_type": "markdown",
   "metadata": {
    "slideshow": {
     "slide_type": "subslide"
    }
   },
   "source": [
    "## Confidence Interval for the Log-Odds Ratio\n",
    "\n",
    "\n",
    "$$\n",
    "(c_{lo}, c_{hi}) = (\\hat{\\beta} - z_{1-\\alpha/2}*se(\\hat{\\beta}), \\,\\, \\hat{\\beta} + z_{1-\\alpha/2}*se(\\hat{\\beta})).\n",
    "$$\n",
    "<hr/>\n",
    "<hr/>\n",
    "<hr/>\n",
    "<hr/>\n",
    "<hr/>\n",
    "<hr/>\n",
    "<hr/>\n",
    "<hr/>\n",
    "\n",
    "## Confidence Interval for the Odds Ratio\n",
    "\n",
    "\n",
    "Therefore, if we desire a $(1-\\alpha)\\dot 100$% confidence interval for the **odds ratio**, we can first compute a $(1-\\alpha)\\dot 100$%confidence inteval for the **log odds ratio**:\n",
    "Then exponentiate to get the $(1-\\alpha)\\dot 100$% confidence interval for the odds ratio:\n",
    "\n",
    "$$\n",
    "\\mbox{odds ratio} \\in (e^{c_{lo}}, \\, e^{c_{hi}}).\n",
    "$$\n",
    "<hr/>\n",
    "<hr/>\n",
    "<hr/>\n",
    "<hr/>\n",
    "<hr/>\n",
    "<hr/>\n",
    "<hr/>\n",
    "<hr/>"
   ]
  },
  {
   "cell_type": "markdown",
   "metadata": {
    "slideshow": {
     "slide_type": "slide"
    }
   },
   "source": [
    "## Example 1c: Create a 95% confidence interval for \n",
    "1. *the population* log-odds ratio of males vs. females for support for the border wall (ie. $\\theta$) and \n",
    "2. *the population* odds ratio of males vs. females for support for the border wall (ie. $\\beta$).\n",
    "\n",
    "\n",
    "Pew data example of support for border wall versus gender. Let's redo the table without the margin totals, since we don't need them."
   ]
  },
  {
   "cell_type": "code",
   "execution_count": 12,
   "metadata": {
    "slideshow": {
     "slide_type": "subslide"
    }
   },
   "outputs": [
    {
     "data": {
      "text/html": [
       "<div>\n",
       "<style scoped>\n",
       "    .dataframe tbody tr th:only-of-type {\n",
       "        vertical-align: middle;\n",
       "    }\n",
       "\n",
       "    .dataframe tbody tr th {\n",
       "        vertical-align: top;\n",
       "    }\n",
       "\n",
       "    .dataframe thead th {\n",
       "        text-align: right;\n",
       "    }\n",
       "</style>\n",
       "<table border=\"1\" class=\"dataframe\">\n",
       "  <thead>\n",
       "    <tr style=\"text-align: right;\">\n",
       "      <th>sex</th>\n",
       "      <th>Female</th>\n",
       "      <th>Male</th>\n",
       "    </tr>\n",
       "    <tr>\n",
       "      <th>q52</th>\n",
       "      <th></th>\n",
       "      <th></th>\n",
       "    </tr>\n",
       "  </thead>\n",
       "  <tbody>\n",
       "    <tr>\n",
       "      <th>Favor</th>\n",
       "      <td>207</td>\n",
       "      <td>308</td>\n",
       "    </tr>\n",
       "    <tr>\n",
       "      <th>Not_favor</th>\n",
       "      <td>520</td>\n",
       "      <td>468</td>\n",
       "    </tr>\n",
       "  </tbody>\n",
       "</table>\n",
       "</div>"
      ],
      "text/plain": [
       "sex        Female  Male\n",
       "q52                    \n",
       "Favor         207   308\n",
       "Not_favor     520   468"
      ]
     },
     "execution_count": 12,
     "metadata": {},
     "output_type": "execute_result"
    }
   ],
   "source": [
    "# use pandas crosstab function\n",
    "tabl2 = pd.crosstab(index=df['q52'], columns=df['sex'])\n",
    "tabl2"
   ]
  },
  {
   "cell_type": "markdown",
   "metadata": {},
   "source": [
    "<br/>\n",
    "<br/>\n",
    "<br/>\n",
    "<br/>\n",
    "<br/>\n",
    "\n",
    "### Compute Odds Ratio $\\hat{\\theta}$ of males vs. females for support for the border wall *in the sample*.\n",
    "<br/>\n",
    "<br/>\n",
    "<br/>\n",
    "<br/>\n",
    "<br/>\n",
    "<br/>\n",
    "<br/>\n",
    "<br/>\n",
    "\n"
   ]
  },
  {
   "cell_type": "code",
   "execution_count": 13,
   "metadata": {
    "slideshow": {
     "slide_type": "subslide"
    }
   },
   "outputs": [
    {
     "data": {
      "text/plain": [
       "1.6532474503488999"
      ]
     },
     "execution_count": 13,
     "metadata": {},
     "output_type": "execute_result"
    }
   ],
   "source": [
    "# compute odds ratio Males odds/Female odds of support\n",
    "# Note: '\\' = python symbol for \"continues on the next line\"\n",
    "OR = (tabl2.iloc[1,0]/tabl2.iloc[1,1]) \\\n",
    "     / (tabl2.iloc[0,0]/tabl2.iloc[0,1])\n",
    "OR"
   ]
  },
  {
   "cell_type": "markdown",
   "metadata": {},
   "source": [
    "### Compute the Log Odds Ratio $\\hat{\\beta}=ln(\\hat{\\theta})$ of males vs. females for support for the border wall *in the sample*.\n",
    "<br/>\n",
    "<br/>\n",
    "<br/>\n",
    "<br/>\n",
    "<br/>\n",
    "<br/>\n",
    "<br/>\n",
    "<br/>\n",
    "\n",
    "### Compute the Standard Error of the Log Odds Ratio $SD[\\hat{\\beta}]=SD[ln(\\hat{\\theta})]$ of males vs. females for support for the border wall *in the sample*.\n",
    "<br/>\n",
    "<br/>\n",
    "<br/>\n",
    "<br/>\n",
    "<br/>\n",
    "<br/>\n",
    "<br/>\n",
    "<br/>"
   ]
  },
  {
   "cell_type": "code",
   "execution_count": 14,
   "metadata": {
    "slideshow": {
     "slide_type": "subslide"
    }
   },
   "outputs": [
    {
     "name": "stdout",
     "output_type": "stream",
     "text": [
      "log_odds_ratio: 0.5027415053660318, std_err: 0.11017032350401101\n"
     ]
    }
   ],
   "source": [
    "# log-odds-ratio and standard error\n",
    "# Note: use '\\' to indicate expression continues\n",
    "#       on the next line\n",
    "LGOR = np.log(OR)\n",
    "LGOR_se = np.sqrt((1/tabl2.iloc[1,0])+ \\\n",
    "                  (1/tabl2.iloc[1,1])+ \\\n",
    "                  (1/tabl2.iloc[0,0])+ \\\n",
    "                  (1/tabl2.iloc[0,1]))\n",
    "print(\"log_odds_ratio: \"+str(LGOR)+\", std_err: \"+str(LGOR_se))"
   ]
  },
  {
   "cell_type": "markdown",
   "metadata": {},
   "source": [
    "### Construct a 95% Confidence interval for the *Population* Log Odds Ratio $\\beta$. Interpret it.\n",
    "<br/>\n",
    "<br/>\n",
    "<br/>\n",
    "<br/>\n",
    "<br/>\n",
    "<br/>\n",
    "<br/>\n",
    "<br/>\n",
    "<br/>\n",
    "<br/>\n",
    "<br/>\n",
    "<br/>\n",
    "\n",
    "\n",
    "\n",
    "### Construct a 95% Confidence interval for the *Population* Odds Ratio $\\theta$. Interpret it.\n",
    "\n",
    "<br/>\n",
    "<br/>\n",
    "<br/>\n",
    "<br/>\n",
    "<br/>\n",
    "<br/>\n",
    "<br/>\n",
    "<br/>\n",
    "<br/>\n",
    "<br/>\n",
    "<br/>"
   ]
  },
  {
   "cell_type": "code",
   "execution_count": 15,
   "metadata": {
    "slideshow": {
     "slide_type": "slide"
    }
   },
   "outputs": [
    {
     "name": "stdout",
     "output_type": "stream",
     "text": [
      "Log_odds_ratio CI: (0.2868116391330436, 0.7186713715990201)\n",
      "Odd_ratio CI: (1.3321732605312708, 2.051705444827144)\n"
     ]
    }
   ],
   "source": [
    "# 95% confidence interval for log_odds_ratio and odds_ratio\n",
    "from scipy.stats import norm\n",
    "confidence = 0.95\n",
    "zq = norm.ppf(1-(1-confidence)/2)\n",
    "cut_lo, cut_hi = LGOR - zq*LGOR_se, LGOR + zq*LGOR_se\n",
    "print(\"Log_odds_ratio CI: \"+str((cut_lo, cut_hi)))\n",
    "print(\"Odd_ratio CI: \"+str((np.exp(cut_lo), np.exp(cut_hi))))"
   ]
  },
  {
   "cell_type": "markdown",
   "metadata": {},
   "source": [
    "## Use this confidence interval to answer the question: is there sufficient evidence to suggest that there is an association between sex and support for the border wall *in the population* of all adults living in the U.S.\n",
    "<br/>\n",
    "<br/>\n",
    "<br/>\n",
    "<br/>\n",
    "<br/>\n",
    "<br/>\n",
    "<br/>\n",
    "<br/>\n",
    "<br/>\n",
    "<br/>\n",
    "<br/>\n",
    "<br/>\n",
    "<br/>\n",
    "<br/>\n",
    "<br/>\n",
    "<br/>\n",
    "<br/>\n",
    "<br/>\n",
    "<br/>\n",
    "<br/>\n",
    "<br/>"
   ]
  },
  {
   "cell_type": "markdown",
   "metadata": {
    "slideshow": {
     "slide_type": "subslide"
    }
   },
   "source": [
    "We see that the odds ratio is significantly higher than 1 at level $\\alpha=0.05$. "
   ]
  },
  {
   "cell_type": "markdown",
   "metadata": {
    "slideshow": {
     "slide_type": "slide"
    }
   },
   "source": [
    "<h1 style=\"color:blue;\"><u>TOPIC 4:</u> Logistic Regression - Using Log Odds to Set up a Regression with a Categorical Response variable</h1>"
   ]
  },
  {
   "cell_type": "markdown",
   "metadata": {
    "slideshow": {
     "slide_type": "slide"
    }
   },
   "source": [
    "## Goal:\n",
    "<br/>\n",
    "<br/>\n",
    "<br/>\n",
    "<br/>\n",
    "<br/>\n",
    "<br/>\n",
    "<br/>\n",
    "In the Pew Survey example, we may think of favoring or not favoring the wall contruction as a binary response variable. We would like to examine how other variables \"explain\" or correlate with this response. A widely used approach is to develop a regression model, not for the expected response ($p$), but for the **log-odds** ($\\log(p/(1-p)$), which is often called the **logit**.\n",
    "\n",
    "Recall our notation for the variables and data in linear regression:\n",
    "\n",
    "\n",
    "\n",
    "| $X_1$ | $X_2$ | $\\cdots$ | $X_p$ | $Y$ |\n",
    "| --- | --- | --- | --- | --- |\n",
    "| $x_{11}$ | $x_{12}$ | $\\cdots$ | $x_{1p}$ | $y_1$ |\n",
    "| $x_{21}$ | $x_{22}$ | $\\cdots$ | $x_{2p}$ | $y_2$ |\n",
    "| $\\vdots$ | $\\vdots$ | $\\cdots$ | $\\vdots$ | $\\vdots$ |\n",
    "| $x_{n1}$ | $x_{n2}$ | $\\cdots$ | $x_{np}$ | $y_n$ |\n",
    "\n",
    "\n"
   ]
  },
  {
   "cell_type": "markdown",
   "metadata": {
    "slideshow": {
     "slide_type": "subslide"
    }
   },
   "source": [
    "The only difference here is that $Y$ only takes on the values $0$ or $1$, (or two cateogrical values that we can encode as 0 and 1). We still refer to $X_1, X_2, \\ldots, X_p$ as the exogenous or explanatory variables. $Y$ represents the binary response variable.\n",
    "<br/>\n",
    "<br/>\n",
    "<br/>\n",
    "<br/>\n",
    "\n",
    "## Logistic Regression Model *for Population Data*\n",
    "### General Logistic Regression Model Form *for the Population Data*\n",
    "Letting $p = P(Y=1)$, the general logit or logistic regression model has the form of a linear model for the log-odds:\n",
    "<br/>\n",
    "<br/>\n",
    "<br/>\n",
    "<br/>\n",
    "$$\n",
    "\\mbox{logit}(p) = \\log\\left({p \\over 1-p}\\right) = \\beta_0 + \\beta_1 X_1 + \\beta_2 X_2 + \\cdots + \\beta_p X_p.\n",
    "$$\n",
    "<br/>\n",
    "<br/>\n",
    "<br/>\n",
    "<br/>\n",
    "#### Properties of General Logistic Regression Model Form\n",
    "Because log-odds can take any value in $(-\\infty, \\infty)$, the linear model on this scale will produce valid probability estimates for the response. \n",
    "\n",
    "### Converting the General Logistic Regression Model Form to Probabilities *for the Population Data*\n",
    "Using what we know about converting odds to probabilities, it can be shown that the model equivalently expresses the probability of Y=1 as\n",
    "\n",
    "$$\n",
    "p = {\\exp(\\beta_0 + \\beta_1 X_1 + \\beta_2 X_2 + \\cdots + \\beta_p X_p) \\over\n",
    "1 + \\exp(\\beta_0 + \\beta_1 X_1 + \\beta_2 X_2 + \\cdots + \\beta_p X_p) }.\n",
    "$$\n",
    "<br/>\n",
    "<br/>\n",
    "<br/>\n",
    "<br/>\n",
    "#### Properties of this Converted General Logistic Regression Model Form\n",
    "This *predicted p* is always between 0 and 1."
   ]
  },
  {
   "cell_type": "markdown",
   "metadata": {
    "slideshow": {
     "slide_type": "subslide"
    }
   },
   "source": [
    "## Logistic Regression Model *for Sample Data*\n",
    "We can fit a sample logistic regression as follows:\n",
    "$$\n",
    "\\mbox{logit}(p) = \\log\\left({p \\over 1-p}\\right) = \\hat{\\beta_0} +  \\hat{\\beta_1} X_1 +  \\hat{\\beta_2} X_2 + \\cdots +  \\hat{\\beta_p} X_p.\n",
    "$$\n",
    "<br/>\n",
    "<br/>\n",
    "which can be converted to\n",
    "$$\n",
    "p = {\\exp(\\hat{\\beta_0} + \\hat{\\beta_1} X_1 + \\hat{\\beta_2}_2 X_2 + \\cdots + \\hat{\\beta_p} X_p) \\over\n",
    "1 + \\exp(\\hat{\\beta_0} + \\hat{\\beta_1} X_1 + \\hat{\\beta_2} X_2 + \\cdots + \\hat{\\beta_p} X_p) }.\n",
    "$$\n",
    "$\\hat{\\beta}_0, \\hat{\\beta}_1,...,\\hat{\\beta}_p$\n",
    "\n",
    "### How do we find values of $\\hat{\\beta}_0, \\hat{\\beta}_1,...,\\hat{\\beta}_p$ that \"best fit\" the sample data?\n",
    "\n",
    "Efficient coefficient estimates are obtained for this model by the **method of maximum likelihood**. This is a generalization of least squares for linear regression, where in that setting the least squares criterion is equivalent to maximizing a Gaussian likelihood to to estimate the regression coefficients. Here we maximize a **Bernoulli likelihood** as a function of the regression coefficients.\n",
    "<br/>\n",
    "<br/>\n",
    "<br/>\n",
    "<br/>\n",
    "<br/>\n",
    "<br/>\n",
    "<br/>\n",
    "<br/>\n",
    "<br/>\n",
    "<br/>\n",
    "<br/>\n",
    "<br/>\n",
    "\n",
    "**In Python statsmodels:** We can fit these models using the statsmodels.formula.api function 'logit', with similar function calls as 'ols'.\n"
   ]
  },
  {
   "cell_type": "markdown",
   "metadata": {
    "slideshow": {
     "slide_type": "slide"
    }
   },
   "source": [
    "## Logistic regression with one binary explanatory variable\n",
    "\n",
    "Let's continue the Pew data example, modeling the response to question 52 versus gender as a ccategorical variable. In order to fit the logit model we need to map the two response categories to numerical values. To do that we'll create a new binary variable 'y'. Then we fit a logit model of the form\n",
    "\n",
    "$$\n",
    "\\mbox{logit}(p) = \\beta_0 + \\beta_1 X\n",
    "$$\n",
    "\n",
    "where $p = P(y=1)$ and $X$ is an indicator for gender. \n",
    "\n",
    "<br/>\n",
    "<br/>\n",
    "<br/>\n",
    "<br/>\n",
    "<br/>\n",
    "<br/>\n",
    "<br/>\n",
    "<br/>\n",
    "<br/>\n",
    "<br/>\n",
    "<br/>\n"
   ]
  },
  {
   "cell_type": "code",
   "execution_count": 16,
   "metadata": {
    "slideshow": {
     "slide_type": "slide"
    }
   },
   "outputs": [
    {
     "data": {
      "text/html": [
       "<div>\n",
       "<style scoped>\n",
       "    .dataframe tbody tr th:only-of-type {\n",
       "        vertical-align: middle;\n",
       "    }\n",
       "\n",
       "    .dataframe tbody tr th {\n",
       "        vertical-align: top;\n",
       "    }\n",
       "\n",
       "    .dataframe thead th {\n",
       "        text-align: right;\n",
       "    }\n",
       "</style>\n",
       "<table border=\"1\" class=\"dataframe\">\n",
       "  <thead>\n",
       "    <tr style=\"text-align: right;\">\n",
       "      <th></th>\n",
       "      <th>q52</th>\n",
       "      <th>sex</th>\n",
       "      <th>y</th>\n",
       "    </tr>\n",
       "  </thead>\n",
       "  <tbody>\n",
       "    <tr>\n",
       "      <th>0</th>\n",
       "      <td>Not_favor</td>\n",
       "      <td>Female</td>\n",
       "      <td>0</td>\n",
       "    </tr>\n",
       "    <tr>\n",
       "      <th>1</th>\n",
       "      <td>Not_favor</td>\n",
       "      <td>Female</td>\n",
       "      <td>0</td>\n",
       "    </tr>\n",
       "    <tr>\n",
       "      <th>2</th>\n",
       "      <td>Not_favor</td>\n",
       "      <td>Female</td>\n",
       "      <td>0</td>\n",
       "    </tr>\n",
       "    <tr>\n",
       "      <th>3</th>\n",
       "      <td>Favor</td>\n",
       "      <td>Male</td>\n",
       "      <td>1</td>\n",
       "    </tr>\n",
       "    <tr>\n",
       "      <th>4</th>\n",
       "      <td>Not_favor</td>\n",
       "      <td>Female</td>\n",
       "      <td>0</td>\n",
       "    </tr>\n",
       "  </tbody>\n",
       "</table>\n",
       "</div>"
      ],
      "text/plain": [
       "         q52     sex  y\n",
       "0  Not_favor  Female  0\n",
       "1  Not_favor  Female  0\n",
       "2  Not_favor  Female  0\n",
       "3      Favor    Male  1\n",
       "4  Not_favor  Female  0"
      ]
     },
     "execution_count": 16,
     "metadata": {},
     "output_type": "execute_result"
    }
   ],
   "source": [
    "df['y']=df['q52'].map({'Not_favor':0,'Favor':1})\n",
    "df.head()"
   ]
  },
  {
   "cell_type": "code",
   "execution_count": 17,
   "metadata": {
    "slideshow": {
     "slide_type": "slide"
    }
   },
   "outputs": [],
   "source": [
    "import numpy as np\n",
    "import statsmodels.api as sm\n",
    "import statsmodels.formula.api as smf"
   ]
  },
  {
   "cell_type": "markdown",
   "metadata": {},
   "source": [
    "### Let's fit the model in Python. \n",
    "Note we're using a different statsmodel function than the one we do for linear regression."
   ]
  },
  {
   "cell_type": "code",
   "execution_count": 18,
   "metadata": {
    "slideshow": {
     "slide_type": "subslide"
    }
   },
   "outputs": [
    {
     "name": "stdout",
     "output_type": "stream",
     "text": [
      "Optimization terminated successfully.\n",
      "         Current function value: 0.635765\n",
      "         Iterations 5\n"
     ]
    },
    {
     "data": {
      "text/html": [
       "<table class=\"simpletable\">\n",
       "<caption>Logit Regression Results</caption>\n",
       "<tr>\n",
       "  <th>Dep. Variable:</th>           <td>y</td>        <th>  No. Observations:  </th>  <td>  1503</td>  \n",
       "</tr>\n",
       "<tr>\n",
       "  <th>Model:</th>                 <td>Logit</td>      <th>  Df Residuals:      </th>  <td>  1501</td>  \n",
       "</tr>\n",
       "<tr>\n",
       "  <th>Method:</th>                 <td>MLE</td>       <th>  Df Model:          </th>  <td>     1</td>  \n",
       "</tr>\n",
       "<tr>\n",
       "  <th>Date:</th>            <td>Sun, 25 Oct 2020</td> <th>  Pseudo R-squ.:     </th>  <td>0.01091</td> \n",
       "</tr>\n",
       "<tr>\n",
       "  <th>Time:</th>                <td>20:52:45</td>     <th>  Log-Likelihood:    </th> <td> -955.55</td> \n",
       "</tr>\n",
       "<tr>\n",
       "  <th>converged:</th>             <td>True</td>       <th>  LL-Null:           </th> <td> -966.09</td> \n",
       "</tr>\n",
       "<tr>\n",
       "  <th>Covariance Type:</th>     <td>nonrobust</td>    <th>  LLR p-value:       </th> <td>4.412e-06</td>\n",
       "</tr>\n",
       "</table>\n",
       "<table class=\"simpletable\">\n",
       "<tr>\n",
       "       <td></td>          <th>coef</th>     <th>std err</th>      <th>z</th>      <th>P>|z|</th>  <th>[0.025</th>    <th>0.975]</th>  \n",
       "</tr>\n",
       "<tr>\n",
       "  <th>Intercept</th>   <td>   -0.9211</td> <td>    0.082</td> <td>  -11.208</td> <td> 0.000</td> <td>   -1.082</td> <td>   -0.760</td>\n",
       "</tr>\n",
       "<tr>\n",
       "  <th>sex[T.Male]</th> <td>    0.5027</td> <td>    0.110</td> <td>    4.563</td> <td> 0.000</td> <td>    0.287</td> <td>    0.719</td>\n",
       "</tr>\n",
       "</table>"
      ],
      "text/plain": [
       "<class 'statsmodels.iolib.summary.Summary'>\n",
       "\"\"\"\n",
       "                           Logit Regression Results                           \n",
       "==============================================================================\n",
       "Dep. Variable:                      y   No. Observations:                 1503\n",
       "Model:                          Logit   Df Residuals:                     1501\n",
       "Method:                           MLE   Df Model:                            1\n",
       "Date:                Sun, 25 Oct 2020   Pseudo R-squ.:                 0.01091\n",
       "Time:                        20:52:45   Log-Likelihood:                -955.55\n",
       "converged:                       True   LL-Null:                       -966.09\n",
       "Covariance Type:            nonrobust   LLR p-value:                 4.412e-06\n",
       "===============================================================================\n",
       "                  coef    std err          z      P>|z|      [0.025      0.975]\n",
       "-------------------------------------------------------------------------------\n",
       "Intercept      -0.9211      0.082    -11.208      0.000      -1.082      -0.760\n",
       "sex[T.Male]     0.5027      0.110      4.563      0.000       0.287       0.719\n",
       "===============================================================================\n",
       "\"\"\""
      ]
     },
     "execution_count": 18,
     "metadata": {},
     "output_type": "execute_result"
    }
   ],
   "source": [
    "mod1 = smf.logit(formula='y ~ sex', data=df).fit()\n",
    "mod1.summary()"
   ]
  },
  {
   "cell_type": "markdown",
   "metadata": {
    "slideshow": {
     "slide_type": "slide"
    }
   },
   "source": [
    "### Fitted model\n",
    "\n",
    "<br/>\n",
    "<br/>\n",
    "<br/>\n",
    "<br/>\n",
    "<br/>\n",
    "<br/>\n",
    "<br/>\n",
    "<br/>\n",
    "<br/>\n",
    "<br/>\n",
    "<br/>\n",
    "<br/>\n",
    "<br/>\n",
    "<br/>\n",
    "\n",
    "Based on these results, the fitted model has the form:\n",
    "\n",
    "$$\n",
    "\\log(\\mbox{odds}) = -0.9211 + 0.5027 * X\n",
    "$$\n",
    "\n",
    "where\n",
    "\n",
    "$$\n",
    "X = \n",
    "\\begin{cases}\n",
    "0, & \\text{Female}\\\\\n",
    "1, & \\text{Male}\\\\\n",
    "\\end{cases}\n",
    "$$\n",
    "\n",
    "\n",
    "\n"
   ]
  },
  {
   "cell_type": "markdown",
   "metadata": {
    "slideshow": {
     "slide_type": "subslide"
    }
   },
   "source": [
    "\n",
    "### Interpretation of the log odds ratio for this model\n",
    "$$\n",
    "\\begin{align}\n",
    "\\mbox{logit}(p) = \\log\\left({p \\over 1-p}\\right)=\\log(\\mbox{odds of support of border wall (for all people in sample)})\n",
    "\\end{align}\n",
    "$$\n",
    "\n",
    "<br/>\n",
    "<br/>\n",
    "<br/>\n",
    "<br/>\n",
    "<br/>\n",
    "<br/>\n",
    "\n",
    "### Interpretation of the coefficient $\\hat{\\beta_1}$ (when $X_1$ corresponds to a categorical variable indicator) \n",
    "Now suppose we define:\n",
    "* $\\mbox{odds}_M$ odds of support of border wall for all males in the sample\n",
    "* $\\mbox{odds}_F$ odds of support of border wall for all females in the sample\n",
    "\n",
    "\n",
    "Notice that the log odds ratio for q52bin=1 versus 0 for males versus females is given by\n",
    "\n",
    "$$\n",
    "\\begin{align}\n",
    "\\log\\left({\\mbox{odds}_M \\over \\mbox{odds}_F}\\right) &= \\, \\log(\\mbox{odds}_M) - \\log(\\mbox{odds}_F) \\\\\n",
    "\\\\\n",
    "&= \\, (-0.9211 + 0.5027 * 1) - (-0.9211 + 0.5027 * 0) = 0.5027\\\\\n",
    "\\\\\n",
    "&= \\, \\hat{\\beta}_1.\\\\\n",
    "\\end{align}\n",
    "$$\n",
    "\n",
    "#### In General\n",
    "$\\hat{\\beta_1}$ is the **log odds ratio** for the level indicated by a 1 in $X_1$ vs the level indicated by all 0's in the set of indicator variables that correspond to the categorical explanatory variable."
   ]
  },
  {
   "cell_type": "markdown",
   "metadata": {
    "slideshow": {
     "slide_type": "subslide"
    }
   },
   "source": [
    "\n",
    "### Interpretation of the coefficient $exp(\\hat{\\beta_1})$ (when $X_1$ corresponds to a categorical variable indicator) \n",
    "Exponentiating, we obtain the estimated odds ratio of \n",
    "\n",
    "$${\\mbox{odds}_M \\over \\mbox{odds}_F} =  e^{\\hat{\\beta}_1} =  1.65.$$ \n",
    "\n",
    "\n",
    "#### In General\n",
    "$e^{\\hat{\\beta_1}}$ is the **odds ratio** for the level indicated by a 1 in $X_1$ vs the level indicated by all 0's in the set of indicator variables that correspond to the categorical explanatory variable.\n",
    "\n",
    "\n",
    "### THEORY/RELATIONSHIP\n",
    "\n",
    "This is the same as we calculated for the 2 x 2 table by converting the sample proportions to an odds ratio.\n",
    "\n",
    "Calculation details:"
   ]
  },
  {
   "cell_type": "code",
   "execution_count": 19,
   "metadata": {
    "slideshow": {
     "slide_type": "subslide"
    }
   },
   "outputs": [
    {
     "data": {
      "text/plain": [
       "Intercept     -0.921110\n",
       "sex[T.Male]    0.502742\n",
       "dtype: float64"
      ]
     },
     "execution_count": 19,
     "metadata": {},
     "output_type": "execute_result"
    }
   ],
   "source": [
    "mod1.params"
   ]
  },
  {
   "cell_type": "code",
   "execution_count": 20,
   "metadata": {
    "slideshow": {
     "slide_type": "subslide"
    }
   },
   "outputs": [
    {
     "data": {
      "text/plain": [
       "1.653247450348898"
      ]
     },
     "execution_count": 20,
     "metadata": {},
     "output_type": "execute_result"
    }
   ],
   "source": [
    "np.exp(mod1.params['sex[T.Male]'])"
   ]
  },
  {
   "cell_type": "markdown",
   "metadata": {
    "slideshow": {
     "slide_type": "slide"
    }
   },
   "source": [
    "## Confidence intervals for $\\beta_i$ (the population log odds ratio)\n",
    "Ex: Give a 95% confidence interval for $\\beta_1$.\n",
    "<br/>\n",
    "<br/>\n",
    "<br/>\n",
    "<br/>\n",
    "<br/>\n",
    "<br/>\n",
    "<br/>\n",
    "<br/>\n",
    "<br/>\n",
    "<br/>\n",
    "<br/>\n",
    "<br/>\n",
    "<br/>\n",
    "The model summary gives us a standard error for the log-odds-ratio, $\\hat{\\beta}_1$, of 0.110, and a normal approximation 95% confidence interval of (0.287, 0.719). "
   ]
  },
  {
   "cell_type": "code",
   "execution_count": 39,
   "metadata": {},
   "outputs": [
    {
     "data": {
      "text/plain": [
       "1.959963984540054"
      ]
     },
     "execution_count": 39,
     "metadata": {},
     "output_type": "execute_result"
    }
   ],
   "source": [
    "norm.ppf(.975)"
   ]
  },
  {
   "cell_type": "markdown",
   "metadata": {},
   "source": [
    "## Confidence intervals for $e^{\\beta_i}$ (the population odds ratio)\n",
    "\n",
    "Exponentiating the endpoints of this confidence intrerval gives us a 95% confidence interval for the M versus F odds ratio:\n",
    "<br/>\n",
    "<br/>\n",
    "<br/>\n",
    "<br/>\n",
    "<br/>\n",
    "<br/>\n",
    "<br/>\n",
    "<br/>\n",
    "<br/>"
   ]
  },
  {
   "cell_type": "code",
   "execution_count": 21,
   "metadata": {
    "slideshow": {
     "slide_type": "subslide"
    }
   },
   "outputs": [
    {
     "data": {
      "text/plain": [
       "(1.3324, 2.0524)"
      ]
     },
     "execution_count": 21,
     "metadata": {},
     "output_type": "execute_result"
    }
   ],
   "source": [
    "(round(np.exp(0.287), 4), round(np.exp(0.719), 4))"
   ]
  },
  {
   "cell_type": "markdown",
   "metadata": {
    "slideshow": {
     "slide_type": "slide"
    }
   },
   "source": [
    "## Hypothesis Testing on $\\beta_i$\n",
    "Null hypothesis of no gender effect.** If there were no gender difference in support from the wall, the log-odds-ratio for male versus female would be zero, which corresponds to an odds ratio of 1. In terms of the model parameters we write, using the log-odds-ratio\n",
    "\n",
    "**(Hypotheses Set 1)**\n",
    "\n",
    "$H_0: \\beta_1=0$\n",
    "\n",
    "$H_A: \\beta_1\\neq0$\n",
    "\n",
    "\n",
    "or equivalently using the odds ratio\n",
    "\n",
    "**(Hypotheses Set 2)**\n",
    "\n",
    "$H_0: e^{\\beta_1} = 1$\n",
    "\n",
    "$H_A: e^{\\beta_1} \\neq 1$\n",
    "\n",
    "#### Ex: Make a conclusion about hypothesis set 1 using the confidence interval for $\\beta_1$.\n",
    "<br/>\n",
    "<br/>\n",
    "<br/>\n",
    "<br/>\n",
    "<br/>\n",
    "<br/>\n",
    "<br/>\n",
    "<br/>\n",
    "<br/>\n",
    "<br/>\n",
    "<br/>\n",
    "\n",
    "#### Ex: Make a conclusion about hypothesis set 2 using the confidence interval for $e^{\\beta_1}$.\n",
    "<br/>\n",
    "<br/>\n",
    "<br/>\n",
    "<br/>\n",
    "<br/>\n",
    "<br/>\n",
    "<br/>\n",
    "<br/>\n",
    "<br/>\n",
    "<br/>\n",
    "<br/>\n",
    "\n",
    "#### Ex: Make a conclusion about hypothesis set 1 and 2 using the test statistic.\n",
    "<br/>\n",
    "<br/>\n",
    "<br/>\n",
    "<br/>\n",
    "<br/>\n",
    "<br/>\n",
    "<br/>\n",
    "<br/>\n",
    "<br/>\n",
    "<br/>\n",
    "<br/>\n",
    "\n",
    "#### Ex: Make a conclusion about hypothesis set 1 and 2 using the p-value.\n",
    "<br/>\n",
    "<br/>\n",
    "<br/>\n",
    "<br/>\n",
    "<br/>\n",
    "<br/>\n",
    "<br/>\n",
    "<br/>\n",
    "<br/>\n",
    "<br/>\n",
    "<br/>\n",
    "\n",
    "\n",
    "\n",
    "\n",
    "\n",
    "Since the 95% confidence interval for the odds ratio excludes 1, the odds ratio is statistically significantly differen from 1, at the level 0.05.\n",
    "\n",
    "Alternatively, we note that $z = \\hat{\\beta}_1 / se(\\hat{\\beta}_1)$ has a p-value  < 0.0005, so the test would reject at level 0.05 (and level 0.01 for that matter)."
   ]
  },
  {
   "cell_type": "markdown",
   "metadata": {
    "slideshow": {
     "slide_type": "slide"
    }
   },
   "source": [
    "<h1 style=\"color:blue;\"><u>TOPIC 5:</u> Using Simulated Data to Better Understand Logistic Regression with More than One Explanatory Variabile</h1>\n"
   ]
  },
  {
   "cell_type": "markdown",
   "metadata": {
    "slideshow": {
     "slide_type": "slide"
    }
   },
   "source": [
    "Let's consider some simulated data where we know the correct model. This will allow us to understand the workings of the model better."
   ]
  },
  {
   "cell_type": "markdown",
   "metadata": {
    "slideshow": {
     "slide_type": "slide"
    }
   },
   "source": [
    "#### Example: Simulated data from the logit model"
   ]
  },
  {
   "cell_type": "code",
   "execution_count": 22,
   "metadata": {
    "slideshow": {
     "slide_type": "subslide"
    }
   },
   "outputs": [],
   "source": [
    "from scipy.stats import norm, bernoulli"
   ]
  },
  {
   "cell_type": "code",
   "execution_count": 42,
   "metadata": {
    "slideshow": {
     "slide_type": "subslide"
    }
   },
   "outputs": [
    {
     "data": {
      "text/html": [
       "<div>\n",
       "<style scoped>\n",
       "    .dataframe tbody tr th:only-of-type {\n",
       "        vertical-align: middle;\n",
       "    }\n",
       "\n",
       "    .dataframe tbody tr th {\n",
       "        vertical-align: top;\n",
       "    }\n",
       "\n",
       "    .dataframe thead th {\n",
       "        text-align: right;\n",
       "    }\n",
       "</style>\n",
       "<table border=\"1\" class=\"dataframe\">\n",
       "  <thead>\n",
       "    <tr style=\"text-align: right;\">\n",
       "      <th></th>\n",
       "      <th>x</th>\n",
       "      <th>y</th>\n",
       "    </tr>\n",
       "  </thead>\n",
       "  <tbody>\n",
       "    <tr>\n",
       "      <th>0</th>\n",
       "      <td>0.343687</td>\n",
       "      <td>1</td>\n",
       "    </tr>\n",
       "    <tr>\n",
       "      <th>1</th>\n",
       "      <td>1.848400</td>\n",
       "      <td>1</td>\n",
       "    </tr>\n",
       "    <tr>\n",
       "      <th>2</th>\n",
       "      <td>0.224359</td>\n",
       "      <td>0</td>\n",
       "    </tr>\n",
       "    <tr>\n",
       "      <th>3</th>\n",
       "      <td>-1.633660</td>\n",
       "      <td>0</td>\n",
       "    </tr>\n",
       "    <tr>\n",
       "      <th>4</th>\n",
       "      <td>1.245538</td>\n",
       "      <td>1</td>\n",
       "    </tr>\n",
       "    <tr>\n",
       "      <th>5</th>\n",
       "      <td>1.712812</td>\n",
       "      <td>1</td>\n",
       "    </tr>\n",
       "    <tr>\n",
       "      <th>6</th>\n",
       "      <td>-0.687918</td>\n",
       "      <td>0</td>\n",
       "    </tr>\n",
       "    <tr>\n",
       "      <th>7</th>\n",
       "      <td>-1.186239</td>\n",
       "      <td>0</td>\n",
       "    </tr>\n",
       "    <tr>\n",
       "      <th>8</th>\n",
       "      <td>-0.400249</td>\n",
       "      <td>0</td>\n",
       "    </tr>\n",
       "    <tr>\n",
       "      <th>9</th>\n",
       "      <td>-0.303626</td>\n",
       "      <td>0</td>\n",
       "    </tr>\n",
       "  </tbody>\n",
       "</table>\n",
       "</div>"
      ],
      "text/plain": [
       "          x  y\n",
       "0  0.343687  1\n",
       "1  1.848400  1\n",
       "2  0.224359  0\n",
       "3 -1.633660  0\n",
       "4  1.245538  1\n",
       "5  1.712812  1\n",
       "6 -0.687918  0\n",
       "7 -1.186239  0\n",
       "8 -0.400249  0\n",
       "9 -0.303626  0"
      ]
     },
     "execution_count": 42,
     "metadata": {},
     "output_type": "execute_result"
    }
   ],
   "source": [
    "# set the coefficient values\n",
    "b0, b1 = -0.7, 2.1  \n",
    "#\n",
    "# generate exogenous variable:\n",
    "x = norm.rvs(size=100, random_state=12347) \n",
    "#\n",
    "# create the log-odds vector that depends on x\n",
    "log_odds=b0+b1*x\n",
    "\n",
    "# create the odds vector that depends on x\n",
    "odds = np.exp(b0 + b1*x)\n",
    "#\n",
    "# convert odds to probabilities and generate response y\n",
    "y = bernoulli.rvs(p=odds/(1+odds), size=100, random_state=1)\n",
    "dat = pd.DataFrame({'x':x, 'y':y})\n",
    "dat.head(10)"
   ]
  },
  {
   "cell_type": "code",
   "execution_count": 24,
   "metadata": {
    "slideshow": {
     "slide_type": "subslide"
    }
   },
   "outputs": [
    {
     "data": {
      "text/plain": [
       "46"
      ]
     },
     "execution_count": 24,
     "metadata": {},
     "output_type": "execute_result"
    }
   ],
   "source": [
    "sum(dat.y)"
   ]
  },
  {
   "cell_type": "markdown",
   "metadata": {},
   "source": [
    "### What does the relationship between the explanatory variable and the Log-Odds (ie. log(p/(1-p)) look like?"
   ]
  },
  {
   "cell_type": "code",
   "execution_count": 60,
   "metadata": {},
   "outputs": [
    {
     "data": {
      "image/png": "[encoded data removed]",
      "text/plain": [
       "<Figure size 432x288 with 1 Axes>"
      ]
     },
     "metadata": {},
     "output_type": "display_data"
    }
   ],
   "source": [
    "plt.scatter(x,log_odds)\n",
    "plt.title('Log Odds: p/(1-p)=-0.7+2.1x')\n",
    "plt.xlabel('x')\n",
    "plt.ylabel('Log-Odds (ie. Log(p/(1-p)))=-0.7+2.1x')\n",
    "plt.show()"
   ]
  },
  {
   "cell_type": "markdown",
   "metadata": {
    "slideshow": {
     "slide_type": "slide"
    }
   },
   "source": [
    "Let's make a scatter plot with the true probability curve included."
   ]
  },
  {
   "cell_type": "code",
   "execution_count": 25,
   "metadata": {
    "slideshow": {
     "slide_type": "subslide"
    }
   },
   "outputs": [
    {
     "name": "stderr",
     "output_type": "stream",
     "text": [
      "\n",
      "Bad key \"text.kerning_factor\" on line 4 in\n",
      "C:\\Users\\vme3\\AppData\\Local\\Continuum\\anaconda3\\lib\\site-packages\\matplotlib\\mpl-data\\stylelib\\_classic_test_patch.mplstyle.\n",
      "You probably need to get an updated matplotlibrc file from\n",
      "https://github.com/matplotlib/matplotlib/blob/v3.1.3/matplotlibrc.template\n",
      "or from the matplotlib source distribution\n"
     ]
    }
   ],
   "source": [
    "import matplotlib.pyplot as plt\n",
    "import seaborn as sns; sns.set()"
   ]
  },
  {
   "cell_type": "code",
   "execution_count": 67,
   "metadata": {
    "slideshow": {
     "slide_type": "subslide"
    }
   },
   "outputs": [
    {
     "data": {
      "image/png": "[encoded data removed]",
      "text/plain": [
       "<Figure size 432x288 with 1 Axes>"
      ]
     },
     "metadata": {},
     "output_type": "display_data"
    }
   ],
   "source": [
    "\n",
    "#\n",
    "# make a grid of x values for plotting the curve\n",
    "xgrid = np.linspace(dat['x'].min(), dat['x'].max(), 100)\n",
    "#\n",
    "# compute odds over the grid\n",
    "ogrid = np.exp(b0 + b1*xgrid)\n",
    "#\n",
    "# graph the probability curve\n",
    "plt.plot(xgrid, ogrid, color='r', label='odds=p/(1-p)')  \n",
    "plt.title('Odds = exp[p/(1-p)]=exp[-0.7+2.1x]')\n",
    "plt.ylabel('Odds = exp[p/(1-p)]=exp[-0.7+2.1x]')\n",
    "plt.xlabel('x')\n",
    "plt.legend()\n",
    "plt.show()"
   ]
  },
  {
   "cell_type": "code",
   "execution_count": 69,
   "metadata": {},
   "outputs": [
    {
     "data": {
      "image/png": "[encoded data removed]",
      "text/plain": [
       "<Figure size 432x288 with 1 Axes>"
      ]
     },
     "metadata": {},
     "output_type": "display_data"
    }
   ],
   "source": [
    "# plot raw data\n",
    "sns.scatterplot(x='x', y='y', data=dat, label='') \n",
    "\n",
    "\n",
    "# graph the probability curve\n",
    "plt.plot(xgrid, ogrid/(1+ogrid), color='r', label=' p = odds/(1+odds)) = [exp(-0.7+2.1x)]/[1+exp(-0.7+2.1x)]')  \n",
    "plt.ylabel('y')\n",
    "plt.legend(bbox_to_anchor=(1,1))\n",
    "plt.show()"
   ]
  },
  {
   "cell_type": "markdown",
   "metadata": {
    "slideshow": {
     "slide_type": "subslide"
    }
   },
   "source": [
    "## Interpretation: p = P(Y=1) = odds/(1+odds) as a PDF\n",
    "\n",
    "In the graph above the probability curve has the sigmoidal form,\n",
    "\n",
    "$$\n",
    "p=P(Y=1) = { \\exp(\\beta_0 + \\beta_1 X) \\over  1 + \\exp( \\beta_0 + \\beta_1 X)}\n",
    "$$\n",
    "\n",
    "where in the simulation model we set $\\beta_0 = -0.7$ and $\\beta_1 = 2.1$. \n",
    "\n",
    "<br/>\n",
    "<br/>\n",
    "<br/>\n",
    "<br/>\n",
    "\n",
    "## Interpreting $e^{\\hat{\\beta_1}}$\n",
    "On the odds scale, this is the same as\n",
    "\n",
    "$$\n",
    "\\mbox{odds}(Y=1) = {P(Y=1) \\over 1-P(Y=1) }={P(Y=1) \\over P(Y=0) } = \\exp(\\beta_0 + \\beta_1 X) = e^{\\beta_0} (e^{\\beta_1})^X\n",
    "$$\n",
    "\n",
    "Therefore, $e^{\\beta_1}$ is the odds multiplier associated with $X$. Increasing or decreasing $X$ by 1 unit multiplies or divides the odds by the factor $e^{\\beta_1}$.\n",
    "\n",
    "In the example the odds multiplier is $e^{2.1} = 8.17$.\n",
    "\n",
    "\n",
    "<br/>\n",
    "<br/>\n",
    "<br/>\n",
    "<br/>\n",
    "<br/>\n",
    "<br/>\n",
    "<br/>\n",
    "<br/>"
   ]
  },
  {
   "cell_type": "code",
   "execution_count": 27,
   "metadata": {
    "slideshow": {
     "slide_type": "subslide"
    }
   },
   "outputs": [
    {
     "data": {
      "text/plain": [
       "8.16616991256765"
      ]
     },
     "execution_count": 27,
     "metadata": {},
     "output_type": "execute_result"
    }
   ],
   "source": [
    "np.exp(2.1)"
   ]
  },
  {
   "cell_type": "markdown",
   "metadata": {
    "slideshow": {
     "slide_type": "slide"
    }
   },
   "source": [
    "We see how the probability varies over the range of $x$. This leads to varying densities of $y=0$ and $y=1$ as a function of $x$.\n",
    "\n",
    "We can also roughly visualize the density shift using a horizontal box plot of x versus y. "
   ]
  },
  {
   "cell_type": "code",
   "execution_count": 28,
   "metadata": {
    "slideshow": {
     "slide_type": "subslide"
    }
   },
   "outputs": [
    {
     "data": {
      "image/png": "[encoded data removed]",
      "text/plain": [
       "<Figure size 432x288 with 1 Axes>"
      ]
     },
     "metadata": {},
     "output_type": "display_data"
    }
   ],
   "source": [
    "sns.boxplot(x='x', y='y', data=dat, orient='h', order=[1,0])\n",
    "plt.show()"
   ]
  },
  {
   "cell_type": "markdown",
   "metadata": {
    "slideshow": {
     "slide_type": "slide"
    }
   },
   "source": [
    "## Fitted logistic regression model\n",
    "\n",
    "Let's fit a logit model to the simulated data and examine the model summary."
   ]
  },
  {
   "cell_type": "code",
   "execution_count": 29,
   "metadata": {
    "slideshow": {
     "slide_type": "subslide"
    }
   },
   "outputs": [
    {
     "name": "stdout",
     "output_type": "stream",
     "text": [
      "Optimization terminated successfully.\n",
      "         Current function value: 0.403715\n",
      "         Iterations 7\n"
     ]
    },
    {
     "data": {
      "text/html": [
       "<table class=\"simpletable\">\n",
       "<caption>Logit Regression Results</caption>\n",
       "<tr>\n",
       "  <th>Dep. Variable:</th>           <td>y</td>        <th>  No. Observations:  </th>  <td>   100</td>  \n",
       "</tr>\n",
       "<tr>\n",
       "  <th>Model:</th>                 <td>Logit</td>      <th>  Df Residuals:      </th>  <td>    98</td>  \n",
       "</tr>\n",
       "<tr>\n",
       "  <th>Method:</th>                 <td>MLE</td>       <th>  Df Model:          </th>  <td>     1</td>  \n",
       "</tr>\n",
       "<tr>\n",
       "  <th>Date:</th>            <td>Sun, 25 Oct 2020</td> <th>  Pseudo R-squ.:     </th>  <td>0.4149</td>  \n",
       "</tr>\n",
       "<tr>\n",
       "  <th>Time:</th>                <td>20:52:47</td>     <th>  Log-Likelihood:    </th> <td> -40.371</td> \n",
       "</tr>\n",
       "<tr>\n",
       "  <th>converged:</th>             <td>True</td>       <th>  LL-Null:           </th> <td> -68.994</td> \n",
       "</tr>\n",
       "<tr>\n",
       "  <th>Covariance Type:</th>     <td>nonrobust</td>    <th>  LLR p-value:       </th> <td>3.846e-14</td>\n",
       "</tr>\n",
       "</table>\n",
       "<table class=\"simpletable\">\n",
       "<tr>\n",
       "      <td></td>         <th>coef</th>     <th>std err</th>      <th>z</th>      <th>P>|z|</th>  <th>[0.025</th>    <th>0.975]</th>  \n",
       "</tr>\n",
       "<tr>\n",
       "  <th>Intercept</th> <td>   -0.4938</td> <td>    0.291</td> <td>   -1.697</td> <td> 0.090</td> <td>   -1.064</td> <td>    0.076</td>\n",
       "</tr>\n",
       "<tr>\n",
       "  <th>x</th>         <td>    2.2133</td> <td>    0.440</td> <td>    5.028</td> <td> 0.000</td> <td>    1.350</td> <td>    3.076</td>\n",
       "</tr>\n",
       "</table>"
      ],
      "text/plain": [
       "<class 'statsmodels.iolib.summary.Summary'>\n",
       "\"\"\"\n",
       "                           Logit Regression Results                           \n",
       "==============================================================================\n",
       "Dep. Variable:                      y   No. Observations:                  100\n",
       "Model:                          Logit   Df Residuals:                       98\n",
       "Method:                           MLE   Df Model:                            1\n",
       "Date:                Sun, 25 Oct 2020   Pseudo R-squ.:                  0.4149\n",
       "Time:                        20:52:47   Log-Likelihood:                -40.371\n",
       "converged:                       True   LL-Null:                       -68.994\n",
       "Covariance Type:            nonrobust   LLR p-value:                 3.846e-14\n",
       "==============================================================================\n",
       "                 coef    std err          z      P>|z|      [0.025      0.975]\n",
       "------------------------------------------------------------------------------\n",
       "Intercept     -0.4938      0.291     -1.697      0.090      -1.064       0.076\n",
       "x              2.2133      0.440      5.028      0.000       1.350       3.076\n",
       "==============================================================================\n",
       "\"\"\""
      ]
     },
     "execution_count": 29,
     "metadata": {},
     "output_type": "execute_result"
    }
   ],
   "source": [
    "simmod = smf.logit('y ~ x', data=dat).fit()\n",
    "simmod.summary()"
   ]
  },
  {
   "cell_type": "markdown",
   "metadata": {
    "slideshow": {
     "slide_type": "subslide"
    }
   },
   "source": [
    "#### Here the fitted model has the form:\n",
    "\n",
    "$$\n",
    "\\log\\left({p(X) \\over 1 - p(X)}\\right) = -0.4938 + 2.2133 * X\n",
    "$$\n",
    "\n",
    "where the dependence of $p(X)$ on $X$ is added for emphasis. \n",
    "\n",
    "\n",
    "<br/>\n",
    "<br/>\n",
    "<br/>\n",
    "<br/>\n",
    "<br/>\n",
    "\n",
    "\n",
    "#### What is the meaning of the regression coefficient of $X$? \n",
    "\n",
    "\n",
    "We can interpret it as the log-odds-ratio associated with a 1 unit change in X:\n",
    "\n",
    "$$\n",
    "\\mbox{odds}(X) = {p(X) \\over 1 - p(X)} = e^{-0.4938} * (e^{2.2133})^X\n",
    "$$\n",
    "\n",
    "### Interpreting $e^{\\hat{\\beta_0}}$\n",
    "\n",
    "\n",
    "\n",
    "+ **Baseline odds:** $e^{-0.4938}=0.61$ equals the estimate odds of $Y=1$ if $X=0$;\n",
    "<br/>\n",
    "<br/>\n",
    "<br/>\n",
    "<br/>\n",
    "<br/>\n",
    "<br/>\n",
    "\n",
    "### Interpreting $e^{\\hat{\\beta_1}}$\n",
    "\n",
    "+ **Odds multiplier:** $e^{2.2133}=9.15$ is the estimated odds multiplier associated with each one unit increase in $X$. \n",
    "<br/>\n",
    "<br/>\n",
    "<br/>\n",
    "<br/>\n",
    "<br/>\n",
    "<br/>\n"
   ]
  },
  {
   "cell_type": "code",
   "execution_count": 30,
   "metadata": {
    "slideshow": {
     "slide_type": "subslide"
    }
   },
   "outputs": [
    {
     "data": {
      "text/plain": [
       "(0.6103028314517273, 9.145847946856755)"
      ]
     },
     "execution_count": 30,
     "metadata": {},
     "output_type": "execute_result"
    }
   ],
   "source": [
    "np.exp(-0.4938), np.exp(2.2133)"
   ]
  },
  {
   "cell_type": "markdown",
   "metadata": {
    "slideshow": {
     "slide_type": "subslide"
    }
   },
   "source": [
    "### In the literature...\n",
    "In publications, the logistic regression coefficents are often expressed in exponentiated form as odds ratios, along with confidence intervals for the odds ratios. The scale of an odds ratio is easier to interpret than the scale of a log odds ratio.\n",
    "\n",
    "For the present model we have:"
   ]
  },
  {
   "cell_type": "code",
   "execution_count": 31,
   "metadata": {
    "slideshow": {
     "slide_type": "subslide"
    }
   },
   "outputs": [
    {
     "data": {
      "text/html": [
       "<div>\n",
       "<style scoped>\n",
       "    .dataframe tbody tr th:only-of-type {\n",
       "        vertical-align: middle;\n",
       "    }\n",
       "\n",
       "    .dataframe tbody tr th {\n",
       "        vertical-align: top;\n",
       "    }\n",
       "\n",
       "    .dataframe thead th {\n",
       "        text-align: right;\n",
       "    }\n",
       "</style>\n",
       "<table border=\"1\" class=\"dataframe\">\n",
       "  <thead>\n",
       "    <tr style=\"text-align: right;\">\n",
       "      <th></th>\n",
       "      <th>x coef</th>\n",
       "      <th>[0.025</th>\n",
       "      <th>0.975]</th>\n",
       "    </tr>\n",
       "  </thead>\n",
       "  <tbody>\n",
       "    <tr>\n",
       "      <th>log-odds-ratio</th>\n",
       "      <td>2.213300</td>\n",
       "      <td>1.350000</td>\n",
       "      <td>3.076000</td>\n",
       "    </tr>\n",
       "    <tr>\n",
       "      <th>odds-ratio</th>\n",
       "      <td>9.145848</td>\n",
       "      <td>3.857426</td>\n",
       "      <td>21.671543</td>\n",
       "    </tr>\n",
       "  </tbody>\n",
       "</table>\n",
       "</div>"
      ],
      "text/plain": [
       "                  x coef    [0.025     0.975]\n",
       "log-odds-ratio  2.213300  1.350000   3.076000\n",
       "odds-ratio      9.145848  3.857426  21.671543"
      ]
     },
     "execution_count": 31,
     "metadata": {},
     "output_type": "execute_result"
    }
   ],
   "source": [
    "pd.DataFrame({'x coef': [2.2133, np.exp(2.2133)],\n",
    "              '[0.025': [1.350, np.exp(1.350)],\n",
    "              '0.975]': [3.076, np.exp(3.076)]}, \n",
    "             index=['log-odds-ratio', 'odds-ratio'])"
   ]
  },
  {
   "cell_type": "markdown",
   "metadata": {
    "slideshow": {
     "slide_type": "slide"
    }
   },
   "source": [
    "## Hypothesis Testing\n",
    "\n",
    "Under general conditions the logistic regression coeficients are approximately normally distributed. The assumptions include that all the data are independent, and assuming the logit model is correctly specified. The logistic regression coeffiicent estimates $\\hat{\\beta_0}$, $\\hat{\\beta_1}$ etc. are approximately normally distributed with means equal to the population coeffiicents $\\beta_0$, $\\beta_1$ etc. Furthermore, consistent **standard errors** can be computed from the observed information matrix, which is discussed in more advanced courses. \n",
    "<br/>\n",
    "<br/>\n",
    "<br/>\n",
    "<br/>\n",
    "<br/>\n",
    "<br/>\n",
    "<br/>\n",
    "<br/>\n",
    "\n",
    "For our purposes, we note that the standard errors are routinely provided in statistical modeling software such as the statmodels.formula.api logit function. \n",
    "\n",
    "\n"
   ]
  },
  {
   "cell_type": "markdown",
   "metadata": {
    "slideshow": {
     "slide_type": "subslide"
    }
   },
   "source": [
    "Therefore, if we wish to test a coefficient null hypothesis such as\n",
    "\n",
    "### Hypotheses\n",
    "$H_{0}: \\beta_1 = 0$\n",
    "\n",
    "$H_{A}: \\beta_1 \\ne 0$\n",
    "\n",
    "we can use the corresponding test statistic (z statistic) reported in the model summary:\n",
    "\n",
    "### Test Statistic (Calculating by Hand)\n",
    "$$\n",
    "z = {\\hat{\\beta}_1 \\over se(\\hat{\\beta}_1)}\n",
    "$$\n",
    "\n",
    "\n",
    "### Distribution that Test Statistic is an Observation from\n",
    "* Z (ie. standard normal distribution)\n",
    "\n",
    "\n",
    "### P-value (Calculating by Hand)\n",
    "and compute a large sample p-value as\n",
    "\n",
    "$$\n",
    "\\mbox{p_value} = 2 * P(Z < -\\vert z \\vert)\n",
    "$$\n",
    "\n",
    "We can compute this using the scipy.stats 'norm.cdf' function\n",
    "    # 2*norm.cdf(-|teststatistic|)\n"
   ]
  },
  {
   "cell_type": "markdown",
   "metadata": {
    "slideshow": {
     "slide_type": "subslide"
    }
   },
   "source": [
    "### Test Statistic and P-value in Python\n",
    "In our example, however, the model summary already provides these values. From the summary:\n",
    "\n",
    "$$\n",
    "𝑧=5.028 \\quad \\mbox{and} \\quad \\mbox{p_value}\\approx 0.000\n",
    "$$\n",
    "\n",
    "\n",
    "### Conclusion\n",
    "<br/>\n",
    "<br/>\n",
    "<br/>\n",
    "<br/>\n",
    "<br/>\n",
    "<br/>\n",
    "<br/>\n",
    "<br/>\n",
    "<br/>\n",
    "\n",
    "\n",
    "\n",
    "Therefore we would reject the null hypothesis, even for $\\alpha=0.001$.\n",
    "\n",
    "Because these are simulated data, we know that this decision is correct; the population value for $\\beta_1$  is 2.1."
   ]
  },
  {
   "cell_type": "markdown",
   "metadata": {
    "slideshow": {
     "slide_type": "slide"
    }
   },
   "source": [
    "<h1 style=\"color:blue;\"><u>TOPIC 6:</u> Logistic Regression with Multiple Explanatory Variables</h1>"
   ]
  },
  {
   "cell_type": "markdown",
   "metadata": {
    "slideshow": {
     "slide_type": "slide"
    }
   },
   "source": [
    "## Example 2:\n",
    "* **Categorical Response Variable**: Support for border wall\n",
    "* **Explanatory Variables**:\n",
    "    - age\n",
    "    - sex\n",
    "\n",
    "It turns out there were nonstandard missing values in the 'age' column. As noted in Chapter 2, these will cause pandas to read the age column as categories unless we flag the nonstandard missing values. So we will do that here. Notice that we need double brackets [['age', 'sex', 'q52']] to subset multiple columns of the data frame because the inner brackets enclose the list."
   ]
  },
  {
   "cell_type": "code",
   "execution_count": 32,
   "metadata": {
    "slideshow": {
     "slide_type": "subslide"
    }
   },
   "outputs": [],
   "source": [
    "missing_values = [\"NaN\", \"nan\", \"Don't know/Refused (VOL.)\"]\n",
    "df = pd.read_csv(zf.open('Feb17public.csv'), \n",
    "                 na_values=missing_values)[['age', 'sex', 'q52']]"
   ]
  },
  {
   "cell_type": "code",
   "execution_count": 33,
   "metadata": {
    "slideshow": {
     "slide_type": "subslide"
    }
   },
   "outputs": [
    {
     "data": {
      "text/html": [
       "<div>\n",
       "<style scoped>\n",
       "    .dataframe tbody tr th:only-of-type {\n",
       "        vertical-align: middle;\n",
       "    }\n",
       "\n",
       "    .dataframe tbody tr th {\n",
       "        vertical-align: top;\n",
       "    }\n",
       "\n",
       "    .dataframe thead th {\n",
       "        text-align: right;\n",
       "    }\n",
       "</style>\n",
       "<table border=\"1\" class=\"dataframe\">\n",
       "  <thead>\n",
       "    <tr style=\"text-align: right;\">\n",
       "      <th></th>\n",
       "      <th>age</th>\n",
       "      <th>sex</th>\n",
       "      <th>q52</th>\n",
       "      <th>y</th>\n",
       "    </tr>\n",
       "  </thead>\n",
       "  <tbody>\n",
       "    <tr>\n",
       "      <th>0</th>\n",
       "      <td>80.0</td>\n",
       "      <td>Female</td>\n",
       "      <td>Not_favor</td>\n",
       "      <td>0</td>\n",
       "    </tr>\n",
       "    <tr>\n",
       "      <th>1</th>\n",
       "      <td>70.0</td>\n",
       "      <td>Female</td>\n",
       "      <td>Not_favor</td>\n",
       "      <td>0</td>\n",
       "    </tr>\n",
       "    <tr>\n",
       "      <th>2</th>\n",
       "      <td>69.0</td>\n",
       "      <td>Female</td>\n",
       "      <td>Not_favor</td>\n",
       "      <td>0</td>\n",
       "    </tr>\n",
       "    <tr>\n",
       "      <th>3</th>\n",
       "      <td>50.0</td>\n",
       "      <td>Male</td>\n",
       "      <td>Favor</td>\n",
       "      <td>1</td>\n",
       "    </tr>\n",
       "    <tr>\n",
       "      <th>4</th>\n",
       "      <td>70.0</td>\n",
       "      <td>Female</td>\n",
       "      <td>Not_favor</td>\n",
       "      <td>0</td>\n",
       "    </tr>\n",
       "    <tr>\n",
       "      <th>5</th>\n",
       "      <td>78.0</td>\n",
       "      <td>Male</td>\n",
       "      <td>Not_favor</td>\n",
       "      <td>0</td>\n",
       "    </tr>\n",
       "    <tr>\n",
       "      <th>6</th>\n",
       "      <td>89.0</td>\n",
       "      <td>Female</td>\n",
       "      <td>Not_favor</td>\n",
       "      <td>0</td>\n",
       "    </tr>\n",
       "    <tr>\n",
       "      <th>7</th>\n",
       "      <td>92.0</td>\n",
       "      <td>Female</td>\n",
       "      <td>Not_favor</td>\n",
       "      <td>0</td>\n",
       "    </tr>\n",
       "    <tr>\n",
       "      <th>8</th>\n",
       "      <td>54.0</td>\n",
       "      <td>Female</td>\n",
       "      <td>Favor</td>\n",
       "      <td>1</td>\n",
       "    </tr>\n",
       "    <tr>\n",
       "      <th>9</th>\n",
       "      <td>58.0</td>\n",
       "      <td>Female</td>\n",
       "      <td>Not_favor</td>\n",
       "      <td>0</td>\n",
       "    </tr>\n",
       "  </tbody>\n",
       "</table>\n",
       "</div>"
      ],
      "text/plain": [
       "    age     sex        q52  y\n",
       "0  80.0  Female  Not_favor  0\n",
       "1  70.0  Female  Not_favor  0\n",
       "2  69.0  Female  Not_favor  0\n",
       "3  50.0    Male      Favor  1\n",
       "4  70.0  Female  Not_favor  0\n",
       "5  78.0    Male  Not_favor  0\n",
       "6  89.0  Female  Not_favor  0\n",
       "7  92.0  Female  Not_favor  0\n",
       "8  54.0  Female      Favor  1\n",
       "9  58.0  Female  Not_favor  0"
      ]
     },
     "execution_count": 33,
     "metadata": {},
     "output_type": "execute_result"
    }
   ],
   "source": [
    "# reduce q52 responses to two categories and \n",
    "# create binary reponse variable\n",
    "df['q52'][df['q52']!='Favor'] = 'Not_favor'\n",
    "df['y'] = df['q52'].map({'Not_favor':0,'Favor':1})\n",
    "df.head(10)"
   ]
  },
  {
   "cell_type": "markdown",
   "metadata": {},
   "source": [
    "#### Setting up the Model in Python"
   ]
  },
  {
   "cell_type": "code",
   "execution_count": 34,
   "metadata": {
    "slideshow": {
     "slide_type": "slide"
    }
   },
   "outputs": [
    {
     "name": "stdout",
     "output_type": "stream",
     "text": [
      "Optimization terminated successfully.\n",
      "         Current function value: 0.617205\n",
      "         Iterations 5\n"
     ]
    },
    {
     "data": {
      "text/html": [
       "<table class=\"simpletable\">\n",
       "<caption>Logit Regression Results</caption>\n",
       "<tr>\n",
       "  <th>Dep. Variable:</th>           <td>y</td>        <th>  No. Observations:  </th>  <td>  1489</td>  \n",
       "</tr>\n",
       "<tr>\n",
       "  <th>Model:</th>                 <td>Logit</td>      <th>  Df Residuals:      </th>  <td>  1486</td>  \n",
       "</tr>\n",
       "<tr>\n",
       "  <th>Method:</th>                 <td>MLE</td>       <th>  Df Model:          </th>  <td>     2</td>  \n",
       "</tr>\n",
       "<tr>\n",
       "  <th>Date:</th>            <td>Sun, 25 Oct 2020</td> <th>  Pseudo R-squ.:     </th>  <td>0.03700</td> \n",
       "</tr>\n",
       "<tr>\n",
       "  <th>Time:</th>                <td>20:52:47</td>     <th>  Log-Likelihood:    </th> <td> -919.02</td> \n",
       "</tr>\n",
       "<tr>\n",
       "  <th>converged:</th>             <td>True</td>       <th>  LL-Null:           </th> <td> -954.33</td> \n",
       "</tr>\n",
       "<tr>\n",
       "  <th>Covariance Type:</th>     <td>nonrobust</td>    <th>  LLR p-value:       </th> <td>4.623e-16</td>\n",
       "</tr>\n",
       "</table>\n",
       "<table class=\"simpletable\">\n",
       "<tr>\n",
       "       <td></td>          <th>coef</th>     <th>std err</th>      <th>z</th>      <th>P>|z|</th>  <th>[0.025</th>    <th>0.975]</th>  \n",
       "</tr>\n",
       "<tr>\n",
       "  <th>Intercept</th>   <td>   -2.1237</td> <td>    0.195</td> <td>  -10.882</td> <td> 0.000</td> <td>   -2.506</td> <td>   -1.741</td>\n",
       "</tr>\n",
       "<tr>\n",
       "  <th>sex[T.Male]</th> <td>    0.5496</td> <td>    0.113</td> <td>    4.849</td> <td> 0.000</td> <td>    0.327</td> <td>    0.772</td>\n",
       "</tr>\n",
       "<tr>\n",
       "  <th>age</th>         <td>    0.0226</td> <td>    0.003</td> <td>    6.993</td> <td> 0.000</td> <td>    0.016</td> <td>    0.029</td>\n",
       "</tr>\n",
       "</table>"
      ],
      "text/plain": [
       "<class 'statsmodels.iolib.summary.Summary'>\n",
       "\"\"\"\n",
       "                           Logit Regression Results                           \n",
       "==============================================================================\n",
       "Dep. Variable:                      y   No. Observations:                 1489\n",
       "Model:                          Logit   Df Residuals:                     1486\n",
       "Method:                           MLE   Df Model:                            2\n",
       "Date:                Sun, 25 Oct 2020   Pseudo R-squ.:                 0.03700\n",
       "Time:                        20:52:47   Log-Likelihood:                -919.02\n",
       "converged:                       True   LL-Null:                       -954.33\n",
       "Covariance Type:            nonrobust   LLR p-value:                 4.623e-16\n",
       "===============================================================================\n",
       "                  coef    std err          z      P>|z|      [0.025      0.975]\n",
       "-------------------------------------------------------------------------------\n",
       "Intercept      -2.1237      0.195    -10.882      0.000      -2.506      -1.741\n",
       "sex[T.Male]     0.5496      0.113      4.849      0.000       0.327       0.772\n",
       "age             0.0226      0.003      6.993      0.000       0.016       0.029\n",
       "===============================================================================\n",
       "\"\"\""
      ]
     },
     "execution_count": 34,
     "metadata": {},
     "output_type": "execute_result"
    }
   ],
   "source": [
    "mod2 = smf.logit('y ~ age + sex', data=df).fit()\n",
    "mod2.summary()"
   ]
  },
  {
   "cell_type": "markdown",
   "metadata": {
    "slideshow": {
     "slide_type": "subslide"
    }
   },
   "source": [
    "### Formulate the Model (in log-odds form)\n",
    "\n",
    "The estimated model for predicting the odds of favoring the wall has the form:\n",
    "\n",
    "$$\n",
    "\\log\\left({p\\over 1-p}\\right) = -2.1237 + 0.5496 * \\mbox{sex[T.Male]} + 0.0226 * age\n",
    "$$\n",
    "\n",
    "where $\\mbox{sex[T.Male]}$ = 0 for female respondents and 1 for male respondents, so females are the reference category.\n",
    "\n",
    "The z tests of both the age and sex coefficients are highly statistically signficant (p < 0.001).\n",
    "<br/>\n",
    "<br/>\n",
    "<br/>\n",
    "<br/>\n",
    "<br/>\n",
    "### Converting to Odds Form (Helps us Interpret what the Coefficients Mean)\n",
    "On the odds scale, the fitted model becomes\n",
    "$$\n",
    "\\mbox{odds} = {p \\over 1 - p} = e^{-2.1237} * (e^{0.5496})^\\mbox{sex[T.Male]} * (e^{0.0226})^{age}\n",
    "$$\n",
    "<br/>\n",
    "<br/>\n",
    "<br/>\n",
    "<br/>\n",
    "### Interpreting the Coefficients\n",
    "Therefore, incremental odds multiplier for males versus females is\n",
    "<br/>\n",
    "<br/>\n",
    "\n",
    "$$\n",
    "e^{0.5496} = 1.73\n",
    "$$\n",
    "\n",
    "and the incremental odds multiplier for each 1 year increase in age is\n",
    "<br/>\n",
    "<br/>\n",
    "<br/>\n",
    "$$\n",
    "e^{0.0226} = 1.023.\n",
    "$$\n",
    "\n",
    "While the age mulitplier appears close to 1, this is due to scaling. Note that the multiplier for a 20 year increase in age is\n",
    "\n",
    "$$\n",
    "e^{20*0.0226} = 1.57\n",
    "$$"
   ]
  },
  {
   "cell_type": "code",
   "execution_count": 35,
   "metadata": {
    "slideshow": {
     "slide_type": "subslide"
    }
   },
   "outputs": [
    {
     "data": {
      "text/plain": [
       "(1.7325598553020034, 1.022857314781808, 1.571451948577649)"
      ]
     },
     "execution_count": 35,
     "metadata": {},
     "output_type": "execute_result"
    }
   ],
   "source": [
    "np.exp(0.5496), np.exp(0.0226), np.exp(20*0.0226)"
   ]
  },
  {
   "cell_type": "markdown",
   "metadata": {
    "slideshow": {
     "slide_type": "slide"
    }
   },
   "source": [
    "### 95% Confidence Interval for $\\beta_1$\n",
    "<br/>\n",
    "<br/>\n",
    "<br/>\n",
    "<br/>\n",
    "<br/>\n",
    "<br/>\n",
    "<br/>\n",
    "\n",
    "\n",
    "### 95% Confidence Interval for $e^{\\beta_1}$\n",
    "<br/>\n",
    "<br/>\n",
    "<br/>\n",
    "<br/>\n",
    "<br/>\n",
    "<br/>\n",
    "<br/>\n",
    "<br/>\n",
    "\n",
    "### 95% Confidence Interval for $\\beta_2$\n",
    "<br/>\n",
    "<br/>\n",
    "<br/>\n",
    "<br/>\n",
    "<br/>\n",
    "<br/>\n",
    "<br/>\n",
    "\n",
    "\n",
    "### 95% Confidence Interval for $e^{\\beta_2}$\n",
    "<br/>\n",
    "<br/>\n",
    "<br/>\n",
    "<br/>\n",
    "<br/>\n",
    "<br/>\n",
    "<br/>\n",
    "<br/>\n",
    "\n",
    "### 95% Confidence Interval for $e^{20\\beta_2}$\n",
    "<br/>\n",
    "<br/>\n",
    "<br/>\n",
    "<br/>\n",
    "<br/>\n",
    "<br/>\n",
    "<br/>\n",
    "<br/>\n",
    "\n",
    "We can compute 95% confidence intervals for odds multipliers (ie. $e^{\\beta_1}$) by exponentiating the confidence intervals for the coefficents in the log-odds model:"
   ]
  },
  {
   "cell_type": "code",
   "execution_count": 36,
   "metadata": {
    "slideshow": {
     "slide_type": "subslide"
    }
   },
   "outputs": [
    {
     "name": "stdout",
     "output_type": "stream",
     "text": [
      "Male v. Female odds ratio CI: (1.3868014771803021, 2.1640901087061213)\n",
      "Age 1 yr odds ratio CI: (1.016128685406095, 1.0294245944751308)\n"
     ]
    }
   ],
   "source": [
    "print(\"Male v. Female odds ratio CI: \" \\\n",
    "      +str((np.exp(0.327), np.exp(0.772))))\n",
    "print(\"Age 1 yr odds ratio CI: \" \\\n",
    "      +str((np.exp(0.016), np.exp(0.029))))"
   ]
  },
  {
   "cell_type": "markdown",
   "metadata": {
    "slideshow": {
     "slide_type": "subslide"
    }
   },
   "source": [
    "If we wish to compute the 20-year odds ratio for age instead of 1-year we can transform accordingly and still have a valid confidence interval:"
   ]
  },
  {
   "cell_type": "code",
   "execution_count": 37,
   "metadata": {
    "slideshow": {
     "slide_type": "subslide"
    }
   },
   "outputs": [
    {
     "name": "stdout",
     "output_type": "stream",
     "text": [
      "Age 20 yr odds ratio CI: (1.3771277643359572, 1.7860384307500734)\n"
     ]
    }
   ],
   "source": [
    "print(\"Age 20 yr odds ratio CI: \" \\\n",
    "      +str((np.exp(20*0.016), np.exp(20*0.029))))"
   ]
  },
  {
   "cell_type": "markdown",
   "metadata": {
    "slideshow": {
     "slide_type": "slide"
    }
   },
   "source": [
    "<h1 style=\"color:blue;\"><u>TOPIC 7:</u> Logistic Regression with Interaction Effects</h1>\n",
    "**What if we wanted to check for possible interaction between age and gender? How should we change the model to do that?**"
   ]
  },
  {
   "cell_type": "code",
   "execution_count": 38,
   "metadata": {
    "slideshow": {
     "slide_type": "subslide"
    }
   },
   "outputs": [
    {
     "name": "stdout",
     "output_type": "stream",
     "text": [
      "Optimization terminated successfully.\n",
      "         Current function value: 0.616819\n",
      "         Iterations 5\n"
     ]
    },
    {
     "data": {
      "text/html": [
       "<table class=\"simpletable\">\n",
       "<caption>Logit Regression Results</caption>\n",
       "<tr>\n",
       "  <th>Dep. Variable:</th>           <td>y</td>        <th>  No. Observations:  </th>  <td>  1489</td>  \n",
       "</tr>\n",
       "<tr>\n",
       "  <th>Model:</th>                 <td>Logit</td>      <th>  Df Residuals:      </th>  <td>  1485</td>  \n",
       "</tr>\n",
       "<tr>\n",
       "  <th>Method:</th>                 <td>MLE</td>       <th>  Df Model:          </th>  <td>     3</td>  \n",
       "</tr>\n",
       "<tr>\n",
       "  <th>Date:</th>            <td>Sun, 25 Oct 2020</td> <th>  Pseudo R-squ.:     </th>  <td>0.03760</td> \n",
       "</tr>\n",
       "<tr>\n",
       "  <th>Time:</th>                <td>20:52:47</td>     <th>  Log-Likelihood:    </th> <td> -918.44</td> \n",
       "</tr>\n",
       "<tr>\n",
       "  <th>converged:</th>             <td>True</td>       <th>  LL-Null:           </th> <td> -954.33</td> \n",
       "</tr>\n",
       "<tr>\n",
       "  <th>Covariance Type:</th>     <td>nonrobust</td>    <th>  LLR p-value:       </th> <td>1.781e-15</td>\n",
       "</tr>\n",
       "</table>\n",
       "<table class=\"simpletable\">\n",
       "<tr>\n",
       "         <td></td>            <th>coef</th>     <th>std err</th>      <th>z</th>      <th>P>|z|</th>  <th>[0.025</th>    <th>0.975]</th>  \n",
       "</tr>\n",
       "<tr>\n",
       "  <th>Intercept</th>       <td>   -2.3395</td> <td>    0.284</td> <td>   -8.233</td> <td> 0.000</td> <td>   -2.896</td> <td>   -1.783</td>\n",
       "</tr>\n",
       "<tr>\n",
       "  <th>sex[T.Male]</th>     <td>    0.9213</td> <td>    0.366</td> <td>    2.518</td> <td> 0.012</td> <td>    0.204</td> <td>    1.638</td>\n",
       "</tr>\n",
       "<tr>\n",
       "  <th>age</th>             <td>    0.0265</td> <td>    0.005</td> <td>    5.380</td> <td> 0.000</td> <td>    0.017</td> <td>    0.036</td>\n",
       "</tr>\n",
       "<tr>\n",
       "  <th>age:sex[T.Male]</th> <td>   -0.0070</td> <td>    0.007</td> <td>   -1.071</td> <td> 0.284</td> <td>   -0.020</td> <td>    0.006</td>\n",
       "</tr>\n",
       "</table>"
      ],
      "text/plain": [
       "<class 'statsmodels.iolib.summary.Summary'>\n",
       "\"\"\"\n",
       "                           Logit Regression Results                           \n",
       "==============================================================================\n",
       "Dep. Variable:                      y   No. Observations:                 1489\n",
       "Model:                          Logit   Df Residuals:                     1485\n",
       "Method:                           MLE   Df Model:                            3\n",
       "Date:                Sun, 25 Oct 2020   Pseudo R-squ.:                 0.03760\n",
       "Time:                        20:52:47   Log-Likelihood:                -918.44\n",
       "converged:                       True   LL-Null:                       -954.33\n",
       "Covariance Type:            nonrobust   LLR p-value:                 1.781e-15\n",
       "===================================================================================\n",
       "                      coef    std err          z      P>|z|      [0.025      0.975]\n",
       "-----------------------------------------------------------------------------------\n",
       "Intercept          -2.3395      0.284     -8.233      0.000      -2.896      -1.783\n",
       "sex[T.Male]         0.9213      0.366      2.518      0.012       0.204       1.638\n",
       "age                 0.0265      0.005      5.380      0.000       0.017       0.036\n",
       "age:sex[T.Male]    -0.0070      0.007     -1.071      0.284      -0.020       0.006\n",
       "===================================================================================\n",
       "\"\"\""
      ]
     },
     "execution_count": 38,
     "metadata": {},
     "output_type": "execute_result"
    }
   ],
   "source": [
    "mod3 = smf.logit('y ~ age + sex + age:sex', data=df).fit()\n",
    "mod3.summary()"
   ]
  },
  {
   "cell_type": "markdown",
   "metadata": {},
   "source": [
    "<br/>\n",
    "<br/>\n",
    "<br/>\n",
    "<br/>\n",
    "<br/>\n",
    "<br/>\n",
    "<br/>\n",
    "<br/>\n",
    "<br/>\n",
    "<br/>\n",
    "<br/>\n",
    "<br/>\n",
    "<br/>\n",
    "<br/>\n",
    "<br/>\n",
    "<br/>\n",
    "<br/>\n",
    "<br/>\n",
    "<br/>\n",
    "The interaction term reflects any difference in the age effect between genders. The z-test for the interaction is not signficant (p > 0.25), so there is no indication that this term is needed in the model."
   ]
  },
  {
   "cell_type": "markdown",
   "metadata": {
    "slideshow": {
     "slide_type": "slide"
    }
   },
   "source": [
    "---\n",
    "STAT 207, Victoria Ellison and Douglas Simpson, University of Illinois at Urbana-Champaign"
   ]
  },
  {
   "cell_type": "code",
   "execution_count": null,
   "metadata": {},
   "outputs": [],
   "source": []
  }
 ],
 "metadata": {
  "kernelspec": {
   "display_name": "Python 3",
   "language": "python",
   "name": "python3"
  },
  "language_info": {
   "codemirror_mode": {
    "name": "ipython",
    "version": 3
   },
   "file_extension": ".py",
   "mimetype": "text/x-python",
   "name": "python",
   "nbconvert_exporter": "python",
   "pygments_lexer": "ipython3",
   "version": "3.8.5"
  }
 },
 "nbformat": 4,
 "nbformat_minor": 2
}
