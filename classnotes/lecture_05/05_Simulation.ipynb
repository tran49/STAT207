{
 "cells": [
  {
   "cell_type": "markdown",
   "metadata": {},
   "source": [
    "<!--# STAT 207: Data Science Exploration-->\n",
    "## For Loops, Functions and Monte Carlo Simulation\n",
    "\n",
    "Flow control methods such as for loops allow us to automate repetitive operations. When running simulations this allows us to repeatedly sample from data either to test out a sampling model or to construct resampling based inferences such as the bootstrap, which will be discussed in later chapters. \n",
    "\n",
    "We use Python functions constantly, and a valuable feature of Python and many programming languages is the ability to build our own functions to perform frequent specialized tasks.\n",
    "\n",
    "In this section we first introduce how for loops work, then develop a small function for Monte Carlo sampling from a data frame. Then we use this to investigate the sample distributions of sample means and proportions for random samples of varying sample sizes, when sampling with replacement.\n",
    "\n",
    "Using Monte Carlo simulation we demonstrate the square root rule for the standard deviation of the mean and the approximate normal distribution of the sample mean of a large sample. This latter approximation is consistent with the Central Limit Theorem from probability theory."
   ]
  },
  {
   "cell_type": "markdown",
   "metadata": {},
   "source": [
    "### Flow control: for loop\n",
    "\n",
    "In order to do simulations we use Python's flow control to allow us to repeatedly draw samples. The **for** loop is fundamental in many programming languages. Here's a simple version. Notice that for Python the **colon (:)** and **indentation** are important. The indentation needs to be 4 characters wide! The notebook formats this automatically. "
   ]
  },
  {
   "cell_type": "code",
   "execution_count": 1,
   "metadata": {},
   "outputs": [
    {
     "name": "stdout",
     "output_type": "stream",
     "text": [
      "Here Fido!\n",
      "Here Rex!\n",
      "Here Mitzi!\n",
      "Here Fluffy!\n",
      "Here Mr. Lizard!\n"
     ]
    }
   ],
   "source": [
    "for x in [\"Fido\", \"Rex\", \"Mitzi\", \"Fluffy\", \"Mr. Lizard\"]:\n",
    "    print(\"Here \", x, \"!\", sep=\"\")"
   ]
  },
  {
   "cell_type": "markdown",
   "metadata": {},
   "source": [
    "Here's another example, with the same general principle that the for loop passes through all the values in the \"in\" list."
   ]
  },
  {
   "cell_type": "code",
   "execution_count": 2,
   "metadata": {},
   "outputs": [
    {
     "name": "stdout",
     "output_type": "stream",
     "text": [
      "Hello Fidotron-R0, welcome!\n",
      "Hello Fidotron-R1, welcome!\n",
      "Hello Fidotron-R2, welcome!\n",
      "Hello Fidotron-R3, welcome!\n",
      "Hello Fidotron-R4, welcome!\n"
     ]
    }
   ],
   "source": [
    "for i in range(5):\n",
    "    print(\"Hello Fidotron-R\", i, \", welcome!\", sep=\"\")"
   ]
  },
  {
   "cell_type": "markdown",
   "metadata": {},
   "source": [
    "The for loop allows us to do an operation repeatedly by stepping through a finite list. This is extremely useful for performing computer simulations in which we repeatedly draw samples and study the the effects of random variation on the statistics."
   ]
  },
  {
   "cell_type": "markdown",
   "metadata": {},
   "source": [
    "### Sampling distribution of the mean\n",
    "\n",
    "The sample mean is common statistic used to summarize the central tendancies of particular variables in the data. When the data are drawn from a larger population at random, the sample mean provides an estimate of the mean for the whole population. In a sample survey the sample that we get from the population is random, and woul be different if we were to repeat the sampling process. However, if the *sample* is large enough then sample statistics will tend to be close to the correpsonding population parameters, and the variation in the sample statistics is predictable.\n",
    "\n",
    "**Example:** the proportion of voting age citizens who support a given policy in a population can be thought of as the mean of all the 0/1 indicators for whether each citizen supports the policy. 1 means they support it; 0 means they don't. The average of all these 0s and 1s is the proportion supporting the policy. If we draw a random sample from the population, the sample proportion is the sample mean of all the 0's and 1's selected for the sample. How much variation is there in this sample proportion due to the random sampling? We investigate questions like these through simulation. Later we will see that theory provides precise information about the variation in the sample proportion.\n",
    "\n",
    "Before specifically addressing the special case of the sample proportion, let's consider the case of sample means for variables in data frames in general. We set up a Monte Carlo simulation scheme in which we repeatedly draw random samples and see how the resulting sample means vary. "
   ]
  },
  {
   "cell_type": "code",
   "execution_count": 3,
   "metadata": {},
   "outputs": [],
   "source": [
    "import pandas as pd\n",
    "import numpy as np\n",
    "import matplotlib.pyplot as plt\n",
    "import seaborn as sns; sns.set()"
   ]
  },
  {
   "cell_type": "code",
   "execution_count": 4,
   "metadata": {},
   "outputs": [
    {
     "data": {
      "text/html": [
       "<div>\n",
       "<style scoped>\n",
       "    .dataframe tbody tr th:only-of-type {\n",
       "        vertical-align: middle;\n",
       "    }\n",
       "\n",
       "    .dataframe tbody tr th {\n",
       "        vertical-align: top;\n",
       "    }\n",
       "\n",
       "    .dataframe thead th {\n",
       "        text-align: right;\n",
       "    }\n",
       "</style>\n",
       "<table border=\"1\" class=\"dataframe\">\n",
       "  <thead>\n",
       "    <tr style=\"text-align: right;\">\n",
       "      <th></th>\n",
       "      <th>course</th>\n",
       "      <th>section</th>\n",
       "      <th>enrolled</th>\n",
       "    </tr>\n",
       "  </thead>\n",
       "  <tbody>\n",
       "    <tr>\n",
       "      <th>0</th>\n",
       "      <td>adv307</td>\n",
       "      <td>A</td>\n",
       "      <td>37</td>\n",
       "    </tr>\n",
       "    <tr>\n",
       "      <th>1</th>\n",
       "      <td>badm210</td>\n",
       "      <td>A</td>\n",
       "      <td>215</td>\n",
       "    </tr>\n",
       "    <tr>\n",
       "      <th>2</th>\n",
       "      <td>badm210</td>\n",
       "      <td>B</td>\n",
       "      <td>178</td>\n",
       "    </tr>\n",
       "    <tr>\n",
       "      <th>3</th>\n",
       "      <td>badm210</td>\n",
       "      <td>C</td>\n",
       "      <td>197</td>\n",
       "    </tr>\n",
       "    <tr>\n",
       "      <th>4</th>\n",
       "      <td>cs105</td>\n",
       "      <td>A</td>\n",
       "      <td>345</td>\n",
       "    </tr>\n",
       "    <tr>\n",
       "      <th>5</th>\n",
       "      <td>cs105</td>\n",
       "      <td>B</td>\n",
       "      <td>201</td>\n",
       "    </tr>\n",
       "    <tr>\n",
       "      <th>6</th>\n",
       "      <td>stat107</td>\n",
       "      <td>A</td>\n",
       "      <td>197</td>\n",
       "    </tr>\n",
       "    <tr>\n",
       "      <th>7</th>\n",
       "      <td>stat207</td>\n",
       "      <td>A</td>\n",
       "      <td>53</td>\n",
       "    </tr>\n",
       "  </tbody>\n",
       "</table>\n",
       "</div>"
      ],
      "text/plain": [
       "    course section  enrolled\n",
       "0   adv307       A        37\n",
       "1  badm210       A       215\n",
       "2  badm210       B       178\n",
       "3  badm210       C       197\n",
       "4    cs105       A       345\n",
       "5    cs105       B       201\n",
       "6  stat107       A       197\n",
       "7  stat207       A        53"
      ]
     },
     "execution_count": 4,
     "metadata": {},
     "output_type": "execute_result"
    }
   ],
   "source": [
    "# create a data frame for illustration and testing\n",
    "courses = ['adv307', 'badm210', 'badm210', 'badm210', \n",
    "           'cs105', 'cs105', 'stat107', 'stat207']\n",
    "sections = ['A', 'A', 'B', 'C', 'A', 'B', 'A', 'A']\n",
    "enrollments = [37, 215, 178, 197, 345, 201, 197, 53]\n",
    "sectdf = pd.DataFrame({'course': courses, \n",
    "                       'section': sections, \n",
    "                       'enrolled': enrollments})\n",
    "sectdf"
   ]
  },
  {
   "cell_type": "code",
   "execution_count": 5,
   "metadata": {},
   "outputs": [
    {
     "data": {
      "text/plain": [
       "177.875"
      ]
     },
     "execution_count": 5,
     "metadata": {},
     "output_type": "execute_result"
    }
   ],
   "source": [
    "sectdf['enrolled'].mean()"
   ]
  },
  {
   "cell_type": "markdown",
   "metadata": {},
   "source": [
    "Let's generate 5 random samples form the data frame and calculate the corresponding sample means. This is a very simple example of a Monte Carlo simulation.\n",
    "\n",
    "We use a for loop where we initialize an empty array, SampleMeans, and then iterate a sepcified number of times. To understand how each step works you might find it helpful to break out the individual steps and run them with different values of the iteration variable i. "
   ]
  },
  {
   "cell_type": "code",
   "execution_count": 6,
   "metadata": {},
   "outputs": [
    {
     "name": "stdout",
     "output_type": "stream",
     "text": [
      "[169.1]\n",
      "[169.1, 210.1]\n",
      "[169.1, 210.1, 210.3]\n",
      "[169.1, 210.1, 210.3, 134.8]\n",
      "[169.1, 210.1, 210.3, 134.8, 188.5]\n",
      "   enrolled\n",
      "0     169.1\n",
      "1     210.1\n",
      "2     210.3\n",
      "3     134.8\n",
      "4     188.5\n"
     ]
    }
   ],
   "source": [
    "# iterate 5 times\n",
    "x = 'enrolled'\n",
    "SampleMeans = []\n",
    "for i in range(5):\n",
    "    SampleMeans.append(sectdf[x].sample(10, replace=True).mean())\n",
    "    print(SampleMeans)\n",
    "print(pd.DataFrame({x: SampleMeans}))"
   ]
  },
  {
   "cell_type": "code",
   "execution_count": 7,
   "metadata": {},
   "outputs": [],
   "source": [
    "# iterate 1000 times\n",
    "# parametrize the sample size. number of random samples, \n",
    "# and the variable name\n",
    "x = 'enrolled'\n",
    "n=10\n",
    "M=1000\n",
    "SampleMeans = []\n",
    "for i in range(M):\n",
    "    SampleMeans.append(sectdf[x].sample(n, replace=True).mean())\n",
    "MonteCarlo = pd.DataFrame({x: SampleMeans})"
   ]
  },
  {
   "cell_type": "code",
   "execution_count": 8,
   "metadata": {},
   "outputs": [
    {
     "data": {
      "text/plain": [
       "(1000, 1)"
      ]
     },
     "execution_count": 8,
     "metadata": {},
     "output_type": "execute_result"
    }
   ],
   "source": [
    "MonteCarlo.shape"
   ]
  },
  {
   "cell_type": "code",
   "execution_count": 9,
   "metadata": {},
   "outputs": [
    {
     "data": {
      "text/html": [
       "<div>\n",
       "<style scoped>\n",
       "    .dataframe tbody tr th:only-of-type {\n",
       "        vertical-align: middle;\n",
       "    }\n",
       "\n",
       "    .dataframe tbody tr th {\n",
       "        vertical-align: top;\n",
       "    }\n",
       "\n",
       "    .dataframe thead th {\n",
       "        text-align: right;\n",
       "    }\n",
       "</style>\n",
       "<table border=\"1\" class=\"dataframe\">\n",
       "  <thead>\n",
       "    <tr style=\"text-align: right;\">\n",
       "      <th></th>\n",
       "      <th>enrolled</th>\n",
       "    </tr>\n",
       "  </thead>\n",
       "  <tbody>\n",
       "    <tr>\n",
       "      <th>0</th>\n",
       "      <td>143.0</td>\n",
       "    </tr>\n",
       "    <tr>\n",
       "      <th>1</th>\n",
       "      <td>142.4</td>\n",
       "    </tr>\n",
       "    <tr>\n",
       "      <th>2</th>\n",
       "      <td>181.7</td>\n",
       "    </tr>\n",
       "    <tr>\n",
       "      <th>3</th>\n",
       "      <td>150.3</td>\n",
       "    </tr>\n",
       "    <tr>\n",
       "      <th>4</th>\n",
       "      <td>152.7</td>\n",
       "    </tr>\n",
       "    <tr>\n",
       "      <th>5</th>\n",
       "      <td>200.8</td>\n",
       "    </tr>\n",
       "    <tr>\n",
       "      <th>6</th>\n",
       "      <td>148.9</td>\n",
       "    </tr>\n",
       "    <tr>\n",
       "      <th>7</th>\n",
       "      <td>224.3</td>\n",
       "    </tr>\n",
       "    <tr>\n",
       "      <th>8</th>\n",
       "      <td>175.9</td>\n",
       "    </tr>\n",
       "    <tr>\n",
       "      <th>9</th>\n",
       "      <td>211.8</td>\n",
       "    </tr>\n",
       "  </tbody>\n",
       "</table>\n",
       "</div>"
      ],
      "text/plain": [
       "   enrolled\n",
       "0     143.0\n",
       "1     142.4\n",
       "2     181.7\n",
       "3     150.3\n",
       "4     152.7\n",
       "5     200.8\n",
       "6     148.9\n",
       "7     224.3\n",
       "8     175.9\n",
       "9     211.8"
      ]
     },
     "execution_count": 9,
     "metadata": {},
     "output_type": "execute_result"
    }
   ],
   "source": [
    "MonteCarlo.head(10)"
   ]
  },
  {
   "cell_type": "code",
   "execution_count": 10,
   "metadata": {},
   "outputs": [
    {
     "data": {
      "image/png": "[encoded data removed]",
      "text/plain": [
       "<Figure size 432x288 with 1 Axes>"
      ]
     },
     "metadata": {
      "needs_background": "light"
     },
     "output_type": "display_data"
    }
   ],
   "source": [
    "MonteCarlo[x].hist(density=True)\n",
    "plt.show()"
   ]
  },
  {
   "cell_type": "markdown",
   "metadata": {},
   "source": [
    "### Making our own functions\n",
    "\n",
    "If we want to try lots of different values for n and M it gets tedious to keep copying the code and changing the parameters in multiple locations. Instead, we can make our own function to do this kind of task with varying inputs. This saves a lot of redundant effort. It also makes it easier to understand and debug the code. \n",
    "\n",
    "Here's a function to do the Monte carlo simulation of the sample mean for different sample sizes and numbers of Monte Carlo samples. Notice that we input the data frame (or data series), variable name x as a text string, sample size n, and number of Monte Carlo samples M. Here again, the **colon (:)** and **indentation (4 characters)** are important to indicate that the ensuing lines of code are included in the function."
   ]
  },
  {
   "cell_type": "code",
   "execution_count": 11,
   "metadata": {},
   "outputs": [],
   "source": [
    "def MCmeans(df, x='', replace=True, n=1, M=1):\n",
    "    # df is a data frame\n",
    "    # x is a text-valued name for a variable in the data frame\n",
    "    # replace = True or False depending on whether \n",
    "    #    draws are with or without replacement\n",
    "    # n = number of draws per sample\n",
    "    # M = number of samples to draw\n",
    "    MCstats = []\n",
    "    for i in range(M):\n",
    "        MCstats.append(df[x].sample(n, replace=replace).mean())\n",
    "    return pd.DataFrame({x: MCstats})"
   ]
  },
  {
   "cell_type": "code",
   "execution_count": 12,
   "metadata": {},
   "outputs": [
    {
     "data": {
      "text/html": [
       "<div>\n",
       "<style scoped>\n",
       "    .dataframe tbody tr th:only-of-type {\n",
       "        vertical-align: middle;\n",
       "    }\n",
       "\n",
       "    .dataframe tbody tr th {\n",
       "        vertical-align: top;\n",
       "    }\n",
       "\n",
       "    .dataframe thead th {\n",
       "        text-align: right;\n",
       "    }\n",
       "</style>\n",
       "<table border=\"1\" class=\"dataframe\">\n",
       "  <thead>\n",
       "    <tr style=\"text-align: right;\">\n",
       "      <th></th>\n",
       "      <th>enrolled</th>\n",
       "    </tr>\n",
       "  </thead>\n",
       "  <tbody>\n",
       "    <tr>\n",
       "      <th>0</th>\n",
       "      <td>201.0</td>\n",
       "    </tr>\n",
       "  </tbody>\n",
       "</table>\n",
       "</div>"
      ],
      "text/plain": [
       "   enrolled\n",
       "0     201.0"
      ]
     },
     "execution_count": 12,
     "metadata": {},
     "output_type": "execute_result"
    }
   ],
   "source": [
    "MCmeans(df=sectdf, x='enrolled')"
   ]
  },
  {
   "cell_type": "code",
   "execution_count": 13,
   "metadata": {},
   "outputs": [
    {
     "data": {
      "text/html": [
       "<div>\n",
       "<style scoped>\n",
       "    .dataframe tbody tr th:only-of-type {\n",
       "        vertical-align: middle;\n",
       "    }\n",
       "\n",
       "    .dataframe tbody tr th {\n",
       "        vertical-align: top;\n",
       "    }\n",
       "\n",
       "    .dataframe thead th {\n",
       "        text-align: right;\n",
       "    }\n",
       "</style>\n",
       "<table border=\"1\" class=\"dataframe\">\n",
       "  <thead>\n",
       "    <tr style=\"text-align: right;\">\n",
       "      <th></th>\n",
       "      <th>enrolled</th>\n",
       "    </tr>\n",
       "  </thead>\n",
       "  <tbody>\n",
       "    <tr>\n",
       "      <th>0</th>\n",
       "      <td>53.0</td>\n",
       "    </tr>\n",
       "    <tr>\n",
       "      <th>1</th>\n",
       "      <td>345.0</td>\n",
       "    </tr>\n",
       "    <tr>\n",
       "      <th>2</th>\n",
       "      <td>345.0</td>\n",
       "    </tr>\n",
       "    <tr>\n",
       "      <th>3</th>\n",
       "      <td>345.0</td>\n",
       "    </tr>\n",
       "    <tr>\n",
       "      <th>4</th>\n",
       "      <td>201.0</td>\n",
       "    </tr>\n",
       "    <tr>\n",
       "      <th>5</th>\n",
       "      <td>201.0</td>\n",
       "    </tr>\n",
       "    <tr>\n",
       "      <th>6</th>\n",
       "      <td>197.0</td>\n",
       "    </tr>\n",
       "    <tr>\n",
       "      <th>7</th>\n",
       "      <td>197.0</td>\n",
       "    </tr>\n",
       "    <tr>\n",
       "      <th>8</th>\n",
       "      <td>197.0</td>\n",
       "    </tr>\n",
       "    <tr>\n",
       "      <th>9</th>\n",
       "      <td>178.0</td>\n",
       "    </tr>\n",
       "  </tbody>\n",
       "</table>\n",
       "</div>"
      ],
      "text/plain": [
       "   enrolled\n",
       "0      53.0\n",
       "1     345.0\n",
       "2     345.0\n",
       "3     345.0\n",
       "4     201.0\n",
       "5     201.0\n",
       "6     197.0\n",
       "7     197.0\n",
       "8     197.0\n",
       "9     178.0"
      ]
     },
     "execution_count": 13,
     "metadata": {},
     "output_type": "execute_result"
    }
   ],
   "source": [
    "MCmeans(df=sectdf, x=\"enrolled\", n=1, M=10)"
   ]
  },
  {
   "cell_type": "code",
   "execution_count": 14,
   "metadata": {},
   "outputs": [
    {
     "data": {
      "text/plain": [
       "(10000, 1)"
      ]
     },
     "execution_count": 14,
     "metadata": {},
     "output_type": "execute_result"
    }
   ],
   "source": [
    "MonteCarlo = MCmeans(df=sectdf, x=\"enrolled\", n=1, M=10000)\n",
    "MonteCarlo.shape"
   ]
  },
  {
   "cell_type": "code",
   "execution_count": 15,
   "metadata": {},
   "outputs": [
    {
     "data": {
      "image/png": "[encoded data removed]",
      "text/plain": [
       "<Figure size 432x288 with 1 Axes>"
      ]
     },
     "metadata": {
      "needs_background": "light"
     },
     "output_type": "display_data"
    }
   ],
   "source": [
    "MonteCarlo['enrolled'].hist(density=True)\n",
    "plt.show()"
   ]
  },
  {
   "cell_type": "code",
   "execution_count": 16,
   "metadata": {},
   "outputs": [
    {
     "data": {
      "image/png": "[encoded data removed]",
      "text/plain": [
       "<Figure size 432x288 with 1 Axes>"
      ]
     },
     "metadata": {
      "needs_background": "light"
     },
     "output_type": "display_data"
    }
   ],
   "source": [
    "MonteCarlo = MCmeans(df=sectdf, x=\"enrolled\", n=10, M=10000)\n",
    "MonteCarlo['enrolled'].hist(density=True)\n",
    "plt.show()"
   ]
  },
  {
   "cell_type": "code",
   "execution_count": 17,
   "metadata": {},
   "outputs": [
    {
     "data": {
      "image/png": "[encoded data removed]",
      "text/plain": [
       "<Figure size 432x288 with 1 Axes>"
      ]
     },
     "metadata": {
      "needs_background": "light"
     },
     "output_type": "display_data"
    }
   ],
   "source": [
    "MonteCarlo = MCmeans(df=sectdf, x=\"enrolled\", n=100, M=10000)\n",
    "MonteCarlo['enrolled'].hist(density=True)\n",
    "plt.show()"
   ]
  },
  {
   "cell_type": "code",
   "execution_count": 18,
   "metadata": {},
   "outputs": [
    {
     "data": {
      "image/png": "[encoded data removed]",
      "text/plain": [
       "<Figure size 432x288 with 1 Axes>"
      ]
     },
     "metadata": {
      "needs_background": "light"
     },
     "output_type": "display_data"
    }
   ],
   "source": [
    "MonteCarlo = MCmeans(df=sectdf, x=\"enrolled\", n=400, M=10000)\n",
    "MonteCarlo['enrolled'].hist(density=True)\n",
    "plt.show()"
   ]
  },
  {
   "cell_type": "markdown",
   "metadata": {},
   "source": [
    "### Sampling distribution of the proportion of \"heads\" in coin tossing"
   ]
  },
  {
   "cell_type": "markdown",
   "metadata": {},
   "source": [
    "With our function available we can simulate all kinds of things. Here is a \"data frame\" of the possible outcomes when flipping a coin."
   ]
  },
  {
   "cell_type": "code",
   "execution_count": 19,
   "metadata": {},
   "outputs": [
    {
     "data": {
      "text/html": [
       "<div>\n",
       "<style scoped>\n",
       "    .dataframe tbody tr th:only-of-type {\n",
       "        vertical-align: middle;\n",
       "    }\n",
       "\n",
       "    .dataframe tbody tr th {\n",
       "        vertical-align: top;\n",
       "    }\n",
       "\n",
       "    .dataframe thead th {\n",
       "        text-align: right;\n",
       "    }\n",
       "</style>\n",
       "<table border=\"1\" class=\"dataframe\">\n",
       "  <thead>\n",
       "    <tr style=\"text-align: right;\">\n",
       "      <th></th>\n",
       "      <th>toss</th>\n",
       "      <th>value</th>\n",
       "    </tr>\n",
       "  </thead>\n",
       "  <tbody>\n",
       "    <tr>\n",
       "      <th>0</th>\n",
       "      <td>heads</td>\n",
       "      <td>1</td>\n",
       "    </tr>\n",
       "    <tr>\n",
       "      <th>1</th>\n",
       "      <td>tails</td>\n",
       "      <td>0</td>\n",
       "    </tr>\n",
       "  </tbody>\n",
       "</table>\n",
       "</div>"
      ],
      "text/plain": [
       "    toss  value\n",
       "0  heads      1\n",
       "1  tails      0"
      ]
     },
     "execution_count": 19,
     "metadata": {},
     "output_type": "execute_result"
    }
   ],
   "source": [
    "df = pd.DataFrame({'toss':['heads','tails'], 'value': [1, 0]})\n",
    "df"
   ]
  },
  {
   "cell_type": "markdown",
   "metadata": {},
   "source": [
    "If we make one draw, i.e., toss the coin once, then the uniform probability principle tells us the probability of a 1 is $p$ = 1/2. What if we draw (flip) 10 times randomly and without replacement? What proportion $\\hat{p}$ of \"heads\" do we expect? How much is it likely to vary from this expectation? What if we toss 100 times, or 400?\n",
    "\n",
    "Let's consider a series of sample sizes and study how the sampling distribution is affected. We'll compute mean and standard deviation of the Monte Carlo values, and look at the histrogram as well to get a picture fo the sample distributions for different sample sizes."
   ]
  },
  {
   "cell_type": "code",
   "execution_count": 20,
   "metadata": {},
   "outputs": [
    {
     "name": "stdout",
     "output_type": "stream",
     "text": [
      "Sample size =  10\n",
      "Mean value for sample proportion = 0.49977\n",
      "Standard Deviation for sample proportion = 0.15817\n"
     ]
    }
   ],
   "source": [
    "MonteCarlo = MCmeans(df=df, x=\"value\", n=10, M=10000)\n",
    "print('Sample size = ', 10)\n",
    "print('Mean value for sample proportion =', \n",
    "      np.round(MonteCarlo.mean().value, 5))\n",
    "print('Standard Deviation for sample proportion =', \n",
    "      np.round(MonteCarlo.std().value, 5))"
   ]
  },
  {
   "cell_type": "markdown",
   "metadata": {},
   "source": [
    "What does the sample distribution look like?"
   ]
  },
  {
   "cell_type": "code",
   "execution_count": 21,
   "metadata": {},
   "outputs": [
    {
     "data": {
      "image/png": "[encoded data removed]",
      "text/plain": [
       "<Figure size 432x288 with 1 Axes>"
      ]
     },
     "metadata": {
      "needs_background": "light"
     },
     "output_type": "display_data"
    }
   ],
   "source": [
    "MonteCarlo['value'].hist(density=True)\n",
    "plt.title('n = 10')\n",
    "plt.show()"
   ]
  },
  {
   "cell_type": "markdown",
   "metadata": {},
   "source": [
    "Let's compare the sample distribution of $\\hat{p}$ for 100, 400 and 1600 tosses."
   ]
  },
  {
   "cell_type": "code",
   "execution_count": 22,
   "metadata": {},
   "outputs": [
    {
     "name": "stdout",
     "output_type": "stream",
     "text": [
      "Sample size =  100\n",
      "Mean value for sample proportion = 0.49951\n",
      "Standard Deviation for sample proportion = 0.05054\n"
     ]
    }
   ],
   "source": [
    "MonteCarlo = MCmeans(df=df, x=\"value\", n=100, M=10000)\n",
    "print('Sample size = ', 100)\n",
    "print('Mean value for sample proportion =', \n",
    "      np.round(MonteCarlo.mean().value, 5))\n",
    "print('Standard Deviation for sample proportion =', \n",
    "      np.round(MonteCarlo.std().value, 5))"
   ]
  },
  {
   "cell_type": "code",
   "execution_count": 23,
   "metadata": {},
   "outputs": [
    {
     "data": {
      "image/png": "[encoded data removed]",
      "text/plain": [
       "<Figure size 432x288 with 1 Axes>"
      ]
     },
     "metadata": {
      "needs_background": "light"
     },
     "output_type": "display_data"
    }
   ],
   "source": [
    "MonteCarlo['value'].hist(density=True, bins=15)\n",
    "plt.title('n = 100')\n",
    "plt.show()"
   ]
  },
  {
   "cell_type": "code",
   "execution_count": 24,
   "metadata": {},
   "outputs": [
    {
     "name": "stdout",
     "output_type": "stream",
     "text": [
      "Sample size =  400\n",
      "Mean value for sample proportion = 0.49997\n",
      "Standard Deviation for sample proportion = 0.02505\n"
     ]
    }
   ],
   "source": [
    "MonteCarlo = MCmeans(df=df, x=\"value\", n=400, M=10000)\n",
    "print('Sample size = ', 400)\n",
    "print('Mean value for sample proportion =', \n",
    "      np.round(MonteCarlo.mean().value, 5))\n",
    "print('Standard Deviation for sample proportion =', \n",
    "      np.round(MonteCarlo.std().value, 5))"
   ]
  },
  {
   "cell_type": "code",
   "execution_count": 25,
   "metadata": {},
   "outputs": [
    {
     "data": {
      "image/png": "[encoded data removed]",
      "text/plain": [
       "<Figure size 432x288 with 1 Axes>"
      ]
     },
     "metadata": {
      "needs_background": "light"
     },
     "output_type": "display_data"
    }
   ],
   "source": [
    "MonteCarlo['value'].hist(density=True, bins=20)\n",
    "plt.title('n = 400')\n",
    "plt.show()"
   ]
  },
  {
   "cell_type": "code",
   "execution_count": 26,
   "metadata": {},
   "outputs": [
    {
     "name": "stdout",
     "output_type": "stream",
     "text": [
      "Sample size =  1600\n",
      "Mean value for sample proportion = 0.49999\n",
      "Standard Deviation for sample proportion = 0.01251\n"
     ]
    }
   ],
   "source": [
    "MonteCarlo = MCmeans(df=df, x=\"value\", n=1600, M=10000)\n",
    "print('Sample size = ', 1600)\n",
    "print('Mean value for sample proportion =', \n",
    "      np.round(MonteCarlo.mean().value, 5))\n",
    "print('Standard Deviation for sample proportion =', \n",
    "      np.round(MonteCarlo.std().value, 5))"
   ]
  },
  {
   "cell_type": "code",
   "execution_count": 27,
   "metadata": {},
   "outputs": [
    {
     "data": {
      "image/png": "[encoded data removed]",
      "text/plain": [
       "<Figure size 432x288 with 1 Axes>"
      ]
     },
     "metadata": {
      "needs_background": "light"
     },
     "output_type": "display_data"
    }
   ],
   "source": [
    "MonteCarlo['value'].hist(density=True, bins=25)\n",
    "plt.title('n = 1600')\n",
    "plt.show()"
   ]
  },
  {
   "cell_type": "markdown",
   "metadata": {},
   "source": [
    "### Effect of sample size on sampling distribution of $\\hat{p}$\n",
    "\n",
    "Comparing the histograms of the sample proportion for n=10, 100, 400 and 1600 above, we see that:\n",
    "\n",
    "1. the sampling distribution is centered around the \"population\" proportion 0.50.\n",
    "\n",
    "2. the sample distribution becomes more and more concentrated near 0.50 as we increase n, both in terms of the concentration of the histogram and the decrease in the standard deviation.\n",
    "\n",
    "3. the sampling distribution becomes more like a \"bell curve\" as the sample size increases. \n",
    "\n",
    "\n",
    "The **standard deviation** is a measure of the **spread** of the distribution. To a close approximation it is the square-root of mean-square deviation of a set of numbers from their mean. \n",
    "\n",
    "Our simulations are suggestive concerning the behavior sample means and sample proportions. The following general result shows why these statistics become more and more precise as estimates, as the sample size is increased.\n",
    "\n",
    "### Mean and Standard Deviation of sample means and proportions: Square root rule \n",
    "\n",
    "When a random sample is drawn from a population the sample mean and sample proportion have expected values equal to the population mean and proportion, respectively. \n",
    "\n",
    "More is known: the standard deviation of a sample mean ($\\bar{X}$) or sample proportion ($\\hat{p}$) from a random sample decreases in proportion to the square root of the sample size n:\n",
    "\n",
    "$SD(\\bar{X})$ $\\propto$ $1\\over\\sqrt{n}$\n",
    "\n",
    "and\n",
    "\n",
    "$SD(\\hat{p})$ $\\propto$ $1\\over\\sqrt{n}$ \n",
    "\n",
    "as the sample size $n$ drawn from a given population is increased."
   ]
  },
  {
   "cell_type": "markdown",
   "metadata": {},
   "source": [
    "### Monte Carlo investigation of the square root rule\n",
    "\n",
    "Let's set up another simulation to test the square root rule. We'll use an asymmetrical distribution of 0s and 1s."
   ]
  },
  {
   "cell_type": "code",
   "execution_count": 28,
   "metadata": {},
   "outputs": [
    {
     "data": {
      "text/plain": [
       "array([1, 1, 1, 1, 1, 1, 1, 1, 1])"
      ]
     },
     "execution_count": 28,
     "metadata": {},
     "output_type": "execute_result"
    }
   ],
   "source": [
    "np.repeat(1,9)"
   ]
  },
  {
   "cell_type": "code",
   "execution_count": 29,
   "metadata": {},
   "outputs": [
    {
     "data": {
      "text/html": [
       "<div>\n",
       "<style scoped>\n",
       "    .dataframe tbody tr th:only-of-type {\n",
       "        vertical-align: middle;\n",
       "    }\n",
       "\n",
       "    .dataframe tbody tr th {\n",
       "        vertical-align: top;\n",
       "    }\n",
       "\n",
       "    .dataframe thead th {\n",
       "        text-align: right;\n",
       "    }\n",
       "</style>\n",
       "<table border=\"1\" class=\"dataframe\">\n",
       "  <thead>\n",
       "    <tr style=\"text-align: right;\">\n",
       "      <th></th>\n",
       "      <th>binary</th>\n",
       "    </tr>\n",
       "  </thead>\n",
       "  <tbody>\n",
       "    <tr>\n",
       "      <th>0</th>\n",
       "      <td>1</td>\n",
       "    </tr>\n",
       "    <tr>\n",
       "      <th>1</th>\n",
       "      <td>1</td>\n",
       "    </tr>\n",
       "    <tr>\n",
       "      <th>2</th>\n",
       "      <td>1</td>\n",
       "    </tr>\n",
       "    <tr>\n",
       "      <th>3</th>\n",
       "      <td>1</td>\n",
       "    </tr>\n",
       "    <tr>\n",
       "      <th>4</th>\n",
       "      <td>0</td>\n",
       "    </tr>\n",
       "    <tr>\n",
       "      <th>5</th>\n",
       "      <td>0</td>\n",
       "    </tr>\n",
       "    <tr>\n",
       "      <th>6</th>\n",
       "      <td>0</td>\n",
       "    </tr>\n",
       "    <tr>\n",
       "      <th>7</th>\n",
       "      <td>0</td>\n",
       "    </tr>\n",
       "    <tr>\n",
       "      <th>8</th>\n",
       "      <td>0</td>\n",
       "    </tr>\n",
       "    <tr>\n",
       "      <th>9</th>\n",
       "      <td>0</td>\n",
       "    </tr>\n",
       "    <tr>\n",
       "      <th>10</th>\n",
       "      <td>0</td>\n",
       "    </tr>\n",
       "    <tr>\n",
       "      <th>11</th>\n",
       "      <td>0</td>\n",
       "    </tr>\n",
       "    <tr>\n",
       "      <th>12</th>\n",
       "      <td>0</td>\n",
       "    </tr>\n",
       "  </tbody>\n",
       "</table>\n",
       "</div>"
      ],
      "text/plain": [
       "    binary\n",
       "0        1\n",
       "1        1\n",
       "2        1\n",
       "3        1\n",
       "4        0\n",
       "5        0\n",
       "6        0\n",
       "7        0\n",
       "8        0\n",
       "9        0\n",
       "10       0\n",
       "11       0\n",
       "12       0"
      ]
     },
     "execution_count": 29,
     "metadata": {},
     "output_type": "execute_result"
    }
   ],
   "source": [
    "df49 = pd.DataFrame({'binary': np.concatenate((np.repeat(1, 4), \n",
    "                                               np.repeat(0, 9)))})\n",
    "df49"
   ]
  },
  {
   "cell_type": "code",
   "execution_count": 30,
   "metadata": {},
   "outputs": [
    {
     "name": "stdout",
     "output_type": "stream",
     "text": [
      "population proportion =  0.3076923076923077\n"
     ]
    }
   ],
   "source": [
    "print('population proportion = ', df49['binary'].sum()/df49.shape[0])"
   ]
  },
  {
   "cell_type": "code",
   "execution_count": 31,
   "metadata": {},
   "outputs": [
    {
     "data": {
      "image/png": "[encoded data removed]",
      "text/plain": [
       "<Figure size 432x288 with 1 Axes>"
      ]
     },
     "metadata": {
      "needs_background": "light"
     },
     "output_type": "display_data"
    }
   ],
   "source": [
    "MonteCarlo = MCmeans(df=df49, x='binary', n=100, M=10)\n",
    "MonteCarlo['binary'].hist()\n",
    "plt.title(\"n = 100, M=10\")\n",
    "plt.show()"
   ]
  },
  {
   "cell_type": "code",
   "execution_count": 32,
   "metadata": {},
   "outputs": [
    {
     "data": {
      "image/png": "[encoded data removed]",
      "text/plain": [
       "<Figure size 432x288 with 1 Axes>"
      ]
     },
     "metadata": {
      "needs_background": "light"
     },
     "output_type": "display_data"
    }
   ],
   "source": [
    "MonteCarlo = MCmeans(df=df49, x='binary', n=100, M=10000)\n",
    "MonteCarlo['binary'].hist(density=True, bins=20)\n",
    "plt.title(\"n=100, M=10000\")\n",
    "plt.show()"
   ]
  },
  {
   "cell_type": "code",
   "execution_count": 33,
   "metadata": {},
   "outputs": [
    {
     "data": {
      "text/html": [
       "<div>\n",
       "<style scoped>\n",
       "    .dataframe tbody tr th:only-of-type {\n",
       "        vertical-align: middle;\n",
       "    }\n",
       "\n",
       "    .dataframe tbody tr th {\n",
       "        vertical-align: top;\n",
       "    }\n",
       "\n",
       "    .dataframe thead th {\n",
       "        text-align: right;\n",
       "    }\n",
       "</style>\n",
       "<table border=\"1\" class=\"dataframe\">\n",
       "  <thead>\n",
       "    <tr style=\"text-align: right;\">\n",
       "      <th></th>\n",
       "      <th>n</th>\n",
       "      <th>mean</th>\n",
       "      <th>std</th>\n",
       "    </tr>\n",
       "  </thead>\n",
       "  <tbody>\n",
       "    <tr>\n",
       "      <th>0</th>\n",
       "      <td>1</td>\n",
       "      <td>0.312100</td>\n",
       "      <td>0.463374</td>\n",
       "    </tr>\n",
       "    <tr>\n",
       "      <th>1</th>\n",
       "      <td>10</td>\n",
       "      <td>0.309640</td>\n",
       "      <td>0.144718</td>\n",
       "    </tr>\n",
       "    <tr>\n",
       "      <th>2</th>\n",
       "      <td>100</td>\n",
       "      <td>0.307738</td>\n",
       "      <td>0.045866</td>\n",
       "    </tr>\n",
       "    <tr>\n",
       "      <th>3</th>\n",
       "      <td>400</td>\n",
       "      <td>0.307760</td>\n",
       "      <td>0.023196</td>\n",
       "    </tr>\n",
       "    <tr>\n",
       "      <th>4</th>\n",
       "      <td>900</td>\n",
       "      <td>0.307690</td>\n",
       "      <td>0.015211</td>\n",
       "    </tr>\n",
       "    <tr>\n",
       "      <th>5</th>\n",
       "      <td>1600</td>\n",
       "      <td>0.307676</td>\n",
       "      <td>0.011632</td>\n",
       "    </tr>\n",
       "    <tr>\n",
       "      <th>6</th>\n",
       "      <td>2500</td>\n",
       "      <td>0.307847</td>\n",
       "      <td>0.009231</td>\n",
       "    </tr>\n",
       "    <tr>\n",
       "      <th>7</th>\n",
       "      <td>5000</td>\n",
       "      <td>0.307674</td>\n",
       "      <td>0.006577</td>\n",
       "    </tr>\n",
       "  </tbody>\n",
       "</table>\n",
       "</div>"
      ],
      "text/plain": [
       "      n      mean       std\n",
       "0     1  0.312100  0.463374\n",
       "1    10  0.309640  0.144718\n",
       "2   100  0.307738  0.045866\n",
       "3   400  0.307760  0.023196\n",
       "4   900  0.307690  0.015211\n",
       "5  1600  0.307676  0.011632\n",
       "6  2500  0.307847  0.009231\n",
       "7  5000  0.307674  0.006577"
      ]
     },
     "execution_count": 33,
     "metadata": {},
     "output_type": "execute_result"
    }
   ],
   "source": [
    "# set sample sizes and initialize arrays of means and standard deviations\n",
    "meanset = []\n",
    "sdset = []\n",
    "nset = [1,10,100,400,900,1600,2500,5000]\n",
    "#nset = [1,10]   # test values while debugging\n",
    "M=10000\n",
    "df=df49\n",
    "x='binary'\n",
    "for n in nset:\n",
    "    MC = MCmeans(df=df, x=x, n=n, M=M)\n",
    "    # print(MC[x].mean())    # uncomment to see values as they're computed\n",
    "    # print(MC[x].std())     # ditto\n",
    "    meanset.append(MC[x].mean())\n",
    "    sdset.append(MC[x].std())\n",
    "summary = pd.DataFrame({'n': nset, 'mean': meanset, 'std': sdset })\n",
    "summary"
   ]
  },
  {
   "cell_type": "code",
   "execution_count": 34,
   "metadata": {},
   "outputs": [
    {
     "data": {
      "image/png": "[encoded data removed]",
      "text/plain": [
       "<Figure size 432x288 with 1 Axes>"
      ]
     },
     "metadata": {
      "needs_background": "light"
     },
     "output_type": "display_data"
    }
   ],
   "source": [
    "summary.plot.scatter(x='n', y='std', c='blue')\n",
    "plt.xlabel('n')\n",
    "plt.ylabel('std')\n",
    "plt.show()"
   ]
  },
  {
   "cell_type": "code",
   "execution_count": 35,
   "metadata": {},
   "outputs": [
    {
     "data": {
      "image/png": "[encoded data removed]",
      "text/plain": [
       "<Figure size 432x288 with 1 Axes>"
      ]
     },
     "metadata": {
      "needs_background": "light"
     },
     "output_type": "display_data"
    }
   ],
   "source": [
    "summary['root_n'] = np.sqrt(summary['n'])\n",
    "summary.plot.scatter(x='root_n', y='std', c='blue')\n",
    "plt.xlabel('root_n')\n",
    "plt.ylabel('std')\n",
    "plt.show()"
   ]
  },
  {
   "cell_type": "markdown",
   "metadata": {},
   "source": [
    "Finally, to make it easier to see if the square root rate is the correct stabilization of the standard deviation, we graph $\\sqrt{n}*STD$ versus $n$."
   ]
  },
  {
   "cell_type": "code",
   "execution_count": 36,
   "metadata": {},
   "outputs": [
    {
     "data": {
      "image/png": "[encoded data removed]",
      "text/plain": [
       "<Figure size 432x288 with 1 Axes>"
      ]
     },
     "metadata": {
      "needs_background": "light"
     },
     "output_type": "display_data"
    }
   ],
   "source": [
    "summary['root_n_std'] = summary['root_n']*summary['std']\n",
    "summary.plot.scatter(x='n', y='root_n_std', c='blue')\n",
    "plt.xlabel('n')\n",
    "plt.ylabel('sqrt(n) x std')\n",
    "plt.ylim([0,1])\n",
    "plt.show()"
   ]
  },
  {
   "cell_type": "markdown",
   "metadata": {},
   "source": [
    "---\n",
    "STAT 207, Douglas Simpson, University of Illinois at Urbana-Champaign"
   ]
  }
 ],
 "metadata": {
  "kernelspec": {
   "display_name": "Python 3",
   "language": "python",
   "name": "python3"
  },
  "language_info": {
   "codemirror_mode": {
    "name": "ipython",
    "version": 3
   },
   "file_extension": ".py",
   "mimetype": "text/x-python",
   "name": "python",
   "nbconvert_exporter": "python",
   "pygments_lexer": "ipython3",
   "version": "3.8.3"
  }
 },
 "nbformat": 4,
 "nbformat_minor": 2
}
