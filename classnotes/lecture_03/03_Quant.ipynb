{
 "cells": [
  {
   "cell_type": "markdown",
   "metadata": {},
   "source": [
    "<!--# STAT 207: Data Science Exploration-->\n",
    "## Missing Values, Quantitative Variables and Distributions"
   ]
  },
  {
   "cell_type": "markdown",
   "metadata": {},
   "source": [
    "In this section we first consider how to clean missing values for preliminary analysis. Then we study a number of ways to summarize and visualize quantitative information in the data. Key ideas are:\n",
    "\n",
    "+ **Missing value codes** non-standard missing value types in an external file can be specified as an option in the pandas read_csv function. Checking for missing values is important, both because of they can casue errors in computing, and because they can influence interpretation of results.\n",
    "\n",
    "+ **Quantitative/numerical data** - variables that contain specific numerical information for each indvidual observation. In a pandas dta frame we expect an entire column to be either quantitative (numerical), qualitative (categories, several possible text values, similar to \"multiple choice\" answers) or logical (special type of categories: True or False).\n",
    "\n",
    "+ **Histograms** and **density plots** are useful for capturing the distribution of the data, showing modes, relative frequencies and other features of the data in one graph.\n",
    "\n",
    "+ **Summary statistics** such as **quantiles** of the data, **mean**, **median**, **mode**, etc capture certain features that are often of interest in their own right or for comparison across levels of another variable.\n",
    "\n",
    "+ **Box plots** and **violin plots** provide quick views of key percentiles of a sample distributionm and are especially useful for comparing distributions of quantitative variables by levels of another categorical variable.\n",
    "\n",
    "+ **Packages:** pandas, numpy, matplotlib.pyplot, seaborn\n",
    "\n",
    "+ **Skills:** define our own functions to perform common tasks"
   ]
  },
  {
   "cell_type": "markdown",
   "metadata": {},
   "source": [
    "### Pew Data Example: Checking for missing values\n",
    "\n",
    "In the previous sections, we saw how to import Python packages that we need, and how to read an external data file into a python data frame. We also looked at some methods to get a sense of what type of information is in the data, and did simple frequency summaries and crosstabs for categorical variables in the data.\n",
    "\n",
    "In this section we consider quantitative variables and consider some methods for investigating the distributions of the variables as well as relations between them. We consider the Pew Research Center data again, and reimport them to make this section's notebook self contained. \n"
   ]
  },
  {
   "cell_type": "code",
   "execution_count": 1,
   "metadata": {},
   "outputs": [],
   "source": [
    "import pandas as pd     # 'pd' is our nickname for 'pandas'\n",
    "import zipfile as zp    # skip if file not compressed"
   ]
  },
  {
   "cell_type": "code",
   "execution_count": 2,
   "metadata": {},
   "outputs": [],
   "source": [
    "# Next step is only for zip compressed files\n",
    "zf = zp.ZipFile('../data/Feb17-public.zip')"
   ]
  },
  {
   "cell_type": "code",
   "execution_count": 3,
   "metadata": {
    "scrolled": true
   },
   "outputs": [
    {
     "data": {
      "text/html": [
       "<div>\n",
       "<style scoped>\n",
       "    .dataframe tbody tr th:only-of-type {\n",
       "        vertical-align: middle;\n",
       "    }\n",
       "\n",
       "    .dataframe tbody tr th {\n",
       "        vertical-align: top;\n",
       "    }\n",
       "\n",
       "    .dataframe thead th {\n",
       "        text-align: right;\n",
       "    }\n",
       "</style>\n",
       "<table border=\"1\" class=\"dataframe\">\n",
       "  <thead>\n",
       "    <tr style=\"text-align: right;\">\n",
       "      <th></th>\n",
       "      <th>psraid</th>\n",
       "      <th>sample</th>\n",
       "      <th>int_date</th>\n",
       "      <th>fcall</th>\n",
       "      <th>version</th>\n",
       "      <th>attempts</th>\n",
       "      <th>refusal</th>\n",
       "      <th>ilang</th>\n",
       "      <th>cregion</th>\n",
       "      <th>state</th>\n",
       "      <th>...</th>\n",
       "      <th>ql1a</th>\n",
       "      <th>qc1</th>\n",
       "      <th>money2</th>\n",
       "      <th>money3</th>\n",
       "      <th>iphoneuse</th>\n",
       "      <th>hphoneuse</th>\n",
       "      <th>ll</th>\n",
       "      <th>cp</th>\n",
       "      <th>cellweight</th>\n",
       "      <th>weight</th>\n",
       "    </tr>\n",
       "  </thead>\n",
       "  <tbody>\n",
       "    <tr>\n",
       "      <th>0</th>\n",
       "      <td>100008</td>\n",
       "      <td>Landline</td>\n",
       "      <td>21017</td>\n",
       "      <td>170207</td>\n",
       "      <td>Client changes</td>\n",
       "      <td>4</td>\n",
       "      <td>No</td>\n",
       "      <td>English</td>\n",
       "      <td>Midwest</td>\n",
       "      <td>Illinois</td>\n",
       "      <td>...</td>\n",
       "      <td>NaN</td>\n",
       "      <td>NaN</td>\n",
       "      <td>NaN</td>\n",
       "      <td>NaN</td>\n",
       "      <td>Dual</td>\n",
       "      <td>Dual HH</td>\n",
       "      <td>1</td>\n",
       "      <td>1</td>\n",
       "      <td>NaN</td>\n",
       "      <td>1.733333</td>\n",
       "    </tr>\n",
       "    <tr>\n",
       "      <th>1</th>\n",
       "      <td>100019</td>\n",
       "      <td>Landline</td>\n",
       "      <td>21217</td>\n",
       "      <td>170207</td>\n",
       "      <td>Client changes</td>\n",
       "      <td>4</td>\n",
       "      <td>Yes</td>\n",
       "      <td>English</td>\n",
       "      <td>South</td>\n",
       "      <td>North Carolina</td>\n",
       "      <td>...</td>\n",
       "      <td>NaN</td>\n",
       "      <td>NaN</td>\n",
       "      <td>NaN</td>\n",
       "      <td>NaN</td>\n",
       "      <td>Dual</td>\n",
       "      <td>Dual HH</td>\n",
       "      <td>1</td>\n",
       "      <td>1</td>\n",
       "      <td>NaN</td>\n",
       "      <td>1.500000</td>\n",
       "    </tr>\n",
       "    <tr>\n",
       "      <th>2</th>\n",
       "      <td>100020</td>\n",
       "      <td>Landline</td>\n",
       "      <td>21217</td>\n",
       "      <td>170207</td>\n",
       "      <td>Client changes</td>\n",
       "      <td>4</td>\n",
       "      <td>Yes</td>\n",
       "      <td>English</td>\n",
       "      <td>Northeast</td>\n",
       "      <td>New York</td>\n",
       "      <td>...</td>\n",
       "      <td>NaN</td>\n",
       "      <td>NaN</td>\n",
       "      <td>NaN</td>\n",
       "      <td>NaN</td>\n",
       "      <td>Dual</td>\n",
       "      <td>Dual HH</td>\n",
       "      <td>1</td>\n",
       "      <td>1</td>\n",
       "      <td>NaN</td>\n",
       "      <td>1.533333</td>\n",
       "    </tr>\n",
       "    <tr>\n",
       "      <th>3</th>\n",
       "      <td>100021</td>\n",
       "      <td>Landline</td>\n",
       "      <td>20717</td>\n",
       "      <td>170207</td>\n",
       "      <td>Initial version</td>\n",
       "      <td>1</td>\n",
       "      <td>No</td>\n",
       "      <td>English</td>\n",
       "      <td>Midwest</td>\n",
       "      <td>Minnesota</td>\n",
       "      <td>...</td>\n",
       "      <td>NaN</td>\n",
       "      <td>NaN</td>\n",
       "      <td>NaN</td>\n",
       "      <td>NaN</td>\n",
       "      <td>Dual</td>\n",
       "      <td>Dual HH</td>\n",
       "      <td>1</td>\n",
       "      <td>1</td>\n",
       "      <td>NaN</td>\n",
       "      <td>5.866667</td>\n",
       "    </tr>\n",
       "    <tr>\n",
       "      <th>4</th>\n",
       "      <td>100024</td>\n",
       "      <td>Landline</td>\n",
       "      <td>20717</td>\n",
       "      <td>170207</td>\n",
       "      <td>Initial version</td>\n",
       "      <td>1</td>\n",
       "      <td>No</td>\n",
       "      <td>English</td>\n",
       "      <td>Midwest</td>\n",
       "      <td>Illinois</td>\n",
       "      <td>...</td>\n",
       "      <td>NaN</td>\n",
       "      <td>NaN</td>\n",
       "      <td>NaN</td>\n",
       "      <td>NaN</td>\n",
       "      <td>Dual</td>\n",
       "      <td>Dual HH</td>\n",
       "      <td>1</td>\n",
       "      <td>1</td>\n",
       "      <td>NaN</td>\n",
       "      <td>1.700000</td>\n",
       "    </tr>\n",
       "  </tbody>\n",
       "</table>\n",
       "<p>5 rows × 130 columns</p>\n",
       "</div>"
      ],
      "text/plain": [
       "   psraid    sample  int_date   fcall          version  attempts refusal  \\\n",
       "0  100008  Landline     21017  170207   Client changes         4      No   \n",
       "1  100019  Landline     21217  170207   Client changes         4     Yes   \n",
       "2  100020  Landline     21217  170207   Client changes         4     Yes   \n",
       "3  100021  Landline     20717  170207  Initial version         1      No   \n",
       "4  100024  Landline     20717  170207  Initial version         1      No   \n",
       "\n",
       "     ilang    cregion           state  ... ql1a  qc1 money2  money3 iphoneuse  \\\n",
       "0  English    Midwest        Illinois  ...  NaN  NaN    NaN     NaN      Dual   \n",
       "1  English      South  North Carolina  ...  NaN  NaN    NaN     NaN      Dual   \n",
       "2  English  Northeast        New York  ...  NaN  NaN    NaN     NaN      Dual   \n",
       "3  English    Midwest       Minnesota  ...  NaN  NaN    NaN     NaN      Dual   \n",
       "4  English    Midwest        Illinois  ...  NaN  NaN    NaN     NaN      Dual   \n",
       "\n",
       "  hphoneuse ll cp cellweight    weight  \n",
       "0   Dual HH  1  1        NaN  1.733333  \n",
       "1   Dual HH  1  1        NaN  1.500000  \n",
       "2   Dual HH  1  1        NaN  1.533333  \n",
       "3   Dual HH  1  1        NaN  5.866667  \n",
       "4   Dual HH  1  1        NaN  1.700000  \n",
       "\n",
       "[5 rows x 130 columns]"
      ]
     },
     "execution_count": 3,
     "metadata": {},
     "output_type": "execute_result"
    }
   ],
   "source": [
    "# Next step pulls csv file from the zip file object\n",
    "df = pd.read_csv(zf.open('Feb17public.csv'))   \n",
    "#\n",
    "# If instead we had an ordinary csv file in the same folder \n",
    "# as this notebook we would read it more simply using:\n",
    "#\n",
    "# df = pd.read_csv('Feb17public.csv')\n",
    "#\n",
    "# Display the first part of the data frame:\n",
    "df.head()"
   ]
  },
  {
   "cell_type": "markdown",
   "metadata": {},
   "source": [
    "Here, again, is the list of columns in the data frame;"
   ]
  },
  {
   "cell_type": "code",
   "execution_count": 4,
   "metadata": {},
   "outputs": [
    {
     "name": "stdout",
     "output_type": "stream",
     "text": [
      "['psraid' 'sample' 'int_date' 'fcall' 'version' 'attempts' 'refusal'\n",
      " 'ilang' 'cregion' 'state' 'density' 'sstate' 'form' 'stimes' 'igender'\n",
      " 'irace' 'llitext0' 'susr' 'usr' 'scregion' 'qs1' 'q1' 'q1a' 'q2' 'q5af1'\n",
      " 'q5bf1' 'q5cf1' 'q5df1' 'q6af2' 'q6bf2' 'q6cf2' 'q6df2' 'q10a' 'q10b'\n",
      " 'q15af1' 'q15b' 'q15cf2' 'q15df1' 'q15ef1' 'q15ff1' 'q15gf2' 'q15hf2'\n",
      " 'q15if2' 'q16' 'q19' 'q35' 'q36' 'q37' 'q39' 'q43' 'q44' 'q45' 'q45vb'\n",
      " 'Q45VB0' 'Q45VB1' 'Q45VB2' 'q45oem1' 'q45oem2' 'q45oem3' 'q52' 'q53'\n",
      " 'q54' 'q55' 'q61a' 'q61b' 'q61c' 'q61d' 'q61e' 'q62f1' 'q63f1' 'q64f2'\n",
      " 'q65' 'q66' 'q68f1' 'q69f2' 'q70f1' 'q71f2' 'q74' 'q75' 'q81' 'q82'\n",
      " 'q84a' 'q84bf1' 'q84cf1' 'q84df1' 'q84ef2' 'q84ff2' 'q84gf2' 'q88'\n",
      " 'q90f1' 'q91f2' 'sex' 'age' 'gen5' 'educ2' 'hisp' 'adults' 'racethn'\n",
      " 'racethn2' 'birth_hisp' 'citizen' 'child' 'relig' 'chr' 'born' 'attend'\n",
      " 'q92' 'q92a' 'income' 'reg' 'party' 'partyln' 'partysum' 'partyideo'\n",
      " 'q93' 'q94' 'ideo' 'hh1' 'hh3' 'ql1' 'ql1a' 'qc1' 'money2' 'money3'\n",
      " 'iphoneuse' 'hphoneuse' 'll' 'cp' 'cellweight' 'weight']\n"
     ]
    }
   ],
   "source": [
    "print(df.columns.values)"
   ]
  },
  {
   "cell_type": "markdown",
   "metadata": {},
   "source": [
    "\n",
    "\n",
    "Let's investigate the age distribution in the sample. First, we check if there are any weird values."
   ]
  },
  {
   "cell_type": "code",
   "execution_count": 5,
   "metadata": {},
   "outputs": [
    {
     "data": {
      "text/plain": [
       "array(['80', '70', '69', '50', '78', '89', '92', '54', '58', '38', '76',\n",
       "       '65', '63', '33', '37', '49', '71', '67', '75', '60', '26', '84',\n",
       "       '64', '57', '59', '74', '55', '96', '61',\n",
       "       \"Don't know/Refused (VOL.)\", '83', '53', '81', '36', '51', '29',\n",
       "       '86', '44', '48', '35', '66', '68', '24', '20', '95', '56', '47',\n",
       "       '82', '85', '73', '40', '62', '52', '72', '91', '45', '39', '77',\n",
       "       '90', '18', '46', '88', '32', '94', '43', '27', '42', '34', '28',\n",
       "       '79', '30', '19', '31', '21', '25', '23', '22', '41', '87'],\n",
       "      dtype=object)"
      ]
     },
     "execution_count": 5,
     "metadata": {},
     "output_type": "execute_result"
    }
   ],
   "source": [
    "df['age'].unique()"
   ]
  },
  {
   "cell_type": "markdown",
   "metadata": {},
   "source": [
    "Oops, there are two problems here!\n",
    "\n",
    "1. There is a type of **missing value**: the text entries, \"Don't know/Refused (VOL.)\". Our numerical functions might choke on this;\n",
    "\n",
    "2. Because of the text entries, the entire column was read as character data rather than numerical data. \n",
    "\n",
    "It is possible that the \"missingness\" here is informative in the sense that the likelihood of refusing to reveal ones age might be related to one's age. That could ultimately affect the analysis.\n",
    "\n",
    "Setting that issue aside for now, though, we can \"clean\" the data by adding \"Don't know/Refused (VOL.)\" to the list of missing values and re-read the data. Here is the Python code and the results:"
   ]
  },
  {
   "cell_type": "code",
   "execution_count": 6,
   "metadata": {},
   "outputs": [
    {
     "data": {
      "text/plain": [
       "array([80., 70., 69., 50., 78., 89., 92., 54., 58., 38., 76., 65., 63.,\n",
       "       33., 37., 49., 71., 67., 75., 60., 26., 84., 64., 57., 59., 74.,\n",
       "       55., 96., 61., nan, 83., 53., 81., 36., 51., 29., 86., 44., 48.,\n",
       "       35., 66., 68., 24., 20., 95., 56., 47., 82., 85., 73., 40., 62.,\n",
       "       52., 72., 91., 45., 39., 77., 90., 18., 46., 88., 32., 94., 43.,\n",
       "       27., 42., 34., 28., 79., 30., 19., 31., 21., 25., 23., 22., 41.,\n",
       "       87.])"
      ]
     },
     "execution_count": 6,
     "metadata": {},
     "output_type": "execute_result"
    }
   ],
   "source": [
    "missing_values = [\"NaN\", \"nan\", \"Don't know/Refused (VOL.)\"]\n",
    "df = pd.read_csv(zf.open('Feb17public.csv'), na_values=missing_values)\n",
    "df['age'].unique()"
   ]
  },
  {
   "cell_type": "markdown",
   "metadata": {},
   "source": [
    "The missing value is now properly coded for our purposes, and, importantly, 'age' is now a numerical variable rather than a text variable (numbers like 80., 70., ... not character strings like '80', '70', ...) "
   ]
  },
  {
   "cell_type": "markdown",
   "metadata": {},
   "source": [
    "### Distributions of quantitative variables: histogram and density curve"
   ]
  },
  {
   "cell_type": "markdown",
   "metadata": {},
   "source": [
    "Let's plot a **frequency histogram** for age in the Pew survey using the matpotlib.pyplot **hist()** function. To do so we first import the relevant plotting packages. Also, because of the missing values, we might need to explicitly drop these for plotting purposes. The **.dropna( )** function accomplishes this task as in the following example. Many pandas functions automatically drop missing values by default, as we will see."
   ]
  },
  {
   "cell_type": "code",
   "execution_count": 7,
   "metadata": {},
   "outputs": [],
   "source": [
    "import matplotlib.pyplot as plt\n",
    "import seaborn as sns; sns.set()"
   ]
  },
  {
   "cell_type": "code",
   "execution_count": 8,
   "metadata": {},
   "outputs": [
    {
     "data": {
      "image/png": "[encoded data removed]",
      "text/plain": [
       "<Figure size 432x288 with 1 Axes>"
      ]
     },
     "metadata": {
      "needs_background": "light"
     },
     "output_type": "display_data"
    }
   ],
   "source": [
    "# pandas function for histograms\n",
    "df['age'].dropna().hist()\n",
    "#df['age'].hist()\n",
    "plt.xlabel(\"Age (Years)\")\n",
    "plt.ylabel(\"Frequency\")\n",
    "plt.show()"
   ]
  },
  {
   "cell_type": "markdown",
   "metadata": {},
   "source": [
    "In this graph the age range is divided into equal width bins, and the height of the bar is the number of observations with age values in each bin. The total area under this curve should be the total sample size. We can see the data have a mode around 60 years, and a minimum just under age 20.\n",
    "\n",
    "Often we will want the **density histogram** instead. In this plot the **area** of each bar represents the **proportion** of the sample in that bin. In the current version of matplotlib we specify the option **density=True** to get the density histogram.\n"
   ]
  },
  {
   "cell_type": "code",
   "execution_count": 9,
   "metadata": {},
   "outputs": [
    {
     "data": {
      "image/png": "[encoded data removed]",
      "text/plain": [
       "<Figure size 432x288 with 1 Axes>"
      ]
     },
     "metadata": {
      "needs_background": "light"
     },
     "output_type": "display_data"
    }
   ],
   "source": [
    "# option for density histrgram where area under the curve = 1\n",
    "df['age'].dropna().hist(density=True)\n",
    "plt.xlabel(\"Age (Years)\")\n",
    "plt.ylabel(\"Density\")\n",
    "plt.show()"
   ]
  },
  {
   "cell_type": "markdown",
   "metadata": {},
   "source": [
    "The shape of the density histrogram looks the same as the frequency histogram, but it has been normalize to make the total area under the histogram equal 1."
   ]
  },
  {
   "cell_type": "markdown",
   "metadata": {},
   "source": [
    "An alterative graph, using seaborn, includes both the **density histogram** and a smooth fitted **density curve** using the seaborn **distplot( )** function. The smooth density curve is another way to represent the distribution of the data, smoothing out some of the random jaggedness due to binning the data in the density histogram."
   ]
  },
  {
   "cell_type": "code",
   "execution_count": 10,
   "metadata": {},
   "outputs": [
    {
     "data": {
      "image/png": "[encoded data removed]",
      "text/plain": [
       "<Figure size 432x288 with 1 Axes>"
      ]
     },
     "metadata": {
      "needs_background": "light"
     },
     "output_type": "display_data"
    }
   ],
   "source": [
    "# using seaborn function for histograms and density curves\n",
    "sns.distplot(df['age'].dropna())\n",
    "plt.ylabel('Density')\n",
    "plt.xlabel(\"Age (years)\")\n",
    "plt.show()"
   ]
  },
  {
   "cell_type": "markdown",
   "metadata": {},
   "source": [
    "What determines the vertical scale for the **density histogram** and the superimposed **smooth density curve**? Each of these graphs represents the **relative frequency** (i.e. the proportion) of values in different age ranges as the area under the curve for those ranges. So, the total area for the whole range must =1. \n",
    "\n",
    "If we wanted the proportion of ages in the sample between 40 and 60, we would take either the sum of the areas of the histogram bars for that range (area = base width * height), or, for the density curve, some approximation to the area between 40 and 60. In other words, we need the area between the vertical lines and under the curve in the figure below."
   ]
  },
  {
   "cell_type": "code",
   "execution_count": 11,
   "metadata": {},
   "outputs": [
    {
     "data": {
      "image/png": "[encoded data removed]",
      "text/plain": [
       "<Figure size 432x288 with 1 Axes>"
      ]
     },
     "metadata": {
      "needs_background": "light"
     },
     "output_type": "display_data"
    }
   ],
   "source": [
    "sns.distplot(df['age'].dropna())\n",
    "plt.ylabel('Density')\n",
    "plt.xlabel(\"Age (years)\")\n",
    "plt.vlines(x=[40,60], ymin=0, ymax=0.0225)\n",
    "plt.show()"
   ]
  },
  {
   "cell_type": "markdown",
   "metadata": {},
   "source": [
    "From the curve we can immediately see that minimum age in the sample is just under 20. In fact, we know that the survey callers requested to speak to a member of the household over the age of 18. To verify the actual minimum age in the sample we compute it using the **min** function."
   ]
  },
  {
   "cell_type": "code",
   "execution_count": 12,
   "metadata": {},
   "outputs": [
    {
     "name": "stdout",
     "output_type": "stream",
     "text": [
      "Minimum age = 18.0\n"
     ]
    }
   ],
   "source": [
    "print(\"Minimum age =\", df['age'].min())"
   ]
  },
  {
   "cell_type": "markdown",
   "metadata": {},
   "source": [
    "### Summary Statistics for Pandas Data Frames\n",
    "\n",
    "What are some other summary statistics we might want to compute? Here are a few:"
   ]
  },
  {
   "cell_type": "code",
   "execution_count": 13,
   "metadata": {},
   "outputs": [
    {
     "name": "stdout",
     "output_type": "stream",
     "text": [
      "Median = 52.0\n",
      "Mean =  50.48824714573539\n",
      "Standard Deviation =   17.843970630239685\n",
      "First quartile (Q1) = 35.0\n",
      "Third quartile (Q3) = 65.0\n",
      "Maximum = 96.0\n"
     ]
    }
   ],
   "source": [
    "print(\"Median =\", df['age'].median())\n",
    "print(\"Mean = \", df['age'].mean())\n",
    "print(\"Standard Deviation =  \", df['age'].std())\n",
    "print(\"First quartile (Q1) =\", df['age'].quantile(q=0.25))\n",
    "print(\"Third quartile (Q3) =\", df['age'].quantile(q=0.75))\n",
    "print(\"Maximum =\", df['age'].max())"
   ]
  },
  {
   "cell_type": "markdown",
   "metadata": {},
   "source": [
    "That took a lot of typing. We can simplify this by copying the variable of interest into a pandas Series, say 'x'."
   ]
  },
  {
   "cell_type": "code",
   "execution_count": 14,
   "metadata": {},
   "outputs": [
    {
     "name": "stdout",
     "output_type": "stream",
     "text": [
      "Median = 52.0\n",
      "Mean =  50.48824714573539\n",
      "Standard Deviation =   17.843970630239685\n",
      "First quartile (Q1) = 35.0\n",
      "Third quartile (Q3) = 65.0\n",
      "Maximum = 96.0\n"
     ]
    }
   ],
   "source": [
    "x = df['age'] \n",
    "print(\"Median =\", x.median())\n",
    "print(\"Mean = \", x.mean())\n",
    "print(\"Standard Deviation =  \", x.std())\n",
    "print(\"First quartile (Q1) =\", x.quantile(q=0.25))\n",
    "print(\"Third quartile (Q3) =\", x.quantile(q=0.75))\n",
    "print(\"Maximum =\", x.max())"
   ]
  },
  {
   "cell_type": "markdown",
   "metadata": {},
   "source": [
    "### Defining our own function\n",
    "\n",
    "What if we wanted to compute these summary statistics for a bunch of variables, or for differnt data sets? Python allows us to create our own functions to do general tasks. The benfit is we don't have to recode every time. Just reuse the function. Let's make a function to compute the summary statistics listed above. The structure is as follows.\n",
    "\n",
    "    def function_name (arguments):\n",
    "        statements\n",
    "        return value\n",
    "        \n",
    "In python, the indentation of the statements and return lines must be 4 characters. Jupyter notebooks do this indenting automatically as you compose.\n",
    "\n",
    "In our case, let's have our function put the summary statistics into a data frame for display purposes."
   ]
  },
  {
   "cell_type": "code",
   "execution_count": 15,
   "metadata": {},
   "outputs": [],
   "source": [
    "def mysummary(series):\n",
    "    index = ['min', 'Q1', 'med', 'Q3', 'max', 'mean', 'std']\n",
    "    value = [series.min(), \n",
    "             series.quantile(q=0.25), \n",
    "             series.median(), \n",
    "             series.quantile(q=0.75),\n",
    "             series.max(),\n",
    "             series.mean(),\n",
    "             series.std()]\n",
    "    return pd.DataFrame({'value': value}, index=index)"
   ]
  },
  {
   "cell_type": "markdown",
   "metadata": {},
   "source": [
    "Now that we've defined it we can use it for any quantitative variable."
   ]
  },
  {
   "cell_type": "code",
   "execution_count": 16,
   "metadata": {},
   "outputs": [
    {
     "data": {
      "text/html": [
       "<div>\n",
       "<style scoped>\n",
       "    .dataframe tbody tr th:only-of-type {\n",
       "        vertical-align: middle;\n",
       "    }\n",
       "\n",
       "    .dataframe tbody tr th {\n",
       "        vertical-align: top;\n",
       "    }\n",
       "\n",
       "    .dataframe thead th {\n",
       "        text-align: right;\n",
       "    }\n",
       "</style>\n",
       "<table border=\"1\" class=\"dataframe\">\n",
       "  <thead>\n",
       "    <tr style=\"text-align: right;\">\n",
       "      <th></th>\n",
       "      <th>value</th>\n",
       "    </tr>\n",
       "  </thead>\n",
       "  <tbody>\n",
       "    <tr>\n",
       "      <th>min</th>\n",
       "      <td>18.000000</td>\n",
       "    </tr>\n",
       "    <tr>\n",
       "      <th>Q1</th>\n",
       "      <td>35.000000</td>\n",
       "    </tr>\n",
       "    <tr>\n",
       "      <th>med</th>\n",
       "      <td>52.000000</td>\n",
       "    </tr>\n",
       "    <tr>\n",
       "      <th>Q3</th>\n",
       "      <td>65.000000</td>\n",
       "    </tr>\n",
       "    <tr>\n",
       "      <th>max</th>\n",
       "      <td>96.000000</td>\n",
       "    </tr>\n",
       "    <tr>\n",
       "      <th>mean</th>\n",
       "      <td>50.488247</td>\n",
       "    </tr>\n",
       "    <tr>\n",
       "      <th>std</th>\n",
       "      <td>17.843971</td>\n",
       "    </tr>\n",
       "  </tbody>\n",
       "</table>\n",
       "</div>"
      ],
      "text/plain": [
       "          value\n",
       "min   18.000000\n",
       "Q1    35.000000\n",
       "med   52.000000\n",
       "Q3    65.000000\n",
       "max   96.000000\n",
       "mean  50.488247\n",
       "std   17.843971"
      ]
     },
     "execution_count": 16,
     "metadata": {},
     "output_type": "execute_result"
    }
   ],
   "source": [
    "mysummary(df['age'])"
   ]
  },
  {
   "cell_type": "markdown",
   "metadata": {},
   "source": [
    "What if we wanted the summary statistics for age for cell phone and landline users separately?"
   ]
  },
  {
   "cell_type": "code",
   "execution_count": 17,
   "metadata": {},
   "outputs": [
    {
     "data": {
      "text/html": [
       "<div>\n",
       "<style scoped>\n",
       "    .dataframe tbody tr th:only-of-type {\n",
       "        vertical-align: middle;\n",
       "    }\n",
       "\n",
       "    .dataframe tbody tr th {\n",
       "        vertical-align: top;\n",
       "    }\n",
       "\n",
       "    .dataframe thead th {\n",
       "        text-align: right;\n",
       "    }\n",
       "</style>\n",
       "<table border=\"1\" class=\"dataframe\">\n",
       "  <thead>\n",
       "    <tr style=\"text-align: right;\">\n",
       "      <th></th>\n",
       "      <th>value</th>\n",
       "    </tr>\n",
       "  </thead>\n",
       "  <tbody>\n",
       "    <tr>\n",
       "      <th>min</th>\n",
       "      <td>18.000000</td>\n",
       "    </tr>\n",
       "    <tr>\n",
       "      <th>Q1</th>\n",
       "      <td>32.000000</td>\n",
       "    </tr>\n",
       "    <tr>\n",
       "      <th>med</th>\n",
       "      <td>47.000000</td>\n",
       "    </tr>\n",
       "    <tr>\n",
       "      <th>Q3</th>\n",
       "      <td>60.000000</td>\n",
       "    </tr>\n",
       "    <tr>\n",
       "      <th>max</th>\n",
       "      <td>90.000000</td>\n",
       "    </tr>\n",
       "    <tr>\n",
       "      <th>mean</th>\n",
       "      <td>46.629364</td>\n",
       "    </tr>\n",
       "    <tr>\n",
       "      <th>std</th>\n",
       "      <td>16.884983</td>\n",
       "    </tr>\n",
       "  </tbody>\n",
       "</table>\n",
       "</div>"
      ],
      "text/plain": [
       "          value\n",
       "min   18.000000\n",
       "Q1    32.000000\n",
       "med   47.000000\n",
       "Q3    60.000000\n",
       "max   90.000000\n",
       "mean  46.629364\n",
       "std   16.884983"
      ]
     },
     "execution_count": 17,
     "metadata": {},
     "output_type": "execute_result"
    }
   ],
   "source": [
    "mysummary(df['age'][df['sample']=='Cell'])"
   ]
  },
  {
   "cell_type": "code",
   "execution_count": 18,
   "metadata": {},
   "outputs": [
    {
     "data": {
      "text/html": [
       "<div>\n",
       "<style scoped>\n",
       "    .dataframe tbody tr th:only-of-type {\n",
       "        vertical-align: middle;\n",
       "    }\n",
       "\n",
       "    .dataframe tbody tr th {\n",
       "        vertical-align: top;\n",
       "    }\n",
       "\n",
       "    .dataframe thead th {\n",
       "        text-align: right;\n",
       "    }\n",
       "</style>\n",
       "<table border=\"1\" class=\"dataframe\">\n",
       "  <thead>\n",
       "    <tr style=\"text-align: right;\">\n",
       "      <th></th>\n",
       "      <th>value</th>\n",
       "    </tr>\n",
       "  </thead>\n",
       "  <tbody>\n",
       "    <tr>\n",
       "      <th>min</th>\n",
       "      <td>18.000000</td>\n",
       "    </tr>\n",
       "    <tr>\n",
       "      <th>Q1</th>\n",
       "      <td>54.000000</td>\n",
       "    </tr>\n",
       "    <tr>\n",
       "      <th>med</th>\n",
       "      <td>64.000000</td>\n",
       "    </tr>\n",
       "    <tr>\n",
       "      <th>Q3</th>\n",
       "      <td>72.000000</td>\n",
       "    </tr>\n",
       "    <tr>\n",
       "      <th>max</th>\n",
       "      <td>96.000000</td>\n",
       "    </tr>\n",
       "    <tr>\n",
       "      <th>mean</th>\n",
       "      <td>62.075269</td>\n",
       "    </tr>\n",
       "    <tr>\n",
       "      <th>std</th>\n",
       "      <td>15.491750</td>\n",
       "    </tr>\n",
       "  </tbody>\n",
       "</table>\n",
       "</div>"
      ],
      "text/plain": [
       "          value\n",
       "min   18.000000\n",
       "Q1    54.000000\n",
       "med   64.000000\n",
       "Q3    72.000000\n",
       "max   96.000000\n",
       "mean  62.075269\n",
       "std   15.491750"
      ]
     },
     "execution_count": 18,
     "metadata": {},
     "output_type": "execute_result"
    }
   ],
   "source": [
    "mysummary(df['age'][df['sample']=='Landline'])"
   ]
  },
  {
   "cell_type": "markdown",
   "metadata": {},
   "source": [
    "#### Extracting a subset of the results\n",
    "\n",
    "What if we wanted to extract Q1 from the summary? Using the **.loc** function, we can refer directly to the rown **name** in the data frame of results. This differs from the **.iloc function**, which refers to the row and column **number**. Specifying .value causes python to show only the value of the object, suppressing the display of the object type."
   ]
  },
  {
   "cell_type": "code",
   "execution_count": 19,
   "metadata": {},
   "outputs": [
    {
     "data": {
      "text/plain": [
       "72.0"
      ]
     },
     "execution_count": 19,
     "metadata": {},
     "output_type": "execute_result"
    }
   ],
   "source": [
    "results = mysummary(df['age'][df['sample']=='Landline'])\n",
    "results.loc['Q3'].value"
   ]
  },
  {
   "cell_type": "markdown",
   "metadata": {},
   "source": [
    "The **interquartile range** is a measure of spread defined as Q3 - Q1, i.e. the difference between the 75th percentile and the 25th percentile. In other words, it is the range of the middle half of the data. Let's compute it from our summary."
   ]
  },
  {
   "cell_type": "code",
   "execution_count": 20,
   "metadata": {},
   "outputs": [
    {
     "name": "stdout",
     "output_type": "stream",
     "text": [
      "IQR =  18.0\n"
     ]
    }
   ],
   "source": [
    "print('IQR = ', results.loc['Q3'].value - results.loc['Q1'].value)"
   ]
  },
  {
   "cell_type": "markdown",
   "metadata": {},
   "source": [
    "### Boxplots for quantitative variables - single group\n",
    "\n",
    "Several of these types of summary statistics can be visualized using the **boxplot**, which typically includes the median, Q1, Q3 and thresholds for extreme values."
   ]
  },
  {
   "cell_type": "code",
   "execution_count": 21,
   "metadata": {},
   "outputs": [
    {
     "data": {
      "image/png": "[encoded data removed]",
      "text/plain": [
       "<Figure size 432x288 with 1 Axes>"
      ]
     },
     "metadata": {
      "needs_background": "light"
     },
     "output_type": "display_data"
    }
   ],
   "source": [
    "sns.boxplot(df['age'])\n",
    "plt.show()"
   ]
  },
  {
   "cell_type": "markdown",
   "metadata": {},
   "source": [
    "\n",
    "**Features of the box plot:**\n",
    "\n",
    "+ The central line shows the **median** = 50th percentile (splits the data in half)\n",
    "+ The central box goes from Q1 = 25th percentile to Q3 = 75th percentile\n",
    "+ The width of the box is the **interquartile range (IQR)** = Q3 - Q1\n",
    "+ The low and high bars (\"whiskers\") are by default 1.5 * IQR below Q1 and above Q3, meant to be thresholds for flagging possible outliers\n",
    "+ If the minimum is above Q1 - 1.5 * IQR the whisker = the minimum\n",
    "+ If the maximum is bleow Q3 + 1.5 * IQR the whisker = the maximum\n",
    "\n"
   ]
  },
  {
   "cell_type": "markdown",
   "metadata": {},
   "source": [
    "### Boxplots and Violin plots - comparing quantiative variables across categories"
   ]
  },
  {
   "cell_type": "markdown",
   "metadata": {},
   "source": [
    "A single boxplot like this tells us where the major percentiles are, and possibly flag outlier observations, but is not as informative as the density plot. However, boxplots can be very useful for *comparing* different subgroups. \n",
    "\n",
    "For example, let's compare the age distributions for respondents in the sample answering cell phones versus landline phones in the survey. Recall that the 'sample' variable stored whether the respondant used landline or cell phone. "
   ]
  },
  {
   "cell_type": "code",
   "execution_count": 22,
   "metadata": {},
   "outputs": [
    {
     "data": {
      "text/plain": [
       "Cell        1126\n",
       "Landline     377\n",
       "Name: sample, dtype: int64"
      ]
     },
     "execution_count": 22,
     "metadata": {},
     "output_type": "execute_result"
    }
   ],
   "source": [
    "# contents of the 'sample' column of the data:\n",
    "df['sample'].value_counts()"
   ]
  },
  {
   "cell_type": "code",
   "execution_count": 23,
   "metadata": {},
   "outputs": [
    {
     "data": {
      "image/png": "[encoded data removed]",
      "text/plain": [
       "<Figure size 432x288 with 1 Axes>"
      ]
     },
     "metadata": {
      "needs_background": "light"
     },
     "output_type": "display_data"
    }
   ],
   "source": [
    "# seaborn's boxplot function. \n",
    "# Specify which data frame using the 'data=' argument.\n",
    "sns.boxplot(x='sample', y='age', data=df)\n",
    "plt.xlabel(\"Phone type\")\n",
    "plt.ylabel(\"Age (years)\")\n",
    "plt.show()"
   ]
  },
  {
   "cell_type": "markdown",
   "metadata": {},
   "source": [
    "The **violin plot** is an alternative to the boxplot that includes representations of the data density within each group, in addition to an embedded box plot. Because it conveys more information, it has gained in popularity in recent year versus the boxplot."
   ]
  },
  {
   "cell_type": "code",
   "execution_count": 24,
   "metadata": {},
   "outputs": [
    {
     "data": {
      "image/png": "[encoded data removed]",
      "text/plain": [
       "<Figure size 432x288 with 1 Axes>"
      ]
     },
     "metadata": {
      "needs_background": "light"
     },
     "output_type": "display_data"
    }
   ],
   "source": [
    "sns.violinplot(x='sample', y='age', data=df)\n",
    "plt.xlabel(\"Phone type\")\n",
    "plt.ylabel(\"Age (years)\")\n",
    "plt.show()"
   ]
  },
  {
   "cell_type": "markdown",
   "metadata": {},
   "source": [
    "How does this compare with your intuition? This is an example of how to visualize the relationship between a **quantitative** variable (age) and a **qualitative** variable (phone type)."
   ]
  },
  {
   "cell_type": "markdown",
   "metadata": {},
   "source": [
    "## Discussion points\n",
    "\n",
    "1. The density curve for the sample shows a **mode** (maximum density value) around 60 years of age, and there appear to be more people ages 50-70 than aged 20-40. Does this mean that the modal age in the U.S. population is 60 years, or that in the U.S. population there are more people aged 50-70 than 20-40? Why or why not? Recall that this was a random phone number dialing survey. What other sources could we check to find age distribution in the U.S.?\n",
    "\n",
    "2. What is the difference between a barplot and a histogram?"
   ]
  },
  {
   "cell_type": "markdown",
   "metadata": {},
   "source": [
    "---\n",
    "STAT 207, Douglas Simpson, University of Illinois at Urbana-Champaign"
   ]
  }
 ],
 "metadata": {
  "kernelspec": {
   "display_name": "Python 3",
   "language": "python",
   "name": "python3"
  },
  "language_info": {
   "codemirror_mode": {
    "name": "ipython",
    "version": 3
   },
   "file_extension": ".py",
   "mimetype": "text/x-python",
   "name": "python",
   "nbconvert_exporter": "python",
   "pygments_lexer": "ipython3",
   "version": "3.8.5"
  }
 },
 "nbformat": 4,
 "nbformat_minor": 2
}
