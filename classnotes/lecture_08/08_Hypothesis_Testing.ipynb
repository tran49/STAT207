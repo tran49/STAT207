{
 "cells": [
  {
   "cell_type": "markdown",
   "metadata": {},
   "source": [
    "<!--# STAT 207: Data Science Exploration-->\n",
    "## Hypothesis Testing\n",
    "\n",
    "Many experiments and studies are designed to compare two or more sub-populations. \n",
    "\n",
    "**Example 1: Treatment versus control.** Patients randomized into two treatment versus a standard method of care represent two hypothetical population, one the population of potential patients if given the new treatment, and the other, the hypothetical population of potential patients given standard care.\n",
    "\n",
    "**Example 2: A/B testing.** Visitors to a website are randomly presented one of two versions of the website in order to test out some new feature. Their subsequent navigation on the site is quantified and compared.  The populations are again hypothetical populations of potential visitors visiting the two versions of the website.\n",
    "\n",
    "In both of the preceding examples, a randomized design was assumed. Subjects of the study are randomly assigned to receive one of two treatments or presentations. In this case any actual differences found can be attriubuted to the treatment because other effects have been randomized out so that on average they cancel. For such randomized studies are causal: they are able to establish that the treatment caused the effect. They are thus the gold standard in terms of comparing different groups in cases where such randomization is feasible and ethical. In many cases, however,  randomization is either impossible or unethical. \n",
    "\n",
    "**Example 3: Lead exposure study.** Children cannot ethically be assigned to low and high exposure to lead. However, those observed to have different levels may be studied in an observational fashion. The question still remains whether any differences detected could be purely due to chance or reflect a systematic association. \n",
    "\n",
    "Observational studies pose an additional challenge is the possibility of correlated deeper causes, called confounding effects, that cause both the differences in response and the differences in exposure. There are various advanced techiques to investigate and possible reduce the impact of potential confounding variables. We will investigate one of these, covariate adjustment, later in the context of multiple regression analysis.\n",
    "\n",
    "**Example 4: Pew Survey Sub-Groups.** In the Pew opinion poll subjects were randomly selected, but the subgroups such as cell phone versus land line, or Republican versus Democrat are not assigned to them at random. Instead they fall into these groups as part of their overall personal profiles, e.g. self-determined. Such a poll is representative of the larger population due to random sampling, but the internal associations are not provably causal because they are not randomized into those groups.\n",
    "\n",
    "Keeping these larger issues in mind, in this section, we focus on the basic issue of determining the statistical signficance of apparent effects observed in the data. \n"
   ]
  },
  {
   "cell_type": "markdown",
   "metadata": {},
   "source": [
    "We first discuss standard errors and confidence intervals for differences between group means and proportions. Then we develop the closely related hypothesis tests and their implementation. \n",
    "\n",
    "Specific testing ideas  are considered including:\n",
    "\n",
    "\n",
    "+ Standard errors for two-sample difference statistics\n",
    "\n",
    "\n",
    "+ Relation between confidence intervals and significance tests for differences between means and proportions\n",
    "\n",
    "\n",
    "+ Formulating null and alternative hypotheses\n",
    "\n",
    "\n",
    "+ p-values, $\\alpha$ significance levels, and $1-\\alpha$ confidence levels\n",
    "\n",
    "\n",
    "+ Probabilities of false positives and false negatives: controlling the two types of errors\n",
    "\n",
    "\n",
    "+ z-tests for proportions: direct calculation versus the statsmodels.stats proportions_ztest\n",
    "\n",
    "\n",
    "+ t-tests for means: adjusting the normal approximation z-tests for smaller sample sizes\n",
    "\n",
    "\n"
   ]
  },
  {
   "cell_type": "markdown",
   "metadata": {},
   "source": [
    "### Estimating group differences with standard errors and confidence intervals"
   ]
  },
  {
   "cell_type": "markdown",
   "metadata": {},
   "source": [
    "Let's consider the situation where we want to compare the means or proportions between two population subgroups. We will take an independent random sample from each subgroup, here labeled Group A and Group B. Let $X_{gi}$ denote the quantitiative variable being measured for individual $i$ in group $g$. The resulting samples of random variables are:\n",
    "\n",
    "$$\n",
    "\\begin{align}\n",
    "\\mbox{Group A:}&\\qquad X_{11}, X_{12}, X_{13}, \\ldots, X_{1n_1}\\\\\n",
    "\\\\\n",
    "\\mbox{Group B:}&\\qquad X_{21}, X_{22}, X_{23}, \\ldots, X_{2n_2}\\\\\n",
    "\\end{align}\n",
    "$$\n",
    "\n",
    "In practice, data like this would often be organized in a data frame with one column corresponding to the quantitative variable $X$ and another column corresponding to the group variable. For example, in the lead exposure study the structure the data are organized as follows.\n"
   ]
  },
  {
   "cell_type": "code",
   "execution_count": 1,
   "metadata": {},
   "outputs": [],
   "source": [
    "import pandas as pd\n",
    "import numpy as np"
   ]
  },
  {
   "cell_type": "code",
   "execution_count": 2,
   "metadata": {
    "scrolled": true
   },
   "outputs": [
    {
     "data": {
      "text/html": [
       "<div>\n",
       "<style scoped>\n",
       "    .dataframe tbody tr th:only-of-type {\n",
       "        vertical-align: middle;\n",
       "    }\n",
       "\n",
       "    .dataframe tbody tr th {\n",
       "        vertical-align: top;\n",
       "    }\n",
       "\n",
       "    .dataframe thead th {\n",
       "        text-align: right;\n",
       "    }\n",
       "</style>\n",
       "<table border=\"1\" class=\"dataframe\">\n",
       "  <thead>\n",
       "    <tr style=\"text-align: right;\">\n",
       "      <th></th>\n",
       "      <th>group</th>\n",
       "      <th>age</th>\n",
       "      <th>fulliq</th>\n",
       "    </tr>\n",
       "  </thead>\n",
       "  <tbody>\n",
       "    <tr>\n",
       "      <td>0</td>\n",
       "      <td>lead &lt; 40</td>\n",
       "      <td>11.083333</td>\n",
       "      <td>70</td>\n",
       "    </tr>\n",
       "    <tr>\n",
       "      <td>1</td>\n",
       "      <td>lead &lt; 40</td>\n",
       "      <td>9.416667</td>\n",
       "      <td>85</td>\n",
       "    </tr>\n",
       "    <tr>\n",
       "      <td>2</td>\n",
       "      <td>lead &lt; 40</td>\n",
       "      <td>11.083333</td>\n",
       "      <td>86</td>\n",
       "    </tr>\n",
       "    <tr>\n",
       "      <td>3</td>\n",
       "      <td>lead &lt; 40</td>\n",
       "      <td>6.916667</td>\n",
       "      <td>76</td>\n",
       "    </tr>\n",
       "  </tbody>\n",
       "</table>\n",
       "</div>"
      ],
      "text/plain": [
       "       group        age  fulliq\n",
       "0  lead < 40  11.083333      70\n",
       "1  lead < 40   9.416667      85\n",
       "2  lead < 40  11.083333      86\n",
       "3  lead < 40   6.916667      76"
      ]
     },
     "metadata": {},
     "output_type": "display_data"
    },
    {
     "data": {
      "text/html": [
       "<div>\n",
       "<style scoped>\n",
       "    .dataframe tbody tr th:only-of-type {\n",
       "        vertical-align: middle;\n",
       "    }\n",
       "\n",
       "    .dataframe tbody tr th {\n",
       "        vertical-align: top;\n",
       "    }\n",
       "\n",
       "    .dataframe thead th {\n",
       "        text-align: right;\n",
       "    }\n",
       "</style>\n",
       "<table border=\"1\" class=\"dataframe\">\n",
       "  <thead>\n",
       "    <tr style=\"text-align: right;\">\n",
       "      <th></th>\n",
       "      <th>group</th>\n",
       "      <th>age</th>\n",
       "      <th>fulliq</th>\n",
       "    </tr>\n",
       "  </thead>\n",
       "  <tbody>\n",
       "    <tr>\n",
       "      <td>120</td>\n",
       "      <td>lead &gt;= 40</td>\n",
       "      <td>4.583333</td>\n",
       "      <td>92</td>\n",
       "    </tr>\n",
       "    <tr>\n",
       "      <td>121</td>\n",
       "      <td>lead &gt;= 40</td>\n",
       "      <td>5.166667</td>\n",
       "      <td>77</td>\n",
       "    </tr>\n",
       "    <tr>\n",
       "      <td>122</td>\n",
       "      <td>lead &gt;= 40</td>\n",
       "      <td>3.833333</td>\n",
       "      <td>111</td>\n",
       "    </tr>\n",
       "    <tr>\n",
       "      <td>123</td>\n",
       "      <td>lead &gt;= 40</td>\n",
       "      <td>3.916667</td>\n",
       "      <td>78</td>\n",
       "    </tr>\n",
       "  </tbody>\n",
       "</table>\n",
       "</div>"
      ],
      "text/plain": [
       "          group       age  fulliq\n",
       "120  lead >= 40  4.583333      92\n",
       "121  lead >= 40  5.166667      77\n",
       "122  lead >= 40  3.833333     111\n",
       "123  lead >= 40  3.916667      78"
      ]
     },
     "metadata": {},
     "output_type": "display_data"
    }
   ],
   "source": [
    "# read csv file from parallel folder named 'data'\n",
    "# import three specific variables from the csv file\n",
    "df = pd.read_csv('../data/lead.csv')[['group', 'age', 'fulliq']]\n",
    "# show first 4 and last 4 rows of the data frame\n",
    "display(df.iloc[:4], df.iloc[df.shape[0]-4:df.shape[0]])"
   ]
  },
  {
   "cell_type": "markdown",
   "metadata": {},
   "source": [
    "In the lead study, we can compare mean ages between the two exposure levels, to see if there is any age confounding. And we can compare 'fulliq' between groups to determine if there is a significant difference in cogntive assessment between the two groups."
   ]
  },
  {
   "cell_type": "markdown",
   "metadata": {},
   "source": [
    "#### Group difference between means\n",
    "\n",
    "If the sample variables $X_{gi}$ are quantitative features for each individual, then we can compare the means between the two groups, estimating the mean difference. Notationally, here are the parameters and statistics of interest.\n",
    "\n",
    "Group | Population Mean | Population  SD | Sample Mean | Sample SD | Standard error\n",
    "--- | --- | --- | --- | --- | ---\n",
    "A | $\\mu_1$ | $\\sigma_1$ | $\\bar{X}_1$ | $S_1$ | $se_1 = \\sqrt{S_1^2 \\over n_1}$\n",
    "B | $\\mu_2$ | $\\sigma_2$ | $\\bar{X}_2$ | $S_2$ | $se_2 = \\sqrt{S_2^2 \\over n_2}$\n",
    "\n",
    "If we are interested in drawing conclusions about the population mean difference, \n",
    "\n",
    "$$\n",
    "\\Delta = \\mu_1 - \\mu_2,\n",
    "$$\n",
    "\n",
    "we can use the estimator,\n",
    "\n",
    "$$\n",
    "\\hat{\\Delta} = \\bar{X_1} - \\bar{X_2}.\n",
    "$$\n",
    "\n",
    "What are the properties of this estimator? We know it is **unbiased** because\n",
    "\n",
    "$$\n",
    "E(\\bar{X}_1 - \\bar{X}_2) = E(\\bar{X}_1) - E(\\bar{X}_2) = \\mu_1 - \\mu_2\n",
    "$$\n",
    "\n",
    "**Standard error**\n",
    "\n",
    "How about the precision of $\\hat{\\Delta}$ as an estimator, i.e., its population standard deviation? Because we have **independent** samples the two sample means are also independent. Therefore, using the general variance formula for linear combinations of random variables,\n",
    "\n",
    "$$\n",
    "\\begin{align}\n",
    "Var(\\bar{X}_1 - \\bar{X_2}) &= (1)^2\\, Var(\\bar{X}_1) + (-1)^2\\, Var(\\bar{X}_2) \\\\\n",
    "\\\\\n",
    "&= Var(\\bar{X}_1) + Var(\\bar{X}_2)\\\\\n",
    "\\\\\n",
    "&= {\\sigma_1^2\\over n_1} + {\\sigma_2^2 \\over n_2}\\\\\n",
    "\\end{align}\n",
    "$$\n",
    "\n",
    "$$\n",
    "\\implies SD(\\bar{X}_1 - \\bar{X_2}) = \\sqrt{ {\\sigma_1^2\\over n_1} + {\\sigma_2^2 \\over n_2}}.\n",
    "$$\n",
    "\n",
    "Based on the previous results for single sample estimates, we can estimate the standard deviation for $\\hat{\\Delta}$ by the **standard error for the difference**: \n",
    "\n",
    "$$\n",
    "SE(\\hat{\\Delta}) = \\sqrt{se_1^2 + se_2^2} = \\sqrt{{S_1^2\\over n_1} + {S_2^2\\over n_2}}.\n",
    "$$\n",
    "\n",
    "**Confidence interval**\n",
    "\n",
    "As in the single sample design, the difference between sample means will be approximately normally distributed if the minimum of the two group sizes $n_1$ and $n_2$ is large enough. If so, then we get an approximate $100(1-\\alpha)\\%$ confidence interval of the form:\n",
    "\n",
    "$$\n",
    "\\mu_1 - \\mu_2 \\in \\left(\\bar{X}_1 - \\bar{X}_2\\, \\pm\\, z_{1-{\\alpha\\over 2}} * \\sqrt{{S_1^2\\over n_1} + {S_2^2\\over n_2}}\\right)\n",
    "$$\n",
    "\n",
    "where $se_1$ and $se_2$ are given above. In other words, the margin of error for the difference is\n",
    "\n",
    "$$\n",
    "MOE = \\pm z_{1-{\\alpha\\over 2}} \\sqrt{\\mbox{se}_1^2 + \\mbox{se}_2^2}\n",
    "$$\n",
    "\n",
    "with a confidence level of $100(1-\\alpha)\\%$."
   ]
  },
  {
   "cell_type": "markdown",
   "metadata": {},
   "source": [
    "**Example: Mean age difference in the lead exposure study**. Let's compute a 95% confidence interval for the mean difference in ages between the low exposure group and the high exposure group."
   ]
  },
  {
   "cell_type": "code",
   "execution_count": 3,
   "metadata": {},
   "outputs": [
    {
     "data": {
      "text/html": [
       "<div>\n",
       "<style scoped>\n",
       "    .dataframe tbody tr th:only-of-type {\n",
       "        vertical-align: middle;\n",
       "    }\n",
       "\n",
       "    .dataframe tbody tr th {\n",
       "        vertical-align: top;\n",
       "    }\n",
       "\n",
       "    .dataframe thead th {\n",
       "        text-align: right;\n",
       "    }\n",
       "</style>\n",
       "<table border=\"1\" class=\"dataframe\">\n",
       "  <thead>\n",
       "    <tr style=\"text-align: right;\">\n",
       "      <th></th>\n",
       "      <th>group</th>\n",
       "      <th>age</th>\n",
       "      <th>fulliq</th>\n",
       "    </tr>\n",
       "  </thead>\n",
       "  <tbody>\n",
       "    <tr>\n",
       "      <td>0</td>\n",
       "      <td>lead &lt; 40</td>\n",
       "      <td>11.083333</td>\n",
       "      <td>70</td>\n",
       "    </tr>\n",
       "    <tr>\n",
       "      <td>1</td>\n",
       "      <td>lead &lt; 40</td>\n",
       "      <td>9.416667</td>\n",
       "      <td>85</td>\n",
       "    </tr>\n",
       "    <tr>\n",
       "      <td>2</td>\n",
       "      <td>lead &lt; 40</td>\n",
       "      <td>11.083333</td>\n",
       "      <td>86</td>\n",
       "    </tr>\n",
       "    <tr>\n",
       "      <td>3</td>\n",
       "      <td>lead &lt; 40</td>\n",
       "      <td>6.916667</td>\n",
       "      <td>76</td>\n",
       "    </tr>\n",
       "    <tr>\n",
       "      <td>4</td>\n",
       "      <td>lead &lt; 40</td>\n",
       "      <td>11.250000</td>\n",
       "      <td>84</td>\n",
       "    </tr>\n",
       "  </tbody>\n",
       "</table>\n",
       "</div>"
      ],
      "text/plain": [
       "       group        age  fulliq\n",
       "0  lead < 40  11.083333      70\n",
       "1  lead < 40   9.416667      85\n",
       "2  lead < 40  11.083333      86\n",
       "3  lead < 40   6.916667      76\n",
       "4  lead < 40  11.250000      84"
      ]
     },
     "execution_count": 3,
     "metadata": {},
     "output_type": "execute_result"
    }
   ],
   "source": [
    "df.head()"
   ]
  },
  {
   "cell_type": "code",
   "execution_count": 4,
   "metadata": {},
   "outputs": [],
   "source": [
    "# Extract the two subgroups from the data\n",
    "age1 = df['age'][df['group']=='lead < 40']\n",
    "age2 = df['age'][df['group']=='lead >= 40']"
   ]
  },
  {
   "cell_type": "code",
   "execution_count": 5,
   "metadata": {},
   "outputs": [],
   "source": [
    "# compute sample means, standard deviations, n's\n",
    "mn1, sd1, n1 = age1.mean(), age1.std(), age1.shape[0]\n",
    "mn2, sd2, n2 = age2.mean(), age2.std(), age2.shape[0]"
   ]
  },
  {
   "cell_type": "code",
   "execution_count": 6,
   "metadata": {},
   "outputs": [],
   "source": [
    "# compute single sample standard errors\n",
    "se1, se2 = sd1/np.sqrt(n1), sd2/np.sqrt(n2)"
   ]
  },
  {
   "cell_type": "code",
   "execution_count": 7,
   "metadata": {},
   "outputs": [
    {
     "data": {
      "text/html": [
       "<div>\n",
       "<style scoped>\n",
       "    .dataframe tbody tr th:only-of-type {\n",
       "        vertical-align: middle;\n",
       "    }\n",
       "\n",
       "    .dataframe tbody tr th {\n",
       "        vertical-align: top;\n",
       "    }\n",
       "\n",
       "    .dataframe thead th {\n",
       "        text-align: right;\n",
       "    }\n",
       "</style>\n",
       "<table border=\"1\" class=\"dataframe\">\n",
       "  <thead>\n",
       "    <tr style=\"text-align: right;\">\n",
       "      <th></th>\n",
       "      <th>Group 1</th>\n",
       "      <th>Group 2</th>\n",
       "    </tr>\n",
       "  </thead>\n",
       "  <tbody>\n",
       "    <tr>\n",
       "      <td>Mean</td>\n",
       "      <td>9.327991</td>\n",
       "      <td>8.269928</td>\n",
       "    </tr>\n",
       "    <tr>\n",
       "      <td>Std_Dev</td>\n",
       "      <td>3.572339</td>\n",
       "      <td>3.411952</td>\n",
       "    </tr>\n",
       "    <tr>\n",
       "      <td>n</td>\n",
       "      <td>78.000000</td>\n",
       "      <td>46.000000</td>\n",
       "    </tr>\n",
       "    <tr>\n",
       "      <td>Std_Err</td>\n",
       "      <td>0.404488</td>\n",
       "      <td>0.503065</td>\n",
       "    </tr>\n",
       "  </tbody>\n",
       "</table>\n",
       "</div>"
      ],
      "text/plain": [
       "           Group 1    Group 2\n",
       "Mean      9.327991   8.269928\n",
       "Std_Dev   3.572339   3.411952\n",
       "n        78.000000  46.000000\n",
       "Std_Err   0.404488   0.503065"
      ]
     },
     "execution_count": 7,
     "metadata": {},
     "output_type": "execute_result"
    }
   ],
   "source": [
    "# display summary stats\n",
    "pd.DataFrame({'Group 1': [mn1, sd1, n1, se1],\n",
    "             'Group 2': [mn2, sd2, n2, se2]},\n",
    "             index= ['Mean', 'Std_Dev', 'n', 'Std_Err'])"
   ]
  },
  {
   "cell_type": "code",
   "execution_count": 8,
   "metadata": {},
   "outputs": [],
   "source": [
    "from scipy.stats import norm"
   ]
  },
  {
   "cell_type": "code",
   "execution_count": 9,
   "metadata": {},
   "outputs": [],
   "source": [
    "# mean difference and standard error\n",
    "delta = mn1 - mn2\n",
    "se_delta = np.sqrt(se1**2 + se2**2)"
   ]
  },
  {
   "cell_type": "code",
   "execution_count": 10,
   "metadata": {},
   "outputs": [],
   "source": [
    "# MOE multiplier for 95% confidence\n",
    "alpha = 0.05\n",
    "zq = norm.ppf(1 - (alpha/2))"
   ]
  },
  {
   "cell_type": "code",
   "execution_count": 11,
   "metadata": {},
   "outputs": [
    {
     "name": "stdout",
     "output_type": "stream",
     "text": [
      "Mean difference: 1.0581\n",
      "Std_Err: 0.6455\n",
      "Confidence_level: 0.95\n",
      "Confidence_Interval: (-0.2071, 2.3232)\n"
     ]
    }
   ],
   "source": [
    "# display estimates and confidence interval\n",
    "print('Mean difference:', round(delta, 4))\n",
    "print('Std_Err:', round(se_delta, 4))\n",
    "print('Confidence_level:', 1-alpha)\n",
    "print('Confidence_Interval:', \n",
    "      (round(delta - zq*se_delta, 4), \n",
    "       round(delta+zq*se_delta, 4)))"
   ]
  },
  {
   "cell_type": "markdown",
   "metadata": {},
   "source": [
    "**Toward significance testing**\n",
    "\n",
    "Did the confidence interval for the difference include the value 0? if so, we would conclude that, at a significance level of $\\alpha=0.05$, there is not a significant difference between mean ages for the two groups. if the confidence interval does **not** include 0, then we conclude that there is a statistically significant difference in mean ages between the two groups.\n",
    "\n",
    "**Example:** In the Lead Exposure study the 95% confidence interval for the difference between the mean age in the lower exposure group and the mean age in the higher exposure group included zero, so we conclude that the mean difference in ages is not statistically significant at the level $\\alpha = 1-0.95 = 0.05$."
   ]
  },
  {
   "cell_type": "markdown",
   "metadata": {},
   "source": [
    "#### Group difference between proportions\n",
    "\n",
    "The approach for proportions is parallel with that for means. The difference is in how we compute standard errors. If $X_{gi}$ are 0/1 Bernoulli values indicating presence or absence of some qualitative feature for each individual, then we can compare the proportions between the two groups. \n",
    "\n",
    "Group | Population proportion | Sample Proportion | Standard error\n",
    "--- |--- | --- | ---\n",
    "A | $p_1$ | $\\hat{p}_1$ | $se_1$ $=$ $\\sqrt{\\hat{p_1}(1-\\hat{p_1}) \\over n_1}$\n",
    "B | $p_2$ | $\\hat{p}_2$ | $se_2$ $=$ $\\sqrt{\\hat{p_2}(1-\\hat{p_2}) \\over n_2}$"
   ]
  },
  {
   "cell_type": "markdown",
   "metadata": {},
   "source": [
    "If we wish to compare proportions consider the sub-population difference:\n",
    "\n",
    "$$\n",
    "\\Delta = p_1 - p_2.\n",
    "$$\n",
    "\n",
    "We have the unbiased estiamtor:\n",
    "\n",
    "$$\n",
    "\\hat{\\Delta} = \\hat{p}_1 - \\hat{p}_2.\n",
    "$$\n",
    "\n",
    "By the same reasoning as for the mean, the independence of the two samples implies\n",
    "\n",
    "$$\n",
    "SE(\\hat{\\Delta}) = \\sqrt{\\mbox{se}_1^2 + \\mbox{se}_2^2}\n",
    "$$\n",
    "\n",
    "with the standard errors given in the table above. If the minimum sample size is large enough (i.e., all $n_g \\hat{p}_g$ and $n_g(1-\\hat{p}_g$ larger than around 5), then the difference in sample proportions is aproximately normally distributed. We therefore compute a $100(1-\\alpha)\\%$ confidence interval as\n",
    "\n",
    "$$\n",
    "p_1 - p_2 \\in \\left(\\hat{p}_1 - \\hat{p}_2 \\,\\pm\\, z_{1-{\\alpha\\over 2}} * \\sqrt{\\mbox{se}_1^2 + \\mbox{se}_2^2}\\right).\n",
    "$$\n",
    "\n",
    "Just as we had in the case of general means, the margin of error for $100(1-\\alpha)\\%$ confidence has the form\n",
    "\n",
    "$$\n",
    "MOE = \\pm z_{1-{\\alpha\\over 2}} \\sqrt{\\mbox{se}_1^2 + \\mbox{se}_2^2}\n",
    "$$\n",
    "\n",
    "\n",
    "where we use the 'se' expressions for sample proportions."
   ]
  },
  {
   "cell_type": "markdown",
   "metadata": {},
   "source": [
    "### Example: Pew research survey party affiliation differences.\n",
    "\n",
    "Previously we considered the February 2017 survey results for Question 1: \"Do you approve or disapprove of the way Donald Trump is handling his job as President?\" The possible answers were:\n",
    "\n",
    "    1 Approve\n",
    "\n",
    "    2 Disapprove\n",
    "\n",
    "    9 Don't know/Refused (VOL.)\n",
    "\n",
    "We found that the overall approval rate was $38.1\\%$ with a margin of error of $\\pm 2.45\\%$.\n",
    "\n",
    "Let's break out the results by self-identified party affiliation."
   ]
  },
  {
   "cell_type": "code",
   "execution_count": 13,
   "metadata": {},
   "outputs": [
    {
     "data": {
      "text/html": [
       "<div>\n",
       "<style scoped>\n",
       "    .dataframe tbody tr th:only-of-type {\n",
       "        vertical-align: middle;\n",
       "    }\n",
       "\n",
       "    .dataframe tbody tr th {\n",
       "        vertical-align: top;\n",
       "    }\n",
       "\n",
       "    .dataframe thead th {\n",
       "        text-align: right;\n",
       "    }\n",
       "</style>\n",
       "<table border=\"1\" class=\"dataframe\">\n",
       "  <thead>\n",
       "    <tr style=\"text-align: right;\">\n",
       "      <th></th>\n",
       "      <th>q1</th>\n",
       "      <th>party</th>\n",
       "    </tr>\n",
       "  </thead>\n",
       "  <tbody>\n",
       "    <tr>\n",
       "      <td>0</td>\n",
       "      <td>Disapprove</td>\n",
       "      <td>Independent</td>\n",
       "    </tr>\n",
       "    <tr>\n",
       "      <td>1</td>\n",
       "      <td>Disapprove</td>\n",
       "      <td>Democrat</td>\n",
       "    </tr>\n",
       "    <tr>\n",
       "      <td>2</td>\n",
       "      <td>Disapprove</td>\n",
       "      <td>Independent</td>\n",
       "    </tr>\n",
       "    <tr>\n",
       "      <td>3</td>\n",
       "      <td>Approve</td>\n",
       "      <td>Republican</td>\n",
       "    </tr>\n",
       "    <tr>\n",
       "      <td>4</td>\n",
       "      <td>Disapprove</td>\n",
       "      <td>Democrat</td>\n",
       "    </tr>\n",
       "    <tr>\n",
       "      <td>5</td>\n",
       "      <td>Disapprove</td>\n",
       "      <td>Democrat</td>\n",
       "    </tr>\n",
       "    <tr>\n",
       "      <td>6</td>\n",
       "      <td>Disapprove</td>\n",
       "      <td>Independent</td>\n",
       "    </tr>\n",
       "    <tr>\n",
       "      <td>7</td>\n",
       "      <td>Approve</td>\n",
       "      <td>Republican</td>\n",
       "    </tr>\n",
       "    <tr>\n",
       "      <td>8</td>\n",
       "      <td>Approve</td>\n",
       "      <td>Independent</td>\n",
       "    </tr>\n",
       "    <tr>\n",
       "      <td>9</td>\n",
       "      <td>Disapprove</td>\n",
       "      <td>Independent</td>\n",
       "    </tr>\n",
       "  </tbody>\n",
       "</table>\n",
       "</div>"
      ],
      "text/plain": [
       "           q1        party\n",
       "0  Disapprove  Independent\n",
       "1  Disapprove     Democrat\n",
       "2  Disapprove  Independent\n",
       "3     Approve   Republican\n",
       "4  Disapprove     Democrat\n",
       "5  Disapprove     Democrat\n",
       "6  Disapprove  Independent\n",
       "7     Approve   Republican\n",
       "8     Approve  Independent\n",
       "9  Disapprove  Independent"
      ]
     },
     "execution_count": 13,
     "metadata": {},
     "output_type": "execute_result"
    }
   ],
   "source": [
    "# include \"Don't know/Refused (VOL.)\" as a response - \"Don't know\" is a valid answer\n",
    "dfpew = pd.read_csv('Feb17public.csv')\n",
    "dfpew[['q1','party']].head(10)"
   ]
  },
  {
   "cell_type": "markdown",
   "metadata": {},
   "source": [
    "Here is how the results breakdown by party affiliation:"
   ]
  },
  {
   "cell_type": "code",
   "execution_count": 14,
   "metadata": {},
   "outputs": [
    {
     "data": {
      "text/html": [
       "<div>\n",
       "<style scoped>\n",
       "    .dataframe tbody tr th:only-of-type {\n",
       "        vertical-align: middle;\n",
       "    }\n",
       "\n",
       "    .dataframe tbody tr th {\n",
       "        vertical-align: top;\n",
       "    }\n",
       "\n",
       "    .dataframe thead th {\n",
       "        text-align: right;\n",
       "    }\n",
       "</style>\n",
       "<table border=\"1\" class=\"dataframe\">\n",
       "  <thead>\n",
       "    <tr style=\"text-align: right;\">\n",
       "      <th>q1</th>\n",
       "      <th>Approve</th>\n",
       "      <th>Disapprove</th>\n",
       "      <th>Don't know/Refused (VOL.)</th>\n",
       "    </tr>\n",
       "    <tr>\n",
       "      <th>party</th>\n",
       "      <th></th>\n",
       "      <th></th>\n",
       "      <th></th>\n",
       "    </tr>\n",
       "  </thead>\n",
       "  <tbody>\n",
       "    <tr>\n",
       "      <td>Democrat</td>\n",
       "      <td>33</td>\n",
       "      <td>483</td>\n",
       "      <td>14</td>\n",
       "    </tr>\n",
       "    <tr>\n",
       "      <td>Don't know/Refused (VOL.)</td>\n",
       "      <td>4</td>\n",
       "      <td>17</td>\n",
       "      <td>4</td>\n",
       "    </tr>\n",
       "    <tr>\n",
       "      <td>Independent</td>\n",
       "      <td>183</td>\n",
       "      <td>316</td>\n",
       "      <td>31</td>\n",
       "    </tr>\n",
       "    <tr>\n",
       "      <td>No preference (VOL.)</td>\n",
       "      <td>15</td>\n",
       "      <td>18</td>\n",
       "      <td>8</td>\n",
       "    </tr>\n",
       "    <tr>\n",
       "      <td>Other party (VOL.)</td>\n",
       "      <td>4</td>\n",
       "      <td>1</td>\n",
       "      <td>0</td>\n",
       "    </tr>\n",
       "    <tr>\n",
       "      <td>Republican</td>\n",
       "      <td>333</td>\n",
       "      <td>26</td>\n",
       "      <td>13</td>\n",
       "    </tr>\n",
       "  </tbody>\n",
       "</table>\n",
       "</div>"
      ],
      "text/plain": [
       "q1                         Approve  Disapprove  Don't know/Refused (VOL.)\n",
       "party                                                                    \n",
       "Democrat                        33         483                         14\n",
       "Don't know/Refused (VOL.)        4          17                          4\n",
       "Independent                    183         316                         31\n",
       "No preference (VOL.)            15          18                          8\n",
       "Other party (VOL.)               4           1                          0\n",
       "Republican                     333          26                         13"
      ]
     },
     "execution_count": 14,
     "metadata": {},
     "output_type": "execute_result"
    }
   ],
   "source": [
    "pd.crosstab(dfpew['party'], dfpew['q1'])"
   ]
  },
  {
   "cell_type": "markdown",
   "metadata": {},
   "source": [
    "#### Democrats versus Republicans\n",
    "\n",
    "We don't need fancy statistics to see that there was an enormous difference between Democrats and Republicans on this issue. Their respective rates of approval for President Trump's performance were:"
   ]
  },
  {
   "cell_type": "code",
   "execution_count": 15,
   "metadata": {},
   "outputs": [],
   "source": [
    "# Extract q1 responses for democrats and republicans\n",
    "dem = dfpew['q1'][dfpew['party']=='Democrat']\n",
    "rep = dfpew['q1'][dfpew['party']=='Republican']"
   ]
  },
  {
   "cell_type": "code",
   "execution_count": 16,
   "metadata": {},
   "outputs": [],
   "source": [
    "# calculate approval proportions\n",
    "approv_dem = sum(dem=='Approve')/dem.shape[0] \n",
    "approv_rep = sum(rep=='Approve')/rep.shape[0]\n",
    "disapp_dem = sum(dem=='Disapprove')/dem.shape[0] \n",
    "disapp_rep = sum(rep=='Disapprove')/rep.shape[0]"
   ]
  },
  {
   "cell_type": "code",
   "execution_count": 17,
   "metadata": {},
   "outputs": [
    {
     "name": "stdout",
     "output_type": "stream",
     "text": [
      "Democrats: Presidential approval rate = 0.062   Disapproval rate = 0.911\n",
      "Republicans: Presidential approval rate = 0.895   Disapproval rate = 0.07\n"
     ]
    }
   ],
   "source": [
    "# display results\n",
    "print('Democrats: Presidential approval rate =', round(approv_dem, 3),\n",
    "     '  Disapproval rate =', round(disapp_dem, 3))\n",
    "print('Republicans: Presidential approval rate =', round(approv_rep, 3),\n",
    "     '  Disapproval rate =', round(disapp_rep, 3))"
   ]
  },
  {
   "cell_type": "markdown",
   "metadata": {},
   "source": [
    "#### Independents versus \"No preference\"\n",
    "\n",
    "A more subtle question is whether there is a significant difference between the presidential approval rates for Independents and the \"No preference\" category for party affiliation. We first compute the sample proportions and standard errors."
   ]
  },
  {
   "cell_type": "code",
   "execution_count": 18,
   "metadata": {},
   "outputs": [],
   "source": [
    "# extract q1 responses for independents and 'no preference'\n",
    "indep = dfpew['q1'][dfpew['party']=='Independent']\n",
    "nopref = dfpew['q1'][dfpew['party']=='No preference (VOL.)']"
   ]
  },
  {
   "cell_type": "code",
   "execution_count": 19,
   "metadata": {},
   "outputs": [],
   "source": [
    "# calculate approval proportions\n",
    "p_indep = sum(indep=='Approve')/indep.shape[0] \n",
    "p_nopref = sum(nopref=='Approve')/nopref.shape[0]"
   ]
  },
  {
   "cell_type": "code",
   "execution_count": 20,
   "metadata": {},
   "outputs": [],
   "source": [
    "# calculate standard errors\n",
    "se_indep = np.sqrt(p_indep*(1-p_indep)/indep.shape[0])\n",
    "se_nopref = np.sqrt(p_nopref*(1-p_nopref)/nopref.shape[0])\n"
   ]
  },
  {
   "cell_type": "code",
   "execution_count": 21,
   "metadata": {},
   "outputs": [
    {
     "data": {
      "text/html": [
       "<div>\n",
       "<style scoped>\n",
       "    .dataframe tbody tr th:only-of-type {\n",
       "        vertical-align: middle;\n",
       "    }\n",
       "\n",
       "    .dataframe tbody tr th {\n",
       "        vertical-align: top;\n",
       "    }\n",
       "\n",
       "    .dataframe thead th {\n",
       "        text-align: right;\n",
       "    }\n",
       "</style>\n",
       "<table border=\"1\" class=\"dataframe\">\n",
       "  <thead>\n",
       "    <tr style=\"text-align: right;\">\n",
       "      <th></th>\n",
       "      <th>indep</th>\n",
       "      <th>nopref</th>\n",
       "    </tr>\n",
       "  </thead>\n",
       "  <tbody>\n",
       "    <tr>\n",
       "      <td>prop</td>\n",
       "      <td>0.345283</td>\n",
       "      <td>0.365854</td>\n",
       "    </tr>\n",
       "    <tr>\n",
       "      <td>std_err</td>\n",
       "      <td>0.020653</td>\n",
       "      <td>0.075224</td>\n",
       "    </tr>\n",
       "  </tbody>\n",
       "</table>\n",
       "</div>"
      ],
      "text/plain": [
       "            indep    nopref\n",
       "prop     0.345283  0.365854\n",
       "std_err  0.020653  0.075224"
      ]
     },
     "execution_count": 21,
     "metadata": {},
     "output_type": "execute_result"
    }
   ],
   "source": [
    "# display estimates and standard errors into a data frame\n",
    "pd.DataFrame({'indep': [p_indep, se_indep], \n",
    "              'nopref': [p_nopref, se_nopref]}, \n",
    "             index=['prop', 'std_err'])"
   ]
  },
  {
   "cell_type": "markdown",
   "metadata": {},
   "source": [
    "#### Significance test for the difference\n",
    "\n",
    "Already we can see that the difference appears to be within the standard errors of the two proportions. To be rigorous, let's compute the difference and the standard error for the difference. We'll also display a 90% confidence interval."
   ]
  },
  {
   "cell_type": "code",
   "execution_count": 22,
   "metadata": {},
   "outputs": [],
   "source": [
    "# difference between proportions\n",
    "p_diff = p_indep - p_nopref"
   ]
  },
  {
   "cell_type": "code",
   "execution_count": 23,
   "metadata": {},
   "outputs": [],
   "source": [
    "# standard error for the difference\n",
    "se_diff = np.sqrt(se_indep**2 + se_nopref**2)"
   ]
  },
  {
   "cell_type": "code",
   "execution_count": 24,
   "metadata": {},
   "outputs": [],
   "source": [
    "# Compute MOE multiplier for 90% confidence level\n",
    "conf = 0.90\n",
    "zq = norm.ppf((1+conf)/2)"
   ]
  },
  {
   "cell_type": "code",
   "execution_count": 25,
   "metadata": {},
   "outputs": [
    {
     "name": "stdout",
     "output_type": "stream",
     "text": [
      "p_diff: -0.0206\n",
      "se_diff: 0.078\n",
      "confidence_level: 0.9   zq: 1.6449\n",
      "confidence_interval: (-0.1489, 0.1077)\n"
     ]
    }
   ],
   "source": [
    "# Display summary incuding computed confidence interval\n",
    "print(\"p_diff:\", round(p_diff, 4))\n",
    "print(\"se_diff:\", round(se_diff, 4))\n",
    "print('confidence_level:', conf, '  zq:', round(zq, 4))\n",
    "print('confidence_interval:', (round(p_diff - zq*se_diff, 4), round(p_diff + zq*se_diff, 4)))"
   ]
  },
  {
   "cell_type": "markdown",
   "metadata": {},
   "source": [
    "**Conclusion:** From the 90% confidence interval, which is almost centered on zero, we see that there is no statistically significant difference, at level $\\alpha = 1-0.90 = 0.10$, between the presidential approval rates of self-identified Independents versus those with no party preference."
   ]
  },
  {
   "cell_type": "markdown",
   "metadata": {},
   "source": [
    "### Formulating hypotheses and testing them\n",
    "\n",
    "As the previous examples show, we can use confidence intervals as way to decide if an apparent effect is \"real\" in the sense that it is statistically signficant with some level of confidence. More specifically, by comparing an estimated difference to its standard error we can determine whether the difference could be explained by chance alone, rather than by a systematic difference. If it cannot be explained by chance, then we conclude that a statistical signficant effect is detected.\n",
    "\n",
    "#### z-test statistics\n",
    "\n",
    "The confidence intervals in the examples above all shared the same basic structure:\n",
    "\n",
    "\n",
    "+ Compute an estimate and its standard error;\n",
    "\n",
    "\n",
    "+ If the estimate is a linear combination of averages, then it is approximately normal if the sample size(s) is(are) large. Use the standard normal distribution to determine the standard error multiplier, zq, for the margin of error with specified confidence level $1-\\alpha$.\n",
    "\n",
    "\n",
    "+ Compute a confidence interval of the form: $(\\mbox{estimate} - z_q * \\mbox{stderr},\\,\\,  \\mbox{estimate} + z_q * \\mbox{stderr})$.\n",
    "\n",
    "\n",
    "+ If the confidence interval excludes a null value for the population parameter (e.g. difference = 0), then declare the effect statistically signficant at level $\\alpha$. \n",
    "\n",
    "\n",
    "A confidence interval provides useful information because it gives both the estimated effect, and an uncertainty bound for that effect. For testing purposes though, it is possible to get to the conclusion more efficiently using a z-test statistic.\n",
    "\n"
   ]
  },
  {
   "cell_type": "markdown",
   "metadata": {},
   "source": [
    "**General prescription for signficance tests.** Let's generically denote our population parameter of interest by $\\theta$. This could be a population mean or proportion, or a difference between them. Denote our random sample estimate by $\\hat{\\theta}$. We'll assume $\\hat{\\theta}$ is approximately normally distributed by some application of the central limit theorem, and we can compute a standard error (estimated population standard deviation) for $\\hat{\\theta}$. Call it $se(\\hat{\\theta})$. \n",
    "\n",
    "Now let $\\theta_0$ be a \"null\" value that indicates lack of any effect. The we have two equivalent ways to test for a statistically significant deviation from the null value $\\theta_0$:\n",
    "\n",
    "\n",
    "+ Method 1: Compute the $100(1-\\alpha)%$ confidence interval, \n",
    "$(\\hat\\theta - z_{1-{\\alpha\\over 2}}*se(\\hat\\theta),\\, \\hat\\theta + z_{1-{\\alpha\\over 2}}*se(\\hat\\theta))$. If $\\theta_0$ is outside the confidence interval, then $\\theta$ is statistical significantly different from $\\theta_0$ at level $\\alpha$.\n",
    "\n",
    "\n",
    "+ Method 2: Compute the z statistic given in the equation below. If $\\vert z\\vert$ exceeds $z_{1-{\\alpha\\over 2}}$, then $\\theta$ is statistically significantly different from $\\theta_0$ at level $\\alpha$.\n",
    "\n",
    "$$\n",
    "Z = {\\hat{\\theta} - \\theta_0\\over se(\\hat{\\theta})}\n",
    "$$\n",
    "\n",
    "Convince yourself that\n",
    "\n",
    "$$\n",
    "\\theta_0 \\in \\left(\\hat\\theta - z_{1-{\\alpha\\over 2}}* se(\\hat\\theta),\\quad \n",
    "\\hat\\theta + z_{1-{\\alpha\\over 2}}* se(\\hat\\theta)\\right)\\quad  \n",
    "\\iff \\quad \\left\\vert {\\hat\\theta - \\theta_0\\over se(\\hat\\theta)}\\right\\vert\\, \\le \\,z_{1-{\\alpha\\over 2}}\n",
    "$$\n",
    "\n"
   ]
  },
  {
   "cell_type": "markdown",
   "metadata": {},
   "source": [
    "**Examples:** \n",
    "\n",
    "1. In the lead exposure study, $\\theta = \\mu$, the population mean. A mean IQ measurement of $\\mu_0=100$ for the exposed group would be considered a \"null\" effect because they would be showing normal development. We can test this null value using a z-test with\n",
    "$$\n",
    "Z = {\\bar{X} - 100 \\over S/\\sqrt{n}}\n",
    "$$\n",
    "\n",
    "2. In the Pew Presidential approval survey, $\\theta = p_1 - p_2$, the difference between subpopulatoin proportions. A difference in approval rates $\\theta_0 = p_1-p_2=0$ is the null value. We can test this null value using a z-test with \n",
    "$$\n",
    "Z = {\\hat{p}_1 - \\hat{p}_2 - 0   \\over  se(\\hat{p}_1 - \\hat{p}_2)} =  {\\hat{p}_1 - \\hat{p}_2   \\over  \\sqrt{se_1^2 + se_2^2}}\n",
    "$$\n"
   ]
  },
  {
   "cell_type": "markdown",
   "metadata": {},
   "source": [
    "#### Null and alternative hypotheses\n",
    "\n",
    "Often a scientific question can be set up as a hypothesis to be tested. The evidence is gathered through the sampling process and the data are analyzed. If the data are consistent with the hypothesis then it remains in consideration. If the data are inconsistent with the hypothesis it is rejected in favor of an alternative explanation or theory. \n",
    "\n",
    "The investigator might seek to establish that some systematic effect is present. By testing the negative, that the effect is absent, the investigator will seek to prove by contradiction that the effect is there. How does this work? Let's formulate hypotheses in terms of population parameters.\n",
    "\n",
    "For the general discussion, let's call the population parameter $\\theta$ for now. Again, this might be a population mean $\\mu$ or a population proportion $p$, or a difference between means or proportions. In later sections we will see that this could be a coefficient in a regression model.\n",
    "\n",
    "The null hypothesis, denoted $H_0$ is a statement about $\\theta$ that represents either \"no effect\" or \"status quo\" or \"normal population value\". If $\\theta_0$ is the \"no effect\" value of the parameter we write:\n",
    "\n",
    "$$\n",
    "H_0: \\quad \\theta=\\theta_0.\n",
    "$$\n",
    "\n",
    "If this hypothesis is false, then the alternative is\n",
    "\n",
    "$$\n",
    "H_A: \\quad \\theta \\ne \\theta_0.\n",
    "$$\n",
    "\n",
    "If we have an estimate available for $\\theta$ and it is approximately normally distributed, then we can compare its observed value to its distribution computed **assuming $H_0$ is true.** Thus we compare the deviation of the estimate from its expectation under the null hypothesis to its standard error by computing a z-value:\n",
    "\n",
    "$$\n",
    "\\mbox{Z} = {\\mbox{Estimate} - \\mbox{Null expectation}  \\over \\mbox{Standard error} }.\n",
    "$$\n",
    "\n",
    "how do we judge how extreme this is? We can compute the probability of seeing a result this extreme if $H_0$ is true. That probability is the **p-value**. Using the normal approximation it has the form:\n",
    "\n",
    "$$\n",
    "\\mbox{p_value} = P\\left(\\vert Z \\vert > \\vert z_{obs}\\vert \\right) = 2*P(Z < -\\vert z_{obs} \\vert)\n",
    "$$\n",
    "\n",
    "where $Z$ has a standard normal distribution, and $z_{obs}$ is the observed value of the Z statistic based on the data. This is called a two-tailed p-value because the calculation assumes both large positive and large negative deviations are of interest to detect. For computation, the probability can be calculated using the norm.cdf function in scipy.stats. "
   ]
  },
  {
   "cell_type": "markdown",
   "metadata": {},
   "source": [
    "**Is it statistically signficant?** If the p-value is very small that means the sticking with the null hypothesis requires us to believe a rare event has occurred. Therefore, very small values for the p value would lead us to reject $H_0$ in favor of $H_A$. In general, if the p value is smaller than $\\alpha$, then the result is statistically significant (and we reject $H_0$) at level $\\alpha$.\n",
    "\n"
   ]
  },
  {
   "cell_type": "markdown",
   "metadata": {},
   "source": [
    "#### Graphical comparison of p-value and alpha level\n",
    "\n",
    "The idea is illustrated in the graph below. The orange vertical lines indicate the cutoff values for an $\\alpha$ level test. The shaded areas represent the tail probabilities that combine to give the p-value. By modifying the values for 'alpha' and 'zvalue' in the code we can see how the results change with different z values and different levels of significance."
   ]
  },
  {
   "cell_type": "code",
   "execution_count": 26,
   "metadata": {},
   "outputs": [],
   "source": [
    "import matplotlib.pyplot as plt\n",
    "import seaborn as sns; sns.set()"
   ]
  },
  {
   "cell_type": "code",
   "execution_count": 27,
   "metadata": {},
   "outputs": [],
   "source": [
    "# Set the target alpha significance level (1 - confidence level)\n",
    "#\n",
    "alpha = 0.05   # significance level\n",
    "#\n",
    "# Set hypothetical observed value for z-test statistic\n",
    "#\n",
    "zvalue = 1.6"
   ]
  },
  {
   "cell_type": "code",
   "execution_count": 28,
   "metadata": {},
   "outputs": [
    {
     "data": {
      "text/plain": [
       "0.10959858339911595"
      ]
     },
     "execution_count": 28,
     "metadata": {},
     "output_type": "execute_result"
    }
   ],
   "source": [
    "# calculate p-value = two-tailed probability of \n",
    "# z-value this extreme assuming null hypothesis is true\n",
    "#\n",
    "pvalue = 2*norm.cdf(-abs(zvalue)) \n",
    "pvalue"
   ]
  },
  {
   "cell_type": "code",
   "execution_count": 29,
   "metadata": {},
   "outputs": [],
   "source": [
    "# grid for graphing the normal pdf\n",
    "#\n",
    "x = np.linspace(norm.ppf(0.001), norm.ppf(0.999), 100)"
   ]
  },
  {
   "cell_type": "code",
   "execution_count": 30,
   "metadata": {},
   "outputs": [
    {
     "data": {
      "image/png": "[encoded data removed]",
      "text/plain": [
       "<Figure size 432x288 with 1 Axes>"
      ]
     },
     "metadata": {
      "needs_background": "light"
     },
     "output_type": "display_data"
    }
   ],
   "source": [
    "# pdf plot and axis labels\n",
    "#\n",
    "plt.plot(x, norm.pdf(x))\n",
    "plt.xlabel('z')\n",
    "plt.ylabel('f(x)')\n",
    "#\n",
    "# add dynamic title\n",
    "#\n",
    "plt.title('z_obs = ' + str(zvalue) + \n",
    "          ', p_value = ' + str(round(pvalue,4)) + ', alpha = ' + str(alpha))\n",
    "#\n",
    "# add dynamic text for tail probabilities\n",
    "#\n",
    "plt.text(-abs(zvalue), norm.pdf(-abs(zvalue)), \n",
    "         'tail = ' + str(round(pvalue/2, 4)), horizontalalignment='right')\n",
    "plt.text(abs(zvalue), norm.pdf(abs(zvalue)), \n",
    "         'tail = ' + str(round(pvalue/2, 4)), horizontalalignment='left')\n",
    "#\n",
    "# add shaded areas whose probability we need\n",
    "#\n",
    "xzval1 = np.linspace(norm.ppf(0.001), -abs(zvalue), 100)\n",
    "xzval2 = np.linspace(abs(zvalue), norm.ppf(0.999), 100)\n",
    "plt.fill_between(xzval1, 0, norm.pdf(xzval1), color='b')\n",
    "plt.fill_between(xzval2, 0, norm.pdf(xzval2), color='b')\n",
    "#\n",
    "# add vertical lines at z-alpha cutoffs\n",
    "#\n",
    "xcut = [norm.ppf(alpha/2), norm.ppf(1-(alpha/2))]\n",
    "plt.vlines(x=xcut, ymin=0, ymax=norm.pdf(xcut), lw=2, colors='orange')\n",
    "#\n",
    "# show the graph\n",
    "#\n",
    "plt.show()"
   ]
  },
  {
   "cell_type": "markdown",
   "metadata": {},
   "source": [
    "### Example: Difference in mean age for lower lead exposure group versus higher lead exposure group.\n",
    "\n",
    "+ Population mean age for lower exposure group (lead < 40): $\\mu_1$\n",
    "\n",
    "+ Population mean age for higher exposure group (lead >= 40): $\\mu_2$\n",
    "\n",
    "+ Effect of interest: $\\theta = \\mu_1 - \\mu_2$.\n",
    "\n",
    "+ No effect hypothesis:  $H_0: \\mu_1 - \\mu_2 = 0$\n",
    "\n",
    "+ Some effect hypothesis: $H_A: \\mu_1 - \\mu_2 \\ne 0$.\n",
    "\n",
    "The Z test statistic has the form:\n",
    "\n",
    "$$\n",
    "Z = {\\bar{X}_1 - \\bar{X_2} \\over \\sqrt{se_1^2 + se_2^2}}\n",
    "$$\n",
    "\n",
    "with $se_1 = S_1/\\sqrt{n_1}$ and $se_2 = S_2/\\sqrt{n_2}$. We previously computed a 95% confidence interval. Let's test the null hypothesis at a significance level of $\\alpha=0.05$. We previously computed the difference in sample means ('delta') and its standard error ('se_delta') in order to get a confidence interval for the difference in means.\n"
   ]
  },
  {
   "cell_type": "code",
   "execution_count": 31,
   "metadata": {},
   "outputs": [],
   "source": [
    "# compute z-value from mean difference and se for the difference\n",
    "#\n",
    "z_obs = delta/se_delta"
   ]
  },
  {
   "cell_type": "code",
   "execution_count": 32,
   "metadata": {},
   "outputs": [],
   "source": [
    "# compute p-value from z-value\n",
    "#\n",
    "p_value = 2*norm.cdf(-abs(z_obs))"
   ]
  },
  {
   "cell_type": "code",
   "execution_count": 33,
   "metadata": {},
   "outputs": [
    {
     "name": "stdout",
     "output_type": "stream",
     "text": [
      "Null_Hypothesis: mu1 - mu2 = 0\n",
      "z_value =  1.6391\n",
      "p_value =  0.1012\n"
     ]
    }
   ],
   "source": [
    "# summarize the test results\n",
    "#\n",
    "print('Null_Hypothesis: mu1 - mu2 = 0')\n",
    "print('z_value = ', round(z_obs, 4))\n",
    "print('p_value = ', round(p_value, 4))"
   ]
  },
  {
   "cell_type": "markdown",
   "metadata": {},
   "source": [
    "In this case the p-value is 0.1012 so we fail to reject $H_0$ at the $\\alpha=0.05$ significance level.  Notice that the p-value is always the smallest $\\alpha$ level at which the test would reject $H_0$. So, for example, this test *would* reject $H_0$ at the level $\\alpha=0.20$, but a 1 in 5 chance is usually much larger than the burden of proof signficance levels in common use."
   ]
  },
  {
   "cell_type": "markdown",
   "metadata": {},
   "source": [
    "### Summary of normal approximation tests and confidence intervals\n",
    "\n",
    "It is important to understand the components of the preceding development of confidence intervals and tests based on the normal apprimation for means and proportions. The essential components are \n",
    "\n",
    "\n",
    "+ The estimate of the effect or parameter of interest\n",
    "\n",
    "\n",
    "+ The standard error for the estimate, and \n",
    "\n",
    "\n",
    "+ The desired confidence level or significance level. \n",
    "\n",
    "\n",
    "For a **confidence interval**,  we compute the lower and upper bounds for the populatoin parameter as:\n",
    "\n",
    "$$(\\mbox{estimate} \\pm z_{q} * \\mbox{standard error})$$\n",
    "\n",
    "where $q = 1-{\\alpha\\over 2}$,  $z_q$ solves $P(-z_{q} \\le Z \\le z_{q}) = 1-\\alpha$, and $Z$ represents a Normal(0,1) random variable.\n",
    "\n",
    "To test hypotheses such as $H_0: \\mu = \\mu_0$, or $H_0: \\mu_1 - \\mu_2 = 0$ or $H_0: p_1 - p_2 = 0$  we compute a z-test statistic of the form\n",
    "\n",
    "$$\n",
    "z_{obs} = {\\mbox{estimate} - \\mbox{null expectation} \\over \\mbox{standard error}}\n",
    "$$\n",
    "\n",
    "To test against the two sided alternative with a significance level of $\\alpha$ we can either\n",
    "\n",
    "\n",
    "+ Compare $z_{obs}$ to $z_q$ with $q=1-{\\alpha\\over 2}$; reject $H_0$ if $\\vert z_{obs} \\vert > z_q$; or\n",
    "\n",
    "\n",
    "+ Compute the p_value: pvalue = 2*norm.cdf(-abs(z_obs)); reject $H_0$ if p_value < $\\alpha$.\n",
    "\n"
   ]
  },
  {
   "cell_type": "markdown",
   "metadata": {},
   "source": [
    "### Probabilities of errors\n",
    "\n",
    "What is the $\\alpha$ level of a test? It may be helpful to think of this as the \"false positive\" rate for the test. Consider a test of the null hypothesis,\n",
    "\n",
    "$$\n",
    "H_0: \\mu_1 - \\mu_2 = 0,\n",
    "$$\n",
    "\n",
    "where the difference between the two groups is that group 1 received a promising new treatment, and group 2 received a placebo. Suppose $\\mu$ represents mean time to cure, so a smaller value is better. Patients are randomized into the two groups and treatted accordgingly. At the end of the trial their times to cure are collected a two sample test statistic, z, is computed. The larger $\\vert z \\vert$ is the more evidence against the null hypothesis. If we set a cut off value of $z^*$, then we would\n",
    "\n",
    "$$\n",
    "\\mbox{Reject } H_0 \\mbox{ if  } \\vert z \\vert \\gt z*\n",
    "$$\n",
    "\n",
    "and accept $H_0$ otherwise. What is the probability of falsely rejecting $H_0$ and declaring that the drug works? It is \n",
    "\n",
    "$$\n",
    "\\alpha = P(\\vert Z \\vert > z^* \\vert\\, H_0) \n",
    "$$\n",
    "\n",
    "where the notation here means that the probability calculation is done assuming $H_0$ is correct. We see that the large we set $z^*$, the smaller the probability of declaring a false positive. \n",
    "\n",
    "Why not just make $z^*$ super large so we almost never make an error?\n",
    "\n",
    "The problem is that the larger we make $z^*$, the harder it is to detect a real difference. We lose **power** to detect an effect of medical signficance. We would increase the **false negative** rate. Therefore we have to trade off these two goals, preventing false positives, and detecting true positives in setting our target significance levels. \n",
    "\n",
    "In general, for a given effect size and fixed false postive rate, the only way to increase the true detection rate is to increase the sample size, i.e., run a larger study. However, this comes at a greater cost. Therefore, the planning of large studies will usually require a **power analysis** to determine whether the proposed sample sizes are large enough to detect effect sizes of interest with a reasonable high probability. Power analysis is a topic for advanced courses and a standard component of many research grant proposals."
   ]
  },
  {
   "cell_type": "markdown",
   "metadata": {},
   "source": [
    "### Large sample Z-tests for proportions\n",
    "\n"
   ]
  },
  {
   "cell_type": "markdown",
   "metadata": {},
   "source": [
    "For testing hypotheses about proportions, z-tests of the type described above are available in the statsmodels package. First, let's consider again the Pew Survey example and th edirect computatoins involved in performing the test.\n",
    "\n",
    "**Example: Pew Research Survey Presidential Approval Comparison of independent and \"no preference\" party affiliation.**\n",
    "\n",
    "+ Population approval proportion for independents: $p_1$\n",
    "\n",
    "+ Population approval for \"no party preference\": $p_2$\n",
    "\n",
    "+ Effect of interest: $\\theta = p_1 - p_2$.\n",
    "\n",
    "+ No effect hypothesis:  $H_0: p_1 - p_2 = 0$\n",
    "\n",
    "+ Some effect hypothesis: $H_A: p_1 - p_2 \\ne 0$.\n",
    "\n",
    "The **two-sample** Z test statistic has the form:\n",
    "\n",
    "$$\n",
    "Z = {\\hat{p}_1 - \\hat{p_2} \\over \\sqrt{se_1^2 + se_2^2}}\n",
    "$$\n",
    "\n",
    "with $se_1 = \\sqrt{\\hat{p}(1-\\hat{p}_1)/n_1}$ and $se_2 = \\sqrt{\\hat{p}_2(1-\\hat{p}_2)/n_2}$\n",
    "\n",
    "As we analyze the data we compute the observed value for $Z$, call it $z_{obs}$. The we compute the p-value = $P(\\vert Z \\vert > \\vert z_{obs} \\vert = 2 P(Z \\lt -\\vert z_{obs} \\vert)$. If we have a target signficance level $\\alpha$, then reject $H_0$ if p-value < $\\alpha$ and fail to reject $H_0$ if p-value > $\\alpha$.\n"
   ]
  },
  {
   "cell_type": "markdown",
   "metadata": {},
   "source": [
    "**Direct calculations:** Let's do the calculations using a significance level of $\\alpha=0.10$. We've already calcuated p_diff = $\\hat{p}_1 - \\hat{p}_2$ and se_diff = the standard error for the difference because we needed these previously in order to compute the $90\\%$ confidence interval."
   ]
  },
  {
   "cell_type": "code",
   "execution_count": 34,
   "metadata": {},
   "outputs": [],
   "source": [
    "# extract subset data for independents and \"no preference\"\n",
    "indep = dfpew['q1'][dfpew['party']=='Independent']\n",
    "nopref = dfpew['q1'][dfpew['party']=='No preference (VOL.)']"
   ]
  },
  {
   "cell_type": "code",
   "execution_count": 35,
   "metadata": {},
   "outputs": [],
   "source": [
    "# compute sample proportions and standard errors\n",
    "p_indep = sum(indep=='Approve')/indep.shape[0] \n",
    "p_nopref = sum(nopref=='Approve')/nopref.shape[0]\n",
    "se_indep = np.sqrt(p_indep*(1-p_indep)/indep.shape[0])\n",
    "se_nopref = np.sqrt(p_nopref*(1-p_nopref)/nopref.shape[0])"
   ]
  },
  {
   "cell_type": "code",
   "execution_count": 36,
   "metadata": {},
   "outputs": [],
   "source": [
    "# compute difference between sample proportions and \n",
    "# standard error for difference\n",
    "p_diff = p_indep - p_nopref\n",
    "se_diff = np.sqrt(se_indep**2 + se_nopref**2)"
   ]
  },
  {
   "cell_type": "code",
   "execution_count": 37,
   "metadata": {},
   "outputs": [],
   "source": [
    "# confidence level = 1 - alpha level\n",
    "conf = 0.90\n",
    "# MOE multipler\n",
    "zq = norm.ppf((1+conf)/2)"
   ]
  },
  {
   "cell_type": "code",
   "execution_count": 38,
   "metadata": {},
   "outputs": [],
   "source": [
    "# z-test statistic and p-value\n",
    "z_obs = p_diff/se_diff\n",
    "p_value = 2*norm.cdf(-abs(z_obs))"
   ]
  },
  {
   "cell_type": "code",
   "execution_count": 39,
   "metadata": {},
   "outputs": [
    {
     "name": "stdout",
     "output_type": "stream",
     "text": [
      "p_diff: -0.0206\n",
      "se_diff: 0.078\n",
      "confidence_level: 0.9   zq: 1.6449\n",
      "confidence_interval: (-0.1489, 0.1077)\n",
      "\n",
      "Null_Hypothesis: p1 - p2 = 0\n",
      "z_value -0.2637\n",
      "p_value 0.792\n"
     ]
    }
   ],
   "source": [
    "# display estimates, standard errors, confidence interval\n",
    "# and test results\n",
    "print(\"p_diff:\", round(p_diff, 4))\n",
    "print(\"se_diff:\", round(se_diff, 4))\n",
    "print('confidence_level:', conf, '  zq:', round(zq, 4))\n",
    "print('confidence_interval:', (round(p_diff - zq*se_diff, 4), round(p_diff + zq*se_diff, 4)))\n",
    "print('')\n",
    "print('Null_Hypothesis: p1 - p2 = 0')\n",
    "print('z_value', round(z_obs, 4))\n",
    "print('p_value', round(p_value, 4))"
   ]
  },
  {
   "cell_type": "markdown",
   "metadata": {},
   "source": [
    "Based on these results we fail to reject $H_0$ at level $\\alpha=0.10$. We could easily observe a difference of this magnitude purely by chance!"
   ]
  },
  {
   "cell_type": "markdown",
   "metadata": {},
   "source": [
    "### statsmodels.stats proportions_ztest\n",
    "\n",
    "The calculation above are of a standard type that we could use in many situations. That is strong motivation for bundling the caluclations together into a general purpose function. The **statsmodels** package has just such a function. "
   ]
  },
  {
   "cell_type": "markdown",
   "metadata": {},
   "source": [
    "To install statsmodels from the anaconda command line:\n",
    "\n",
    "    conda install -c conda-forge statsmodels"
   ]
  },
  {
   "cell_type": "code",
   "execution_count": 40,
   "metadata": {},
   "outputs": [],
   "source": [
    "from statsmodels.stats.proportion import proportions_ztest"
   ]
  },
  {
   "cell_type": "code",
   "execution_count": 41,
   "metadata": {},
   "outputs": [],
   "source": [
    "#### Uncomment below for more information about the function:\n",
    "#?proportions_ztest"
   ]
  },
  {
   "cell_type": "markdown",
   "metadata": {},
   "source": [
    "In order to use this function we need to reformat our category counts and sample sizes as illustrated below."
   ]
  },
  {
   "cell_type": "code",
   "execution_count": 42,
   "metadata": {},
   "outputs": [
    {
     "name": "stdout",
     "output_type": "stream",
     "text": [
      "count: [183, 15]\n",
      "nobs: [530, 41]\n"
     ]
    }
   ],
   "source": [
    "# extract approval counts and sample sizes for independents and \"no preference\"\n",
    "count = [sum(dfpew['q1'][dfpew['party']=='Independent']=='Approve'),\n",
    "         sum(dfpew['q1'][dfpew['party']=='No preference (VOL.)']=='Approve')]\n",
    "nobs = [dfpew['q1'][dfpew['party']=='Independent'].shape[0],\n",
    "        dfpew['q1'][dfpew['party']=='No preference (VOL.)'].shape[0]]\n",
    "print(\"count: \"+str(count))\n",
    "print(\"nobs: \"+str(nobs))"
   ]
  },
  {
   "cell_type": "code",
   "execution_count": 43,
   "metadata": {},
   "outputs": [
    {
     "name": "stdout",
     "output_type": "stream",
     "text": [
      "z_obs: -0.266629809915134\n",
      "p_obs: 0.7897542012729419\n"
     ]
    }
   ],
   "source": [
    "z, p = proportions_ztest(count, nobs)\n",
    "print(\"z_obs: \"+str(z))\n",
    "print(\"p_obs: \"+str(p))"
   ]
  },
  {
   "cell_type": "markdown",
   "metadata": {},
   "source": [
    "The results differ in the third decimal place from our direct calculations, because 'proportions_ztest' uses a pooled null hypothesis estimate of the population proportion for computing the standard error. This amounts to setting $\\hat{p}_{10} = \\hat{p}_{20} = (Y_1 + Y_2) / (n_1 + n_2)$ in the standard error formula. This is valid under the null hypothesis.\n",
    "\n",
    "We confirm this below:"
   ]
  },
  {
   "cell_type": "code",
   "execution_count": 44,
   "metadata": {},
   "outputs": [
    {
     "name": "stdout",
     "output_type": "stream",
     "text": [
      "z_obs: -0.266629809915134\n"
     ]
    }
   ],
   "source": [
    "n0 = indep.shape[0] + nopref.shape[0]\n",
    "p0 = (sum(indep=='Approve') + sum(nopref=='Approve'))/n0\n",
    "# compute difference between sample proportions and \n",
    "# pooled standard error for difference\n",
    "p_diff = p_indep - p_nopref\n",
    "se0_indep = np.sqrt(p0*(1-p0)/indep.shape[0])\n",
    "se0_nopref = np.sqrt(p0*(1-p0)/nopref.shape[0])\n",
    "se0_diff = np.sqrt(se0_indep**2 + se0_nopref**2)\n",
    "z0_obs = p_diff/se0_diff\n",
    "print(\"z_obs: \"+str(z0_obs))"
   ]
  },
  {
   "cell_type": "markdown",
   "metadata": {},
   "source": [
    "For our purposes, if we do direct calculations we will normally use the unpooled standard error, because it makes the test and confidence interval equivalent. For testing purposes, both methods are correct and approximately equal in large samples under the null hypothesis."
   ]
  },
  {
   "cell_type": "markdown",
   "metadata": {},
   "source": [
    "**Example: testing a single proportion.**\n",
    "\n",
    "The statsmodels proportions_ztest has options for testing that a single proportion equals a specified value as well. For example, suppose we wished to test if a \"coin\" is fair. We simulate 50 tosses of the coin and get 20 heads. In this case we wish to test:\n",
    "\n",
    "$$\n",
    "H_0: p=0.5 \\quad \\mbox{against} \\quad H_A: p\\ne 0.5.\n",
    "$$\n",
    "\n",
    "We can do the calculations directly to get a z-test:\n",
    "\n",
    "$$\n",
    "z_{obs} = {20 - 25 \\over \\sqrt{50*(0.4)(0.6)}} = -1.44\n",
    "$$\n"
   ]
  },
  {
   "cell_type": "code",
   "execution_count": 45,
   "metadata": {
    "scrolled": true
   },
   "outputs": [
    {
     "name": "stdout",
     "output_type": "stream",
     "text": [
      "z_obs:-1.4433756729740645, p_obs:0.14891467317876572\n"
     ]
    }
   ],
   "source": [
    "z=(20-25)/np.sqrt(50*(0.4)*(0.6))\n",
    "p=2*norm.cdf(-abs(z))\n",
    "print(\"z_obs:\"+str(z)+\", p_obs:\"+ str(p))"
   ]
  },
  {
   "cell_type": "markdown",
   "metadata": {},
   "source": [
    "For comparison, using proportions_ztest we obtain:"
   ]
  },
  {
   "cell_type": "code",
   "execution_count": 46,
   "metadata": {},
   "outputs": [
    {
     "name": "stdout",
     "output_type": "stream",
     "text": [
      "z_obs:-1.443375672974064, p_obs:0.14891467317876578\n"
     ]
    }
   ],
   "source": [
    "zv, pv = proportions_ztest(count=20, nobs=50, value=0.5)\n",
    "print(\"z_obs:\"+str(zv)+\", p_obs:\"+ str(pv))"
   ]
  },
  {
   "cell_type": "markdown",
   "metadata": {},
   "source": [
    "### t-tests for means and mean differences: adjusting for small sample sizes"
   ]
  },
  {
   "cell_type": "markdown",
   "metadata": {},
   "source": [
    "When testing hypotheses about population means, it is more common to use a t-test than a z-test. In large samples ($n > 35$) these are nearly the same. In small samples the t-test makes a degrees-of-freedom adjustment using the so-called t distribution  that is exact if the observations come from a normal distribution, and approximately correct if the observations are not Gaussian.\n",
    "\n",
    "Where does this come from? The original derivation was for a random sample, $X_1, X_2, \\ldots, X_n$ from a **normal distribution** with unknown mean $\\mu$ and standard deviation $\\sigma$. Suppose we wished to test the null hypotheses\n",
    "\n",
    "$$\n",
    "H_0: \\mu=\\mu_0\n",
    "$$\n",
    "\n",
    "We compute the test statistic\n",
    "\n",
    "$$\n",
    "Z = {\\bar{X} - \\mu_0 \\over {s/\\sqrt{n}}}.\n",
    "$$\n",
    "\n",
    "Under $H_0$ this is approximately a standard normal random variable if $n$ is large, but what is its exact distribution? This was derived in the early 20th century by S. Gossett under the pseudonym, \"student.\" We refer to the distribution he derived as student's t distribution with $n-1$ degrees of freedom. This is strictly correct only if the sample is from a normal distribution. The t distribution resembles the normal distribution except that it has heavier tails and less probability in the middle. As the degrees of freedom become large (sample get larger), the t distribution with n-1 degrees of freedom converges to the standard normal distribution.\n"
   ]
  },
  {
   "cell_type": "code",
   "execution_count": 47,
   "metadata": {},
   "outputs": [],
   "source": [
    "from scipy.stats import t\n",
    "from scipy.stats import ttest_ind"
   ]
  },
  {
   "cell_type": "code",
   "execution_count": 48,
   "metadata": {},
   "outputs": [
    {
     "data": {
      "image/png": "[encoded data removed]",
      "text/plain": [
       "<Figure size 432x288 with 1 Axes>"
      ]
     },
     "metadata": {
      "needs_background": "light"
     },
     "output_type": "display_data"
    }
   ],
   "source": [
    "# set the degrees of freedom\n",
    "df = 6\n",
    "#\n",
    "# grid for plotting the pdfs\n",
    "#\n",
    "x = np.linspace(norm.ppf(0.001), norm.ppf(0.999))\n",
    "#\n",
    "# plot the t pdf\n",
    "#\n",
    "plt.plot(x, t.pdf(x, df), 'r-', lw=4, label='t pdf')\n",
    "#\n",
    "# add the normal pdf\n",
    "#\n",
    "plt.plot(x, norm.pdf(x), 'b--', lw=2, label='normal pdf')\n",
    "#\n",
    "# label the curves\n",
    "#\n",
    "plt.legend()\n",
    "#\n",
    "# display the graph\n",
    "#\n",
    "plt.show()"
   ]
  },
  {
   "cell_type": "code",
   "execution_count": 49,
   "metadata": {},
   "outputs": [
    {
     "data": {
      "image/png": "[encoded data removed]",
      "text/plain": [
       "<Figure size 432x288 with 1 Axes>"
      ]
     },
     "metadata": {
      "needs_background": "light"
     },
     "output_type": "display_data"
    }
   ],
   "source": [
    "# Zoom in on one tail\n",
    "xx = np.linspace(norm.ppf(0.95), t.ppf(0.999, df))\n",
    "plt.plot(xx, t.pdf(xx, df), 'r-', lw=4, label='t pdf')\n",
    "plt.plot(xx, norm.pdf(xx), 'b--', lw=2, label='normal pdf')\n",
    "plt.legend()\n",
    "plt.show()"
   ]
  },
  {
   "cell_type": "markdown",
   "metadata": {},
   "source": [
    "For comparison of two independent samples the degrees of freedom calculation is more complicated unless we believe the two populations have the same standard deviations. Common practice currently is to avoid assuming equal standard deviations and use a more general approximate t-test attributed to Welch. Let's apply it to the Lead exposure study."
   ]
  },
  {
   "cell_type": "markdown",
   "metadata": {},
   "source": [
    "### Example: t-test for mean age difference in the lead exposure study.\n"
   ]
  },
  {
   "cell_type": "code",
   "execution_count": 50,
   "metadata": {},
   "outputs": [
    {
     "data": {
      "text/plain": [
       "Ttest_indResult(statistic=1.6391103626442254, pvalue=0.10439536085091142)"
      ]
     },
     "execution_count": 50,
     "metadata": {},
     "output_type": "execute_result"
    }
   ],
   "source": [
    "# read csv file from 'data' folder\n",
    "# import three specific variables from the csv file\n",
    "#\n",
    "dfage = pd.read_csv('../data/lead.csv')[['group', 'age']]\n",
    "#\n",
    "# extract ages for the two exposure groups\n",
    "#\n",
    "age1 = dfage['age'][dfage['group']=='lead < 40']\n",
    "age2 = dfage['age'][dfage['group']=='lead >= 40']\n",
    "#\n",
    "# two sample t test\n",
    "#\n",
    "ttest_ind(age1, age2, equal_var=False)"
   ]
  },
  {
   "cell_type": "markdown",
   "metadata": {},
   "source": [
    "Previously, using the z test approach we computed the z-test statistic: "
   ]
  },
  {
   "cell_type": "code",
   "execution_count": 51,
   "metadata": {},
   "outputs": [
    {
     "name": "stdout",
     "output_type": "stream",
     "text": [
      "z_value 1.6391103626442254\n",
      "p_value 0.10119027727733729\n"
     ]
    }
   ],
   "source": [
    "diff = age1.mean() - age2.mean()\n",
    "se_diff = np.sqrt((age1.std()**2/len(age1)) + (age2.std()**2/len(age2)))\n",
    "z_obs = diff/se_diff\n",
    "print('z_value', z_obs)\n",
    "print('p_value', 2*norm.cdf(-abs(z_obs)))"
   ]
  },
  {
   "cell_type": "markdown",
   "metadata": {},
   "source": [
    "We see that the **statistic** is exactly the same, subject to rounding error. The **p-values** we computed using the two methods are very close but not the same, because the ttest result replaces the normal approximation with the Welch t test approximation. The samples sizes were:"
   ]
  },
  {
   "cell_type": "code",
   "execution_count": 52,
   "metadata": {},
   "outputs": [
    {
     "data": {
      "text/plain": [
       "(78, 46)"
      ]
     },
     "execution_count": 52,
     "metadata": {},
     "output_type": "execute_result"
    }
   ],
   "source": [
    "len(age1), len(age2)"
   ]
  },
  {
   "cell_type": "markdown",
   "metadata": {},
   "source": [
    "These are both large enough that the t distribution, which has degrees of freedom at least as large as the minimum sample size, is very close to the normal distribution.\n",
    "\n",
    "For general practice the t test for means is recommended over the z-test for means, due to its improved accuracy in smaller normal samples. In large samples it will give results very close to teh z-test for the means."
   ]
  },
  {
   "cell_type": "markdown",
   "metadata": {},
   "source": [
    "#### Degrees of freedom for Welch two sample t test\n",
    "\n",
    "The degrees of freedom for the one-sample test equal $n-1$. For the two-sample test using the Welch version, the degrees of freedom have a formula that adjusts for the amount of variation between the standard error estimates. Specifically (and you don't have to memorize this!),\n",
    "\n",
    "$$\n",
    "\\mbox{Welch t-test degrees of freedom} = {\\left( se_1^2 + se_2^2 \\right )^2\n",
    "\\over {se_1^4 \\over n_1-1} + {se_2^4 \\over n_2-1}}\n",
    "= {se_{diff}^4 \\over {se_1^4 \\over n_1-1} + {se_2^4 \\over n_2-1}}\n",
    "$$\n",
    "\n",
    "where $se_1=s_1/\\sqrt{n_1}$ and $se_2=s_2/\\sqrt{n_2}$. Notice the extreme cases:\n",
    "\n",
    "+ If $se_1 >> se_2$, then the degrees of freedom $\\approx$ $n_1 - 1$\n",
    "+ If $se_1 << se_2$, then the degrees of freedom $\\approx$ $n_2 - 1$"
   ]
  },
  {
   "cell_type": "markdown",
   "metadata": {},
   "source": [
    "### Modified function to return the Welch t-test, degrees of freedom and confidence interval\n",
    "\n",
    "Although the statsmodels function ttest_ind is handy for testing purposes, we might wish to extract both the degrees of freedom and a confidence interval. Here's a specialized function to do that. Note that it returns the results in the form of a python **dictionary**, which is a list of labeled items."
   ]
  },
  {
   "cell_type": "code",
   "execution_count": 53,
   "metadata": {},
   "outputs": [],
   "source": [
    "def myttest_ind(dat1, dat2, value=0, conf=0.95):\n",
    "    #\n",
    "    # sample summary statistics\n",
    "    #\n",
    "    mn1, mn2 = np.mean(dat1), np.mean(dat2)\n",
    "    n1, n2 = len(dat1), len(dat2)\n",
    "    se1 = np.std(dat1, ddof=1)/np.sqrt(n1)\n",
    "    se2 = np.std(dat2, ddof=1)/np.sqrt(n2)\n",
    "    #\n",
    "    # mean difference and standard error\n",
    "    #\n",
    "    diff = mn1 - mn2\n",
    "    se_diff = np.sqrt(se1**2 + se2**2)\n",
    "    #\n",
    "    # Welch t test degrees of freedom\n",
    "    #\n",
    "    deg = se_diff**4 / ((se1**4/(n1-1)) + (se2**4/(n2-1)))\n",
    "    #\n",
    "    # test statistic, pvalue and t confidence interval\n",
    "    #\n",
    "    statistic = (diff - value)/se_diff\n",
    "    tcut = t.ppf((1+conf)/2, deg)\n",
    "    pvalue = 2*t.cdf(-abs(statistic), deg)\n",
    "    interval = (diff - tcut*se_diff, diff + tcut*se_diff)\n",
    "    #\n",
    "    # return results as a dictionary\n",
    "    #\n",
    "    return {'statistic': statistic, \n",
    "            'pvalue': pvalue, \n",
    "            'df': deg, \n",
    "            'conf': conf, \n",
    "            'interval': interval}"
   ]
  },
  {
   "cell_type": "code",
   "execution_count": 54,
   "metadata": {},
   "outputs": [
    {
     "data": {
      "text/plain": [
       "{'statistic': 1.6391103626442256,\n",
       " 'pvalue': 0.10439536085091138,\n",
       " 'df': 98.04406396190795,\n",
       " 'conf': 0.95,\n",
       " 'interval': (-0.22292463432966447, 2.3390524408262605)}"
      ]
     },
     "execution_count": 54,
     "metadata": {},
     "output_type": "execute_result"
    }
   ],
   "source": [
    "results = myttest_ind(age1, age2, conf=0.95)\n",
    "results"
   ]
  },
  {
   "cell_type": "markdown",
   "metadata": {},
   "source": [
    "Because of the varying types in the returned value of the function, we formatted the results as a **dictionary**, which is a set of keys and values of the form:\n",
    "\n",
    "    {'key1': value1, 'key2': value2, ....}\n",
    "    \n",
    "This allows us to include the confidence interval, which is a 'tuple', in the output.\n",
    "\n",
    "We can extract elements of the dictionary with a dict['element'] call as in the following example:"
   ]
  },
  {
   "cell_type": "code",
   "execution_count": 55,
   "metadata": {},
   "outputs": [
    {
     "name": "stdout",
     "output_type": "stream",
     "text": [
      "accept null hypothesis\n"
     ]
    }
   ],
   "source": [
    "# display decision based on alpha level and pvalue\n",
    "alpha = 1 - results['conf']\n",
    "if results['pvalue'] < alpha:\n",
    "    print('reject null hypothesis')\n",
    "else:\n",
    "    print('accept null hypothesis')"
   ]
  },
  {
   "cell_type": "markdown",
   "metadata": {},
   "source": [
    "---\n",
    "STAT 207, Douglas Simpson, University of Illinois at Urbana-Champaign"
   ]
  }
 ],
 "metadata": {
  "kernelspec": {
   "display_name": "Python 3",
   "language": "python",
   "name": "python3"
  },
  "language_info": {
   "codemirror_mode": {
    "name": "ipython",
    "version": 3
   },
   "file_extension": ".py",
   "mimetype": "text/x-python",
   "name": "python",
   "nbconvert_exporter": "python",
   "pygments_lexer": "ipython3",
   "version": "3.8.3"
  }
 },
 "nbformat": 4,
 "nbformat_minor": 2
}
