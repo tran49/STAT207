{
 "cells": [
  {
   "cell_type": "markdown",
   "metadata": {},
   "source": [
    "### STAT 207 Lab 5: Sampling Distribution, Standard Error and Confidence Interval"
   ]
  },
  {
   "cell_type": "markdown",
   "metadata": {},
   "source": [
    "Tuan Tran-atran49"
   ]
  },
  {
   "cell_type": "markdown",
   "metadata": {},
   "source": [
    "### SOLUTIONS"
   ]
  },
  {
   "cell_type": "markdown",
   "metadata": {},
   "source": [
    "This lab consists of 2 main parts. You may add as many cells as you need in order to do the exercises. To add cells use the \"Insert\" tab from the menu bar above and select \"insert cell above\" or \"insert cell below\", and then select \"code\" or \"Markdown\" for the type of cell you want. \n",
    "\n",
    "**Note: not every problem in this lab requires Python calculation. In some cases you can just work it out and type in your solution.** \n"
   ]
  },
  {
   "cell_type": "markdown",
   "metadata": {},
   "source": [
    "### Part 1: Continuous Uniform Distribution (14 pts)\n",
    "\n",
    "A random variable $X$ has a **uniform** distribution on the interval from $a$ to $b$ ($a < b$) if its probability density function (pdf) has a constant height $c=1/(b-a)$ over the interval from $a$ to $b$, and is zero outside the interval. The following questions in Part 1 refer to uniform random variables.\n",
    "\n",
    "The model is available in SciPy as **scipy.stats.uniform** with the parameters **loc=a** (lower endpoint of interval) and **scale=b-a** (width of interval).\n"
   ]
  },
  {
   "cell_type": "markdown",
   "metadata": {},
   "source": [
    "**a) (2 pts) Consider the uniform distribution with $a=-1$ and $b=4$. This is the distribution of a random real number between -1 and 4. Use scipy.stats.uniform to compute the height of the pdf between -1 and 4.**"
   ]
  },
  {
   "cell_type": "code",
   "execution_count": 1,
   "metadata": {},
   "outputs": [],
   "source": [
    "import numpy as np\n",
    "import pandas as pd\n",
    "from scipy.stats import uniform\n",
    "from scipy.stats import norm"
   ]
  },
  {
   "cell_type": "code",
   "execution_count": 2,
   "metadata": {},
   "outputs": [
    {
     "data": {
      "text/plain": [
       "0.2"
      ]
     },
     "execution_count": 2,
     "metadata": {},
     "output_type": "execute_result"
    }
   ],
   "source": [
    "uniform.pdf(0,loc=-1,scale=5)"
   ]
  },
  {
   "cell_type": "markdown",
   "metadata": {},
   "source": [
    "**b) (2 pts) Explain how you could determine the height $c$ directly from the description of the uniform pdf, without using python. Recall that the total area under the pdf curve must equal 1.**"
   ]
  },
  {
   "cell_type": "markdown",
   "metadata": {},
   "source": [
    "For uniform distribution on the interval from a to b (a<b). Height can be calculated:\n",
    "$$\n",
    "Area=Base\\cdot Height= (b-a)\\cdot c=1\\\\\n",
    "\\\\c= \\frac{1}{b-a}\n",
    "$$"
   ]
  },
  {
   "cell_type": "markdown",
   "metadata": {},
   "source": [
    "$$\n",
    "C=\\frac{1}{4-(-1)}=\\frac{1}{5}=0.2\n",
    "$$"
   ]
  },
  {
   "cell_type": "markdown",
   "metadata": {},
   "source": [
    "**c) (2 pts) If X is a continuous random variable with a uniform distribution of [-1,4], use Python to calculate the mean $\\sigma = E[\\bar{x}]$ and the population standard deviation $\\sigma$ for X.**"
   ]
  },
  {
   "cell_type": "code",
   "execution_count": 3,
   "metadata": {},
   "outputs": [
    {
     "name": "stdout",
     "output_type": "stream",
     "text": [
      "Mean:  1.5\n",
      "SD:  1.4433756729740643\n"
     ]
    }
   ],
   "source": [
    "print(\"Mean: \",uniform.mean(loc=-1,scale=5))\n",
    "print(\"SD: \",uniform.std(loc=-1,scale=5))"
   ]
  },
  {
   "cell_type": "markdown",
   "metadata": {},
   "source": [
    "**d) (2 pts) Suppose $X_1, X_2, \\ldots, X_{36}$ is a random sample of 36 observations from the uniform distribution on $[-1,4]$. Let $\\bar{X} = {1\\over 36} \\sum_{i=1}^{36} X_i$. Compute the population mean, $E(\\bar{X})$, and population standard deviation for $\\bar{X}$. Hint: study the square root rule in the notes.**"
   ]
  },
  {
   "cell_type": "code",
   "execution_count": 4,
   "metadata": {},
   "outputs": [
    {
     "name": "stdout",
     "output_type": "stream",
     "text": [
      "population mean:  1.5\n",
      "population standard deviation:  0.24056261216234406\n"
     ]
    }
   ],
   "source": [
    "pop_mean= uniform.mean(loc=-1,scale=5)\n",
    "pop_std=(uniform.std(loc=-1,scale=5)/np.sqrt(36))\n",
    "print(\"population mean: \",pop_mean)\n",
    "print(\"population standard deviation: \", pop_std)"
   ]
  },
  {
   "cell_type": "markdown",
   "metadata": {},
   "source": [
    "$$\n",
    "E[\\bar X]=\\mu=1.5\n",
    "$$"
   ]
  },
  {
   "cell_type": "markdown",
   "metadata": {},
   "source": [
    "$$\n",
    "\\sigma=\\sqrt{\\frac{(b-a)^2}{12}}=\\sqrt{\\frac{5^2}{12}}=\\sqrt{\\frac{25}{12}} \\approx 1.443\n",
    "$$"
   ]
  },
  {
   "cell_type": "markdown",
   "metadata": {},
   "source": [
    "$$\n",
    "SD[\\bar{X}] = {\\sigma\\over \\sqrt{n}}= \\frac{1.443}{\\sqrt{36}}\\approx 0.241\n",
    "$$"
   ]
  },
  {
   "cell_type": "markdown",
   "metadata": {},
   "source": [
    "**e) (4 pts) Use Python to generate a random sample of 36 observations from the uniform distribution on $[-1,4]$. Save them as a data frame or series and display them. In addition, compute and display the sample mean, the sample standard deviation, and the standard error for the sample mean $\\bar{X}$. Show your work in the cells below.**"
   ]
  },
  {
   "cell_type": "markdown",
   "metadata": {},
   "source": [
    "**i) Random sample:**"
   ]
  },
  {
   "cell_type": "code",
   "execution_count": 5,
   "metadata": {},
   "outputs": [
    {
     "data": {
      "text/plain": [
       "array([ 1.03892502e+00,  3.96457073e+00,  1.62267254e-02, -3.90239963e-01,\n",
       "        8.67995469e-01,  4.89953172e-02,  1.20534562e+00,  1.20995511e+00,\n",
       "        1.16001130e+00, -1.98422465e-01,  3.21251484e-01,  1.56962269e+00,\n",
       "       -4.02005543e-01,  7.37262844e-02,  3.25399433e+00,  4.94929316e-01,\n",
       "        2.31244135e+00,  2.90944766e+00,  7.98232889e-01,  1.37845773e+00,\n",
       "        1.45002032e+00,  3.83114624e+00,  6.42385267e-01,  4.12905525e-01,\n",
       "        9.96352269e-01,  2.17060897e+00,  3.48342804e+00, -5.72701914e-01,\n",
       "        1.39452258e+00,  1.38019931e+00, -9.44639539e-01, -2.10777677e-03,\n",
       "        3.02659315e+00,  4.70215531e-01,  5.48606274e-01,  4.51923537e-01])"
      ]
     },
     "execution_count": 5,
     "metadata": {},
     "output_type": "execute_result"
    }
   ],
   "source": [
    "df=uniform.rvs(loc=-1,scale=5,size=36)\n",
    "df"
   ]
  },
  {
   "cell_type": "markdown",
   "metadata": {},
   "source": [
    "**ii) Sample mean:**"
   ]
  },
  {
   "cell_type": "code",
   "execution_count": 6,
   "metadata": {},
   "outputs": [
    {
     "name": "stdout",
     "output_type": "stream",
     "text": [
      "mean:  1.1214699681150837\n"
     ]
    }
   ],
   "source": [
    "print(\"mean: \",df.mean())"
   ]
  },
  {
   "cell_type": "markdown",
   "metadata": {},
   "source": [
    "**iii) Sample standard deviation:**"
   ]
  },
  {
   "cell_type": "code",
   "execution_count": 7,
   "metadata": {},
   "outputs": [
    {
     "name": "stdout",
     "output_type": "stream",
     "text": [
      "standard deviation:  1.2561608929107893\n"
     ]
    }
   ],
   "source": [
    "print(\"standard deviation: \",df.std())"
   ]
  },
  {
   "cell_type": "markdown",
   "metadata": {},
   "source": [
    "**iv) Standard error for the sample mean:**"
   ]
  },
  {
   "cell_type": "code",
   "execution_count": 8,
   "metadata": {},
   "outputs": [
    {
     "name": "stdout",
     "output_type": "stream",
     "text": [
      "standard error:  0.20936014881846488\n"
     ]
    }
   ],
   "source": [
    "se=df.std()/np.sqrt(36)\n",
    "print(\"standard error: \",se)"
   ]
  },
  {
   "cell_type": "markdown",
   "metadata": {},
   "source": [
    "**f) (2 pts) According to the Central Limit Theorem, $\\bar{X}$ is approximately normally distributed. You computed its population mean and standard deviation above. Use these results and the scipy 'norm' function to compute the approximate value for $P(\\bar{X} \\ge 2)$.**"
   ]
  },
  {
   "cell_type": "code",
   "execution_count": 9,
   "metadata": {},
   "outputs": [
    {
     "data": {
      "text/plain": [
       "0.018833461114314387"
      ]
     },
     "execution_count": 9,
     "metadata": {},
     "output_type": "execute_result"
    }
   ],
   "source": [
    "1-norm.cdf(2,loc=pop_mean,scale=pop_std)"
   ]
  },
  {
   "cell_type": "markdown",
   "metadata": {},
   "source": [
    "### Part 2: Normal random sample (11 pts)\n",
    "\n",
    "**Run the code below to generate a random sample from the normal distribution.**"
   ]
  },
  {
   "cell_type": "code",
   "execution_count": 10,
   "metadata": {},
   "outputs": [],
   "source": [
    "import pandas as pd\n",
    "import numpy as np\n",
    "from scipy.stats import norm"
   ]
  },
  {
   "cell_type": "code",
   "execution_count": 11,
   "metadata": {},
   "outputs": [],
   "source": [
    "samp = pd.Series(norm.rvs(loc=12.87, scale=3.14, size=20, random_state=1000))"
   ]
  },
  {
   "cell_type": "markdown",
   "metadata": {},
   "source": [
    "**a) (2 pts) Compute and display the sample mean and sample standard deviation for the random sample.**"
   ]
  },
  {
   "cell_type": "code",
   "execution_count": 12,
   "metadata": {},
   "outputs": [
    {
     "name": "stdout",
     "output_type": "stream",
     "text": [
      "Sample mean 12.681\n",
      "Sample standard deviation 2.036\n"
     ]
    }
   ],
   "source": [
    "mean=samp.mean()\n",
    "std=samp.std()\n",
    "print(\"Sample mean\",round(mean,3))\n",
    "print(\"Sample standard deviation\", round(std,3))"
   ]
  },
  {
   "cell_type": "markdown",
   "metadata": {},
   "source": [
    "**b) (1 pt) Compute the standard error for the sample mean, based on the generated data.**"
   ]
  },
  {
   "cell_type": "code",
   "execution_count": 13,
   "metadata": {},
   "outputs": [
    {
     "name": "stdout",
     "output_type": "stream",
     "text": [
      "Standar error: 0.455\n"
     ]
    }
   ],
   "source": [
    "n=20\n",
    "se=round((std/np.sqrt(n)),3)\n",
    "print(\"Standar error:\",se)"
   ]
  },
  {
   "cell_type": "markdown",
   "metadata": {},
   "source": [
    "**c) (2 pts) In order to compute an approximate 92% confidence interval for the population mean based on the sample, we need to compute the standard error multiplier, $z_{0.96}$. Compute $z_{0.96}$ using appropropriate python fuctions.**"
   ]
  },
  {
   "cell_type": "code",
   "execution_count": 14,
   "metadata": {},
   "outputs": [
    {
     "data": {
      "text/plain": [
       "1.7506860712521692"
      ]
     },
     "execution_count": 14,
     "metadata": {},
     "output_type": "execute_result"
    }
   ],
   "source": [
    "zq=norm.ppf(0.96)\n",
    "zq"
   ]
  },
  {
   "cell_type": "markdown",
   "metadata": {},
   "source": [
    "**d) (2 pts) calculate and display the endpoints of the approximate 92% confidence interval for the population mean $\\mu$ based on the generated data.**"
   ]
  },
  {
   "cell_type": "code",
   "execution_count": 15,
   "metadata": {},
   "outputs": [
    {
     "name": "stdout",
     "output_type": "stream",
     "text": [
      "Confidence limits:  (11.885, 13.478)\n"
     ]
    }
   ],
   "source": [
    "print(\"Confidence limits: \",(round(mean-zq*se,3),round(mean+zq*se,3)))"
   ]
  },
  {
   "cell_type": "markdown",
   "metadata": {},
   "source": [
    "**e) (1 pt) Does the interval you computed in d) contain the true population mean in this case? What is the numerical value of the population mean?**"
   ]
  },
  {
   "cell_type": "markdown",
   "metadata": {},
   "source": [
    "Yes, the interval (11.876,13.487) contains the population mean $\\bar x=12.87$"
   ]
  },
  {
   "cell_type": "markdown",
   "metadata": {},
   "source": [
    "**f) (3 pts) If $\\bar{X}$ is the sample mean for a random sample of size 20 generated using the method used here in Part 2 of the lab, what is the population distribution of $\\bar{X}$? State the family and determine the numerical values for its population parameters such as mean and standard deviation.**"
   ]
  },
  {
   "cell_type": "markdown",
   "metadata": {},
   "source": [
    "It is normal distribution. The mean of $\\bar{X}$ will be the same with the mean of population ($E[\\bar{X}]=\\mu=12.87$). The standard deviation will be computed by applying square root theorem: $SD[\\bar{X}] = {\\sigma\\over \\sqrt{n}}={3.14 \\over \\sqrt{20}} \\approx 0.7$"
   ]
  }
 ],
 "metadata": {
  "kernelspec": {
   "display_name": "Python 3",
   "language": "python",
   "name": "python3"
  },
  "language_info": {
   "codemirror_mode": {
    "name": "ipython",
    "version": 3
   },
   "file_extension": ".py",
   "mimetype": "text/x-python",
   "name": "python",
   "nbconvert_exporter": "python",
   "pygments_lexer": "ipython3",
   "version": "3.8.3"
  }
 },
 "nbformat": 4,
 "nbformat_minor": 2
}
