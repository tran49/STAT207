{
 "cells": [
  {
   "cell_type": "markdown",
   "metadata": {},
   "source": [
    "### STAT 207 Lab 4: Distributions and random variables"
   ]
  },
  {
   "cell_type": "markdown",
   "metadata": {},
   "source": [
    "Due: Tuesday, September 22, 23:59:59 CST"
   ]
  },
  {
   "cell_type": "markdown",
   "metadata": {},
   "source": [
    "This lab consists of 3 main parts. You may add as many cells as you need in order to do the excercises. To add cells use the \"Insert\" tab from the menu bar above and select \"insert cell above\" or \"insert cell below\". In some cases, you will need to import certain python libraries before doing calculations.\n",
    "\n",
    "Please use Markdown cells above or below your code cells to explain your results. Make sure graders know that you understand what your code is doing.\n",
    "\n",
    "**Note: not every problem in this lab requires Python calculation. In some cases you can just work it out and type in your solution.**\n",
    "\n"
   ]
  },
  {
   "cell_type": "markdown",
   "metadata": {},
   "source": [
    "### Part 1: Bernoulli random variables (8 pts)"
   ]
  },
  {
   "cell_type": "markdown",
   "metadata": {},
   "source": [
    "**a) (2 pts) A Bernoulli random variable can only take two possible values: 0 or 1. Suppose $X$ is a Bernoulli random variable and $P(X=1)=0.7$. What does $P(X=0)$ equal? (answer only).**"
   ]
  },
  {
   "cell_type": "markdown",
   "metadata": {},
   "source": [
    "$$\n",
    "P(X=0)=1-P(X=1)= 1-0.7= 0.3\n",
    "$$"
   ]
  },
  {
   "cell_type": "markdown",
   "metadata": {},
   "source": [
    "**b) (2 pts) The population mean $\\mu$ of a discrete random variable $X$ with possible values $x_1, x_2, \\ldots$ is given by**\n",
    "\n",
    "$$\n",
    "\\mu = E[X] = x_1 P(X=x_1) + x_2 P(X=x_2) + \\ldots \n",
    "$$\n",
    "\n",
    "**where the sum ranges over all possible values $x_i$ for $X$. If $X$ is a Bernoulli random variable with $P(X=1)= 0.7$, find  $E[X]$ by hand (i.e. not using Python functions). Show how you calculated it.**\n"
   ]
  },
  {
   "cell_type": "markdown",
   "metadata": {},
   "source": [
    "$$\\mu= 1P(X=1) + 0P(X=0)= 1(0.7) + 0(0.3)= 0.7$$"
   ]
  },
  {
   "cell_type": "markdown",
   "metadata": {},
   "source": [
    "**c) (2 pts) The variance of a random variable with mean $\\mu$ is given by**\n",
    "\n",
    "$$\n",
    "\\sigma^2 = Var(X) = E[(X-\\mu)^2] = (x_1-\\mu)^2 \\cdot P(X=x_1) + (x_2-\\mu)^2 \\cdot P(X=x_2) + \\ldots \n",
    "$$\n",
    "\n",
    "**If $X$ is a Bernoulli random variable and $P(X=1)=0.7$, compute the variance by hand. (show work)**"
   ]
  },
  {
   "cell_type": "markdown",
   "metadata": {},
   "source": [
    "$$\n",
    "\\sigma^2= (1-0.7)^2\\cdot P(x=1) + (0-0.7)^2\\cdot P(X=0)= 0.3^2\\cdot 0.7 + 0.7^2\\cdot 0.3=0.21\n",
    "$$"
   ]
  },
  {
   "cell_type": "markdown",
   "metadata": {},
   "source": [
    "**d) (2 pts) \n",
    "We discussed in class that for *any* Bernoulli random variable $X$ with $P(X=1) = p, P(X=0)=1-p$, where $0 <p<1$, it is the case that the population mean and variance for $X$ are given by $\\mu=p$ and $\\sigma^2 = p(1-p)$. Prove this.**\n",
    "\n",
    "* Hint: Go through the motions of how you calculated $\\mu$ and $\\sigma^2$ above, but now use \"$p$\" instead of that \"0.7\" you were using above. \n",
    "* Hint: Then try to simplify the expressions into the given forms, showing how."
   ]
  },
  {
   "cell_type": "markdown",
   "metadata": {},
   "source": [
    "$$\n",
    "E[X] = 0*(1-p) + 1*p = p\n",
    "$$\n",
    "\n",
    "$$\n",
    "E[(X-p)^2] = (0-p)^2 (1-p) + (1-p)^2 p = p(1-p)(p + 1 - p) = p(1-p)\n",
    "$$"
   ]
  },
  {
   "cell_type": "markdown",
   "metadata": {},
   "source": [
    "### Part 2: Normal Distribution (8 pts)"
   ]
  },
  {
   "cell_type": "markdown",
   "metadata": {},
   "source": [
    "The normal family of distributions are used widely in practice, both because of the Central Limit Theorem for the large sample distribution of averages, and because many types of measurements appear to follow a normal distribution to a reasonable approximation. The SciPy.stats library provides the 'norm' function with methods for computing the probability density function (.pdf), cumulative distribution function (.cdf), percent point function (.ppf - like the quantile function for data), random variate generation (.rvs), and other parameters (.mean, .std, .median etc). Please study the documentation here:\n",
    "[scipy.stats.norm](https://docs.scipy.org/doc/scipy/reference/generated/scipy.stats.norm.html#scipy.stats.norm)\n",
    "\n",
    "Let's let 'norm' help us experiment with the normal distribution. \n",
    "\n",
    "Recall in class, we discussed some of the population parameter functions that we can use on various scipy.stat distributions (like 'norm') to calculate things like: \n",
    "\n",
    "* the .cdf() of the distribution, \n",
    "\n",
    "* the .median() of the distribution,\n",
    "\n",
    "* a given percentile (ie. .ppf() of the distribution,\n",
    "\n",
    "* the .mean() of the distribution,\n",
    "\n",
    "* the .var() (ie. variance) of the distribution, and\n",
    "\n",
    "* the .std() (ie. standard deviation) of the distribution.\n",
    "\n",
    "Most random variable distributions require additional information (ie parameters) to decribe the distribution. For instance, in the normal distribution we need to know the mean $\\mu$ and standard deviation $\\sigma$ ahead of time to describe the distribution.  \n",
    "\n",
    "So most distributions from scipy.stats (like 'norm'), need additional parameters specified inside these population parameter functions listed above.\n",
    "\n",
    "So specifically inside your norm.POPUPLATION_PARAMETER_FUNCTION(), you need to write 'loc=YOUR_MEAN' and 'scale=YOUR_STANDARD_DEVIATION' (For instance, norm.var(loc=3,scale=22) will return the variance of a normal distribution with mean 3 and standard deviation 22.)"
   ]
  },
  {
   "cell_type": "code",
   "execution_count": 1,
   "metadata": {},
   "outputs": [],
   "source": [
    "from scipy.stats import norm\n",
    "import pandas as pd"
   ]
  },
  {
   "cell_type": "markdown",
   "metadata": {},
   "source": [
    "**a) (2 pts) Use the scipy.stats .mean( ) and .std( ) methods to show that the distribution implemented by the 'norm' function with loc=4 and scale=1 has mean 4 and standard devation 1.**"
   ]
  },
  {
   "cell_type": "code",
   "execution_count": 2,
   "metadata": {},
   "outputs": [
    {
     "data": {
      "text/plain": [
       "4.0"
      ]
     },
     "execution_count": 2,
     "metadata": {},
     "output_type": "execute_result"
    }
   ],
   "source": [
    "#mean\n",
    "norm.mean(loc=4,scale=1)"
   ]
  },
  {
   "cell_type": "code",
   "execution_count": 3,
   "metadata": {},
   "outputs": [
    {
     "data": {
      "text/plain": [
       "1.0"
      ]
     },
     "execution_count": 3,
     "metadata": {},
     "output_type": "execute_result"
    }
   ],
   "source": [
    "# standard deviation\n",
    "norm.std(loc=4,scale=1)"
   ]
  },
  {
   "cell_type": "markdown",
   "metadata": {},
   "source": [
    "**b) (2 pts) Suppose the random variable $X$ is normally distributed with mean 6 and standard deviation 2. Compute $P(X \\le 8)$.**"
   ]
  },
  {
   "cell_type": "code",
   "execution_count": 4,
   "metadata": {},
   "outputs": [
    {
     "data": {
      "text/plain": [
       "0.8413447460685429"
      ]
     },
     "execution_count": 4,
     "metadata": {},
     "output_type": "execute_result"
    }
   ],
   "source": [
    "norm.cdf(8, loc=6, scale=2)"
   ]
  },
  {
   "cell_type": "markdown",
   "metadata": {},
   "source": [
    "**c) (2 pts) If $X$ normally distributed with mean 6 and standard deviation 2, compute $P(4 \\lt X \\le 8)$**"
   ]
  },
  {
   "cell_type": "code",
   "execution_count": 5,
   "metadata": {},
   "outputs": [
    {
     "data": {
      "text/plain": [
       "0.6826894921370859"
      ]
     },
     "execution_count": 5,
     "metadata": {},
     "output_type": "execute_result"
    }
   ],
   "source": [
    "norm.cdf(8, loc=6, scale=2)-norm.cdf(4, loc=6, scale=2)"
   ]
  },
  {
   "cell_type": "markdown",
   "metadata": {},
   "source": [
    "**e) (2 pts) If $X$ is normal with mean 6 and standard deviation 2, compute the 75th percentile of its distribution.**"
   ]
  },
  {
   "cell_type": "markdown",
   "metadata": {},
   "source": [
    "Using the z-score table, 75th percentile is at z=0.675, Therefore:\n",
    "$$\n",
    "X=\\mu + \\sigma \\cdot z = 6 + 2\\cdot 0.675=7.35\n",
    "$$\n",
    "\n"
   ]
  },
  {
   "cell_type": "code",
   "execution_count": 6,
   "metadata": {},
   "outputs": [
    {
     "data": {
      "text/plain": [
       "7.348979500392163"
      ]
     },
     "execution_count": 6,
     "metadata": {},
     "output_type": "execute_result"
    }
   ],
   "source": [
    "norm.ppf(0.75,loc=6, scale=2)"
   ]
  },
  {
   "cell_type": "markdown",
   "metadata": {},
   "source": [
    "### Part 3: Sampling from the Normal distribution (9 pts)\n",
    "\n",
    "If $X_1, X_2, \\ldots, X_n$ is an independent random sample from a distribution with mean $\\mu$ and standard deviation $\\sigma$, then the sample mean\n",
    "\n",
    "$$\n",
    "\\bar{X} = {X_1+X_2+\\cdots+X_n\\over n}\n",
    "$$\n",
    "\n",
    "has the same mean as the original variable, i.e. $E[\\bar{X}]=\\mu$, but it has reduced standard devation, according to the square root rule:\n",
    "\n",
    "$$\n",
    "SD[\\bar{X}] = {\\sigma\\over \\sqrt{n}}.\n",
    "$$\n",
    "\n",
    "Furthermore, averages of normal random variables are also normally distributed."
   ]
  },
  {
   "cell_type": "markdown",
   "metadata": {},
   "source": [
    "**a) (2 pts) Use norm.rvs( ) method to generate a random sample of 20 observations from the normal distribution with mean = 11 and standard devation =3. Save the values in a pandas Series or data frame and display the results.**"
   ]
  },
  {
   "cell_type": "code",
   "execution_count": 7,
   "metadata": {},
   "outputs": [
    {
     "data": {
      "text/plain": [
       "0     10.327357\n",
       "1      6.285696\n",
       "2      7.014027\n",
       "3     13.740668\n",
       "4     10.082955\n",
       "5     11.632633\n",
       "6     11.691084\n",
       "7      8.124739\n",
       "8     14.616192\n",
       "9     10.947739\n",
       "10    16.210373\n",
       "11     4.845649\n",
       "12     9.514763\n",
       "13    14.354341\n",
       "14    11.962922\n",
       "15    14.420162\n",
       "16     9.515931\n",
       "17    12.106727\n",
       "18     7.985944\n",
       "19     8.894389\n",
       "dtype: float64"
      ]
     },
     "execution_count": 7,
     "metadata": {},
     "output_type": "execute_result"
    }
   ],
   "source": [
    "df =norm.rvs(loc=11, scale=3, size=20)\n",
    "df=pd.Series(df)\n",
    "df"
   ]
  },
  {
   "cell_type": "markdown",
   "metadata": {},
   "source": [
    "**b) (1 pt) Compute the sample mean and sample standard deviation for the numbers you generated in part a). Are they close to 11 and 3 respectively?**"
   ]
  },
  {
   "cell_type": "code",
   "execution_count": 8,
   "metadata": {},
   "outputs": [
    {
     "data": {
      "text/plain": [
       "10.713714599947"
      ]
     },
     "execution_count": 8,
     "metadata": {},
     "output_type": "execute_result"
    }
   ],
   "source": [
    "df.mean()"
   ]
  },
  {
   "cell_type": "code",
   "execution_count": 9,
   "metadata": {},
   "outputs": [
    {
     "data": {
      "text/plain": [
       "3.039688123257732"
      ]
     },
     "execution_count": 9,
     "metadata": {},
     "output_type": "execute_result"
    }
   ],
   "source": [
    "df.std()"
   ]
  },
  {
   "cell_type": "markdown",
   "metadata": {},
   "source": [
    "Yes, pretty close to the populatoin values."
   ]
  },
  {
   "cell_type": "markdown",
   "metadata": {},
   "source": [
    "**c) (1 pts) Make a density histogram of the values you got in a)** "
   ]
  },
  {
   "cell_type": "code",
   "execution_count": 10,
   "metadata": {},
   "outputs": [],
   "source": [
    "import matplotlib.pyplot as plt\n",
    "import seaborn as sns; sns.set()"
   ]
  },
  {
   "cell_type": "code",
   "execution_count": 11,
   "metadata": {},
   "outputs": [
    {
     "data": {
      "image/png": "[encoded data removed]",
      "text/plain": [
       "<Figure size 432x288 with 1 Axes>"
      ]
     },
     "metadata": {},
     "output_type": "display_data"
    }
   ],
   "source": [
    "df.hist(density=True)\n",
    "plt.show()"
   ]
  },
  {
   "cell_type": "markdown",
   "metadata": {},
   "source": [
    "**d) (3 pts) Write a loop to repeat the following process 50 times:  1) Draw a sample of 20 observations from the normal distribution with mean=11 and standard devation =3. 2) Compute the sample mean for each sample. Store your 50 sample means in a data frame or Series and display them.**"
   ]
  },
  {
   "cell_type": "code",
   "execution_count": 12,
   "metadata": {
    "scrolled": true
   },
   "outputs": [
    {
     "data": {
      "text/plain": [
       "0     10.204606\n",
       "1      9.906270\n",
       "2     12.025393\n",
       "3     11.149225\n",
       "4      9.605584\n",
       "5     10.696234\n",
       "6      9.950344\n",
       "7     10.840883\n",
       "8     10.704998\n",
       "9     10.096164\n",
       "10    10.517215\n",
       "11    10.533421\n",
       "12     9.859922\n",
       "13    12.121251\n",
       "14    10.959096\n",
       "15    10.661847\n",
       "16    10.451368\n",
       "17    11.766587\n",
       "18    11.127584\n",
       "19    10.864198\n",
       "20    10.824786\n",
       "21    10.766430\n",
       "22    11.250830\n",
       "23    11.300908\n",
       "24    10.306133\n",
       "25    12.303400\n",
       "26    10.287616\n",
       "27    10.980458\n",
       "28    10.942999\n",
       "29    11.490344\n",
       "30    10.799897\n",
       "31    10.284804\n",
       "32    11.877695\n",
       "33     9.611385\n",
       "34    11.792361\n",
       "35     9.659290\n",
       "36    10.669984\n",
       "37    11.330145\n",
       "38    11.783394\n",
       "39    10.841112\n",
       "40     9.702114\n",
       "41    10.230852\n",
       "42    11.239066\n",
       "43    11.370770\n",
       "44    10.633910\n",
       "45    10.319606\n",
       "46    10.814676\n",
       "47    11.342190\n",
       "48    10.588629\n",
       "49    10.420214\n",
       "dtype: float64"
      ]
     },
     "execution_count": 12,
     "metadata": {},
     "output_type": "execute_result"
    }
   ],
   "source": [
    "smean=[]\n",
    "for i in range (50):\n",
    "    df =norm.rvs(loc=11, scale=3, size=20)\n",
    "    smean.append(df.mean())\n",
    "smean=pd.Series(smean)\n",
    "smean"
   ]
  },
  {
   "cell_type": "markdown",
   "metadata": {},
   "source": [
    "**e) (1 pt) Compute and display the sample mean and standard deviation of the 50 sample means you got in d).** "
   ]
  },
  {
   "cell_type": "code",
   "execution_count": 13,
   "metadata": {},
   "outputs": [
    {
     "data": {
      "text/plain": [
       "10.796163708704082"
      ]
     },
     "execution_count": 13,
     "metadata": {},
     "output_type": "execute_result"
    }
   ],
   "source": [
    "smean.mean()"
   ]
  },
  {
   "cell_type": "code",
   "execution_count": 14,
   "metadata": {},
   "outputs": [
    {
     "data": {
      "text/plain": [
       "0.6756314503858873"
      ]
     },
     "execution_count": 14,
     "metadata": {},
     "output_type": "execute_result"
    }
   ],
   "source": [
    "smean.std()"
   ]
  },
  {
   "cell_type": "markdown",
   "metadata": {},
   "source": [
    "**f) (0.5 pt) Using the relationship described in \"Part 3\" above between a.) the population mean $\\mu$ and b.) the mean of sample means (ie $E[\\bar{X}]$), what is the mean of many, many sample means (of samples with n=20 observations) from a normal distribution with mean=11 and standard deviation = 3?**"
   ]
  },
  {
   "cell_type": "markdown",
   "metadata": {},
   "source": [
    "When the distribution of the population is normal, then the distribution of the sample mean is also normal. And the mean of sample means is equal to the mean of population: $E[\\bar{X}]=\\mu=11$"
   ]
  },
  {
   "cell_type": "markdown",
   "metadata": {},
   "source": [
    "**g) (0.5 pt) Using the relationship described in \"Part 3\" above between a.) the population mean $\\mu$ and b.) the standard deviation of sample means (ie $SD[\\bar{X}]$), what is the standard deviation of many, many sample means (of samples with n=20 observations) from a normal distribution with mean=11 and standard deviation = 3?**"
   ]
  },
  {
   "cell_type": "markdown",
   "metadata": {},
   "source": [
    "$$\n",
    "SD[\\bar{X}] = {\\sigma\\over \\sqrt{n}}= \\frac{3}{\\sqrt{20}} \\approx 0.671\n",
    "$$"
   ]
  }
 ],
 "metadata": {
  "kernelspec": {
   "display_name": "Python 3",
   "language": "python",
   "name": "python3"
  },
  "language_info": {
   "codemirror_mode": {
    "name": "ipython",
    "version": 3
   },
   "file_extension": ".py",
   "mimetype": "text/x-python",
   "name": "python",
   "nbconvert_exporter": "python",
   "pygments_lexer": "ipython3",
   "version": "3.8.3"
  }
 },
 "nbformat": 4,
 "nbformat_minor": 2
}
