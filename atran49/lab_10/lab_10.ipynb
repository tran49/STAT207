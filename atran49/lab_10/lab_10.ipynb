{
 "cells": [
  {
   "cell_type": "markdown",
   "metadata": {},
   "source": [
    "# Lab 10 Classification and Predictive Analytics\n",
    "\n",
    "This dataset is comprised of seed characteristics of three different kinds of wheatseeds: kama, rosa, and Canadian. We would like to build a classifier that is effective at classifying rosa seeds from non-rosa seeds for new data."
   ]
  },
  {
   "cell_type": "markdown",
   "metadata": {},
   "source": [
    "## Imports"
   ]
  },
  {
   "cell_type": "code",
   "execution_count": 1,
   "metadata": {},
   "outputs": [],
   "source": [
    "import pandas as pd\n",
    "import matplotlib.pyplot as plt\n",
    "import seaborn as sns; sns.set()\n",
    "from scipy.stats import norm\n",
    "import statsmodels.api as sm\n",
    "import statsmodels.formula.api as smf\n",
    "import numpy as np\n",
    "from scipy.stats import t\n",
    "from sklearn.metrics import confusion_matrix, roc_curve, roc_auc_score\n",
    "from sklearn.datasets import make_classification\n",
    "from sklearn.model_selection import train_test_split\n",
    "from sklearn.metrics import roc_curve\n",
    "from sklearn.metrics import roc_auc_score"
   ]
  },
  {
   "cell_type": "markdown",
   "metadata": {},
   "source": [
    "### 1. [.5 pt] Read the seeds.csv into a dataframe called df."
   ]
  },
  {
   "cell_type": "code",
   "execution_count": 2,
   "metadata": {},
   "outputs": [
    {
     "data": {
      "text/html": [
       "<div>\n",
       "<style scoped>\n",
       "    .dataframe tbody tr th:only-of-type {\n",
       "        vertical-align: middle;\n",
       "    }\n",
       "\n",
       "    .dataframe tbody tr th {\n",
       "        vertical-align: top;\n",
       "    }\n",
       "\n",
       "    .dataframe thead th {\n",
       "        text-align: right;\n",
       "    }\n",
       "</style>\n",
       "<table border=\"1\" class=\"dataframe\">\n",
       "  <thead>\n",
       "    <tr style=\"text-align: right;\">\n",
       "      <th></th>\n",
       "      <th>area</th>\n",
       "      <th>perimeter</th>\n",
       "      <th>compactness</th>\n",
       "      <th>kernel_length</th>\n",
       "      <th>width</th>\n",
       "      <th>asymmetry_coefficient</th>\n",
       "      <th>kernel_groove_length</th>\n",
       "      <th>seed_class</th>\n",
       "    </tr>\n",
       "  </thead>\n",
       "  <tbody>\n",
       "    <tr>\n",
       "      <th>0</th>\n",
       "      <td>15.26</td>\n",
       "      <td>14.84</td>\n",
       "      <td>0.871</td>\n",
       "      <td>5.762</td>\n",
       "      <td>2.212</td>\n",
       "      <td>2.221</td>\n",
       "      <td>5.220</td>\n",
       "      <td>kama</td>\n",
       "    </tr>\n",
       "    <tr>\n",
       "      <th>1</th>\n",
       "      <td>14.88</td>\n",
       "      <td>14.57</td>\n",
       "      <td>0.8811</td>\n",
       "      <td>5.554</td>\n",
       "      <td>2.222</td>\n",
       "      <td>1.018</td>\n",
       "      <td>4.956</td>\n",
       "      <td>kama</td>\n",
       "    </tr>\n",
       "    <tr>\n",
       "      <th>2</th>\n",
       "      <td>14.29</td>\n",
       "      <td>14.09</td>\n",
       "      <td>0.905</td>\n",
       "      <td>5.291</td>\n",
       "      <td>2.227</td>\n",
       "      <td>2.699</td>\n",
       "      <td>4.825</td>\n",
       "      <td>kama</td>\n",
       "    </tr>\n",
       "    <tr>\n",
       "      <th>3</th>\n",
       "      <td>12.84</td>\n",
       "      <td>12.94</td>\n",
       "      <td>0.8955</td>\n",
       "      <td>5.224</td>\n",
       "      <td>2.279</td>\n",
       "      <td>2.259</td>\n",
       "      <td>4.805</td>\n",
       "      <td>kama</td>\n",
       "    </tr>\n",
       "    <tr>\n",
       "      <th>4</th>\n",
       "      <td>16.14</td>\n",
       "      <td>14.99</td>\n",
       "      <td>0.9024</td>\n",
       "      <td>5.658</td>\n",
       "      <td>2.562</td>\n",
       "      <td>1.255</td>\n",
       "      <td>5.175</td>\n",
       "      <td>kama</td>\n",
       "    </tr>\n",
       "  </tbody>\n",
       "</table>\n",
       "</div>"
      ],
      "text/plain": [
       "    area  perimeter compactness  kernel_length  width  asymmetry_coefficient  \\\n",
       "0  15.26      14.84       0.871          5.762  2.212                  2.221   \n",
       "1  14.88      14.57      0.8811          5.554  2.222                  1.018   \n",
       "2  14.29      14.09       0.905          5.291  2.227                  2.699   \n",
       "3  12.84      12.94      0.8955          5.224  2.279                  2.259   \n",
       "4  16.14      14.99      0.9024          5.658  2.562                  1.255   \n",
       "\n",
       "   kernel_groove_length seed_class  \n",
       "0                 5.220       kama  \n",
       "1                 4.956       kama  \n",
       "2                 4.825       kama  \n",
       "3                 4.805       kama  \n",
       "4                 5.175       kama  "
      ]
     },
     "execution_count": 2,
     "metadata": {},
     "output_type": "execute_result"
    }
   ],
   "source": [
    "df=pd.read_csv('seeds.csv')\n",
    "df.head()"
   ]
  },
  {
   "cell_type": "markdown",
   "metadata": {},
   "source": [
    "### 2. [.5 pt] How many rows are in this dataframe df?"
   ]
  },
  {
   "cell_type": "code",
   "execution_count": 3,
   "metadata": {},
   "outputs": [
    {
     "data": {
      "text/plain": [
       "(210, 8)"
      ]
     },
     "execution_count": 3,
     "metadata": {},
     "output_type": "execute_result"
    }
   ],
   "source": [
    "df.shape"
   ]
  },
  {
   "cell_type": "code",
   "execution_count": 4,
   "metadata": {},
   "outputs": [
    {
     "name": "stdout",
     "output_type": "stream",
     "text": [
      "number of rows:  210\n"
     ]
    }
   ],
   "source": [
    "print('number of rows: ', df.shape[0])"
   ]
  },
  {
   "cell_type": "markdown",
   "metadata": {},
   "source": [
    "### 3. [0.5 pt] Display the number of seeds of each type of seed class."
   ]
  },
  {
   "cell_type": "code",
   "execution_count": 5,
   "metadata": {},
   "outputs": [
    {
     "data": {
      "text/plain": [
       "rosa        70\n",
       "canadian    70\n",
       "kama        70\n",
       "Name: seed_class, dtype: int64"
      ]
     },
     "execution_count": 5,
     "metadata": {},
     "output_type": "execute_result"
    }
   ],
   "source": [
    "df['seed_class'].value_counts()"
   ]
  },
  {
   "cell_type": "markdown",
   "metadata": {},
   "source": [
    "### 4. [1 pt] Next, make a new variable in df called 'rosa' and define it to have \n",
    "* This 'rosa' column should say 'not_rosa' when the 'seed_class' column does not say 'rosa'.\n",
    "* This 'rosa' column should say 'rosa' when the 'seed_class' column says 'rosa'.\n",
    "\n",
    "(We've talked about three ways to do this in class, either is fine)."
   ]
  },
  {
   "cell_type": "code",
   "execution_count": 6,
   "metadata": {},
   "outputs": [
    {
     "name": "stderr",
     "output_type": "stream",
     "text": [
      "<ipython-input-6-3c2acd927554>:2: SettingWithCopyWarning: \n",
      "A value is trying to be set on a copy of a slice from a DataFrame\n",
      "\n",
      "See the caveats in the documentation: https://pandas.pydata.org/pandas-docs/stable/user_guide/indexing.html#returning-a-view-versus-a-copy\n",
      "  df['rosa'][df['rosa']!='rosa']='not_rosa'\n"
     ]
    },
    {
     "data": {
      "text/html": [
       "<div>\n",
       "<style scoped>\n",
       "    .dataframe tbody tr th:only-of-type {\n",
       "        vertical-align: middle;\n",
       "    }\n",
       "\n",
       "    .dataframe tbody tr th {\n",
       "        vertical-align: top;\n",
       "    }\n",
       "\n",
       "    .dataframe thead th {\n",
       "        text-align: right;\n",
       "    }\n",
       "</style>\n",
       "<table border=\"1\" class=\"dataframe\">\n",
       "  <thead>\n",
       "    <tr style=\"text-align: right;\">\n",
       "      <th></th>\n",
       "      <th>area</th>\n",
       "      <th>perimeter</th>\n",
       "      <th>compactness</th>\n",
       "      <th>kernel_length</th>\n",
       "      <th>width</th>\n",
       "      <th>asymmetry_coefficient</th>\n",
       "      <th>kernel_groove_length</th>\n",
       "      <th>seed_class</th>\n",
       "      <th>rosa</th>\n",
       "    </tr>\n",
       "  </thead>\n",
       "  <tbody>\n",
       "    <tr>\n",
       "      <th>0</th>\n",
       "      <td>15.26</td>\n",
       "      <td>14.84</td>\n",
       "      <td>0.871</td>\n",
       "      <td>5.762</td>\n",
       "      <td>2.212</td>\n",
       "      <td>2.221</td>\n",
       "      <td>5.220</td>\n",
       "      <td>kama</td>\n",
       "      <td>not_rosa</td>\n",
       "    </tr>\n",
       "    <tr>\n",
       "      <th>1</th>\n",
       "      <td>14.88</td>\n",
       "      <td>14.57</td>\n",
       "      <td>0.8811</td>\n",
       "      <td>5.554</td>\n",
       "      <td>2.222</td>\n",
       "      <td>1.018</td>\n",
       "      <td>4.956</td>\n",
       "      <td>kama</td>\n",
       "      <td>not_rosa</td>\n",
       "    </tr>\n",
       "    <tr>\n",
       "      <th>2</th>\n",
       "      <td>14.29</td>\n",
       "      <td>14.09</td>\n",
       "      <td>0.905</td>\n",
       "      <td>5.291</td>\n",
       "      <td>2.227</td>\n",
       "      <td>2.699</td>\n",
       "      <td>4.825</td>\n",
       "      <td>kama</td>\n",
       "      <td>not_rosa</td>\n",
       "    </tr>\n",
       "    <tr>\n",
       "      <th>3</th>\n",
       "      <td>12.84</td>\n",
       "      <td>12.94</td>\n",
       "      <td>0.8955</td>\n",
       "      <td>5.224</td>\n",
       "      <td>2.279</td>\n",
       "      <td>2.259</td>\n",
       "      <td>4.805</td>\n",
       "      <td>kama</td>\n",
       "      <td>not_rosa</td>\n",
       "    </tr>\n",
       "    <tr>\n",
       "      <th>4</th>\n",
       "      <td>16.14</td>\n",
       "      <td>14.99</td>\n",
       "      <td>0.9024</td>\n",
       "      <td>5.658</td>\n",
       "      <td>2.562</td>\n",
       "      <td>1.255</td>\n",
       "      <td>5.175</td>\n",
       "      <td>kama</td>\n",
       "      <td>not_rosa</td>\n",
       "    </tr>\n",
       "    <tr>\n",
       "      <th>...</th>\n",
       "      <td>...</td>\n",
       "      <td>...</td>\n",
       "      <td>...</td>\n",
       "      <td>...</td>\n",
       "      <td>...</td>\n",
       "      <td>...</td>\n",
       "      <td>...</td>\n",
       "      <td>...</td>\n",
       "      <td>...</td>\n",
       "    </tr>\n",
       "    <tr>\n",
       "      <th>205</th>\n",
       "      <td>12.19</td>\n",
       "      <td>12.20</td>\n",
       "      <td>0.8782</td>\n",
       "      <td>5.127</td>\n",
       "      <td>2.981</td>\n",
       "      <td>2.621</td>\n",
       "      <td>4.870</td>\n",
       "      <td>canadian</td>\n",
       "      <td>not_rosa</td>\n",
       "    </tr>\n",
       "    <tr>\n",
       "      <th>206</th>\n",
       "      <td>11.22</td>\n",
       "      <td>12.88</td>\n",
       "      <td>0.8511</td>\n",
       "      <td>5.140</td>\n",
       "      <td>2.795</td>\n",
       "      <td>4.225</td>\n",
       "      <td>5.002</td>\n",
       "      <td>canadian</td>\n",
       "      <td>not_rosa</td>\n",
       "    </tr>\n",
       "    <tr>\n",
       "      <th>207</th>\n",
       "      <td>12.20</td>\n",
       "      <td>12.66</td>\n",
       "      <td>0.8882</td>\n",
       "      <td>5.226</td>\n",
       "      <td>2.222</td>\n",
       "      <td>8.215</td>\n",
       "      <td>5.056</td>\n",
       "      <td>canadian</td>\n",
       "      <td>not_rosa</td>\n",
       "    </tr>\n",
       "    <tr>\n",
       "      <th>208</th>\n",
       "      <td>11.84</td>\n",
       "      <td>12.21</td>\n",
       "      <td>0.8521</td>\n",
       "      <td>5.175</td>\n",
       "      <td>2.826</td>\n",
       "      <td>2.598</td>\n",
       "      <td>5.044</td>\n",
       "      <td>canadian</td>\n",
       "      <td>not_rosa</td>\n",
       "    </tr>\n",
       "    <tr>\n",
       "      <th>209</th>\n",
       "      <td>12.20</td>\n",
       "      <td>12.24</td>\n",
       "      <td>0.8684</td>\n",
       "      <td>5.242</td>\n",
       "      <td>2.974</td>\n",
       "      <td>5.627</td>\n",
       "      <td>5.062</td>\n",
       "      <td>canadian</td>\n",
       "      <td>not_rosa</td>\n",
       "    </tr>\n",
       "  </tbody>\n",
       "</table>\n",
       "<p>210 rows × 9 columns</p>\n",
       "</div>"
      ],
      "text/plain": [
       "      area  perimeter compactness  kernel_length  width  \\\n",
       "0    15.26      14.84       0.871          5.762  2.212   \n",
       "1    14.88      14.57      0.8811          5.554  2.222   \n",
       "2    14.29      14.09       0.905          5.291  2.227   \n",
       "3    12.84      12.94      0.8955          5.224  2.279   \n",
       "4    16.14      14.99      0.9024          5.658  2.562   \n",
       "..     ...        ...         ...            ...    ...   \n",
       "205  12.19      12.20      0.8782          5.127  2.981   \n",
       "206  11.22      12.88      0.8511          5.140  2.795   \n",
       "207  12.20      12.66      0.8882          5.226  2.222   \n",
       "208  11.84      12.21      0.8521          5.175  2.826   \n",
       "209  12.20      12.24      0.8684          5.242  2.974   \n",
       "\n",
       "     asymmetry_coefficient  kernel_groove_length seed_class      rosa  \n",
       "0                    2.221                 5.220       kama  not_rosa  \n",
       "1                    1.018                 4.956       kama  not_rosa  \n",
       "2                    2.699                 4.825       kama  not_rosa  \n",
       "3                    2.259                 4.805       kama  not_rosa  \n",
       "4                    1.255                 5.175       kama  not_rosa  \n",
       "..                     ...                   ...        ...       ...  \n",
       "205                  2.621                 4.870   canadian  not_rosa  \n",
       "206                  4.225                 5.002   canadian  not_rosa  \n",
       "207                  8.215                 5.056   canadian  not_rosa  \n",
       "208                  2.598                 5.044   canadian  not_rosa  \n",
       "209                  5.627                 5.062   canadian  not_rosa  \n",
       "\n",
       "[210 rows x 9 columns]"
      ]
     },
     "execution_count": 6,
     "metadata": {},
     "output_type": "execute_result"
    }
   ],
   "source": [
    "df['rosa']=df['seed_class']\n",
    "df['rosa'][df['rosa']!='rosa']='not_rosa'\n",
    "df"
   ]
  },
  {
   "cell_type": "markdown",
   "metadata": {},
   "source": [
    "### 5. [1 pt] Next, create a new variable in df that is equal to 1, when the seed class is rosa and that is equal to 0 when the seed class is not-rosa."
   ]
  },
  {
   "cell_type": "code",
   "execution_count": 7,
   "metadata": {},
   "outputs": [],
   "source": [
    "df['y']=df['rosa'].map({'not_rosa':0, 'rosa':1})"
   ]
  },
  {
   "cell_type": "markdown",
   "metadata": {},
   "source": [
    "### 6. [2 pt] Create a training dataset that is a random selection of 85% of the df with the remaining 15% as the test dataset. Use a random_state of 1000 to do this."
   ]
  },
  {
   "cell_type": "code",
   "execution_count": 8,
   "metadata": {},
   "outputs": [],
   "source": [
    "df_train, df_test = train_test_split(df, \n",
    "                                   test_size=0.15, \n",
    "                                   random_state=1000)"
   ]
  },
  {
   "cell_type": "markdown",
   "metadata": {},
   "source": [
    "### 7. [1 pt] Create a scatterplot of the area and kernel_length variables in your training dataset. Color code the points by the 'y' variable."
   ]
  },
  {
   "cell_type": "code",
   "execution_count": 9,
   "metadata": {},
   "outputs": [
    {
     "data": {
      "text/plain": [
       "<AxesSubplot:xlabel='area', ylabel='kernel_length'>"
      ]
     },
     "execution_count": 9,
     "metadata": {},
     "output_type": "execute_result"
    },
    {
     "data": {
      "image/png": "[encoded data removed]",
      "text/plain": [
       "<Figure size 432x288 with 1 Axes>"
      ]
     },
     "metadata": {},
     "output_type": "display_data"
    }
   ],
   "source": [
    "sns.scatterplot(x='area',y='kernel_length',hue='y',data=df_train)"
   ]
  },
  {
   "cell_type": "markdown",
   "metadata": {},
   "source": [
    "### 8. [1 pt] Looking at this graph, if we were to set up a logistic regression with y as our response variable and area and kernel_length as our explanatory variables, would we expect there to exist a threshold that has BOTH a sensitivity rate of 100% and a specificity rate of 100% in the training dataset? Why or why not?"
   ]
  },
  {
   "cell_type": "markdown",
   "metadata": {},
   "source": [
    "It is not possible to have a line that perfectly separates the blue points and the orange points because some blue and orange points ovelaps (some high blue points and some low orange points). Therefore, there is always missclassification because of these ovelaping points. Thus, there is no threshold that make both the sensitivity rate and specificity 100%."
   ]
  },
  {
   "cell_type": "markdown",
   "metadata": {},
   "source": [
    "### 9. [1 pt] Now, set up this logistic regression model (with just the training data) in which 'rosa' is the response variable and the following are the explanatory variables.\n",
    "* area\n",
    "* perimeter\n",
    "\n",
    "Print out the summary below."
   ]
  },
  {
   "cell_type": "code",
   "execution_count": 10,
   "metadata": {},
   "outputs": [
    {
     "name": "stdout",
     "output_type": "stream",
     "text": [
      "Optimization terminated successfully.\n",
      "         Current function value: 0.089548\n",
      "         Iterations 11\n"
     ]
    },
    {
     "data": {
      "text/html": [
       "<table class=\"simpletable\">\n",
       "<caption>Logit Regression Results</caption>\n",
       "<tr>\n",
       "  <th>Dep. Variable:</th>           <td>y</td>        <th>  No. Observations:  </th>  <td>   178</td>  \n",
       "</tr>\n",
       "<tr>\n",
       "  <th>Model:</th>                 <td>Logit</td>      <th>  Df Residuals:      </th>  <td>   175</td>  \n",
       "</tr>\n",
       "<tr>\n",
       "  <th>Method:</th>                 <td>MLE</td>       <th>  Df Model:          </th>  <td>     2</td>  \n",
       "</tr>\n",
       "<tr>\n",
       "  <th>Date:</th>            <td>Thu, 19 Nov 2020</td> <th>  Pseudo R-squ.:     </th>  <td>0.8562</td>  \n",
       "</tr>\n",
       "<tr>\n",
       "  <th>Time:</th>                <td>19:33:44</td>     <th>  Log-Likelihood:    </th> <td> -15.940</td> \n",
       "</tr>\n",
       "<tr>\n",
       "  <th>converged:</th>             <td>True</td>       <th>  LL-Null:           </th> <td> -110.85</td> \n",
       "</tr>\n",
       "<tr>\n",
       "  <th>Covariance Type:</th>     <td>nonrobust</td>    <th>  LLR p-value:       </th> <td>6.056e-42</td>\n",
       "</tr>\n",
       "</table>\n",
       "<table class=\"simpletable\">\n",
       "<tr>\n",
       "      <td></td>         <th>coef</th>     <th>std err</th>      <th>z</th>      <th>P>|z|</th>  <th>[0.025</th>    <th>0.975]</th>  \n",
       "</tr>\n",
       "<tr>\n",
       "  <th>Intercept</th> <td>  -71.0742</td> <td>   32.453</td> <td>   -2.190</td> <td> 0.029</td> <td> -134.682</td> <td>   -7.467</td>\n",
       "</tr>\n",
       "<tr>\n",
       "  <th>area</th>      <td>    0.9476</td> <td>    1.808</td> <td>    0.524</td> <td> 0.600</td> <td>   -2.596</td> <td>    4.491</td>\n",
       "</tr>\n",
       "<tr>\n",
       "  <th>perimeter</th> <td>    3.6889</td> <td>    3.824</td> <td>    0.965</td> <td> 0.335</td> <td>   -3.806</td> <td>   11.184</td>\n",
       "</tr>\n",
       "</table><br/><br/>Possibly complete quasi-separation: A fraction 0.48 of observations can be<br/>perfectly predicted. This might indicate that there is complete<br/>quasi-separation. In this case some parameters will not be identified."
      ],
      "text/plain": [
       "<class 'statsmodels.iolib.summary.Summary'>\n",
       "\"\"\"\n",
       "                           Logit Regression Results                           \n",
       "==============================================================================\n",
       "Dep. Variable:                      y   No. Observations:                  178\n",
       "Model:                          Logit   Df Residuals:                      175\n",
       "Method:                           MLE   Df Model:                            2\n",
       "Date:                Thu, 19 Nov 2020   Pseudo R-squ.:                  0.8562\n",
       "Time:                        19:33:44   Log-Likelihood:                -15.940\n",
       "converged:                       True   LL-Null:                       -110.85\n",
       "Covariance Type:            nonrobust   LLR p-value:                 6.056e-42\n",
       "==============================================================================\n",
       "                 coef    std err          z      P>|z|      [0.025      0.975]\n",
       "------------------------------------------------------------------------------\n",
       "Intercept    -71.0742     32.453     -2.190      0.029    -134.682      -7.467\n",
       "area           0.9476      1.808      0.524      0.600      -2.596       4.491\n",
       "perimeter      3.6889      3.824      0.965      0.335      -3.806      11.184\n",
       "==============================================================================\n",
       "\n",
       "Possibly complete quasi-separation: A fraction 0.48 of observations can be\n",
       "perfectly predicted. This might indicate that there is complete\n",
       "quasi-separation. In this case some parameters will not be identified.\n",
       "\"\"\""
      ]
     },
     "execution_count": 10,
     "metadata": {},
     "output_type": "execute_result"
    }
   ],
   "source": [
    "mod_train=smf.logit('y ~ area+perimeter',data=df_train).fit()\n",
    "mod_train.summary()"
   ]
  },
  {
   "cell_type": "markdown",
   "metadata": {},
   "source": [
    "### 10 [1 pt] Next, predict the predictive probabilities for each of the explanatory variable values in your test dataset. Save these predictions in a new column in this test dataset dataframe."
   ]
  },
  {
   "cell_type": "code",
   "execution_count": 11,
   "metadata": {},
   "outputs": [],
   "source": [
    "phat = mod_train.predict(exog=df_test[['area','perimeter']])\n"
   ]
  },
  {
   "cell_type": "code",
   "execution_count": 12,
   "metadata": {},
   "outputs": [
    {
     "name": "stderr",
     "output_type": "stream",
     "text": [
      "<ipython-input-12-18f335bbf0a8>:1: SettingWithCopyWarning: \n",
      "A value is trying to be set on a copy of a slice from a DataFrame.\n",
      "Try using .loc[row_indexer,col_indexer] = value instead\n",
      "\n",
      "See the caveats in the documentation: https://pandas.pydata.org/pandas-docs/stable/user_guide/indexing.html#returning-a-view-versus-a-copy\n",
      "  df_test['predictive_prop']=phat\n"
     ]
    },
    {
     "data": {
      "text/html": [
       "<div>\n",
       "<style scoped>\n",
       "    .dataframe tbody tr th:only-of-type {\n",
       "        vertical-align: middle;\n",
       "    }\n",
       "\n",
       "    .dataframe tbody tr th {\n",
       "        vertical-align: top;\n",
       "    }\n",
       "\n",
       "    .dataframe thead th {\n",
       "        text-align: right;\n",
       "    }\n",
       "</style>\n",
       "<table border=\"1\" class=\"dataframe\">\n",
       "  <thead>\n",
       "    <tr style=\"text-align: right;\">\n",
       "      <th></th>\n",
       "      <th>area</th>\n",
       "      <th>perimeter</th>\n",
       "      <th>compactness</th>\n",
       "      <th>kernel_length</th>\n",
       "      <th>width</th>\n",
       "      <th>asymmetry_coefficient</th>\n",
       "      <th>kernel_groove_length</th>\n",
       "      <th>seed_class</th>\n",
       "      <th>rosa</th>\n",
       "      <th>y</th>\n",
       "      <th>predictive_prop</th>\n",
       "    </tr>\n",
       "  </thead>\n",
       "  <tbody>\n",
       "    <tr>\n",
       "      <th>153</th>\n",
       "      <td>11.18</td>\n",
       "      <td>12.04</td>\n",
       "      <td>0.8266</td>\n",
       "      <td>5.220</td>\n",
       "      <td>2.692</td>\n",
       "      <td>2.222</td>\n",
       "      <td>5.001</td>\n",
       "      <td>canadian</td>\n",
       "      <td>not_rosa</td>\n",
       "      <td>0</td>\n",
       "      <td>1.053747e-07</td>\n",
       "    </tr>\n",
       "    <tr>\n",
       "      <th>74</th>\n",
       "      <td>16.82</td>\n",
       "      <td>15.51</td>\n",
       "      <td>0.8786</td>\n",
       "      <td>6.017</td>\n",
       "      <td>2.486</td>\n",
       "      <td>4.004</td>\n",
       "      <td>5.841</td>\n",
       "      <td>rosa</td>\n",
       "      <td>rosa</td>\n",
       "      <td>1</td>\n",
       "      <td>8.888520e-01</td>\n",
       "    </tr>\n",
       "    <tr>\n",
       "      <th>59</th>\n",
       "      <td>12.11</td>\n",
       "      <td>12.47</td>\n",
       "      <td>0.8292</td>\n",
       "      <td>5.159</td>\n",
       "      <td>2.022</td>\n",
       "      <td>1.502</td>\n",
       "      <td>4.519</td>\n",
       "      <td>kama</td>\n",
       "      <td>not_rosa</td>\n",
       "      <td>0</td>\n",
       "      <td>1.242635e-06</td>\n",
       "    </tr>\n",
       "    <tr>\n",
       "      <th>172</th>\n",
       "      <td>11.27</td>\n",
       "      <td>12.97</td>\n",
       "      <td>0.8419</td>\n",
       "      <td>5.088</td>\n",
       "      <td>2.762</td>\n",
       "      <td>4.209</td>\n",
       "      <td>5.000</td>\n",
       "      <td>canadian</td>\n",
       "      <td>not_rosa</td>\n",
       "      <td>0</td>\n",
       "      <td>3.545756e-06</td>\n",
       "    </tr>\n",
       "    <tr>\n",
       "      <th>16</th>\n",
       "      <td>12.99</td>\n",
       "      <td>12.82</td>\n",
       "      <td>0.9182</td>\n",
       "      <td>5.119</td>\n",
       "      <td>2.282</td>\n",
       "      <td>5.224</td>\n",
       "      <td>4.781</td>\n",
       "      <td>kama</td>\n",
       "      <td>not_rosa</td>\n",
       "      <td>0</td>\n",
       "      <td>1.040410e-05</td>\n",
       "    </tr>\n",
       "  </tbody>\n",
       "</table>\n",
       "</div>"
      ],
      "text/plain": [
       "      area  perimeter compactness  kernel_length  width  \\\n",
       "153  11.18      12.04      0.8266          5.220  2.692   \n",
       "74   16.82      15.51      0.8786          6.017  2.486   \n",
       "59   12.11      12.47      0.8292          5.159  2.022   \n",
       "172  11.27      12.97      0.8419          5.088  2.762   \n",
       "16   12.99      12.82      0.9182          5.119  2.282   \n",
       "\n",
       "     asymmetry_coefficient  kernel_groove_length seed_class      rosa  y  \\\n",
       "153                  2.222                 5.001   canadian  not_rosa  0   \n",
       "74                   4.004                 5.841       rosa      rosa  1   \n",
       "59                   1.502                 4.519       kama  not_rosa  0   \n",
       "172                  4.209                 5.000   canadian  not_rosa  0   \n",
       "16                   5.224                 4.781       kama  not_rosa  0   \n",
       "\n",
       "     predictive_prop  \n",
       "153     1.053747e-07  \n",
       "74      8.888520e-01  \n",
       "59      1.242635e-06  \n",
       "172     3.545756e-06  \n",
       "16      1.040410e-05  "
      ]
     },
     "execution_count": 12,
     "metadata": {},
     "output_type": "execute_result"
    }
   ],
   "source": [
    "df_test['predictive_prop']=phat\n",
    "df_test.head()"
   ]
  },
  {
   "cell_type": "markdown",
   "metadata": {},
   "source": [
    "### 11. [2 pt] Suppose we want to use a probability threshold of $p_0=0.5$. \n",
    "\n",
    "That is, if the predictive probability of an observation is at least 0.5, we will classify it as a 1, and otherwise we will classify it as a 0. Use this threshold to classify each of observations in your test dataset. Create a new column in your test dataset with these 1/0 classifications."
   ]
  },
  {
   "cell_type": "code",
   "execution_count": 13,
   "metadata": {},
   "outputs": [
    {
     "name": "stderr",
     "output_type": "stream",
     "text": [
      "<ipython-input-13-20beca17bf4e>:1: SettingWithCopyWarning: \n",
      "A value is trying to be set on a copy of a slice from a DataFrame.\n",
      "Try using .loc[row_indexer,col_indexer] = value instead\n",
      "\n",
      "See the caveats in the documentation: https://pandas.pydata.org/pandas-docs/stable/user_guide/indexing.html#returning-a-view-versus-a-copy\n",
      "  df_test['y_hat']=1*(df_test['predictive_prop']>=0.5)\n"
     ]
    },
    {
     "data": {
      "text/html": [
       "<div>\n",
       "<style scoped>\n",
       "    .dataframe tbody tr th:only-of-type {\n",
       "        vertical-align: middle;\n",
       "    }\n",
       "\n",
       "    .dataframe tbody tr th {\n",
       "        vertical-align: top;\n",
       "    }\n",
       "\n",
       "    .dataframe thead th {\n",
       "        text-align: right;\n",
       "    }\n",
       "</style>\n",
       "<table border=\"1\" class=\"dataframe\">\n",
       "  <thead>\n",
       "    <tr style=\"text-align: right;\">\n",
       "      <th></th>\n",
       "      <th>area</th>\n",
       "      <th>perimeter</th>\n",
       "      <th>compactness</th>\n",
       "      <th>kernel_length</th>\n",
       "      <th>width</th>\n",
       "      <th>asymmetry_coefficient</th>\n",
       "      <th>kernel_groove_length</th>\n",
       "      <th>seed_class</th>\n",
       "      <th>rosa</th>\n",
       "      <th>y</th>\n",
       "      <th>predictive_prop</th>\n",
       "      <th>y_hat</th>\n",
       "    </tr>\n",
       "  </thead>\n",
       "  <tbody>\n",
       "    <tr>\n",
       "      <th>153</th>\n",
       "      <td>11.18</td>\n",
       "      <td>12.04</td>\n",
       "      <td>0.8266</td>\n",
       "      <td>5.220</td>\n",
       "      <td>2.692</td>\n",
       "      <td>2.222</td>\n",
       "      <td>5.001</td>\n",
       "      <td>canadian</td>\n",
       "      <td>not_rosa</td>\n",
       "      <td>0</td>\n",
       "      <td>1.053747e-07</td>\n",
       "      <td>0</td>\n",
       "    </tr>\n",
       "    <tr>\n",
       "      <th>74</th>\n",
       "      <td>16.82</td>\n",
       "      <td>15.51</td>\n",
       "      <td>0.8786</td>\n",
       "      <td>6.017</td>\n",
       "      <td>2.486</td>\n",
       "      <td>4.004</td>\n",
       "      <td>5.841</td>\n",
       "      <td>rosa</td>\n",
       "      <td>rosa</td>\n",
       "      <td>1</td>\n",
       "      <td>8.888520e-01</td>\n",
       "      <td>1</td>\n",
       "    </tr>\n",
       "    <tr>\n",
       "      <th>59</th>\n",
       "      <td>12.11</td>\n",
       "      <td>12.47</td>\n",
       "      <td>0.8292</td>\n",
       "      <td>5.159</td>\n",
       "      <td>2.022</td>\n",
       "      <td>1.502</td>\n",
       "      <td>4.519</td>\n",
       "      <td>kama</td>\n",
       "      <td>not_rosa</td>\n",
       "      <td>0</td>\n",
       "      <td>1.242635e-06</td>\n",
       "      <td>0</td>\n",
       "    </tr>\n",
       "    <tr>\n",
       "      <th>172</th>\n",
       "      <td>11.27</td>\n",
       "      <td>12.97</td>\n",
       "      <td>0.8419</td>\n",
       "      <td>5.088</td>\n",
       "      <td>2.762</td>\n",
       "      <td>4.209</td>\n",
       "      <td>5.000</td>\n",
       "      <td>canadian</td>\n",
       "      <td>not_rosa</td>\n",
       "      <td>0</td>\n",
       "      <td>3.545756e-06</td>\n",
       "      <td>0</td>\n",
       "    </tr>\n",
       "    <tr>\n",
       "      <th>16</th>\n",
       "      <td>12.99</td>\n",
       "      <td>12.82</td>\n",
       "      <td>0.9182</td>\n",
       "      <td>5.119</td>\n",
       "      <td>2.282</td>\n",
       "      <td>5.224</td>\n",
       "      <td>4.781</td>\n",
       "      <td>kama</td>\n",
       "      <td>not_rosa</td>\n",
       "      <td>0</td>\n",
       "      <td>1.040410e-05</td>\n",
       "      <td>0</td>\n",
       "    </tr>\n",
       "  </tbody>\n",
       "</table>\n",
       "</div>"
      ],
      "text/plain": [
       "      area  perimeter compactness  kernel_length  width  \\\n",
       "153  11.18      12.04      0.8266          5.220  2.692   \n",
       "74   16.82      15.51      0.8786          6.017  2.486   \n",
       "59   12.11      12.47      0.8292          5.159  2.022   \n",
       "172  11.27      12.97      0.8419          5.088  2.762   \n",
       "16   12.99      12.82      0.9182          5.119  2.282   \n",
       "\n",
       "     asymmetry_coefficient  kernel_groove_length seed_class      rosa  y  \\\n",
       "153                  2.222                 5.001   canadian  not_rosa  0   \n",
       "74                   4.004                 5.841       rosa      rosa  1   \n",
       "59                   1.502                 4.519       kama  not_rosa  0   \n",
       "172                  4.209                 5.000   canadian  not_rosa  0   \n",
       "16                   5.224                 4.781       kama  not_rosa  0   \n",
       "\n",
       "     predictive_prop  y_hat  \n",
       "153     1.053747e-07      0  \n",
       "74      8.888520e-01      1  \n",
       "59      1.242635e-06      0  \n",
       "172     3.545756e-06      0  \n",
       "16      1.040410e-05      0  "
      ]
     },
     "execution_count": 13,
     "metadata": {},
     "output_type": "execute_result"
    }
   ],
   "source": [
    "df_test['y_hat']=1*(df_test['predictive_prop']>=0.5)\n",
    "df_test.head()"
   ]
  },
  {
   "cell_type": "markdown",
   "metadata": {},
   "source": [
    "### 12. [0.5 pt] Print out the row in your test dataframe that corresponds to the seed with row index 37.\n",
    "\n",
    "(Note we need to use the **YOUR_TEST_DATAFRAME.loc[37,:]** function instead of the **YOUR_TEST_DATAFRAME.iloc[37,:]** function as the indices of this dataframe do not align with the actual order that they are listed in the dataframe.)"
   ]
  },
  {
   "cell_type": "code",
   "execution_count": 14,
   "metadata": {},
   "outputs": [
    {
     "data": {
      "text/plain": [
       "area                        17.08\n",
       "perimeter                   15.28\n",
       "compactness                0.9079\n",
       "kernel_length               5.822\n",
       "width                       2.682\n",
       "asymmetry_coefficient       2.956\n",
       "kernel_groove_length        5.484\n",
       "seed_class                   kama\n",
       "rosa                     not_rosa\n",
       "y                               0\n",
       "predictive_prop          0.814116\n",
       "y_hat                           1\n",
       "Name: 37, dtype: object"
      ]
     },
     "execution_count": 14,
     "metadata": {},
     "output_type": "execute_result"
    }
   ],
   "source": [
    "df_test.loc[37,:]"
   ]
  },
  {
   "cell_type": "markdown",
   "metadata": {},
   "source": [
    "### 13. [1 pt] Which of the following would you classify this seed (with index 37) as:\n",
    "a.) a true positive,\n",
    "b.) a true negative,\n",
    "c.) a false positive, or\n",
    "d.) a false negative?\n",
    "Explain."
   ]
  },
  {
   "cell_type": "markdown",
   "metadata": {},
   "source": [
    "this seed's classification is false positive because it is above the threshold and $y\\neq \\hat{y}$"
   ]
  },
  {
   "cell_type": "markdown",
   "metadata": {},
   "source": [
    "### 14. [1 pt] Create a confusion matrix for your test dataset with this threshold."
   ]
  },
  {
   "cell_type": "code",
   "execution_count": 15,
   "metadata": {},
   "outputs": [
    {
     "data": {
      "text/plain": [
       "array([[16,  2],\n",
       "       [ 2, 12]], dtype=int64)"
      ]
     },
     "execution_count": 15,
     "metadata": {},
     "output_type": "execute_result"
    }
   ],
   "source": [
    "confusion_matrix(y_true=df_test['y'], y_pred=df_test['y_hat'])\n"
   ]
  },
  {
   "cell_type": "code",
   "execution_count": 16,
   "metadata": {},
   "outputs": [
    {
     "data": {
      "text/plain": [
       "(16, 2, 2, 12)"
      ]
     },
     "execution_count": 16,
     "metadata": {},
     "output_type": "execute_result"
    }
   ],
   "source": [
    "tn, fp, fn, tp = confusion_matrix(y_true=df_test['y'], \n",
    "                                  y_pred=df_test['y_hat']).ravel()\n",
    "(tn, fp, fn, tp)"
   ]
  },
  {
   "cell_type": "markdown",
   "metadata": {},
   "source": [
    "### 15. [1 pt] How many false positives are there in your training dataset with this threshold? How many false negatives are there?"
   ]
  },
  {
   "cell_type": "markdown",
   "metadata": {},
   "source": [
    "There are 2 false positive and 2 false negative in the training dataset with this threshold"
   ]
  },
  {
   "cell_type": "markdown",
   "metadata": {},
   "source": [
    "### 16. [1 pt] What is the sensitivity of the test dataset with this threshold of $p_0=0.5$?"
   ]
  },
  {
   "cell_type": "code",
   "execution_count": 17,
   "metadata": {},
   "outputs": [
    {
     "name": "stdout",
     "output_type": "stream",
     "text": [
      "sensitivity:  0.8571428571428571\n"
     ]
    }
   ],
   "source": [
    "print('sensitivity: ', (tp/(fn+tp)))"
   ]
  },
  {
   "cell_type": "markdown",
   "metadata": {},
   "source": [
    "### 17. [1 pt]  What is the specificity of the test dataset with this threshold of $p_0=0.5$?"
   ]
  },
  {
   "cell_type": "code",
   "execution_count": 18,
   "metadata": {},
   "outputs": [
    {
     "name": "stdout",
     "output_type": "stream",
     "text": [
      "specificity:  0.8888888888888888\n"
     ]
    }
   ],
   "source": [
    "print('specificity: ', (tn/(fp+tn)))"
   ]
  },
  {
   "cell_type": "markdown",
   "metadata": {},
   "source": [
    "### [1 pt]  What is the true positive rate of the test dataset with this threshold of $p_0=0.5$?"
   ]
  },
  {
   "cell_type": "code",
   "execution_count": 19,
   "metadata": {},
   "outputs": [
    {
     "name": "stdout",
     "output_type": "stream",
     "text": [
      "True positive rate:  0.8571428571428571\n"
     ]
    }
   ],
   "source": [
    "#Sensitivity=true positive rate\n",
    "print('True positive rate: ', (tp/(tp+fn)))"
   ]
  },
  {
   "cell_type": "markdown",
   "metadata": {},
   "source": [
    "### [1 pt]  What is the false positive rate of the test dataset with this threshold of $p_0=0.5$?"
   ]
  },
  {
   "cell_type": "code",
   "execution_count": 20,
   "metadata": {},
   "outputs": [
    {
     "name": "stdout",
     "output_type": "stream",
     "text": [
      "false positive rate:  0.1111111111111111\n"
     ]
    }
   ],
   "source": [
    "#false positive rate= 1 - specification\n",
    "print('false positive rate: ', (fp/(fp+tn)))"
   ]
  },
  {
   "cell_type": "markdown",
   "metadata": {},
   "source": [
    "### [2 pt]  Create a ROC curve for this logistic regression model with the test dataset."
   ]
  },
  {
   "cell_type": "code",
   "execution_count": 21,
   "metadata": {},
   "outputs": [],
   "source": [
    "def plot_roc(fpr, tpr, auc, lw=2):\n",
    "    plt.plot(fpr, tpr, color='darkorange', lw=lw,\n",
    "             label='ROC curve (area = '+str(round(auc,3))+')')\n",
    "    plt.plot([0, 1], [0, 1], color='navy', lw=lw, linestyle='--')\n",
    "    plt.xlabel('False Positive Rate')\n",
    "    plt.ylabel('True Positive Rate')\n",
    "    plt.title('ROC Curve')\n",
    "    plt.legend(loc=\"lower right\")\n",
    "    plt.show()"
   ]
  },
  {
   "cell_type": "code",
   "execution_count": 22,
   "metadata": {},
   "outputs": [
    {
     "name": "stdout",
     "output_type": "stream",
     "text": [
      "AUC:  0.9801587301587301\n"
     ]
    }
   ],
   "source": [
    "fprs, tprs, thresholds = roc_curve(y_true=df_test['y'], y_score=phat)\n",
    "auc = roc_auc_score(y_true=df_test['y'], y_score=phat)\n",
    "print('AUC: ',auc)"
   ]
  },
  {
   "cell_type": "code",
   "execution_count": 23,
   "metadata": {},
   "outputs": [
    {
     "data": {
      "image/png": "[encoded data removed]",
      "text/plain": [
       "<Figure size 432x288 with 1 Axes>"
      ]
     },
     "metadata": {},
     "output_type": "display_data"
    }
   ],
   "source": [
    "plot_roc(fprs, tprs, auc)"
   ]
  },
  {
   "cell_type": "markdown",
   "metadata": {},
   "source": [
    "### [2 pt]  What is the AUC of this ROC curve? Is this good?"
   ]
  },
  {
   "cell_type": "markdown",
   "metadata": {},
   "source": [
    "auc=0.98, which is really close to 1. Therefore, this model is really good."
   ]
  },
  {
   "cell_type": "markdown",
   "metadata": {},
   "source": [
    "### [2 pt]  Suppose you work for a seed classification company that is highly desires a high true positive rate in when trying to detect rosa seeds and would ideally like to have a low false positive rate as well. What probability threshold should your company use?"
   ]
  },
  {
   "cell_type": "code",
   "execution_count": 24,
   "metadata": {},
   "outputs": [
    {
     "name": "stdout",
     "output_type": "stream",
     "text": [
      "fprs :\n",
      "[0.         0.         0.         0.05555556 0.05555556 0.11111111\n",
      " 0.11111111 1.        ]\n",
      "tprs: \n",
      "[0.         0.07142857 0.78571429 0.78571429 0.85714286 0.85714286\n",
      " 1.         1.        ]\n",
      "p Thresholds\n",
      "[0.88 0.73 0.71 0.69 0.64 0.63 0.54 0.5 ]\n"
     ]
    }
   ],
   "source": [
    "print('fprs :')\n",
    "print(fprs)\n",
    "print('tprs: ')\n",
    "print(tprs)\n",
    "print('p Thresholds')\n",
    "p_thresholds=np.exp(thresholds)/(1+np.exp(thresholds))\n",
    "print(np.round(p_thresholds,2))"
   ]
  },
  {
   "cell_type": "markdown",
   "metadata": {},
   "source": [
    "With p-threshold=0.54, the true positive rate is as high as 1 and the false positive rate is as low as 0.11. Thus, the company should use this probability threshold."
   ]
  }
 ],
 "metadata": {
  "kernelspec": {
   "display_name": "Python 3",
   "language": "python",
   "name": "python3"
  },
  "language_info": {
   "codemirror_mode": {
    "name": "ipython",
    "version": 3
   },
   "file_extension": ".py",
   "mimetype": "text/x-python",
   "name": "python",
   "nbconvert_exporter": "python",
   "pygments_lexer": "ipython3",
   "version": "3.8.5"
  }
 },
 "nbformat": 4,
 "nbformat_minor": 4
}
