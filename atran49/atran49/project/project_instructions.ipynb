{
 "cells": [
  {
   "cell_type": "markdown",
   "metadata": {},
   "source": [
    "## STAT 207 Project: (insert title here)"
   ]
  },
  {
   "cell_type": "markdown",
   "metadata": {},
   "source": [
    "Due date: **December 16, 2020 11:59pm CST on Github.**"
   ]
  },
  {
   "cell_type": "markdown",
   "metadata": {},
   "source": [
    "#### Names of project team members"
   ]
  },
  {
   "cell_type": "markdown",
   "metadata": {},
   "source": [
    "#### Responsibilities of each team member"
   ]
  },
  {
   "cell_type": "markdown",
   "metadata": {},
   "source": [
    "*list responsibilities, if more than one team member*"
   ]
  },
  {
   "cell_type": "markdown",
   "metadata": {},
   "source": [
    "### Instructions (remove from final report before submitting)\n",
    "\n",
    "**Points** This is an **optional bonus project**, which is worth up to a maximum of 50 bonus points. Any points you earn will be added to your course total points. Note that this project is not included in the 650 point total for 100% credit in the course. See the updated syllabus for more details.\n",
    "\n",
    "10 points: clear statement of what project is about\n",
    "\n",
    "10 points: data selection, preprocessing and visualization\n",
    "\n",
    "20 points: data analysis including model building, statistical inferences (hypothesis tests and confience intervals, and modelperformance evaluation as relevant to the problem\n",
    "\n",
    "10 points: conclusions well supported by results, and appropriate discussion of any limitations of the study and recomendations for further work.\n",
    "\n",
    "**Collaboration** You may work alone or collaborate with up to 2 other members of the class. If you wish to collaborate with other students in the class, you must do the following:\n",
    "\n",
    "    **Declare your intent to collaborate by emailing the instructor by December 4**\n",
    "    \n",
    "    Each member will submit a copy of the report through their repository. \n",
    "    List all team members on each copy of the report.\n",
    "    \n",
    "    Include a paragraph at the beginning of the report explaining the responsibilities of each member of the team.\n",
    "    \n",
    "**Format of report** Prepare your report using Jupyter notebooks. You should write it up as a scientific report with the following sections:\n",
    "\n",
    "    Problem statement: \n",
    "        Describe what your data science project is about\n",
    "        Describe what questions you address in the project\n",
    "        Describe what data you are using\n",
    "    Methods:\n",
    "        Describe generally what programming, sampling, and analytical approaches you used.\n",
    "    Results:\n",
    "        Describe what you found.\n",
    "        Include your python code, analysis outputs (tables, grpahs etc), and data (in the folder)\n",
    "        Your results must be reproducible by the graders based on what you provided in the report.\n",
    "    Conclusions: \n",
    "        Describe the implications of your findings\n",
    "        Were you able to obtain definitive answers to your primarly questions, or is more work or data needed?\n",
    "        Were there any interesting discoveries that you would like to report?\n",
    "    \n",
    "**Submission** Submit your report the same way you submitted labs, using git. Also, you may submit draft versions of the report as early and often as you like, to make sure something is submitted."
   ]
  },
  {
   "cell_type": "markdown",
   "metadata": {},
   "source": [
    "### Project options (choose one, delete this section from your report)"
   ]
  },
  {
   "cell_type": "markdown",
   "metadata": {},
   "source": [
    "#### 1. Go deeper with the Pew Research Data\n",
    "\n",
    "The data from the Feb 2017 survey are included in the folder \"pew_survey\". The folder contains a zip file of everything including a list of the questions used in the survey. \n",
    "\n",
    "Not long after this survey came out, an article was published based on analyzing the results. The article claimed an association between respondents' answer to the question about support for the border wall with their geographic distance from the location of the wall (southern border with Mexico). \n",
    "\n",
    "Are you able to confirm or test this hypothesis? The data do not have the distances themselves, however, each respondent's state of residence is included in the data. Can you contruct a new variable to capture at least approximately the distance to the broder for each respondent based on what state they live in? The use this as part of your analysis of the effect of distance to the border as a predictor for the answer to the border wall question. \n",
    "\n",
    "Watch out for possible confounding variables. Is geography related to party affiliation, for example?\n",
    "\n",
    "Make sure you use appropriate train/test/cross-validation evaluation of your models and statistical inferences."
   ]
  },
  {
   "cell_type": "markdown",
   "metadata": {},
   "source": [
    "#### 2. Larger scale email spam analysis"
   ]
  },
  {
   "cell_type": "markdown",
   "metadata": {},
   "source": [
    "In one of the labs we considered a subset of the email spam data and a subset of the variables that were measured on each message in the data. See if you can do better predicting spam based on all the data and variables. The full set is in the folder 'email_spam'. Be sure to train/test and/or cross-validate any performance metrics. Also use appropriate graphical summaries to support your work. \n",
    "\n",
    "Note that many of the variables in the study have a high proportion of zero values (e.g., messages with no semi-colins will have 'char_freq_;' = 0. They are also skewed. Should these just be recoded as 0/1 presence/absence of the character or word? perhaps a transformation of these variables is helpful, e.g., ln(x+1), which =0 if x=0 and can make the nonzero values more symmetrically distributed. This transformation is available in numpy as .log1p\n"
   ]
  },
  {
   "cell_type": "markdown",
   "metadata": {},
   "source": [
    "#### 3. Gene expression analysis of breast cancer recurrence\n",
    "\n",
    "In class notes we considered the association between gene expression for 50 genes and tumor size, for a sample of breast cancer patients who had been treated with tamoxifen. What about predicting breast cancer recurrence or nonrecurrence using gene expressions. is it possible? \n",
    "\n",
    "A larger set of 2000 genes is available. The data are in the folder 'breast_cancer' in two csv files: clin_data.csv and gene_expr_all.csv. The clinical data file contains the outcome variable 'Status'. This equals 'RF' if the patient was \"recurrence free\" (no return of cancer) and equals 'R' (recurrence of cancer) by the end of the study period.\n",
    "\n",
    "Are you able to build an effective classifcation model based on the gene expressions? Here it is critically important to train/test/corss-validate because there are so many genes available. \n",
    "\n",
    "Another challenge is that even our regularized methods may fail when there are potentially 200 variables to choose from. Some kind of preliminary screening may be necessary to get any kind of resonable results. For example, computing all the  two-sample t test values, sorting them and selecting the top small percentage to inlcude in the regularized model building step. \n",
    "\n",
    "If you do this kind of variable screening, it will be better to do that on the training data only, so it becomes part of the test evaluation."
   ]
  },
  {
   "cell_type": "markdown",
   "metadata": {},
   "source": [
    "### Tip: \n",
    "\n",
    "I recommend you save a copy of this file under a different name, like 'instructions.ipynb'. Call your final report 'project.ipynb'. It is also a good idea to create a pdf of your report and include that in your report folder."
   ]
  }
 ],
 "metadata": {
  "kernelspec": {
   "display_name": "Python 3",
   "language": "python",
   "name": "python3"
  },
  "language_info": {
   "codemirror_mode": {
    "name": "ipython",
    "version": 3
   },
   "file_extension": ".py",
   "mimetype": "text/x-python",
   "name": "python",
   "nbconvert_exporter": "python",
   "pygments_lexer": "ipython3",
   "version": "3.8.5"
  }
 },
 "nbformat": 4,
 "nbformat_minor": 2
}
