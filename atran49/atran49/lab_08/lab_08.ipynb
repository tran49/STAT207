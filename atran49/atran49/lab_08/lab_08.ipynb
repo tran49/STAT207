{
 "cells": [
  {
   "cell_type": "markdown",
   "metadata": {},
   "source": [
    "# Lab 8 \n",
    "Due 10/27/20 11:59pm CST\n",
    "\n",
    "The following dataset contains a random sample of data from the 2000 US Census."
   ]
  },
  {
   "cell_type": "markdown",
   "metadata": {},
   "source": [
    "## Imports"
   ]
  },
  {
   "cell_type": "code",
   "execution_count": 1,
   "metadata": {},
   "outputs": [],
   "source": [
    "import pandas as pd\n",
    "import matplotlib.pyplot as plt\n",
    "import seaborn as sns; sns.set()\n",
    "from scipy.stats import norm\n",
    "import statsmodels.api as sm\n",
    "import statsmodels.formula.api as smf\n",
    "import numpy as np\n",
    "from scipy.stats import t"
   ]
  },
  {
   "cell_type": "markdown",
   "metadata": {},
   "source": [
    "## 1. [0.5pt] Read the census.csv dataset into a dataframe called df."
   ]
  },
  {
   "cell_type": "code",
   "execution_count": 2,
   "metadata": {},
   "outputs": [
    {
     "data": {
      "text/html": [
       "<div>\n",
       "<style scoped>\n",
       "    .dataframe tbody tr th:only-of-type {\n",
       "        vertical-align: middle;\n",
       "    }\n",
       "\n",
       "    .dataframe tbody tr th {\n",
       "        vertical-align: top;\n",
       "    }\n",
       "\n",
       "    .dataframe thead th {\n",
       "        text-align: right;\n",
       "    }\n",
       "</style>\n",
       "<table border=\"1\" class=\"dataframe\">\n",
       "  <thead>\n",
       "    <tr style=\"text-align: right;\">\n",
       "      <th></th>\n",
       "      <th>state_fips_code</th>\n",
       "      <th>age</th>\n",
       "      <th>sex</th>\n",
       "      <th>marital_status</th>\n",
       "      <th>total_personal_income</th>\n",
       "    </tr>\n",
       "  </thead>\n",
       "  <tbody>\n",
       "    <tr>\n",
       "      <th>0</th>\n",
       "      <td>Alabama</td>\n",
       "      <td>73</td>\n",
       "      <td>Female</td>\n",
       "      <td>Divorced</td>\n",
       "      <td>3000</td>\n",
       "    </tr>\n",
       "    <tr>\n",
       "      <th>1</th>\n",
       "      <td>Alabama</td>\n",
       "      <td>60</td>\n",
       "      <td>Female</td>\n",
       "      <td>Divorced</td>\n",
       "      <td>11200</td>\n",
       "    </tr>\n",
       "    <tr>\n",
       "      <th>2</th>\n",
       "      <td>Alabama</td>\n",
       "      <td>43</td>\n",
       "      <td>Female</td>\n",
       "      <td>Married</td>\n",
       "      <td>15300</td>\n",
       "    </tr>\n",
       "    <tr>\n",
       "      <th>3</th>\n",
       "      <td>Alabama</td>\n",
       "      <td>40</td>\n",
       "      <td>Male</td>\n",
       "      <td>Married</td>\n",
       "      <td>47950</td>\n",
       "    </tr>\n",
       "    <tr>\n",
       "      <th>4</th>\n",
       "      <td>Arizona</td>\n",
       "      <td>27</td>\n",
       "      <td>Male</td>\n",
       "      <td>Married</td>\n",
       "      <td>14000</td>\n",
       "    </tr>\n",
       "    <tr>\n",
       "      <th>...</th>\n",
       "      <td>...</td>\n",
       "      <td>...</td>\n",
       "      <td>...</td>\n",
       "      <td>...</td>\n",
       "      <td>...</td>\n",
       "    </tr>\n",
       "    <tr>\n",
       "      <th>334</th>\n",
       "      <td>Wisconsin</td>\n",
       "      <td>63</td>\n",
       "      <td>Male</td>\n",
       "      <td>Divorced</td>\n",
       "      <td>34500</td>\n",
       "    </tr>\n",
       "    <tr>\n",
       "      <th>335</th>\n",
       "      <td>Wisconsin</td>\n",
       "      <td>78</td>\n",
       "      <td>Male</td>\n",
       "      <td>Single</td>\n",
       "      <td>38400</td>\n",
       "    </tr>\n",
       "    <tr>\n",
       "      <th>336</th>\n",
       "      <td>Wisconsin</td>\n",
       "      <td>31</td>\n",
       "      <td>Male</td>\n",
       "      <td>Married</td>\n",
       "      <td>39510</td>\n",
       "    </tr>\n",
       "    <tr>\n",
       "      <th>337</th>\n",
       "      <td>Wisconsin</td>\n",
       "      <td>40</td>\n",
       "      <td>Male</td>\n",
       "      <td>Divorced</td>\n",
       "      <td>49100</td>\n",
       "    </tr>\n",
       "    <tr>\n",
       "      <th>338</th>\n",
       "      <td>Wisconsin</td>\n",
       "      <td>61</td>\n",
       "      <td>Male</td>\n",
       "      <td>Married</td>\n",
       "      <td>55000</td>\n",
       "    </tr>\n",
       "  </tbody>\n",
       "</table>\n",
       "<p>339 rows × 5 columns</p>\n",
       "</div>"
      ],
      "text/plain": [
       "    state_fips_code  age     sex marital_status  total_personal_income\n",
       "0           Alabama   73  Female       Divorced                   3000\n",
       "1           Alabama   60  Female       Divorced                  11200\n",
       "2           Alabama   43  Female       Married                   15300\n",
       "3           Alabama   40    Male       Married                   47950\n",
       "4           Arizona   27    Male       Married                   14000\n",
       "..              ...  ...     ...            ...                    ...\n",
       "334       Wisconsin   63    Male       Divorced                  34500\n",
       "335       Wisconsin   78    Male         Single                  38400\n",
       "336       Wisconsin   31    Male       Married                   39510\n",
       "337       Wisconsin   40    Male       Divorced                  49100\n",
       "338       Wisconsin   61    Male       Married                   55000\n",
       "\n",
       "[339 rows x 5 columns]"
      ]
     },
     "execution_count": 2,
     "metadata": {},
     "output_type": "execute_result"
    }
   ],
   "source": [
    "df=pd.read_csv(\"census.csv\")\n",
    "df"
   ]
  },
  {
   "cell_type": "markdown",
   "metadata": {},
   "source": [
    "## 2. [0.5pt] Print the summary statistics of the numerical variables in the dataset."
   ]
  },
  {
   "cell_type": "code",
   "execution_count": 3,
   "metadata": {},
   "outputs": [
    {
     "data": {
      "text/html": [
       "<div>\n",
       "<style scoped>\n",
       "    .dataframe tbody tr th:only-of-type {\n",
       "        vertical-align: middle;\n",
       "    }\n",
       "\n",
       "    .dataframe tbody tr th {\n",
       "        vertical-align: top;\n",
       "    }\n",
       "\n",
       "    .dataframe thead th {\n",
       "        text-align: right;\n",
       "    }\n",
       "</style>\n",
       "<table border=\"1\" class=\"dataframe\">\n",
       "  <thead>\n",
       "    <tr style=\"text-align: right;\">\n",
       "      <th></th>\n",
       "      <th>age</th>\n",
       "      <th>total_personal_income</th>\n",
       "    </tr>\n",
       "  </thead>\n",
       "  <tbody>\n",
       "    <tr>\n",
       "      <th>count</th>\n",
       "      <td>339.000000</td>\n",
       "      <td>339.000000</td>\n",
       "    </tr>\n",
       "    <tr>\n",
       "      <th>mean</th>\n",
       "      <td>44.138643</td>\n",
       "      <td>33641.404130</td>\n",
       "    </tr>\n",
       "    <tr>\n",
       "      <th>std</th>\n",
       "      <td>17.471912</td>\n",
       "      <td>47989.866784</td>\n",
       "    </tr>\n",
       "    <tr>\n",
       "      <th>min</th>\n",
       "      <td>16.000000</td>\n",
       "      <td>10.000000</td>\n",
       "    </tr>\n",
       "    <tr>\n",
       "      <th>25%</th>\n",
       "      <td>30.000000</td>\n",
       "      <td>10650.000000</td>\n",
       "    </tr>\n",
       "    <tr>\n",
       "      <th>50%</th>\n",
       "      <td>41.000000</td>\n",
       "      <td>22700.000000</td>\n",
       "    </tr>\n",
       "    <tr>\n",
       "      <th>75%</th>\n",
       "      <td>56.000000</td>\n",
       "      <td>40000.000000</td>\n",
       "    </tr>\n",
       "    <tr>\n",
       "      <th>max</th>\n",
       "      <td>93.000000</td>\n",
       "      <td>456000.000000</td>\n",
       "    </tr>\n",
       "  </tbody>\n",
       "</table>\n",
       "</div>"
      ],
      "text/plain": [
       "              age  total_personal_income\n",
       "count  339.000000             339.000000\n",
       "mean    44.138643           33641.404130\n",
       "std     17.471912           47989.866784\n",
       "min     16.000000              10.000000\n",
       "25%     30.000000           10650.000000\n",
       "50%     41.000000           22700.000000\n",
       "75%     56.000000           40000.000000\n",
       "max     93.000000          456000.000000"
      ]
     },
     "execution_count": 3,
     "metadata": {},
     "output_type": "execute_result"
    }
   ],
   "source": [
    "df.describe()"
   ]
  },
  {
   "cell_type": "markdown",
   "metadata": {},
   "source": [
    "## 3. [0.5pt] Display the histograms for the total_personal_income and age variables in the data."
   ]
  },
  {
   "cell_type": "code",
   "execution_count": 4,
   "metadata": {},
   "outputs": [
    {
     "data": {
      "image/png": "[encoded data removed]",
      "text/plain": [
       "<Figure size 432x288 with 2 Axes>"
      ]
     },
     "metadata": {},
     "output_type": "display_data"
    }
   ],
   "source": [
    "df.hist(bins=50)\n",
    "plt.show()"
   ]
  },
  {
   "cell_type": "markdown",
   "metadata": {},
   "source": [
    "## 4. [2pt] Display a scatterplots for the showing the relationship between age and total_personal_income. \n",
    "* Color code each point by marital status\n",
    "* Have the shape (ie. style) of the point indicate the sex of the person."
   ]
  },
  {
   "cell_type": "code",
   "execution_count": 5,
   "metadata": {},
   "outputs": [
    {
     "data": {
      "image/png": "[encoded data removed]",
      "text/plain": [
       "<Figure size 432x288 with 1 Axes>"
      ]
     },
     "metadata": {},
     "output_type": "display_data"
    }
   ],
   "source": [
    "sns.scatterplot(x='age',y='total_personal_income',hue='marital_status',style='sex',data=df)\n",
    "plt.show()"
   ]
  },
  {
   "cell_type": "markdown",
   "metadata": {},
   "source": [
    "## 5. [0.5pt] What is the correlation between age and total_personal income."
   ]
  },
  {
   "cell_type": "code",
   "execution_count": 6,
   "metadata": {},
   "outputs": [
    {
     "data": {
      "text/html": [
       "<div>\n",
       "<style scoped>\n",
       "    .dataframe tbody tr th:only-of-type {\n",
       "        vertical-align: middle;\n",
       "    }\n",
       "\n",
       "    .dataframe tbody tr th {\n",
       "        vertical-align: top;\n",
       "    }\n",
       "\n",
       "    .dataframe thead th {\n",
       "        text-align: right;\n",
       "    }\n",
       "</style>\n",
       "<table border=\"1\" class=\"dataframe\">\n",
       "  <thead>\n",
       "    <tr style=\"text-align: right;\">\n",
       "      <th></th>\n",
       "      <th>age</th>\n",
       "      <th>total_personal_income</th>\n",
       "    </tr>\n",
       "  </thead>\n",
       "  <tbody>\n",
       "    <tr>\n",
       "      <th>age</th>\n",
       "      <td>1.000000</td>\n",
       "      <td>0.109283</td>\n",
       "    </tr>\n",
       "    <tr>\n",
       "      <th>total_personal_income</th>\n",
       "      <td>0.109283</td>\n",
       "      <td>1.000000</td>\n",
       "    </tr>\n",
       "  </tbody>\n",
       "</table>\n",
       "</div>"
      ],
      "text/plain": [
       "                            age  total_personal_income\n",
       "age                    1.000000               0.109283\n",
       "total_personal_income  0.109283               1.000000"
      ]
     },
     "execution_count": 6,
     "metadata": {},
     "output_type": "execute_result"
    }
   ],
   "source": [
    "df.corr()"
   ]
  },
  {
   "cell_type": "markdown",
   "metadata": {},
   "source": [
    "## 6. [0.5pt] Count the number of levels for the three categorical variables in the dataset."
   ]
  },
  {
   "cell_type": "code",
   "execution_count": 7,
   "metadata": {},
   "outputs": [
    {
     "name": "stdout",
     "output_type": "stream",
     "text": [
      "number of levels for marita status:  5\n"
     ]
    }
   ],
   "source": [
    "print(\"number of levels for marita status: \", df['marital_status'].nunique())"
   ]
  },
  {
   "cell_type": "code",
   "execution_count": 8,
   "metadata": {},
   "outputs": [
    {
     "name": "stdout",
     "output_type": "stream",
     "text": [
      "number of levels for sex:  2\n"
     ]
    }
   ],
   "source": [
    "print(\"number of levels for sex: \", df['sex'].nunique())"
   ]
  },
  {
   "cell_type": "code",
   "execution_count": 9,
   "metadata": {},
   "outputs": [
    {
     "name": "stdout",
     "output_type": "stream",
     "text": [
      "number of levels for state_fips_code:  44\n"
     ]
    }
   ],
   "source": [
    "print(\"number of levels for state_fips_code: \", df['state_fips_code'].nunique())"
   ]
  },
  {
   "cell_type": "markdown",
   "metadata": {},
   "source": [
    "## 7. [3pt] Fit a multiple linear regression model with total_personal_income as the response variable and a.) age, b.) marital_status, c.) sex, and d.) the interaction of sex and age as the explanatory variables. Print out the summary of the model."
   ]
  },
  {
   "cell_type": "code",
   "execution_count": 10,
   "metadata": {},
   "outputs": [
    {
     "data": {
      "text/html": [
       "<table class=\"simpletable\">\n",
       "<caption>OLS Regression Results</caption>\n",
       "<tr>\n",
       "  <th>Dep. Variable:</th>    <td>total_personal_income</td> <th>  R-squared:         </th> <td>   0.118</td>\n",
       "</tr>\n",
       "<tr>\n",
       "  <th>Model:</th>                     <td>OLS</td>          <th>  Adj. R-squared:    </th> <td>   0.099</td>\n",
       "</tr>\n",
       "<tr>\n",
       "  <th>Method:</th>               <td>Least Squares</td>     <th>  F-statistic:       </th> <td>   6.306</td>\n",
       "</tr>\n",
       "<tr>\n",
       "  <th>Date:</th>               <td>Tue, 27 Oct 2020</td>    <th>  Prob (F-statistic):</th> <td>5.82e-07</td>\n",
       "</tr>\n",
       "<tr>\n",
       "  <th>Time:</th>                   <td>21:34:35</td>        <th>  Log-Likelihood:    </th> <td> -4113.3</td>\n",
       "</tr>\n",
       "<tr>\n",
       "  <th>No. Observations:</th>        <td>   339</td>         <th>  AIC:               </th> <td>   8243.</td>\n",
       "</tr>\n",
       "<tr>\n",
       "  <th>Df Residuals:</th>            <td>   331</td>         <th>  BIC:               </th> <td>   8273.</td>\n",
       "</tr>\n",
       "<tr>\n",
       "  <th>Df Model:</th>                <td>     7</td>         <th>                     </th>     <td> </td>   \n",
       "</tr>\n",
       "<tr>\n",
       "  <th>Covariance Type:</th>        <td>nonrobust</td>       <th>                     </th>     <td> </td>   \n",
       "</tr>\n",
       "</table>\n",
       "<table class=\"simpletable\">\n",
       "<tr>\n",
       "               <td></td>                  <th>coef</th>     <th>std err</th>      <th>t</th>      <th>P>|t|</th>  <th>[0.025</th>    <th>0.975]</th>  \n",
       "</tr>\n",
       "<tr>\n",
       "  <th>Intercept</th>                   <td> 1.316e+04</td> <td> 1.36e+04</td> <td>    0.966</td> <td> 0.335</td> <td>-1.36e+04</td> <td>    4e+04</td>\n",
       "</tr>\n",
       "<tr>\n",
       "  <th>marital_status[T.Married ]</th>  <td> 8986.5225</td> <td> 8394.200</td> <td>    1.071</td> <td> 0.285</td> <td>-7526.185</td> <td> 2.55e+04</td>\n",
       "</tr>\n",
       "<tr>\n",
       "  <th>marital_status[T.Separated]</th> <td>-8367.5842</td> <td> 3.32e+04</td> <td>   -0.252</td> <td> 0.801</td> <td>-7.38e+04</td> <td>  5.7e+04</td>\n",
       "</tr>\n",
       "<tr>\n",
       "  <th>marital_status[T.Single]</th>    <td>-6449.3647</td> <td> 9526.561</td> <td>   -0.677</td> <td> 0.499</td> <td>-2.52e+04</td> <td> 1.23e+04</td>\n",
       "</tr>\n",
       "<tr>\n",
       "  <th>marital_status[T.Widowed]</th>   <td>-2.022e+04</td> <td> 1.25e+04</td> <td>   -1.621</td> <td> 0.106</td> <td>-4.48e+04</td> <td> 4315.480</td>\n",
       "</tr>\n",
       "<tr>\n",
       "  <th>sex[T.Male]</th>                 <td> 6156.5126</td> <td> 1.36e+04</td> <td>    0.454</td> <td> 0.650</td> <td>-2.05e+04</td> <td> 3.28e+04</td>\n",
       "</tr>\n",
       "<tr>\n",
       "  <th>age</th>                         <td>  158.6316</td> <td>  231.993</td> <td>    0.684</td> <td> 0.495</td> <td> -297.734</td> <td>  614.997</td>\n",
       "</tr>\n",
       "<tr>\n",
       "  <th>sex[T.Male]:age</th>             <td>  367.5405</td> <td>  287.913</td> <td>    1.277</td> <td> 0.203</td> <td> -198.829</td> <td>  933.910</td>\n",
       "</tr>\n",
       "</table>\n",
       "<table class=\"simpletable\">\n",
       "<tr>\n",
       "  <th>Omnibus:</th>       <td>403.584</td> <th>  Durbin-Watson:     </th> <td>   1.684</td> \n",
       "</tr>\n",
       "<tr>\n",
       "  <th>Prob(Omnibus):</th> <td> 0.000</td>  <th>  Jarque-Bera (JB):  </th> <td>24655.348</td>\n",
       "</tr>\n",
       "<tr>\n",
       "  <th>Skew:</th>          <td> 5.421</td>  <th>  Prob(JB):          </th> <td>    0.00</td> \n",
       "</tr>\n",
       "<tr>\n",
       "  <th>Kurtosis:</th>      <td>43.348</td>  <th>  Cond. No.          </th> <td>    747.</td> \n",
       "</tr>\n",
       "</table><br/><br/>Notes:<br/>[1] Standard Errors assume that the covariance matrix of the errors is correctly specified."
      ],
      "text/plain": [
       "<class 'statsmodels.iolib.summary.Summary'>\n",
       "\"\"\"\n",
       "                              OLS Regression Results                             \n",
       "=================================================================================\n",
       "Dep. Variable:     total_personal_income   R-squared:                       0.118\n",
       "Model:                               OLS   Adj. R-squared:                  0.099\n",
       "Method:                    Least Squares   F-statistic:                     6.306\n",
       "Date:                   Tue, 27 Oct 2020   Prob (F-statistic):           5.82e-07\n",
       "Time:                           21:34:35   Log-Likelihood:                -4113.3\n",
       "No. Observations:                    339   AIC:                             8243.\n",
       "Df Residuals:                        331   BIC:                             8273.\n",
       "Df Model:                              7                                         \n",
       "Covariance Type:               nonrobust                                         \n",
       "===============================================================================================\n",
       "                                  coef    std err          t      P>|t|      [0.025      0.975]\n",
       "-----------------------------------------------------------------------------------------------\n",
       "Intercept                    1.316e+04   1.36e+04      0.966      0.335   -1.36e+04       4e+04\n",
       "marital_status[T.Married ]   8986.5225   8394.200      1.071      0.285   -7526.185    2.55e+04\n",
       "marital_status[T.Separated] -8367.5842   3.32e+04     -0.252      0.801   -7.38e+04     5.7e+04\n",
       "marital_status[T.Single]    -6449.3647   9526.561     -0.677      0.499   -2.52e+04    1.23e+04\n",
       "marital_status[T.Widowed]   -2.022e+04   1.25e+04     -1.621      0.106   -4.48e+04    4315.480\n",
       "sex[T.Male]                  6156.5126   1.36e+04      0.454      0.650   -2.05e+04    3.28e+04\n",
       "age                           158.6316    231.993      0.684      0.495    -297.734     614.997\n",
       "sex[T.Male]:age               367.5405    287.913      1.277      0.203    -198.829     933.910\n",
       "==============================================================================\n",
       "Omnibus:                      403.584   Durbin-Watson:                   1.684\n",
       "Prob(Omnibus):                  0.000   Jarque-Bera (JB):            24655.348\n",
       "Skew:                           5.421   Prob(JB):                         0.00\n",
       "Kurtosis:                      43.348   Cond. No.                         747.\n",
       "==============================================================================\n",
       "\n",
       "Notes:\n",
       "[1] Standard Errors assume that the covariance matrix of the errors is correctly specified.\n",
       "\"\"\""
      ]
     },
     "execution_count": 10,
     "metadata": {},
     "output_type": "execute_result"
    }
   ],
   "source": [
    "mod=smf.ols('total_personal_income ~ age + marital_status + sex + sex*age',data=df).fit()\n",
    "mod.summary()"
   ]
  },
  {
   "cell_type": "markdown",
   "metadata": {},
   "source": [
    "## 8. [2 pt] Write out the multiple linear regression model.\n",
    "* Make sure you put a \"hat\" over the response variable value to indicate that this equation models what we predict the response variable value will be.\n",
    "* Put your variables in words (ie. don't write \"y\" actually write \"total_personal_income\" in your equation."
   ]
  },
  {
   "cell_type": "markdown",
   "metadata": {},
   "source": [
    "\n",
    "$\\hat{TotalPersonalIncome}$= 13,160 + 8986.5255 status_married - 8367.5842 status_separated - 6449.3647 status_single - 20220 status_widowed + 6156.5126 sex_male + 158.6316 age + 367.5405 sex_male.age"
   ]
  },
  {
   "cell_type": "markdown",
   "metadata": {},
   "source": [
    "## 9. [ 2pt] The first observation in the dataset is a 73 year old, divorced female, from Alabama that has a total personal income of $3000. Predict the total personal income of this woman with the model (by hand.)"
   ]
  },
  {
   "cell_type": "markdown",
   "metadata": {},
   "source": [
    "Since the first observation is a 73 years old, divorced female. Just the slope of age is helpful to calculate the estimated income (other slopes will be zero)"
   ]
  },
  {
   "cell_type": "markdown",
   "metadata": {},
   "source": [
    "$\\hat{TotalPersonalIncome}$= 13,160 + 158.6316 age = 13,160 + 158.6316*73 = 24,740.1068"
   ]
  },
  {
   "cell_type": "markdown",
   "metadata": {},
   "source": [
    "## 10. [0.5 pt] Calculate the residual for this woman's prediction."
   ]
  },
  {
   "cell_type": "code",
   "execution_count": 11,
   "metadata": {},
   "outputs": [
    {
     "name": "stdout",
     "output_type": "stream",
     "text": [
      "residual:  -21740.1068\n"
     ]
    }
   ],
   "source": [
    "r=3000-24740.1068\n",
    "print('residual: ',r)"
   ]
  },
  {
   "cell_type": "markdown",
   "metadata": {},
   "source": [
    "## 11. [1 pt] Display the fitted values plot vs. residuals plot for this model"
   ]
  },
  {
   "cell_type": "code",
   "execution_count": 12,
   "metadata": {},
   "outputs": [
    {
     "data": {
      "image/png": "[encoded data removed]",
      "text/plain": [
       "<Figure size 432x288 with 1 Axes>"
      ]
     },
     "metadata": {},
     "output_type": "display_data"
    }
   ],
   "source": [
    "sns.regplot(x=mod.fittedvalues, y=mod.resid, ci=None)\n",
    "plt.xlabel('Fitted Values')\n",
    "plt.ylabel('Residuals')\n",
    "plt.title('Residuals versus Fitted Values')\n",
    "plt.show()"
   ]
  },
  {
   "cell_type": "markdown",
   "metadata": {},
   "source": [
    "## 12 [1pt] Display a histogram of the residuals for this model."
   ]
  },
  {
   "cell_type": "code",
   "execution_count": 13,
   "metadata": {},
   "outputs": [
    {
     "data": {
      "image/png": "[encoded data removed]",
      "text/plain": [
       "<Figure size 432x288 with 1 Axes>"
      ]
     },
     "metadata": {},
     "output_type": "display_data"
    }
   ],
   "source": [
    "plt.hist(mod.resid, bins=100)\n",
    "plt.show()"
   ]
  },
  {
   "cell_type": "markdown",
   "metadata": {},
   "source": [
    "## 13. [1 pt] Does this model meet the linearity condition? Why or why not?"
   ]
  },
  {
   "cell_type": "markdown",
   "metadata": {},
   "source": [
    "The linearity condition is not really met, it is hard to see the linear relationship in the graph."
   ]
  },
  {
   "cell_type": "markdown",
   "metadata": {},
   "source": [
    "## 14[1pt] Does this model meet the constant variance of residuals condition? Why or why not?"
   ]
  },
  {
   "cell_type": "markdown",
   "metadata": {},
   "source": [
    "The constant variance of residuals condition is not really met, the residuals range increases as the fitted values increase."
   ]
  },
  {
   "cell_type": "markdown",
   "metadata": {},
   "source": [
    "## 15 [1pt] Does this model meet the condition in which the residuals are normal with a mean of 0? Why or why not?"
   ]
  },
  {
   "cell_type": "markdown",
   "metadata": {},
   "source": [
    "The normality of residuals condition is not really met. The distribution of residuals is somewhat normal, but the graph is right-skewed because of the outliers on the right."
   ]
  },
  {
   "cell_type": "markdown",
   "metadata": {},
   "source": [
    "## 16 [1pt] Create a new variable in df which is the $log_{10}()$ of the total_personal_income variable. Call this new variable log_total_personal_income."
   ]
  },
  {
   "cell_type": "code",
   "execution_count": 14,
   "metadata": {},
   "outputs": [
    {
     "data": {
      "text/html": [
       "<div>\n",
       "<style scoped>\n",
       "    .dataframe tbody tr th:only-of-type {\n",
       "        vertical-align: middle;\n",
       "    }\n",
       "\n",
       "    .dataframe tbody tr th {\n",
       "        vertical-align: top;\n",
       "    }\n",
       "\n",
       "    .dataframe thead th {\n",
       "        text-align: right;\n",
       "    }\n",
       "</style>\n",
       "<table border=\"1\" class=\"dataframe\">\n",
       "  <thead>\n",
       "    <tr style=\"text-align: right;\">\n",
       "      <th></th>\n",
       "      <th>state_fips_code</th>\n",
       "      <th>age</th>\n",
       "      <th>sex</th>\n",
       "      <th>marital_status</th>\n",
       "      <th>total_personal_income</th>\n",
       "      <th>log_total_personal_income</th>\n",
       "    </tr>\n",
       "  </thead>\n",
       "  <tbody>\n",
       "    <tr>\n",
       "      <th>0</th>\n",
       "      <td>Alabama</td>\n",
       "      <td>73</td>\n",
       "      <td>Female</td>\n",
       "      <td>Divorced</td>\n",
       "      <td>3000</td>\n",
       "      <td>3.477121</td>\n",
       "    </tr>\n",
       "    <tr>\n",
       "      <th>1</th>\n",
       "      <td>Alabama</td>\n",
       "      <td>60</td>\n",
       "      <td>Female</td>\n",
       "      <td>Divorced</td>\n",
       "      <td>11200</td>\n",
       "      <td>4.049218</td>\n",
       "    </tr>\n",
       "    <tr>\n",
       "      <th>2</th>\n",
       "      <td>Alabama</td>\n",
       "      <td>43</td>\n",
       "      <td>Female</td>\n",
       "      <td>Married</td>\n",
       "      <td>15300</td>\n",
       "      <td>4.184691</td>\n",
       "    </tr>\n",
       "    <tr>\n",
       "      <th>3</th>\n",
       "      <td>Alabama</td>\n",
       "      <td>40</td>\n",
       "      <td>Male</td>\n",
       "      <td>Married</td>\n",
       "      <td>47950</td>\n",
       "      <td>4.680789</td>\n",
       "    </tr>\n",
       "    <tr>\n",
       "      <th>4</th>\n",
       "      <td>Arizona</td>\n",
       "      <td>27</td>\n",
       "      <td>Male</td>\n",
       "      <td>Married</td>\n",
       "      <td>14000</td>\n",
       "      <td>4.146128</td>\n",
       "    </tr>\n",
       "  </tbody>\n",
       "</table>\n",
       "</div>"
      ],
      "text/plain": [
       "  state_fips_code  age     sex marital_status  total_personal_income  \\\n",
       "0         Alabama   73  Female       Divorced                   3000   \n",
       "1         Alabama   60  Female       Divorced                  11200   \n",
       "2         Alabama   43  Female       Married                   15300   \n",
       "3         Alabama   40    Male       Married                   47950   \n",
       "4         Arizona   27    Male       Married                   14000   \n",
       "\n",
       "   log_total_personal_income  \n",
       "0                   3.477121  \n",
       "1                   4.049218  \n",
       "2                   4.184691  \n",
       "3                   4.680789  \n",
       "4                   4.146128  "
      ]
     },
     "execution_count": 14,
     "metadata": {},
     "output_type": "execute_result"
    }
   ],
   "source": [
    "df['log_total_personal_income']=np.log10(df['total_personal_income'])\n",
    "df.head()"
   ]
  },
  {
   "cell_type": "markdown",
   "metadata": {},
   "source": [
    "## 17. [1pt] Refit the model using this log_total_personal_income as your response variable instead. Print out the summary of this model."
   ]
  },
  {
   "cell_type": "code",
   "execution_count": 15,
   "metadata": {},
   "outputs": [
    {
     "data": {
      "text/html": [
       "<table class=\"simpletable\">\n",
       "<caption>OLS Regression Results</caption>\n",
       "<tr>\n",
       "  <th>Dep. Variable:</th>    <td>log_total_personal_income</td> <th>  R-squared:         </th> <td>   0.157</td>\n",
       "</tr>\n",
       "<tr>\n",
       "  <th>Model:</th>                       <td>OLS</td>            <th>  Adj. R-squared:    </th> <td>   0.140</td>\n",
       "</tr>\n",
       "<tr>\n",
       "  <th>Method:</th>                 <td>Least Squares</td>       <th>  F-statistic:       </th> <td>   8.831</td>\n",
       "</tr>\n",
       "<tr>\n",
       "  <th>Date:</th>                 <td>Tue, 27 Oct 2020</td>      <th>  Prob (F-statistic):</th> <td>5.71e-10</td>\n",
       "</tr>\n",
       "<tr>\n",
       "  <th>Time:</th>                     <td>21:34:36</td>          <th>  Log-Likelihood:    </th> <td> -236.01</td>\n",
       "</tr>\n",
       "<tr>\n",
       "  <th>No. Observations:</th>          <td>   339</td>           <th>  AIC:               </th> <td>   488.0</td>\n",
       "</tr>\n",
       "<tr>\n",
       "  <th>Df Residuals:</th>              <td>   331</td>           <th>  BIC:               </th> <td>   518.6</td>\n",
       "</tr>\n",
       "<tr>\n",
       "  <th>Df Model:</th>                  <td>     7</td>           <th>                     </th>     <td> </td>   \n",
       "</tr>\n",
       "<tr>\n",
       "  <th>Covariance Type:</th>          <td>nonrobust</td>         <th>                     </th>     <td> </td>   \n",
       "</tr>\n",
       "</table>\n",
       "<table class=\"simpletable\">\n",
       "<tr>\n",
       "               <td></td>                  <th>coef</th>     <th>std err</th>      <th>t</th>      <th>P>|t|</th>  <th>[0.025</th>    <th>0.975]</th>  \n",
       "</tr>\n",
       "<tr>\n",
       "  <th>Intercept</th>                   <td>    4.0286</td> <td>    0.147</td> <td>   27.419</td> <td> 0.000</td> <td>    3.740</td> <td>    4.318</td>\n",
       "</tr>\n",
       "<tr>\n",
       "  <th>marital_status[T.Married ]</th>  <td>    0.1186</td> <td>    0.091</td> <td>    1.310</td> <td> 0.191</td> <td>   -0.060</td> <td>    0.297</td>\n",
       "</tr>\n",
       "<tr>\n",
       "  <th>marital_status[T.Separated]</th> <td>   -0.0028</td> <td>    0.359</td> <td>   -0.008</td> <td> 0.994</td> <td>   -0.708</td> <td>    0.702</td>\n",
       "</tr>\n",
       "<tr>\n",
       "  <th>marital_status[T.Single]</th>    <td>   -0.1775</td> <td>    0.103</td> <td>   -1.727</td> <td> 0.085</td> <td>   -0.380</td> <td>    0.025</td>\n",
       "</tr>\n",
       "<tr>\n",
       "  <th>marital_status[T.Widowed]</th>   <td>   -0.2136</td> <td>    0.135</td> <td>   -1.588</td> <td> 0.113</td> <td>   -0.478</td> <td>    0.051</td>\n",
       "</tr>\n",
       "<tr>\n",
       "  <th>sex[T.Male]</th>                 <td>    0.0988</td> <td>    0.146</td> <td>    0.676</td> <td> 0.500</td> <td>   -0.189</td> <td>    0.387</td>\n",
       "</tr>\n",
       "<tr>\n",
       "  <th>age</th>                         <td>    0.0029</td> <td>    0.003</td> <td>    1.166</td> <td> 0.245</td> <td>   -0.002</td> <td>    0.008</td>\n",
       "</tr>\n",
       "<tr>\n",
       "  <th>sex[T.Male]:age</th>             <td>    0.0029</td> <td>    0.003</td> <td>    0.949</td> <td> 0.343</td> <td>   -0.003</td> <td>    0.009</td>\n",
       "</tr>\n",
       "</table>\n",
       "<table class=\"simpletable\">\n",
       "<tr>\n",
       "  <th>Omnibus:</th>       <td>125.064</td> <th>  Durbin-Watson:     </th> <td>   1.385</td> \n",
       "</tr>\n",
       "<tr>\n",
       "  <th>Prob(Omnibus):</th> <td> 0.000</td>  <th>  Jarque-Bera (JB):  </th> <td> 589.235</td> \n",
       "</tr>\n",
       "<tr>\n",
       "  <th>Skew:</th>          <td>-1.500</td>  <th>  Prob(JB):          </th> <td>1.12e-128</td>\n",
       "</tr>\n",
       "<tr>\n",
       "  <th>Kurtosis:</th>      <td> 8.720</td>  <th>  Cond. No.          </th> <td>    747.</td> \n",
       "</tr>\n",
       "</table><br/><br/>Notes:<br/>[1] Standard Errors assume that the covariance matrix of the errors is correctly specified."
      ],
      "text/plain": [
       "<class 'statsmodels.iolib.summary.Summary'>\n",
       "\"\"\"\n",
       "                                OLS Regression Results                               \n",
       "=====================================================================================\n",
       "Dep. Variable:     log_total_personal_income   R-squared:                       0.157\n",
       "Model:                                   OLS   Adj. R-squared:                  0.140\n",
       "Method:                        Least Squares   F-statistic:                     8.831\n",
       "Date:                       Tue, 27 Oct 2020   Prob (F-statistic):           5.71e-10\n",
       "Time:                               21:34:36   Log-Likelihood:                -236.01\n",
       "No. Observations:                        339   AIC:                             488.0\n",
       "Df Residuals:                            331   BIC:                             518.6\n",
       "Df Model:                                  7                                         \n",
       "Covariance Type:                   nonrobust                                         \n",
       "===============================================================================================\n",
       "                                  coef    std err          t      P>|t|      [0.025      0.975]\n",
       "-----------------------------------------------------------------------------------------------\n",
       "Intercept                       4.0286      0.147     27.419      0.000       3.740       4.318\n",
       "marital_status[T.Married ]      0.1186      0.091      1.310      0.191      -0.060       0.297\n",
       "marital_status[T.Separated]    -0.0028      0.359     -0.008      0.994      -0.708       0.702\n",
       "marital_status[T.Single]       -0.1775      0.103     -1.727      0.085      -0.380       0.025\n",
       "marital_status[T.Widowed]      -0.2136      0.135     -1.588      0.113      -0.478       0.051\n",
       "sex[T.Male]                     0.0988      0.146      0.676      0.500      -0.189       0.387\n",
       "age                             0.0029      0.003      1.166      0.245      -0.002       0.008\n",
       "sex[T.Male]:age                 0.0029      0.003      0.949      0.343      -0.003       0.009\n",
       "==============================================================================\n",
       "Omnibus:                      125.064   Durbin-Watson:                   1.385\n",
       "Prob(Omnibus):                  0.000   Jarque-Bera (JB):              589.235\n",
       "Skew:                          -1.500   Prob(JB):                    1.12e-128\n",
       "Kurtosis:                       8.720   Cond. No.                         747.\n",
       "==============================================================================\n",
       "\n",
       "Notes:\n",
       "[1] Standard Errors assume that the covariance matrix of the errors is correctly specified.\n",
       "\"\"\""
      ]
     },
     "execution_count": 15,
     "metadata": {},
     "output_type": "execute_result"
    }
   ],
   "source": [
    "log_mod=smf.ols('log_total_personal_income ~ age + marital_status + sex + sex*age',data=df).fit()\n",
    "log_mod.summary()"
   ]
  },
  {
   "cell_type": "markdown",
   "metadata": {},
   "source": [
    "## 18. [2 pt]Recheck the three linear regression conditions for this new model. Did this transformation help the new model better meet these conditions than the old model? Explain."
   ]
  },
  {
   "cell_type": "code",
   "execution_count": 16,
   "metadata": {},
   "outputs": [
    {
     "data": {
      "image/png": "[encoded data removed]",
      "text/plain": [
       "<Figure size 432x288 with 1 Axes>"
      ]
     },
     "metadata": {},
     "output_type": "display_data"
    }
   ],
   "source": [
    "sns.scatterplot(x='age',y='log_total_personal_income',hue='marital_status',style='sex',data=df)\n",
    "plt.show()"
   ]
  },
  {
   "cell_type": "code",
   "execution_count": 17,
   "metadata": {},
   "outputs": [
    {
     "data": {
      "image/png": "[encoded data removed]",
      "text/plain": [
       "<Figure size 432x288 with 1 Axes>"
      ]
     },
     "metadata": {},
     "output_type": "display_data"
    }
   ],
   "source": [
    "sns.regplot(x=log_mod.fittedvalues, y=log_mod.resid, ci=None)\n",
    "plt.xlabel('Fitted Values')\n",
    "plt.ylabel('Residuals')\n",
    "plt.title('Residuals versus Fitted Values')\n",
    "plt.show()"
   ]
  },
  {
   "cell_type": "code",
   "execution_count": 18,
   "metadata": {},
   "outputs": [
    {
     "data": {
      "image/png": "[encoded data removed]",
      "text/plain": [
       "<Figure size 432x288 with 1 Axes>"
      ]
     },
     "metadata": {},
     "output_type": "display_data"
    }
   ],
   "source": [
    "plt.hist(log_mod.resid, bins=100)\n",
    "plt.show()"
   ]
  },
  {
   "cell_type": "markdown",
   "metadata": {},
   "source": [
    "The linearity condition is not met. However, the constant variance of residuals condition is more likely to be met with less outliers. The residual distribution is more normal. To conclude, all graphs look better with the log transformation."
   ]
  },
  {
   "cell_type": "markdown",
   "metadata": {},
   "source": [
    "## 19 [2 pt] Is there sufficient evidence to suggest that the population slope for the interaction between age and sex is non-zero? Use the t-test and an $\\alpha=0.05$  and explain your answer."
   ]
  },
  {
   "cell_type": "code",
   "execution_count": 19,
   "metadata": {},
   "outputs": [
    {
     "data": {
      "text/html": [
       "<table class=\"simpletable\">\n",
       "<tr>\n",
       "               <td></td>                  <th>coef</th>     <th>std err</th>      <th>t</th>      <th>P>|t|</th>  <th>[0.025</th>    <th>0.975]</th>  \n",
       "</tr>\n",
       "<tr>\n",
       "  <th>Intercept</th>                   <td>    4.0286</td> <td>    0.147</td> <td>   27.419</td> <td> 0.000</td> <td>    3.740</td> <td>    4.318</td>\n",
       "</tr>\n",
       "<tr>\n",
       "  <th>marital_status[T.Married ]</th>  <td>    0.1186</td> <td>    0.091</td> <td>    1.310</td> <td> 0.191</td> <td>   -0.060</td> <td>    0.297</td>\n",
       "</tr>\n",
       "<tr>\n",
       "  <th>marital_status[T.Separated]</th> <td>   -0.0028</td> <td>    0.359</td> <td>   -0.008</td> <td> 0.994</td> <td>   -0.708</td> <td>    0.702</td>\n",
       "</tr>\n",
       "<tr>\n",
       "  <th>marital_status[T.Single]</th>    <td>   -0.1775</td> <td>    0.103</td> <td>   -1.727</td> <td> 0.085</td> <td>   -0.380</td> <td>    0.025</td>\n",
       "</tr>\n",
       "<tr>\n",
       "  <th>marital_status[T.Widowed]</th>   <td>   -0.2136</td> <td>    0.135</td> <td>   -1.588</td> <td> 0.113</td> <td>   -0.478</td> <td>    0.051</td>\n",
       "</tr>\n",
       "<tr>\n",
       "  <th>sex[T.Male]</th>                 <td>    0.0988</td> <td>    0.146</td> <td>    0.676</td> <td> 0.500</td> <td>   -0.189</td> <td>    0.387</td>\n",
       "</tr>\n",
       "<tr>\n",
       "  <th>age</th>                         <td>    0.0029</td> <td>    0.003</td> <td>    1.166</td> <td> 0.245</td> <td>   -0.002</td> <td>    0.008</td>\n",
       "</tr>\n",
       "<tr>\n",
       "  <th>sex[T.Male]:age</th>             <td>    0.0029</td> <td>    0.003</td> <td>    0.949</td> <td> 0.343</td> <td>   -0.003</td> <td>    0.009</td>\n",
       "</tr>\n",
       "</table>"
      ],
      "text/plain": [
       "<class 'statsmodels.iolib.table.SimpleTable'>"
      ]
     },
     "execution_count": 19,
     "metadata": {},
     "output_type": "execute_result"
    }
   ],
   "source": [
    "log_mod.summary().tables[1]"
   ]
  },
  {
   "cell_type": "markdown",
   "metadata": {},
   "source": [
    "The t-test of the interaction between age and sex is 0.949 and p-value is 0.343 > $\\alpha$ =0.05. Therefore, we fail to reject the null hypothesis. There is not sufficent evidence to suggest that the population slope for the interaction between age and sex is non-zero."
   ]
  },
  {
   "cell_type": "markdown",
   "metadata": {},
   "source": [
    "## 20 [2 pt] Is there sufficient evidence to suggest at least one of the population slopes in this model is non-zero? Use the f-test and an $\\alpha=0.05$ and explain your answer."
   ]
  },
  {
   "cell_type": "code",
   "execution_count": 20,
   "metadata": {},
   "outputs": [
    {
     "data": {
      "text/html": [
       "<table class=\"simpletable\">\n",
       "<caption>OLS Regression Results</caption>\n",
       "<tr>\n",
       "  <th>Dep. Variable:</th>    <td>log_total_personal_income</td> <th>  R-squared:         </th> <td>   0.157</td>\n",
       "</tr>\n",
       "<tr>\n",
       "  <th>Model:</th>                       <td>OLS</td>            <th>  Adj. R-squared:    </th> <td>   0.140</td>\n",
       "</tr>\n",
       "<tr>\n",
       "  <th>Method:</th>                 <td>Least Squares</td>       <th>  F-statistic:       </th> <td>   8.831</td>\n",
       "</tr>\n",
       "<tr>\n",
       "  <th>Date:</th>                 <td>Tue, 27 Oct 2020</td>      <th>  Prob (F-statistic):</th> <td>5.71e-10</td>\n",
       "</tr>\n",
       "<tr>\n",
       "  <th>Time:</th>                     <td>21:34:37</td>          <th>  Log-Likelihood:    </th> <td> -236.01</td>\n",
       "</tr>\n",
       "<tr>\n",
       "  <th>No. Observations:</th>          <td>   339</td>           <th>  AIC:               </th> <td>   488.0</td>\n",
       "</tr>\n",
       "<tr>\n",
       "  <th>Df Residuals:</th>              <td>   331</td>           <th>  BIC:               </th> <td>   518.6</td>\n",
       "</tr>\n",
       "<tr>\n",
       "  <th>Df Model:</th>                  <td>     7</td>           <th>                     </th>     <td> </td>   \n",
       "</tr>\n",
       "<tr>\n",
       "  <th>Covariance Type:</th>          <td>nonrobust</td>         <th>                     </th>     <td> </td>   \n",
       "</tr>\n",
       "</table>"
      ],
      "text/plain": [
       "<class 'statsmodels.iolib.table.SimpleTable'>"
      ]
     },
     "execution_count": 20,
     "metadata": {},
     "output_type": "execute_result"
    }
   ],
   "source": [
    "log_mod.summary().tables[0]"
   ]
  },
  {
   "cell_type": "markdown",
   "metadata": {},
   "source": [
    "The f-statistic is 8.831 and p-value is 5.71e-10 < $\\alpha$= 0.05. Therefore we reject the null hypothesis. There is sufficient evidence to suggest that atleast one of the population slopes in this model is non-zero"
   ]
  }
 ],
 "metadata": {
  "kernelspec": {
   "display_name": "Python 3",
   "language": "python",
   "name": "python3"
  },
  "language_info": {
   "codemirror_mode": {
    "name": "ipython",
    "version": 3
   },
   "file_extension": ".py",
   "mimetype": "text/x-python",
   "name": "python",
   "nbconvert_exporter": "python",
   "pygments_lexer": "ipython3",
   "version": "3.8.5"
  }
 },
 "nbformat": 4,
 "nbformat_minor": 4
}
