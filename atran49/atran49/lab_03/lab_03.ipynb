{
 "cells": [
  {
   "cell_type": "markdown",
   "metadata": {},
   "source": [
    "## STAT 207 Lab 3: Sampling, Loops and Functions"
   ]
  },
  {
   "cell_type": "markdown",
   "metadata": {},
   "source": [
    "Due: Tuesday, September 15, 23:59:59 CST"
   ]
  },
  {
   "cell_type": "markdown",
   "metadata": {},
   "source": [
    "Tuan Tran - atran49\n"
   ]
  },
  {
   "cell_type": "markdown",
   "metadata": {},
   "source": [
    "This lab consists of 3 main parts. You may add as many cells as you need in order to do the exercises. To add cells use the \"Insert\" tab from the menu bar above and select \"insert cell above\" or \"insert cell below\". \n",
    "\n",
    "The data file \"cards.csv\" is included in the release. It is a data frame representing the 52 cards in a standard deck of playing cards. Each row represents one of the 52 possible cards. For further details see the course notes \"04_Sampling\".\n",
    "\n",
    "**Note: Some problems require deriving answers mathematically or explaining rather than coding.**"
   ]
  },
  {
   "cell_type": "markdown",
   "metadata": {},
   "source": [
    "### Part 1 (8 pts) Sampling without replacement."
   ]
  },
  {
   "cell_type": "markdown",
   "metadata": {},
   "source": [
    "**a) (1 pt) Using python commands, read \"cards.csv\" into a pandas data frame, being sure to import any libraries that you need.  Display the first 5 rows of the data.**"
   ]
  },
  {
   "cell_type": "code",
   "execution_count": 1,
   "metadata": {},
   "outputs": [],
   "source": [
    "import pandas as pd"
   ]
  },
  {
   "cell_type": "code",
   "execution_count": 2,
   "metadata": {},
   "outputs": [
    {
     "data": {
      "text/html": [
       "<div>\n",
       "<style scoped>\n",
       "    .dataframe tbody tr th:only-of-type {\n",
       "        vertical-align: middle;\n",
       "    }\n",
       "\n",
       "    .dataframe tbody tr th {\n",
       "        vertical-align: top;\n",
       "    }\n",
       "\n",
       "    .dataframe thead th {\n",
       "        text-align: right;\n",
       "    }\n",
       "</style>\n",
       "<table border=\"1\" class=\"dataframe\">\n",
       "  <thead>\n",
       "    <tr style=\"text-align: right;\">\n",
       "      <th></th>\n",
       "      <th>color</th>\n",
       "      <th>suit</th>\n",
       "      <th>face</th>\n",
       "    </tr>\n",
       "  </thead>\n",
       "  <tbody>\n",
       "    <tr>\n",
       "      <th>0</th>\n",
       "      <td>black</td>\n",
       "      <td>club</td>\n",
       "      <td>A</td>\n",
       "    </tr>\n",
       "    <tr>\n",
       "      <th>1</th>\n",
       "      <td>black</td>\n",
       "      <td>club</td>\n",
       "      <td>2</td>\n",
       "    </tr>\n",
       "    <tr>\n",
       "      <th>2</th>\n",
       "      <td>black</td>\n",
       "      <td>club</td>\n",
       "      <td>3</td>\n",
       "    </tr>\n",
       "    <tr>\n",
       "      <th>3</th>\n",
       "      <td>black</td>\n",
       "      <td>club</td>\n",
       "      <td>4</td>\n",
       "    </tr>\n",
       "    <tr>\n",
       "      <th>4</th>\n",
       "      <td>black</td>\n",
       "      <td>club</td>\n",
       "      <td>5</td>\n",
       "    </tr>\n",
       "  </tbody>\n",
       "</table>\n",
       "</div>"
      ],
      "text/plain": [
       "   color  suit face\n",
       "0  black  club    A\n",
       "1  black  club    2\n",
       "2  black  club    3\n",
       "3  black  club    4\n",
       "4  black  club    5"
      ]
     },
     "execution_count": 2,
     "metadata": {},
     "output_type": "execute_result"
    }
   ],
   "source": [
    "cards=pd.read_csv(\"cards.csv\")\n",
    "cards.head(5)"
   ]
  },
  {
   "cell_type": "markdown",
   "metadata": {},
   "source": [
    "**b) (2 pts) A poker hand consists of 5 cards drawn at random without replacement from a 52 card deck. Using python and the cards data frame you imported, draw a poker hand by sampling from the cards and displaying the resulting sample.**"
   ]
  },
  {
   "cell_type": "code",
   "execution_count": 3,
   "metadata": {},
   "outputs": [
    {
     "data": {
      "text/html": [
       "<div>\n",
       "<style scoped>\n",
       "    .dataframe tbody tr th:only-of-type {\n",
       "        vertical-align: middle;\n",
       "    }\n",
       "\n",
       "    .dataframe tbody tr th {\n",
       "        vertical-align: top;\n",
       "    }\n",
       "\n",
       "    .dataframe thead th {\n",
       "        text-align: right;\n",
       "    }\n",
       "</style>\n",
       "<table border=\"1\" class=\"dataframe\">\n",
       "  <thead>\n",
       "    <tr style=\"text-align: right;\">\n",
       "      <th></th>\n",
       "      <th>color</th>\n",
       "      <th>suit</th>\n",
       "      <th>face</th>\n",
       "    </tr>\n",
       "  </thead>\n",
       "  <tbody>\n",
       "    <tr>\n",
       "      <th>23</th>\n",
       "      <td>black</td>\n",
       "      <td>spade</td>\n",
       "      <td>J</td>\n",
       "    </tr>\n",
       "    <tr>\n",
       "      <th>42</th>\n",
       "      <td>red</td>\n",
       "      <td>heart</td>\n",
       "      <td>4</td>\n",
       "    </tr>\n",
       "    <tr>\n",
       "      <th>38</th>\n",
       "      <td>red</td>\n",
       "      <td>diamond</td>\n",
       "      <td>K</td>\n",
       "    </tr>\n",
       "    <tr>\n",
       "      <th>14</th>\n",
       "      <td>black</td>\n",
       "      <td>spade</td>\n",
       "      <td>2</td>\n",
       "    </tr>\n",
       "    <tr>\n",
       "      <th>1</th>\n",
       "      <td>black</td>\n",
       "      <td>club</td>\n",
       "      <td>2</td>\n",
       "    </tr>\n",
       "  </tbody>\n",
       "</table>\n",
       "</div>"
      ],
      "text/plain": [
       "    color     suit face\n",
       "23  black    spade    J\n",
       "42    red    heart    4\n",
       "38    red  diamond    K\n",
       "14  black    spade    2\n",
       "1   black     club    2"
      ]
     },
     "execution_count": 3,
     "metadata": {},
     "output_type": "execute_result"
    }
   ],
   "source": [
    " cards.sample(5)"
   ]
  },
  {
   "cell_type": "markdown",
   "metadata": {},
   "source": [
    "**c) (3 pts) Recall from the notes that there are ${{52}\\choose{5}}=2,598,960$ (52 choose 5) possible poker hands. How many of these possible hands contain exactly 3 clubs? Hint: consider the number of ways to get 3 clubs and 2 other types of cards from the deck. Show/explain your work.**"
   ]
  },
  {
   "cell_type": "markdown",
   "metadata": {},
   "source": [
    "There are totally 13 clubs, so possible ways of getting 3 out of 13 clubs: ${13}\\choose{3}$.\n",
    "There are 39 cards which are not clubs, so possible combinations of any 2 cards of non-club suits:${39}\\choose{2}$.\n",
    "Finally, the possible hands contain exactly 3 clubs: ${13}\\choose{3}$ ${39}\\choose{2}$ = 211926 "
   ]
  },
  {
   "cell_type": "markdown",
   "metadata": {},
   "source": [
    "**d) (2 pts) What is the probability that a poker hand contains exactly 2 clubs?**"
   ]
  },
  {
   "cell_type": "markdown",
   "metadata": {},
   "source": [
    "Possible outcome: ${52}\\choose{5}$= 2,598,960.\n",
    "Possible ways of getting 2 out of 13 clubs:${13}\\choose{2}$= 78.\n",
    "Possible combinations of 3 card of non-club suits: ${39}\\choose{3}$= 9139. \n",
    "Probability that a poker hand contains exactly 2 clubs: [ ${13}\\choose{2}$ ${39}\\choose{3}$ ] / ${52}\\choose{5}$= $\\frac{78x9139}{2,598,960}$ = 0.274"
   ]
  },
  {
   "cell_type": "markdown",
   "metadata": {},
   "source": [
    "### Part 2 (8 pts) Sampling with replacement."
   ]
  },
  {
   "cell_type": "markdown",
   "metadata": {},
   "source": [
    "**a) (2 pts) Instead of a poker hand, now we will sample five cards (rows) with replacement. Using python and the cards data frame you imported, display a random sample of 5 \"cards\" drawn with replacement, i.e. 5 rows sampled from the cards data frame.**"
   ]
  },
  {
   "cell_type": "code",
   "execution_count": 4,
   "metadata": {},
   "outputs": [
    {
     "data": {
      "text/html": [
       "<div>\n",
       "<style scoped>\n",
       "    .dataframe tbody tr th:only-of-type {\n",
       "        vertical-align: middle;\n",
       "    }\n",
       "\n",
       "    .dataframe tbody tr th {\n",
       "        vertical-align: top;\n",
       "    }\n",
       "\n",
       "    .dataframe thead th {\n",
       "        text-align: right;\n",
       "    }\n",
       "</style>\n",
       "<table border=\"1\" class=\"dataframe\">\n",
       "  <thead>\n",
       "    <tr style=\"text-align: right;\">\n",
       "      <th></th>\n",
       "      <th>color</th>\n",
       "      <th>suit</th>\n",
       "      <th>face</th>\n",
       "    </tr>\n",
       "  </thead>\n",
       "  <tbody>\n",
       "    <tr>\n",
       "      <th>40</th>\n",
       "      <td>red</td>\n",
       "      <td>heart</td>\n",
       "      <td>2</td>\n",
       "    </tr>\n",
       "    <tr>\n",
       "      <th>10</th>\n",
       "      <td>black</td>\n",
       "      <td>club</td>\n",
       "      <td>J</td>\n",
       "    </tr>\n",
       "    <tr>\n",
       "      <th>8</th>\n",
       "      <td>black</td>\n",
       "      <td>club</td>\n",
       "      <td>9</td>\n",
       "    </tr>\n",
       "    <tr>\n",
       "      <th>36</th>\n",
       "      <td>red</td>\n",
       "      <td>diamond</td>\n",
       "      <td>J</td>\n",
       "    </tr>\n",
       "    <tr>\n",
       "      <th>36</th>\n",
       "      <td>red</td>\n",
       "      <td>diamond</td>\n",
       "      <td>J</td>\n",
       "    </tr>\n",
       "  </tbody>\n",
       "</table>\n",
       "</div>"
      ],
      "text/plain": [
       "    color     suit face\n",
       "40    red    heart    2\n",
       "10  black     club    J\n",
       "8   black     club    9\n",
       "36    red  diamond    J\n",
       "36    red  diamond    J"
      ]
     },
     "execution_count": 4,
     "metadata": {},
     "output_type": "execute_result"
    }
   ],
   "source": [
    "cards.sample(5, replace=True)"
   ]
  },
  {
   "cell_type": "markdown",
   "metadata": {},
   "source": [
    "**b) (3 pts) We draw five cards at random with replacement, keeping track of whether or not each card in the sequence is a club. Find the probability of the following sequence: Club, Not Club, Club, Club, Not Club, i.e. CNCCN. Hint: Determine how many ways there are to sample a sequence of 5 cards with replacement, and out of these, how many ways to get a sequence with clubs in the first, third, and fourth position only.**"
   ]
  },
  {
   "cell_type": "markdown",
   "metadata": {},
   "source": [
    "Possible outcome: ${52^5}$.\n",
    "To get a club card, there are 13 possible choices. To get a not-club card, there are 39 possible choices.\n",
    " For first, third and fourth position, there are 13 possible choices in each position --> ${13^3}$ choices.\n",
    " For second and fifth position, there are 39 possible choices in each position --> ${39^2}$ choices.\n",
    "    Probability: $\\frac{13^3*39^2}{52^5}$=0.00879"
   ]
  },
  {
   "cell_type": "markdown",
   "metadata": {},
   "source": [
    "**c) (2 pts) Notice that all sequences of 5 cards with exactly two clubs have the same probability. Based on this fact and your result in b), find the probability of getting exactly 2 clubs in a sequence of 5 cards drawn at random with replacement from a 52 card deck. Hint: consider how many ways there are to insert two clubs in a sequence of 5 cards.**"
   ]
  },
  {
   "cell_type": "markdown",
   "metadata": {},
   "source": [
    "Applying the same strategy in 2b, the probability of getting 2 clubs is: $\\frac{13^2*39^3}{52^5}$= 0.0264.\n",
    "For a sequence of 5 cards, there are 5 positions. So, the possible ways for inserting two clubs in the sequence are ${5}\\choose{2}$=10. \n",
    "Probability of getting exactly 2 clubs in sequence of 5 cards: 0.0264x10=0.264"
   ]
  },
  {
   "cell_type": "markdown",
   "metadata": {},
   "source": [
    "### Part 3 (9 pts) Back to poker hands."
   ]
  },
  {
   "cell_type": "markdown",
   "metadata": {},
   "source": [
    "**a) (3 pts) The poker hand, \"two pairs\" consist of two cards of one face value, 2 cards of second face value, and 1 card of a third face value among the 13 choices: A, 2, 3, ..., 10, J, Q, K. Using the combinatorial methods in the notes, find the probability of \"two pairs\" when 5 cards are drawn at random without replacement. Explain your reasoning.**"
   ]
  },
  {
   "cell_type": "markdown",
   "metadata": {},
   "source": [
    "Possible outcome: ${52}\\choose{5}$=2,598,960.\n",
    "Possible choices for choosing 2 faces:${13}\\choose{2}$=78.\n",
    "Possible choices for choosing 1 pair for each face: ${4}\\choose{2}$=6 --> possible choices for choosing 2 pairs with 2 faces: ${4}\\choose{2}$${4}\\choose{2}$=36.\n",
    "Possible choices for choosing the last card from 44 cards: ${44}\\choose{1}$=44.\n",
    "number of events= ${13}\\choose{2}$ ${4}\\choose{2}$ ${4}\\choose{2}$ ${44}\\choose{1}$=78x36x44=123552.\n",
    "Probability: $\\frac{123552}{2,598,960}$=0.0475."
   ]
  },
  {
   "cell_type": "markdown",
   "metadata": {},
   "source": [
    "**b) (3 pts) Define a python function that checks whether a given sample of 5 cards from the cards data frame is the \"two pairs\" hand. It should return the value True if the sample is a \"two pairs\" sample, and False if not. Show that your function works by testing on the test cases given below. Hint: compare the function for detecting a \"full house\" in the class notes.**"
   ]
  },
  {
   "cell_type": "code",
   "execution_count": 5,
   "metadata": {},
   "outputs": [],
   "source": [
    "def is2pairs (df,var='face'):\n",
    "    if df[var].shape[0] != 5:\n",
    "        return 'Not a poker hand'\n",
    "    else:\n",
    "        counts = df[var].value_counts()\n",
    "        if counts.min() == 1 and counts.max() == 2 and len(counts)==3:\n",
    "#len(counts)==3 is used to make sure there are exactly 3 faces in any poker hand to have 2 pairs and one card of other face\n",
    "            return True\n",
    "        else:\n",
    "            return False\n"
   ]
  },
  {
   "cell_type": "code",
   "execution_count": 6,
   "metadata": {},
   "outputs": [],
   "source": [
    "# test cases - run this cell to create them\n",
    "test1 = pd.DataFrame({'color': ['red', 'black', 'black', 'black', 'red'],\n",
    "                      'suit': ['heart', 'club', 'spade', 'club', 'diamond'],\n",
    "                      'face': ['2','Q','2','K','K']})\n",
    "test2 = pd.DataFrame({'color': ['red', 'black', 'black', 'black', 'red'],\n",
    "                      'suit': ['heart', 'club', 'spade', 'club', 'diamond'],\n",
    "                      'face': ['A','Q','2','K','K']})\n",
    "test3 = pd.DataFrame({'color': ['red', 'black', 'black', 'black', 'red'],\n",
    "                      'suit': ['heart', 'club', 'spade', 'club', 'diamond'],\n",
    "                      'face': ['2','2','2','K','K']})"
   ]
  },
  {
   "cell_type": "code",
   "execution_count": 7,
   "metadata": {},
   "outputs": [
    {
     "data": {
      "text/plain": [
       "True"
      ]
     },
     "execution_count": 7,
     "metadata": {},
     "output_type": "execute_result"
    }
   ],
   "source": [
    "is2pairs(test1)"
   ]
  },
  {
   "cell_type": "code",
   "execution_count": 8,
   "metadata": {},
   "outputs": [
    {
     "data": {
      "text/plain": [
       "False"
      ]
     },
     "execution_count": 8,
     "metadata": {},
     "output_type": "execute_result"
    }
   ],
   "source": [
    "is2pairs(test2)"
   ]
  },
  {
   "cell_type": "code",
   "execution_count": 9,
   "metadata": {},
   "outputs": [
    {
     "data": {
      "text/plain": [
       "False"
      ]
     },
     "execution_count": 9,
     "metadata": {},
     "output_type": "execute_result"
    }
   ],
   "source": [
    "is2pairs(test3)\n"
   ]
  },
  {
   "cell_type": "markdown",
   "metadata": {},
   "source": [
    "**c) (3 pts) Use your function in a \"for loop\" to estimate the probability of \"two pairs\" based on 1000 random samples of 5 rows without replacement from the cards data frame. For a related example see the class notes on sampling.**"
   ]
  },
  {
   "cell_type": "code",
   "execution_count": 10,
   "metadata": {},
   "outputs": [],
   "source": [
    "twopairs_count = 0\n",
    "n_iterations = 1000\n",
    "\n",
    "for i in range(n_iterations):\n",
    "    new_hand = cards.sample(5, replace=False)\n",
    "    twopairs_count += is2pairs(new_hand)"
   ]
  },
  {
   "cell_type": "code",
   "execution_count": 11,
   "metadata": {},
   "outputs": [
    {
     "name": "stdout",
     "output_type": "stream",
     "text": [
      "49\n",
      "1000\n",
      "Probability estimate based on  1000 iterations: 0.049\n"
     ]
    }
   ],
   "source": [
    "print(twopairs_count)\n",
    "print(1000)\n",
    "print('Probability estimate based on ', n_iterations, 'iterations:', twopairs_count/n_iterations)"
   ]
  }
 ],
 "metadata": {
  "kernelspec": {
   "display_name": "Python 3",
   "language": "python",
   "name": "python3"
  },
  "language_info": {
   "codemirror_mode": {
    "name": "ipython",
    "version": 3
   },
   "file_extension": ".py",
   "mimetype": "text/x-python",
   "name": "python",
   "nbconvert_exporter": "python",
   "pygments_lexer": "ipython3",
   "version": "3.8.5"
  }
 },
 "nbformat": 4,
 "nbformat_minor": 2
}
