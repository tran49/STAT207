{
 "cells": [
  {
   "cell_type": "markdown",
   "metadata": {},
   "source": [
    "# Lab 09 Multiple Linear Regression and Logistic Regression"
   ]
  },
  {
   "cell_type": "markdown",
   "metadata": {},
   "source": [
    "## Imports"
   ]
  },
  {
   "cell_type": "code",
   "execution_count": 1,
   "metadata": {},
   "outputs": [],
   "source": [
    "import pandas as pd\n",
    "import matplotlib.pyplot as plt\n",
    "import seaborn as sns; sns.set()\n",
    "from scipy.stats import norm\n",
    "import statsmodels.api as sm\n",
    "import statsmodels.formula.api as smf\n",
    "import numpy as np\n",
    "from scipy.stats import t"
   ]
  },
  {
   "cell_type": "markdown",
   "metadata": {},
   "source": [
    "## 1. [.5 pt] Read the census.csv into a dataframe called df_census."
   ]
  },
  {
   "cell_type": "code",
   "execution_count": 2,
   "metadata": {},
   "outputs": [
    {
     "data": {
      "text/html": [
       "<div>\n",
       "<style scoped>\n",
       "    .dataframe tbody tr th:only-of-type {\n",
       "        vertical-align: middle;\n",
       "    }\n",
       "\n",
       "    .dataframe tbody tr th {\n",
       "        vertical-align: top;\n",
       "    }\n",
       "\n",
       "    .dataframe thead th {\n",
       "        text-align: right;\n",
       "    }\n",
       "</style>\n",
       "<table border=\"1\" class=\"dataframe\">\n",
       "  <thead>\n",
       "    <tr style=\"text-align: right;\">\n",
       "      <th></th>\n",
       "      <th>state_fips_code</th>\n",
       "      <th>age</th>\n",
       "      <th>sex</th>\n",
       "      <th>marital_status</th>\n",
       "      <th>total_personal_income</th>\n",
       "    </tr>\n",
       "  </thead>\n",
       "  <tbody>\n",
       "    <tr>\n",
       "      <th>0</th>\n",
       "      <td>Alabama</td>\n",
       "      <td>73</td>\n",
       "      <td>Female</td>\n",
       "      <td>Divorced</td>\n",
       "      <td>3000</td>\n",
       "    </tr>\n",
       "    <tr>\n",
       "      <th>1</th>\n",
       "      <td>Alabama</td>\n",
       "      <td>60</td>\n",
       "      <td>Female</td>\n",
       "      <td>Divorced</td>\n",
       "      <td>11200</td>\n",
       "    </tr>\n",
       "    <tr>\n",
       "      <th>2</th>\n",
       "      <td>Alabama</td>\n",
       "      <td>43</td>\n",
       "      <td>Female</td>\n",
       "      <td>Married</td>\n",
       "      <td>15300</td>\n",
       "    </tr>\n",
       "    <tr>\n",
       "      <th>3</th>\n",
       "      <td>Alabama</td>\n",
       "      <td>40</td>\n",
       "      <td>Male</td>\n",
       "      <td>Married</td>\n",
       "      <td>47950</td>\n",
       "    </tr>\n",
       "    <tr>\n",
       "      <th>4</th>\n",
       "      <td>Arizona</td>\n",
       "      <td>27</td>\n",
       "      <td>Male</td>\n",
       "      <td>Married</td>\n",
       "      <td>14000</td>\n",
       "    </tr>\n",
       "  </tbody>\n",
       "</table>\n",
       "</div>"
      ],
      "text/plain": [
       "  state_fips_code  age     sex marital_status  total_personal_income\n",
       "0         Alabama   73  Female       Divorced                   3000\n",
       "1         Alabama   60  Female       Divorced                  11200\n",
       "2         Alabama   43  Female        Married                  15300\n",
       "3         Alabama   40    Male        Married                  47950\n",
       "4         Arizona   27    Male        Married                  14000"
      ]
     },
     "execution_count": 2,
     "metadata": {},
     "output_type": "execute_result"
    }
   ],
   "source": [
    "df_census=pd.read_csv('census.csv')\n",
    "df_census.head()"
   ]
  },
  {
   "cell_type": "markdown",
   "metadata": {},
   "source": [
    "## 2. [.5 pt] How many rows are in this dataframe df_census?"
   ]
  },
  {
   "cell_type": "code",
   "execution_count": 3,
   "metadata": {},
   "outputs": [
    {
     "name": "stdout",
     "output_type": "stream",
     "text": [
      "Number of rows in df_census:  339\n"
     ]
    }
   ],
   "source": [
    "print(\"Number of rows in df_census: \",df_census.shape[0])"
   ]
  },
  {
   "cell_type": "markdown",
   "metadata": {},
   "source": [
    "## 3. [.5 pt] Add a new variable to df that is the log_10() of the total_personal_income variable and call it \"log_total_personal_income\"."
   ]
  },
  {
   "cell_type": "code",
   "execution_count": 4,
   "metadata": {},
   "outputs": [
    {
     "data": {
      "text/html": [
       "<div>\n",
       "<style scoped>\n",
       "    .dataframe tbody tr th:only-of-type {\n",
       "        vertical-align: middle;\n",
       "    }\n",
       "\n",
       "    .dataframe tbody tr th {\n",
       "        vertical-align: top;\n",
       "    }\n",
       "\n",
       "    .dataframe thead th {\n",
       "        text-align: right;\n",
       "    }\n",
       "</style>\n",
       "<table border=\"1\" class=\"dataframe\">\n",
       "  <thead>\n",
       "    <tr style=\"text-align: right;\">\n",
       "      <th></th>\n",
       "      <th>state_fips_code</th>\n",
       "      <th>age</th>\n",
       "      <th>sex</th>\n",
       "      <th>marital_status</th>\n",
       "      <th>total_personal_income</th>\n",
       "      <th>log_total_personal_income</th>\n",
       "    </tr>\n",
       "  </thead>\n",
       "  <tbody>\n",
       "    <tr>\n",
       "      <th>0</th>\n",
       "      <td>Alabama</td>\n",
       "      <td>73</td>\n",
       "      <td>Female</td>\n",
       "      <td>Divorced</td>\n",
       "      <td>3000</td>\n",
       "      <td>3.477121</td>\n",
       "    </tr>\n",
       "    <tr>\n",
       "      <th>1</th>\n",
       "      <td>Alabama</td>\n",
       "      <td>60</td>\n",
       "      <td>Female</td>\n",
       "      <td>Divorced</td>\n",
       "      <td>11200</td>\n",
       "      <td>4.049218</td>\n",
       "    </tr>\n",
       "    <tr>\n",
       "      <th>2</th>\n",
       "      <td>Alabama</td>\n",
       "      <td>43</td>\n",
       "      <td>Female</td>\n",
       "      <td>Married</td>\n",
       "      <td>15300</td>\n",
       "      <td>4.184691</td>\n",
       "    </tr>\n",
       "    <tr>\n",
       "      <th>3</th>\n",
       "      <td>Alabama</td>\n",
       "      <td>40</td>\n",
       "      <td>Male</td>\n",
       "      <td>Married</td>\n",
       "      <td>47950</td>\n",
       "      <td>4.680789</td>\n",
       "    </tr>\n",
       "    <tr>\n",
       "      <th>4</th>\n",
       "      <td>Arizona</td>\n",
       "      <td>27</td>\n",
       "      <td>Male</td>\n",
       "      <td>Married</td>\n",
       "      <td>14000</td>\n",
       "      <td>4.146128</td>\n",
       "    </tr>\n",
       "  </tbody>\n",
       "</table>\n",
       "</div>"
      ],
      "text/plain": [
       "  state_fips_code  age     sex marital_status  total_personal_income  \\\n",
       "0         Alabama   73  Female       Divorced                   3000   \n",
       "1         Alabama   60  Female       Divorced                  11200   \n",
       "2         Alabama   43  Female        Married                  15300   \n",
       "3         Alabama   40    Male        Married                  47950   \n",
       "4         Arizona   27    Male        Married                  14000   \n",
       "\n",
       "   log_total_personal_income  \n",
       "0                   3.477121  \n",
       "1                   4.049218  \n",
       "2                   4.184691  \n",
       "3                   4.680789  \n",
       "4                   4.146128  "
      ]
     },
     "execution_count": 4,
     "metadata": {},
     "output_type": "execute_result"
    }
   ],
   "source": [
    "df_census['log_total_personal_income']=np.log10(df_census['total_personal_income'])\n",
    "df_census.head()"
   ]
  },
  {
   "cell_type": "markdown",
   "metadata": {},
   "source": [
    "## 4. [.5 pt] Create a new dataframe that is comprised of just the age and the marital status variables called df_small."
   ]
  },
  {
   "cell_type": "code",
   "execution_count": 5,
   "metadata": {},
   "outputs": [
    {
     "data": {
      "text/html": [
       "<div>\n",
       "<style scoped>\n",
       "    .dataframe tbody tr th:only-of-type {\n",
       "        vertical-align: middle;\n",
       "    }\n",
       "\n",
       "    .dataframe tbody tr th {\n",
       "        vertical-align: top;\n",
       "    }\n",
       "\n",
       "    .dataframe thead th {\n",
       "        text-align: right;\n",
       "    }\n",
       "</style>\n",
       "<table border=\"1\" class=\"dataframe\">\n",
       "  <thead>\n",
       "    <tr style=\"text-align: right;\">\n",
       "      <th></th>\n",
       "      <th>age</th>\n",
       "      <th>marital_status</th>\n",
       "    </tr>\n",
       "  </thead>\n",
       "  <tbody>\n",
       "    <tr>\n",
       "      <th>0</th>\n",
       "      <td>73</td>\n",
       "      <td>Divorced</td>\n",
       "    </tr>\n",
       "    <tr>\n",
       "      <th>1</th>\n",
       "      <td>60</td>\n",
       "      <td>Divorced</td>\n",
       "    </tr>\n",
       "    <tr>\n",
       "      <th>2</th>\n",
       "      <td>43</td>\n",
       "      <td>Married</td>\n",
       "    </tr>\n",
       "    <tr>\n",
       "      <th>3</th>\n",
       "      <td>40</td>\n",
       "      <td>Married</td>\n",
       "    </tr>\n",
       "    <tr>\n",
       "      <th>4</th>\n",
       "      <td>27</td>\n",
       "      <td>Married</td>\n",
       "    </tr>\n",
       "  </tbody>\n",
       "</table>\n",
       "</div>"
      ],
      "text/plain": [
       "   age marital_status\n",
       "0   73       Divorced\n",
       "1   60       Divorced\n",
       "2   43        Married\n",
       "3   40        Married\n",
       "4   27        Married"
      ]
     },
     "execution_count": 5,
     "metadata": {},
     "output_type": "execute_result"
    }
   ],
   "source": [
    "df_small=df_census.iloc[:,[1,3]].copy()\n",
    "df_small.head()"
   ]
  },
  {
   "cell_type": "markdown",
   "metadata": {},
   "source": [
    "## 5. [1 pt] Use this df_small datafame to calculate the average age for each marital status. Your output should be in a dataframe."
   ]
  },
  {
   "cell_type": "code",
   "execution_count": 23,
   "metadata": {},
   "outputs": [
    {
     "data": {
      "text/html": [
       "<div>\n",
       "<style scoped>\n",
       "    .dataframe tbody tr th:only-of-type {\n",
       "        vertical-align: middle;\n",
       "    }\n",
       "\n",
       "    .dataframe tbody tr th {\n",
       "        vertical-align: top;\n",
       "    }\n",
       "\n",
       "    .dataframe thead th {\n",
       "        text-align: right;\n",
       "    }\n",
       "</style>\n",
       "<table border=\"1\" class=\"dataframe\">\n",
       "  <thead>\n",
       "    <tr style=\"text-align: right;\">\n",
       "      <th></th>\n",
       "      <th>age</th>\n",
       "    </tr>\n",
       "    <tr>\n",
       "      <th>marital_status</th>\n",
       "      <th></th>\n",
       "    </tr>\n",
       "  </thead>\n",
       "  <tbody>\n",
       "    <tr>\n",
       "      <th>Divorced</th>\n",
       "      <td>48.972222</td>\n",
       "    </tr>\n",
       "    <tr>\n",
       "      <th>Married</th>\n",
       "      <td>45.890110</td>\n",
       "    </tr>\n",
       "    <tr>\n",
       "      <th>Separated</th>\n",
       "      <td>31.500000</td>\n",
       "    </tr>\n",
       "    <tr>\n",
       "      <th>Single</th>\n",
       "      <td>31.236559</td>\n",
       "    </tr>\n",
       "    <tr>\n",
       "      <th>Widowed</th>\n",
       "      <td>72.307692</td>\n",
       "    </tr>\n",
       "  </tbody>\n",
       "</table>\n",
       "</div>"
      ],
      "text/plain": [
       "                      age\n",
       "marital_status           \n",
       "Divorced        48.972222\n",
       "Married         45.890110\n",
       "Separated       31.500000\n",
       "Single          31.236559\n",
       "Widowed         72.307692"
      ]
     },
     "execution_count": 23,
     "metadata": {},
     "output_type": "execute_result"
    }
   ],
   "source": [
    "df_small.groupby('marital_status').mean()"
   ]
  },
  {
   "cell_type": "markdown",
   "metadata": {},
   "source": [
    "## 6. [1 pt] Plot a graph of side-by-side boxplots showing the distribution of age for each of the marital statuses."
   ]
  },
  {
   "cell_type": "code",
   "execution_count": 7,
   "metadata": {},
   "outputs": [
    {
     "data": {
      "image/png": "[encoded data removed]",
      "text/plain": [
       "<Figure size 432x288 with 1 Axes>"
      ]
     },
     "metadata": {},
     "output_type": "display_data"
    }
   ],
   "source": [
    "sns.boxplot(x='marital_status', y='age', data=df_small)\n",
    "plt.show()"
   ]
  },
  {
   "cell_type": "markdown",
   "metadata": {},
   "source": [
    "## 7. [1 pt] Does there appear to be a relationship between marital status and age in this sample? Explain."
   ]
  },
  {
   "cell_type": "markdown",
   "metadata": {},
   "source": [
    "yes, there is a relationship between marital status and age because the means and the medians of each marital status are different. Furthermore, the ranges of each status are also different."
   ]
  },
  {
   "cell_type": "markdown",
   "metadata": {},
   "source": [
    "## 8. We would now like to test if there is an association between age and marital status in al adults living in the US. We will do so by setting up the following hypotheses. \n",
    "$H_0: \\mu_{divorced} = \\mu_{married}=\\mu_{widowed}=\\mu_{single}=\\mu_{separated}$\n",
    "\n",
    "$H_A:$ at least one of the pairs marital statuses have population mean ages that are different.\n",
    "\n",
    "\n",
    "(Note $\\mu_{group}$ represents the population mean age of a marital status group.)\n",
    "\n",
    "THERE'S NOTHING YOU HAVE TO DO FOR #8."
   ]
  },
  {
   "cell_type": "markdown",
   "metadata": {},
   "source": [
    "## 9. [1pt] Give the test statistic and the p-value that correspond to these hypotheses."
   ]
  },
  {
   "cell_type": "code",
   "execution_count": 8,
   "metadata": {},
   "outputs": [
    {
     "data": {
      "text/html": [
       "<table class=\"simpletable\">\n",
       "<caption>OLS Regression Results</caption>\n",
       "<tr>\n",
       "  <th>Dep. Variable:</th>           <td>age</td>       <th>  R-squared:         </th> <td>   0.367</td>\n",
       "</tr>\n",
       "<tr>\n",
       "  <th>Model:</th>                   <td>OLS</td>       <th>  Adj. R-squared:    </th> <td>   0.359</td>\n",
       "</tr>\n",
       "<tr>\n",
       "  <th>Method:</th>             <td>Least Squares</td>  <th>  F-statistic:       </th> <td>   48.34</td>\n",
       "</tr>\n",
       "<tr>\n",
       "  <th>Date:</th>             <td>Wed, 11 Nov 2020</td> <th>  Prob (F-statistic):</th> <td>4.66e-32</td>\n",
       "</tr>\n",
       "<tr>\n",
       "  <th>Time:</th>                 <td>10:09:01</td>     <th>  Log-Likelihood:    </th> <td> -1372.8</td>\n",
       "</tr>\n",
       "<tr>\n",
       "  <th>No. Observations:</th>      <td>   339</td>      <th>  AIC:               </th> <td>   2756.</td>\n",
       "</tr>\n",
       "<tr>\n",
       "  <th>Df Residuals:</th>          <td>   334</td>      <th>  BIC:               </th> <td>   2775.</td>\n",
       "</tr>\n",
       "<tr>\n",
       "  <th>Df Model:</th>              <td>     4</td>      <th>                     </th>     <td> </td>   \n",
       "</tr>\n",
       "<tr>\n",
       "  <th>Covariance Type:</th>      <td>nonrobust</td>    <th>                     </th>     <td> </td>   \n",
       "</tr>\n",
       "</table>"
      ],
      "text/plain": [
       "<class 'statsmodels.iolib.table.SimpleTable'>"
      ]
     },
     "execution_count": 8,
     "metadata": {},
     "output_type": "execute_result"
    }
   ],
   "source": [
    "result = smf.ols('age ~ marital_status', data=df_small).fit()\n",
    "result.summary().tables[0]"
   ]
  },
  {
   "cell_type": "code",
   "execution_count": 9,
   "metadata": {},
   "outputs": [
    {
     "name": "stdout",
     "output_type": "stream",
     "text": [
      "F-statistic: 48.34\n",
      "P_value: 4.66e-32\n"
     ]
    }
   ],
   "source": [
    "print(\"F-statistic: 48.34\")\n",
    "print(\"P_value: 4.66e-32\")"
   ]
  },
  {
   "cell_type": "markdown",
   "metadata": {},
   "source": [
    "## 10. [1 pt] Use the p-value to make a conclusion about these hypotheses (use $\\alpha=0.05$)."
   ]
  },
  {
   "cell_type": "markdown",
   "metadata": {},
   "source": [
    "Since p_value = 4.66e-32 < $\\alpha=0.05$, we reject the null hypotheses. Thus, there is sufficent evidence to suggest that at least one of the pairs marital statuses have population mean ages that are different."
   ]
  },
  {
   "cell_type": "markdown",
   "metadata": {},
   "source": [
    "## We will now be considering the merits of two nested models.\n",
    "\n",
    "1. The \"Full Model\" will use a response variable of log_total_personal_income and the following explanatory variables:\n",
    "    * marital_status\n",
    "    * age\n",
    "    * sex\n",
    "2. The \"Reduced Model\" will use a response variable of log_total_personal_income and the following explanatory variables:\n",
    "    * marital_status\n",
    "    \n",
    "## 11. [1 pt] First, formulate the full model and print out the summary."
   ]
  },
  {
   "cell_type": "code",
   "execution_count": 10,
   "metadata": {},
   "outputs": [
    {
     "data": {
      "text/html": [
       "<table class=\"simpletable\">\n",
       "<caption>OLS Regression Results</caption>\n",
       "<tr>\n",
       "  <th>Dep. Variable:</th>    <td>log_total_personal_income</td> <th>  R-squared:         </th> <td>   0.155</td>\n",
       "</tr>\n",
       "<tr>\n",
       "  <th>Model:</th>                       <td>OLS</td>            <th>  Adj. R-squared:    </th> <td>   0.140</td>\n",
       "</tr>\n",
       "<tr>\n",
       "  <th>Method:</th>                 <td>Least Squares</td>       <th>  F-statistic:       </th> <td>   10.16</td>\n",
       "</tr>\n",
       "<tr>\n",
       "  <th>Date:</th>                 <td>Wed, 11 Nov 2020</td>      <th>  Prob (F-statistic):</th> <td>2.56e-10</td>\n",
       "</tr>\n",
       "<tr>\n",
       "  <th>Time:</th>                     <td>10:09:01</td>          <th>  Log-Likelihood:    </th> <td> -236.47</td>\n",
       "</tr>\n",
       "<tr>\n",
       "  <th>No. Observations:</th>          <td>   339</td>           <th>  AIC:               </th> <td>   486.9</td>\n",
       "</tr>\n",
       "<tr>\n",
       "  <th>Df Residuals:</th>              <td>   332</td>           <th>  BIC:               </th> <td>   513.7</td>\n",
       "</tr>\n",
       "<tr>\n",
       "  <th>Df Model:</th>                  <td>     6</td>           <th>                     </th>     <td> </td>   \n",
       "</tr>\n",
       "<tr>\n",
       "  <th>Covariance Type:</th>          <td>nonrobust</td>         <th>                     </th>     <td> </td>   \n",
       "</tr>\n",
       "</table>\n",
       "<table class=\"simpletable\">\n",
       "<tr>\n",
       "               <td></td>                  <th>coef</th>     <th>std err</th>      <th>t</th>      <th>P>|t|</th>  <th>[0.025</th>    <th>0.975]</th>  \n",
       "</tr>\n",
       "<tr>\n",
       "  <th>Intercept</th>                   <td>    3.9569</td> <td>    0.126</td> <td>   31.402</td> <td> 0.000</td> <td>    3.709</td> <td>    4.205</td>\n",
       "</tr>\n",
       "<tr>\n",
       "  <th>marital_status[T.Married]</th>   <td>    0.1272</td> <td>    0.090</td> <td>    1.412</td> <td> 0.159</td> <td>   -0.050</td> <td>    0.304</td>\n",
       "</tr>\n",
       "<tr>\n",
       "  <th>marital_status[T.Separated]</th> <td>   -0.0051</td> <td>    0.358</td> <td>   -0.014</td> <td> 0.989</td> <td>   -0.710</td> <td>    0.700</td>\n",
       "</tr>\n",
       "<tr>\n",
       "  <th>marital_status[T.Single]</th>    <td>   -0.1727</td> <td>    0.103</td> <td>   -1.683</td> <td> 0.093</td> <td>   -0.375</td> <td>    0.029</td>\n",
       "</tr>\n",
       "<tr>\n",
       "  <th>marital_status[T.Widowed]</th>   <td>   -0.2208</td> <td>    0.134</td> <td>   -1.645</td> <td> 0.101</td> <td>   -0.485</td> <td>    0.043</td>\n",
       "</tr>\n",
       "<tr>\n",
       "  <th>sex[T.Male]</th>                 <td>    0.2279</td> <td>    0.054</td> <td>    4.223</td> <td> 0.000</td> <td>    0.122</td> <td>    0.334</td>\n",
       "</tr>\n",
       "<tr>\n",
       "  <th>age</th>                         <td>    0.0044</td> <td>    0.002</td> <td>    2.302</td> <td> 0.022</td> <td>    0.001</td> <td>    0.008</td>\n",
       "</tr>\n",
       "</table>\n",
       "<table class=\"simpletable\">\n",
       "<tr>\n",
       "  <th>Omnibus:</th>       <td>122.063</td> <th>  Durbin-Watson:     </th> <td>   1.388</td> \n",
       "</tr>\n",
       "<tr>\n",
       "  <th>Prob(Omnibus):</th> <td> 0.000</td>  <th>  Jarque-Bera (JB):  </th> <td> 551.269</td> \n",
       "</tr>\n",
       "<tr>\n",
       "  <th>Skew:</th>          <td>-1.475</td>  <th>  Prob(JB):          </th> <td>1.97e-120</td>\n",
       "</tr>\n",
       "<tr>\n",
       "  <th>Kurtosis:</th>      <td> 8.507</td>  <th>  Cond. No.          </th> <td>    644.</td> \n",
       "</tr>\n",
       "</table><br/><br/>Notes:<br/>[1] Standard Errors assume that the covariance matrix of the errors is correctly specified."
      ],
      "text/plain": [
       "<class 'statsmodels.iolib.summary.Summary'>\n",
       "\"\"\"\n",
       "                                OLS Regression Results                               \n",
       "=====================================================================================\n",
       "Dep. Variable:     log_total_personal_income   R-squared:                       0.155\n",
       "Model:                                   OLS   Adj. R-squared:                  0.140\n",
       "Method:                        Least Squares   F-statistic:                     10.16\n",
       "Date:                       Wed, 11 Nov 2020   Prob (F-statistic):           2.56e-10\n",
       "Time:                               10:09:01   Log-Likelihood:                -236.47\n",
       "No. Observations:                        339   AIC:                             486.9\n",
       "Df Residuals:                            332   BIC:                             513.7\n",
       "Df Model:                                  6                                         \n",
       "Covariance Type:                   nonrobust                                         \n",
       "===============================================================================================\n",
       "                                  coef    std err          t      P>|t|      [0.025      0.975]\n",
       "-----------------------------------------------------------------------------------------------\n",
       "Intercept                       3.9569      0.126     31.402      0.000       3.709       4.205\n",
       "marital_status[T.Married]       0.1272      0.090      1.412      0.159      -0.050       0.304\n",
       "marital_status[T.Separated]    -0.0051      0.358     -0.014      0.989      -0.710       0.700\n",
       "marital_status[T.Single]       -0.1727      0.103     -1.683      0.093      -0.375       0.029\n",
       "marital_status[T.Widowed]      -0.2208      0.134     -1.645      0.101      -0.485       0.043\n",
       "sex[T.Male]                     0.2279      0.054      4.223      0.000       0.122       0.334\n",
       "age                             0.0044      0.002      2.302      0.022       0.001       0.008\n",
       "==============================================================================\n",
       "Omnibus:                      122.063   Durbin-Watson:                   1.388\n",
       "Prob(Omnibus):                  0.000   Jarque-Bera (JB):              551.269\n",
       "Skew:                          -1.475   Prob(JB):                    1.97e-120\n",
       "Kurtosis:                       8.507   Cond. No.                         644.\n",
       "==============================================================================\n",
       "\n",
       "Notes:\n",
       "[1] Standard Errors assume that the covariance matrix of the errors is correctly specified.\n",
       "\"\"\""
      ]
     },
     "execution_count": 10,
     "metadata": {},
     "output_type": "execute_result"
    }
   ],
   "source": [
    "mod1 = smf.ols('log_total_personal_income ~ marital_status + age + sex', \n",
    "               data=df_census).fit()\n",
    "mod1.summary()"
   ]
  },
  {
   "cell_type": "markdown",
   "metadata": {},
   "source": [
    "## 12. [1 pt] Next, formulate the reduced model and print out the summary."
   ]
  },
  {
   "cell_type": "code",
   "execution_count": 11,
   "metadata": {},
   "outputs": [
    {
     "data": {
      "text/html": [
       "<table class=\"simpletable\">\n",
       "<caption>OLS Regression Results</caption>\n",
       "<tr>\n",
       "  <th>Dep. Variable:</th>    <td>log_total_personal_income</td> <th>  R-squared:         </th> <td>   0.093</td>\n",
       "</tr>\n",
       "<tr>\n",
       "  <th>Model:</th>                       <td>OLS</td>            <th>  Adj. R-squared:    </th> <td>   0.082</td>\n",
       "</tr>\n",
       "<tr>\n",
       "  <th>Method:</th>                 <td>Least Squares</td>       <th>  F-statistic:       </th> <td>   8.541</td>\n",
       "</tr>\n",
       "<tr>\n",
       "  <th>Date:</th>                 <td>Wed, 11 Nov 2020</td>      <th>  Prob (F-statistic):</th> <td>1.43e-06</td>\n",
       "</tr>\n",
       "<tr>\n",
       "  <th>Time:</th>                     <td>10:09:01</td>          <th>  Log-Likelihood:    </th> <td> -248.53</td>\n",
       "</tr>\n",
       "<tr>\n",
       "  <th>No. Observations:</th>          <td>   339</td>           <th>  AIC:               </th> <td>   507.1</td>\n",
       "</tr>\n",
       "<tr>\n",
       "  <th>Df Residuals:</th>              <td>   334</td>           <th>  BIC:               </th> <td>   526.2</td>\n",
       "</tr>\n",
       "<tr>\n",
       "  <th>Df Model:</th>                  <td>     4</td>           <th>                     </th>     <td> </td>   \n",
       "</tr>\n",
       "<tr>\n",
       "  <th>Covariance Type:</th>          <td>nonrobust</td>         <th>                     </th>     <td> </td>   \n",
       "</tr>\n",
       "</table>\n",
       "<table class=\"simpletable\">\n",
       "<tr>\n",
       "               <td></td>                  <th>coef</th>     <th>std err</th>      <th>t</th>      <th>P>|t|</th>  <th>[0.025</th>    <th>0.975]</th>  \n",
       "</tr>\n",
       "<tr>\n",
       "  <th>Intercept</th>                   <td>    4.2753</td> <td>    0.085</td> <td>   50.551</td> <td> 0.000</td> <td>    4.109</td> <td>    4.442</td>\n",
       "</tr>\n",
       "<tr>\n",
       "  <th>marital_status[T.Married]</th>   <td>    0.1412</td> <td>    0.093</td> <td>    1.526</td> <td> 0.128</td> <td>   -0.041</td> <td>    0.323</td>\n",
       "</tr>\n",
       "<tr>\n",
       "  <th>marital_status[T.Separated]</th> <td>   -0.0699</td> <td>    0.369</td> <td>   -0.190</td> <td> 0.850</td> <td>   -0.795</td> <td>    0.655</td>\n",
       "</tr>\n",
       "<tr>\n",
       "  <th>marital_status[T.Single]</th>    <td>   -0.2252</td> <td>    0.100</td> <td>   -2.261</td> <td> 0.024</td> <td>   -0.421</td> <td>   -0.029</td>\n",
       "</tr>\n",
       "<tr>\n",
       "  <th>marital_status[T.Widowed]</th>   <td>   -0.1310</td> <td>    0.131</td> <td>   -1.003</td> <td> 0.316</td> <td>   -0.388</td> <td>    0.126</td>\n",
       "</tr>\n",
       "</table>\n",
       "<table class=\"simpletable\">\n",
       "<tr>\n",
       "  <th>Omnibus:</th>       <td>110.650</td> <th>  Durbin-Watson:     </th> <td>   1.340</td> \n",
       "</tr>\n",
       "<tr>\n",
       "  <th>Prob(Omnibus):</th> <td> 0.000</td>  <th>  Jarque-Bera (JB):  </th> <td> 488.687</td> \n",
       "</tr>\n",
       "<tr>\n",
       "  <th>Skew:</th>          <td>-1.327</td>  <th>  Prob(JB):          </th> <td>7.64e-107</td>\n",
       "</tr>\n",
       "<tr>\n",
       "  <th>Kurtosis:</th>      <td> 8.249</td>  <th>  Cond. No.          </th> <td>    16.0</td> \n",
       "</tr>\n",
       "</table><br/><br/>Notes:<br/>[1] Standard Errors assume that the covariance matrix of the errors is correctly specified."
      ],
      "text/plain": [
       "<class 'statsmodels.iolib.summary.Summary'>\n",
       "\"\"\"\n",
       "                                OLS Regression Results                               \n",
       "=====================================================================================\n",
       "Dep. Variable:     log_total_personal_income   R-squared:                       0.093\n",
       "Model:                                   OLS   Adj. R-squared:                  0.082\n",
       "Method:                        Least Squares   F-statistic:                     8.541\n",
       "Date:                       Wed, 11 Nov 2020   Prob (F-statistic):           1.43e-06\n",
       "Time:                               10:09:01   Log-Likelihood:                -248.53\n",
       "No. Observations:                        339   AIC:                             507.1\n",
       "Df Residuals:                            334   BIC:                             526.2\n",
       "Df Model:                                  4                                         \n",
       "Covariance Type:                   nonrobust                                         \n",
       "===============================================================================================\n",
       "                                  coef    std err          t      P>|t|      [0.025      0.975]\n",
       "-----------------------------------------------------------------------------------------------\n",
       "Intercept                       4.2753      0.085     50.551      0.000       4.109       4.442\n",
       "marital_status[T.Married]       0.1412      0.093      1.526      0.128      -0.041       0.323\n",
       "marital_status[T.Separated]    -0.0699      0.369     -0.190      0.850      -0.795       0.655\n",
       "marital_status[T.Single]       -0.2252      0.100     -2.261      0.024      -0.421      -0.029\n",
       "marital_status[T.Widowed]      -0.1310      0.131     -1.003      0.316      -0.388       0.126\n",
       "==============================================================================\n",
       "Omnibus:                      110.650   Durbin-Watson:                   1.340\n",
       "Prob(Omnibus):                  0.000   Jarque-Bera (JB):              488.687\n",
       "Skew:                          -1.327   Prob(JB):                    7.64e-107\n",
       "Kurtosis:                       8.249   Cond. No.                         16.0\n",
       "==============================================================================\n",
       "\n",
       "Notes:\n",
       "[1] Standard Errors assume that the covariance matrix of the errors is correctly specified.\n",
       "\"\"\""
      ]
     },
     "execution_count": 11,
     "metadata": {},
     "output_type": "execute_result"
    }
   ],
   "source": [
    "mod0 = smf.ols('log_total_personal_income ~ marital_status', data=df_census).fit()\n",
    "mod0.summary()"
   ]
  },
  {
   "cell_type": "markdown",
   "metadata": {},
   "source": [
    "## We would now like to answer the following question. Given the reduced model, is there evidence to suggest that at least one of the additional population slopes in the full model (ie. age or sex) are non-zero?\n",
    "\n",
    "Suppose we used the following definitions for our **full model**:\n",
    "* $\\beta_0$: the population intercept\n",
    "* $\\beta_1$: the population slope corresponding to the marital_status[T.Married] indicator variable\n",
    "* $\\beta_2$: the population slope corresponding to the marital_status[T.Separated] indicator variable\n",
    "* $\\beta_3$: the population slope corresponding to the marital_status[T.Single] indicator variable\n",
    "* $\\beta_4$: the population slope corresponding to the marital_status[T.Widowed] indicator variable\n",
    "* $\\beta_5$: the population slope corresponding to the sex[T.Male] indicator variable\n",
    "* $\\beta_6$: the population slope corresponding to the age variable\n",
    "\n",
    "\n",
    "## 13. [1 pt] First, use these definitions above to formulate the hypotheses that will allow us to answer this question. \n"
   ]
  },
  {
   "cell_type": "markdown",
   "metadata": {},
   "source": [
    "Null Hypothesis: $\\beta_5=\\beta6=0$\n",
    "\n",
    "Alternate hypothesis: at least $\\beta_5$ or $\\beta_6$ is non-zero"
   ]
  },
  {
   "cell_type": "markdown",
   "metadata": {},
   "source": [
    "## 14. [1 pt] Next, find the test statistic and the p-value that correspond to these hypotheses."
   ]
  },
  {
   "cell_type": "code",
   "execution_count": 12,
   "metadata": {},
   "outputs": [
    {
     "data": {
      "text/html": [
       "<div>\n",
       "<style scoped>\n",
       "    .dataframe tbody tr th:only-of-type {\n",
       "        vertical-align: middle;\n",
       "    }\n",
       "\n",
       "    .dataframe tbody tr th {\n",
       "        vertical-align: top;\n",
       "    }\n",
       "\n",
       "    .dataframe thead th {\n",
       "        text-align: right;\n",
       "    }\n",
       "</style>\n",
       "<table border=\"1\" class=\"dataframe\">\n",
       "  <thead>\n",
       "    <tr style=\"text-align: right;\">\n",
       "      <th></th>\n",
       "      <th>f</th>\n",
       "      <th>pvalue</th>\n",
       "      <th>df_diff</th>\n",
       "    </tr>\n",
       "  </thead>\n",
       "  <tbody>\n",
       "    <tr>\n",
       "      <th>0</th>\n",
       "      <td>12.237164</td>\n",
       "      <td>0.000007</td>\n",
       "      <td>2.0</td>\n",
       "    </tr>\n",
       "  </tbody>\n",
       "</table>\n",
       "</div>"
      ],
      "text/plain": [
       "           f    pvalue  df_diff\n",
       "0  12.237164  0.000007      2.0"
      ]
     },
     "execution_count": 12,
     "metadata": {},
     "output_type": "execute_result"
    }
   ],
   "source": [
    "f1, p1, df1 = mod1.compare_f_test(mod0)\n",
    "pd.DataFrame({'f': [f1], 'pvalue': [p1], 'df_diff': [df1]})"
   ]
  },
  {
   "cell_type": "markdown",
   "metadata": {},
   "source": [
    "## 15. [1 pt] Finally, use the p-value to make a conclusion about these hypotheses (use $\\alpha=0.05$)."
   ]
  },
  {
   "cell_type": "markdown",
   "metadata": {},
   "source": [
    "Since p-value= 0.000007 < $\\alpha$=0.05, we reject the null hypothesis. Therefore, sex and age are significant factors affecting the reponse variable log_total_personal_income"
   ]
  },
  {
   "cell_type": "markdown",
   "metadata": {},
   "source": [
    "# Logistic Regression"
   ]
  },
  {
   "cell_type": "markdown",
   "metadata": {},
   "source": [
    "## 16. [2 pt] First, make a new variable in df_census called 'married' and define it to have \n",
    "* This 'married' column should say 'Not Married' when the 'marital_status' column has one of the following statuses: 'Single', 'Divorced', 'Separated', and 'Widowed'.\n",
    "* This 'married' column should say 'Married' when the 'marital_status' column has 'Married'.\n",
    "\n",
    "(We've talked about three ways to do this in class, either is fine)."
   ]
  },
  {
   "cell_type": "code",
   "execution_count": 13,
   "metadata": {},
   "outputs": [
    {
     "name": "stderr",
     "output_type": "stream",
     "text": [
      "<ipython-input-13-cf482981cbd3>:2: SettingWithCopyWarning: \n",
      "A value is trying to be set on a copy of a slice from a DataFrame\n",
      "\n",
      "See the caveats in the documentation: https://pandas.pydata.org/pandas-docs/stable/user_guide/indexing.html#returning-a-view-versus-a-copy\n",
      "  df_census['married'][df_census['married']!=\"Married\"]='Not Married'\n"
     ]
    },
    {
     "data": {
      "text/html": [
       "<div>\n",
       "<style scoped>\n",
       "    .dataframe tbody tr th:only-of-type {\n",
       "        vertical-align: middle;\n",
       "    }\n",
       "\n",
       "    .dataframe tbody tr th {\n",
       "        vertical-align: top;\n",
       "    }\n",
       "\n",
       "    .dataframe thead th {\n",
       "        text-align: right;\n",
       "    }\n",
       "</style>\n",
       "<table border=\"1\" class=\"dataframe\">\n",
       "  <thead>\n",
       "    <tr style=\"text-align: right;\">\n",
       "      <th></th>\n",
       "      <th>state_fips_code</th>\n",
       "      <th>age</th>\n",
       "      <th>sex</th>\n",
       "      <th>marital_status</th>\n",
       "      <th>total_personal_income</th>\n",
       "      <th>log_total_personal_income</th>\n",
       "      <th>married</th>\n",
       "    </tr>\n",
       "  </thead>\n",
       "  <tbody>\n",
       "    <tr>\n",
       "      <th>0</th>\n",
       "      <td>Alabama</td>\n",
       "      <td>73</td>\n",
       "      <td>Female</td>\n",
       "      <td>Divorced</td>\n",
       "      <td>3000</td>\n",
       "      <td>3.477121</td>\n",
       "      <td>Not Married</td>\n",
       "    </tr>\n",
       "    <tr>\n",
       "      <th>1</th>\n",
       "      <td>Alabama</td>\n",
       "      <td>60</td>\n",
       "      <td>Female</td>\n",
       "      <td>Divorced</td>\n",
       "      <td>11200</td>\n",
       "      <td>4.049218</td>\n",
       "      <td>Not Married</td>\n",
       "    </tr>\n",
       "    <tr>\n",
       "      <th>2</th>\n",
       "      <td>Alabama</td>\n",
       "      <td>43</td>\n",
       "      <td>Female</td>\n",
       "      <td>Married</td>\n",
       "      <td>15300</td>\n",
       "      <td>4.184691</td>\n",
       "      <td>Married</td>\n",
       "    </tr>\n",
       "    <tr>\n",
       "      <th>3</th>\n",
       "      <td>Alabama</td>\n",
       "      <td>40</td>\n",
       "      <td>Male</td>\n",
       "      <td>Married</td>\n",
       "      <td>47950</td>\n",
       "      <td>4.680789</td>\n",
       "      <td>Married</td>\n",
       "    </tr>\n",
       "    <tr>\n",
       "      <th>4</th>\n",
       "      <td>Arizona</td>\n",
       "      <td>27</td>\n",
       "      <td>Male</td>\n",
       "      <td>Married</td>\n",
       "      <td>14000</td>\n",
       "      <td>4.146128</td>\n",
       "      <td>Married</td>\n",
       "    </tr>\n",
       "    <tr>\n",
       "      <th>...</th>\n",
       "      <td>...</td>\n",
       "      <td>...</td>\n",
       "      <td>...</td>\n",
       "      <td>...</td>\n",
       "      <td>...</td>\n",
       "      <td>...</td>\n",
       "      <td>...</td>\n",
       "    </tr>\n",
       "    <tr>\n",
       "      <th>334</th>\n",
       "      <td>Wisconsin</td>\n",
       "      <td>63</td>\n",
       "      <td>Male</td>\n",
       "      <td>Divorced</td>\n",
       "      <td>34500</td>\n",
       "      <td>4.537819</td>\n",
       "      <td>Not Married</td>\n",
       "    </tr>\n",
       "    <tr>\n",
       "      <th>335</th>\n",
       "      <td>Wisconsin</td>\n",
       "      <td>78</td>\n",
       "      <td>Male</td>\n",
       "      <td>Single</td>\n",
       "      <td>38400</td>\n",
       "      <td>4.584331</td>\n",
       "      <td>Not Married</td>\n",
       "    </tr>\n",
       "    <tr>\n",
       "      <th>336</th>\n",
       "      <td>Wisconsin</td>\n",
       "      <td>31</td>\n",
       "      <td>Male</td>\n",
       "      <td>Married</td>\n",
       "      <td>39510</td>\n",
       "      <td>4.596707</td>\n",
       "      <td>Married</td>\n",
       "    </tr>\n",
       "    <tr>\n",
       "      <th>337</th>\n",
       "      <td>Wisconsin</td>\n",
       "      <td>40</td>\n",
       "      <td>Male</td>\n",
       "      <td>Divorced</td>\n",
       "      <td>49100</td>\n",
       "      <td>4.691081</td>\n",
       "      <td>Not Married</td>\n",
       "    </tr>\n",
       "    <tr>\n",
       "      <th>338</th>\n",
       "      <td>Wisconsin</td>\n",
       "      <td>61</td>\n",
       "      <td>Male</td>\n",
       "      <td>Married</td>\n",
       "      <td>55000</td>\n",
       "      <td>4.740363</td>\n",
       "      <td>Married</td>\n",
       "    </tr>\n",
       "  </tbody>\n",
       "</table>\n",
       "<p>339 rows × 7 columns</p>\n",
       "</div>"
      ],
      "text/plain": [
       "    state_fips_code  age     sex marital_status  total_personal_income  \\\n",
       "0           Alabama   73  Female       Divorced                   3000   \n",
       "1           Alabama   60  Female       Divorced                  11200   \n",
       "2           Alabama   43  Female        Married                  15300   \n",
       "3           Alabama   40    Male        Married                  47950   \n",
       "4           Arizona   27    Male        Married                  14000   \n",
       "..              ...  ...     ...            ...                    ...   \n",
       "334       Wisconsin   63    Male       Divorced                  34500   \n",
       "335       Wisconsin   78    Male         Single                  38400   \n",
       "336       Wisconsin   31    Male        Married                  39510   \n",
       "337       Wisconsin   40    Male       Divorced                  49100   \n",
       "338       Wisconsin   61    Male        Married                  55000   \n",
       "\n",
       "     log_total_personal_income      married  \n",
       "0                     3.477121  Not Married  \n",
       "1                     4.049218  Not Married  \n",
       "2                     4.184691      Married  \n",
       "3                     4.680789      Married  \n",
       "4                     4.146128      Married  \n",
       "..                         ...          ...  \n",
       "334                   4.537819  Not Married  \n",
       "335                   4.584331  Not Married  \n",
       "336                   4.596707      Married  \n",
       "337                   4.691081  Not Married  \n",
       "338                   4.740363      Married  \n",
       "\n",
       "[339 rows x 7 columns]"
      ]
     },
     "execution_count": 13,
     "metadata": {},
     "output_type": "execute_result"
    }
   ],
   "source": [
    "df_census['married']=df_census['marital_status']\n",
    "df_census['married'][df_census['married']!=\"Married\"]='Not Married'\n",
    "df_census"
   ]
  },
  {
   "cell_type": "markdown",
   "metadata": {},
   "source": [
    "## 17. [1 pt] Next, build a cross-tabulation table of the married column (tabulated on the left) and the sex column (tabulated on the top.) Make sure you include margins as well."
   ]
  },
  {
   "cell_type": "code",
   "execution_count": 14,
   "metadata": {},
   "outputs": [
    {
     "data": {
      "text/html": [
       "<div>\n",
       "<style scoped>\n",
       "    .dataframe tbody tr th:only-of-type {\n",
       "        vertical-align: middle;\n",
       "    }\n",
       "\n",
       "    .dataframe tbody tr th {\n",
       "        vertical-align: top;\n",
       "    }\n",
       "\n",
       "    .dataframe thead th {\n",
       "        text-align: right;\n",
       "    }\n",
       "</style>\n",
       "<table border=\"1\" class=\"dataframe\">\n",
       "  <thead>\n",
       "    <tr style=\"text-align: right;\">\n",
       "      <th>sex</th>\n",
       "      <th>Female</th>\n",
       "      <th>Male</th>\n",
       "      <th>All</th>\n",
       "    </tr>\n",
       "    <tr>\n",
       "      <th>married</th>\n",
       "      <th></th>\n",
       "      <th></th>\n",
       "      <th></th>\n",
       "    </tr>\n",
       "  </thead>\n",
       "  <tbody>\n",
       "    <tr>\n",
       "      <th>Married</th>\n",
       "      <td>79</td>\n",
       "      <td>103</td>\n",
       "      <td>182</td>\n",
       "    </tr>\n",
       "    <tr>\n",
       "      <th>Not Married</th>\n",
       "      <td>78</td>\n",
       "      <td>79</td>\n",
       "      <td>157</td>\n",
       "    </tr>\n",
       "    <tr>\n",
       "      <th>All</th>\n",
       "      <td>157</td>\n",
       "      <td>182</td>\n",
       "      <td>339</td>\n",
       "    </tr>\n",
       "  </tbody>\n",
       "</table>\n",
       "</div>"
      ],
      "text/plain": [
       "sex          Female  Male  All\n",
       "married                       \n",
       "Married          79   103  182\n",
       "Not Married      78    79  157\n",
       "All             157   182  339"
      ]
     },
     "execution_count": 14,
     "metadata": {},
     "output_type": "execute_result"
    }
   ],
   "source": [
    "tabl = pd.crosstab(index=df_census['married'], columns=df_census['sex'], margins=True)\n",
    "tabl"
   ]
  },
  {
   "cell_type": "markdown",
   "metadata": {},
   "source": [
    "## 18. [1 pt] Next, \n",
    "* calculate the proportion of females are married and\n",
    "* calculate the proportion of males are married."
   ]
  },
  {
   "cell_type": "code",
   "execution_count": 15,
   "metadata": {},
   "outputs": [
    {
     "name": "stdout",
     "output_type": "stream",
     "text": [
      "proportion of married female:  0.5031847133757962\n",
      "proportion of married male:  0.5659340659340659\n"
     ]
    }
   ],
   "source": [
    "prop_F = tabl['Female']['Married']/tabl['Female']['All']\n",
    "prop_M = tabl['Male']['Married']/tabl['Male']['All']\n",
    "print( 'proportion of married female: ',prop_F)\n",
    "print('proportion of married male: ',prop_M)"
   ]
  },
  {
   "cell_type": "markdown",
   "metadata": {},
   "source": [
    "## 19. [1 pt] Now,\n",
    "* calculate the odds a females is married and\n",
    "* calculate the odds a males is married."
   ]
  },
  {
   "cell_type": "code",
   "execution_count": 16,
   "metadata": {},
   "outputs": [
    {
     "name": "stdout",
     "output_type": "stream",
     "text": [
      "odds a female is married:  1.0128205128205128\n",
      "odds a male is married:  1.3037974683544302\n"
     ]
    }
   ],
   "source": [
    "odds_F, odds_M = prop_F / (1 - prop_F), prop_M / (1 - prop_M)\n",
    "print('odds a female is married: ',odds_F)\n",
    "print('odds a male is married: ',odds_M)"
   ]
  },
  {
   "cell_type": "markdown",
   "metadata": {},
   "source": [
    "## 20. [1 pt] Finally, \n",
    "* Calculate the odds ratio of FEMALES vs. MALES being married."
   ]
  },
  {
   "cell_type": "code",
   "execution_count": 17,
   "metadata": {},
   "outputs": [
    {
     "data": {
      "text/plain": [
       "0.7768"
      ]
     },
     "execution_count": 17,
     "metadata": {},
     "output_type": "execute_result"
    }
   ],
   "source": [
    "odds_ratio_FM = odds_F / odds_M\n",
    "round(odds_ratio_FM, 4)"
   ]
  },
  {
   "cell_type": "markdown",
   "metadata": {},
   "source": [
    "## 21. [2 pt] Create a new variable y in df_census that is equal to 1 when the 'married' column says 'Married' and is equal to 0 when the 'married' column says 'Not Married'."
   ]
  },
  {
   "cell_type": "code",
   "execution_count": 18,
   "metadata": {},
   "outputs": [
    {
     "data": {
      "text/html": [
       "<div>\n",
       "<style scoped>\n",
       "    .dataframe tbody tr th:only-of-type {\n",
       "        vertical-align: middle;\n",
       "    }\n",
       "\n",
       "    .dataframe tbody tr th {\n",
       "        vertical-align: top;\n",
       "    }\n",
       "\n",
       "    .dataframe thead th {\n",
       "        text-align: right;\n",
       "    }\n",
       "</style>\n",
       "<table border=\"1\" class=\"dataframe\">\n",
       "  <thead>\n",
       "    <tr style=\"text-align: right;\">\n",
       "      <th></th>\n",
       "      <th>state_fips_code</th>\n",
       "      <th>age</th>\n",
       "      <th>sex</th>\n",
       "      <th>marital_status</th>\n",
       "      <th>total_personal_income</th>\n",
       "      <th>log_total_personal_income</th>\n",
       "      <th>married</th>\n",
       "      <th>y</th>\n",
       "    </tr>\n",
       "  </thead>\n",
       "  <tbody>\n",
       "    <tr>\n",
       "      <th>0</th>\n",
       "      <td>Alabama</td>\n",
       "      <td>73</td>\n",
       "      <td>Female</td>\n",
       "      <td>Divorced</td>\n",
       "      <td>3000</td>\n",
       "      <td>3.477121</td>\n",
       "      <td>Not Married</td>\n",
       "      <td>0</td>\n",
       "    </tr>\n",
       "    <tr>\n",
       "      <th>1</th>\n",
       "      <td>Alabama</td>\n",
       "      <td>60</td>\n",
       "      <td>Female</td>\n",
       "      <td>Divorced</td>\n",
       "      <td>11200</td>\n",
       "      <td>4.049218</td>\n",
       "      <td>Not Married</td>\n",
       "      <td>0</td>\n",
       "    </tr>\n",
       "    <tr>\n",
       "      <th>2</th>\n",
       "      <td>Alabama</td>\n",
       "      <td>43</td>\n",
       "      <td>Female</td>\n",
       "      <td>Married</td>\n",
       "      <td>15300</td>\n",
       "      <td>4.184691</td>\n",
       "      <td>Married</td>\n",
       "      <td>1</td>\n",
       "    </tr>\n",
       "    <tr>\n",
       "      <th>3</th>\n",
       "      <td>Alabama</td>\n",
       "      <td>40</td>\n",
       "      <td>Male</td>\n",
       "      <td>Married</td>\n",
       "      <td>47950</td>\n",
       "      <td>4.680789</td>\n",
       "      <td>Married</td>\n",
       "      <td>1</td>\n",
       "    </tr>\n",
       "    <tr>\n",
       "      <th>4</th>\n",
       "      <td>Arizona</td>\n",
       "      <td>27</td>\n",
       "      <td>Male</td>\n",
       "      <td>Married</td>\n",
       "      <td>14000</td>\n",
       "      <td>4.146128</td>\n",
       "      <td>Married</td>\n",
       "      <td>1</td>\n",
       "    </tr>\n",
       "  </tbody>\n",
       "</table>\n",
       "</div>"
      ],
      "text/plain": [
       "  state_fips_code  age     sex marital_status  total_personal_income  \\\n",
       "0         Alabama   73  Female       Divorced                   3000   \n",
       "1         Alabama   60  Female       Divorced                  11200   \n",
       "2         Alabama   43  Female        Married                  15300   \n",
       "3         Alabama   40    Male        Married                  47950   \n",
       "4         Arizona   27    Male        Married                  14000   \n",
       "\n",
       "   log_total_personal_income      married  y  \n",
       "0                   3.477121  Not Married  0  \n",
       "1                   4.049218  Not Married  0  \n",
       "2                   4.184691      Married  1  \n",
       "3                   4.680789      Married  1  \n",
       "4                   4.146128      Married  1  "
      ]
     },
     "execution_count": 18,
     "metadata": {},
     "output_type": "execute_result"
    }
   ],
   "source": [
    "df_census['y']=df_census['married'].map({'Married':1,'Not Married':0})\n",
    "df_census.head()"
   ]
  },
  {
   "cell_type": "markdown",
   "metadata": {},
   "source": [
    "## 22. [1 pt] Fit a logistic regression model where our response variable is 'y' and the explanatory variables are:\n",
    "* sex\n",
    "* age\n",
    "* the interaction of sex and age"
   ]
  },
  {
   "cell_type": "code",
   "execution_count": 19,
   "metadata": {},
   "outputs": [
    {
     "name": "stdout",
     "output_type": "stream",
     "text": [
      "Optimization terminated successfully.\n",
      "         Current function value: 0.671951\n",
      "         Iterations 5\n"
     ]
    },
    {
     "data": {
      "text/html": [
       "<table class=\"simpletable\">\n",
       "<caption>Logit Regression Results</caption>\n",
       "<tr>\n",
       "  <th>Dep. Variable:</th>           <td>y</td>        <th>  No. Observations:  </th>  <td>   339</td> \n",
       "</tr>\n",
       "<tr>\n",
       "  <th>Model:</th>                 <td>Logit</td>      <th>  Df Residuals:      </th>  <td>   335</td> \n",
       "</tr>\n",
       "<tr>\n",
       "  <th>Method:</th>                 <td>MLE</td>       <th>  Df Model:          </th>  <td>     3</td> \n",
       "</tr>\n",
       "<tr>\n",
       "  <th>Date:</th>            <td>Wed, 11 Nov 2020</td> <th>  Pseudo R-squ.:     </th>  <td>0.02676</td>\n",
       "</tr>\n",
       "<tr>\n",
       "  <th>Time:</th>                <td>10:09:02</td>     <th>  Log-Likelihood:    </th> <td> -227.79</td>\n",
       "</tr>\n",
       "<tr>\n",
       "  <th>converged:</th>             <td>True</td>       <th>  LL-Null:           </th> <td> -234.05</td>\n",
       "</tr>\n",
       "<tr>\n",
       "  <th>Covariance Type:</th>     <td>nonrobust</td>    <th>  LLR p-value:       </th> <td>0.005783</td>\n",
       "</tr>\n",
       "</table>\n",
       "<table class=\"simpletable\">\n",
       "<tr>\n",
       "         <td></td>            <th>coef</th>     <th>std err</th>      <th>z</th>      <th>P>|z|</th>  <th>[0.025</th>    <th>0.975]</th>  \n",
       "</tr>\n",
       "<tr>\n",
       "  <th>Intercept</th>       <td>    0.1615</td> <td>    0.416</td> <td>    0.388</td> <td> 0.698</td> <td>   -0.654</td> <td>    0.977</td>\n",
       "</tr>\n",
       "<tr>\n",
       "  <th>sex[T.Male]</th>     <td>   -1.2595</td> <td>    0.611</td> <td>   -2.061</td> <td> 0.039</td> <td>   -2.457</td> <td>   -0.062</td>\n",
       "</tr>\n",
       "<tr>\n",
       "  <th>age</th>             <td>   -0.0034</td> <td>    0.009</td> <td>   -0.387</td> <td> 0.698</td> <td>   -0.020</td> <td>    0.014</td>\n",
       "</tr>\n",
       "<tr>\n",
       "  <th>sex[T.Male]:age</th> <td>    0.0347</td> <td>    0.013</td> <td>    2.642</td> <td> 0.008</td> <td>    0.009</td> <td>    0.060</td>\n",
       "</tr>\n",
       "</table>"
      ],
      "text/plain": [
       "<class 'statsmodels.iolib.summary.Summary'>\n",
       "\"\"\"\n",
       "                           Logit Regression Results                           \n",
       "==============================================================================\n",
       "Dep. Variable:                      y   No. Observations:                  339\n",
       "Model:                          Logit   Df Residuals:                      335\n",
       "Method:                           MLE   Df Model:                            3\n",
       "Date:                Wed, 11 Nov 2020   Pseudo R-squ.:                 0.02676\n",
       "Time:                        10:09:02   Log-Likelihood:                -227.79\n",
       "converged:                       True   LL-Null:                       -234.05\n",
       "Covariance Type:            nonrobust   LLR p-value:                  0.005783\n",
       "===================================================================================\n",
       "                      coef    std err          z      P>|z|      [0.025      0.975]\n",
       "-----------------------------------------------------------------------------------\n",
       "Intercept           0.1615      0.416      0.388      0.698      -0.654       0.977\n",
       "sex[T.Male]        -1.2595      0.611     -2.061      0.039      -2.457      -0.062\n",
       "age                -0.0034      0.009     -0.387      0.698      -0.020       0.014\n",
       "sex[T.Male]:age     0.0347      0.013      2.642      0.008       0.009       0.060\n",
       "===================================================================================\n",
       "\"\"\""
      ]
     },
     "execution_count": 19,
     "metadata": {},
     "output_type": "execute_result"
    }
   ],
   "source": [
    "mod2 = smf.logit(formula='y ~ sex + age + sex*age', data=df_census).fit()\n",
    "mod2.summary()"
   ]
  },
  {
   "cell_type": "markdown",
   "metadata": {},
   "source": [
    "## 23. [1 pt] Formulate the model (in log-odds form)."
   ]
  },
  {
   "cell_type": "markdown",
   "metadata": {},
   "source": [
    "$\\log\\left({p\\over 1-p}\\right)$= 0.1615 - 1.2595 * Sex_Male - 0.0034 * Age + 0.0347 * (Male.Age)"
   ]
  },
  {
   "cell_type": "markdown",
   "metadata": {},
   "source": [
    "## 24. [2 pt] Use this model to predict the ODDS (not the log-odds) that a 30 year old female is married."
   ]
  },
  {
   "cell_type": "markdown",
   "metadata": {},
   "source": [
    "$$\n",
    "\\mbox{odds} = {p \\over 1 - p} = e^{0.1615} * (e^{-1.2595})^\\mbox{Sex_Male} * (e^{-0.0034})^{Age} * (e^{0.0347})^\\mbox{Male.Age}\n",
    "$$"
   ]
  },
  {
   "cell_type": "code",
   "execution_count": 20,
   "metadata": {},
   "outputs": [
    {
     "data": {
      "text/plain": [
       "1.0613057609795364"
      ]
     },
     "execution_count": 20,
     "metadata": {},
     "output_type": "execute_result"
    }
   ],
   "source": [
    "np.exp(0.1615-(0.0034*30))"
   ]
  },
  {
   "cell_type": "markdown",
   "metadata": {},
   "source": [
    "## 25. [1 pt] Is there sufficient evidence to suggest that the population slope for age in this model is non-zero. Explain. (Use $\\alpha=0.05$)."
   ]
  },
  {
   "cell_type": "code",
   "execution_count": 21,
   "metadata": {},
   "outputs": [
    {
     "data": {
      "text/html": [
       "<table class=\"simpletable\">\n",
       "<tr>\n",
       "         <td></td>            <th>coef</th>     <th>std err</th>      <th>z</th>      <th>P>|z|</th>  <th>[0.025</th>    <th>0.975]</th>  \n",
       "</tr>\n",
       "<tr>\n",
       "  <th>Intercept</th>       <td>    0.1615</td> <td>    0.416</td> <td>    0.388</td> <td> 0.698</td> <td>   -0.654</td> <td>    0.977</td>\n",
       "</tr>\n",
       "<tr>\n",
       "  <th>sex[T.Male]</th>     <td>   -1.2595</td> <td>    0.611</td> <td>   -2.061</td> <td> 0.039</td> <td>   -2.457</td> <td>   -0.062</td>\n",
       "</tr>\n",
       "<tr>\n",
       "  <th>age</th>             <td>   -0.0034</td> <td>    0.009</td> <td>   -0.387</td> <td> 0.698</td> <td>   -0.020</td> <td>    0.014</td>\n",
       "</tr>\n",
       "<tr>\n",
       "  <th>sex[T.Male]:age</th> <td>    0.0347</td> <td>    0.013</td> <td>    2.642</td> <td> 0.008</td> <td>    0.009</td> <td>    0.060</td>\n",
       "</tr>\n",
       "</table>"
      ],
      "text/plain": [
       "<class 'statsmodels.iolib.table.SimpleTable'>"
      ]
     },
     "execution_count": 21,
     "metadata": {},
     "output_type": "execute_result"
    }
   ],
   "source": [
    "mod2.summary().tables[1]"
   ]
  },
  {
   "cell_type": "markdown",
   "metadata": {},
   "source": [
    "The test statistic of the population slope for age in this model is z=0.387 and p_value=0.698 > $\\alpha=0.05$. We fail to reject the null hypothesis. Thus, there is not sufficient evidence to suggest that the population slope for age is non-zero"
   ]
  }
 ],
 "metadata": {
  "kernelspec": {
   "display_name": "Python 3",
   "language": "python",
   "name": "python3"
  },
  "language_info": {
   "codemirror_mode": {
    "name": "ipython",
    "version": 3
   },
   "file_extension": ".py",
   "mimetype": "text/x-python",
   "name": "python",
   "nbconvert_exporter": "python",
   "pygments_lexer": "ipython3",
   "version": "3.8.5"
  }
 },
 "nbformat": 4,
 "nbformat_minor": 4
}
