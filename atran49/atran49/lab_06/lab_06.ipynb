{
 "cells": [
  {
   "cell_type": "markdown",
   "metadata": {},
   "source": [
    "## STAT 207 Lab 6: Confidence Intervals and Hypothesis Tests"
   ]
  },
  {
   "cell_type": "markdown",
   "metadata": {},
   "source": [
    "Due: Tuesday, October 13, 23:59:59 CST"
   ]
  },
  {
   "cell_type": "markdown",
   "metadata": {},
   "source": [
    "### Tuan Tran- atran49"
   ]
  },
  {
   "cell_type": "markdown",
   "metadata": {},
   "source": [
    "This lab consists of three main parts. We will analyze the lead exposure data, and data from a study of mother's smoking status and child's birth weight."
   ]
  },
  {
   "cell_type": "markdown",
   "metadata": {},
   "source": [
    "### Part 1: Preliminary analysis of lead study (9 pts)\n",
    "\n",
    "The file 'leadstudy.csv' is included in the same folder as this lab notebook. It contains data from the lead exposure study discussed in our class notes. We will focus on the response variable 'fulliq', which is an IQ test measurement, and the lead exposure level 'group', which has the values 'lead < 40' and 'lead >= 40'.\n",
    "\n",
    "**a) (1 pt) Read 'leadstudy.csv' into a data frame and display the first 5 rows.**"
   ]
  },
  {
   "cell_type": "code",
   "execution_count": 1,
   "metadata": {},
   "outputs": [],
   "source": [
    "import pandas as pd"
   ]
  },
  {
   "cell_type": "code",
   "execution_count": 2,
   "metadata": {},
   "outputs": [
    {
     "data": {
      "text/html": [
       "<div>\n",
       "<style scoped>\n",
       "    .dataframe tbody tr th:only-of-type {\n",
       "        vertical-align: middle;\n",
       "    }\n",
       "\n",
       "    .dataframe tbody tr th {\n",
       "        vertical-align: top;\n",
       "    }\n",
       "\n",
       "    .dataframe thead th {\n",
       "        text-align: right;\n",
       "    }\n",
       "</style>\n",
       "<table border=\"1\" class=\"dataframe\">\n",
       "  <thead>\n",
       "    <tr style=\"text-align: right;\">\n",
       "      <th></th>\n",
       "      <th>id</th>\n",
       "      <th>age</th>\n",
       "      <th>sex</th>\n",
       "      <th>status</th>\n",
       "      <th>verbiq</th>\n",
       "      <th>perfiq</th>\n",
       "      <th>fulliq</th>\n",
       "      <th>iqtype</th>\n",
       "      <th>totyrs</th>\n",
       "      <th>group</th>\n",
       "    </tr>\n",
       "  </thead>\n",
       "  <tbody>\n",
       "    <tr>\n",
       "      <th>0</th>\n",
       "      <td>101</td>\n",
       "      <td>11.083333</td>\n",
       "      <td>M</td>\n",
       "      <td>77</td>\n",
       "      <td>61</td>\n",
       "      <td>85</td>\n",
       "      <td>70</td>\n",
       "      <td>WISC</td>\n",
       "      <td>11</td>\n",
       "      <td>lead &lt; 40</td>\n",
       "    </tr>\n",
       "    <tr>\n",
       "      <th>1</th>\n",
       "      <td>102</td>\n",
       "      <td>9.416667</td>\n",
       "      <td>M</td>\n",
       "      <td>77</td>\n",
       "      <td>82</td>\n",
       "      <td>90</td>\n",
       "      <td>85</td>\n",
       "      <td>WISC</td>\n",
       "      <td>6</td>\n",
       "      <td>lead &lt; 40</td>\n",
       "    </tr>\n",
       "    <tr>\n",
       "      <th>2</th>\n",
       "      <td>103</td>\n",
       "      <td>11.083333</td>\n",
       "      <td>M</td>\n",
       "      <td>30</td>\n",
       "      <td>70</td>\n",
       "      <td>107</td>\n",
       "      <td>86</td>\n",
       "      <td>WISC</td>\n",
       "      <td>5</td>\n",
       "      <td>lead &lt; 40</td>\n",
       "    </tr>\n",
       "    <tr>\n",
       "      <th>3</th>\n",
       "      <td>104</td>\n",
       "      <td>6.916667</td>\n",
       "      <td>M</td>\n",
       "      <td>77</td>\n",
       "      <td>72</td>\n",
       "      <td>85</td>\n",
       "      <td>76</td>\n",
       "      <td>WISC</td>\n",
       "      <td>5</td>\n",
       "      <td>lead &lt; 40</td>\n",
       "    </tr>\n",
       "    <tr>\n",
       "      <th>4</th>\n",
       "      <td>105</td>\n",
       "      <td>11.250000</td>\n",
       "      <td>M</td>\n",
       "      <td>62</td>\n",
       "      <td>72</td>\n",
       "      <td>100</td>\n",
       "      <td>84</td>\n",
       "      <td>WISC</td>\n",
       "      <td>11</td>\n",
       "      <td>lead &lt; 40</td>\n",
       "    </tr>\n",
       "  </tbody>\n",
       "</table>\n",
       "</div>"
      ],
      "text/plain": [
       "    id        age sex  status  verbiq  perfiq  fulliq iqtype  totyrs  \\\n",
       "0  101  11.083333   M      77      61      85      70   WISC      11   \n",
       "1  102   9.416667   M      77      82      90      85   WISC       6   \n",
       "2  103  11.083333   M      30      70     107      86   WISC       5   \n",
       "3  104   6.916667   M      77      72      85      76   WISC       5   \n",
       "4  105  11.250000   M      62      72     100      84   WISC      11   \n",
       "\n",
       "       group  \n",
       "0  lead < 40  \n",
       "1  lead < 40  \n",
       "2  lead < 40  \n",
       "3  lead < 40  \n",
       "4  lead < 40  "
      ]
     },
     "execution_count": 2,
     "metadata": {},
     "output_type": "execute_result"
    }
   ],
   "source": [
    "df=pd.read_csv('leadstudy.csv')\n",
    "df.head(5)"
   ]
  },
  {
   "cell_type": "markdown",
   "metadata": {},
   "source": [
    "**b) (2 pts) Display a histogram of 'fulliq'. On the histogram plot include a vertical line at the value x=100, to indicate the value that is expected to be the mean value in a typical population. See examples of graphs with vertical lines in the class notes and online documentation for matplotlib.pyplot.vlines.**"
   ]
  },
  {
   "cell_type": "code",
   "execution_count": 3,
   "metadata": {},
   "outputs": [],
   "source": [
    "import matplotlib.pyplot as plt\n",
    "import seaborn as sns; sns.set()\n",
    "import numpy as np"
   ]
  },
  {
   "cell_type": "code",
   "execution_count": 4,
   "metadata": {},
   "outputs": [
    {
     "data": {
      "image/png": "[encoded data removed]",
      "text/plain": [
       "<Figure size 432x288 with 1 Axes>"
      ]
     },
     "metadata": {},
     "output_type": "display_data"
    }
   ],
   "source": [
    "df['fulliq'].hist()\n",
    "plt.axvline(x=100,color='black')\n",
    "plt.show()"
   ]
  },
  {
   "cell_type": "markdown",
   "metadata": {},
   "source": [
    "**c) (3 pts) Compute and display the sample size n, the sample mean, the sample standard deviation and the standard error for the mean of the variable 'fulliq'.**"
   ]
  },
  {
   "cell_type": "code",
   "execution_count": 5,
   "metadata": {},
   "outputs": [],
   "source": [
    "fulliq=pd.Series(df['fulliq'])\n",
    "n=len(fulliq)\n",
    "mn=fulliq.mean()\n",
    "std=fulliq.std()\n",
    "se=fulliq.std()/np.sqrt(n)"
   ]
  },
  {
   "cell_type": "code",
   "execution_count": 6,
   "metadata": {},
   "outputs": [
    {
     "name": "stdout",
     "output_type": "stream",
     "text": [
      "sample size:  124\n",
      "sample mean:  91.08064516129032\n",
      "sample standard deviation:  14.403927182528031\n",
      "standard error:  1.2935108459948101\n"
     ]
    }
   ],
   "source": [
    "print(\"sample size: \",n)\n",
    "print(\"sample mean: \",mn)\n",
    "print(\"sample standard deviation: \",std)\n",
    "print(\"standard error: \",se)"
   ]
  },
  {
   "cell_type": "markdown",
   "metadata": {},
   "source": [
    "**d) (2 pts) Compute an approximate 92% confidence interval for the mean value of 'fulliq' for this population of children.**"
   ]
  },
  {
   "cell_type": "code",
   "execution_count": 7,
   "metadata": {},
   "outputs": [],
   "source": [
    "from scipy.stats import norm"
   ]
  },
  {
   "cell_type": "code",
   "execution_count": 8,
   "metadata": {},
   "outputs": [
    {
     "name": "stdout",
     "output_type": "stream",
     "text": [
      "Confidence limits:  (88.816, 93.345)\n"
     ]
    }
   ],
   "source": [
    "conf=0.92\n",
    "zq=norm.ppf((1+conf)/2)\n",
    "print(\"Confidence limits: \",(round(mn-zq*se,3),round(mn+zq*se,3)))"
   ]
  },
  {
   "cell_type": "markdown",
   "metadata": {},
   "source": [
    "**e) (1 pt) Based on your results, is the population mean signficiantly different from the standard value of 100 at an $\\alpha$ significance level of 0.08?**"
   ]
  },
  {
   "cell_type": "markdown",
   "metadata": {},
   "source": [
    "The confidence intertal does not contain the value 100. The population mean is significantly different from the standard value of 100 at an $\\alpha$ significance level of 0.08"
   ]
  },
  {
   "cell_type": "markdown",
   "metadata": {},
   "source": [
    "### Part 2: Comparison of subgroups in the lead study (6 pts)\n",
    "\n",
    "In this part we analyze the relation between exposure group and 'fulliq'. We compare the mean 'fulliq' for low lead exposure ('group'=='lead < 40') and high exposure ('group'== 'lead >= 40'). We will determine if there is a statistically significant difference."
   ]
  },
  {
   "cell_type": "markdown",
   "metadata": {},
   "source": [
    "**a) (2 pts) For the low exposure group ('lead < 40'), compute the number of observations (nobs), sample mean (xbar), sample standard deviation (s) and standard error for the mean (se). Display the results with labels.**"
   ]
  },
  {
   "cell_type": "code",
   "execution_count": 9,
   "metadata": {},
   "outputs": [
    {
     "data": {
      "text/html": [
       "<div>\n",
       "<style scoped>\n",
       "    .dataframe tbody tr th:only-of-type {\n",
       "        vertical-align: middle;\n",
       "    }\n",
       "\n",
       "    .dataframe tbody tr th {\n",
       "        vertical-align: top;\n",
       "    }\n",
       "\n",
       "    .dataframe thead th {\n",
       "        text-align: right;\n",
       "    }\n",
       "</style>\n",
       "<table border=\"1\" class=\"dataframe\">\n",
       "  <thead>\n",
       "    <tr style=\"text-align: right;\">\n",
       "      <th></th>\n",
       "      <th>observations</th>\n",
       "      <th>mean</th>\n",
       "      <th>std</th>\n",
       "      <th>se</th>\n",
       "    </tr>\n",
       "  </thead>\n",
       "  <tbody>\n",
       "    <tr>\n",
       "      <th>value</th>\n",
       "      <td>78</td>\n",
       "      <td>92.884615</td>\n",
       "      <td>15.344512</td>\n",
       "      <td>1.737424</td>\n",
       "    </tr>\n",
       "  </tbody>\n",
       "</table>\n",
       "</div>"
      ],
      "text/plain": [
       "       observations       mean        std        se\n",
       "value            78  92.884615  15.344512  1.737424"
      ]
     },
     "execution_count": 9,
     "metadata": {},
     "output_type": "execute_result"
    }
   ],
   "source": [
    "low=df['fulliq'][df['group']=='lead < 40']\n",
    "n1=len(low)\n",
    "mn1=low.mean()\n",
    "std1=low.std()\n",
    "se1=std1/np.sqrt(n1)\n",
    "pd.DataFrame({'observations': [n1], \n",
    "              'mean': [mn1],\n",
    "              'std':[std1],\n",
    "              'se':[se1]}, \n",
    "             index=['value'])"
   ]
  },
  {
   "cell_type": "markdown",
   "metadata": {},
   "source": [
    "**b) (1 pt) For the high exposure group ('lead >= 40'), compute the number of observations (nobs), sample mean (xbar), sample standard deviation (s) and standard error for the mean (se). Display the results with labels.**"
   ]
  },
  {
   "cell_type": "code",
   "execution_count": 10,
   "metadata": {},
   "outputs": [
    {
     "data": {
      "text/html": [
       "<div>\n",
       "<style scoped>\n",
       "    .dataframe tbody tr th:only-of-type {\n",
       "        vertical-align: middle;\n",
       "    }\n",
       "\n",
       "    .dataframe tbody tr th {\n",
       "        vertical-align: top;\n",
       "    }\n",
       "\n",
       "    .dataframe thead th {\n",
       "        text-align: right;\n",
       "    }\n",
       "</style>\n",
       "<table border=\"1\" class=\"dataframe\">\n",
       "  <thead>\n",
       "    <tr style=\"text-align: right;\">\n",
       "      <th></th>\n",
       "      <th>observations</th>\n",
       "      <th>mean</th>\n",
       "      <th>std</th>\n",
       "      <th>se</th>\n",
       "    </tr>\n",
       "  </thead>\n",
       "  <tbody>\n",
       "    <tr>\n",
       "      <th>value</th>\n",
       "      <td>46</td>\n",
       "      <td>88.021739</td>\n",
       "      <td>12.206536</td>\n",
       "      <td>1.799756</td>\n",
       "    </tr>\n",
       "  </tbody>\n",
       "</table>\n",
       "</div>"
      ],
      "text/plain": [
       "       observations       mean        std        se\n",
       "value            46  88.021739  12.206536  1.799756"
      ]
     },
     "execution_count": 10,
     "metadata": {},
     "output_type": "execute_result"
    }
   ],
   "source": [
    "high=df['fulliq'][df['group']=='lead >= 40']\n",
    "n2=len(high)\n",
    "mn2=high.mean()\n",
    "std2=high.std()\n",
    "se2=std2/np.sqrt(n2)\n",
    "pd.DataFrame({'observations': [n2], \n",
    "              'mean': [mn2],\n",
    "              'std':[std2],\n",
    "              'se':[se2]}, \n",
    "             index=['value'])"
   ]
  },
  {
   "cell_type": "markdown",
   "metadata": {},
   "source": [
    "**c) (3 pts) Use the ttest_ind function from scipy.stats, or the related myttest_ind function we defined in class notes, to test the null hypothesis of no mean difference in 'fulliq' between the low exposure and high exposure groups in the population. Report the value of the t-test statistic and the p-value.**"
   ]
  },
  {
   "cell_type": "code",
   "execution_count": 11,
   "metadata": {},
   "outputs": [],
   "source": [
    "from scipy.stats import t\n",
    "from scipy.stats import ttest_ind\n",
    "import numpy as np"
   ]
  },
  {
   "cell_type": "code",
   "execution_count": 12,
   "metadata": {},
   "outputs": [
    {
     "data": {
      "text/plain": [
       "Ttest_indResult(statistic=-1.9439438351740033, pvalue=0.054423965479957315)"
      ]
     },
     "execution_count": 12,
     "metadata": {},
     "output_type": "execute_result"
    }
   ],
   "source": [
    "ttest_ind(high,low, equal_var=False)"
   ]
  },
  {
   "cell_type": "markdown",
   "metadata": {},
   "source": [
    "### Part 3: Birthweight versus mother's smoking status (10 pts)\n",
    "\n",
    "As reported in Hosmer, D.W. and Lemeshow, S. (1989) *Applied Logistic Regression*. New York: Wiley, data on birth weights of newborn babies and smoking status of their mothers were collected at Baystate Medical Center, Springfield, Mass during 1986. It was recorded whether or not the child had a low birthweight below a certain threshold weight, and whether or not the mother had smoked during pregnancy.\n",
    "\n",
    "There were 189 births in the study. Of those, 59 of the mothers were smokers, and 130 were nonsmokers during pregnancy:"
   ]
  },
  {
   "cell_type": "code",
   "execution_count": 13,
   "metadata": {},
   "outputs": [
    {
     "name": "stdout",
     "output_type": "stream",
     "text": [
      "nobs:\n",
      "smoker        59\n",
      "nonsmoker    130\n"
     ]
    }
   ],
   "source": [
    "nobs = pd.Series([59, 130], index=['smoker', 'nonsmoker'])\n",
    "print('nobs:')\n",
    "print(nobs.to_string(dtype=False))"
   ]
  },
  {
   "cell_type": "markdown",
   "metadata": {},
   "source": [
    "The frequency of low birthweight was 30 among the smokers and 44 among nonsmokers:"
   ]
  },
  {
   "cell_type": "code",
   "execution_count": 14,
   "metadata": {},
   "outputs": [
    {
     "name": "stdout",
     "output_type": "stream",
     "text": [
      "low_bwt:\n",
      "smoker       30\n",
      "nonsmoker    44\n"
     ]
    }
   ],
   "source": [
    "low_bwt = pd.Series([30, 44], index=['smoker', 'nonsmoker'])\n",
    "print('low_bwt:')\n",
    "print(low_bwt.to_string(dtype=False))"
   ]
  },
  {
   "cell_type": "markdown",
   "metadata": {},
   "source": [
    "**a) (2 pts) Compute the sample proportions of low birth weight for smokers and nonsmokers. Make sure the output labels the two proportions so we know which group corresponds to which proportion.**"
   ]
  },
  {
   "cell_type": "code",
   "execution_count": 15,
   "metadata": {},
   "outputs": [
    {
     "data": {
      "text/html": [
       "<div>\n",
       "<style scoped>\n",
       "    .dataframe tbody tr th:only-of-type {\n",
       "        vertical-align: middle;\n",
       "    }\n",
       "\n",
       "    .dataframe tbody tr th {\n",
       "        vertical-align: top;\n",
       "    }\n",
       "\n",
       "    .dataframe thead th {\n",
       "        text-align: right;\n",
       "    }\n",
       "</style>\n",
       "<table border=\"1\" class=\"dataframe\">\n",
       "  <thead>\n",
       "    <tr style=\"text-align: right;\">\n",
       "      <th></th>\n",
       "      <th>Smoker</th>\n",
       "      <th>Nonsmoker</th>\n",
       "    </tr>\n",
       "  </thead>\n",
       "  <tbody>\n",
       "    <tr>\n",
       "      <th>prop</th>\n",
       "      <td>0.508475</td>\n",
       "      <td>0.338462</td>\n",
       "    </tr>\n",
       "  </tbody>\n",
       "</table>\n",
       "</div>"
      ],
      "text/plain": [
       "        Smoker  Nonsmoker\n",
       "prop  0.508475   0.338462"
      ]
     },
     "execution_count": 15,
     "metadata": {},
     "output_type": "execute_result"
    }
   ],
   "source": [
    "n1=59\n",
    "n2=130\n",
    "p_smo=30/n1\n",
    "p_nsmo=44/n2\n",
    "pd.DataFrame({'Smoker': [p_smo], \n",
    "              'Nonsmoker': [p_nsmo]}, \n",
    "             index=['prop'])"
   ]
  },
  {
   "cell_type": "markdown",
   "metadata": {},
   "source": [
    "**b) (2 pts) Considering the sample proportions to be estimates of population proportions for smokers and nonsmokers, compute standard errors for the two proportions.**"
   ]
  },
  {
   "cell_type": "code",
   "execution_count": 16,
   "metadata": {},
   "outputs": [
    {
     "data": {
      "text/html": [
       "<div>\n",
       "<style scoped>\n",
       "    .dataframe tbody tr th:only-of-type {\n",
       "        vertical-align: middle;\n",
       "    }\n",
       "\n",
       "    .dataframe tbody tr th {\n",
       "        vertical-align: top;\n",
       "    }\n",
       "\n",
       "    .dataframe thead th {\n",
       "        text-align: right;\n",
       "    }\n",
       "</style>\n",
       "<table border=\"1\" class=\"dataframe\">\n",
       "  <thead>\n",
       "    <tr style=\"text-align: right;\">\n",
       "      <th></th>\n",
       "      <th>Smoker</th>\n",
       "      <th>Nonsmoker</th>\n",
       "    </tr>\n",
       "  </thead>\n",
       "  <tbody>\n",
       "    <tr>\n",
       "      <th>srandard_err</th>\n",
       "      <td>0.065085</td>\n",
       "      <td>0.041501</td>\n",
       "    </tr>\n",
       "  </tbody>\n",
       "</table>\n",
       "</div>"
      ],
      "text/plain": [
       "                Smoker  Nonsmoker\n",
       "srandard_err  0.065085   0.041501"
      ]
     },
     "execution_count": 16,
     "metadata": {},
     "output_type": "execute_result"
    }
   ],
   "source": [
    "se_smo=np.sqrt(p_smo*(1-p_smo)/n1)\n",
    "se_nsmo=np.sqrt(p_nsmo*(1-p_nsmo)/n2)\n",
    "pd.DataFrame({'Smoker': [se_smo], \n",
    "              'Nonsmoker': [se_nsmo]}, \n",
    "             index=['srandard_err'])"
   ]
  },
  {
   "cell_type": "markdown",
   "metadata": {},
   "source": [
    "**c) (2 pts) Compute the difference between the two proportions, and the standard error for the difference.**"
   ]
  },
  {
   "cell_type": "code",
   "execution_count": 17,
   "metadata": {},
   "outputs": [
    {
     "data": {
      "text/html": [
       "<div>\n",
       "<style scoped>\n",
       "    .dataframe tbody tr th:only-of-type {\n",
       "        vertical-align: middle;\n",
       "    }\n",
       "\n",
       "    .dataframe tbody tr th {\n",
       "        vertical-align: top;\n",
       "    }\n",
       "\n",
       "    .dataframe thead th {\n",
       "        text-align: right;\n",
       "    }\n",
       "</style>\n",
       "<table border=\"1\" class=\"dataframe\">\n",
       "  <thead>\n",
       "    <tr style=\"text-align: right;\">\n",
       "      <th></th>\n",
       "      <th>Proportions</th>\n",
       "      <th>Standard_err</th>\n",
       "    </tr>\n",
       "  </thead>\n",
       "  <tbody>\n",
       "    <tr>\n",
       "      <th>Difference</th>\n",
       "      <td>0.170013</td>\n",
       "      <td>0.077191</td>\n",
       "    </tr>\n",
       "  </tbody>\n",
       "</table>\n",
       "</div>"
      ],
      "text/plain": [
       "            Proportions  Standard_err\n",
       "Difference     0.170013      0.077191"
      ]
     },
     "execution_count": 17,
     "metadata": {},
     "output_type": "execute_result"
    }
   ],
   "source": [
    "p_diff=p_smo-p_nsmo\n",
    "se_diff=np.sqrt(se_smo**2+se_nsmo**2)\n",
    "pd.DataFrame({'Proportions': [p_diff], \n",
    "              'Standard_err': [se_diff]}, \n",
    "             index=['Difference'])"
   ]
  },
  {
   "cell_type": "markdown",
   "metadata": {},
   "source": [
    "**d) (2 pts) Compute the z-value and p-value for testing the null hypothesis $H_0: p_{smoker} - p_{nonsmoker} = 0$.**"
   ]
  },
  {
   "cell_type": "code",
   "execution_count": 18,
   "metadata": {},
   "outputs": [
    {
     "name": "stdout",
     "output_type": "stream",
     "text": [
      "z-value:  2.2025039105528714\n",
      "p-value:  0.02762973320269138\n"
     ]
    }
   ],
   "source": [
    "z_val=p_diff/se_diff\n",
    "p_val= 2*norm.cdf(-abs(z_val))\n",
    "print(\"z-value: \",z_val)\n",
    "print(\"p-value: \",p_val)"
   ]
  },
  {
   "cell_type": "code",
   "execution_count": 19,
   "metadata": {},
   "outputs": [
    {
     "name": "stdout",
     "output_type": "stream",
     "text": [
      "z-value:  2.218942413484697\n",
      "p-value:  0.026490642530502425\n"
     ]
    }
   ],
   "source": [
    "#I use the pooled proportion for making sure that the values in 3d and 3e matches each other\n",
    "p_hat=(30+44)/189\n",
    "z=(p_diff)/((p_hat*(1-p_hat)*((1/n1)+(1/n2))))**0.5\n",
    "p=2*norm.cdf(-abs(z))\n",
    "print(\"z-value: \",z)\n",
    "print(\"p-value: \",p)"
   ]
  },
  {
   "cell_type": "markdown",
   "metadata": {},
   "source": [
    "**e) (2 pts) Use the proportions_ztest function from the statsmodels.stats.proportion library to test the hypothesis in d).**"
   ]
  },
  {
   "cell_type": "code",
   "execution_count": 20,
   "metadata": {},
   "outputs": [],
   "source": [
    "from statsmodels.stats.proportion import proportions_ztest"
   ]
  },
  {
   "cell_type": "code",
   "execution_count": 21,
   "metadata": {},
   "outputs": [
    {
     "name": "stdout",
     "output_type": "stream",
     "text": [
      "z_obs:2.218942413484697, p_obs:0.026490642530502425\n"
     ]
    }
   ],
   "source": [
    "zv, pv = proportions_ztest(low_bwt,nobs)\n",
    "print(\"z_obs:\"+str(zv)+\", p_obs:\"+ str(pv))"
   ]
  }
 ],
 "metadata": {
  "kernelspec": {
   "display_name": "Python 3",
   "language": "python",
   "name": "python3"
  },
  "language_info": {
   "codemirror_mode": {
    "name": "ipython",
    "version": 3
   },
   "file_extension": ".py",
   "mimetype": "text/x-python",
   "name": "python",
   "nbconvert_exporter": "python",
   "pygments_lexer": "ipython3",
   "version": "3.8.3"
  }
 },
 "nbformat": 4,
 "nbformat_minor": 2
}
